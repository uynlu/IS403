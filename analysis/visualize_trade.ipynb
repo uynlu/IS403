{
 "cells": [
  {
   "cell_type": "code",
   "execution_count": null,
   "id": "9d1eb08c",
   "metadata": {},
   "outputs": [
    {
     "name": "stdout",
     "output_type": "stream",
     "text": [
      "Thư mục làm việc hiện tại: D:\\UIT\\HK\\HK6\\IS403\\Đồ án\\Source code\n"
     ]
    }
   ],
   "source": [
    "import os\n",
    "os.chdir(\"D:\\\\UIT\\\\HK\\\\HK6\\\\IS403\\\\Đồ án\\\\Source code\")\n",
    "print(\"Thư mục làm việc hiện tại:\", os.getcwd())"
   ]
  },
  {
   "cell_type": "markdown",
   "id": "00d991d6",
   "metadata": {},
   "source": [
    "# Import modules"
   ]
  },
  {
   "cell_type": "code",
   "execution_count": 2,
   "id": "63cb3262",
   "metadata": {},
   "outputs": [],
   "source": [
    "import pandas as pd"
   ]
  },
  {
   "cell_type": "code",
   "execution_count": 3,
   "id": "80bcd48b",
   "metadata": {},
   "outputs": [],
   "source": [
    "from utils import convert_str_to_datetime"
   ]
  },
  {
   "cell_type": "code",
   "execution_count": 4,
   "id": "9ba02134",
   "metadata": {},
   "outputs": [],
   "source": [
    "import plotly.graph_objects as go"
   ]
  },
  {
   "cell_type": "markdown",
   "id": "3483171f",
   "metadata": {},
   "source": [
    "# Load data"
   ]
  },
  {
   "cell_type": "code",
   "execution_count": null,
   "id": "da24d5c1",
   "metadata": {},
   "outputs": [
    {
     "data": {
      "text/html": [
       "<div>\n",
       "<style scoped>\n",
       "    .dataframe tbody tr th:only-of-type {\n",
       "        vertical-align: middle;\n",
       "    }\n",
       "\n",
       "    .dataframe tbody tr th {\n",
       "        vertical-align: top;\n",
       "    }\n",
       "\n",
       "    .dataframe thead th {\n",
       "        text-align: right;\n",
       "    }\n",
       "</style>\n",
       "<table border=\"1\" class=\"dataframe\">\n",
       "  <thead>\n",
       "    <tr style=\"text-align: right;\">\n",
       "      <th></th>\n",
       "      <th>Time</th>\n",
       "      <th>Open</th>\n",
       "      <th>High</th>\n",
       "      <th>Low</th>\n",
       "      <th>Close</th>\n",
       "      <th>Volume</th>\n",
       "    </tr>\n",
       "  </thead>\n",
       "  <tbody>\n",
       "    <tr>\n",
       "      <th>0</th>\n",
       "      <td>2022-01-04</td>\n",
       "      <td>44.74</td>\n",
       "      <td>44.97</td>\n",
       "      <td>44.18</td>\n",
       "      <td>44.74</td>\n",
       "      <td>1133800</td>\n",
       "    </tr>\n",
       "    <tr>\n",
       "      <th>1</th>\n",
       "      <td>2022-01-05</td>\n",
       "      <td>44.74</td>\n",
       "      <td>45.54</td>\n",
       "      <td>44.18</td>\n",
       "      <td>44.18</td>\n",
       "      <td>1603100</td>\n",
       "    </tr>\n",
       "    <tr>\n",
       "      <th>2</th>\n",
       "      <td>2022-01-06</td>\n",
       "      <td>44.52</td>\n",
       "      <td>45.25</td>\n",
       "      <td>44.12</td>\n",
       "      <td>44.80</td>\n",
       "      <td>1215600</td>\n",
       "    </tr>\n",
       "    <tr>\n",
       "      <th>3</th>\n",
       "      <td>2022-01-07</td>\n",
       "      <td>45.08</td>\n",
       "      <td>45.25</td>\n",
       "      <td>44.29</td>\n",
       "      <td>45.20</td>\n",
       "      <td>966200</td>\n",
       "    </tr>\n",
       "    <tr>\n",
       "      <th>4</th>\n",
       "      <td>2022-01-10</td>\n",
       "      <td>45.14</td>\n",
       "      <td>45.25</td>\n",
       "      <td>44.46</td>\n",
       "      <td>45.03</td>\n",
       "      <td>1097000</td>\n",
       "    </tr>\n",
       "    <tr>\n",
       "      <th>...</th>\n",
       "      <td>...</td>\n",
       "      <td>...</td>\n",
       "      <td>...</td>\n",
       "      <td>...</td>\n",
       "      <td>...</td>\n",
       "      <td>...</td>\n",
       "    </tr>\n",
       "    <tr>\n",
       "      <th>801</th>\n",
       "      <td>2025-03-25</td>\n",
       "      <td>66.50</td>\n",
       "      <td>66.60</td>\n",
       "      <td>66.20</td>\n",
       "      <td>66.20</td>\n",
       "      <td>2028100</td>\n",
       "    </tr>\n",
       "    <tr>\n",
       "      <th>802</th>\n",
       "      <td>2025-03-26</td>\n",
       "      <td>66.40</td>\n",
       "      <td>66.60</td>\n",
       "      <td>65.80</td>\n",
       "      <td>65.80</td>\n",
       "      <td>1507400</td>\n",
       "    </tr>\n",
       "    <tr>\n",
       "      <th>803</th>\n",
       "      <td>2025-03-27</td>\n",
       "      <td>65.80</td>\n",
       "      <td>65.90</td>\n",
       "      <td>65.50</td>\n",
       "      <td>65.50</td>\n",
       "      <td>901500</td>\n",
       "    </tr>\n",
       "    <tr>\n",
       "      <th>804</th>\n",
       "      <td>2025-03-28</td>\n",
       "      <td>65.50</td>\n",
       "      <td>65.70</td>\n",
       "      <td>64.80</td>\n",
       "      <td>64.80</td>\n",
       "      <td>1650600</td>\n",
       "    </tr>\n",
       "    <tr>\n",
       "      <th>805</th>\n",
       "      <td>2025-03-31</td>\n",
       "      <td>64.70</td>\n",
       "      <td>65.20</td>\n",
       "      <td>64.00</td>\n",
       "      <td>64.00</td>\n",
       "      <td>1771900</td>\n",
       "    </tr>\n",
       "  </tbody>\n",
       "</table>\n",
       "<p>806 rows × 6 columns</p>\n",
       "</div>"
      ],
      "text/plain": [
       "           Time   Open   High    Low  Close   Volume\n",
       "0    2022-01-04  44.74  44.97  44.18  44.74  1133800\n",
       "1    2022-01-05  44.74  45.54  44.18  44.18  1603100\n",
       "2    2022-01-06  44.52  45.25  44.12  44.80  1215600\n",
       "3    2022-01-07  45.08  45.25  44.29  45.20   966200\n",
       "4    2022-01-10  45.14  45.25  44.46  45.03  1097000\n",
       "..          ...    ...    ...    ...    ...      ...\n",
       "801  2025-03-25  66.50  66.60  66.20  66.20  2028100\n",
       "802  2025-03-26  66.40  66.60  65.80  65.80  1507400\n",
       "803  2025-03-27  65.80  65.90  65.50  65.50   901500\n",
       "804  2025-03-28  65.50  65.70  64.80  64.80  1650600\n",
       "805  2025-03-31  64.70  65.20  64.00  64.00  1771900\n",
       "\n",
       "[806 rows x 6 columns]"
      ]
     },
     "execution_count": 5,
     "metadata": {},
     "output_type": "execute_result"
    }
   ],
   "source": [
    "vcb_trade = pd.read_csv(\".\\\\dataset\\\\clean_dataset\\\\trade\\\\vcb_trade.csv\")\n",
    "vcb_trade"
   ]
  },
  {
   "cell_type": "code",
   "execution_count": null,
   "id": "41659b83",
   "metadata": {},
   "outputs": [
    {
     "data": {
      "text/html": [
       "<div>\n",
       "<style scoped>\n",
       "    .dataframe tbody tr th:only-of-type {\n",
       "        vertical-align: middle;\n",
       "    }\n",
       "\n",
       "    .dataframe tbody tr th {\n",
       "        vertical-align: top;\n",
       "    }\n",
       "\n",
       "    .dataframe thead th {\n",
       "        text-align: right;\n",
       "    }\n",
       "</style>\n",
       "<table border=\"1\" class=\"dataframe\">\n",
       "  <thead>\n",
       "    <tr style=\"text-align: right;\">\n",
       "      <th></th>\n",
       "      <th>Time</th>\n",
       "      <th>Open</th>\n",
       "      <th>High</th>\n",
       "      <th>Low</th>\n",
       "      <th>Close</th>\n",
       "      <th>Volume</th>\n",
       "    </tr>\n",
       "  </thead>\n",
       "  <tbody>\n",
       "    <tr>\n",
       "      <th>0</th>\n",
       "      <td>2022-01-04</td>\n",
       "      <td>27.57</td>\n",
       "      <td>27.87</td>\n",
       "      <td>27.32</td>\n",
       "      <td>27.43</td>\n",
       "      <td>1769200</td>\n",
       "    </tr>\n",
       "    <tr>\n",
       "      <th>1</th>\n",
       "      <td>2022-01-05</td>\n",
       "      <td>27.79</td>\n",
       "      <td>27.79</td>\n",
       "      <td>27.06</td>\n",
       "      <td>27.17</td>\n",
       "      <td>1922200</td>\n",
       "    </tr>\n",
       "    <tr>\n",
       "      <th>2</th>\n",
       "      <td>2022-01-06</td>\n",
       "      <td>26.77</td>\n",
       "      <td>28.45</td>\n",
       "      <td>26.58</td>\n",
       "      <td>27.87</td>\n",
       "      <td>5998800</td>\n",
       "    </tr>\n",
       "    <tr>\n",
       "      <th>3</th>\n",
       "      <td>2022-01-07</td>\n",
       "      <td>28.34</td>\n",
       "      <td>28.93</td>\n",
       "      <td>27.61</td>\n",
       "      <td>28.75</td>\n",
       "      <td>4367700</td>\n",
       "    </tr>\n",
       "    <tr>\n",
       "      <th>4</th>\n",
       "      <td>2022-01-10</td>\n",
       "      <td>28.75</td>\n",
       "      <td>29.55</td>\n",
       "      <td>28.45</td>\n",
       "      <td>28.49</td>\n",
       "      <td>3180600</td>\n",
       "    </tr>\n",
       "    <tr>\n",
       "      <th>...</th>\n",
       "      <td>...</td>\n",
       "      <td>...</td>\n",
       "      <td>...</td>\n",
       "      <td>...</td>\n",
       "      <td>...</td>\n",
       "      <td>...</td>\n",
       "    </tr>\n",
       "    <tr>\n",
       "      <th>801</th>\n",
       "      <td>2025-03-25</td>\n",
       "      <td>39.20</td>\n",
       "      <td>39.70</td>\n",
       "      <td>39.20</td>\n",
       "      <td>39.70</td>\n",
       "      <td>2936500</td>\n",
       "    </tr>\n",
       "    <tr>\n",
       "      <th>802</th>\n",
       "      <td>2025-03-26</td>\n",
       "      <td>39.60</td>\n",
       "      <td>39.85</td>\n",
       "      <td>39.40</td>\n",
       "      <td>39.55</td>\n",
       "      <td>2603800</td>\n",
       "    </tr>\n",
       "    <tr>\n",
       "      <th>803</th>\n",
       "      <td>2025-03-27</td>\n",
       "      <td>39.65</td>\n",
       "      <td>39.65</td>\n",
       "      <td>39.10</td>\n",
       "      <td>39.10</td>\n",
       "      <td>1862400</td>\n",
       "    </tr>\n",
       "    <tr>\n",
       "      <th>804</th>\n",
       "      <td>2025-03-28</td>\n",
       "      <td>39.15</td>\n",
       "      <td>39.25</td>\n",
       "      <td>39.05</td>\n",
       "      <td>39.10</td>\n",
       "      <td>1401500</td>\n",
       "    </tr>\n",
       "    <tr>\n",
       "      <th>805</th>\n",
       "      <td>2025-03-31</td>\n",
       "      <td>39.00</td>\n",
       "      <td>39.00</td>\n",
       "      <td>38.50</td>\n",
       "      <td>38.75</td>\n",
       "      <td>2899600</td>\n",
       "    </tr>\n",
       "  </tbody>\n",
       "</table>\n",
       "<p>806 rows × 6 columns</p>\n",
       "</div>"
      ],
      "text/plain": [
       "           Time   Open   High    Low  Close   Volume\n",
       "0    2022-01-04  27.57  27.87  27.32  27.43  1769200\n",
       "1    2022-01-05  27.79  27.79  27.06  27.17  1922200\n",
       "2    2022-01-06  26.77  28.45  26.58  27.87  5998800\n",
       "3    2022-01-07  28.34  28.93  27.61  28.75  4367700\n",
       "4    2022-01-10  28.75  29.55  28.45  28.49  3180600\n",
       "..          ...    ...    ...    ...    ...      ...\n",
       "801  2025-03-25  39.20  39.70  39.20  39.70  2936500\n",
       "802  2025-03-26  39.60  39.85  39.40  39.55  2603800\n",
       "803  2025-03-27  39.65  39.65  39.10  39.10  1862400\n",
       "804  2025-03-28  39.15  39.25  39.05  39.10  1401500\n",
       "805  2025-03-31  39.00  39.00  38.50  38.75  2899600\n",
       "\n",
       "[806 rows x 6 columns]"
      ]
     },
     "execution_count": 6,
     "metadata": {},
     "output_type": "execute_result"
    }
   ],
   "source": [
    "bid_trade = pd.read_csv(\".\\\\dataset\\\\clean_dataset\\\\trade\\\\bid_trade.csv\")\n",
    "bid_trade"
   ]
  },
  {
   "cell_type": "code",
   "execution_count": null,
   "id": "39e99015",
   "metadata": {},
   "outputs": [
    {
     "data": {
      "text/html": [
       "<div>\n",
       "<style scoped>\n",
       "    .dataframe tbody tr th:only-of-type {\n",
       "        vertical-align: middle;\n",
       "    }\n",
       "\n",
       "    .dataframe tbody tr th {\n",
       "        vertical-align: top;\n",
       "    }\n",
       "\n",
       "    .dataframe thead th {\n",
       "        text-align: right;\n",
       "    }\n",
       "</style>\n",
       "<table border=\"1\" class=\"dataframe\">\n",
       "  <thead>\n",
       "    <tr style=\"text-align: right;\">\n",
       "      <th></th>\n",
       "      <th>Time</th>\n",
       "      <th>Open</th>\n",
       "      <th>High</th>\n",
       "      <th>Low</th>\n",
       "      <th>Close</th>\n",
       "      <th>Volume</th>\n",
       "    </tr>\n",
       "  </thead>\n",
       "  <tbody>\n",
       "    <tr>\n",
       "      <th>0</th>\n",
       "      <td>2022-01-04</td>\n",
       "      <td>24.49</td>\n",
       "      <td>24.83</td>\n",
       "      <td>24.39</td>\n",
       "      <td>24.68</td>\n",
       "      <td>11334600</td>\n",
       "    </tr>\n",
       "    <tr>\n",
       "      <th>1</th>\n",
       "      <td>2022-01-05</td>\n",
       "      <td>24.68</td>\n",
       "      <td>24.83</td>\n",
       "      <td>24.39</td>\n",
       "      <td>24.49</td>\n",
       "      <td>9569600</td>\n",
       "    </tr>\n",
       "    <tr>\n",
       "      <th>2</th>\n",
       "      <td>2022-01-06</td>\n",
       "      <td>24.34</td>\n",
       "      <td>24.44</td>\n",
       "      <td>24.05</td>\n",
       "      <td>24.20</td>\n",
       "      <td>10716700</td>\n",
       "    </tr>\n",
       "    <tr>\n",
       "      <th>3</th>\n",
       "      <td>2022-01-07</td>\n",
       "      <td>24.20</td>\n",
       "      <td>24.29</td>\n",
       "      <td>23.95</td>\n",
       "      <td>23.98</td>\n",
       "      <td>7832200</td>\n",
       "    </tr>\n",
       "    <tr>\n",
       "      <th>4</th>\n",
       "      <td>2022-01-10</td>\n",
       "      <td>24.00</td>\n",
       "      <td>24.05</td>\n",
       "      <td>23.59</td>\n",
       "      <td>23.59</td>\n",
       "      <td>8771400</td>\n",
       "    </tr>\n",
       "    <tr>\n",
       "      <th>...</th>\n",
       "      <td>...</td>\n",
       "      <td>...</td>\n",
       "      <td>...</td>\n",
       "      <td>...</td>\n",
       "      <td>...</td>\n",
       "      <td>...</td>\n",
       "    </tr>\n",
       "    <tr>\n",
       "      <th>801</th>\n",
       "      <td>2025-03-25</td>\n",
       "      <td>28.10</td>\n",
       "      <td>28.20</td>\n",
       "      <td>27.85</td>\n",
       "      <td>27.90</td>\n",
       "      <td>8130100</td>\n",
       "    </tr>\n",
       "    <tr>\n",
       "      <th>802</th>\n",
       "      <td>2025-03-26</td>\n",
       "      <td>27.90</td>\n",
       "      <td>28.50</td>\n",
       "      <td>27.80</td>\n",
       "      <td>28.00</td>\n",
       "      <td>24089300</td>\n",
       "    </tr>\n",
       "    <tr>\n",
       "      <th>803</th>\n",
       "      <td>2025-03-27</td>\n",
       "      <td>28.00</td>\n",
       "      <td>28.15</td>\n",
       "      <td>27.75</td>\n",
       "      <td>27.75</td>\n",
       "      <td>7518900</td>\n",
       "    </tr>\n",
       "    <tr>\n",
       "      <th>804</th>\n",
       "      <td>2025-03-28</td>\n",
       "      <td>27.75</td>\n",
       "      <td>27.80</td>\n",
       "      <td>27.45</td>\n",
       "      <td>27.55</td>\n",
       "      <td>12353600</td>\n",
       "    </tr>\n",
       "    <tr>\n",
       "      <th>805</th>\n",
       "      <td>2025-03-31</td>\n",
       "      <td>27.40</td>\n",
       "      <td>27.50</td>\n",
       "      <td>27.20</td>\n",
       "      <td>27.50</td>\n",
       "      <td>12983300</td>\n",
       "    </tr>\n",
       "  </tbody>\n",
       "</table>\n",
       "<p>806 rows × 6 columns</p>\n",
       "</div>"
      ],
      "text/plain": [
       "           Time   Open   High    Low  Close    Volume\n",
       "0    2022-01-04  24.49  24.83  24.39  24.68  11334600\n",
       "1    2022-01-05  24.68  24.83  24.39  24.49   9569600\n",
       "2    2022-01-06  24.34  24.44  24.05  24.20  10716700\n",
       "3    2022-01-07  24.20  24.29  23.95  23.98   7832200\n",
       "4    2022-01-10  24.00  24.05  23.59  23.59   8771400\n",
       "..          ...    ...    ...    ...    ...       ...\n",
       "801  2025-03-25  28.10  28.20  27.85  27.90   8130100\n",
       "802  2025-03-26  27.90  28.50  27.80  28.00  24089300\n",
       "803  2025-03-27  28.00  28.15  27.75  27.75   7518900\n",
       "804  2025-03-28  27.75  27.80  27.45  27.55  12353600\n",
       "805  2025-03-31  27.40  27.50  27.20  27.50  12983300\n",
       "\n",
       "[806 rows x 6 columns]"
      ]
     },
     "execution_count": 7,
     "metadata": {},
     "output_type": "execute_result"
    }
   ],
   "source": [
    "tcb_trade = pd.read_csv(\".\\\\dataset\\\\clean_dataset\\\\trade\\\\tcb_trade.csv\")\n",
    "tcb_trade"
   ]
  },
  {
   "cell_type": "markdown",
   "id": "33a78cef",
   "metadata": {},
   "source": [
    "# Process data"
   ]
  },
  {
   "cell_type": "code",
   "execution_count": 8,
   "id": "b6844e9f",
   "metadata": {},
   "outputs": [
    {
     "data": {
      "text/plain": [
       "Time       object\n",
       "Open      float64\n",
       "High      float64\n",
       "Low       float64\n",
       "Close     float64\n",
       "Volume      int64\n",
       "dtype: object"
      ]
     },
     "execution_count": 8,
     "metadata": {},
     "output_type": "execute_result"
    }
   ],
   "source": [
    "vcb_trade.dtypes"
   ]
  },
  {
   "cell_type": "code",
   "execution_count": 9,
   "id": "a12ef44d",
   "metadata": {},
   "outputs": [
    {
     "data": {
      "text/plain": [
       "Time       object\n",
       "Open      float64\n",
       "High      float64\n",
       "Low       float64\n",
       "Close     float64\n",
       "Volume      int64\n",
       "dtype: object"
      ]
     },
     "execution_count": 9,
     "metadata": {},
     "output_type": "execute_result"
    }
   ],
   "source": [
    "bid_trade.dtypes"
   ]
  },
  {
   "cell_type": "code",
   "execution_count": 10,
   "id": "f475b1d4",
   "metadata": {},
   "outputs": [
    {
     "data": {
      "text/plain": [
       "Time       object\n",
       "Open      float64\n",
       "High      float64\n",
       "Low       float64\n",
       "Close     float64\n",
       "Volume      int64\n",
       "dtype: object"
      ]
     },
     "execution_count": 10,
     "metadata": {},
     "output_type": "execute_result"
    }
   ],
   "source": [
    "tcb_trade.dtypes"
   ]
  },
  {
   "cell_type": "code",
   "execution_count": 11,
   "id": "23498518",
   "metadata": {},
   "outputs": [
    {
     "data": {
      "text/html": [
       "<div>\n",
       "<style scoped>\n",
       "    .dataframe tbody tr th:only-of-type {\n",
       "        vertical-align: middle;\n",
       "    }\n",
       "\n",
       "    .dataframe tbody tr th {\n",
       "        vertical-align: top;\n",
       "    }\n",
       "\n",
       "    .dataframe thead th {\n",
       "        text-align: right;\n",
       "    }\n",
       "</style>\n",
       "<table border=\"1\" class=\"dataframe\">\n",
       "  <thead>\n",
       "    <tr style=\"text-align: right;\">\n",
       "      <th></th>\n",
       "      <th>Time</th>\n",
       "      <th>Open</th>\n",
       "      <th>High</th>\n",
       "      <th>Low</th>\n",
       "      <th>Close</th>\n",
       "      <th>Volume</th>\n",
       "    </tr>\n",
       "  </thead>\n",
       "  <tbody>\n",
       "    <tr>\n",
       "      <th>0</th>\n",
       "      <td>2022-01-04</td>\n",
       "      <td>44.74</td>\n",
       "      <td>44.97</td>\n",
       "      <td>44.18</td>\n",
       "      <td>44.74</td>\n",
       "      <td>1133800</td>\n",
       "    </tr>\n",
       "    <tr>\n",
       "      <th>1</th>\n",
       "      <td>2022-01-05</td>\n",
       "      <td>44.74</td>\n",
       "      <td>45.54</td>\n",
       "      <td>44.18</td>\n",
       "      <td>44.18</td>\n",
       "      <td>1603100</td>\n",
       "    </tr>\n",
       "    <tr>\n",
       "      <th>2</th>\n",
       "      <td>2022-01-06</td>\n",
       "      <td>44.52</td>\n",
       "      <td>45.25</td>\n",
       "      <td>44.12</td>\n",
       "      <td>44.80</td>\n",
       "      <td>1215600</td>\n",
       "    </tr>\n",
       "    <tr>\n",
       "      <th>3</th>\n",
       "      <td>2022-01-07</td>\n",
       "      <td>45.08</td>\n",
       "      <td>45.25</td>\n",
       "      <td>44.29</td>\n",
       "      <td>45.20</td>\n",
       "      <td>966200</td>\n",
       "    </tr>\n",
       "    <tr>\n",
       "      <th>4</th>\n",
       "      <td>2022-01-10</td>\n",
       "      <td>45.14</td>\n",
       "      <td>45.25</td>\n",
       "      <td>44.46</td>\n",
       "      <td>45.03</td>\n",
       "      <td>1097000</td>\n",
       "    </tr>\n",
       "    <tr>\n",
       "      <th>...</th>\n",
       "      <td>...</td>\n",
       "      <td>...</td>\n",
       "      <td>...</td>\n",
       "      <td>...</td>\n",
       "      <td>...</td>\n",
       "      <td>...</td>\n",
       "    </tr>\n",
       "    <tr>\n",
       "      <th>801</th>\n",
       "      <td>2025-03-25</td>\n",
       "      <td>66.50</td>\n",
       "      <td>66.60</td>\n",
       "      <td>66.20</td>\n",
       "      <td>66.20</td>\n",
       "      <td>2028100</td>\n",
       "    </tr>\n",
       "    <tr>\n",
       "      <th>802</th>\n",
       "      <td>2025-03-26</td>\n",
       "      <td>66.40</td>\n",
       "      <td>66.60</td>\n",
       "      <td>65.80</td>\n",
       "      <td>65.80</td>\n",
       "      <td>1507400</td>\n",
       "    </tr>\n",
       "    <tr>\n",
       "      <th>803</th>\n",
       "      <td>2025-03-27</td>\n",
       "      <td>65.80</td>\n",
       "      <td>65.90</td>\n",
       "      <td>65.50</td>\n",
       "      <td>65.50</td>\n",
       "      <td>901500</td>\n",
       "    </tr>\n",
       "    <tr>\n",
       "      <th>804</th>\n",
       "      <td>2025-03-28</td>\n",
       "      <td>65.50</td>\n",
       "      <td>65.70</td>\n",
       "      <td>64.80</td>\n",
       "      <td>64.80</td>\n",
       "      <td>1650600</td>\n",
       "    </tr>\n",
       "    <tr>\n",
       "      <th>805</th>\n",
       "      <td>2025-03-31</td>\n",
       "      <td>64.70</td>\n",
       "      <td>65.20</td>\n",
       "      <td>64.00</td>\n",
       "      <td>64.00</td>\n",
       "      <td>1771900</td>\n",
       "    </tr>\n",
       "  </tbody>\n",
       "</table>\n",
       "<p>806 rows × 6 columns</p>\n",
       "</div>"
      ],
      "text/plain": [
       "          Time   Open   High    Low  Close   Volume\n",
       "0   2022-01-04  44.74  44.97  44.18  44.74  1133800\n",
       "1   2022-01-05  44.74  45.54  44.18  44.18  1603100\n",
       "2   2022-01-06  44.52  45.25  44.12  44.80  1215600\n",
       "3   2022-01-07  45.08  45.25  44.29  45.20   966200\n",
       "4   2022-01-10  45.14  45.25  44.46  45.03  1097000\n",
       "..         ...    ...    ...    ...    ...      ...\n",
       "801 2025-03-25  66.50  66.60  66.20  66.20  2028100\n",
       "802 2025-03-26  66.40  66.60  65.80  65.80  1507400\n",
       "803 2025-03-27  65.80  65.90  65.50  65.50   901500\n",
       "804 2025-03-28  65.50  65.70  64.80  64.80  1650600\n",
       "805 2025-03-31  64.70  65.20  64.00  64.00  1771900\n",
       "\n",
       "[806 rows x 6 columns]"
      ]
     },
     "execution_count": 11,
     "metadata": {},
     "output_type": "execute_result"
    }
   ],
   "source": [
    "vcb_trade[\"Time\"] = convert_str_to_datetime(vcb_trade[\"Time\"])\n",
    "vcb_trade"
   ]
  },
  {
   "cell_type": "code",
   "execution_count": 12,
   "id": "f24b925e",
   "metadata": {},
   "outputs": [
    {
     "data": {
      "text/html": [
       "<div>\n",
       "<style scoped>\n",
       "    .dataframe tbody tr th:only-of-type {\n",
       "        vertical-align: middle;\n",
       "    }\n",
       "\n",
       "    .dataframe tbody tr th {\n",
       "        vertical-align: top;\n",
       "    }\n",
       "\n",
       "    .dataframe thead th {\n",
       "        text-align: right;\n",
       "    }\n",
       "</style>\n",
       "<table border=\"1\" class=\"dataframe\">\n",
       "  <thead>\n",
       "    <tr style=\"text-align: right;\">\n",
       "      <th></th>\n",
       "      <th>Time</th>\n",
       "      <th>Open</th>\n",
       "      <th>High</th>\n",
       "      <th>Low</th>\n",
       "      <th>Close</th>\n",
       "      <th>Volume</th>\n",
       "    </tr>\n",
       "  </thead>\n",
       "  <tbody>\n",
       "    <tr>\n",
       "      <th>0</th>\n",
       "      <td>2022-01-04</td>\n",
       "      <td>27.57</td>\n",
       "      <td>27.87</td>\n",
       "      <td>27.32</td>\n",
       "      <td>27.43</td>\n",
       "      <td>1769200</td>\n",
       "    </tr>\n",
       "    <tr>\n",
       "      <th>1</th>\n",
       "      <td>2022-01-05</td>\n",
       "      <td>27.79</td>\n",
       "      <td>27.79</td>\n",
       "      <td>27.06</td>\n",
       "      <td>27.17</td>\n",
       "      <td>1922200</td>\n",
       "    </tr>\n",
       "    <tr>\n",
       "      <th>2</th>\n",
       "      <td>2022-01-06</td>\n",
       "      <td>26.77</td>\n",
       "      <td>28.45</td>\n",
       "      <td>26.58</td>\n",
       "      <td>27.87</td>\n",
       "      <td>5998800</td>\n",
       "    </tr>\n",
       "    <tr>\n",
       "      <th>3</th>\n",
       "      <td>2022-01-07</td>\n",
       "      <td>28.34</td>\n",
       "      <td>28.93</td>\n",
       "      <td>27.61</td>\n",
       "      <td>28.75</td>\n",
       "      <td>4367700</td>\n",
       "    </tr>\n",
       "    <tr>\n",
       "      <th>4</th>\n",
       "      <td>2022-01-10</td>\n",
       "      <td>28.75</td>\n",
       "      <td>29.55</td>\n",
       "      <td>28.45</td>\n",
       "      <td>28.49</td>\n",
       "      <td>3180600</td>\n",
       "    </tr>\n",
       "    <tr>\n",
       "      <th>...</th>\n",
       "      <td>...</td>\n",
       "      <td>...</td>\n",
       "      <td>...</td>\n",
       "      <td>...</td>\n",
       "      <td>...</td>\n",
       "      <td>...</td>\n",
       "    </tr>\n",
       "    <tr>\n",
       "      <th>801</th>\n",
       "      <td>2025-03-25</td>\n",
       "      <td>39.20</td>\n",
       "      <td>39.70</td>\n",
       "      <td>39.20</td>\n",
       "      <td>39.70</td>\n",
       "      <td>2936500</td>\n",
       "    </tr>\n",
       "    <tr>\n",
       "      <th>802</th>\n",
       "      <td>2025-03-26</td>\n",
       "      <td>39.60</td>\n",
       "      <td>39.85</td>\n",
       "      <td>39.40</td>\n",
       "      <td>39.55</td>\n",
       "      <td>2603800</td>\n",
       "    </tr>\n",
       "    <tr>\n",
       "      <th>803</th>\n",
       "      <td>2025-03-27</td>\n",
       "      <td>39.65</td>\n",
       "      <td>39.65</td>\n",
       "      <td>39.10</td>\n",
       "      <td>39.10</td>\n",
       "      <td>1862400</td>\n",
       "    </tr>\n",
       "    <tr>\n",
       "      <th>804</th>\n",
       "      <td>2025-03-28</td>\n",
       "      <td>39.15</td>\n",
       "      <td>39.25</td>\n",
       "      <td>39.05</td>\n",
       "      <td>39.10</td>\n",
       "      <td>1401500</td>\n",
       "    </tr>\n",
       "    <tr>\n",
       "      <th>805</th>\n",
       "      <td>2025-03-31</td>\n",
       "      <td>39.00</td>\n",
       "      <td>39.00</td>\n",
       "      <td>38.50</td>\n",
       "      <td>38.75</td>\n",
       "      <td>2899600</td>\n",
       "    </tr>\n",
       "  </tbody>\n",
       "</table>\n",
       "<p>806 rows × 6 columns</p>\n",
       "</div>"
      ],
      "text/plain": [
       "          Time   Open   High    Low  Close   Volume\n",
       "0   2022-01-04  27.57  27.87  27.32  27.43  1769200\n",
       "1   2022-01-05  27.79  27.79  27.06  27.17  1922200\n",
       "2   2022-01-06  26.77  28.45  26.58  27.87  5998800\n",
       "3   2022-01-07  28.34  28.93  27.61  28.75  4367700\n",
       "4   2022-01-10  28.75  29.55  28.45  28.49  3180600\n",
       "..         ...    ...    ...    ...    ...      ...\n",
       "801 2025-03-25  39.20  39.70  39.20  39.70  2936500\n",
       "802 2025-03-26  39.60  39.85  39.40  39.55  2603800\n",
       "803 2025-03-27  39.65  39.65  39.10  39.10  1862400\n",
       "804 2025-03-28  39.15  39.25  39.05  39.10  1401500\n",
       "805 2025-03-31  39.00  39.00  38.50  38.75  2899600\n",
       "\n",
       "[806 rows x 6 columns]"
      ]
     },
     "execution_count": 12,
     "metadata": {},
     "output_type": "execute_result"
    }
   ],
   "source": [
    "bid_trade[\"Time\"] = convert_str_to_datetime(bid_trade[\"Time\"])\n",
    "bid_trade"
   ]
  },
  {
   "cell_type": "code",
   "execution_count": 13,
   "id": "a0ccbeeb",
   "metadata": {},
   "outputs": [
    {
     "data": {
      "text/html": [
       "<div>\n",
       "<style scoped>\n",
       "    .dataframe tbody tr th:only-of-type {\n",
       "        vertical-align: middle;\n",
       "    }\n",
       "\n",
       "    .dataframe tbody tr th {\n",
       "        vertical-align: top;\n",
       "    }\n",
       "\n",
       "    .dataframe thead th {\n",
       "        text-align: right;\n",
       "    }\n",
       "</style>\n",
       "<table border=\"1\" class=\"dataframe\">\n",
       "  <thead>\n",
       "    <tr style=\"text-align: right;\">\n",
       "      <th></th>\n",
       "      <th>Time</th>\n",
       "      <th>Open</th>\n",
       "      <th>High</th>\n",
       "      <th>Low</th>\n",
       "      <th>Close</th>\n",
       "      <th>Volume</th>\n",
       "    </tr>\n",
       "  </thead>\n",
       "  <tbody>\n",
       "    <tr>\n",
       "      <th>0</th>\n",
       "      <td>2022-01-04</td>\n",
       "      <td>24.49</td>\n",
       "      <td>24.83</td>\n",
       "      <td>24.39</td>\n",
       "      <td>24.68</td>\n",
       "      <td>11334600</td>\n",
       "    </tr>\n",
       "    <tr>\n",
       "      <th>1</th>\n",
       "      <td>2022-01-05</td>\n",
       "      <td>24.68</td>\n",
       "      <td>24.83</td>\n",
       "      <td>24.39</td>\n",
       "      <td>24.49</td>\n",
       "      <td>9569600</td>\n",
       "    </tr>\n",
       "    <tr>\n",
       "      <th>2</th>\n",
       "      <td>2022-01-06</td>\n",
       "      <td>24.34</td>\n",
       "      <td>24.44</td>\n",
       "      <td>24.05</td>\n",
       "      <td>24.20</td>\n",
       "      <td>10716700</td>\n",
       "    </tr>\n",
       "    <tr>\n",
       "      <th>3</th>\n",
       "      <td>2022-01-07</td>\n",
       "      <td>24.20</td>\n",
       "      <td>24.29</td>\n",
       "      <td>23.95</td>\n",
       "      <td>23.98</td>\n",
       "      <td>7832200</td>\n",
       "    </tr>\n",
       "    <tr>\n",
       "      <th>4</th>\n",
       "      <td>2022-01-10</td>\n",
       "      <td>24.00</td>\n",
       "      <td>24.05</td>\n",
       "      <td>23.59</td>\n",
       "      <td>23.59</td>\n",
       "      <td>8771400</td>\n",
       "    </tr>\n",
       "    <tr>\n",
       "      <th>...</th>\n",
       "      <td>...</td>\n",
       "      <td>...</td>\n",
       "      <td>...</td>\n",
       "      <td>...</td>\n",
       "      <td>...</td>\n",
       "      <td>...</td>\n",
       "    </tr>\n",
       "    <tr>\n",
       "      <th>801</th>\n",
       "      <td>2025-03-25</td>\n",
       "      <td>28.10</td>\n",
       "      <td>28.20</td>\n",
       "      <td>27.85</td>\n",
       "      <td>27.90</td>\n",
       "      <td>8130100</td>\n",
       "    </tr>\n",
       "    <tr>\n",
       "      <th>802</th>\n",
       "      <td>2025-03-26</td>\n",
       "      <td>27.90</td>\n",
       "      <td>28.50</td>\n",
       "      <td>27.80</td>\n",
       "      <td>28.00</td>\n",
       "      <td>24089300</td>\n",
       "    </tr>\n",
       "    <tr>\n",
       "      <th>803</th>\n",
       "      <td>2025-03-27</td>\n",
       "      <td>28.00</td>\n",
       "      <td>28.15</td>\n",
       "      <td>27.75</td>\n",
       "      <td>27.75</td>\n",
       "      <td>7518900</td>\n",
       "    </tr>\n",
       "    <tr>\n",
       "      <th>804</th>\n",
       "      <td>2025-03-28</td>\n",
       "      <td>27.75</td>\n",
       "      <td>27.80</td>\n",
       "      <td>27.45</td>\n",
       "      <td>27.55</td>\n",
       "      <td>12353600</td>\n",
       "    </tr>\n",
       "    <tr>\n",
       "      <th>805</th>\n",
       "      <td>2025-03-31</td>\n",
       "      <td>27.40</td>\n",
       "      <td>27.50</td>\n",
       "      <td>27.20</td>\n",
       "      <td>27.50</td>\n",
       "      <td>12983300</td>\n",
       "    </tr>\n",
       "  </tbody>\n",
       "</table>\n",
       "<p>806 rows × 6 columns</p>\n",
       "</div>"
      ],
      "text/plain": [
       "          Time   Open   High    Low  Close    Volume\n",
       "0   2022-01-04  24.49  24.83  24.39  24.68  11334600\n",
       "1   2022-01-05  24.68  24.83  24.39  24.49   9569600\n",
       "2   2022-01-06  24.34  24.44  24.05  24.20  10716700\n",
       "3   2022-01-07  24.20  24.29  23.95  23.98   7832200\n",
       "4   2022-01-10  24.00  24.05  23.59  23.59   8771400\n",
       "..         ...    ...    ...    ...    ...       ...\n",
       "801 2025-03-25  28.10  28.20  27.85  27.90   8130100\n",
       "802 2025-03-26  27.90  28.50  27.80  28.00  24089300\n",
       "803 2025-03-27  28.00  28.15  27.75  27.75   7518900\n",
       "804 2025-03-28  27.75  27.80  27.45  27.55  12353600\n",
       "805 2025-03-31  27.40  27.50  27.20  27.50  12983300\n",
       "\n",
       "[806 rows x 6 columns]"
      ]
     },
     "execution_count": 13,
     "metadata": {},
     "output_type": "execute_result"
    }
   ],
   "source": [
    "tcb_trade[\"Time\"] = convert_str_to_datetime(tcb_trade[\"Time\"])\n",
    "tcb_trade"
   ]
  },
  {
   "cell_type": "markdown",
   "id": "a50d155a",
   "metadata": {},
   "source": [
    "# Perform descriptive statistics"
   ]
  },
  {
   "cell_type": "code",
   "execution_count": 14,
   "id": "b672db8f",
   "metadata": {},
   "outputs": [
    {
     "data": {
      "text/html": [
       "<div>\n",
       "<style scoped>\n",
       "    .dataframe tbody tr th:only-of-type {\n",
       "        vertical-align: middle;\n",
       "    }\n",
       "\n",
       "    .dataframe tbody tr th {\n",
       "        vertical-align: top;\n",
       "    }\n",
       "\n",
       "    .dataframe thead th {\n",
       "        text-align: right;\n",
       "    }\n",
       "</style>\n",
       "<table border=\"1\" class=\"dataframe\">\n",
       "  <thead>\n",
       "    <tr style=\"text-align: right;\">\n",
       "      <th></th>\n",
       "      <th>Time</th>\n",
       "      <th>Open</th>\n",
       "      <th>High</th>\n",
       "      <th>Low</th>\n",
       "      <th>Close</th>\n",
       "      <th>Volume</th>\n",
       "    </tr>\n",
       "  </thead>\n",
       "  <tbody>\n",
       "    <tr>\n",
       "      <th>count</th>\n",
       "      <td>806</td>\n",
       "      <td>806.000000</td>\n",
       "      <td>806.000000</td>\n",
       "      <td>806.000000</td>\n",
       "      <td>806.000000</td>\n",
       "      <td>8.060000e+02</td>\n",
       "    </tr>\n",
       "    <tr>\n",
       "      <th>mean</th>\n",
       "      <td>2023-08-18 01:23:58.213399552</td>\n",
       "      <td>54.308610</td>\n",
       "      <td>54.833586</td>\n",
       "      <td>53.798983</td>\n",
       "      <td>54.297469</td>\n",
       "      <td>1.302984e+06</td>\n",
       "    </tr>\n",
       "    <tr>\n",
       "      <th>min</th>\n",
       "      <td>2022-01-04 00:00:00</td>\n",
       "      <td>35.680000</td>\n",
       "      <td>36.980000</td>\n",
       "      <td>35.110000</td>\n",
       "      <td>35.110000</td>\n",
       "      <td>2.261020e+05</td>\n",
       "    </tr>\n",
       "    <tr>\n",
       "      <th>25%</th>\n",
       "      <td>2022-10-26 06:00:00</td>\n",
       "      <td>47.010000</td>\n",
       "      <td>47.570000</td>\n",
       "      <td>46.455000</td>\n",
       "      <td>47.010000</td>\n",
       "      <td>8.420968e+05</td>\n",
       "    </tr>\n",
       "    <tr>\n",
       "      <th>50%</th>\n",
       "      <td>2023-08-16 12:00:00</td>\n",
       "      <td>57.190000</td>\n",
       "      <td>57.660000</td>\n",
       "      <td>56.800000</td>\n",
       "      <td>57.195000</td>\n",
       "      <td>1.148679e+06</td>\n",
       "    </tr>\n",
       "    <tr>\n",
       "      <th>75%</th>\n",
       "      <td>2024-06-10 18:00:00</td>\n",
       "      <td>60.870000</td>\n",
       "      <td>61.270000</td>\n",
       "      <td>60.470000</td>\n",
       "      <td>60.870000</td>\n",
       "      <td>1.583418e+06</td>\n",
       "    </tr>\n",
       "    <tr>\n",
       "      <th>max</th>\n",
       "      <td>2025-03-31 00:00:00</td>\n",
       "      <td>67.800000</td>\n",
       "      <td>68.600000</td>\n",
       "      <td>66.800000</td>\n",
       "      <td>67.300000</td>\n",
       "      <td>7.581491e+06</td>\n",
       "    </tr>\n",
       "    <tr>\n",
       "      <th>std</th>\n",
       "      <td>NaN</td>\n",
       "      <td>7.536126</td>\n",
       "      <td>7.465959</td>\n",
       "      <td>7.619016</td>\n",
       "      <td>7.515055</td>\n",
       "      <td>7.125882e+05</td>\n",
       "    </tr>\n",
       "  </tbody>\n",
       "</table>\n",
       "</div>"
      ],
      "text/plain": [
       "                                Time        Open        High         Low  \\\n",
       "count                            806  806.000000  806.000000  806.000000   \n",
       "mean   2023-08-18 01:23:58.213399552   54.308610   54.833586   53.798983   \n",
       "min              2022-01-04 00:00:00   35.680000   36.980000   35.110000   \n",
       "25%              2022-10-26 06:00:00   47.010000   47.570000   46.455000   \n",
       "50%              2023-08-16 12:00:00   57.190000   57.660000   56.800000   \n",
       "75%              2024-06-10 18:00:00   60.870000   61.270000   60.470000   \n",
       "max              2025-03-31 00:00:00   67.800000   68.600000   66.800000   \n",
       "std                              NaN    7.536126    7.465959    7.619016   \n",
       "\n",
       "            Close        Volume  \n",
       "count  806.000000  8.060000e+02  \n",
       "mean    54.297469  1.302984e+06  \n",
       "min     35.110000  2.261020e+05  \n",
       "25%     47.010000  8.420968e+05  \n",
       "50%     57.195000  1.148679e+06  \n",
       "75%     60.870000  1.583418e+06  \n",
       "max     67.300000  7.581491e+06  \n",
       "std      7.515055  7.125882e+05  "
      ]
     },
     "execution_count": 14,
     "metadata": {},
     "output_type": "execute_result"
    }
   ],
   "source": [
    "vcb_trade.describe()"
   ]
  },
  {
   "cell_type": "markdown",
   "id": "e8dee125",
   "metadata": {},
   "source": [
    "Nhận xét: Giá cổ phiếu trung bình là 54310VNĐ/cổ, giá thấp nhất là 35110VNĐ/cổ, giá cao nhất là 67300VNĐ/cổ."
   ]
  },
  {
   "cell_type": "code",
   "execution_count": 15,
   "id": "70fbe7c6",
   "metadata": {},
   "outputs": [
    {
     "data": {
      "text/html": [
       "<div>\n",
       "<style scoped>\n",
       "    .dataframe tbody tr th:only-of-type {\n",
       "        vertical-align: middle;\n",
       "    }\n",
       "\n",
       "    .dataframe tbody tr th {\n",
       "        vertical-align: top;\n",
       "    }\n",
       "\n",
       "    .dataframe thead th {\n",
       "        text-align: right;\n",
       "    }\n",
       "</style>\n",
       "<table border=\"1\" class=\"dataframe\">\n",
       "  <thead>\n",
       "    <tr style=\"text-align: right;\">\n",
       "      <th></th>\n",
       "      <th>Time</th>\n",
       "      <th>Open</th>\n",
       "      <th>High</th>\n",
       "      <th>Low</th>\n",
       "      <th>Close</th>\n",
       "      <th>Volume</th>\n",
       "    </tr>\n",
       "  </thead>\n",
       "  <tbody>\n",
       "    <tr>\n",
       "      <th>count</th>\n",
       "      <td>806</td>\n",
       "      <td>806.000000</td>\n",
       "      <td>806.000000</td>\n",
       "      <td>806.000000</td>\n",
       "      <td>806.000000</td>\n",
       "      <td>8.060000e+02</td>\n",
       "    </tr>\n",
       "    <tr>\n",
       "      <th>mean</th>\n",
       "      <td>2023-08-18 01:23:58.213399552</td>\n",
       "      <td>34.066340</td>\n",
       "      <td>34.517258</td>\n",
       "      <td>33.647816</td>\n",
       "      <td>34.036315</td>\n",
       "      <td>1.877320e+06</td>\n",
       "    </tr>\n",
       "    <tr>\n",
       "      <th>min</th>\n",
       "      <td>2022-01-04 00:00:00</td>\n",
       "      <td>20.640000</td>\n",
       "      <td>22.000000</td>\n",
       "      <td>20.530000</td>\n",
       "      <td>20.900000</td>\n",
       "      <td>1.635640e+05</td>\n",
       "    </tr>\n",
       "    <tr>\n",
       "      <th>25%</th>\n",
       "      <td>2022-10-26 06:00:00</td>\n",
       "      <td>30.157500</td>\n",
       "      <td>30.737500</td>\n",
       "      <td>29.700000</td>\n",
       "      <td>30.157500</td>\n",
       "      <td>1.088688e+06</td>\n",
       "    </tr>\n",
       "    <tr>\n",
       "      <th>50%</th>\n",
       "      <td>2023-08-16 12:00:00</td>\n",
       "      <td>33.605000</td>\n",
       "      <td>33.970000</td>\n",
       "      <td>33.220000</td>\n",
       "      <td>33.625000</td>\n",
       "      <td>1.572777e+06</td>\n",
       "    </tr>\n",
       "    <tr>\n",
       "      <th>75%</th>\n",
       "      <td>2024-06-10 18:00:00</td>\n",
       "      <td>39.370000</td>\n",
       "      <td>39.750000</td>\n",
       "      <td>39.010000</td>\n",
       "      <td>39.250000</td>\n",
       "      <td>2.341435e+06</td>\n",
       "    </tr>\n",
       "    <tr>\n",
       "      <th>max</th>\n",
       "      <td>2025-03-31 00:00:00</td>\n",
       "      <td>44.960000</td>\n",
       "      <td>46.860000</td>\n",
       "      <td>44.210000</td>\n",
       "      <td>44.960000</td>\n",
       "      <td>1.044840e+07</td>\n",
       "    </tr>\n",
       "    <tr>\n",
       "      <th>std</th>\n",
       "      <td>NaN</td>\n",
       "      <td>5.618694</td>\n",
       "      <td>5.591721</td>\n",
       "      <td>5.620242</td>\n",
       "      <td>5.578099</td>\n",
       "      <td>1.217225e+06</td>\n",
       "    </tr>\n",
       "  </tbody>\n",
       "</table>\n",
       "</div>"
      ],
      "text/plain": [
       "                                Time        Open        High         Low  \\\n",
       "count                            806  806.000000  806.000000  806.000000   \n",
       "mean   2023-08-18 01:23:58.213399552   34.066340   34.517258   33.647816   \n",
       "min              2022-01-04 00:00:00   20.640000   22.000000   20.530000   \n",
       "25%              2022-10-26 06:00:00   30.157500   30.737500   29.700000   \n",
       "50%              2023-08-16 12:00:00   33.605000   33.970000   33.220000   \n",
       "75%              2024-06-10 18:00:00   39.370000   39.750000   39.010000   \n",
       "max              2025-03-31 00:00:00   44.960000   46.860000   44.210000   \n",
       "std                              NaN    5.618694    5.591721    5.620242   \n",
       "\n",
       "            Close        Volume  \n",
       "count  806.000000  8.060000e+02  \n",
       "mean    34.036315  1.877320e+06  \n",
       "min     20.900000  1.635640e+05  \n",
       "25%     30.157500  1.088688e+06  \n",
       "50%     33.625000  1.572777e+06  \n",
       "75%     39.250000  2.341435e+06  \n",
       "max     44.960000  1.044840e+07  \n",
       "std      5.578099  1.217225e+06  "
      ]
     },
     "execution_count": 15,
     "metadata": {},
     "output_type": "execute_result"
    }
   ],
   "source": [
    "bid_trade.describe()"
   ]
  },
  {
   "cell_type": "markdown",
   "id": "b7f8d163",
   "metadata": {},
   "source": [
    "Nhận xét: Giá cổ phiếu trung bình là 35100VNĐ/cổ, giá thấp nhất là 20900VNĐ/cổ và giá cao nhất là 44960VNĐ/cổ."
   ]
  },
  {
   "cell_type": "code",
   "execution_count": 16,
   "id": "02f405ff",
   "metadata": {},
   "outputs": [
    {
     "data": {
      "text/html": [
       "<div>\n",
       "<style scoped>\n",
       "    .dataframe tbody tr th:only-of-type {\n",
       "        vertical-align: middle;\n",
       "    }\n",
       "\n",
       "    .dataframe tbody tr th {\n",
       "        vertical-align: top;\n",
       "    }\n",
       "\n",
       "    .dataframe thead th {\n",
       "        text-align: right;\n",
       "    }\n",
       "</style>\n",
       "<table border=\"1\" class=\"dataframe\">\n",
       "  <thead>\n",
       "    <tr style=\"text-align: right;\">\n",
       "      <th></th>\n",
       "      <th>Time</th>\n",
       "      <th>Open</th>\n",
       "      <th>High</th>\n",
       "      <th>Low</th>\n",
       "      <th>Close</th>\n",
       "      <th>Volume</th>\n",
       "    </tr>\n",
       "  </thead>\n",
       "  <tbody>\n",
       "    <tr>\n",
       "      <th>count</th>\n",
       "      <td>806</td>\n",
       "      <td>806.000000</td>\n",
       "      <td>806.000000</td>\n",
       "      <td>806.000000</td>\n",
       "      <td>806.000000</td>\n",
       "      <td>8.060000e+02</td>\n",
       "    </tr>\n",
       "    <tr>\n",
       "      <th>mean</th>\n",
       "      <td>2023-08-18 01:23:58.213399552</td>\n",
       "      <td>19.028424</td>\n",
       "      <td>19.236563</td>\n",
       "      <td>18.806886</td>\n",
       "      <td>19.010881</td>\n",
       "      <td>7.788724e+06</td>\n",
       "    </tr>\n",
       "    <tr>\n",
       "      <th>min</th>\n",
       "      <td>2022-01-04 00:00:00</td>\n",
       "      <td>9.360000</td>\n",
       "      <td>10.570000</td>\n",
       "      <td>9.360000</td>\n",
       "      <td>10.040000</td>\n",
       "      <td>1.200567e+06</td>\n",
       "    </tr>\n",
       "    <tr>\n",
       "      <th>25%</th>\n",
       "      <td>2022-10-26 06:00:00</td>\n",
       "      <td>15.042500</td>\n",
       "      <td>15.207500</td>\n",
       "      <td>14.860000</td>\n",
       "      <td>15.030000</td>\n",
       "      <td>3.867052e+06</td>\n",
       "    </tr>\n",
       "    <tr>\n",
       "      <th>50%</th>\n",
       "      <td>2023-08-16 12:00:00</td>\n",
       "      <td>18.075000</td>\n",
       "      <td>18.280000</td>\n",
       "      <td>17.930000</td>\n",
       "      <td>18.115000</td>\n",
       "      <td>6.342134e+06</td>\n",
       "    </tr>\n",
       "    <tr>\n",
       "      <th>75%</th>\n",
       "      <td>2024-06-10 18:00:00</td>\n",
       "      <td>23.565000</td>\n",
       "      <td>23.740000</td>\n",
       "      <td>23.350000</td>\n",
       "      <td>23.515000</td>\n",
       "      <td>1.024498e+07</td>\n",
       "    </tr>\n",
       "    <tr>\n",
       "      <th>max</th>\n",
       "      <td>2025-03-31 00:00:00</td>\n",
       "      <td>28.100000</td>\n",
       "      <td>28.500000</td>\n",
       "      <td>27.850000</td>\n",
       "      <td>28.000000</td>\n",
       "      <td>4.105190e+07</td>\n",
       "    </tr>\n",
       "    <tr>\n",
       "      <th>std</th>\n",
       "      <td>NaN</td>\n",
       "      <td>4.539687</td>\n",
       "      <td>4.549915</td>\n",
       "      <td>4.534884</td>\n",
       "      <td>4.540062</td>\n",
       "      <td>5.523559e+06</td>\n",
       "    </tr>\n",
       "  </tbody>\n",
       "</table>\n",
       "</div>"
      ],
      "text/plain": [
       "                                Time        Open        High         Low  \\\n",
       "count                            806  806.000000  806.000000  806.000000   \n",
       "mean   2023-08-18 01:23:58.213399552   19.028424   19.236563   18.806886   \n",
       "min              2022-01-04 00:00:00    9.360000   10.570000    9.360000   \n",
       "25%              2022-10-26 06:00:00   15.042500   15.207500   14.860000   \n",
       "50%              2023-08-16 12:00:00   18.075000   18.280000   17.930000   \n",
       "75%              2024-06-10 18:00:00   23.565000   23.740000   23.350000   \n",
       "max              2025-03-31 00:00:00   28.100000   28.500000   27.850000   \n",
       "std                              NaN    4.539687    4.549915    4.534884   \n",
       "\n",
       "            Close        Volume  \n",
       "count  806.000000  8.060000e+02  \n",
       "mean    19.010881  7.788724e+06  \n",
       "min     10.040000  1.200567e+06  \n",
       "25%     15.030000  3.867052e+06  \n",
       "50%     18.115000  6.342134e+06  \n",
       "75%     23.515000  1.024498e+07  \n",
       "max     28.000000  4.105190e+07  \n",
       "std      4.540062  5.523559e+06  "
      ]
     },
     "execution_count": 16,
     "metadata": {},
     "output_type": "execute_result"
    }
   ],
   "source": [
    "tcb_trade.describe()"
   ]
  },
  {
   "cell_type": "markdown",
   "id": "8d5bb66e",
   "metadata": {},
   "source": [
    "Nhận xét: Giá cổ phiếu trung bình là 19000VNĐ/cổ, giá thấp nhất là 10040VNĐ/cổ, giá cao nhất là 28000VNĐ/cổ."
   ]
  },
  {
   "cell_type": "markdown",
   "id": "1dd79518",
   "metadata": {},
   "source": [
    "# Visualize"
   ]
  },
  {
   "cell_type": "markdown",
   "id": "1b8eb3f8",
   "metadata": {},
   "source": [
    "## Each bank"
   ]
  },
  {
   "cell_type": "code",
   "execution_count": 17,
   "id": "72cd7e9c",
   "metadata": {},
   "outputs": [],
   "source": [
    "def visualize_trade_each_bank(bank: str):\n",
    "    if bank == \"Vietcombank\":\n",
    "        bank_trade = vcb_trade\n",
    "    elif bank == \"BIDV\":\n",
    "        bank_trade = bid_trade\n",
    "    elif bank == \"Techcombank\":\n",
    "        bank_trade = tcb_trade\n",
    "        \n",
    "    fig = go.Figure(data=[go.Candlestick(\n",
    "        x=bank_trade[\"Time\"],\n",
    "        open=bank_trade[\"Open\"],\n",
    "        high=bank_trade[\"High\"],\n",
    "        low=bank_trade[\"Low\"],\n",
    "        close=bank_trade[\"Close\"]\n",
    "    )])\n",
    "    fig.show()\n",
    "\n",
    "\n",
    "def visualize_volume_each_bank(bank: str):\n",
    "    if bank == \"Vietcombank\":\n",
    "        bank_trade = vcb_trade\n",
    "    elif bank == \"BIDV\":\n",
    "        bank_trade = bid_trade\n",
    "    elif bank == \"Techcombank\":\n",
    "        bank_trade = tcb_trade\n",
    "        \n",
    "    fig = go.Figure(data=[go.Bar(x=bank_trade[\"Time\"], y=bank_trade[\"Volume\"])])\n",
    "    fig.update_layout(\n",
    "        title=\"Khối lượng giao dịch theo thời gian\",\n",
    "        xaxis_title=\"Thời gian\",\n",
    "        yaxis_title=\"Khối lượng giao dịch\"\n",
    "    )\n",
    "\n",
    "    fig.show()"
   ]
  },
  {
   "cell_type": "markdown",
   "id": "eef55d70",
   "metadata": {},
   "source": [
    "### Vietcombank"
   ]
  },
  {
   "cell_type": "code",
   "execution_count": 18,
   "id": "0de9ea76",
   "metadata": {},
   "outputs": [
    {
     "data": {
      "application/vnd.plotly.v1+json": {
       "config": {
        "plotlyServerURL": "https://plot.ly"
       },
       "data": [
        {
         "close": {
          "bdata": "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",
          "dtype": "f8"
         },
         "high": {
          "bdata": "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",
          "dtype": "f8"
         },
         "low": {
          "bdata": "16NwPQoXRkDXo3A9ChdGQI/C9ShcD0ZAhetRuB4lRkB7FK5H4TpGQHsUrkfhOkZA16NwPQoXRkD2KFyPwrVGQI/C9Shc70ZArkfhehROR0ApXI/C9chHQFK4HoXrEUhASOF6FK6HR0DhehSuR2FIQJqZmZmZ+UhAFK5H4Xo0SUC4HoXrUThKQJqZmZmZmUlAFK5H4Xo0SUC4HoXrUVhJQKRwPQrXg0lAUrgeheuRSUCF61G4HsVJQFyPwvUofElAexSuR+FaSEB7FK5H4bpHQNejcD0Kd0hAFK5H4XqUSEDXo3A9CndIQGZmZmZmhkhAUrgehesRSEDsUbgehUtIQFK4HoXrEUhAUrgehesRSEBmZmZmZuZHQHE9Ctej0EdAuB6F61HYR0Bcj8L1KPxHQKRwPQrXA0hAw/UoXI/CR0AUrkfhehRHQMP1KFyPIkdAmpmZmZl5R0DhehSuR4FHQI/C9Shcj0dAj8L1KFzvRkCF61G4HgVHQOxRuB6Fa0dAmpmZmZl5R0ApXI/C9chHQArXo3A9CkhACtejcD0KSECF61G4HqVHQLgehetROEdAuB6F61E4R0B7FK5H4RpHQBSuR+F6FEdAuB6F61E4R0DXo3A9CvdGQKRwPQrXY0dApHA9CtdjR0DD9ShcjyJHQOF6FK5HgUdAmpmZmZl5R0B7FK5H4RpHQLgehetROEdAj8L1KFzvRkD2KFyPwrVGQJqZmZmZ+UVAmpmZmZn5RUDhehSuRwFGQIXrUbgeJUZAZmZmZmZmRkCuR+F6FM5FQB+F61G4XkZAhetRuB4lRkCkcD0K14NGQEjhehSup0ZAH4XrUbheRkAK16NwPYpGQFyPwvUofEZASOF6FK4HRkD2KFyPwtVFQB+F61G4XkZArkfhehTORUDsUbgehatEQBSuR+F69ERAMzMzMzOzREA9CtejcD1FQK5H4XoULkVAPQrXo3A9RUDXo3A9CtdEQArXo3A9CkVArkfhehQuRUCF61G4HoVFQHsUrkfhmkVAw/UoXI+iRUDXo3A9ChdGQB+F61G4XkZAH4XrUbheRkDD9Shcj6JFQKRwPQrXQ0VAPQrXo3AdRkBxPQrXo1BGQOF6FK5HAUZA7FG4HoXrRUBcj8L1KPxEQBSuR+F69ERAMzMzMzNTRUAK16NwPapFQM3MzMzMjEVAMzMzMzNTRUDsUbgehUtFQD0K16NwPUVA9ihcj8I1RUAAAAAAACBFQK5H4XoULkVArkfhehQuRUAzMzMzM1NFQK5H4XoULkVAhetRuB6lREDNzMzMzOxEQNejcD0K10RAw/UoXI+CQ0CuR+F6FE5EQM3MzMzM7ERApHA9CtdjRECuR+F6FE5EQLgehetROERAZmZmZmZGREAK16NwPWpEQKRwPQrXY0RAw/UoXI8iREBmZmZmZkZEQArXo3A9akRApHA9CtdjRECkcD0K12NEQHsUrkfhukRAH4XrUbjeRECuR+F6FC5FQEjhehSuJ0VAUrgehesRRUCF61G4HoVFQNejcD0KF0ZAXI/C9Sh8RkDXo3A9CvdGQHE9CtejMEdAAAAAAACgRkCPwvUoXK9GQDMzMzMz00ZAKVyPwvXoRkDD9ShcjyJHQNejcD0K90ZAH4XrUbj+RkAfhetRuP5GQDMzMzMz00ZASOF6FK6nRkAAAAAAAKBGQD0K16NwvUZAhetRuB4FR0C4HoXrUThHQClcj8L16EZAXI/C9ShcR0ApXI/C9chHQFyPwvUoXEdAAAAAAABAR0CamZmZmZlGQNejcD0KF0ZAhetRuB4lRkBxPQrXo1BGQMP1KFyPQkZArkfhehTORUA9CtejcB1GQHsUrkfhOkZA16NwPQoXRkDD9Shcj0JGQI/C9ShcD0ZAUrgehevxRUDXo3A9CndFQFyPwvUo/ERAw/UoXI8CRUBmZmZmZuZEQBSuR+F69ERAAAAAAACAREBI4XoUrudDQK5H4XoUrkNAw/UoXI8iREDsUbgehctDQD0K16NwfUJAZmZmZmYmQkCuR+F6FI5BQD0K16NwnUFA4XoUrkfBQUCPwvUoXA9DQM3MzMzMjEJAj8L1KFwPQ0CPwvUoXA9DQAAAAAAAAENA4XoUrkdBQ0DD9Shcj6JCQHE9CtejsEJAZmZmZmZmQ0AAAAAAAKBDQGZmZmZmRkRASOF6FK6HREDhehSuR8FEQKRwPQrXY0RApHA9CtdjREDD9Shcj4JDQMP1KFyPIkRAZmZmZmZGRECPwvUoXI9EQGZmZmZmRkRA7FG4HoWrREBcj8L1KPxEQArXo3A9akRASOF6FK7nQ0DhehSuR2FFQNejcD0K10RAPQrXo3A9RUBI4XoUrodEQAAAAAAAgERASOF6FK6HREA9CtejcJ1EQGZmZmZm5kRAhetRuB6FRUCuR+F6FM5FQK5H4XoUbkZAFK5H4Xp0RkBcj8L1KFxHQEjhehSup0ZA16NwPQoXRkCuR+F6FM5FQPYoXI/C1UVA7FG4HoXrRUCPwvUoXA9GQHsUrkfhOkZAw/UoXI9CRkC4HoXrUVhGQB+F61G4XkZAH4XrUbheRkApXI/C9UhGQBSuR+F6dEZAZmZmZmZmRkC4HoXrUVhGQLgehetRWEZApHA9CteDRkDsUbgehctGQEjhehSup0ZA9ihcj8K1RkAK16NwPSpHQFyPwvUoXEdAw/UoXI/CR0CkcD0K1wNIQClcj8L1aEhAmpmZmZkZSEB7FK5H4bpHQAAAAAAAIEhAexSuR+FaSEC4HoXrUbhIQHE9CtejUElASOF6FK7HSEApXI/C9ehJQK5H4XoUbklAPQrXo3DdSEB7FK5H4TpJQNejcD0KF0lAexSuR+E6SUApXI/C9ehJQM3MzMzMDEpAFK5H4XoUSkD2KFyPwlVKQEjhehSuR0pAzczMzMwMSkAzMzMzM9NJQDMzMzMz00lAXI/C9SgcSkDNzMzMzAxKQPYoXI/CVUpAH4XrUbieSkBSuB6F6zFKQDMzMzMz00lAXI/C9Sh8SUDXo3A9CvdJQLgehetROEpAXI/C9SgcSkAfhetRuP5JQD0K16NwvUlAhetRuB7FSUDNzMzMzMxJQI/C9Shcr0lA16NwPQr3SUApXI/C9ehJQNejcD0Kt0lA4XoUrkehSUDNzMzMzMxJQLgehetRWElAFK5H4Xo0SUCamZmZmRlIQI/C9ShcL0hAZmZmZmaGSEC4HoXrUbhIQM3MzMzMLElA7FG4HoXrSECkcD0K14NJQOF6FK5HoUlAzczMzMwMSkDhehSuR6FJQDMzMzMz00lAcT0K16PwSUDNzMzMzMxJQDMzMzMz00lAuB6F61FYSUAUrkfhejRJQJqZmZmZ+UhA7FG4HoXrSEA9CtejcN1IQJqZmZmZ+UhAPQrXo3DdSEBI4XoUrsdIQOxRuB6F60hA7FG4HoXrSEAAAAAAAMBIQMP1KFyPokhASOF6FK7HSECkcD0K1+NIQClcj8L1CElAhetRuB4lSUCPwvUoXA9JQJqZmZmZ+UhArkfhehRuSUDD9ShcjyJKQHE9Ctej8ElAhetRuB7FSUDXo3A9CrdJQDMzMzMz00lAexSuR+HaSUDD9ShcjyJKQFyPwvUoHEpAuB6F61E4SkBcj8L1KBxKQBSuR+F6FEpAZmZmZmYGSkDD9Shcj+JJQM3MzMzMDEpAzczMzMwMSkAK16NwPSpKQD0K16NwXUpApHA9CtdjSkDsUbgehWtKQPYoXI/C9UpAMzMzMzNTS0C4HoXrUXhLQLgehetReEtAKVyPwvUITEBI4XoUrsdLQFyPwvUoPExAH4XrUbi+TECF61G4HsVMQJqZmZmZOU1AzczMzMzMTEDD9Shcj0JMQFyPwvUoPExACtejcD1KTEDNzMzMzCxMQHE9CtejEExAXI/C9Sg8TEDD9Shcj0JMQOF6FK5HoUxAUrgehetRTEDD9Shcj0JMQArXo3A9SkxASOF6FK5nTED2KFyPwnVMQK5H4XoUbkxAuB6F61H4TEAUrkfhetRMQBSuR+F6FE1APQrXo3BdTUAzMzMzM3NNQOF6FK5HgU1AKVyPwvWITUAfhetRuJ5NQPYoXI/CVU1AMzMzMzNzTUDXo3A9CpdNQDMzMzMzM05AXI/C9Si8TkCPwvUoXO9OQBSuR+F6tE5Aw/UoXI+iTkAAAAAAAIBOQI/C9Shcb05AhetRuB5FTkDD9ShcjyJOQJqZmZmZGU5Aw/UoXI8iTkDD9ShcjyJOQJqZmZmZmU1AmpmZmZmZTUCkcD0K18NNQJqZmZmZmU1ACtejcD2qTUDhehSuR6FNQKRwPQrXw01A9ihcj8LVTUA9CtejcF1NQOxRuB6Fy0xApHA9CtfDTECkcD0K18NMQBSuR+F61ExAcT0K16MQTUCamZmZmZlNQEjhehSuh01AzczMzMzMTUAAAAAAAABOQI/C9Shc701AzczMzMzMTUCuR+F6FG5NQFyPwvUovE1AXI/C9Si8TUDXo3A9CndNQOF6FK5HoU1ASOF6FK6HTUCkcD0K18NMQIXrUbge5UxASOF6FK4HTUCkcD0K18NMQEjhehSuh01AcT0K16MQTUC4HoXrURhNQNejcD0K90xA4XoUrkchTUCuR+F6FO5MQFK4HoXrsUxASOF6FK6HTEDD9Shcj0JMQM3MzMzM7EtAuB6F61EYTEDsUbgehUtMQClcj8L1qExAuB6F61GYTEC4HoXrUZhMQOF6FK5HoUxAuB6F61GYTECuR+F6FG5MQAAAAAAAIExAKVyPwvWoS0DXo3A9CpdLQI/C9ShcD0xA7FG4HoVLTEDNzMzMzOxLQGZmZmZmBkxAzczMzMzsS0CF61G4HmVMQOxRuB6Fy0xA16NwPQr3TEDXo3A9CndNQJqZmZmZmU1ASOF6FK6HTUBmZmZmZmZNQGZmZmZmZk1ApHA9CtfDTECPwvUoXI9MQI/C9Shcj0xArkfhehTuTEAfhetRuP5MQLgehetRmExArkfhehRuTEBSuB6F67FMQLgehetRmExAuB6F61GYTECuR+F6FG5MQPYoXI/CdUxAXI/C9ShcTED2KFyPwnVMQBSuR+F6VExAAAAAAAAgTEBcj8L1KFxMQFyPwvUoXExArkfhehRuTECuR+F6FG5MQK5H4XoUbkxAAAAAAAAgTEC4HoXrURhMQB+F61G4/ktAuB6F61EYTEA9CtejcH1LQMP1KFyPQktACtejcD3KSkDNzMzMzOxKQHsUrkfh2kpApHA9CtfjSkA9CtejcP1KQM3MzMzMbEtA16NwPQqXS0CPwvUoXI9LQHsUrkfh2kpAPQrXo3B9S0BxPQrXo7BLQLgehetRGExAKVyPwvWoTEA9CtejcN1MQEjhehSuB01ACtejcD0qTUDhehSuR6FNQHsUrkfhOk1AXI/C9Si8TUBcj8L1KLxNQKRwPQrXw01AmpmZmZkZTkBcj8L1KDxOQIXrUbgexU5AXI/C9Sg8TkBmZmZmZmZOQPYoXI/CVU5AUrgeheuRTkBmZmZmZmZOQMP1KFyPIk5AmpmZmZmZTUCuR+F6FG5NQM3MzMzMzE1AZmZmZmbmTUDNzMzMzMxNQD0K16Nw3U1AzczMzMzMTUCPwvUoXO9NQD0K16Nw3U1AZmZmZmbmTUCF61G4HkVOQI/C9Shc701AXI/C9Si8TUBcj8L1KLxNQM3MzMzMzE1AXI/C9Sg8TkCF61G4HkVQQD0K16NwvU9AmpmZmZn5T0DXo3A9CtdPQK5H4XoUzk9AcT0K16PwT0CuR+F6FM5PQLgehetReE9AcT0K16NwT0AK16NwPYpPQKRwPQrXo09ASOF6FK5nT0CPwvUoXO9OQI/C9Shc705Aj8L1KFzvTkBxPQrXo3BPQNejcD0K109AuB6F61F4T0CF61G4HgVQQJqZmZmZ+U9AmpmZmZn5T0A9CtejcL1PQOxRuB6Fq09ASOF6FK5nT0AfhetRuF5PQFK4HoXrkU9A4XoUrkeBT0DhehSuR4FPQOF6FK5HgU9AuB6F61F4T0CF61G4HkVPQB+F61G4Xk9AhetRuB7FTkCF61G4HkVOQI/C9Shc701AAAAAAAAATkAK16NwPSpOQPYoXI/C1U1Aw/UoXI8iTkCF61G4HkVOQAAAAAAAgE5AuB6F61F4TkAUrkfherROQOF6FK5HAU9AUrgehesRT0CuR+F6FM5OQB+F61G43k5A7FG4HoWrTkCF61G4HkVOQIXrUbgeRU5AH4XrUbheTkCamZmZmZlOQOxRuB6Fq05AFK5H4Xq0TkD2KFyPwlVOQPYoXI/CVU5AhetRuB5FTkCamZmZmRlOQAAAAAAAAE5AKVyPwvUITkApXI/C9QhOQJqZmZmZmU1ACtejcD0qTUCuR+F6FG5NQEjhehSuh01A4XoUrkehTUAzMzMzM7NNQJqZmZmZmU1AZmZmZmZmTUDhehSuRyFNQLgehetRGE1AcT0K16OQTUCkcD0K10NNQOF6FK5HIU1A4XoUrkchTUCuR+F6FO5MQOF6FK5HoUxAuB6F61GYTEC4HoXrUZhMQLgehetRmExAH4XrUbh+TEAfhetRuH5MQK5H4XoUbkxAH4XrUbh+TEAUrkfhetRMQD0K16NwXU1ArkfhehRuTUCuR+F6FG5NQArXo3A9Kk1AH4XrUbj+TECuR+F6FG5NQNejcD0Kd01AzczMzMxMTUCkcD0K10NNQM3MzMzMTE1ApHA9CtdDTUBmZmZmZmZNQKRwPQrXQ01AUrgehesxTUCkcD0K10NNQHsUrkfhOk1ACtejcD0qTUAK16NwPSpNQFK4HoXrMU1AUrgehesxTUCkcD0K10NNQPYoXI/C1U1ACtejcD2qTUBxPQrXoxBNQB+F61G4/kxAuB6F61EYTUAK16NwPSpNQHsUrkfhOk1AUrgehesxTUDNzMzMzExNQD0K16NwXU1AzczMzMxMTUCuR+F6FG5NQEjhehSuh01AXI/C9Si8TUBcj8L1KDxOQK5H4XoUzk5AhetRuB5FTkDD9Shcj6JOQGZmZmZmZk5AuB6F61F4TkCPwvUoXG9OQJqZmZmZmU5AMzMzMzMzTkDD9ShcjyJOQClcj8L1CE5A9ihcj8LVTUCkcD0K18NNQK5H4XoUbk1AcT0K16OQTUDNzMzMzMxNQDMzMzMzs01A4XoUrkehTUAAAAAAAABOQGZmZmZmZk5AzczMzMxMTkBmZmZmZmZOQGZmZmZmZk5AAAAAAACATkCPwvUoXO9OQI/C9Shc705AhetRuB7FTkCF61G4HsVOQBSuR+F6tE5ASOF6FK7nTkAfhetRuN5OQBSuR+F6tE5Aj8L1KFxvTkBmZmZmZmZOQAAAAAAAgE5AAAAAAACATkApXI/C9YhOQClcj8L1iE5AKVyPwvWITkDsUbgehatOQIXrUbgexU5AhetRuB7FTkBSuB6F65FOQAAAAAAAgE5AUrgeheuRTkDsUbgehatOQJqZmZmZmU5AhetRuB7FTkDD9Shcj6JOQJqZmZmZmU5AhetRuB5FT0BI4XoUrudOQIXrUbgexU5AKVyPwvUIT0DsUbgehStPQPYoXI/C1U5AXI/C9Si8TkBcj8L1KLxOQFyPwvUovE5AXI/C9Si8TkDD9Shcj6JOQGZmZmZmZk5AmpmZmZkZTkBxPQrXoxBOQArXo3A9Kk5AzczMzMxMTkBmZmZmZmZOQFK4HoXrkU5AH4XrUbjeTkCPwvUoXO9OQI/C9Shc705ASOF6FK5nT0C4HoXrUfhOQI/C9Shc705AexSuR+EaT0BI4XoUrmdPQEjhehSuZ09AexSuR+GaT0DsUbgehStPQIXrUbgeRU9AUrgehesRT0BSuB6F6xFPQClcj8L1CE9AexSuR+EaT0D2KFyPwtVOQB+F61G43k5ASOF6FK7nTkCF61G4HsVOQPYoXI/C1U5AhetRuB7FTkD2KFyPwtVOQIXrUbgexU5AAAAAAACATkCamZmZmZlOQFyPwvUovE5AXI/C9Si8TkAfhetRuN5OQJqZmZmZmU5A7FG4HoWrTkBSuB6F65FOQLgehetReE5AAAAAAACATkBSuB6F65FOQBSuR+F6tE5A9ihcj8LVTkDD9Shcj6JOQClcj8L1iE5AAAAAAACATkApXI/C9YhOQK5H4XoUzk5Aw/UoXI+iTkDsUbgehatOQIXrUbgexU5A4XoUrkcBT0CPwvUoXO9OQFyPwvUovE5A7FG4HoWrTkCamZmZmZlOQFK4HoXrkU5AmpmZmZmZTkCamZmZmZlOQFK4HoXrkU5AKVyPwvWITkDsUbgehatOQK5H4XoUzk5A4XoUrkcBT0CPwvUoXO9OQPYoXI/C1U5AcT0K16NwT0AUrkfhejRPQHsUrkfhGk9A4XoUrkcBT0B7FK5H4RpPQOxRuB6FK09AhetRuB5FT0BSuB6F6xFQQJqZmZmZ+U9AZmZmZmZmUEDNzMzMzExQQJqZmZmZWVBAAAAAAACAUEAzMzMzM7NQQAAAAAAAoFBAzczMzMyMUEAAAAAAAIBQQAAAAAAAYFBAzczMzMyMUEAzMzMzM3NQQAAAAAAAYFBAMzMzMzMzUEAAAAAAAABQQA==",
          "dtype": "f8"
         },
         "open": {
          "bdata": "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",
          "dtype": "f8"
         },
         "type": "candlestick",
         "x": [
          "2022-01-04T00:00:00.000000000",
          "2022-01-05T00:00:00.000000000",
          "2022-01-06T00:00:00.000000000",
          "2022-01-07T00:00:00.000000000",
          "2022-01-10T00:00:00.000000000",
          "2022-01-11T00:00:00.000000000",
          "2022-01-12T00:00:00.000000000",
          "2022-01-13T00:00:00.000000000",
          "2022-01-14T00:00:00.000000000",
          "2022-01-17T00:00:00.000000000",
          "2022-01-18T00:00:00.000000000",
          "2022-01-19T00:00:00.000000000",
          "2022-01-20T00:00:00.000000000",
          "2022-01-21T00:00:00.000000000",
          "2022-01-24T00:00:00.000000000",
          "2022-01-25T00:00:00.000000000",
          "2022-01-26T00:00:00.000000000",
          "2022-01-27T00:00:00.000000000",
          "2022-01-28T00:00:00.000000000",
          "2022-02-07T00:00:00.000000000",
          "2022-02-08T00:00:00.000000000",
          "2022-02-09T00:00:00.000000000",
          "2022-02-10T00:00:00.000000000",
          "2022-02-11T00:00:00.000000000",
          "2022-02-14T00:00:00.000000000",
          "2022-02-15T00:00:00.000000000",
          "2022-02-16T00:00:00.000000000",
          "2022-02-17T00:00:00.000000000",
          "2022-02-18T00:00:00.000000000",
          "2022-02-21T00:00:00.000000000",
          "2022-02-22T00:00:00.000000000",
          "2022-02-23T00:00:00.000000000",
          "2022-02-24T00:00:00.000000000",
          "2022-02-25T00:00:00.000000000",
          "2022-02-28T00:00:00.000000000",
          "2022-03-01T00:00:00.000000000",
          "2022-03-02T00:00:00.000000000",
          "2022-03-03T00:00:00.000000000",
          "2022-03-04T00:00:00.000000000",
          "2022-03-07T00:00:00.000000000",
          "2022-03-08T00:00:00.000000000",
          "2022-03-09T00:00:00.000000000",
          "2022-03-10T00:00:00.000000000",
          "2022-03-11T00:00:00.000000000",
          "2022-03-14T00:00:00.000000000",
          "2022-03-15T00:00:00.000000000",
          "2022-03-16T00:00:00.000000000",
          "2022-03-17T00:00:00.000000000",
          "2022-03-18T00:00:00.000000000",
          "2022-03-21T00:00:00.000000000",
          "2022-03-22T00:00:00.000000000",
          "2022-03-23T00:00:00.000000000",
          "2022-03-24T00:00:00.000000000",
          "2022-03-25T00:00:00.000000000",
          "2022-03-28T00:00:00.000000000",
          "2022-03-29T00:00:00.000000000",
          "2022-03-30T00:00:00.000000000",
          "2022-03-31T00:00:00.000000000",
          "2022-04-01T00:00:00.000000000",
          "2022-04-04T00:00:00.000000000",
          "2022-04-05T00:00:00.000000000",
          "2022-04-06T00:00:00.000000000",
          "2022-04-07T00:00:00.000000000",
          "2022-04-08T00:00:00.000000000",
          "2022-04-12T00:00:00.000000000",
          "2022-04-13T00:00:00.000000000",
          "2022-04-14T00:00:00.000000000",
          "2022-04-15T00:00:00.000000000",
          "2022-04-18T00:00:00.000000000",
          "2022-04-19T00:00:00.000000000",
          "2022-04-20T00:00:00.000000000",
          "2022-04-21T00:00:00.000000000",
          "2022-04-22T00:00:00.000000000",
          "2022-04-25T00:00:00.000000000",
          "2022-04-26T00:00:00.000000000",
          "2022-04-27T00:00:00.000000000",
          "2022-04-28T00:00:00.000000000",
          "2022-04-29T00:00:00.000000000",
          "2022-05-04T00:00:00.000000000",
          "2022-05-05T00:00:00.000000000",
          "2022-05-06T00:00:00.000000000",
          "2022-05-09T00:00:00.000000000",
          "2022-05-10T00:00:00.000000000",
          "2022-05-11T00:00:00.000000000",
          "2022-05-12T00:00:00.000000000",
          "2022-05-13T00:00:00.000000000",
          "2022-05-16T00:00:00.000000000",
          "2022-05-17T00:00:00.000000000",
          "2022-05-18T00:00:00.000000000",
          "2022-05-19T00:00:00.000000000",
          "2022-05-20T00:00:00.000000000",
          "2022-05-23T00:00:00.000000000",
          "2022-05-24T00:00:00.000000000",
          "2022-05-25T00:00:00.000000000",
          "2022-05-26T00:00:00.000000000",
          "2022-05-27T00:00:00.000000000",
          "2022-05-30T00:00:00.000000000",
          "2022-05-31T00:00:00.000000000",
          "2022-06-01T00:00:00.000000000",
          "2022-06-02T00:00:00.000000000",
          "2022-06-03T00:00:00.000000000",
          "2022-06-06T00:00:00.000000000",
          "2022-06-07T00:00:00.000000000",
          "2022-06-08T00:00:00.000000000",
          "2022-06-09T00:00:00.000000000",
          "2022-06-10T00:00:00.000000000",
          "2022-06-13T00:00:00.000000000",
          "2022-06-14T00:00:00.000000000",
          "2022-06-15T00:00:00.000000000",
          "2022-06-16T00:00:00.000000000",
          "2022-06-17T00:00:00.000000000",
          "2022-06-20T00:00:00.000000000",
          "2022-06-21T00:00:00.000000000",
          "2022-06-22T00:00:00.000000000",
          "2022-06-23T00:00:00.000000000",
          "2022-06-24T00:00:00.000000000",
          "2022-06-27T00:00:00.000000000",
          "2022-06-28T00:00:00.000000000",
          "2022-06-29T00:00:00.000000000",
          "2022-06-30T00:00:00.000000000",
          "2022-07-01T00:00:00.000000000",
          "2022-07-04T00:00:00.000000000",
          "2022-07-05T00:00:00.000000000",
          "2022-07-06T00:00:00.000000000",
          "2022-07-07T00:00:00.000000000",
          "2022-07-08T00:00:00.000000000",
          "2022-07-11T00:00:00.000000000",
          "2022-07-12T00:00:00.000000000",
          "2022-07-13T00:00:00.000000000",
          "2022-07-14T00:00:00.000000000",
          "2022-07-15T00:00:00.000000000",
          "2022-07-18T00:00:00.000000000",
          "2022-07-19T00:00:00.000000000",
          "2022-07-20T00:00:00.000000000",
          "2022-07-21T00:00:00.000000000",
          "2022-07-22T00:00:00.000000000",
          "2022-07-25T00:00:00.000000000",
          "2022-07-26T00:00:00.000000000",
          "2022-07-27T00:00:00.000000000",
          "2022-07-28T00:00:00.000000000",
          "2022-07-29T00:00:00.000000000",
          "2022-08-01T00:00:00.000000000",
          "2022-08-02T00:00:00.000000000",
          "2022-08-03T00:00:00.000000000",
          "2022-08-04T00:00:00.000000000",
          "2022-08-05T00:00:00.000000000",
          "2022-08-08T00:00:00.000000000",
          "2022-08-09T00:00:00.000000000",
          "2022-08-10T00:00:00.000000000",
          "2022-08-11T00:00:00.000000000",
          "2022-08-12T00:00:00.000000000",
          "2022-08-15T00:00:00.000000000",
          "2022-08-16T00:00:00.000000000",
          "2022-08-17T00:00:00.000000000",
          "2022-08-18T00:00:00.000000000",
          "2022-08-19T00:00:00.000000000",
          "2022-08-22T00:00:00.000000000",
          "2022-08-23T00:00:00.000000000",
          "2022-08-24T00:00:00.000000000",
          "2022-08-25T00:00:00.000000000",
          "2022-08-26T00:00:00.000000000",
          "2022-08-29T00:00:00.000000000",
          "2022-08-30T00:00:00.000000000",
          "2022-08-31T00:00:00.000000000",
          "2022-09-05T00:00:00.000000000",
          "2022-09-06T00:00:00.000000000",
          "2022-09-07T00:00:00.000000000",
          "2022-09-08T00:00:00.000000000",
          "2022-09-09T00:00:00.000000000",
          "2022-09-12T00:00:00.000000000",
          "2022-09-13T00:00:00.000000000",
          "2022-09-14T00:00:00.000000000",
          "2022-09-15T00:00:00.000000000",
          "2022-09-16T00:00:00.000000000",
          "2022-09-19T00:00:00.000000000",
          "2022-09-20T00:00:00.000000000",
          "2022-09-21T00:00:00.000000000",
          "2022-09-22T00:00:00.000000000",
          "2022-09-23T00:00:00.000000000",
          "2022-09-26T00:00:00.000000000",
          "2022-09-27T00:00:00.000000000",
          "2022-09-28T00:00:00.000000000",
          "2022-09-29T00:00:00.000000000",
          "2022-09-30T00:00:00.000000000",
          "2022-10-03T00:00:00.000000000",
          "2022-10-04T00:00:00.000000000",
          "2022-10-05T00:00:00.000000000",
          "2022-10-06T00:00:00.000000000",
          "2022-10-07T00:00:00.000000000",
          "2022-10-10T00:00:00.000000000",
          "2022-10-11T00:00:00.000000000",
          "2022-10-12T00:00:00.000000000",
          "2022-10-13T00:00:00.000000000",
          "2022-10-14T00:00:00.000000000",
          "2022-10-17T00:00:00.000000000",
          "2022-10-18T00:00:00.000000000",
          "2022-10-19T00:00:00.000000000",
          "2022-10-20T00:00:00.000000000",
          "2022-10-21T00:00:00.000000000",
          "2022-10-24T00:00:00.000000000",
          "2022-10-25T00:00:00.000000000",
          "2022-10-26T00:00:00.000000000",
          "2022-10-27T00:00:00.000000000",
          "2022-10-28T00:00:00.000000000",
          "2022-10-31T00:00:00.000000000",
          "2022-11-01T00:00:00.000000000",
          "2022-11-02T00:00:00.000000000",
          "2022-11-03T00:00:00.000000000",
          "2022-11-04T00:00:00.000000000",
          "2022-11-07T00:00:00.000000000",
          "2022-11-08T00:00:00.000000000",
          "2022-11-09T00:00:00.000000000",
          "2022-11-10T00:00:00.000000000",
          "2022-11-11T00:00:00.000000000",
          "2022-11-14T00:00:00.000000000",
          "2022-11-15T00:00:00.000000000",
          "2022-11-16T00:00:00.000000000",
          "2022-11-17T00:00:00.000000000",
          "2022-11-18T00:00:00.000000000",
          "2022-11-21T00:00:00.000000000",
          "2022-11-22T00:00:00.000000000",
          "2022-11-23T00:00:00.000000000",
          "2022-11-24T00:00:00.000000000",
          "2022-11-25T00:00:00.000000000",
          "2022-11-28T00:00:00.000000000",
          "2022-11-29T00:00:00.000000000",
          "2022-11-30T00:00:00.000000000",
          "2022-12-01T00:00:00.000000000",
          "2022-12-02T00:00:00.000000000",
          "2022-12-05T00:00:00.000000000",
          "2022-12-06T00:00:00.000000000",
          "2022-12-07T00:00:00.000000000",
          "2022-12-08T00:00:00.000000000",
          "2022-12-09T00:00:00.000000000",
          "2022-12-12T00:00:00.000000000",
          "2022-12-13T00:00:00.000000000",
          "2022-12-14T00:00:00.000000000",
          "2022-12-15T00:00:00.000000000",
          "2022-12-16T00:00:00.000000000",
          "2022-12-19T00:00:00.000000000",
          "2022-12-20T00:00:00.000000000",
          "2022-12-21T00:00:00.000000000",
          "2022-12-22T00:00:00.000000000",
          "2022-12-23T00:00:00.000000000",
          "2022-12-26T00:00:00.000000000",
          "2022-12-27T00:00:00.000000000",
          "2022-12-28T00:00:00.000000000",
          "2022-12-29T00:00:00.000000000",
          "2022-12-30T00:00:00.000000000",
          "2023-01-03T00:00:00.000000000",
          "2023-01-04T00:00:00.000000000",
          "2023-01-05T00:00:00.000000000",
          "2023-01-06T00:00:00.000000000",
          "2023-01-09T00:00:00.000000000",
          "2023-01-10T00:00:00.000000000",
          "2023-01-11T00:00:00.000000000",
          "2023-01-12T00:00:00.000000000",
          "2023-01-13T00:00:00.000000000",
          "2023-01-16T00:00:00.000000000",
          "2023-01-17T00:00:00.000000000",
          "2023-01-18T00:00:00.000000000",
          "2023-01-19T00:00:00.000000000",
          "2023-01-27T00:00:00.000000000",
          "2023-01-30T00:00:00.000000000",
          "2023-01-31T00:00:00.000000000",
          "2023-02-01T00:00:00.000000000",
          "2023-02-02T00:00:00.000000000",
          "2023-02-03T00:00:00.000000000",
          "2023-02-06T00:00:00.000000000",
          "2023-02-07T00:00:00.000000000",
          "2023-02-08T00:00:00.000000000",
          "2023-02-09T00:00:00.000000000",
          "2023-02-10T00:00:00.000000000",
          "2023-02-13T00:00:00.000000000",
          "2023-02-14T00:00:00.000000000",
          "2023-02-15T00:00:00.000000000",
          "2023-02-16T00:00:00.000000000",
          "2023-02-17T00:00:00.000000000",
          "2023-02-20T00:00:00.000000000",
          "2023-02-21T00:00:00.000000000",
          "2023-02-22T00:00:00.000000000",
          "2023-02-23T00:00:00.000000000",
          "2023-02-24T00:00:00.000000000",
          "2023-02-27T00:00:00.000000000",
          "2023-02-28T00:00:00.000000000",
          "2023-03-01T00:00:00.000000000",
          "2023-03-02T00:00:00.000000000",
          "2023-03-03T00:00:00.000000000",
          "2023-03-06T00:00:00.000000000",
          "2023-03-07T00:00:00.000000000",
          "2023-03-08T00:00:00.000000000",
          "2023-03-09T00:00:00.000000000",
          "2023-03-10T00:00:00.000000000",
          "2023-03-13T00:00:00.000000000",
          "2023-03-14T00:00:00.000000000",
          "2023-03-15T00:00:00.000000000",
          "2023-03-16T00:00:00.000000000",
          "2023-03-17T00:00:00.000000000",
          "2023-03-20T00:00:00.000000000",
          "2023-03-21T00:00:00.000000000",
          "2023-03-22T00:00:00.000000000",
          "2023-03-23T00:00:00.000000000",
          "2023-03-24T00:00:00.000000000",
          "2023-03-27T00:00:00.000000000",
          "2023-03-28T00:00:00.000000000",
          "2023-03-29T00:00:00.000000000",
          "2023-03-30T00:00:00.000000000",
          "2023-03-31T00:00:00.000000000",
          "2023-04-03T00:00:00.000000000",
          "2023-04-04T00:00:00.000000000",
          "2023-04-05T00:00:00.000000000",
          "2023-04-06T00:00:00.000000000",
          "2023-04-07T00:00:00.000000000",
          "2023-04-10T00:00:00.000000000",
          "2023-04-11T00:00:00.000000000",
          "2023-04-12T00:00:00.000000000",
          "2023-04-13T00:00:00.000000000",
          "2023-04-14T00:00:00.000000000",
          "2023-04-17T00:00:00.000000000",
          "2023-04-18T00:00:00.000000000",
          "2023-04-19T00:00:00.000000000",
          "2023-04-20T00:00:00.000000000",
          "2023-04-21T00:00:00.000000000",
          "2023-04-24T00:00:00.000000000",
          "2023-04-25T00:00:00.000000000",
          "2023-04-26T00:00:00.000000000",
          "2023-04-27T00:00:00.000000000",
          "2023-04-28T00:00:00.000000000",
          "2023-05-04T00:00:00.000000000",
          "2023-05-05T00:00:00.000000000",
          "2023-05-08T00:00:00.000000000",
          "2023-05-09T00:00:00.000000000",
          "2023-05-10T00:00:00.000000000",
          "2023-05-11T00:00:00.000000000",
          "2023-05-12T00:00:00.000000000",
          "2023-05-15T00:00:00.000000000",
          "2023-05-16T00:00:00.000000000",
          "2023-05-17T00:00:00.000000000",
          "2023-05-18T00:00:00.000000000",
          "2023-05-19T00:00:00.000000000",
          "2023-05-22T00:00:00.000000000",
          "2023-05-23T00:00:00.000000000",
          "2023-05-24T00:00:00.000000000",
          "2023-05-25T00:00:00.000000000",
          "2023-05-26T00:00:00.000000000",
          "2023-05-29T00:00:00.000000000",
          "2023-05-30T00:00:00.000000000",
          "2023-05-31T00:00:00.000000000",
          "2023-06-01T00:00:00.000000000",
          "2023-06-02T00:00:00.000000000",
          "2023-06-05T00:00:00.000000000",
          "2023-06-06T00:00:00.000000000",
          "2023-06-07T00:00:00.000000000",
          "2023-06-08T00:00:00.000000000",
          "2023-06-09T00:00:00.000000000",
          "2023-06-12T00:00:00.000000000",
          "2023-06-13T00:00:00.000000000",
          "2023-06-14T00:00:00.000000000",
          "2023-06-15T00:00:00.000000000",
          "2023-06-16T00:00:00.000000000",
          "2023-06-19T00:00:00.000000000",
          "2023-06-20T00:00:00.000000000",
          "2023-06-21T00:00:00.000000000",
          "2023-06-22T00:00:00.000000000",
          "2023-06-23T00:00:00.000000000",
          "2023-06-26T00:00:00.000000000",
          "2023-06-27T00:00:00.000000000",
          "2023-06-28T00:00:00.000000000",
          "2023-06-29T00:00:00.000000000",
          "2023-06-30T00:00:00.000000000",
          "2023-07-03T00:00:00.000000000",
          "2023-07-04T00:00:00.000000000",
          "2023-07-05T00:00:00.000000000",
          "2023-07-06T00:00:00.000000000",
          "2023-07-07T00:00:00.000000000",
          "2023-07-10T00:00:00.000000000",
          "2023-07-11T00:00:00.000000000",
          "2023-07-12T00:00:00.000000000",
          "2023-07-13T00:00:00.000000000",
          "2023-07-14T00:00:00.000000000",
          "2023-07-17T00:00:00.000000000",
          "2023-07-18T00:00:00.000000000",
          "2023-07-19T00:00:00.000000000",
          "2023-07-20T00:00:00.000000000",
          "2023-07-21T00:00:00.000000000",
          "2023-07-24T00:00:00.000000000",
          "2023-07-25T00:00:00.000000000",
          "2023-07-26T00:00:00.000000000",
          "2023-07-27T00:00:00.000000000",
          "2023-07-28T00:00:00.000000000",
          "2023-07-31T00:00:00.000000000",
          "2023-08-01T00:00:00.000000000",
          "2023-08-02T00:00:00.000000000",
          "2023-08-03T00:00:00.000000000",
          "2023-08-04T00:00:00.000000000",
          "2023-08-07T00:00:00.000000000",
          "2023-08-08T00:00:00.000000000",
          "2023-08-09T00:00:00.000000000",
          "2023-08-10T00:00:00.000000000",
          "2023-08-11T00:00:00.000000000",
          "2023-08-14T00:00:00.000000000",
          "2023-08-15T00:00:00.000000000",
          "2023-08-16T00:00:00.000000000",
          "2023-08-17T00:00:00.000000000",
          "2023-08-18T00:00:00.000000000",
          "2023-08-21T00:00:00.000000000",
          "2023-08-22T00:00:00.000000000",
          "2023-08-23T00:00:00.000000000",
          "2023-08-24T00:00:00.000000000",
          "2023-08-25T00:00:00.000000000",
          "2023-08-28T00:00:00.000000000",
          "2023-08-29T00:00:00.000000000",
          "2023-08-30T00:00:00.000000000",
          "2023-08-31T00:00:00.000000000",
          "2023-09-05T00:00:00.000000000",
          "2023-09-06T00:00:00.000000000",
          "2023-09-07T00:00:00.000000000",
          "2023-09-08T00:00:00.000000000",
          "2023-09-11T00:00:00.000000000",
          "2023-09-12T00:00:00.000000000",
          "2023-09-13T00:00:00.000000000",
          "2023-09-14T00:00:00.000000000",
          "2023-09-15T00:00:00.000000000",
          "2023-09-18T00:00:00.000000000",
          "2023-09-19T00:00:00.000000000",
          "2023-09-20T00:00:00.000000000",
          "2023-09-21T00:00:00.000000000",
          "2023-09-22T00:00:00.000000000",
          "2023-09-25T00:00:00.000000000",
          "2023-09-26T00:00:00.000000000",
          "2023-09-27T00:00:00.000000000",
          "2023-09-28T00:00:00.000000000",
          "2023-09-29T00:00:00.000000000",
          "2023-10-02T00:00:00.000000000",
          "2023-10-03T00:00:00.000000000",
          "2023-10-04T00:00:00.000000000",
          "2023-10-05T00:00:00.000000000",
          "2023-10-06T00:00:00.000000000",
          "2023-10-09T00:00:00.000000000",
          "2023-10-10T00:00:00.000000000",
          "2023-10-11T00:00:00.000000000",
          "2023-10-12T00:00:00.000000000",
          "2023-10-13T00:00:00.000000000",
          "2023-10-16T00:00:00.000000000",
          "2023-10-17T00:00:00.000000000",
          "2023-10-18T00:00:00.000000000",
          "2023-10-19T00:00:00.000000000",
          "2023-10-20T00:00:00.000000000",
          "2023-10-23T00:00:00.000000000",
          "2023-10-24T00:00:00.000000000",
          "2023-10-25T00:00:00.000000000",
          "2023-10-26T00:00:00.000000000",
          "2023-10-27T00:00:00.000000000",
          "2023-10-30T00:00:00.000000000",
          "2023-10-31T00:00:00.000000000",
          "2023-11-01T00:00:00.000000000",
          "2023-11-02T00:00:00.000000000",
          "2023-11-03T00:00:00.000000000",
          "2023-11-06T00:00:00.000000000",
          "2023-11-07T00:00:00.000000000",
          "2023-11-08T00:00:00.000000000",
          "2023-11-09T00:00:00.000000000",
          "2023-11-10T00:00:00.000000000",
          "2023-11-13T00:00:00.000000000",
          "2023-11-14T00:00:00.000000000",
          "2023-11-15T00:00:00.000000000",
          "2023-11-16T00:00:00.000000000",
          "2023-11-17T00:00:00.000000000",
          "2023-11-20T00:00:00.000000000",
          "2023-11-21T00:00:00.000000000",
          "2023-11-22T00:00:00.000000000",
          "2023-11-23T00:00:00.000000000",
          "2023-11-24T00:00:00.000000000",
          "2023-11-27T00:00:00.000000000",
          "2023-11-28T00:00:00.000000000",
          "2023-11-29T00:00:00.000000000",
          "2023-11-30T00:00:00.000000000",
          "2023-12-01T00:00:00.000000000",
          "2023-12-04T00:00:00.000000000",
          "2023-12-05T00:00:00.000000000",
          "2023-12-06T00:00:00.000000000",
          "2023-12-07T00:00:00.000000000",
          "2023-12-08T00:00:00.000000000",
          "2023-12-11T00:00:00.000000000",
          "2023-12-12T00:00:00.000000000",
          "2023-12-13T00:00:00.000000000",
          "2023-12-14T00:00:00.000000000",
          "2023-12-15T00:00:00.000000000",
          "2023-12-18T00:00:00.000000000",
          "2023-12-19T00:00:00.000000000",
          "2023-12-20T00:00:00.000000000",
          "2023-12-21T00:00:00.000000000",
          "2023-12-22T00:00:00.000000000",
          "2023-12-25T00:00:00.000000000",
          "2023-12-26T00:00:00.000000000",
          "2023-12-27T00:00:00.000000000",
          "2023-12-28T00:00:00.000000000",
          "2023-12-29T00:00:00.000000000",
          "2024-01-02T00:00:00.000000000",
          "2024-01-03T00:00:00.000000000",
          "2024-01-04T00:00:00.000000000",
          "2024-01-05T00:00:00.000000000",
          "2024-01-08T00:00:00.000000000",
          "2024-01-09T00:00:00.000000000",
          "2024-01-10T00:00:00.000000000",
          "2024-01-11T00:00:00.000000000",
          "2024-01-12T00:00:00.000000000",
          "2024-01-15T00:00:00.000000000",
          "2024-01-16T00:00:00.000000000",
          "2024-01-17T00:00:00.000000000",
          "2024-01-18T00:00:00.000000000",
          "2024-01-19T00:00:00.000000000",
          "2024-01-22T00:00:00.000000000",
          "2024-01-23T00:00:00.000000000",
          "2024-01-24T00:00:00.000000000",
          "2024-01-25T00:00:00.000000000",
          "2024-01-26T00:00:00.000000000",
          "2024-01-29T00:00:00.000000000",
          "2024-01-30T00:00:00.000000000",
          "2024-01-31T00:00:00.000000000",
          "2024-02-01T00:00:00.000000000",
          "2024-02-02T00:00:00.000000000",
          "2024-02-05T00:00:00.000000000",
          "2024-02-06T00:00:00.000000000",
          "2024-02-07T00:00:00.000000000",
          "2024-02-15T00:00:00.000000000",
          "2024-02-16T00:00:00.000000000",
          "2024-02-19T00:00:00.000000000",
          "2024-02-20T00:00:00.000000000",
          "2024-02-21T00:00:00.000000000",
          "2024-02-22T00:00:00.000000000",
          "2024-02-23T00:00:00.000000000",
          "2024-02-26T00:00:00.000000000",
          "2024-02-27T00:00:00.000000000",
          "2024-02-28T00:00:00.000000000",
          "2024-02-29T00:00:00.000000000",
          "2024-03-01T00:00:00.000000000",
          "2024-03-04T00:00:00.000000000",
          "2024-03-05T00:00:00.000000000",
          "2024-03-06T00:00:00.000000000",
          "2024-03-07T00:00:00.000000000",
          "2024-03-08T00:00:00.000000000",
          "2024-03-11T00:00:00.000000000",
          "2024-03-12T00:00:00.000000000",
          "2024-03-13T00:00:00.000000000",
          "2024-03-14T00:00:00.000000000",
          "2024-03-15T00:00:00.000000000",
          "2024-03-18T00:00:00.000000000",
          "2024-03-19T00:00:00.000000000",
          "2024-03-20T00:00:00.000000000",
          "2024-03-21T00:00:00.000000000",
          "2024-03-22T00:00:00.000000000",
          "2024-03-25T00:00:00.000000000",
          "2024-03-26T00:00:00.000000000",
          "2024-03-27T00:00:00.000000000",
          "2024-03-28T00:00:00.000000000",
          "2024-03-29T00:00:00.000000000",
          "2024-04-01T00:00:00.000000000",
          "2024-04-02T00:00:00.000000000",
          "2024-04-03T00:00:00.000000000",
          "2024-04-04T00:00:00.000000000",
          "2024-04-05T00:00:00.000000000",
          "2024-04-08T00:00:00.000000000",
          "2024-04-09T00:00:00.000000000",
          "2024-04-10T00:00:00.000000000",
          "2024-04-11T00:00:00.000000000",
          "2024-04-12T00:00:00.000000000",
          "2024-04-15T00:00:00.000000000",
          "2024-04-16T00:00:00.000000000",
          "2024-04-17T00:00:00.000000000",
          "2024-04-19T00:00:00.000000000",
          "2024-04-22T00:00:00.000000000",
          "2024-04-23T00:00:00.000000000",
          "2024-04-24T00:00:00.000000000",
          "2024-04-25T00:00:00.000000000",
          "2024-04-26T00:00:00.000000000",
          "2024-05-02T00:00:00.000000000",
          "2024-05-03T00:00:00.000000000",
          "2024-05-06T00:00:00.000000000",
          "2024-05-07T00:00:00.000000000",
          "2024-05-08T00:00:00.000000000",
          "2024-05-09T00:00:00.000000000",
          "2024-05-10T00:00:00.000000000",
          "2024-05-13T00:00:00.000000000",
          "2024-05-14T00:00:00.000000000",
          "2024-05-15T00:00:00.000000000",
          "2024-05-16T00:00:00.000000000",
          "2024-05-17T00:00:00.000000000",
          "2024-05-20T00:00:00.000000000",
          "2024-05-21T00:00:00.000000000",
          "2024-05-22T00:00:00.000000000",
          "2024-05-23T00:00:00.000000000",
          "2024-05-24T00:00:00.000000000",
          "2024-05-27T00:00:00.000000000",
          "2024-05-28T00:00:00.000000000",
          "2024-05-29T00:00:00.000000000",
          "2024-05-30T00:00:00.000000000",
          "2024-05-31T00:00:00.000000000",
          "2024-06-03T00:00:00.000000000",
          "2024-06-04T00:00:00.000000000",
          "2024-06-05T00:00:00.000000000",
          "2024-06-06T00:00:00.000000000",
          "2024-06-07T00:00:00.000000000",
          "2024-06-10T00:00:00.000000000",
          "2024-06-11T00:00:00.000000000",
          "2024-06-12T00:00:00.000000000",
          "2024-06-13T00:00:00.000000000",
          "2024-06-14T00:00:00.000000000",
          "2024-06-17T00:00:00.000000000",
          "2024-06-18T00:00:00.000000000",
          "2024-06-19T00:00:00.000000000",
          "2024-06-20T00:00:00.000000000",
          "2024-06-21T00:00:00.000000000",
          "2024-06-24T00:00:00.000000000",
          "2024-06-25T00:00:00.000000000",
          "2024-06-26T00:00:00.000000000",
          "2024-06-27T00:00:00.000000000",
          "2024-06-28T00:00:00.000000000",
          "2024-07-01T00:00:00.000000000",
          "2024-07-02T00:00:00.000000000",
          "2024-07-03T00:00:00.000000000",
          "2024-07-04T00:00:00.000000000",
          "2024-07-05T00:00:00.000000000",
          "2024-07-08T00:00:00.000000000",
          "2024-07-09T00:00:00.000000000",
          "2024-07-10T00:00:00.000000000",
          "2024-07-11T00:00:00.000000000",
          "2024-07-12T00:00:00.000000000",
          "2024-07-15T00:00:00.000000000",
          "2024-07-16T00:00:00.000000000",
          "2024-07-17T00:00:00.000000000",
          "2024-07-18T00:00:00.000000000",
          "2024-07-19T00:00:00.000000000",
          "2024-07-22T00:00:00.000000000",
          "2024-07-23T00:00:00.000000000",
          "2024-07-24T00:00:00.000000000",
          "2024-07-25T00:00:00.000000000",
          "2024-07-26T00:00:00.000000000",
          "2024-07-29T00:00:00.000000000",
          "2024-07-30T00:00:00.000000000",
          "2024-07-31T00:00:00.000000000",
          "2024-08-01T00:00:00.000000000",
          "2024-08-02T00:00:00.000000000",
          "2024-08-05T00:00:00.000000000",
          "2024-08-06T00:00:00.000000000",
          "2024-08-07T00:00:00.000000000",
          "2024-08-08T00:00:00.000000000",
          "2024-08-09T00:00:00.000000000",
          "2024-08-12T00:00:00.000000000",
          "2024-08-13T00:00:00.000000000",
          "2024-08-14T00:00:00.000000000",
          "2024-08-15T00:00:00.000000000",
          "2024-08-16T00:00:00.000000000",
          "2024-08-19T00:00:00.000000000",
          "2024-08-20T00:00:00.000000000",
          "2024-08-21T00:00:00.000000000",
          "2024-08-22T00:00:00.000000000",
          "2024-08-23T00:00:00.000000000",
          "2024-08-26T00:00:00.000000000",
          "2024-08-27T00:00:00.000000000",
          "2024-08-28T00:00:00.000000000",
          "2024-08-29T00:00:00.000000000",
          "2024-08-30T00:00:00.000000000",
          "2024-09-04T00:00:00.000000000",
          "2024-09-05T00:00:00.000000000",
          "2024-09-06T00:00:00.000000000",
          "2024-09-09T00:00:00.000000000",
          "2024-09-10T00:00:00.000000000",
          "2024-09-11T00:00:00.000000000",
          "2024-09-12T00:00:00.000000000",
          "2024-09-13T00:00:00.000000000",
          "2024-09-16T00:00:00.000000000",
          "2024-09-17T00:00:00.000000000",
          "2024-09-18T00:00:00.000000000",
          "2024-09-19T00:00:00.000000000",
          "2024-09-20T00:00:00.000000000",
          "2024-09-23T00:00:00.000000000",
          "2024-09-24T00:00:00.000000000",
          "2024-09-25T00:00:00.000000000",
          "2024-09-26T00:00:00.000000000",
          "2024-09-27T00:00:00.000000000",
          "2024-09-30T00:00:00.000000000",
          "2024-10-01T00:00:00.000000000",
          "2024-10-02T00:00:00.000000000",
          "2024-10-03T00:00:00.000000000",
          "2024-10-04T00:00:00.000000000",
          "2024-10-07T00:00:00.000000000",
          "2024-10-08T00:00:00.000000000",
          "2024-10-09T00:00:00.000000000",
          "2024-10-10T00:00:00.000000000",
          "2024-10-11T00:00:00.000000000",
          "2024-10-14T00:00:00.000000000",
          "2024-10-15T00:00:00.000000000",
          "2024-10-16T00:00:00.000000000",
          "2024-10-17T00:00:00.000000000",
          "2024-10-18T00:00:00.000000000",
          "2024-10-21T00:00:00.000000000",
          "2024-10-22T00:00:00.000000000",
          "2024-10-23T00:00:00.000000000",
          "2024-10-24T00:00:00.000000000",
          "2024-10-25T00:00:00.000000000",
          "2024-10-28T00:00:00.000000000",
          "2024-10-29T00:00:00.000000000",
          "2024-10-30T00:00:00.000000000",
          "2024-10-31T00:00:00.000000000",
          "2024-11-01T00:00:00.000000000",
          "2024-11-04T00:00:00.000000000",
          "2024-11-05T00:00:00.000000000",
          "2024-11-06T00:00:00.000000000",
          "2024-11-07T00:00:00.000000000",
          "2024-11-08T00:00:00.000000000",
          "2024-11-11T00:00:00.000000000",
          "2024-11-12T00:00:00.000000000",
          "2024-11-13T00:00:00.000000000",
          "2024-11-14T00:00:00.000000000",
          "2024-11-15T00:00:00.000000000",
          "2024-11-18T00:00:00.000000000",
          "2024-11-19T00:00:00.000000000",
          "2024-11-20T00:00:00.000000000",
          "2024-11-21T00:00:00.000000000",
          "2024-11-22T00:00:00.000000000",
          "2024-11-25T00:00:00.000000000",
          "2024-11-26T00:00:00.000000000",
          "2024-11-27T00:00:00.000000000",
          "2024-11-28T00:00:00.000000000",
          "2024-11-29T00:00:00.000000000",
          "2024-12-02T00:00:00.000000000",
          "2024-12-03T00:00:00.000000000",
          "2024-12-04T00:00:00.000000000",
          "2024-12-05T00:00:00.000000000",
          "2024-12-06T00:00:00.000000000",
          "2024-12-09T00:00:00.000000000",
          "2024-12-10T00:00:00.000000000",
          "2024-12-11T00:00:00.000000000",
          "2024-12-12T00:00:00.000000000",
          "2024-12-13T00:00:00.000000000",
          "2024-12-16T00:00:00.000000000",
          "2024-12-17T00:00:00.000000000",
          "2024-12-18T00:00:00.000000000",
          "2024-12-19T00:00:00.000000000",
          "2024-12-20T00:00:00.000000000",
          "2024-12-23T00:00:00.000000000",
          "2024-12-24T00:00:00.000000000",
          "2024-12-25T00:00:00.000000000",
          "2024-12-26T00:00:00.000000000",
          "2024-12-27T00:00:00.000000000",
          "2024-12-30T00:00:00.000000000",
          "2024-12-31T00:00:00.000000000",
          "2025-01-02T00:00:00.000000000",
          "2025-01-03T00:00:00.000000000",
          "2025-01-06T00:00:00.000000000",
          "2025-01-07T00:00:00.000000000",
          "2025-01-08T00:00:00.000000000",
          "2025-01-09T00:00:00.000000000",
          "2025-01-10T00:00:00.000000000",
          "2025-01-13T00:00:00.000000000",
          "2025-01-14T00:00:00.000000000",
          "2025-01-15T00:00:00.000000000",
          "2025-01-16T00:00:00.000000000",
          "2025-01-17T00:00:00.000000000",
          "2025-01-20T00:00:00.000000000",
          "2025-01-21T00:00:00.000000000",
          "2025-01-22T00:00:00.000000000",
          "2025-01-23T00:00:00.000000000",
          "2025-01-24T00:00:00.000000000",
          "2025-02-03T00:00:00.000000000",
          "2025-02-04T00:00:00.000000000",
          "2025-02-05T00:00:00.000000000",
          "2025-02-06T00:00:00.000000000",
          "2025-02-07T00:00:00.000000000",
          "2025-02-10T00:00:00.000000000",
          "2025-02-11T00:00:00.000000000",
          "2025-02-12T00:00:00.000000000",
          "2025-02-13T00:00:00.000000000",
          "2025-02-14T00:00:00.000000000",
          "2025-02-17T00:00:00.000000000",
          "2025-02-18T00:00:00.000000000",
          "2025-02-19T00:00:00.000000000",
          "2025-02-20T00:00:00.000000000",
          "2025-02-21T00:00:00.000000000",
          "2025-02-24T00:00:00.000000000",
          "2025-02-25T00:00:00.000000000",
          "2025-02-26T00:00:00.000000000",
          "2025-02-27T00:00:00.000000000",
          "2025-02-28T00:00:00.000000000",
          "2025-03-03T00:00:00.000000000",
          "2025-03-04T00:00:00.000000000",
          "2025-03-05T00:00:00.000000000",
          "2025-03-06T00:00:00.000000000",
          "2025-03-07T00:00:00.000000000",
          "2025-03-10T00:00:00.000000000",
          "2025-03-11T00:00:00.000000000",
          "2025-03-12T00:00:00.000000000",
          "2025-03-13T00:00:00.000000000",
          "2025-03-14T00:00:00.000000000",
          "2025-03-17T00:00:00.000000000",
          "2025-03-18T00:00:00.000000000",
          "2025-03-19T00:00:00.000000000",
          "2025-03-20T00:00:00.000000000",
          "2025-03-21T00:00:00.000000000",
          "2025-03-24T00:00:00.000000000",
          "2025-03-25T00:00:00.000000000",
          "2025-03-26T00:00:00.000000000",
          "2025-03-27T00:00:00.000000000",
          "2025-03-28T00:00:00.000000000",
          "2025-03-31T00:00:00.000000000"
         ]
        }
       ],
       "layout": {
        "template": {
         "data": {
          "bar": [
           {
            "error_x": {
             "color": "#2a3f5f"
            },
            "error_y": {
             "color": "#2a3f5f"
            },
            "marker": {
             "line": {
              "color": "#E5ECF6",
              "width": 0.5
             },
             "pattern": {
              "fillmode": "overlay",
              "size": 10,
              "solidity": 0.2
             }
            },
            "type": "bar"
           }
          ],
          "barpolar": [
           {
            "marker": {
             "line": {
              "color": "#E5ECF6",
              "width": 0.5
             },
             "pattern": {
              "fillmode": "overlay",
              "size": 10,
              "solidity": 0.2
             }
            },
            "type": "barpolar"
           }
          ],
          "carpet": [
           {
            "aaxis": {
             "endlinecolor": "#2a3f5f",
             "gridcolor": "white",
             "linecolor": "white",
             "minorgridcolor": "white",
             "startlinecolor": "#2a3f5f"
            },
            "baxis": {
             "endlinecolor": "#2a3f5f",
             "gridcolor": "white",
             "linecolor": "white",
             "minorgridcolor": "white",
             "startlinecolor": "#2a3f5f"
            },
            "type": "carpet"
           }
          ],
          "choropleth": [
           {
            "colorbar": {
             "outlinewidth": 0,
             "ticks": ""
            },
            "type": "choropleth"
           }
          ],
          "contour": [
           {
            "colorbar": {
             "outlinewidth": 0,
             "ticks": ""
            },
            "colorscale": [
             [
              0,
              "#0d0887"
             ],
             [
              0.1111111111111111,
              "#46039f"
             ],
             [
              0.2222222222222222,
              "#7201a8"
             ],
             [
              0.3333333333333333,
              "#9c179e"
             ],
             [
              0.4444444444444444,
              "#bd3786"
             ],
             [
              0.5555555555555556,
              "#d8576b"
             ],
             [
              0.6666666666666666,
              "#ed7953"
             ],
             [
              0.7777777777777778,
              "#fb9f3a"
             ],
             [
              0.8888888888888888,
              "#fdca26"
             ],
             [
              1,
              "#f0f921"
             ]
            ],
            "type": "contour"
           }
          ],
          "contourcarpet": [
           {
            "colorbar": {
             "outlinewidth": 0,
             "ticks": ""
            },
            "type": "contourcarpet"
           }
          ],
          "heatmap": [
           {
            "colorbar": {
             "outlinewidth": 0,
             "ticks": ""
            },
            "colorscale": [
             [
              0,
              "#0d0887"
             ],
             [
              0.1111111111111111,
              "#46039f"
             ],
             [
              0.2222222222222222,
              "#7201a8"
             ],
             [
              0.3333333333333333,
              "#9c179e"
             ],
             [
              0.4444444444444444,
              "#bd3786"
             ],
             [
              0.5555555555555556,
              "#d8576b"
             ],
             [
              0.6666666666666666,
              "#ed7953"
             ],
             [
              0.7777777777777778,
              "#fb9f3a"
             ],
             [
              0.8888888888888888,
              "#fdca26"
             ],
             [
              1,
              "#f0f921"
             ]
            ],
            "type": "heatmap"
           }
          ],
          "histogram": [
           {
            "marker": {
             "pattern": {
              "fillmode": "overlay",
              "size": 10,
              "solidity": 0.2
             }
            },
            "type": "histogram"
           }
          ],
          "histogram2d": [
           {
            "colorbar": {
             "outlinewidth": 0,
             "ticks": ""
            },
            "colorscale": [
             [
              0,
              "#0d0887"
             ],
             [
              0.1111111111111111,
              "#46039f"
             ],
             [
              0.2222222222222222,
              "#7201a8"
             ],
             [
              0.3333333333333333,
              "#9c179e"
             ],
             [
              0.4444444444444444,
              "#bd3786"
             ],
             [
              0.5555555555555556,
              "#d8576b"
             ],
             [
              0.6666666666666666,
              "#ed7953"
             ],
             [
              0.7777777777777778,
              "#fb9f3a"
             ],
             [
              0.8888888888888888,
              "#fdca26"
             ],
             [
              1,
              "#f0f921"
             ]
            ],
            "type": "histogram2d"
           }
          ],
          "histogram2dcontour": [
           {
            "colorbar": {
             "outlinewidth": 0,
             "ticks": ""
            },
            "colorscale": [
             [
              0,
              "#0d0887"
             ],
             [
              0.1111111111111111,
              "#46039f"
             ],
             [
              0.2222222222222222,
              "#7201a8"
             ],
             [
              0.3333333333333333,
              "#9c179e"
             ],
             [
              0.4444444444444444,
              "#bd3786"
             ],
             [
              0.5555555555555556,
              "#d8576b"
             ],
             [
              0.6666666666666666,
              "#ed7953"
             ],
             [
              0.7777777777777778,
              "#fb9f3a"
             ],
             [
              0.8888888888888888,
              "#fdca26"
             ],
             [
              1,
              "#f0f921"
             ]
            ],
            "type": "histogram2dcontour"
           }
          ],
          "mesh3d": [
           {
            "colorbar": {
             "outlinewidth": 0,
             "ticks": ""
            },
            "type": "mesh3d"
           }
          ],
          "parcoords": [
           {
            "line": {
             "colorbar": {
              "outlinewidth": 0,
              "ticks": ""
             }
            },
            "type": "parcoords"
           }
          ],
          "pie": [
           {
            "automargin": true,
            "type": "pie"
           }
          ],
          "scatter": [
           {
            "fillpattern": {
             "fillmode": "overlay",
             "size": 10,
             "solidity": 0.2
            },
            "type": "scatter"
           }
          ],
          "scatter3d": [
           {
            "line": {
             "colorbar": {
              "outlinewidth": 0,
              "ticks": ""
             }
            },
            "marker": {
             "colorbar": {
              "outlinewidth": 0,
              "ticks": ""
             }
            },
            "type": "scatter3d"
           }
          ],
          "scattercarpet": [
           {
            "marker": {
             "colorbar": {
              "outlinewidth": 0,
              "ticks": ""
             }
            },
            "type": "scattercarpet"
           }
          ],
          "scattergeo": [
           {
            "marker": {
             "colorbar": {
              "outlinewidth": 0,
              "ticks": ""
             }
            },
            "type": "scattergeo"
           }
          ],
          "scattergl": [
           {
            "marker": {
             "colorbar": {
              "outlinewidth": 0,
              "ticks": ""
             }
            },
            "type": "scattergl"
           }
          ],
          "scattermap": [
           {
            "marker": {
             "colorbar": {
              "outlinewidth": 0,
              "ticks": ""
             }
            },
            "type": "scattermap"
           }
          ],
          "scattermapbox": [
           {
            "marker": {
             "colorbar": {
              "outlinewidth": 0,
              "ticks": ""
             }
            },
            "type": "scattermapbox"
           }
          ],
          "scatterpolar": [
           {
            "marker": {
             "colorbar": {
              "outlinewidth": 0,
              "ticks": ""
             }
            },
            "type": "scatterpolar"
           }
          ],
          "scatterpolargl": [
           {
            "marker": {
             "colorbar": {
              "outlinewidth": 0,
              "ticks": ""
             }
            },
            "type": "scatterpolargl"
           }
          ],
          "scatterternary": [
           {
            "marker": {
             "colorbar": {
              "outlinewidth": 0,
              "ticks": ""
             }
            },
            "type": "scatterternary"
           }
          ],
          "surface": [
           {
            "colorbar": {
             "outlinewidth": 0,
             "ticks": ""
            },
            "colorscale": [
             [
              0,
              "#0d0887"
             ],
             [
              0.1111111111111111,
              "#46039f"
             ],
             [
              0.2222222222222222,
              "#7201a8"
             ],
             [
              0.3333333333333333,
              "#9c179e"
             ],
             [
              0.4444444444444444,
              "#bd3786"
             ],
             [
              0.5555555555555556,
              "#d8576b"
             ],
             [
              0.6666666666666666,
              "#ed7953"
             ],
             [
              0.7777777777777778,
              "#fb9f3a"
             ],
             [
              0.8888888888888888,
              "#fdca26"
             ],
             [
              1,
              "#f0f921"
             ]
            ],
            "type": "surface"
           }
          ],
          "table": [
           {
            "cells": {
             "fill": {
              "color": "#EBF0F8"
             },
             "line": {
              "color": "white"
             }
            },
            "header": {
             "fill": {
              "color": "#C8D4E3"
             },
             "line": {
              "color": "white"
             }
            },
            "type": "table"
           }
          ]
         },
         "layout": {
          "annotationdefaults": {
           "arrowcolor": "#2a3f5f",
           "arrowhead": 0,
           "arrowwidth": 1
          },
          "autotypenumbers": "strict",
          "coloraxis": {
           "colorbar": {
            "outlinewidth": 0,
            "ticks": ""
           }
          },
          "colorscale": {
           "diverging": [
            [
             0,
             "#8e0152"
            ],
            [
             0.1,
             "#c51b7d"
            ],
            [
             0.2,
             "#de77ae"
            ],
            [
             0.3,
             "#f1b6da"
            ],
            [
             0.4,
             "#fde0ef"
            ],
            [
             0.5,
             "#f7f7f7"
            ],
            [
             0.6,
             "#e6f5d0"
            ],
            [
             0.7,
             "#b8e186"
            ],
            [
             0.8,
             "#7fbc41"
            ],
            [
             0.9,
             "#4d9221"
            ],
            [
             1,
             "#276419"
            ]
           ],
           "sequential": [
            [
             0,
             "#0d0887"
            ],
            [
             0.1111111111111111,
             "#46039f"
            ],
            [
             0.2222222222222222,
             "#7201a8"
            ],
            [
             0.3333333333333333,
             "#9c179e"
            ],
            [
             0.4444444444444444,
             "#bd3786"
            ],
            [
             0.5555555555555556,
             "#d8576b"
            ],
            [
             0.6666666666666666,
             "#ed7953"
            ],
            [
             0.7777777777777778,
             "#fb9f3a"
            ],
            [
             0.8888888888888888,
             "#fdca26"
            ],
            [
             1,
             "#f0f921"
            ]
           ],
           "sequentialminus": [
            [
             0,
             "#0d0887"
            ],
            [
             0.1111111111111111,
             "#46039f"
            ],
            [
             0.2222222222222222,
             "#7201a8"
            ],
            [
             0.3333333333333333,
             "#9c179e"
            ],
            [
             0.4444444444444444,
             "#bd3786"
            ],
            [
             0.5555555555555556,
             "#d8576b"
            ],
            [
             0.6666666666666666,
             "#ed7953"
            ],
            [
             0.7777777777777778,
             "#fb9f3a"
            ],
            [
             0.8888888888888888,
             "#fdca26"
            ],
            [
             1,
             "#f0f921"
            ]
           ]
          },
          "colorway": [
           "#636efa",
           "#EF553B",
           "#00cc96",
           "#ab63fa",
           "#FFA15A",
           "#19d3f3",
           "#FF6692",
           "#B6E880",
           "#FF97FF",
           "#FECB52"
          ],
          "font": {
           "color": "#2a3f5f"
          },
          "geo": {
           "bgcolor": "white",
           "lakecolor": "white",
           "landcolor": "#E5ECF6",
           "showlakes": true,
           "showland": true,
           "subunitcolor": "white"
          },
          "hoverlabel": {
           "align": "left"
          },
          "hovermode": "closest",
          "mapbox": {
           "style": "light"
          },
          "paper_bgcolor": "white",
          "plot_bgcolor": "#E5ECF6",
          "polar": {
           "angularaxis": {
            "gridcolor": "white",
            "linecolor": "white",
            "ticks": ""
           },
           "bgcolor": "#E5ECF6",
           "radialaxis": {
            "gridcolor": "white",
            "linecolor": "white",
            "ticks": ""
           }
          },
          "scene": {
           "xaxis": {
            "backgroundcolor": "#E5ECF6",
            "gridcolor": "white",
            "gridwidth": 2,
            "linecolor": "white",
            "showbackground": true,
            "ticks": "",
            "zerolinecolor": "white"
           },
           "yaxis": {
            "backgroundcolor": "#E5ECF6",
            "gridcolor": "white",
            "gridwidth": 2,
            "linecolor": "white",
            "showbackground": true,
            "ticks": "",
            "zerolinecolor": "white"
           },
           "zaxis": {
            "backgroundcolor": "#E5ECF6",
            "gridcolor": "white",
            "gridwidth": 2,
            "linecolor": "white",
            "showbackground": true,
            "ticks": "",
            "zerolinecolor": "white"
           }
          },
          "shapedefaults": {
           "line": {
            "color": "#2a3f5f"
           }
          },
          "ternary": {
           "aaxis": {
            "gridcolor": "white",
            "linecolor": "white",
            "ticks": ""
           },
           "baxis": {
            "gridcolor": "white",
            "linecolor": "white",
            "ticks": ""
           },
           "bgcolor": "#E5ECF6",
           "caxis": {
            "gridcolor": "white",
            "linecolor": "white",
            "ticks": ""
           }
          },
          "title": {
           "x": 0.05
          },
          "xaxis": {
           "automargin": true,
           "gridcolor": "white",
           "linecolor": "white",
           "ticks": "",
           "title": {
            "standoff": 15
           },
           "zerolinecolor": "white",
           "zerolinewidth": 2
          },
          "yaxis": {
           "automargin": true,
           "gridcolor": "white",
           "linecolor": "white",
           "ticks": "",
           "title": {
            "standoff": 15
           },
           "zerolinecolor": "white",
           "zerolinewidth": 2
          }
         }
        }
       }
      }
     },
     "metadata": {},
     "output_type": "display_data"
    }
   ],
   "source": [
    "visualize_trade_each_bank(\"Vietcombank\")"
   ]
  },
  {
   "cell_type": "markdown",
   "id": "859d479c",
   "metadata": {},
   "source": [
    "Theo biểu đồ nến, ta thấy:\n",
    "  - Giá cổ phiếu khá ổn định, từ năm 2022 có xu hướng hơi giảm, thấp nhất là đầu tháng 10.\n",
    "  - Từ cuối năm 2022, giá cổ phiếu có xu hướng tăng, sau đó ổn định và đi ngang đến 2025."
   ]
  },
  {
   "cell_type": "code",
   "execution_count": 19,
   "id": "6253927b",
   "metadata": {},
   "outputs": [
    {
     "data": {
      "application/vnd.plotly.v1+json": {
       "config": {
        "plotlyServerURL": "https://plot.ly"
       },
       "data": [
        {
         "type": "bar",
         "x": [
          "2022-01-04T00:00:00.000000000",
          "2022-01-05T00:00:00.000000000",
          "2022-01-06T00:00:00.000000000",
          "2022-01-07T00:00:00.000000000",
          "2022-01-10T00:00:00.000000000",
          "2022-01-11T00:00:00.000000000",
          "2022-01-12T00:00:00.000000000",
          "2022-01-13T00:00:00.000000000",
          "2022-01-14T00:00:00.000000000",
          "2022-01-17T00:00:00.000000000",
          "2022-01-18T00:00:00.000000000",
          "2022-01-19T00:00:00.000000000",
          "2022-01-20T00:00:00.000000000",
          "2022-01-21T00:00:00.000000000",
          "2022-01-24T00:00:00.000000000",
          "2022-01-25T00:00:00.000000000",
          "2022-01-26T00:00:00.000000000",
          "2022-01-27T00:00:00.000000000",
          "2022-01-28T00:00:00.000000000",
          "2022-02-07T00:00:00.000000000",
          "2022-02-08T00:00:00.000000000",
          "2022-02-09T00:00:00.000000000",
          "2022-02-10T00:00:00.000000000",
          "2022-02-11T00:00:00.000000000",
          "2022-02-14T00:00:00.000000000",
          "2022-02-15T00:00:00.000000000",
          "2022-02-16T00:00:00.000000000",
          "2022-02-17T00:00:00.000000000",
          "2022-02-18T00:00:00.000000000",
          "2022-02-21T00:00:00.000000000",
          "2022-02-22T00:00:00.000000000",
          "2022-02-23T00:00:00.000000000",
          "2022-02-24T00:00:00.000000000",
          "2022-02-25T00:00:00.000000000",
          "2022-02-28T00:00:00.000000000",
          "2022-03-01T00:00:00.000000000",
          "2022-03-02T00:00:00.000000000",
          "2022-03-03T00:00:00.000000000",
          "2022-03-04T00:00:00.000000000",
          "2022-03-07T00:00:00.000000000",
          "2022-03-08T00:00:00.000000000",
          "2022-03-09T00:00:00.000000000",
          "2022-03-10T00:00:00.000000000",
          "2022-03-11T00:00:00.000000000",
          "2022-03-14T00:00:00.000000000",
          "2022-03-15T00:00:00.000000000",
          "2022-03-16T00:00:00.000000000",
          "2022-03-17T00:00:00.000000000",
          "2022-03-18T00:00:00.000000000",
          "2022-03-21T00:00:00.000000000",
          "2022-03-22T00:00:00.000000000",
          "2022-03-23T00:00:00.000000000",
          "2022-03-24T00:00:00.000000000",
          "2022-03-25T00:00:00.000000000",
          "2022-03-28T00:00:00.000000000",
          "2022-03-29T00:00:00.000000000",
          "2022-03-30T00:00:00.000000000",
          "2022-03-31T00:00:00.000000000",
          "2022-04-01T00:00:00.000000000",
          "2022-04-04T00:00:00.000000000",
          "2022-04-05T00:00:00.000000000",
          "2022-04-06T00:00:00.000000000",
          "2022-04-07T00:00:00.000000000",
          "2022-04-08T00:00:00.000000000",
          "2022-04-12T00:00:00.000000000",
          "2022-04-13T00:00:00.000000000",
          "2022-04-14T00:00:00.000000000",
          "2022-04-15T00:00:00.000000000",
          "2022-04-18T00:00:00.000000000",
          "2022-04-19T00:00:00.000000000",
          "2022-04-20T00:00:00.000000000",
          "2022-04-21T00:00:00.000000000",
          "2022-04-22T00:00:00.000000000",
          "2022-04-25T00:00:00.000000000",
          "2022-04-26T00:00:00.000000000",
          "2022-04-27T00:00:00.000000000",
          "2022-04-28T00:00:00.000000000",
          "2022-04-29T00:00:00.000000000",
          "2022-05-04T00:00:00.000000000",
          "2022-05-05T00:00:00.000000000",
          "2022-05-06T00:00:00.000000000",
          "2022-05-09T00:00:00.000000000",
          "2022-05-10T00:00:00.000000000",
          "2022-05-11T00:00:00.000000000",
          "2022-05-12T00:00:00.000000000",
          "2022-05-13T00:00:00.000000000",
          "2022-05-16T00:00:00.000000000",
          "2022-05-17T00:00:00.000000000",
          "2022-05-18T00:00:00.000000000",
          "2022-05-19T00:00:00.000000000",
          "2022-05-20T00:00:00.000000000",
          "2022-05-23T00:00:00.000000000",
          "2022-05-24T00:00:00.000000000",
          "2022-05-25T00:00:00.000000000",
          "2022-05-26T00:00:00.000000000",
          "2022-05-27T00:00:00.000000000",
          "2022-05-30T00:00:00.000000000",
          "2022-05-31T00:00:00.000000000",
          "2022-06-01T00:00:00.000000000",
          "2022-06-02T00:00:00.000000000",
          "2022-06-03T00:00:00.000000000",
          "2022-06-06T00:00:00.000000000",
          "2022-06-07T00:00:00.000000000",
          "2022-06-08T00:00:00.000000000",
          "2022-06-09T00:00:00.000000000",
          "2022-06-10T00:00:00.000000000",
          "2022-06-13T00:00:00.000000000",
          "2022-06-14T00:00:00.000000000",
          "2022-06-15T00:00:00.000000000",
          "2022-06-16T00:00:00.000000000",
          "2022-06-17T00:00:00.000000000",
          "2022-06-20T00:00:00.000000000",
          "2022-06-21T00:00:00.000000000",
          "2022-06-22T00:00:00.000000000",
          "2022-06-23T00:00:00.000000000",
          "2022-06-24T00:00:00.000000000",
          "2022-06-27T00:00:00.000000000",
          "2022-06-28T00:00:00.000000000",
          "2022-06-29T00:00:00.000000000",
          "2022-06-30T00:00:00.000000000",
          "2022-07-01T00:00:00.000000000",
          "2022-07-04T00:00:00.000000000",
          "2022-07-05T00:00:00.000000000",
          "2022-07-06T00:00:00.000000000",
          "2022-07-07T00:00:00.000000000",
          "2022-07-08T00:00:00.000000000",
          "2022-07-11T00:00:00.000000000",
          "2022-07-12T00:00:00.000000000",
          "2022-07-13T00:00:00.000000000",
          "2022-07-14T00:00:00.000000000",
          "2022-07-15T00:00:00.000000000",
          "2022-07-18T00:00:00.000000000",
          "2022-07-19T00:00:00.000000000",
          "2022-07-20T00:00:00.000000000",
          "2022-07-21T00:00:00.000000000",
          "2022-07-22T00:00:00.000000000",
          "2022-07-25T00:00:00.000000000",
          "2022-07-26T00:00:00.000000000",
          "2022-07-27T00:00:00.000000000",
          "2022-07-28T00:00:00.000000000",
          "2022-07-29T00:00:00.000000000",
          "2022-08-01T00:00:00.000000000",
          "2022-08-02T00:00:00.000000000",
          "2022-08-03T00:00:00.000000000",
          "2022-08-04T00:00:00.000000000",
          "2022-08-05T00:00:00.000000000",
          "2022-08-08T00:00:00.000000000",
          "2022-08-09T00:00:00.000000000",
          "2022-08-10T00:00:00.000000000",
          "2022-08-11T00:00:00.000000000",
          "2022-08-12T00:00:00.000000000",
          "2022-08-15T00:00:00.000000000",
          "2022-08-16T00:00:00.000000000",
          "2022-08-17T00:00:00.000000000",
          "2022-08-18T00:00:00.000000000",
          "2022-08-19T00:00:00.000000000",
          "2022-08-22T00:00:00.000000000",
          "2022-08-23T00:00:00.000000000",
          "2022-08-24T00:00:00.000000000",
          "2022-08-25T00:00:00.000000000",
          "2022-08-26T00:00:00.000000000",
          "2022-08-29T00:00:00.000000000",
          "2022-08-30T00:00:00.000000000",
          "2022-08-31T00:00:00.000000000",
          "2022-09-05T00:00:00.000000000",
          "2022-09-06T00:00:00.000000000",
          "2022-09-07T00:00:00.000000000",
          "2022-09-08T00:00:00.000000000",
          "2022-09-09T00:00:00.000000000",
          "2022-09-12T00:00:00.000000000",
          "2022-09-13T00:00:00.000000000",
          "2022-09-14T00:00:00.000000000",
          "2022-09-15T00:00:00.000000000",
          "2022-09-16T00:00:00.000000000",
          "2022-09-19T00:00:00.000000000",
          "2022-09-20T00:00:00.000000000",
          "2022-09-21T00:00:00.000000000",
          "2022-09-22T00:00:00.000000000",
          "2022-09-23T00:00:00.000000000",
          "2022-09-26T00:00:00.000000000",
          "2022-09-27T00:00:00.000000000",
          "2022-09-28T00:00:00.000000000",
          "2022-09-29T00:00:00.000000000",
          "2022-09-30T00:00:00.000000000",
          "2022-10-03T00:00:00.000000000",
          "2022-10-04T00:00:00.000000000",
          "2022-10-05T00:00:00.000000000",
          "2022-10-06T00:00:00.000000000",
          "2022-10-07T00:00:00.000000000",
          "2022-10-10T00:00:00.000000000",
          "2022-10-11T00:00:00.000000000",
          "2022-10-12T00:00:00.000000000",
          "2022-10-13T00:00:00.000000000",
          "2022-10-14T00:00:00.000000000",
          "2022-10-17T00:00:00.000000000",
          "2022-10-18T00:00:00.000000000",
          "2022-10-19T00:00:00.000000000",
          "2022-10-20T00:00:00.000000000",
          "2022-10-21T00:00:00.000000000",
          "2022-10-24T00:00:00.000000000",
          "2022-10-25T00:00:00.000000000",
          "2022-10-26T00:00:00.000000000",
          "2022-10-27T00:00:00.000000000",
          "2022-10-28T00:00:00.000000000",
          "2022-10-31T00:00:00.000000000",
          "2022-11-01T00:00:00.000000000",
          "2022-11-02T00:00:00.000000000",
          "2022-11-03T00:00:00.000000000",
          "2022-11-04T00:00:00.000000000",
          "2022-11-07T00:00:00.000000000",
          "2022-11-08T00:00:00.000000000",
          "2022-11-09T00:00:00.000000000",
          "2022-11-10T00:00:00.000000000",
          "2022-11-11T00:00:00.000000000",
          "2022-11-14T00:00:00.000000000",
          "2022-11-15T00:00:00.000000000",
          "2022-11-16T00:00:00.000000000",
          "2022-11-17T00:00:00.000000000",
          "2022-11-18T00:00:00.000000000",
          "2022-11-21T00:00:00.000000000",
          "2022-11-22T00:00:00.000000000",
          "2022-11-23T00:00:00.000000000",
          "2022-11-24T00:00:00.000000000",
          "2022-11-25T00:00:00.000000000",
          "2022-11-28T00:00:00.000000000",
          "2022-11-29T00:00:00.000000000",
          "2022-11-30T00:00:00.000000000",
          "2022-12-01T00:00:00.000000000",
          "2022-12-02T00:00:00.000000000",
          "2022-12-05T00:00:00.000000000",
          "2022-12-06T00:00:00.000000000",
          "2022-12-07T00:00:00.000000000",
          "2022-12-08T00:00:00.000000000",
          "2022-12-09T00:00:00.000000000",
          "2022-12-12T00:00:00.000000000",
          "2022-12-13T00:00:00.000000000",
          "2022-12-14T00:00:00.000000000",
          "2022-12-15T00:00:00.000000000",
          "2022-12-16T00:00:00.000000000",
          "2022-12-19T00:00:00.000000000",
          "2022-12-20T00:00:00.000000000",
          "2022-12-21T00:00:00.000000000",
          "2022-12-22T00:00:00.000000000",
          "2022-12-23T00:00:00.000000000",
          "2022-12-26T00:00:00.000000000",
          "2022-12-27T00:00:00.000000000",
          "2022-12-28T00:00:00.000000000",
          "2022-12-29T00:00:00.000000000",
          "2022-12-30T00:00:00.000000000",
          "2023-01-03T00:00:00.000000000",
          "2023-01-04T00:00:00.000000000",
          "2023-01-05T00:00:00.000000000",
          "2023-01-06T00:00:00.000000000",
          "2023-01-09T00:00:00.000000000",
          "2023-01-10T00:00:00.000000000",
          "2023-01-11T00:00:00.000000000",
          "2023-01-12T00:00:00.000000000",
          "2023-01-13T00:00:00.000000000",
          "2023-01-16T00:00:00.000000000",
          "2023-01-17T00:00:00.000000000",
          "2023-01-18T00:00:00.000000000",
          "2023-01-19T00:00:00.000000000",
          "2023-01-27T00:00:00.000000000",
          "2023-01-30T00:00:00.000000000",
          "2023-01-31T00:00:00.000000000",
          "2023-02-01T00:00:00.000000000",
          "2023-02-02T00:00:00.000000000",
          "2023-02-03T00:00:00.000000000",
          "2023-02-06T00:00:00.000000000",
          "2023-02-07T00:00:00.000000000",
          "2023-02-08T00:00:00.000000000",
          "2023-02-09T00:00:00.000000000",
          "2023-02-10T00:00:00.000000000",
          "2023-02-13T00:00:00.000000000",
          "2023-02-14T00:00:00.000000000",
          "2023-02-15T00:00:00.000000000",
          "2023-02-16T00:00:00.000000000",
          "2023-02-17T00:00:00.000000000",
          "2023-02-20T00:00:00.000000000",
          "2023-02-21T00:00:00.000000000",
          "2023-02-22T00:00:00.000000000",
          "2023-02-23T00:00:00.000000000",
          "2023-02-24T00:00:00.000000000",
          "2023-02-27T00:00:00.000000000",
          "2023-02-28T00:00:00.000000000",
          "2023-03-01T00:00:00.000000000",
          "2023-03-02T00:00:00.000000000",
          "2023-03-03T00:00:00.000000000",
          "2023-03-06T00:00:00.000000000",
          "2023-03-07T00:00:00.000000000",
          "2023-03-08T00:00:00.000000000",
          "2023-03-09T00:00:00.000000000",
          "2023-03-10T00:00:00.000000000",
          "2023-03-13T00:00:00.000000000",
          "2023-03-14T00:00:00.000000000",
          "2023-03-15T00:00:00.000000000",
          "2023-03-16T00:00:00.000000000",
          "2023-03-17T00:00:00.000000000",
          "2023-03-20T00:00:00.000000000",
          "2023-03-21T00:00:00.000000000",
          "2023-03-22T00:00:00.000000000",
          "2023-03-23T00:00:00.000000000",
          "2023-03-24T00:00:00.000000000",
          "2023-03-27T00:00:00.000000000",
          "2023-03-28T00:00:00.000000000",
          "2023-03-29T00:00:00.000000000",
          "2023-03-30T00:00:00.000000000",
          "2023-03-31T00:00:00.000000000",
          "2023-04-03T00:00:00.000000000",
          "2023-04-04T00:00:00.000000000",
          "2023-04-05T00:00:00.000000000",
          "2023-04-06T00:00:00.000000000",
          "2023-04-07T00:00:00.000000000",
          "2023-04-10T00:00:00.000000000",
          "2023-04-11T00:00:00.000000000",
          "2023-04-12T00:00:00.000000000",
          "2023-04-13T00:00:00.000000000",
          "2023-04-14T00:00:00.000000000",
          "2023-04-17T00:00:00.000000000",
          "2023-04-18T00:00:00.000000000",
          "2023-04-19T00:00:00.000000000",
          "2023-04-20T00:00:00.000000000",
          "2023-04-21T00:00:00.000000000",
          "2023-04-24T00:00:00.000000000",
          "2023-04-25T00:00:00.000000000",
          "2023-04-26T00:00:00.000000000",
          "2023-04-27T00:00:00.000000000",
          "2023-04-28T00:00:00.000000000",
          "2023-05-04T00:00:00.000000000",
          "2023-05-05T00:00:00.000000000",
          "2023-05-08T00:00:00.000000000",
          "2023-05-09T00:00:00.000000000",
          "2023-05-10T00:00:00.000000000",
          "2023-05-11T00:00:00.000000000",
          "2023-05-12T00:00:00.000000000",
          "2023-05-15T00:00:00.000000000",
          "2023-05-16T00:00:00.000000000",
          "2023-05-17T00:00:00.000000000",
          "2023-05-18T00:00:00.000000000",
          "2023-05-19T00:00:00.000000000",
          "2023-05-22T00:00:00.000000000",
          "2023-05-23T00:00:00.000000000",
          "2023-05-24T00:00:00.000000000",
          "2023-05-25T00:00:00.000000000",
          "2023-05-26T00:00:00.000000000",
          "2023-05-29T00:00:00.000000000",
          "2023-05-30T00:00:00.000000000",
          "2023-05-31T00:00:00.000000000",
          "2023-06-01T00:00:00.000000000",
          "2023-06-02T00:00:00.000000000",
          "2023-06-05T00:00:00.000000000",
          "2023-06-06T00:00:00.000000000",
          "2023-06-07T00:00:00.000000000",
          "2023-06-08T00:00:00.000000000",
          "2023-06-09T00:00:00.000000000",
          "2023-06-12T00:00:00.000000000",
          "2023-06-13T00:00:00.000000000",
          "2023-06-14T00:00:00.000000000",
          "2023-06-15T00:00:00.000000000",
          "2023-06-16T00:00:00.000000000",
          "2023-06-19T00:00:00.000000000",
          "2023-06-20T00:00:00.000000000",
          "2023-06-21T00:00:00.000000000",
          "2023-06-22T00:00:00.000000000",
          "2023-06-23T00:00:00.000000000",
          "2023-06-26T00:00:00.000000000",
          "2023-06-27T00:00:00.000000000",
          "2023-06-28T00:00:00.000000000",
          "2023-06-29T00:00:00.000000000",
          "2023-06-30T00:00:00.000000000",
          "2023-07-03T00:00:00.000000000",
          "2023-07-04T00:00:00.000000000",
          "2023-07-05T00:00:00.000000000",
          "2023-07-06T00:00:00.000000000",
          "2023-07-07T00:00:00.000000000",
          "2023-07-10T00:00:00.000000000",
          "2023-07-11T00:00:00.000000000",
          "2023-07-12T00:00:00.000000000",
          "2023-07-13T00:00:00.000000000",
          "2023-07-14T00:00:00.000000000",
          "2023-07-17T00:00:00.000000000",
          "2023-07-18T00:00:00.000000000",
          "2023-07-19T00:00:00.000000000",
          "2023-07-20T00:00:00.000000000",
          "2023-07-21T00:00:00.000000000",
          "2023-07-24T00:00:00.000000000",
          "2023-07-25T00:00:00.000000000",
          "2023-07-26T00:00:00.000000000",
          "2023-07-27T00:00:00.000000000",
          "2023-07-28T00:00:00.000000000",
          "2023-07-31T00:00:00.000000000",
          "2023-08-01T00:00:00.000000000",
          "2023-08-02T00:00:00.000000000",
          "2023-08-03T00:00:00.000000000",
          "2023-08-04T00:00:00.000000000",
          "2023-08-07T00:00:00.000000000",
          "2023-08-08T00:00:00.000000000",
          "2023-08-09T00:00:00.000000000",
          "2023-08-10T00:00:00.000000000",
          "2023-08-11T00:00:00.000000000",
          "2023-08-14T00:00:00.000000000",
          "2023-08-15T00:00:00.000000000",
          "2023-08-16T00:00:00.000000000",
          "2023-08-17T00:00:00.000000000",
          "2023-08-18T00:00:00.000000000",
          "2023-08-21T00:00:00.000000000",
          "2023-08-22T00:00:00.000000000",
          "2023-08-23T00:00:00.000000000",
          "2023-08-24T00:00:00.000000000",
          "2023-08-25T00:00:00.000000000",
          "2023-08-28T00:00:00.000000000",
          "2023-08-29T00:00:00.000000000",
          "2023-08-30T00:00:00.000000000",
          "2023-08-31T00:00:00.000000000",
          "2023-09-05T00:00:00.000000000",
          "2023-09-06T00:00:00.000000000",
          "2023-09-07T00:00:00.000000000",
          "2023-09-08T00:00:00.000000000",
          "2023-09-11T00:00:00.000000000",
          "2023-09-12T00:00:00.000000000",
          "2023-09-13T00:00:00.000000000",
          "2023-09-14T00:00:00.000000000",
          "2023-09-15T00:00:00.000000000",
          "2023-09-18T00:00:00.000000000",
          "2023-09-19T00:00:00.000000000",
          "2023-09-20T00:00:00.000000000",
          "2023-09-21T00:00:00.000000000",
          "2023-09-22T00:00:00.000000000",
          "2023-09-25T00:00:00.000000000",
          "2023-09-26T00:00:00.000000000",
          "2023-09-27T00:00:00.000000000",
          "2023-09-28T00:00:00.000000000",
          "2023-09-29T00:00:00.000000000",
          "2023-10-02T00:00:00.000000000",
          "2023-10-03T00:00:00.000000000",
          "2023-10-04T00:00:00.000000000",
          "2023-10-05T00:00:00.000000000",
          "2023-10-06T00:00:00.000000000",
          "2023-10-09T00:00:00.000000000",
          "2023-10-10T00:00:00.000000000",
          "2023-10-11T00:00:00.000000000",
          "2023-10-12T00:00:00.000000000",
          "2023-10-13T00:00:00.000000000",
          "2023-10-16T00:00:00.000000000",
          "2023-10-17T00:00:00.000000000",
          "2023-10-18T00:00:00.000000000",
          "2023-10-19T00:00:00.000000000",
          "2023-10-20T00:00:00.000000000",
          "2023-10-23T00:00:00.000000000",
          "2023-10-24T00:00:00.000000000",
          "2023-10-25T00:00:00.000000000",
          "2023-10-26T00:00:00.000000000",
          "2023-10-27T00:00:00.000000000",
          "2023-10-30T00:00:00.000000000",
          "2023-10-31T00:00:00.000000000",
          "2023-11-01T00:00:00.000000000",
          "2023-11-02T00:00:00.000000000",
          "2023-11-03T00:00:00.000000000",
          "2023-11-06T00:00:00.000000000",
          "2023-11-07T00:00:00.000000000",
          "2023-11-08T00:00:00.000000000",
          "2023-11-09T00:00:00.000000000",
          "2023-11-10T00:00:00.000000000",
          "2023-11-13T00:00:00.000000000",
          "2023-11-14T00:00:00.000000000",
          "2023-11-15T00:00:00.000000000",
          "2023-11-16T00:00:00.000000000",
          "2023-11-17T00:00:00.000000000",
          "2023-11-20T00:00:00.000000000",
          "2023-11-21T00:00:00.000000000",
          "2023-11-22T00:00:00.000000000",
          "2023-11-23T00:00:00.000000000",
          "2023-11-24T00:00:00.000000000",
          "2023-11-27T00:00:00.000000000",
          "2023-11-28T00:00:00.000000000",
          "2023-11-29T00:00:00.000000000",
          "2023-11-30T00:00:00.000000000",
          "2023-12-01T00:00:00.000000000",
          "2023-12-04T00:00:00.000000000",
          "2023-12-05T00:00:00.000000000",
          "2023-12-06T00:00:00.000000000",
          "2023-12-07T00:00:00.000000000",
          "2023-12-08T00:00:00.000000000",
          "2023-12-11T00:00:00.000000000",
          "2023-12-12T00:00:00.000000000",
          "2023-12-13T00:00:00.000000000",
          "2023-12-14T00:00:00.000000000",
          "2023-12-15T00:00:00.000000000",
          "2023-12-18T00:00:00.000000000",
          "2023-12-19T00:00:00.000000000",
          "2023-12-20T00:00:00.000000000",
          "2023-12-21T00:00:00.000000000",
          "2023-12-22T00:00:00.000000000",
          "2023-12-25T00:00:00.000000000",
          "2023-12-26T00:00:00.000000000",
          "2023-12-27T00:00:00.000000000",
          "2023-12-28T00:00:00.000000000",
          "2023-12-29T00:00:00.000000000",
          "2024-01-02T00:00:00.000000000",
          "2024-01-03T00:00:00.000000000",
          "2024-01-04T00:00:00.000000000",
          "2024-01-05T00:00:00.000000000",
          "2024-01-08T00:00:00.000000000",
          "2024-01-09T00:00:00.000000000",
          "2024-01-10T00:00:00.000000000",
          "2024-01-11T00:00:00.000000000",
          "2024-01-12T00:00:00.000000000",
          "2024-01-15T00:00:00.000000000",
          "2024-01-16T00:00:00.000000000",
          "2024-01-17T00:00:00.000000000",
          "2024-01-18T00:00:00.000000000",
          "2024-01-19T00:00:00.000000000",
          "2024-01-22T00:00:00.000000000",
          "2024-01-23T00:00:00.000000000",
          "2024-01-24T00:00:00.000000000",
          "2024-01-25T00:00:00.000000000",
          "2024-01-26T00:00:00.000000000",
          "2024-01-29T00:00:00.000000000",
          "2024-01-30T00:00:00.000000000",
          "2024-01-31T00:00:00.000000000",
          "2024-02-01T00:00:00.000000000",
          "2024-02-02T00:00:00.000000000",
          "2024-02-05T00:00:00.000000000",
          "2024-02-06T00:00:00.000000000",
          "2024-02-07T00:00:00.000000000",
          "2024-02-15T00:00:00.000000000",
          "2024-02-16T00:00:00.000000000",
          "2024-02-19T00:00:00.000000000",
          "2024-02-20T00:00:00.000000000",
          "2024-02-21T00:00:00.000000000",
          "2024-02-22T00:00:00.000000000",
          "2024-02-23T00:00:00.000000000",
          "2024-02-26T00:00:00.000000000",
          "2024-02-27T00:00:00.000000000",
          "2024-02-28T00:00:00.000000000",
          "2024-02-29T00:00:00.000000000",
          "2024-03-01T00:00:00.000000000",
          "2024-03-04T00:00:00.000000000",
          "2024-03-05T00:00:00.000000000",
          "2024-03-06T00:00:00.000000000",
          "2024-03-07T00:00:00.000000000",
          "2024-03-08T00:00:00.000000000",
          "2024-03-11T00:00:00.000000000",
          "2024-03-12T00:00:00.000000000",
          "2024-03-13T00:00:00.000000000",
          "2024-03-14T00:00:00.000000000",
          "2024-03-15T00:00:00.000000000",
          "2024-03-18T00:00:00.000000000",
          "2024-03-19T00:00:00.000000000",
          "2024-03-20T00:00:00.000000000",
          "2024-03-21T00:00:00.000000000",
          "2024-03-22T00:00:00.000000000",
          "2024-03-25T00:00:00.000000000",
          "2024-03-26T00:00:00.000000000",
          "2024-03-27T00:00:00.000000000",
          "2024-03-28T00:00:00.000000000",
          "2024-03-29T00:00:00.000000000",
          "2024-04-01T00:00:00.000000000",
          "2024-04-02T00:00:00.000000000",
          "2024-04-03T00:00:00.000000000",
          "2024-04-04T00:00:00.000000000",
          "2024-04-05T00:00:00.000000000",
          "2024-04-08T00:00:00.000000000",
          "2024-04-09T00:00:00.000000000",
          "2024-04-10T00:00:00.000000000",
          "2024-04-11T00:00:00.000000000",
          "2024-04-12T00:00:00.000000000",
          "2024-04-15T00:00:00.000000000",
          "2024-04-16T00:00:00.000000000",
          "2024-04-17T00:00:00.000000000",
          "2024-04-19T00:00:00.000000000",
          "2024-04-22T00:00:00.000000000",
          "2024-04-23T00:00:00.000000000",
          "2024-04-24T00:00:00.000000000",
          "2024-04-25T00:00:00.000000000",
          "2024-04-26T00:00:00.000000000",
          "2024-05-02T00:00:00.000000000",
          "2024-05-03T00:00:00.000000000",
          "2024-05-06T00:00:00.000000000",
          "2024-05-07T00:00:00.000000000",
          "2024-05-08T00:00:00.000000000",
          "2024-05-09T00:00:00.000000000",
          "2024-05-10T00:00:00.000000000",
          "2024-05-13T00:00:00.000000000",
          "2024-05-14T00:00:00.000000000",
          "2024-05-15T00:00:00.000000000",
          "2024-05-16T00:00:00.000000000",
          "2024-05-17T00:00:00.000000000",
          "2024-05-20T00:00:00.000000000",
          "2024-05-21T00:00:00.000000000",
          "2024-05-22T00:00:00.000000000",
          "2024-05-23T00:00:00.000000000",
          "2024-05-24T00:00:00.000000000",
          "2024-05-27T00:00:00.000000000",
          "2024-05-28T00:00:00.000000000",
          "2024-05-29T00:00:00.000000000",
          "2024-05-30T00:00:00.000000000",
          "2024-05-31T00:00:00.000000000",
          "2024-06-03T00:00:00.000000000",
          "2024-06-04T00:00:00.000000000",
          "2024-06-05T00:00:00.000000000",
          "2024-06-06T00:00:00.000000000",
          "2024-06-07T00:00:00.000000000",
          "2024-06-10T00:00:00.000000000",
          "2024-06-11T00:00:00.000000000",
          "2024-06-12T00:00:00.000000000",
          "2024-06-13T00:00:00.000000000",
          "2024-06-14T00:00:00.000000000",
          "2024-06-17T00:00:00.000000000",
          "2024-06-18T00:00:00.000000000",
          "2024-06-19T00:00:00.000000000",
          "2024-06-20T00:00:00.000000000",
          "2024-06-21T00:00:00.000000000",
          "2024-06-24T00:00:00.000000000",
          "2024-06-25T00:00:00.000000000",
          "2024-06-26T00:00:00.000000000",
          "2024-06-27T00:00:00.000000000",
          "2024-06-28T00:00:00.000000000",
          "2024-07-01T00:00:00.000000000",
          "2024-07-02T00:00:00.000000000",
          "2024-07-03T00:00:00.000000000",
          "2024-07-04T00:00:00.000000000",
          "2024-07-05T00:00:00.000000000",
          "2024-07-08T00:00:00.000000000",
          "2024-07-09T00:00:00.000000000",
          "2024-07-10T00:00:00.000000000",
          "2024-07-11T00:00:00.000000000",
          "2024-07-12T00:00:00.000000000",
          "2024-07-15T00:00:00.000000000",
          "2024-07-16T00:00:00.000000000",
          "2024-07-17T00:00:00.000000000",
          "2024-07-18T00:00:00.000000000",
          "2024-07-19T00:00:00.000000000",
          "2024-07-22T00:00:00.000000000",
          "2024-07-23T00:00:00.000000000",
          "2024-07-24T00:00:00.000000000",
          "2024-07-25T00:00:00.000000000",
          "2024-07-26T00:00:00.000000000",
          "2024-07-29T00:00:00.000000000",
          "2024-07-30T00:00:00.000000000",
          "2024-07-31T00:00:00.000000000",
          "2024-08-01T00:00:00.000000000",
          "2024-08-02T00:00:00.000000000",
          "2024-08-05T00:00:00.000000000",
          "2024-08-06T00:00:00.000000000",
          "2024-08-07T00:00:00.000000000",
          "2024-08-08T00:00:00.000000000",
          "2024-08-09T00:00:00.000000000",
          "2024-08-12T00:00:00.000000000",
          "2024-08-13T00:00:00.000000000",
          "2024-08-14T00:00:00.000000000",
          "2024-08-15T00:00:00.000000000",
          "2024-08-16T00:00:00.000000000",
          "2024-08-19T00:00:00.000000000",
          "2024-08-20T00:00:00.000000000",
          "2024-08-21T00:00:00.000000000",
          "2024-08-22T00:00:00.000000000",
          "2024-08-23T00:00:00.000000000",
          "2024-08-26T00:00:00.000000000",
          "2024-08-27T00:00:00.000000000",
          "2024-08-28T00:00:00.000000000",
          "2024-08-29T00:00:00.000000000",
          "2024-08-30T00:00:00.000000000",
          "2024-09-04T00:00:00.000000000",
          "2024-09-05T00:00:00.000000000",
          "2024-09-06T00:00:00.000000000",
          "2024-09-09T00:00:00.000000000",
          "2024-09-10T00:00:00.000000000",
          "2024-09-11T00:00:00.000000000",
          "2024-09-12T00:00:00.000000000",
          "2024-09-13T00:00:00.000000000",
          "2024-09-16T00:00:00.000000000",
          "2024-09-17T00:00:00.000000000",
          "2024-09-18T00:00:00.000000000",
          "2024-09-19T00:00:00.000000000",
          "2024-09-20T00:00:00.000000000",
          "2024-09-23T00:00:00.000000000",
          "2024-09-24T00:00:00.000000000",
          "2024-09-25T00:00:00.000000000",
          "2024-09-26T00:00:00.000000000",
          "2024-09-27T00:00:00.000000000",
          "2024-09-30T00:00:00.000000000",
          "2024-10-01T00:00:00.000000000",
          "2024-10-02T00:00:00.000000000",
          "2024-10-03T00:00:00.000000000",
          "2024-10-04T00:00:00.000000000",
          "2024-10-07T00:00:00.000000000",
          "2024-10-08T00:00:00.000000000",
          "2024-10-09T00:00:00.000000000",
          "2024-10-10T00:00:00.000000000",
          "2024-10-11T00:00:00.000000000",
          "2024-10-14T00:00:00.000000000",
          "2024-10-15T00:00:00.000000000",
          "2024-10-16T00:00:00.000000000",
          "2024-10-17T00:00:00.000000000",
          "2024-10-18T00:00:00.000000000",
          "2024-10-21T00:00:00.000000000",
          "2024-10-22T00:00:00.000000000",
          "2024-10-23T00:00:00.000000000",
          "2024-10-24T00:00:00.000000000",
          "2024-10-25T00:00:00.000000000",
          "2024-10-28T00:00:00.000000000",
          "2024-10-29T00:00:00.000000000",
          "2024-10-30T00:00:00.000000000",
          "2024-10-31T00:00:00.000000000",
          "2024-11-01T00:00:00.000000000",
          "2024-11-04T00:00:00.000000000",
          "2024-11-05T00:00:00.000000000",
          "2024-11-06T00:00:00.000000000",
          "2024-11-07T00:00:00.000000000",
          "2024-11-08T00:00:00.000000000",
          "2024-11-11T00:00:00.000000000",
          "2024-11-12T00:00:00.000000000",
          "2024-11-13T00:00:00.000000000",
          "2024-11-14T00:00:00.000000000",
          "2024-11-15T00:00:00.000000000",
          "2024-11-18T00:00:00.000000000",
          "2024-11-19T00:00:00.000000000",
          "2024-11-20T00:00:00.000000000",
          "2024-11-21T00:00:00.000000000",
          "2024-11-22T00:00:00.000000000",
          "2024-11-25T00:00:00.000000000",
          "2024-11-26T00:00:00.000000000",
          "2024-11-27T00:00:00.000000000",
          "2024-11-28T00:00:00.000000000",
          "2024-11-29T00:00:00.000000000",
          "2024-12-02T00:00:00.000000000",
          "2024-12-03T00:00:00.000000000",
          "2024-12-04T00:00:00.000000000",
          "2024-12-05T00:00:00.000000000",
          "2024-12-06T00:00:00.000000000",
          "2024-12-09T00:00:00.000000000",
          "2024-12-10T00:00:00.000000000",
          "2024-12-11T00:00:00.000000000",
          "2024-12-12T00:00:00.000000000",
          "2024-12-13T00:00:00.000000000",
          "2024-12-16T00:00:00.000000000",
          "2024-12-17T00:00:00.000000000",
          "2024-12-18T00:00:00.000000000",
          "2024-12-19T00:00:00.000000000",
          "2024-12-20T00:00:00.000000000",
          "2024-12-23T00:00:00.000000000",
          "2024-12-24T00:00:00.000000000",
          "2024-12-25T00:00:00.000000000",
          "2024-12-26T00:00:00.000000000",
          "2024-12-27T00:00:00.000000000",
          "2024-12-30T00:00:00.000000000",
          "2024-12-31T00:00:00.000000000",
          "2025-01-02T00:00:00.000000000",
          "2025-01-03T00:00:00.000000000",
          "2025-01-06T00:00:00.000000000",
          "2025-01-07T00:00:00.000000000",
          "2025-01-08T00:00:00.000000000",
          "2025-01-09T00:00:00.000000000",
          "2025-01-10T00:00:00.000000000",
          "2025-01-13T00:00:00.000000000",
          "2025-01-14T00:00:00.000000000",
          "2025-01-15T00:00:00.000000000",
          "2025-01-16T00:00:00.000000000",
          "2025-01-17T00:00:00.000000000",
          "2025-01-20T00:00:00.000000000",
          "2025-01-21T00:00:00.000000000",
          "2025-01-22T00:00:00.000000000",
          "2025-01-23T00:00:00.000000000",
          "2025-01-24T00:00:00.000000000",
          "2025-02-03T00:00:00.000000000",
          "2025-02-04T00:00:00.000000000",
          "2025-02-05T00:00:00.000000000",
          "2025-02-06T00:00:00.000000000",
          "2025-02-07T00:00:00.000000000",
          "2025-02-10T00:00:00.000000000",
          "2025-02-11T00:00:00.000000000",
          "2025-02-12T00:00:00.000000000",
          "2025-02-13T00:00:00.000000000",
          "2025-02-14T00:00:00.000000000",
          "2025-02-17T00:00:00.000000000",
          "2025-02-18T00:00:00.000000000",
          "2025-02-19T00:00:00.000000000",
          "2025-02-20T00:00:00.000000000",
          "2025-02-21T00:00:00.000000000",
          "2025-02-24T00:00:00.000000000",
          "2025-02-25T00:00:00.000000000",
          "2025-02-26T00:00:00.000000000",
          "2025-02-27T00:00:00.000000000",
          "2025-02-28T00:00:00.000000000",
          "2025-03-03T00:00:00.000000000",
          "2025-03-04T00:00:00.000000000",
          "2025-03-05T00:00:00.000000000",
          "2025-03-06T00:00:00.000000000",
          "2025-03-07T00:00:00.000000000",
          "2025-03-10T00:00:00.000000000",
          "2025-03-11T00:00:00.000000000",
          "2025-03-12T00:00:00.000000000",
          "2025-03-13T00:00:00.000000000",
          "2025-03-14T00:00:00.000000000",
          "2025-03-17T00:00:00.000000000",
          "2025-03-18T00:00:00.000000000",
          "2025-03-19T00:00:00.000000000",
          "2025-03-20T00:00:00.000000000",
          "2025-03-21T00:00:00.000000000",
          "2025-03-24T00:00:00.000000000",
          "2025-03-25T00:00:00.000000000",
          "2025-03-26T00:00:00.000000000",
          "2025-03-27T00:00:00.000000000",
          "2025-03-28T00:00:00.000000000",
          "2025-03-31T00:00:00.000000000"
         ],
         "y": {
          "bdata": "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",
          "dtype": "i4"
         }
        }
       ],
       "layout": {
        "template": {
         "data": {
          "bar": [
           {
            "error_x": {
             "color": "#2a3f5f"
            },
            "error_y": {
             "color": "#2a3f5f"
            },
            "marker": {
             "line": {
              "color": "#E5ECF6",
              "width": 0.5
             },
             "pattern": {
              "fillmode": "overlay",
              "size": 10,
              "solidity": 0.2
             }
            },
            "type": "bar"
           }
          ],
          "barpolar": [
           {
            "marker": {
             "line": {
              "color": "#E5ECF6",
              "width": 0.5
             },
             "pattern": {
              "fillmode": "overlay",
              "size": 10,
              "solidity": 0.2
             }
            },
            "type": "barpolar"
           }
          ],
          "carpet": [
           {
            "aaxis": {
             "endlinecolor": "#2a3f5f",
             "gridcolor": "white",
             "linecolor": "white",
             "minorgridcolor": "white",
             "startlinecolor": "#2a3f5f"
            },
            "baxis": {
             "endlinecolor": "#2a3f5f",
             "gridcolor": "white",
             "linecolor": "white",
             "minorgridcolor": "white",
             "startlinecolor": "#2a3f5f"
            },
            "type": "carpet"
           }
          ],
          "choropleth": [
           {
            "colorbar": {
             "outlinewidth": 0,
             "ticks": ""
            },
            "type": "choropleth"
           }
          ],
          "contour": [
           {
            "colorbar": {
             "outlinewidth": 0,
             "ticks": ""
            },
            "colorscale": [
             [
              0,
              "#0d0887"
             ],
             [
              0.1111111111111111,
              "#46039f"
             ],
             [
              0.2222222222222222,
              "#7201a8"
             ],
             [
              0.3333333333333333,
              "#9c179e"
             ],
             [
              0.4444444444444444,
              "#bd3786"
             ],
             [
              0.5555555555555556,
              "#d8576b"
             ],
             [
              0.6666666666666666,
              "#ed7953"
             ],
             [
              0.7777777777777778,
              "#fb9f3a"
             ],
             [
              0.8888888888888888,
              "#fdca26"
             ],
             [
              1,
              "#f0f921"
             ]
            ],
            "type": "contour"
           }
          ],
          "contourcarpet": [
           {
            "colorbar": {
             "outlinewidth": 0,
             "ticks": ""
            },
            "type": "contourcarpet"
           }
          ],
          "heatmap": [
           {
            "colorbar": {
             "outlinewidth": 0,
             "ticks": ""
            },
            "colorscale": [
             [
              0,
              "#0d0887"
             ],
             [
              0.1111111111111111,
              "#46039f"
             ],
             [
              0.2222222222222222,
              "#7201a8"
             ],
             [
              0.3333333333333333,
              "#9c179e"
             ],
             [
              0.4444444444444444,
              "#bd3786"
             ],
             [
              0.5555555555555556,
              "#d8576b"
             ],
             [
              0.6666666666666666,
              "#ed7953"
             ],
             [
              0.7777777777777778,
              "#fb9f3a"
             ],
             [
              0.8888888888888888,
              "#fdca26"
             ],
             [
              1,
              "#f0f921"
             ]
            ],
            "type": "heatmap"
           }
          ],
          "histogram": [
           {
            "marker": {
             "pattern": {
              "fillmode": "overlay",
              "size": 10,
              "solidity": 0.2
             }
            },
            "type": "histogram"
           }
          ],
          "histogram2d": [
           {
            "colorbar": {
             "outlinewidth": 0,
             "ticks": ""
            },
            "colorscale": [
             [
              0,
              "#0d0887"
             ],
             [
              0.1111111111111111,
              "#46039f"
             ],
             [
              0.2222222222222222,
              "#7201a8"
             ],
             [
              0.3333333333333333,
              "#9c179e"
             ],
             [
              0.4444444444444444,
              "#bd3786"
             ],
             [
              0.5555555555555556,
              "#d8576b"
             ],
             [
              0.6666666666666666,
              "#ed7953"
             ],
             [
              0.7777777777777778,
              "#fb9f3a"
             ],
             [
              0.8888888888888888,
              "#fdca26"
             ],
             [
              1,
              "#f0f921"
             ]
            ],
            "type": "histogram2d"
           }
          ],
          "histogram2dcontour": [
           {
            "colorbar": {
             "outlinewidth": 0,
             "ticks": ""
            },
            "colorscale": [
             [
              0,
              "#0d0887"
             ],
             [
              0.1111111111111111,
              "#46039f"
             ],
             [
              0.2222222222222222,
              "#7201a8"
             ],
             [
              0.3333333333333333,
              "#9c179e"
             ],
             [
              0.4444444444444444,
              "#bd3786"
             ],
             [
              0.5555555555555556,
              "#d8576b"
             ],
             [
              0.6666666666666666,
              "#ed7953"
             ],
             [
              0.7777777777777778,
              "#fb9f3a"
             ],
             [
              0.8888888888888888,
              "#fdca26"
             ],
             [
              1,
              "#f0f921"
             ]
            ],
            "type": "histogram2dcontour"
           }
          ],
          "mesh3d": [
           {
            "colorbar": {
             "outlinewidth": 0,
             "ticks": ""
            },
            "type": "mesh3d"
           }
          ],
          "parcoords": [
           {
            "line": {
             "colorbar": {
              "outlinewidth": 0,
              "ticks": ""
             }
            },
            "type": "parcoords"
           }
          ],
          "pie": [
           {
            "automargin": true,
            "type": "pie"
           }
          ],
          "scatter": [
           {
            "fillpattern": {
             "fillmode": "overlay",
             "size": 10,
             "solidity": 0.2
            },
            "type": "scatter"
           }
          ],
          "scatter3d": [
           {
            "line": {
             "colorbar": {
              "outlinewidth": 0,
              "ticks": ""
             }
            },
            "marker": {
             "colorbar": {
              "outlinewidth": 0,
              "ticks": ""
             }
            },
            "type": "scatter3d"
           }
          ],
          "scattercarpet": [
           {
            "marker": {
             "colorbar": {
              "outlinewidth": 0,
              "ticks": ""
             }
            },
            "type": "scattercarpet"
           }
          ],
          "scattergeo": [
           {
            "marker": {
             "colorbar": {
              "outlinewidth": 0,
              "ticks": ""
             }
            },
            "type": "scattergeo"
           }
          ],
          "scattergl": [
           {
            "marker": {
             "colorbar": {
              "outlinewidth": 0,
              "ticks": ""
             }
            },
            "type": "scattergl"
           }
          ],
          "scattermap": [
           {
            "marker": {
             "colorbar": {
              "outlinewidth": 0,
              "ticks": ""
             }
            },
            "type": "scattermap"
           }
          ],
          "scattermapbox": [
           {
            "marker": {
             "colorbar": {
              "outlinewidth": 0,
              "ticks": ""
             }
            },
            "type": "scattermapbox"
           }
          ],
          "scatterpolar": [
           {
            "marker": {
             "colorbar": {
              "outlinewidth": 0,
              "ticks": ""
             }
            },
            "type": "scatterpolar"
           }
          ],
          "scatterpolargl": [
           {
            "marker": {
             "colorbar": {
              "outlinewidth": 0,
              "ticks": ""
             }
            },
            "type": "scatterpolargl"
           }
          ],
          "scatterternary": [
           {
            "marker": {
             "colorbar": {
              "outlinewidth": 0,
              "ticks": ""
             }
            },
            "type": "scatterternary"
           }
          ],
          "surface": [
           {
            "colorbar": {
             "outlinewidth": 0,
             "ticks": ""
            },
            "colorscale": [
             [
              0,
              "#0d0887"
             ],
             [
              0.1111111111111111,
              "#46039f"
             ],
             [
              0.2222222222222222,
              "#7201a8"
             ],
             [
              0.3333333333333333,
              "#9c179e"
             ],
             [
              0.4444444444444444,
              "#bd3786"
             ],
             [
              0.5555555555555556,
              "#d8576b"
             ],
             [
              0.6666666666666666,
              "#ed7953"
             ],
             [
              0.7777777777777778,
              "#fb9f3a"
             ],
             [
              0.8888888888888888,
              "#fdca26"
             ],
             [
              1,
              "#f0f921"
             ]
            ],
            "type": "surface"
           }
          ],
          "table": [
           {
            "cells": {
             "fill": {
              "color": "#EBF0F8"
             },
             "line": {
              "color": "white"
             }
            },
            "header": {
             "fill": {
              "color": "#C8D4E3"
             },
             "line": {
              "color": "white"
             }
            },
            "type": "table"
           }
          ]
         },
         "layout": {
          "annotationdefaults": {
           "arrowcolor": "#2a3f5f",
           "arrowhead": 0,
           "arrowwidth": 1
          },
          "autotypenumbers": "strict",
          "coloraxis": {
           "colorbar": {
            "outlinewidth": 0,
            "ticks": ""
           }
          },
          "colorscale": {
           "diverging": [
            [
             0,
             "#8e0152"
            ],
            [
             0.1,
             "#c51b7d"
            ],
            [
             0.2,
             "#de77ae"
            ],
            [
             0.3,
             "#f1b6da"
            ],
            [
             0.4,
             "#fde0ef"
            ],
            [
             0.5,
             "#f7f7f7"
            ],
            [
             0.6,
             "#e6f5d0"
            ],
            [
             0.7,
             "#b8e186"
            ],
            [
             0.8,
             "#7fbc41"
            ],
            [
             0.9,
             "#4d9221"
            ],
            [
             1,
             "#276419"
            ]
           ],
           "sequential": [
            [
             0,
             "#0d0887"
            ],
            [
             0.1111111111111111,
             "#46039f"
            ],
            [
             0.2222222222222222,
             "#7201a8"
            ],
            [
             0.3333333333333333,
             "#9c179e"
            ],
            [
             0.4444444444444444,
             "#bd3786"
            ],
            [
             0.5555555555555556,
             "#d8576b"
            ],
            [
             0.6666666666666666,
             "#ed7953"
            ],
            [
             0.7777777777777778,
             "#fb9f3a"
            ],
            [
             0.8888888888888888,
             "#fdca26"
            ],
            [
             1,
             "#f0f921"
            ]
           ],
           "sequentialminus": [
            [
             0,
             "#0d0887"
            ],
            [
             0.1111111111111111,
             "#46039f"
            ],
            [
             0.2222222222222222,
             "#7201a8"
            ],
            [
             0.3333333333333333,
             "#9c179e"
            ],
            [
             0.4444444444444444,
             "#bd3786"
            ],
            [
             0.5555555555555556,
             "#d8576b"
            ],
            [
             0.6666666666666666,
             "#ed7953"
            ],
            [
             0.7777777777777778,
             "#fb9f3a"
            ],
            [
             0.8888888888888888,
             "#fdca26"
            ],
            [
             1,
             "#f0f921"
            ]
           ]
          },
          "colorway": [
           "#636efa",
           "#EF553B",
           "#00cc96",
           "#ab63fa",
           "#FFA15A",
           "#19d3f3",
           "#FF6692",
           "#B6E880",
           "#FF97FF",
           "#FECB52"
          ],
          "font": {
           "color": "#2a3f5f"
          },
          "geo": {
           "bgcolor": "white",
           "lakecolor": "white",
           "landcolor": "#E5ECF6",
           "showlakes": true,
           "showland": true,
           "subunitcolor": "white"
          },
          "hoverlabel": {
           "align": "left"
          },
          "hovermode": "closest",
          "mapbox": {
           "style": "light"
          },
          "paper_bgcolor": "white",
          "plot_bgcolor": "#E5ECF6",
          "polar": {
           "angularaxis": {
            "gridcolor": "white",
            "linecolor": "white",
            "ticks": ""
           },
           "bgcolor": "#E5ECF6",
           "radialaxis": {
            "gridcolor": "white",
            "linecolor": "white",
            "ticks": ""
           }
          },
          "scene": {
           "xaxis": {
            "backgroundcolor": "#E5ECF6",
            "gridcolor": "white",
            "gridwidth": 2,
            "linecolor": "white",
            "showbackground": true,
            "ticks": "",
            "zerolinecolor": "white"
           },
           "yaxis": {
            "backgroundcolor": "#E5ECF6",
            "gridcolor": "white",
            "gridwidth": 2,
            "linecolor": "white",
            "showbackground": true,
            "ticks": "",
            "zerolinecolor": "white"
           },
           "zaxis": {
            "backgroundcolor": "#E5ECF6",
            "gridcolor": "white",
            "gridwidth": 2,
            "linecolor": "white",
            "showbackground": true,
            "ticks": "",
            "zerolinecolor": "white"
           }
          },
          "shapedefaults": {
           "line": {
            "color": "#2a3f5f"
           }
          },
          "ternary": {
           "aaxis": {
            "gridcolor": "white",
            "linecolor": "white",
            "ticks": ""
           },
           "baxis": {
            "gridcolor": "white",
            "linecolor": "white",
            "ticks": ""
           },
           "bgcolor": "#E5ECF6",
           "caxis": {
            "gridcolor": "white",
            "linecolor": "white",
            "ticks": ""
           }
          },
          "title": {
           "x": 0.05
          },
          "xaxis": {
           "automargin": true,
           "gridcolor": "white",
           "linecolor": "white",
           "ticks": "",
           "title": {
            "standoff": 15
           },
           "zerolinecolor": "white",
           "zerolinewidth": 2
          },
          "yaxis": {
           "automargin": true,
           "gridcolor": "white",
           "linecolor": "white",
           "ticks": "",
           "title": {
            "standoff": 15
           },
           "zerolinecolor": "white",
           "zerolinewidth": 2
          }
         }
        },
        "title": {
         "text": "Khối lượng giao dịch theo thời gian"
        },
        "xaxis": {
         "title": {
          "text": "Thời gian"
         }
        },
        "yaxis": {
         "title": {
          "text": "Khối lượng giao dịch"
         }
        }
       }
      }
     },
     "metadata": {},
     "output_type": "display_data"
    }
   ],
   "source": [
    "visualize_volume_each_bank(\"Vietcombank\")"
   ]
  },
  {
   "cell_type": "markdown",
   "id": "ffa546f6",
   "metadata": {},
   "source": [
    "Theo biểu đồ volume, ta thấy:\n",
    "  - Volume ổn định trong giai đoạn 2022-2025.\n",
    "  - Volume có xu hướng chu kì trong khoảng 3 tháng."
   ]
  },
  {
   "cell_type": "markdown",
   "id": "5e4aca3d",
   "metadata": {},
   "source": [
    "### BIDV"
   ]
  },
  {
   "cell_type": "code",
   "execution_count": 20,
   "id": "999669b9",
   "metadata": {},
   "outputs": [
    {
     "data": {
      "application/vnd.plotly.v1+json": {
       "config": {
        "plotlyServerURL": "https://plot.ly"
       },
       "data": [
        {
         "close": {
          "bdata": "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",
          "dtype": "f8"
         },
         "high": {
          "bdata": "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",
          "dtype": "f8"
         },
         "low": {
          "bdata": "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",
          "dtype": "f8"
         },
         "open": {
          "bdata": "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",
          "dtype": "f8"
         },
         "type": "candlestick",
         "x": [
          "2022-01-04T00:00:00.000000000",
          "2022-01-05T00:00:00.000000000",
          "2022-01-06T00:00:00.000000000",
          "2022-01-07T00:00:00.000000000",
          "2022-01-10T00:00:00.000000000",
          "2022-01-11T00:00:00.000000000",
          "2022-01-12T00:00:00.000000000",
          "2022-01-13T00:00:00.000000000",
          "2022-01-14T00:00:00.000000000",
          "2022-01-17T00:00:00.000000000",
          "2022-01-18T00:00:00.000000000",
          "2022-01-19T00:00:00.000000000",
          "2022-01-20T00:00:00.000000000",
          "2022-01-21T00:00:00.000000000",
          "2022-01-24T00:00:00.000000000",
          "2022-01-25T00:00:00.000000000",
          "2022-01-26T00:00:00.000000000",
          "2022-01-27T00:00:00.000000000",
          "2022-01-28T00:00:00.000000000",
          "2022-02-07T00:00:00.000000000",
          "2022-02-08T00:00:00.000000000",
          "2022-02-09T00:00:00.000000000",
          "2022-02-10T00:00:00.000000000",
          "2022-02-11T00:00:00.000000000",
          "2022-02-14T00:00:00.000000000",
          "2022-02-15T00:00:00.000000000",
          "2022-02-16T00:00:00.000000000",
          "2022-02-17T00:00:00.000000000",
          "2022-02-18T00:00:00.000000000",
          "2022-02-21T00:00:00.000000000",
          "2022-02-22T00:00:00.000000000",
          "2022-02-23T00:00:00.000000000",
          "2022-02-24T00:00:00.000000000",
          "2022-02-25T00:00:00.000000000",
          "2022-02-28T00:00:00.000000000",
          "2022-03-01T00:00:00.000000000",
          "2022-03-02T00:00:00.000000000",
          "2022-03-03T00:00:00.000000000",
          "2022-03-04T00:00:00.000000000",
          "2022-03-07T00:00:00.000000000",
          "2022-03-08T00:00:00.000000000",
          "2022-03-09T00:00:00.000000000",
          "2022-03-10T00:00:00.000000000",
          "2022-03-11T00:00:00.000000000",
          "2022-03-14T00:00:00.000000000",
          "2022-03-15T00:00:00.000000000",
          "2022-03-16T00:00:00.000000000",
          "2022-03-17T00:00:00.000000000",
          "2022-03-18T00:00:00.000000000",
          "2022-03-21T00:00:00.000000000",
          "2022-03-22T00:00:00.000000000",
          "2022-03-23T00:00:00.000000000",
          "2022-03-24T00:00:00.000000000",
          "2022-03-25T00:00:00.000000000",
          "2022-03-28T00:00:00.000000000",
          "2022-03-29T00:00:00.000000000",
          "2022-03-30T00:00:00.000000000",
          "2022-03-31T00:00:00.000000000",
          "2022-04-01T00:00:00.000000000",
          "2022-04-04T00:00:00.000000000",
          "2022-04-05T00:00:00.000000000",
          "2022-04-06T00:00:00.000000000",
          "2022-04-07T00:00:00.000000000",
          "2022-04-08T00:00:00.000000000",
          "2022-04-12T00:00:00.000000000",
          "2022-04-13T00:00:00.000000000",
          "2022-04-14T00:00:00.000000000",
          "2022-04-15T00:00:00.000000000",
          "2022-04-18T00:00:00.000000000",
          "2022-04-19T00:00:00.000000000",
          "2022-04-20T00:00:00.000000000",
          "2022-04-21T00:00:00.000000000",
          "2022-04-22T00:00:00.000000000",
          "2022-04-25T00:00:00.000000000",
          "2022-04-26T00:00:00.000000000",
          "2022-04-27T00:00:00.000000000",
          "2022-04-28T00:00:00.000000000",
          "2022-04-29T00:00:00.000000000",
          "2022-05-04T00:00:00.000000000",
          "2022-05-05T00:00:00.000000000",
          "2022-05-06T00:00:00.000000000",
          "2022-05-09T00:00:00.000000000",
          "2022-05-10T00:00:00.000000000",
          "2022-05-11T00:00:00.000000000",
          "2022-05-12T00:00:00.000000000",
          "2022-05-13T00:00:00.000000000",
          "2022-05-16T00:00:00.000000000",
          "2022-05-17T00:00:00.000000000",
          "2022-05-18T00:00:00.000000000",
          "2022-05-19T00:00:00.000000000",
          "2022-05-20T00:00:00.000000000",
          "2022-05-23T00:00:00.000000000",
          "2022-05-24T00:00:00.000000000",
          "2022-05-25T00:00:00.000000000",
          "2022-05-26T00:00:00.000000000",
          "2022-05-27T00:00:00.000000000",
          "2022-05-30T00:00:00.000000000",
          "2022-05-31T00:00:00.000000000",
          "2022-06-01T00:00:00.000000000",
          "2022-06-02T00:00:00.000000000",
          "2022-06-03T00:00:00.000000000",
          "2022-06-06T00:00:00.000000000",
          "2022-06-07T00:00:00.000000000",
          "2022-06-08T00:00:00.000000000",
          "2022-06-09T00:00:00.000000000",
          "2022-06-10T00:00:00.000000000",
          "2022-06-13T00:00:00.000000000",
          "2022-06-14T00:00:00.000000000",
          "2022-06-15T00:00:00.000000000",
          "2022-06-16T00:00:00.000000000",
          "2022-06-17T00:00:00.000000000",
          "2022-06-20T00:00:00.000000000",
          "2022-06-21T00:00:00.000000000",
          "2022-06-22T00:00:00.000000000",
          "2022-06-23T00:00:00.000000000",
          "2022-06-24T00:00:00.000000000",
          "2022-06-27T00:00:00.000000000",
          "2022-06-28T00:00:00.000000000",
          "2022-06-29T00:00:00.000000000",
          "2022-06-30T00:00:00.000000000",
          "2022-07-01T00:00:00.000000000",
          "2022-07-04T00:00:00.000000000",
          "2022-07-05T00:00:00.000000000",
          "2022-07-06T00:00:00.000000000",
          "2022-07-07T00:00:00.000000000",
          "2022-07-08T00:00:00.000000000",
          "2022-07-11T00:00:00.000000000",
          "2022-07-12T00:00:00.000000000",
          "2022-07-13T00:00:00.000000000",
          "2022-07-14T00:00:00.000000000",
          "2022-07-15T00:00:00.000000000",
          "2022-07-18T00:00:00.000000000",
          "2022-07-19T00:00:00.000000000",
          "2022-07-20T00:00:00.000000000",
          "2022-07-21T00:00:00.000000000",
          "2022-07-22T00:00:00.000000000",
          "2022-07-25T00:00:00.000000000",
          "2022-07-26T00:00:00.000000000",
          "2022-07-27T00:00:00.000000000",
          "2022-07-28T00:00:00.000000000",
          "2022-07-29T00:00:00.000000000",
          "2022-08-01T00:00:00.000000000",
          "2022-08-02T00:00:00.000000000",
          "2022-08-03T00:00:00.000000000",
          "2022-08-04T00:00:00.000000000",
          "2022-08-05T00:00:00.000000000",
          "2022-08-08T00:00:00.000000000",
          "2022-08-09T00:00:00.000000000",
          "2022-08-10T00:00:00.000000000",
          "2022-08-11T00:00:00.000000000",
          "2022-08-12T00:00:00.000000000",
          "2022-08-15T00:00:00.000000000",
          "2022-08-16T00:00:00.000000000",
          "2022-08-17T00:00:00.000000000",
          "2022-08-18T00:00:00.000000000",
          "2022-08-19T00:00:00.000000000",
          "2022-08-22T00:00:00.000000000",
          "2022-08-23T00:00:00.000000000",
          "2022-08-24T00:00:00.000000000",
          "2022-08-25T00:00:00.000000000",
          "2022-08-26T00:00:00.000000000",
          "2022-08-29T00:00:00.000000000",
          "2022-08-30T00:00:00.000000000",
          "2022-08-31T00:00:00.000000000",
          "2022-09-05T00:00:00.000000000",
          "2022-09-06T00:00:00.000000000",
          "2022-09-07T00:00:00.000000000",
          "2022-09-08T00:00:00.000000000",
          "2022-09-09T00:00:00.000000000",
          "2022-09-12T00:00:00.000000000",
          "2022-09-13T00:00:00.000000000",
          "2022-09-14T00:00:00.000000000",
          "2022-09-15T00:00:00.000000000",
          "2022-09-16T00:00:00.000000000",
          "2022-09-19T00:00:00.000000000",
          "2022-09-20T00:00:00.000000000",
          "2022-09-21T00:00:00.000000000",
          "2022-09-22T00:00:00.000000000",
          "2022-09-23T00:00:00.000000000",
          "2022-09-26T00:00:00.000000000",
          "2022-09-27T00:00:00.000000000",
          "2022-09-28T00:00:00.000000000",
          "2022-09-29T00:00:00.000000000",
          "2022-09-30T00:00:00.000000000",
          "2022-10-03T00:00:00.000000000",
          "2022-10-04T00:00:00.000000000",
          "2022-10-05T00:00:00.000000000",
          "2022-10-06T00:00:00.000000000",
          "2022-10-07T00:00:00.000000000",
          "2022-10-10T00:00:00.000000000",
          "2022-10-11T00:00:00.000000000",
          "2022-10-12T00:00:00.000000000",
          "2022-10-13T00:00:00.000000000",
          "2022-10-14T00:00:00.000000000",
          "2022-10-17T00:00:00.000000000",
          "2022-10-18T00:00:00.000000000",
          "2022-10-19T00:00:00.000000000",
          "2022-10-20T00:00:00.000000000",
          "2022-10-21T00:00:00.000000000",
          "2022-10-24T00:00:00.000000000",
          "2022-10-25T00:00:00.000000000",
          "2022-10-26T00:00:00.000000000",
          "2022-10-27T00:00:00.000000000",
          "2022-10-28T00:00:00.000000000",
          "2022-10-31T00:00:00.000000000",
          "2022-11-01T00:00:00.000000000",
          "2022-11-02T00:00:00.000000000",
          "2022-11-03T00:00:00.000000000",
          "2022-11-04T00:00:00.000000000",
          "2022-11-07T00:00:00.000000000",
          "2022-11-08T00:00:00.000000000",
          "2022-11-09T00:00:00.000000000",
          "2022-11-10T00:00:00.000000000",
          "2022-11-11T00:00:00.000000000",
          "2022-11-14T00:00:00.000000000",
          "2022-11-15T00:00:00.000000000",
          "2022-11-16T00:00:00.000000000",
          "2022-11-17T00:00:00.000000000",
          "2022-11-18T00:00:00.000000000",
          "2022-11-21T00:00:00.000000000",
          "2022-11-22T00:00:00.000000000",
          "2022-11-23T00:00:00.000000000",
          "2022-11-24T00:00:00.000000000",
          "2022-11-25T00:00:00.000000000",
          "2022-11-28T00:00:00.000000000",
          "2022-11-29T00:00:00.000000000",
          "2022-11-30T00:00:00.000000000",
          "2022-12-01T00:00:00.000000000",
          "2022-12-02T00:00:00.000000000",
          "2022-12-05T00:00:00.000000000",
          "2022-12-06T00:00:00.000000000",
          "2022-12-07T00:00:00.000000000",
          "2022-12-08T00:00:00.000000000",
          "2022-12-09T00:00:00.000000000",
          "2022-12-12T00:00:00.000000000",
          "2022-12-13T00:00:00.000000000",
          "2022-12-14T00:00:00.000000000",
          "2022-12-15T00:00:00.000000000",
          "2022-12-16T00:00:00.000000000",
          "2022-12-19T00:00:00.000000000",
          "2022-12-20T00:00:00.000000000",
          "2022-12-21T00:00:00.000000000",
          "2022-12-22T00:00:00.000000000",
          "2022-12-23T00:00:00.000000000",
          "2022-12-26T00:00:00.000000000",
          "2022-12-27T00:00:00.000000000",
          "2022-12-28T00:00:00.000000000",
          "2022-12-29T00:00:00.000000000",
          "2022-12-30T00:00:00.000000000",
          "2023-01-03T00:00:00.000000000",
          "2023-01-04T00:00:00.000000000",
          "2023-01-05T00:00:00.000000000",
          "2023-01-06T00:00:00.000000000",
          "2023-01-09T00:00:00.000000000",
          "2023-01-10T00:00:00.000000000",
          "2023-01-11T00:00:00.000000000",
          "2023-01-12T00:00:00.000000000",
          "2023-01-13T00:00:00.000000000",
          "2023-01-16T00:00:00.000000000",
          "2023-01-17T00:00:00.000000000",
          "2023-01-18T00:00:00.000000000",
          "2023-01-19T00:00:00.000000000",
          "2023-01-27T00:00:00.000000000",
          "2023-01-30T00:00:00.000000000",
          "2023-01-31T00:00:00.000000000",
          "2023-02-01T00:00:00.000000000",
          "2023-02-02T00:00:00.000000000",
          "2023-02-03T00:00:00.000000000",
          "2023-02-06T00:00:00.000000000",
          "2023-02-07T00:00:00.000000000",
          "2023-02-08T00:00:00.000000000",
          "2023-02-09T00:00:00.000000000",
          "2023-02-10T00:00:00.000000000",
          "2023-02-13T00:00:00.000000000",
          "2023-02-14T00:00:00.000000000",
          "2023-02-15T00:00:00.000000000",
          "2023-02-16T00:00:00.000000000",
          "2023-02-17T00:00:00.000000000",
          "2023-02-20T00:00:00.000000000",
          "2023-02-21T00:00:00.000000000",
          "2023-02-22T00:00:00.000000000",
          "2023-02-23T00:00:00.000000000",
          "2023-02-24T00:00:00.000000000",
          "2023-02-27T00:00:00.000000000",
          "2023-02-28T00:00:00.000000000",
          "2023-03-01T00:00:00.000000000",
          "2023-03-02T00:00:00.000000000",
          "2023-03-03T00:00:00.000000000",
          "2023-03-06T00:00:00.000000000",
          "2023-03-07T00:00:00.000000000",
          "2023-03-08T00:00:00.000000000",
          "2023-03-09T00:00:00.000000000",
          "2023-03-10T00:00:00.000000000",
          "2023-03-13T00:00:00.000000000",
          "2023-03-14T00:00:00.000000000",
          "2023-03-15T00:00:00.000000000",
          "2023-03-16T00:00:00.000000000",
          "2023-03-17T00:00:00.000000000",
          "2023-03-20T00:00:00.000000000",
          "2023-03-21T00:00:00.000000000",
          "2023-03-22T00:00:00.000000000",
          "2023-03-23T00:00:00.000000000",
          "2023-03-24T00:00:00.000000000",
          "2023-03-27T00:00:00.000000000",
          "2023-03-28T00:00:00.000000000",
          "2023-03-29T00:00:00.000000000",
          "2023-03-30T00:00:00.000000000",
          "2023-03-31T00:00:00.000000000",
          "2023-04-03T00:00:00.000000000",
          "2023-04-04T00:00:00.000000000",
          "2023-04-05T00:00:00.000000000",
          "2023-04-06T00:00:00.000000000",
          "2023-04-07T00:00:00.000000000",
          "2023-04-10T00:00:00.000000000",
          "2023-04-11T00:00:00.000000000",
          "2023-04-12T00:00:00.000000000",
          "2023-04-13T00:00:00.000000000",
          "2023-04-14T00:00:00.000000000",
          "2023-04-17T00:00:00.000000000",
          "2023-04-18T00:00:00.000000000",
          "2023-04-19T00:00:00.000000000",
          "2023-04-20T00:00:00.000000000",
          "2023-04-21T00:00:00.000000000",
          "2023-04-24T00:00:00.000000000",
          "2023-04-25T00:00:00.000000000",
          "2023-04-26T00:00:00.000000000",
          "2023-04-27T00:00:00.000000000",
          "2023-04-28T00:00:00.000000000",
          "2023-05-04T00:00:00.000000000",
          "2023-05-05T00:00:00.000000000",
          "2023-05-08T00:00:00.000000000",
          "2023-05-09T00:00:00.000000000",
          "2023-05-10T00:00:00.000000000",
          "2023-05-11T00:00:00.000000000",
          "2023-05-12T00:00:00.000000000",
          "2023-05-15T00:00:00.000000000",
          "2023-05-16T00:00:00.000000000",
          "2023-05-17T00:00:00.000000000",
          "2023-05-18T00:00:00.000000000",
          "2023-05-19T00:00:00.000000000",
          "2023-05-22T00:00:00.000000000",
          "2023-05-23T00:00:00.000000000",
          "2023-05-24T00:00:00.000000000",
          "2023-05-25T00:00:00.000000000",
          "2023-05-26T00:00:00.000000000",
          "2023-05-29T00:00:00.000000000",
          "2023-05-30T00:00:00.000000000",
          "2023-05-31T00:00:00.000000000",
          "2023-06-01T00:00:00.000000000",
          "2023-06-02T00:00:00.000000000",
          "2023-06-05T00:00:00.000000000",
          "2023-06-06T00:00:00.000000000",
          "2023-06-07T00:00:00.000000000",
          "2023-06-08T00:00:00.000000000",
          "2023-06-09T00:00:00.000000000",
          "2023-06-12T00:00:00.000000000",
          "2023-06-13T00:00:00.000000000",
          "2023-06-14T00:00:00.000000000",
          "2023-06-15T00:00:00.000000000",
          "2023-06-16T00:00:00.000000000",
          "2023-06-19T00:00:00.000000000",
          "2023-06-20T00:00:00.000000000",
          "2023-06-21T00:00:00.000000000",
          "2023-06-22T00:00:00.000000000",
          "2023-06-23T00:00:00.000000000",
          "2023-06-26T00:00:00.000000000",
          "2023-06-27T00:00:00.000000000",
          "2023-06-28T00:00:00.000000000",
          "2023-06-29T00:00:00.000000000",
          "2023-06-30T00:00:00.000000000",
          "2023-07-03T00:00:00.000000000",
          "2023-07-04T00:00:00.000000000",
          "2023-07-05T00:00:00.000000000",
          "2023-07-06T00:00:00.000000000",
          "2023-07-07T00:00:00.000000000",
          "2023-07-10T00:00:00.000000000",
          "2023-07-11T00:00:00.000000000",
          "2023-07-12T00:00:00.000000000",
          "2023-07-13T00:00:00.000000000",
          "2023-07-14T00:00:00.000000000",
          "2023-07-17T00:00:00.000000000",
          "2023-07-18T00:00:00.000000000",
          "2023-07-19T00:00:00.000000000",
          "2023-07-20T00:00:00.000000000",
          "2023-07-21T00:00:00.000000000",
          "2023-07-24T00:00:00.000000000",
          "2023-07-25T00:00:00.000000000",
          "2023-07-26T00:00:00.000000000",
          "2023-07-27T00:00:00.000000000",
          "2023-07-28T00:00:00.000000000",
          "2023-07-31T00:00:00.000000000",
          "2023-08-01T00:00:00.000000000",
          "2023-08-02T00:00:00.000000000",
          "2023-08-03T00:00:00.000000000",
          "2023-08-04T00:00:00.000000000",
          "2023-08-07T00:00:00.000000000",
          "2023-08-08T00:00:00.000000000",
          "2023-08-09T00:00:00.000000000",
          "2023-08-10T00:00:00.000000000",
          "2023-08-11T00:00:00.000000000",
          "2023-08-14T00:00:00.000000000",
          "2023-08-15T00:00:00.000000000",
          "2023-08-16T00:00:00.000000000",
          "2023-08-17T00:00:00.000000000",
          "2023-08-18T00:00:00.000000000",
          "2023-08-21T00:00:00.000000000",
          "2023-08-22T00:00:00.000000000",
          "2023-08-23T00:00:00.000000000",
          "2023-08-24T00:00:00.000000000",
          "2023-08-25T00:00:00.000000000",
          "2023-08-28T00:00:00.000000000",
          "2023-08-29T00:00:00.000000000",
          "2023-08-30T00:00:00.000000000",
          "2023-08-31T00:00:00.000000000",
          "2023-09-05T00:00:00.000000000",
          "2023-09-06T00:00:00.000000000",
          "2023-09-07T00:00:00.000000000",
          "2023-09-08T00:00:00.000000000",
          "2023-09-11T00:00:00.000000000",
          "2023-09-12T00:00:00.000000000",
          "2023-09-13T00:00:00.000000000",
          "2023-09-14T00:00:00.000000000",
          "2023-09-15T00:00:00.000000000",
          "2023-09-18T00:00:00.000000000",
          "2023-09-19T00:00:00.000000000",
          "2023-09-20T00:00:00.000000000",
          "2023-09-21T00:00:00.000000000",
          "2023-09-22T00:00:00.000000000",
          "2023-09-25T00:00:00.000000000",
          "2023-09-26T00:00:00.000000000",
          "2023-09-27T00:00:00.000000000",
          "2023-09-28T00:00:00.000000000",
          "2023-09-29T00:00:00.000000000",
          "2023-10-02T00:00:00.000000000",
          "2023-10-03T00:00:00.000000000",
          "2023-10-04T00:00:00.000000000",
          "2023-10-05T00:00:00.000000000",
          "2023-10-06T00:00:00.000000000",
          "2023-10-09T00:00:00.000000000",
          "2023-10-10T00:00:00.000000000",
          "2023-10-11T00:00:00.000000000",
          "2023-10-12T00:00:00.000000000",
          "2023-10-13T00:00:00.000000000",
          "2023-10-16T00:00:00.000000000",
          "2023-10-17T00:00:00.000000000",
          "2023-10-18T00:00:00.000000000",
          "2023-10-19T00:00:00.000000000",
          "2023-10-20T00:00:00.000000000",
          "2023-10-23T00:00:00.000000000",
          "2023-10-24T00:00:00.000000000",
          "2023-10-25T00:00:00.000000000",
          "2023-10-26T00:00:00.000000000",
          "2023-10-27T00:00:00.000000000",
          "2023-10-30T00:00:00.000000000",
          "2023-10-31T00:00:00.000000000",
          "2023-11-01T00:00:00.000000000",
          "2023-11-02T00:00:00.000000000",
          "2023-11-03T00:00:00.000000000",
          "2023-11-06T00:00:00.000000000",
          "2023-11-07T00:00:00.000000000",
          "2023-11-08T00:00:00.000000000",
          "2023-11-09T00:00:00.000000000",
          "2023-11-10T00:00:00.000000000",
          "2023-11-13T00:00:00.000000000",
          "2023-11-14T00:00:00.000000000",
          "2023-11-15T00:00:00.000000000",
          "2023-11-16T00:00:00.000000000",
          "2023-11-17T00:00:00.000000000",
          "2023-11-20T00:00:00.000000000",
          "2023-11-21T00:00:00.000000000",
          "2023-11-22T00:00:00.000000000",
          "2023-11-23T00:00:00.000000000",
          "2023-11-24T00:00:00.000000000",
          "2023-11-27T00:00:00.000000000",
          "2023-11-28T00:00:00.000000000",
          "2023-11-29T00:00:00.000000000",
          "2023-11-30T00:00:00.000000000",
          "2023-12-01T00:00:00.000000000",
          "2023-12-04T00:00:00.000000000",
          "2023-12-05T00:00:00.000000000",
          "2023-12-06T00:00:00.000000000",
          "2023-12-07T00:00:00.000000000",
          "2023-12-08T00:00:00.000000000",
          "2023-12-11T00:00:00.000000000",
          "2023-12-12T00:00:00.000000000",
          "2023-12-13T00:00:00.000000000",
          "2023-12-14T00:00:00.000000000",
          "2023-12-15T00:00:00.000000000",
          "2023-12-18T00:00:00.000000000",
          "2023-12-19T00:00:00.000000000",
          "2023-12-20T00:00:00.000000000",
          "2023-12-21T00:00:00.000000000",
          "2023-12-22T00:00:00.000000000",
          "2023-12-25T00:00:00.000000000",
          "2023-12-26T00:00:00.000000000",
          "2023-12-27T00:00:00.000000000",
          "2023-12-28T00:00:00.000000000",
          "2023-12-29T00:00:00.000000000",
          "2024-01-02T00:00:00.000000000",
          "2024-01-03T00:00:00.000000000",
          "2024-01-04T00:00:00.000000000",
          "2024-01-05T00:00:00.000000000",
          "2024-01-08T00:00:00.000000000",
          "2024-01-09T00:00:00.000000000",
          "2024-01-10T00:00:00.000000000",
          "2024-01-11T00:00:00.000000000",
          "2024-01-12T00:00:00.000000000",
          "2024-01-15T00:00:00.000000000",
          "2024-01-16T00:00:00.000000000",
          "2024-01-17T00:00:00.000000000",
          "2024-01-18T00:00:00.000000000",
          "2024-01-19T00:00:00.000000000",
          "2024-01-22T00:00:00.000000000",
          "2024-01-23T00:00:00.000000000",
          "2024-01-24T00:00:00.000000000",
          "2024-01-25T00:00:00.000000000",
          "2024-01-26T00:00:00.000000000",
          "2024-01-29T00:00:00.000000000",
          "2024-01-30T00:00:00.000000000",
          "2024-01-31T00:00:00.000000000",
          "2024-02-01T00:00:00.000000000",
          "2024-02-02T00:00:00.000000000",
          "2024-02-05T00:00:00.000000000",
          "2024-02-06T00:00:00.000000000",
          "2024-02-07T00:00:00.000000000",
          "2024-02-15T00:00:00.000000000",
          "2024-02-16T00:00:00.000000000",
          "2024-02-19T00:00:00.000000000",
          "2024-02-20T00:00:00.000000000",
          "2024-02-21T00:00:00.000000000",
          "2024-02-22T00:00:00.000000000",
          "2024-02-23T00:00:00.000000000",
          "2024-02-26T00:00:00.000000000",
          "2024-02-27T00:00:00.000000000",
          "2024-02-28T00:00:00.000000000",
          "2024-02-29T00:00:00.000000000",
          "2024-03-01T00:00:00.000000000",
          "2024-03-04T00:00:00.000000000",
          "2024-03-05T00:00:00.000000000",
          "2024-03-06T00:00:00.000000000",
          "2024-03-07T00:00:00.000000000",
          "2024-03-08T00:00:00.000000000",
          "2024-03-11T00:00:00.000000000",
          "2024-03-12T00:00:00.000000000",
          "2024-03-13T00:00:00.000000000",
          "2024-03-14T00:00:00.000000000",
          "2024-03-15T00:00:00.000000000",
          "2024-03-18T00:00:00.000000000",
          "2024-03-19T00:00:00.000000000",
          "2024-03-20T00:00:00.000000000",
          "2024-03-21T00:00:00.000000000",
          "2024-03-22T00:00:00.000000000",
          "2024-03-25T00:00:00.000000000",
          "2024-03-26T00:00:00.000000000",
          "2024-03-27T00:00:00.000000000",
          "2024-03-28T00:00:00.000000000",
          "2024-03-29T00:00:00.000000000",
          "2024-04-01T00:00:00.000000000",
          "2024-04-02T00:00:00.000000000",
          "2024-04-03T00:00:00.000000000",
          "2024-04-04T00:00:00.000000000",
          "2024-04-05T00:00:00.000000000",
          "2024-04-08T00:00:00.000000000",
          "2024-04-09T00:00:00.000000000",
          "2024-04-10T00:00:00.000000000",
          "2024-04-11T00:00:00.000000000",
          "2024-04-12T00:00:00.000000000",
          "2024-04-15T00:00:00.000000000",
          "2024-04-16T00:00:00.000000000",
          "2024-04-17T00:00:00.000000000",
          "2024-04-19T00:00:00.000000000",
          "2024-04-22T00:00:00.000000000",
          "2024-04-23T00:00:00.000000000",
          "2024-04-24T00:00:00.000000000",
          "2024-04-25T00:00:00.000000000",
          "2024-04-26T00:00:00.000000000",
          "2024-05-02T00:00:00.000000000",
          "2024-05-03T00:00:00.000000000",
          "2024-05-06T00:00:00.000000000",
          "2024-05-07T00:00:00.000000000",
          "2024-05-08T00:00:00.000000000",
          "2024-05-09T00:00:00.000000000",
          "2024-05-10T00:00:00.000000000",
          "2024-05-13T00:00:00.000000000",
          "2024-05-14T00:00:00.000000000",
          "2024-05-15T00:00:00.000000000",
          "2024-05-16T00:00:00.000000000",
          "2024-05-17T00:00:00.000000000",
          "2024-05-20T00:00:00.000000000",
          "2024-05-21T00:00:00.000000000",
          "2024-05-22T00:00:00.000000000",
          "2024-05-23T00:00:00.000000000",
          "2024-05-24T00:00:00.000000000",
          "2024-05-27T00:00:00.000000000",
          "2024-05-28T00:00:00.000000000",
          "2024-05-29T00:00:00.000000000",
          "2024-05-30T00:00:00.000000000",
          "2024-05-31T00:00:00.000000000",
          "2024-06-03T00:00:00.000000000",
          "2024-06-04T00:00:00.000000000",
          "2024-06-05T00:00:00.000000000",
          "2024-06-06T00:00:00.000000000",
          "2024-06-07T00:00:00.000000000",
          "2024-06-10T00:00:00.000000000",
          "2024-06-11T00:00:00.000000000",
          "2024-06-12T00:00:00.000000000",
          "2024-06-13T00:00:00.000000000",
          "2024-06-14T00:00:00.000000000",
          "2024-06-17T00:00:00.000000000",
          "2024-06-18T00:00:00.000000000",
          "2024-06-19T00:00:00.000000000",
          "2024-06-20T00:00:00.000000000",
          "2024-06-21T00:00:00.000000000",
          "2024-06-24T00:00:00.000000000",
          "2024-06-25T00:00:00.000000000",
          "2024-06-26T00:00:00.000000000",
          "2024-06-27T00:00:00.000000000",
          "2024-06-28T00:00:00.000000000",
          "2024-07-01T00:00:00.000000000",
          "2024-07-02T00:00:00.000000000",
          "2024-07-03T00:00:00.000000000",
          "2024-07-04T00:00:00.000000000",
          "2024-07-05T00:00:00.000000000",
          "2024-07-08T00:00:00.000000000",
          "2024-07-09T00:00:00.000000000",
          "2024-07-10T00:00:00.000000000",
          "2024-07-11T00:00:00.000000000",
          "2024-07-12T00:00:00.000000000",
          "2024-07-15T00:00:00.000000000",
          "2024-07-16T00:00:00.000000000",
          "2024-07-17T00:00:00.000000000",
          "2024-07-18T00:00:00.000000000",
          "2024-07-19T00:00:00.000000000",
          "2024-07-22T00:00:00.000000000",
          "2024-07-23T00:00:00.000000000",
          "2024-07-24T00:00:00.000000000",
          "2024-07-25T00:00:00.000000000",
          "2024-07-26T00:00:00.000000000",
          "2024-07-29T00:00:00.000000000",
          "2024-07-30T00:00:00.000000000",
          "2024-07-31T00:00:00.000000000",
          "2024-08-01T00:00:00.000000000",
          "2024-08-02T00:00:00.000000000",
          "2024-08-05T00:00:00.000000000",
          "2024-08-06T00:00:00.000000000",
          "2024-08-07T00:00:00.000000000",
          "2024-08-08T00:00:00.000000000",
          "2024-08-09T00:00:00.000000000",
          "2024-08-12T00:00:00.000000000",
          "2024-08-13T00:00:00.000000000",
          "2024-08-14T00:00:00.000000000",
          "2024-08-15T00:00:00.000000000",
          "2024-08-16T00:00:00.000000000",
          "2024-08-19T00:00:00.000000000",
          "2024-08-20T00:00:00.000000000",
          "2024-08-21T00:00:00.000000000",
          "2024-08-22T00:00:00.000000000",
          "2024-08-23T00:00:00.000000000",
          "2024-08-26T00:00:00.000000000",
          "2024-08-27T00:00:00.000000000",
          "2024-08-28T00:00:00.000000000",
          "2024-08-29T00:00:00.000000000",
          "2024-08-30T00:00:00.000000000",
          "2024-09-04T00:00:00.000000000",
          "2024-09-05T00:00:00.000000000",
          "2024-09-06T00:00:00.000000000",
          "2024-09-09T00:00:00.000000000",
          "2024-09-10T00:00:00.000000000",
          "2024-09-11T00:00:00.000000000",
          "2024-09-12T00:00:00.000000000",
          "2024-09-13T00:00:00.000000000",
          "2024-09-16T00:00:00.000000000",
          "2024-09-17T00:00:00.000000000",
          "2024-09-18T00:00:00.000000000",
          "2024-09-19T00:00:00.000000000",
          "2024-09-20T00:00:00.000000000",
          "2024-09-23T00:00:00.000000000",
          "2024-09-24T00:00:00.000000000",
          "2024-09-25T00:00:00.000000000",
          "2024-09-26T00:00:00.000000000",
          "2024-09-27T00:00:00.000000000",
          "2024-09-30T00:00:00.000000000",
          "2024-10-01T00:00:00.000000000",
          "2024-10-02T00:00:00.000000000",
          "2024-10-03T00:00:00.000000000",
          "2024-10-04T00:00:00.000000000",
          "2024-10-07T00:00:00.000000000",
          "2024-10-08T00:00:00.000000000",
          "2024-10-09T00:00:00.000000000",
          "2024-10-10T00:00:00.000000000",
          "2024-10-11T00:00:00.000000000",
          "2024-10-14T00:00:00.000000000",
          "2024-10-15T00:00:00.000000000",
          "2024-10-16T00:00:00.000000000",
          "2024-10-17T00:00:00.000000000",
          "2024-10-18T00:00:00.000000000",
          "2024-10-21T00:00:00.000000000",
          "2024-10-22T00:00:00.000000000",
          "2024-10-23T00:00:00.000000000",
          "2024-10-24T00:00:00.000000000",
          "2024-10-25T00:00:00.000000000",
          "2024-10-28T00:00:00.000000000",
          "2024-10-29T00:00:00.000000000",
          "2024-10-30T00:00:00.000000000",
          "2024-10-31T00:00:00.000000000",
          "2024-11-01T00:00:00.000000000",
          "2024-11-04T00:00:00.000000000",
          "2024-11-05T00:00:00.000000000",
          "2024-11-06T00:00:00.000000000",
          "2024-11-07T00:00:00.000000000",
          "2024-11-08T00:00:00.000000000",
          "2024-11-11T00:00:00.000000000",
          "2024-11-12T00:00:00.000000000",
          "2024-11-13T00:00:00.000000000",
          "2024-11-14T00:00:00.000000000",
          "2024-11-15T00:00:00.000000000",
          "2024-11-18T00:00:00.000000000",
          "2024-11-19T00:00:00.000000000",
          "2024-11-20T00:00:00.000000000",
          "2024-11-21T00:00:00.000000000",
          "2024-11-22T00:00:00.000000000",
          "2024-11-25T00:00:00.000000000",
          "2024-11-26T00:00:00.000000000",
          "2024-11-27T00:00:00.000000000",
          "2024-11-28T00:00:00.000000000",
          "2024-11-29T00:00:00.000000000",
          "2024-12-02T00:00:00.000000000",
          "2024-12-03T00:00:00.000000000",
          "2024-12-04T00:00:00.000000000",
          "2024-12-05T00:00:00.000000000",
          "2024-12-06T00:00:00.000000000",
          "2024-12-09T00:00:00.000000000",
          "2024-12-10T00:00:00.000000000",
          "2024-12-11T00:00:00.000000000",
          "2024-12-12T00:00:00.000000000",
          "2024-12-13T00:00:00.000000000",
          "2024-12-16T00:00:00.000000000",
          "2024-12-17T00:00:00.000000000",
          "2024-12-18T00:00:00.000000000",
          "2024-12-19T00:00:00.000000000",
          "2024-12-20T00:00:00.000000000",
          "2024-12-23T00:00:00.000000000",
          "2024-12-24T00:00:00.000000000",
          "2024-12-25T00:00:00.000000000",
          "2024-12-26T00:00:00.000000000",
          "2024-12-27T00:00:00.000000000",
          "2024-12-30T00:00:00.000000000",
          "2024-12-31T00:00:00.000000000",
          "2025-01-02T00:00:00.000000000",
          "2025-01-03T00:00:00.000000000",
          "2025-01-06T00:00:00.000000000",
          "2025-01-07T00:00:00.000000000",
          "2025-01-08T00:00:00.000000000",
          "2025-01-09T00:00:00.000000000",
          "2025-01-10T00:00:00.000000000",
          "2025-01-13T00:00:00.000000000",
          "2025-01-14T00:00:00.000000000",
          "2025-01-15T00:00:00.000000000",
          "2025-01-16T00:00:00.000000000",
          "2025-01-17T00:00:00.000000000",
          "2025-01-20T00:00:00.000000000",
          "2025-01-21T00:00:00.000000000",
          "2025-01-22T00:00:00.000000000",
          "2025-01-23T00:00:00.000000000",
          "2025-01-24T00:00:00.000000000",
          "2025-02-03T00:00:00.000000000",
          "2025-02-04T00:00:00.000000000",
          "2025-02-05T00:00:00.000000000",
          "2025-02-06T00:00:00.000000000",
          "2025-02-07T00:00:00.000000000",
          "2025-02-10T00:00:00.000000000",
          "2025-02-11T00:00:00.000000000",
          "2025-02-12T00:00:00.000000000",
          "2025-02-13T00:00:00.000000000",
          "2025-02-14T00:00:00.000000000",
          "2025-02-17T00:00:00.000000000",
          "2025-02-18T00:00:00.000000000",
          "2025-02-19T00:00:00.000000000",
          "2025-02-20T00:00:00.000000000",
          "2025-02-21T00:00:00.000000000",
          "2025-02-24T00:00:00.000000000",
          "2025-02-25T00:00:00.000000000",
          "2025-02-26T00:00:00.000000000",
          "2025-02-27T00:00:00.000000000",
          "2025-02-28T00:00:00.000000000",
          "2025-03-03T00:00:00.000000000",
          "2025-03-04T00:00:00.000000000",
          "2025-03-05T00:00:00.000000000",
          "2025-03-06T00:00:00.000000000",
          "2025-03-07T00:00:00.000000000",
          "2025-03-10T00:00:00.000000000",
          "2025-03-11T00:00:00.000000000",
          "2025-03-12T00:00:00.000000000",
          "2025-03-13T00:00:00.000000000",
          "2025-03-14T00:00:00.000000000",
          "2025-03-17T00:00:00.000000000",
          "2025-03-18T00:00:00.000000000",
          "2025-03-19T00:00:00.000000000",
          "2025-03-20T00:00:00.000000000",
          "2025-03-21T00:00:00.000000000",
          "2025-03-24T00:00:00.000000000",
          "2025-03-25T00:00:00.000000000",
          "2025-03-26T00:00:00.000000000",
          "2025-03-27T00:00:00.000000000",
          "2025-03-28T00:00:00.000000000",
          "2025-03-31T00:00:00.000000000"
         ]
        }
       ],
       "layout": {
        "template": {
         "data": {
          "bar": [
           {
            "error_x": {
             "color": "#2a3f5f"
            },
            "error_y": {
             "color": "#2a3f5f"
            },
            "marker": {
             "line": {
              "color": "#E5ECF6",
              "width": 0.5
             },
             "pattern": {
              "fillmode": "overlay",
              "size": 10,
              "solidity": 0.2
             }
            },
            "type": "bar"
           }
          ],
          "barpolar": [
           {
            "marker": {
             "line": {
              "color": "#E5ECF6",
              "width": 0.5
             },
             "pattern": {
              "fillmode": "overlay",
              "size": 10,
              "solidity": 0.2
             }
            },
            "type": "barpolar"
           }
          ],
          "carpet": [
           {
            "aaxis": {
             "endlinecolor": "#2a3f5f",
             "gridcolor": "white",
             "linecolor": "white",
             "minorgridcolor": "white",
             "startlinecolor": "#2a3f5f"
            },
            "baxis": {
             "endlinecolor": "#2a3f5f",
             "gridcolor": "white",
             "linecolor": "white",
             "minorgridcolor": "white",
             "startlinecolor": "#2a3f5f"
            },
            "type": "carpet"
           }
          ],
          "choropleth": [
           {
            "colorbar": {
             "outlinewidth": 0,
             "ticks": ""
            },
            "type": "choropleth"
           }
          ],
          "contour": [
           {
            "colorbar": {
             "outlinewidth": 0,
             "ticks": ""
            },
            "colorscale": [
             [
              0,
              "#0d0887"
             ],
             [
              0.1111111111111111,
              "#46039f"
             ],
             [
              0.2222222222222222,
              "#7201a8"
             ],
             [
              0.3333333333333333,
              "#9c179e"
             ],
             [
              0.4444444444444444,
              "#bd3786"
             ],
             [
              0.5555555555555556,
              "#d8576b"
             ],
             [
              0.6666666666666666,
              "#ed7953"
             ],
             [
              0.7777777777777778,
              "#fb9f3a"
             ],
             [
              0.8888888888888888,
              "#fdca26"
             ],
             [
              1,
              "#f0f921"
             ]
            ],
            "type": "contour"
           }
          ],
          "contourcarpet": [
           {
            "colorbar": {
             "outlinewidth": 0,
             "ticks": ""
            },
            "type": "contourcarpet"
           }
          ],
          "heatmap": [
           {
            "colorbar": {
             "outlinewidth": 0,
             "ticks": ""
            },
            "colorscale": [
             [
              0,
              "#0d0887"
             ],
             [
              0.1111111111111111,
              "#46039f"
             ],
             [
              0.2222222222222222,
              "#7201a8"
             ],
             [
              0.3333333333333333,
              "#9c179e"
             ],
             [
              0.4444444444444444,
              "#bd3786"
             ],
             [
              0.5555555555555556,
              "#d8576b"
             ],
             [
              0.6666666666666666,
              "#ed7953"
             ],
             [
              0.7777777777777778,
              "#fb9f3a"
             ],
             [
              0.8888888888888888,
              "#fdca26"
             ],
             [
              1,
              "#f0f921"
             ]
            ],
            "type": "heatmap"
           }
          ],
          "histogram": [
           {
            "marker": {
             "pattern": {
              "fillmode": "overlay",
              "size": 10,
              "solidity": 0.2
             }
            },
            "type": "histogram"
           }
          ],
          "histogram2d": [
           {
            "colorbar": {
             "outlinewidth": 0,
             "ticks": ""
            },
            "colorscale": [
             [
              0,
              "#0d0887"
             ],
             [
              0.1111111111111111,
              "#46039f"
             ],
             [
              0.2222222222222222,
              "#7201a8"
             ],
             [
              0.3333333333333333,
              "#9c179e"
             ],
             [
              0.4444444444444444,
              "#bd3786"
             ],
             [
              0.5555555555555556,
              "#d8576b"
             ],
             [
              0.6666666666666666,
              "#ed7953"
             ],
             [
              0.7777777777777778,
              "#fb9f3a"
             ],
             [
              0.8888888888888888,
              "#fdca26"
             ],
             [
              1,
              "#f0f921"
             ]
            ],
            "type": "histogram2d"
           }
          ],
          "histogram2dcontour": [
           {
            "colorbar": {
             "outlinewidth": 0,
             "ticks": ""
            },
            "colorscale": [
             [
              0,
              "#0d0887"
             ],
             [
              0.1111111111111111,
              "#46039f"
             ],
             [
              0.2222222222222222,
              "#7201a8"
             ],
             [
              0.3333333333333333,
              "#9c179e"
             ],
             [
              0.4444444444444444,
              "#bd3786"
             ],
             [
              0.5555555555555556,
              "#d8576b"
             ],
             [
              0.6666666666666666,
              "#ed7953"
             ],
             [
              0.7777777777777778,
              "#fb9f3a"
             ],
             [
              0.8888888888888888,
              "#fdca26"
             ],
             [
              1,
              "#f0f921"
             ]
            ],
            "type": "histogram2dcontour"
           }
          ],
          "mesh3d": [
           {
            "colorbar": {
             "outlinewidth": 0,
             "ticks": ""
            },
            "type": "mesh3d"
           }
          ],
          "parcoords": [
           {
            "line": {
             "colorbar": {
              "outlinewidth": 0,
              "ticks": ""
             }
            },
            "type": "parcoords"
           }
          ],
          "pie": [
           {
            "automargin": true,
            "type": "pie"
           }
          ],
          "scatter": [
           {
            "fillpattern": {
             "fillmode": "overlay",
             "size": 10,
             "solidity": 0.2
            },
            "type": "scatter"
           }
          ],
          "scatter3d": [
           {
            "line": {
             "colorbar": {
              "outlinewidth": 0,
              "ticks": ""
             }
            },
            "marker": {
             "colorbar": {
              "outlinewidth": 0,
              "ticks": ""
             }
            },
            "type": "scatter3d"
           }
          ],
          "scattercarpet": [
           {
            "marker": {
             "colorbar": {
              "outlinewidth": 0,
              "ticks": ""
             }
            },
            "type": "scattercarpet"
           }
          ],
          "scattergeo": [
           {
            "marker": {
             "colorbar": {
              "outlinewidth": 0,
              "ticks": ""
             }
            },
            "type": "scattergeo"
           }
          ],
          "scattergl": [
           {
            "marker": {
             "colorbar": {
              "outlinewidth": 0,
              "ticks": ""
             }
            },
            "type": "scattergl"
           }
          ],
          "scattermap": [
           {
            "marker": {
             "colorbar": {
              "outlinewidth": 0,
              "ticks": ""
             }
            },
            "type": "scattermap"
           }
          ],
          "scattermapbox": [
           {
            "marker": {
             "colorbar": {
              "outlinewidth": 0,
              "ticks": ""
             }
            },
            "type": "scattermapbox"
           }
          ],
          "scatterpolar": [
           {
            "marker": {
             "colorbar": {
              "outlinewidth": 0,
              "ticks": ""
             }
            },
            "type": "scatterpolar"
           }
          ],
          "scatterpolargl": [
           {
            "marker": {
             "colorbar": {
              "outlinewidth": 0,
              "ticks": ""
             }
            },
            "type": "scatterpolargl"
           }
          ],
          "scatterternary": [
           {
            "marker": {
             "colorbar": {
              "outlinewidth": 0,
              "ticks": ""
             }
            },
            "type": "scatterternary"
           }
          ],
          "surface": [
           {
            "colorbar": {
             "outlinewidth": 0,
             "ticks": ""
            },
            "colorscale": [
             [
              0,
              "#0d0887"
             ],
             [
              0.1111111111111111,
              "#46039f"
             ],
             [
              0.2222222222222222,
              "#7201a8"
             ],
             [
              0.3333333333333333,
              "#9c179e"
             ],
             [
              0.4444444444444444,
              "#bd3786"
             ],
             [
              0.5555555555555556,
              "#d8576b"
             ],
             [
              0.6666666666666666,
              "#ed7953"
             ],
             [
              0.7777777777777778,
              "#fb9f3a"
             ],
             [
              0.8888888888888888,
              "#fdca26"
             ],
             [
              1,
              "#f0f921"
             ]
            ],
            "type": "surface"
           }
          ],
          "table": [
           {
            "cells": {
             "fill": {
              "color": "#EBF0F8"
             },
             "line": {
              "color": "white"
             }
            },
            "header": {
             "fill": {
              "color": "#C8D4E3"
             },
             "line": {
              "color": "white"
             }
            },
            "type": "table"
           }
          ]
         },
         "layout": {
          "annotationdefaults": {
           "arrowcolor": "#2a3f5f",
           "arrowhead": 0,
           "arrowwidth": 1
          },
          "autotypenumbers": "strict",
          "coloraxis": {
           "colorbar": {
            "outlinewidth": 0,
            "ticks": ""
           }
          },
          "colorscale": {
           "diverging": [
            [
             0,
             "#8e0152"
            ],
            [
             0.1,
             "#c51b7d"
            ],
            [
             0.2,
             "#de77ae"
            ],
            [
             0.3,
             "#f1b6da"
            ],
            [
             0.4,
             "#fde0ef"
            ],
            [
             0.5,
             "#f7f7f7"
            ],
            [
             0.6,
             "#e6f5d0"
            ],
            [
             0.7,
             "#b8e186"
            ],
            [
             0.8,
             "#7fbc41"
            ],
            [
             0.9,
             "#4d9221"
            ],
            [
             1,
             "#276419"
            ]
           ],
           "sequential": [
            [
             0,
             "#0d0887"
            ],
            [
             0.1111111111111111,
             "#46039f"
            ],
            [
             0.2222222222222222,
             "#7201a8"
            ],
            [
             0.3333333333333333,
             "#9c179e"
            ],
            [
             0.4444444444444444,
             "#bd3786"
            ],
            [
             0.5555555555555556,
             "#d8576b"
            ],
            [
             0.6666666666666666,
             "#ed7953"
            ],
            [
             0.7777777777777778,
             "#fb9f3a"
            ],
            [
             0.8888888888888888,
             "#fdca26"
            ],
            [
             1,
             "#f0f921"
            ]
           ],
           "sequentialminus": [
            [
             0,
             "#0d0887"
            ],
            [
             0.1111111111111111,
             "#46039f"
            ],
            [
             0.2222222222222222,
             "#7201a8"
            ],
            [
             0.3333333333333333,
             "#9c179e"
            ],
            [
             0.4444444444444444,
             "#bd3786"
            ],
            [
             0.5555555555555556,
             "#d8576b"
            ],
            [
             0.6666666666666666,
             "#ed7953"
            ],
            [
             0.7777777777777778,
             "#fb9f3a"
            ],
            [
             0.8888888888888888,
             "#fdca26"
            ],
            [
             1,
             "#f0f921"
            ]
           ]
          },
          "colorway": [
           "#636efa",
           "#EF553B",
           "#00cc96",
           "#ab63fa",
           "#FFA15A",
           "#19d3f3",
           "#FF6692",
           "#B6E880",
           "#FF97FF",
           "#FECB52"
          ],
          "font": {
           "color": "#2a3f5f"
          },
          "geo": {
           "bgcolor": "white",
           "lakecolor": "white",
           "landcolor": "#E5ECF6",
           "showlakes": true,
           "showland": true,
           "subunitcolor": "white"
          },
          "hoverlabel": {
           "align": "left"
          },
          "hovermode": "closest",
          "mapbox": {
           "style": "light"
          },
          "paper_bgcolor": "white",
          "plot_bgcolor": "#E5ECF6",
          "polar": {
           "angularaxis": {
            "gridcolor": "white",
            "linecolor": "white",
            "ticks": ""
           },
           "bgcolor": "#E5ECF6",
           "radialaxis": {
            "gridcolor": "white",
            "linecolor": "white",
            "ticks": ""
           }
          },
          "scene": {
           "xaxis": {
            "backgroundcolor": "#E5ECF6",
            "gridcolor": "white",
            "gridwidth": 2,
            "linecolor": "white",
            "showbackground": true,
            "ticks": "",
            "zerolinecolor": "white"
           },
           "yaxis": {
            "backgroundcolor": "#E5ECF6",
            "gridcolor": "white",
            "gridwidth": 2,
            "linecolor": "white",
            "showbackground": true,
            "ticks": "",
            "zerolinecolor": "white"
           },
           "zaxis": {
            "backgroundcolor": "#E5ECF6",
            "gridcolor": "white",
            "gridwidth": 2,
            "linecolor": "white",
            "showbackground": true,
            "ticks": "",
            "zerolinecolor": "white"
           }
          },
          "shapedefaults": {
           "line": {
            "color": "#2a3f5f"
           }
          },
          "ternary": {
           "aaxis": {
            "gridcolor": "white",
            "linecolor": "white",
            "ticks": ""
           },
           "baxis": {
            "gridcolor": "white",
            "linecolor": "white",
            "ticks": ""
           },
           "bgcolor": "#E5ECF6",
           "caxis": {
            "gridcolor": "white",
            "linecolor": "white",
            "ticks": ""
           }
          },
          "title": {
           "x": 0.05
          },
          "xaxis": {
           "automargin": true,
           "gridcolor": "white",
           "linecolor": "white",
           "ticks": "",
           "title": {
            "standoff": 15
           },
           "zerolinecolor": "white",
           "zerolinewidth": 2
          },
          "yaxis": {
           "automargin": true,
           "gridcolor": "white",
           "linecolor": "white",
           "ticks": "",
           "title": {
            "standoff": 15
           },
           "zerolinecolor": "white",
           "zerolinewidth": 2
          }
         }
        }
       }
      }
     },
     "metadata": {},
     "output_type": "display_data"
    }
   ],
   "source": [
    "visualize_trade_each_bank(\"BIDV\")"
   ]
  },
  {
   "cell_type": "markdown",
   "id": "fcf21b68",
   "metadata": {},
   "source": [
    "Theo biểu đồ nến, ta thấy:\n",
    "  - Từ đầu năm 2022 đến giữa năm 2022, có xu hướng giảm, sau đó có một giai đoạn hồi phục đến tháng 8 rồi giảm trở lại.\n",
    "  - Từ tháng 10/2022, giá cổ phiếu bắt đầu tăng, sau đó đi ngang đến tháng 9/2023. Sau đó tuy có sự giảm nhẹ ở tháng 10/2023 nhưng sau đó tăng mạnh đến tháng 3/2024 rồi đi ngang."
   ]
  },
  {
   "cell_type": "code",
   "execution_count": 21,
   "id": "4bc0d830",
   "metadata": {},
   "outputs": [
    {
     "data": {
      "application/vnd.plotly.v1+json": {
       "config": {
        "plotlyServerURL": "https://plot.ly"
       },
       "data": [
        {
         "type": "bar",
         "x": [
          "2022-01-04T00:00:00.000000000",
          "2022-01-05T00:00:00.000000000",
          "2022-01-06T00:00:00.000000000",
          "2022-01-07T00:00:00.000000000",
          "2022-01-10T00:00:00.000000000",
          "2022-01-11T00:00:00.000000000",
          "2022-01-12T00:00:00.000000000",
          "2022-01-13T00:00:00.000000000",
          "2022-01-14T00:00:00.000000000",
          "2022-01-17T00:00:00.000000000",
          "2022-01-18T00:00:00.000000000",
          "2022-01-19T00:00:00.000000000",
          "2022-01-20T00:00:00.000000000",
          "2022-01-21T00:00:00.000000000",
          "2022-01-24T00:00:00.000000000",
          "2022-01-25T00:00:00.000000000",
          "2022-01-26T00:00:00.000000000",
          "2022-01-27T00:00:00.000000000",
          "2022-01-28T00:00:00.000000000",
          "2022-02-07T00:00:00.000000000",
          "2022-02-08T00:00:00.000000000",
          "2022-02-09T00:00:00.000000000",
          "2022-02-10T00:00:00.000000000",
          "2022-02-11T00:00:00.000000000",
          "2022-02-14T00:00:00.000000000",
          "2022-02-15T00:00:00.000000000",
          "2022-02-16T00:00:00.000000000",
          "2022-02-17T00:00:00.000000000",
          "2022-02-18T00:00:00.000000000",
          "2022-02-21T00:00:00.000000000",
          "2022-02-22T00:00:00.000000000",
          "2022-02-23T00:00:00.000000000",
          "2022-02-24T00:00:00.000000000",
          "2022-02-25T00:00:00.000000000",
          "2022-02-28T00:00:00.000000000",
          "2022-03-01T00:00:00.000000000",
          "2022-03-02T00:00:00.000000000",
          "2022-03-03T00:00:00.000000000",
          "2022-03-04T00:00:00.000000000",
          "2022-03-07T00:00:00.000000000",
          "2022-03-08T00:00:00.000000000",
          "2022-03-09T00:00:00.000000000",
          "2022-03-10T00:00:00.000000000",
          "2022-03-11T00:00:00.000000000",
          "2022-03-14T00:00:00.000000000",
          "2022-03-15T00:00:00.000000000",
          "2022-03-16T00:00:00.000000000",
          "2022-03-17T00:00:00.000000000",
          "2022-03-18T00:00:00.000000000",
          "2022-03-21T00:00:00.000000000",
          "2022-03-22T00:00:00.000000000",
          "2022-03-23T00:00:00.000000000",
          "2022-03-24T00:00:00.000000000",
          "2022-03-25T00:00:00.000000000",
          "2022-03-28T00:00:00.000000000",
          "2022-03-29T00:00:00.000000000",
          "2022-03-30T00:00:00.000000000",
          "2022-03-31T00:00:00.000000000",
          "2022-04-01T00:00:00.000000000",
          "2022-04-04T00:00:00.000000000",
          "2022-04-05T00:00:00.000000000",
          "2022-04-06T00:00:00.000000000",
          "2022-04-07T00:00:00.000000000",
          "2022-04-08T00:00:00.000000000",
          "2022-04-12T00:00:00.000000000",
          "2022-04-13T00:00:00.000000000",
          "2022-04-14T00:00:00.000000000",
          "2022-04-15T00:00:00.000000000",
          "2022-04-18T00:00:00.000000000",
          "2022-04-19T00:00:00.000000000",
          "2022-04-20T00:00:00.000000000",
          "2022-04-21T00:00:00.000000000",
          "2022-04-22T00:00:00.000000000",
          "2022-04-25T00:00:00.000000000",
          "2022-04-26T00:00:00.000000000",
          "2022-04-27T00:00:00.000000000",
          "2022-04-28T00:00:00.000000000",
          "2022-04-29T00:00:00.000000000",
          "2022-05-04T00:00:00.000000000",
          "2022-05-05T00:00:00.000000000",
          "2022-05-06T00:00:00.000000000",
          "2022-05-09T00:00:00.000000000",
          "2022-05-10T00:00:00.000000000",
          "2022-05-11T00:00:00.000000000",
          "2022-05-12T00:00:00.000000000",
          "2022-05-13T00:00:00.000000000",
          "2022-05-16T00:00:00.000000000",
          "2022-05-17T00:00:00.000000000",
          "2022-05-18T00:00:00.000000000",
          "2022-05-19T00:00:00.000000000",
          "2022-05-20T00:00:00.000000000",
          "2022-05-23T00:00:00.000000000",
          "2022-05-24T00:00:00.000000000",
          "2022-05-25T00:00:00.000000000",
          "2022-05-26T00:00:00.000000000",
          "2022-05-27T00:00:00.000000000",
          "2022-05-30T00:00:00.000000000",
          "2022-05-31T00:00:00.000000000",
          "2022-06-01T00:00:00.000000000",
          "2022-06-02T00:00:00.000000000",
          "2022-06-03T00:00:00.000000000",
          "2022-06-06T00:00:00.000000000",
          "2022-06-07T00:00:00.000000000",
          "2022-06-08T00:00:00.000000000",
          "2022-06-09T00:00:00.000000000",
          "2022-06-10T00:00:00.000000000",
          "2022-06-13T00:00:00.000000000",
          "2022-06-14T00:00:00.000000000",
          "2022-06-15T00:00:00.000000000",
          "2022-06-16T00:00:00.000000000",
          "2022-06-17T00:00:00.000000000",
          "2022-06-20T00:00:00.000000000",
          "2022-06-21T00:00:00.000000000",
          "2022-06-22T00:00:00.000000000",
          "2022-06-23T00:00:00.000000000",
          "2022-06-24T00:00:00.000000000",
          "2022-06-27T00:00:00.000000000",
          "2022-06-28T00:00:00.000000000",
          "2022-06-29T00:00:00.000000000",
          "2022-06-30T00:00:00.000000000",
          "2022-07-01T00:00:00.000000000",
          "2022-07-04T00:00:00.000000000",
          "2022-07-05T00:00:00.000000000",
          "2022-07-06T00:00:00.000000000",
          "2022-07-07T00:00:00.000000000",
          "2022-07-08T00:00:00.000000000",
          "2022-07-11T00:00:00.000000000",
          "2022-07-12T00:00:00.000000000",
          "2022-07-13T00:00:00.000000000",
          "2022-07-14T00:00:00.000000000",
          "2022-07-15T00:00:00.000000000",
          "2022-07-18T00:00:00.000000000",
          "2022-07-19T00:00:00.000000000",
          "2022-07-20T00:00:00.000000000",
          "2022-07-21T00:00:00.000000000",
          "2022-07-22T00:00:00.000000000",
          "2022-07-25T00:00:00.000000000",
          "2022-07-26T00:00:00.000000000",
          "2022-07-27T00:00:00.000000000",
          "2022-07-28T00:00:00.000000000",
          "2022-07-29T00:00:00.000000000",
          "2022-08-01T00:00:00.000000000",
          "2022-08-02T00:00:00.000000000",
          "2022-08-03T00:00:00.000000000",
          "2022-08-04T00:00:00.000000000",
          "2022-08-05T00:00:00.000000000",
          "2022-08-08T00:00:00.000000000",
          "2022-08-09T00:00:00.000000000",
          "2022-08-10T00:00:00.000000000",
          "2022-08-11T00:00:00.000000000",
          "2022-08-12T00:00:00.000000000",
          "2022-08-15T00:00:00.000000000",
          "2022-08-16T00:00:00.000000000",
          "2022-08-17T00:00:00.000000000",
          "2022-08-18T00:00:00.000000000",
          "2022-08-19T00:00:00.000000000",
          "2022-08-22T00:00:00.000000000",
          "2022-08-23T00:00:00.000000000",
          "2022-08-24T00:00:00.000000000",
          "2022-08-25T00:00:00.000000000",
          "2022-08-26T00:00:00.000000000",
          "2022-08-29T00:00:00.000000000",
          "2022-08-30T00:00:00.000000000",
          "2022-08-31T00:00:00.000000000",
          "2022-09-05T00:00:00.000000000",
          "2022-09-06T00:00:00.000000000",
          "2022-09-07T00:00:00.000000000",
          "2022-09-08T00:00:00.000000000",
          "2022-09-09T00:00:00.000000000",
          "2022-09-12T00:00:00.000000000",
          "2022-09-13T00:00:00.000000000",
          "2022-09-14T00:00:00.000000000",
          "2022-09-15T00:00:00.000000000",
          "2022-09-16T00:00:00.000000000",
          "2022-09-19T00:00:00.000000000",
          "2022-09-20T00:00:00.000000000",
          "2022-09-21T00:00:00.000000000",
          "2022-09-22T00:00:00.000000000",
          "2022-09-23T00:00:00.000000000",
          "2022-09-26T00:00:00.000000000",
          "2022-09-27T00:00:00.000000000",
          "2022-09-28T00:00:00.000000000",
          "2022-09-29T00:00:00.000000000",
          "2022-09-30T00:00:00.000000000",
          "2022-10-03T00:00:00.000000000",
          "2022-10-04T00:00:00.000000000",
          "2022-10-05T00:00:00.000000000",
          "2022-10-06T00:00:00.000000000",
          "2022-10-07T00:00:00.000000000",
          "2022-10-10T00:00:00.000000000",
          "2022-10-11T00:00:00.000000000",
          "2022-10-12T00:00:00.000000000",
          "2022-10-13T00:00:00.000000000",
          "2022-10-14T00:00:00.000000000",
          "2022-10-17T00:00:00.000000000",
          "2022-10-18T00:00:00.000000000",
          "2022-10-19T00:00:00.000000000",
          "2022-10-20T00:00:00.000000000",
          "2022-10-21T00:00:00.000000000",
          "2022-10-24T00:00:00.000000000",
          "2022-10-25T00:00:00.000000000",
          "2022-10-26T00:00:00.000000000",
          "2022-10-27T00:00:00.000000000",
          "2022-10-28T00:00:00.000000000",
          "2022-10-31T00:00:00.000000000",
          "2022-11-01T00:00:00.000000000",
          "2022-11-02T00:00:00.000000000",
          "2022-11-03T00:00:00.000000000",
          "2022-11-04T00:00:00.000000000",
          "2022-11-07T00:00:00.000000000",
          "2022-11-08T00:00:00.000000000",
          "2022-11-09T00:00:00.000000000",
          "2022-11-10T00:00:00.000000000",
          "2022-11-11T00:00:00.000000000",
          "2022-11-14T00:00:00.000000000",
          "2022-11-15T00:00:00.000000000",
          "2022-11-16T00:00:00.000000000",
          "2022-11-17T00:00:00.000000000",
          "2022-11-18T00:00:00.000000000",
          "2022-11-21T00:00:00.000000000",
          "2022-11-22T00:00:00.000000000",
          "2022-11-23T00:00:00.000000000",
          "2022-11-24T00:00:00.000000000",
          "2022-11-25T00:00:00.000000000",
          "2022-11-28T00:00:00.000000000",
          "2022-11-29T00:00:00.000000000",
          "2022-11-30T00:00:00.000000000",
          "2022-12-01T00:00:00.000000000",
          "2022-12-02T00:00:00.000000000",
          "2022-12-05T00:00:00.000000000",
          "2022-12-06T00:00:00.000000000",
          "2022-12-07T00:00:00.000000000",
          "2022-12-08T00:00:00.000000000",
          "2022-12-09T00:00:00.000000000",
          "2022-12-12T00:00:00.000000000",
          "2022-12-13T00:00:00.000000000",
          "2022-12-14T00:00:00.000000000",
          "2022-12-15T00:00:00.000000000",
          "2022-12-16T00:00:00.000000000",
          "2022-12-19T00:00:00.000000000",
          "2022-12-20T00:00:00.000000000",
          "2022-12-21T00:00:00.000000000",
          "2022-12-22T00:00:00.000000000",
          "2022-12-23T00:00:00.000000000",
          "2022-12-26T00:00:00.000000000",
          "2022-12-27T00:00:00.000000000",
          "2022-12-28T00:00:00.000000000",
          "2022-12-29T00:00:00.000000000",
          "2022-12-30T00:00:00.000000000",
          "2023-01-03T00:00:00.000000000",
          "2023-01-04T00:00:00.000000000",
          "2023-01-05T00:00:00.000000000",
          "2023-01-06T00:00:00.000000000",
          "2023-01-09T00:00:00.000000000",
          "2023-01-10T00:00:00.000000000",
          "2023-01-11T00:00:00.000000000",
          "2023-01-12T00:00:00.000000000",
          "2023-01-13T00:00:00.000000000",
          "2023-01-16T00:00:00.000000000",
          "2023-01-17T00:00:00.000000000",
          "2023-01-18T00:00:00.000000000",
          "2023-01-19T00:00:00.000000000",
          "2023-01-27T00:00:00.000000000",
          "2023-01-30T00:00:00.000000000",
          "2023-01-31T00:00:00.000000000",
          "2023-02-01T00:00:00.000000000",
          "2023-02-02T00:00:00.000000000",
          "2023-02-03T00:00:00.000000000",
          "2023-02-06T00:00:00.000000000",
          "2023-02-07T00:00:00.000000000",
          "2023-02-08T00:00:00.000000000",
          "2023-02-09T00:00:00.000000000",
          "2023-02-10T00:00:00.000000000",
          "2023-02-13T00:00:00.000000000",
          "2023-02-14T00:00:00.000000000",
          "2023-02-15T00:00:00.000000000",
          "2023-02-16T00:00:00.000000000",
          "2023-02-17T00:00:00.000000000",
          "2023-02-20T00:00:00.000000000",
          "2023-02-21T00:00:00.000000000",
          "2023-02-22T00:00:00.000000000",
          "2023-02-23T00:00:00.000000000",
          "2023-02-24T00:00:00.000000000",
          "2023-02-27T00:00:00.000000000",
          "2023-02-28T00:00:00.000000000",
          "2023-03-01T00:00:00.000000000",
          "2023-03-02T00:00:00.000000000",
          "2023-03-03T00:00:00.000000000",
          "2023-03-06T00:00:00.000000000",
          "2023-03-07T00:00:00.000000000",
          "2023-03-08T00:00:00.000000000",
          "2023-03-09T00:00:00.000000000",
          "2023-03-10T00:00:00.000000000",
          "2023-03-13T00:00:00.000000000",
          "2023-03-14T00:00:00.000000000",
          "2023-03-15T00:00:00.000000000",
          "2023-03-16T00:00:00.000000000",
          "2023-03-17T00:00:00.000000000",
          "2023-03-20T00:00:00.000000000",
          "2023-03-21T00:00:00.000000000",
          "2023-03-22T00:00:00.000000000",
          "2023-03-23T00:00:00.000000000",
          "2023-03-24T00:00:00.000000000",
          "2023-03-27T00:00:00.000000000",
          "2023-03-28T00:00:00.000000000",
          "2023-03-29T00:00:00.000000000",
          "2023-03-30T00:00:00.000000000",
          "2023-03-31T00:00:00.000000000",
          "2023-04-03T00:00:00.000000000",
          "2023-04-04T00:00:00.000000000",
          "2023-04-05T00:00:00.000000000",
          "2023-04-06T00:00:00.000000000",
          "2023-04-07T00:00:00.000000000",
          "2023-04-10T00:00:00.000000000",
          "2023-04-11T00:00:00.000000000",
          "2023-04-12T00:00:00.000000000",
          "2023-04-13T00:00:00.000000000",
          "2023-04-14T00:00:00.000000000",
          "2023-04-17T00:00:00.000000000",
          "2023-04-18T00:00:00.000000000",
          "2023-04-19T00:00:00.000000000",
          "2023-04-20T00:00:00.000000000",
          "2023-04-21T00:00:00.000000000",
          "2023-04-24T00:00:00.000000000",
          "2023-04-25T00:00:00.000000000",
          "2023-04-26T00:00:00.000000000",
          "2023-04-27T00:00:00.000000000",
          "2023-04-28T00:00:00.000000000",
          "2023-05-04T00:00:00.000000000",
          "2023-05-05T00:00:00.000000000",
          "2023-05-08T00:00:00.000000000",
          "2023-05-09T00:00:00.000000000",
          "2023-05-10T00:00:00.000000000",
          "2023-05-11T00:00:00.000000000",
          "2023-05-12T00:00:00.000000000",
          "2023-05-15T00:00:00.000000000",
          "2023-05-16T00:00:00.000000000",
          "2023-05-17T00:00:00.000000000",
          "2023-05-18T00:00:00.000000000",
          "2023-05-19T00:00:00.000000000",
          "2023-05-22T00:00:00.000000000",
          "2023-05-23T00:00:00.000000000",
          "2023-05-24T00:00:00.000000000",
          "2023-05-25T00:00:00.000000000",
          "2023-05-26T00:00:00.000000000",
          "2023-05-29T00:00:00.000000000",
          "2023-05-30T00:00:00.000000000",
          "2023-05-31T00:00:00.000000000",
          "2023-06-01T00:00:00.000000000",
          "2023-06-02T00:00:00.000000000",
          "2023-06-05T00:00:00.000000000",
          "2023-06-06T00:00:00.000000000",
          "2023-06-07T00:00:00.000000000",
          "2023-06-08T00:00:00.000000000",
          "2023-06-09T00:00:00.000000000",
          "2023-06-12T00:00:00.000000000",
          "2023-06-13T00:00:00.000000000",
          "2023-06-14T00:00:00.000000000",
          "2023-06-15T00:00:00.000000000",
          "2023-06-16T00:00:00.000000000",
          "2023-06-19T00:00:00.000000000",
          "2023-06-20T00:00:00.000000000",
          "2023-06-21T00:00:00.000000000",
          "2023-06-22T00:00:00.000000000",
          "2023-06-23T00:00:00.000000000",
          "2023-06-26T00:00:00.000000000",
          "2023-06-27T00:00:00.000000000",
          "2023-06-28T00:00:00.000000000",
          "2023-06-29T00:00:00.000000000",
          "2023-06-30T00:00:00.000000000",
          "2023-07-03T00:00:00.000000000",
          "2023-07-04T00:00:00.000000000",
          "2023-07-05T00:00:00.000000000",
          "2023-07-06T00:00:00.000000000",
          "2023-07-07T00:00:00.000000000",
          "2023-07-10T00:00:00.000000000",
          "2023-07-11T00:00:00.000000000",
          "2023-07-12T00:00:00.000000000",
          "2023-07-13T00:00:00.000000000",
          "2023-07-14T00:00:00.000000000",
          "2023-07-17T00:00:00.000000000",
          "2023-07-18T00:00:00.000000000",
          "2023-07-19T00:00:00.000000000",
          "2023-07-20T00:00:00.000000000",
          "2023-07-21T00:00:00.000000000",
          "2023-07-24T00:00:00.000000000",
          "2023-07-25T00:00:00.000000000",
          "2023-07-26T00:00:00.000000000",
          "2023-07-27T00:00:00.000000000",
          "2023-07-28T00:00:00.000000000",
          "2023-07-31T00:00:00.000000000",
          "2023-08-01T00:00:00.000000000",
          "2023-08-02T00:00:00.000000000",
          "2023-08-03T00:00:00.000000000",
          "2023-08-04T00:00:00.000000000",
          "2023-08-07T00:00:00.000000000",
          "2023-08-08T00:00:00.000000000",
          "2023-08-09T00:00:00.000000000",
          "2023-08-10T00:00:00.000000000",
          "2023-08-11T00:00:00.000000000",
          "2023-08-14T00:00:00.000000000",
          "2023-08-15T00:00:00.000000000",
          "2023-08-16T00:00:00.000000000",
          "2023-08-17T00:00:00.000000000",
          "2023-08-18T00:00:00.000000000",
          "2023-08-21T00:00:00.000000000",
          "2023-08-22T00:00:00.000000000",
          "2023-08-23T00:00:00.000000000",
          "2023-08-24T00:00:00.000000000",
          "2023-08-25T00:00:00.000000000",
          "2023-08-28T00:00:00.000000000",
          "2023-08-29T00:00:00.000000000",
          "2023-08-30T00:00:00.000000000",
          "2023-08-31T00:00:00.000000000",
          "2023-09-05T00:00:00.000000000",
          "2023-09-06T00:00:00.000000000",
          "2023-09-07T00:00:00.000000000",
          "2023-09-08T00:00:00.000000000",
          "2023-09-11T00:00:00.000000000",
          "2023-09-12T00:00:00.000000000",
          "2023-09-13T00:00:00.000000000",
          "2023-09-14T00:00:00.000000000",
          "2023-09-15T00:00:00.000000000",
          "2023-09-18T00:00:00.000000000",
          "2023-09-19T00:00:00.000000000",
          "2023-09-20T00:00:00.000000000",
          "2023-09-21T00:00:00.000000000",
          "2023-09-22T00:00:00.000000000",
          "2023-09-25T00:00:00.000000000",
          "2023-09-26T00:00:00.000000000",
          "2023-09-27T00:00:00.000000000",
          "2023-09-28T00:00:00.000000000",
          "2023-09-29T00:00:00.000000000",
          "2023-10-02T00:00:00.000000000",
          "2023-10-03T00:00:00.000000000",
          "2023-10-04T00:00:00.000000000",
          "2023-10-05T00:00:00.000000000",
          "2023-10-06T00:00:00.000000000",
          "2023-10-09T00:00:00.000000000",
          "2023-10-10T00:00:00.000000000",
          "2023-10-11T00:00:00.000000000",
          "2023-10-12T00:00:00.000000000",
          "2023-10-13T00:00:00.000000000",
          "2023-10-16T00:00:00.000000000",
          "2023-10-17T00:00:00.000000000",
          "2023-10-18T00:00:00.000000000",
          "2023-10-19T00:00:00.000000000",
          "2023-10-20T00:00:00.000000000",
          "2023-10-23T00:00:00.000000000",
          "2023-10-24T00:00:00.000000000",
          "2023-10-25T00:00:00.000000000",
          "2023-10-26T00:00:00.000000000",
          "2023-10-27T00:00:00.000000000",
          "2023-10-30T00:00:00.000000000",
          "2023-10-31T00:00:00.000000000",
          "2023-11-01T00:00:00.000000000",
          "2023-11-02T00:00:00.000000000",
          "2023-11-03T00:00:00.000000000",
          "2023-11-06T00:00:00.000000000",
          "2023-11-07T00:00:00.000000000",
          "2023-11-08T00:00:00.000000000",
          "2023-11-09T00:00:00.000000000",
          "2023-11-10T00:00:00.000000000",
          "2023-11-13T00:00:00.000000000",
          "2023-11-14T00:00:00.000000000",
          "2023-11-15T00:00:00.000000000",
          "2023-11-16T00:00:00.000000000",
          "2023-11-17T00:00:00.000000000",
          "2023-11-20T00:00:00.000000000",
          "2023-11-21T00:00:00.000000000",
          "2023-11-22T00:00:00.000000000",
          "2023-11-23T00:00:00.000000000",
          "2023-11-24T00:00:00.000000000",
          "2023-11-27T00:00:00.000000000",
          "2023-11-28T00:00:00.000000000",
          "2023-11-29T00:00:00.000000000",
          "2023-11-30T00:00:00.000000000",
          "2023-12-01T00:00:00.000000000",
          "2023-12-04T00:00:00.000000000",
          "2023-12-05T00:00:00.000000000",
          "2023-12-06T00:00:00.000000000",
          "2023-12-07T00:00:00.000000000",
          "2023-12-08T00:00:00.000000000",
          "2023-12-11T00:00:00.000000000",
          "2023-12-12T00:00:00.000000000",
          "2023-12-13T00:00:00.000000000",
          "2023-12-14T00:00:00.000000000",
          "2023-12-15T00:00:00.000000000",
          "2023-12-18T00:00:00.000000000",
          "2023-12-19T00:00:00.000000000",
          "2023-12-20T00:00:00.000000000",
          "2023-12-21T00:00:00.000000000",
          "2023-12-22T00:00:00.000000000",
          "2023-12-25T00:00:00.000000000",
          "2023-12-26T00:00:00.000000000",
          "2023-12-27T00:00:00.000000000",
          "2023-12-28T00:00:00.000000000",
          "2023-12-29T00:00:00.000000000",
          "2024-01-02T00:00:00.000000000",
          "2024-01-03T00:00:00.000000000",
          "2024-01-04T00:00:00.000000000",
          "2024-01-05T00:00:00.000000000",
          "2024-01-08T00:00:00.000000000",
          "2024-01-09T00:00:00.000000000",
          "2024-01-10T00:00:00.000000000",
          "2024-01-11T00:00:00.000000000",
          "2024-01-12T00:00:00.000000000",
          "2024-01-15T00:00:00.000000000",
          "2024-01-16T00:00:00.000000000",
          "2024-01-17T00:00:00.000000000",
          "2024-01-18T00:00:00.000000000",
          "2024-01-19T00:00:00.000000000",
          "2024-01-22T00:00:00.000000000",
          "2024-01-23T00:00:00.000000000",
          "2024-01-24T00:00:00.000000000",
          "2024-01-25T00:00:00.000000000",
          "2024-01-26T00:00:00.000000000",
          "2024-01-29T00:00:00.000000000",
          "2024-01-30T00:00:00.000000000",
          "2024-01-31T00:00:00.000000000",
          "2024-02-01T00:00:00.000000000",
          "2024-02-02T00:00:00.000000000",
          "2024-02-05T00:00:00.000000000",
          "2024-02-06T00:00:00.000000000",
          "2024-02-07T00:00:00.000000000",
          "2024-02-15T00:00:00.000000000",
          "2024-02-16T00:00:00.000000000",
          "2024-02-19T00:00:00.000000000",
          "2024-02-20T00:00:00.000000000",
          "2024-02-21T00:00:00.000000000",
          "2024-02-22T00:00:00.000000000",
          "2024-02-23T00:00:00.000000000",
          "2024-02-26T00:00:00.000000000",
          "2024-02-27T00:00:00.000000000",
          "2024-02-28T00:00:00.000000000",
          "2024-02-29T00:00:00.000000000",
          "2024-03-01T00:00:00.000000000",
          "2024-03-04T00:00:00.000000000",
          "2024-03-05T00:00:00.000000000",
          "2024-03-06T00:00:00.000000000",
          "2024-03-07T00:00:00.000000000",
          "2024-03-08T00:00:00.000000000",
          "2024-03-11T00:00:00.000000000",
          "2024-03-12T00:00:00.000000000",
          "2024-03-13T00:00:00.000000000",
          "2024-03-14T00:00:00.000000000",
          "2024-03-15T00:00:00.000000000",
          "2024-03-18T00:00:00.000000000",
          "2024-03-19T00:00:00.000000000",
          "2024-03-20T00:00:00.000000000",
          "2024-03-21T00:00:00.000000000",
          "2024-03-22T00:00:00.000000000",
          "2024-03-25T00:00:00.000000000",
          "2024-03-26T00:00:00.000000000",
          "2024-03-27T00:00:00.000000000",
          "2024-03-28T00:00:00.000000000",
          "2024-03-29T00:00:00.000000000",
          "2024-04-01T00:00:00.000000000",
          "2024-04-02T00:00:00.000000000",
          "2024-04-03T00:00:00.000000000",
          "2024-04-04T00:00:00.000000000",
          "2024-04-05T00:00:00.000000000",
          "2024-04-08T00:00:00.000000000",
          "2024-04-09T00:00:00.000000000",
          "2024-04-10T00:00:00.000000000",
          "2024-04-11T00:00:00.000000000",
          "2024-04-12T00:00:00.000000000",
          "2024-04-15T00:00:00.000000000",
          "2024-04-16T00:00:00.000000000",
          "2024-04-17T00:00:00.000000000",
          "2024-04-19T00:00:00.000000000",
          "2024-04-22T00:00:00.000000000",
          "2024-04-23T00:00:00.000000000",
          "2024-04-24T00:00:00.000000000",
          "2024-04-25T00:00:00.000000000",
          "2024-04-26T00:00:00.000000000",
          "2024-05-02T00:00:00.000000000",
          "2024-05-03T00:00:00.000000000",
          "2024-05-06T00:00:00.000000000",
          "2024-05-07T00:00:00.000000000",
          "2024-05-08T00:00:00.000000000",
          "2024-05-09T00:00:00.000000000",
          "2024-05-10T00:00:00.000000000",
          "2024-05-13T00:00:00.000000000",
          "2024-05-14T00:00:00.000000000",
          "2024-05-15T00:00:00.000000000",
          "2024-05-16T00:00:00.000000000",
          "2024-05-17T00:00:00.000000000",
          "2024-05-20T00:00:00.000000000",
          "2024-05-21T00:00:00.000000000",
          "2024-05-22T00:00:00.000000000",
          "2024-05-23T00:00:00.000000000",
          "2024-05-24T00:00:00.000000000",
          "2024-05-27T00:00:00.000000000",
          "2024-05-28T00:00:00.000000000",
          "2024-05-29T00:00:00.000000000",
          "2024-05-30T00:00:00.000000000",
          "2024-05-31T00:00:00.000000000",
          "2024-06-03T00:00:00.000000000",
          "2024-06-04T00:00:00.000000000",
          "2024-06-05T00:00:00.000000000",
          "2024-06-06T00:00:00.000000000",
          "2024-06-07T00:00:00.000000000",
          "2024-06-10T00:00:00.000000000",
          "2024-06-11T00:00:00.000000000",
          "2024-06-12T00:00:00.000000000",
          "2024-06-13T00:00:00.000000000",
          "2024-06-14T00:00:00.000000000",
          "2024-06-17T00:00:00.000000000",
          "2024-06-18T00:00:00.000000000",
          "2024-06-19T00:00:00.000000000",
          "2024-06-20T00:00:00.000000000",
          "2024-06-21T00:00:00.000000000",
          "2024-06-24T00:00:00.000000000",
          "2024-06-25T00:00:00.000000000",
          "2024-06-26T00:00:00.000000000",
          "2024-06-27T00:00:00.000000000",
          "2024-06-28T00:00:00.000000000",
          "2024-07-01T00:00:00.000000000",
          "2024-07-02T00:00:00.000000000",
          "2024-07-03T00:00:00.000000000",
          "2024-07-04T00:00:00.000000000",
          "2024-07-05T00:00:00.000000000",
          "2024-07-08T00:00:00.000000000",
          "2024-07-09T00:00:00.000000000",
          "2024-07-10T00:00:00.000000000",
          "2024-07-11T00:00:00.000000000",
          "2024-07-12T00:00:00.000000000",
          "2024-07-15T00:00:00.000000000",
          "2024-07-16T00:00:00.000000000",
          "2024-07-17T00:00:00.000000000",
          "2024-07-18T00:00:00.000000000",
          "2024-07-19T00:00:00.000000000",
          "2024-07-22T00:00:00.000000000",
          "2024-07-23T00:00:00.000000000",
          "2024-07-24T00:00:00.000000000",
          "2024-07-25T00:00:00.000000000",
          "2024-07-26T00:00:00.000000000",
          "2024-07-29T00:00:00.000000000",
          "2024-07-30T00:00:00.000000000",
          "2024-07-31T00:00:00.000000000",
          "2024-08-01T00:00:00.000000000",
          "2024-08-02T00:00:00.000000000",
          "2024-08-05T00:00:00.000000000",
          "2024-08-06T00:00:00.000000000",
          "2024-08-07T00:00:00.000000000",
          "2024-08-08T00:00:00.000000000",
          "2024-08-09T00:00:00.000000000",
          "2024-08-12T00:00:00.000000000",
          "2024-08-13T00:00:00.000000000",
          "2024-08-14T00:00:00.000000000",
          "2024-08-15T00:00:00.000000000",
          "2024-08-16T00:00:00.000000000",
          "2024-08-19T00:00:00.000000000",
          "2024-08-20T00:00:00.000000000",
          "2024-08-21T00:00:00.000000000",
          "2024-08-22T00:00:00.000000000",
          "2024-08-23T00:00:00.000000000",
          "2024-08-26T00:00:00.000000000",
          "2024-08-27T00:00:00.000000000",
          "2024-08-28T00:00:00.000000000",
          "2024-08-29T00:00:00.000000000",
          "2024-08-30T00:00:00.000000000",
          "2024-09-04T00:00:00.000000000",
          "2024-09-05T00:00:00.000000000",
          "2024-09-06T00:00:00.000000000",
          "2024-09-09T00:00:00.000000000",
          "2024-09-10T00:00:00.000000000",
          "2024-09-11T00:00:00.000000000",
          "2024-09-12T00:00:00.000000000",
          "2024-09-13T00:00:00.000000000",
          "2024-09-16T00:00:00.000000000",
          "2024-09-17T00:00:00.000000000",
          "2024-09-18T00:00:00.000000000",
          "2024-09-19T00:00:00.000000000",
          "2024-09-20T00:00:00.000000000",
          "2024-09-23T00:00:00.000000000",
          "2024-09-24T00:00:00.000000000",
          "2024-09-25T00:00:00.000000000",
          "2024-09-26T00:00:00.000000000",
          "2024-09-27T00:00:00.000000000",
          "2024-09-30T00:00:00.000000000",
          "2024-10-01T00:00:00.000000000",
          "2024-10-02T00:00:00.000000000",
          "2024-10-03T00:00:00.000000000",
          "2024-10-04T00:00:00.000000000",
          "2024-10-07T00:00:00.000000000",
          "2024-10-08T00:00:00.000000000",
          "2024-10-09T00:00:00.000000000",
          "2024-10-10T00:00:00.000000000",
          "2024-10-11T00:00:00.000000000",
          "2024-10-14T00:00:00.000000000",
          "2024-10-15T00:00:00.000000000",
          "2024-10-16T00:00:00.000000000",
          "2024-10-17T00:00:00.000000000",
          "2024-10-18T00:00:00.000000000",
          "2024-10-21T00:00:00.000000000",
          "2024-10-22T00:00:00.000000000",
          "2024-10-23T00:00:00.000000000",
          "2024-10-24T00:00:00.000000000",
          "2024-10-25T00:00:00.000000000",
          "2024-10-28T00:00:00.000000000",
          "2024-10-29T00:00:00.000000000",
          "2024-10-30T00:00:00.000000000",
          "2024-10-31T00:00:00.000000000",
          "2024-11-01T00:00:00.000000000",
          "2024-11-04T00:00:00.000000000",
          "2024-11-05T00:00:00.000000000",
          "2024-11-06T00:00:00.000000000",
          "2024-11-07T00:00:00.000000000",
          "2024-11-08T00:00:00.000000000",
          "2024-11-11T00:00:00.000000000",
          "2024-11-12T00:00:00.000000000",
          "2024-11-13T00:00:00.000000000",
          "2024-11-14T00:00:00.000000000",
          "2024-11-15T00:00:00.000000000",
          "2024-11-18T00:00:00.000000000",
          "2024-11-19T00:00:00.000000000",
          "2024-11-20T00:00:00.000000000",
          "2024-11-21T00:00:00.000000000",
          "2024-11-22T00:00:00.000000000",
          "2024-11-25T00:00:00.000000000",
          "2024-11-26T00:00:00.000000000",
          "2024-11-27T00:00:00.000000000",
          "2024-11-28T00:00:00.000000000",
          "2024-11-29T00:00:00.000000000",
          "2024-12-02T00:00:00.000000000",
          "2024-12-03T00:00:00.000000000",
          "2024-12-04T00:00:00.000000000",
          "2024-12-05T00:00:00.000000000",
          "2024-12-06T00:00:00.000000000",
          "2024-12-09T00:00:00.000000000",
          "2024-12-10T00:00:00.000000000",
          "2024-12-11T00:00:00.000000000",
          "2024-12-12T00:00:00.000000000",
          "2024-12-13T00:00:00.000000000",
          "2024-12-16T00:00:00.000000000",
          "2024-12-17T00:00:00.000000000",
          "2024-12-18T00:00:00.000000000",
          "2024-12-19T00:00:00.000000000",
          "2024-12-20T00:00:00.000000000",
          "2024-12-23T00:00:00.000000000",
          "2024-12-24T00:00:00.000000000",
          "2024-12-25T00:00:00.000000000",
          "2024-12-26T00:00:00.000000000",
          "2024-12-27T00:00:00.000000000",
          "2024-12-30T00:00:00.000000000",
          "2024-12-31T00:00:00.000000000",
          "2025-01-02T00:00:00.000000000",
          "2025-01-03T00:00:00.000000000",
          "2025-01-06T00:00:00.000000000",
          "2025-01-07T00:00:00.000000000",
          "2025-01-08T00:00:00.000000000",
          "2025-01-09T00:00:00.000000000",
          "2025-01-10T00:00:00.000000000",
          "2025-01-13T00:00:00.000000000",
          "2025-01-14T00:00:00.000000000",
          "2025-01-15T00:00:00.000000000",
          "2025-01-16T00:00:00.000000000",
          "2025-01-17T00:00:00.000000000",
          "2025-01-20T00:00:00.000000000",
          "2025-01-21T00:00:00.000000000",
          "2025-01-22T00:00:00.000000000",
          "2025-01-23T00:00:00.000000000",
          "2025-01-24T00:00:00.000000000",
          "2025-02-03T00:00:00.000000000",
          "2025-02-04T00:00:00.000000000",
          "2025-02-05T00:00:00.000000000",
          "2025-02-06T00:00:00.000000000",
          "2025-02-07T00:00:00.000000000",
          "2025-02-10T00:00:00.000000000",
          "2025-02-11T00:00:00.000000000",
          "2025-02-12T00:00:00.000000000",
          "2025-02-13T00:00:00.000000000",
          "2025-02-14T00:00:00.000000000",
          "2025-02-17T00:00:00.000000000",
          "2025-02-18T00:00:00.000000000",
          "2025-02-19T00:00:00.000000000",
          "2025-02-20T00:00:00.000000000",
          "2025-02-21T00:00:00.000000000",
          "2025-02-24T00:00:00.000000000",
          "2025-02-25T00:00:00.000000000",
          "2025-02-26T00:00:00.000000000",
          "2025-02-27T00:00:00.000000000",
          "2025-02-28T00:00:00.000000000",
          "2025-03-03T00:00:00.000000000",
          "2025-03-04T00:00:00.000000000",
          "2025-03-05T00:00:00.000000000",
          "2025-03-06T00:00:00.000000000",
          "2025-03-07T00:00:00.000000000",
          "2025-03-10T00:00:00.000000000",
          "2025-03-11T00:00:00.000000000",
          "2025-03-12T00:00:00.000000000",
          "2025-03-13T00:00:00.000000000",
          "2025-03-14T00:00:00.000000000",
          "2025-03-17T00:00:00.000000000",
          "2025-03-18T00:00:00.000000000",
          "2025-03-19T00:00:00.000000000",
          "2025-03-20T00:00:00.000000000",
          "2025-03-21T00:00:00.000000000",
          "2025-03-24T00:00:00.000000000",
          "2025-03-25T00:00:00.000000000",
          "2025-03-26T00:00:00.000000000",
          "2025-03-27T00:00:00.000000000",
          "2025-03-28T00:00:00.000000000",
          "2025-03-31T00:00:00.000000000"
         ],
         "y": {
          "bdata": "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",
          "dtype": "i4"
         }
        }
       ],
       "layout": {
        "template": {
         "data": {
          "bar": [
           {
            "error_x": {
             "color": "#2a3f5f"
            },
            "error_y": {
             "color": "#2a3f5f"
            },
            "marker": {
             "line": {
              "color": "#E5ECF6",
              "width": 0.5
             },
             "pattern": {
              "fillmode": "overlay",
              "size": 10,
              "solidity": 0.2
             }
            },
            "type": "bar"
           }
          ],
          "barpolar": [
           {
            "marker": {
             "line": {
              "color": "#E5ECF6",
              "width": 0.5
             },
             "pattern": {
              "fillmode": "overlay",
              "size": 10,
              "solidity": 0.2
             }
            },
            "type": "barpolar"
           }
          ],
          "carpet": [
           {
            "aaxis": {
             "endlinecolor": "#2a3f5f",
             "gridcolor": "white",
             "linecolor": "white",
             "minorgridcolor": "white",
             "startlinecolor": "#2a3f5f"
            },
            "baxis": {
             "endlinecolor": "#2a3f5f",
             "gridcolor": "white",
             "linecolor": "white",
             "minorgridcolor": "white",
             "startlinecolor": "#2a3f5f"
            },
            "type": "carpet"
           }
          ],
          "choropleth": [
           {
            "colorbar": {
             "outlinewidth": 0,
             "ticks": ""
            },
            "type": "choropleth"
           }
          ],
          "contour": [
           {
            "colorbar": {
             "outlinewidth": 0,
             "ticks": ""
            },
            "colorscale": [
             [
              0,
              "#0d0887"
             ],
             [
              0.1111111111111111,
              "#46039f"
             ],
             [
              0.2222222222222222,
              "#7201a8"
             ],
             [
              0.3333333333333333,
              "#9c179e"
             ],
             [
              0.4444444444444444,
              "#bd3786"
             ],
             [
              0.5555555555555556,
              "#d8576b"
             ],
             [
              0.6666666666666666,
              "#ed7953"
             ],
             [
              0.7777777777777778,
              "#fb9f3a"
             ],
             [
              0.8888888888888888,
              "#fdca26"
             ],
             [
              1,
              "#f0f921"
             ]
            ],
            "type": "contour"
           }
          ],
          "contourcarpet": [
           {
            "colorbar": {
             "outlinewidth": 0,
             "ticks": ""
            },
            "type": "contourcarpet"
           }
          ],
          "heatmap": [
           {
            "colorbar": {
             "outlinewidth": 0,
             "ticks": ""
            },
            "colorscale": [
             [
              0,
              "#0d0887"
             ],
             [
              0.1111111111111111,
              "#46039f"
             ],
             [
              0.2222222222222222,
              "#7201a8"
             ],
             [
              0.3333333333333333,
              "#9c179e"
             ],
             [
              0.4444444444444444,
              "#bd3786"
             ],
             [
              0.5555555555555556,
              "#d8576b"
             ],
             [
              0.6666666666666666,
              "#ed7953"
             ],
             [
              0.7777777777777778,
              "#fb9f3a"
             ],
             [
              0.8888888888888888,
              "#fdca26"
             ],
             [
              1,
              "#f0f921"
             ]
            ],
            "type": "heatmap"
           }
          ],
          "histogram": [
           {
            "marker": {
             "pattern": {
              "fillmode": "overlay",
              "size": 10,
              "solidity": 0.2
             }
            },
            "type": "histogram"
           }
          ],
          "histogram2d": [
           {
            "colorbar": {
             "outlinewidth": 0,
             "ticks": ""
            },
            "colorscale": [
             [
              0,
              "#0d0887"
             ],
             [
              0.1111111111111111,
              "#46039f"
             ],
             [
              0.2222222222222222,
              "#7201a8"
             ],
             [
              0.3333333333333333,
              "#9c179e"
             ],
             [
              0.4444444444444444,
              "#bd3786"
             ],
             [
              0.5555555555555556,
              "#d8576b"
             ],
             [
              0.6666666666666666,
              "#ed7953"
             ],
             [
              0.7777777777777778,
              "#fb9f3a"
             ],
             [
              0.8888888888888888,
              "#fdca26"
             ],
             [
              1,
              "#f0f921"
             ]
            ],
            "type": "histogram2d"
           }
          ],
          "histogram2dcontour": [
           {
            "colorbar": {
             "outlinewidth": 0,
             "ticks": ""
            },
            "colorscale": [
             [
              0,
              "#0d0887"
             ],
             [
              0.1111111111111111,
              "#46039f"
             ],
             [
              0.2222222222222222,
              "#7201a8"
             ],
             [
              0.3333333333333333,
              "#9c179e"
             ],
             [
              0.4444444444444444,
              "#bd3786"
             ],
             [
              0.5555555555555556,
              "#d8576b"
             ],
             [
              0.6666666666666666,
              "#ed7953"
             ],
             [
              0.7777777777777778,
              "#fb9f3a"
             ],
             [
              0.8888888888888888,
              "#fdca26"
             ],
             [
              1,
              "#f0f921"
             ]
            ],
            "type": "histogram2dcontour"
           }
          ],
          "mesh3d": [
           {
            "colorbar": {
             "outlinewidth": 0,
             "ticks": ""
            },
            "type": "mesh3d"
           }
          ],
          "parcoords": [
           {
            "line": {
             "colorbar": {
              "outlinewidth": 0,
              "ticks": ""
             }
            },
            "type": "parcoords"
           }
          ],
          "pie": [
           {
            "automargin": true,
            "type": "pie"
           }
          ],
          "scatter": [
           {
            "fillpattern": {
             "fillmode": "overlay",
             "size": 10,
             "solidity": 0.2
            },
            "type": "scatter"
           }
          ],
          "scatter3d": [
           {
            "line": {
             "colorbar": {
              "outlinewidth": 0,
              "ticks": ""
             }
            },
            "marker": {
             "colorbar": {
              "outlinewidth": 0,
              "ticks": ""
             }
            },
            "type": "scatter3d"
           }
          ],
          "scattercarpet": [
           {
            "marker": {
             "colorbar": {
              "outlinewidth": 0,
              "ticks": ""
             }
            },
            "type": "scattercarpet"
           }
          ],
          "scattergeo": [
           {
            "marker": {
             "colorbar": {
              "outlinewidth": 0,
              "ticks": ""
             }
            },
            "type": "scattergeo"
           }
          ],
          "scattergl": [
           {
            "marker": {
             "colorbar": {
              "outlinewidth": 0,
              "ticks": ""
             }
            },
            "type": "scattergl"
           }
          ],
          "scattermap": [
           {
            "marker": {
             "colorbar": {
              "outlinewidth": 0,
              "ticks": ""
             }
            },
            "type": "scattermap"
           }
          ],
          "scattermapbox": [
           {
            "marker": {
             "colorbar": {
              "outlinewidth": 0,
              "ticks": ""
             }
            },
            "type": "scattermapbox"
           }
          ],
          "scatterpolar": [
           {
            "marker": {
             "colorbar": {
              "outlinewidth": 0,
              "ticks": ""
             }
            },
            "type": "scatterpolar"
           }
          ],
          "scatterpolargl": [
           {
            "marker": {
             "colorbar": {
              "outlinewidth": 0,
              "ticks": ""
             }
            },
            "type": "scatterpolargl"
           }
          ],
          "scatterternary": [
           {
            "marker": {
             "colorbar": {
              "outlinewidth": 0,
              "ticks": ""
             }
            },
            "type": "scatterternary"
           }
          ],
          "surface": [
           {
            "colorbar": {
             "outlinewidth": 0,
             "ticks": ""
            },
            "colorscale": [
             [
              0,
              "#0d0887"
             ],
             [
              0.1111111111111111,
              "#46039f"
             ],
             [
              0.2222222222222222,
              "#7201a8"
             ],
             [
              0.3333333333333333,
              "#9c179e"
             ],
             [
              0.4444444444444444,
              "#bd3786"
             ],
             [
              0.5555555555555556,
              "#d8576b"
             ],
             [
              0.6666666666666666,
              "#ed7953"
             ],
             [
              0.7777777777777778,
              "#fb9f3a"
             ],
             [
              0.8888888888888888,
              "#fdca26"
             ],
             [
              1,
              "#f0f921"
             ]
            ],
            "type": "surface"
           }
          ],
          "table": [
           {
            "cells": {
             "fill": {
              "color": "#EBF0F8"
             },
             "line": {
              "color": "white"
             }
            },
            "header": {
             "fill": {
              "color": "#C8D4E3"
             },
             "line": {
              "color": "white"
             }
            },
            "type": "table"
           }
          ]
         },
         "layout": {
          "annotationdefaults": {
           "arrowcolor": "#2a3f5f",
           "arrowhead": 0,
           "arrowwidth": 1
          },
          "autotypenumbers": "strict",
          "coloraxis": {
           "colorbar": {
            "outlinewidth": 0,
            "ticks": ""
           }
          },
          "colorscale": {
           "diverging": [
            [
             0,
             "#8e0152"
            ],
            [
             0.1,
             "#c51b7d"
            ],
            [
             0.2,
             "#de77ae"
            ],
            [
             0.3,
             "#f1b6da"
            ],
            [
             0.4,
             "#fde0ef"
            ],
            [
             0.5,
             "#f7f7f7"
            ],
            [
             0.6,
             "#e6f5d0"
            ],
            [
             0.7,
             "#b8e186"
            ],
            [
             0.8,
             "#7fbc41"
            ],
            [
             0.9,
             "#4d9221"
            ],
            [
             1,
             "#276419"
            ]
           ],
           "sequential": [
            [
             0,
             "#0d0887"
            ],
            [
             0.1111111111111111,
             "#46039f"
            ],
            [
             0.2222222222222222,
             "#7201a8"
            ],
            [
             0.3333333333333333,
             "#9c179e"
            ],
            [
             0.4444444444444444,
             "#bd3786"
            ],
            [
             0.5555555555555556,
             "#d8576b"
            ],
            [
             0.6666666666666666,
             "#ed7953"
            ],
            [
             0.7777777777777778,
             "#fb9f3a"
            ],
            [
             0.8888888888888888,
             "#fdca26"
            ],
            [
             1,
             "#f0f921"
            ]
           ],
           "sequentialminus": [
            [
             0,
             "#0d0887"
            ],
            [
             0.1111111111111111,
             "#46039f"
            ],
            [
             0.2222222222222222,
             "#7201a8"
            ],
            [
             0.3333333333333333,
             "#9c179e"
            ],
            [
             0.4444444444444444,
             "#bd3786"
            ],
            [
             0.5555555555555556,
             "#d8576b"
            ],
            [
             0.6666666666666666,
             "#ed7953"
            ],
            [
             0.7777777777777778,
             "#fb9f3a"
            ],
            [
             0.8888888888888888,
             "#fdca26"
            ],
            [
             1,
             "#f0f921"
            ]
           ]
          },
          "colorway": [
           "#636efa",
           "#EF553B",
           "#00cc96",
           "#ab63fa",
           "#FFA15A",
           "#19d3f3",
           "#FF6692",
           "#B6E880",
           "#FF97FF",
           "#FECB52"
          ],
          "font": {
           "color": "#2a3f5f"
          },
          "geo": {
           "bgcolor": "white",
           "lakecolor": "white",
           "landcolor": "#E5ECF6",
           "showlakes": true,
           "showland": true,
           "subunitcolor": "white"
          },
          "hoverlabel": {
           "align": "left"
          },
          "hovermode": "closest",
          "mapbox": {
           "style": "light"
          },
          "paper_bgcolor": "white",
          "plot_bgcolor": "#E5ECF6",
          "polar": {
           "angularaxis": {
            "gridcolor": "white",
            "linecolor": "white",
            "ticks": ""
           },
           "bgcolor": "#E5ECF6",
           "radialaxis": {
            "gridcolor": "white",
            "linecolor": "white",
            "ticks": ""
           }
          },
          "scene": {
           "xaxis": {
            "backgroundcolor": "#E5ECF6",
            "gridcolor": "white",
            "gridwidth": 2,
            "linecolor": "white",
            "showbackground": true,
            "ticks": "",
            "zerolinecolor": "white"
           },
           "yaxis": {
            "backgroundcolor": "#E5ECF6",
            "gridcolor": "white",
            "gridwidth": 2,
            "linecolor": "white",
            "showbackground": true,
            "ticks": "",
            "zerolinecolor": "white"
           },
           "zaxis": {
            "backgroundcolor": "#E5ECF6",
            "gridcolor": "white",
            "gridwidth": 2,
            "linecolor": "white",
            "showbackground": true,
            "ticks": "",
            "zerolinecolor": "white"
           }
          },
          "shapedefaults": {
           "line": {
            "color": "#2a3f5f"
           }
          },
          "ternary": {
           "aaxis": {
            "gridcolor": "white",
            "linecolor": "white",
            "ticks": ""
           },
           "baxis": {
            "gridcolor": "white",
            "linecolor": "white",
            "ticks": ""
           },
           "bgcolor": "#E5ECF6",
           "caxis": {
            "gridcolor": "white",
            "linecolor": "white",
            "ticks": ""
           }
          },
          "title": {
           "x": 0.05
          },
          "xaxis": {
           "automargin": true,
           "gridcolor": "white",
           "linecolor": "white",
           "ticks": "",
           "title": {
            "standoff": 15
           },
           "zerolinecolor": "white",
           "zerolinewidth": 2
          },
          "yaxis": {
           "automargin": true,
           "gridcolor": "white",
           "linecolor": "white",
           "ticks": "",
           "title": {
            "standoff": 15
           },
           "zerolinecolor": "white",
           "zerolinewidth": 2
          }
         }
        },
        "title": {
         "text": "Khối lượng giao dịch theo thời gian"
        },
        "xaxis": {
         "title": {
          "text": "Thời gian"
         }
        },
        "yaxis": {
         "title": {
          "text": "Khối lượng giao dịch"
         }
        }
       }
      }
     },
     "metadata": {},
     "output_type": "display_data"
    }
   ],
   "source": [
    "visualize_volume_each_bank(\"BIDV\")"
   ]
  },
  {
   "cell_type": "markdown",
   "id": "601c5cdd",
   "metadata": {},
   "source": [
    "The biểu đồ volume, ta thấy:\n",
    "  - Đầu năm 2022, volume bắt đầu giảm, sau đó đi ngang.\n",
    "  - Từ năm 2024, volume bắt đầu tăng dần."
   ]
  },
  {
   "cell_type": "markdown",
   "id": "dacb3619",
   "metadata": {},
   "source": [
    "### Techcombank"
   ]
  },
  {
   "cell_type": "code",
   "execution_count": 22,
   "id": "3ac77415",
   "metadata": {},
   "outputs": [
    {
     "data": {
      "application/vnd.plotly.v1+json": {
       "config": {
        "plotlyServerURL": "https://plot.ly"
       },
       "data": [
        {
         "close": {
          "bdata": "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",
          "dtype": "f8"
         },
         "high": {
          "bdata": "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",
          "dtype": "f8"
         },
         "low": {
          "bdata": "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",
          "dtype": "f8"
         },
         "open": {
          "bdata": "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",
          "dtype": "f8"
         },
         "type": "candlestick",
         "x": [
          "2022-01-04T00:00:00.000000000",
          "2022-01-05T00:00:00.000000000",
          "2022-01-06T00:00:00.000000000",
          "2022-01-07T00:00:00.000000000",
          "2022-01-10T00:00:00.000000000",
          "2022-01-11T00:00:00.000000000",
          "2022-01-12T00:00:00.000000000",
          "2022-01-13T00:00:00.000000000",
          "2022-01-14T00:00:00.000000000",
          "2022-01-17T00:00:00.000000000",
          "2022-01-18T00:00:00.000000000",
          "2022-01-19T00:00:00.000000000",
          "2022-01-20T00:00:00.000000000",
          "2022-01-21T00:00:00.000000000",
          "2022-01-24T00:00:00.000000000",
          "2022-01-25T00:00:00.000000000",
          "2022-01-26T00:00:00.000000000",
          "2022-01-27T00:00:00.000000000",
          "2022-01-28T00:00:00.000000000",
          "2022-02-07T00:00:00.000000000",
          "2022-02-08T00:00:00.000000000",
          "2022-02-09T00:00:00.000000000",
          "2022-02-10T00:00:00.000000000",
          "2022-02-11T00:00:00.000000000",
          "2022-02-14T00:00:00.000000000",
          "2022-02-15T00:00:00.000000000",
          "2022-02-16T00:00:00.000000000",
          "2022-02-17T00:00:00.000000000",
          "2022-02-18T00:00:00.000000000",
          "2022-02-21T00:00:00.000000000",
          "2022-02-22T00:00:00.000000000",
          "2022-02-23T00:00:00.000000000",
          "2022-02-24T00:00:00.000000000",
          "2022-02-25T00:00:00.000000000",
          "2022-02-28T00:00:00.000000000",
          "2022-03-01T00:00:00.000000000",
          "2022-03-02T00:00:00.000000000",
          "2022-03-03T00:00:00.000000000",
          "2022-03-04T00:00:00.000000000",
          "2022-03-07T00:00:00.000000000",
          "2022-03-08T00:00:00.000000000",
          "2022-03-09T00:00:00.000000000",
          "2022-03-10T00:00:00.000000000",
          "2022-03-11T00:00:00.000000000",
          "2022-03-14T00:00:00.000000000",
          "2022-03-15T00:00:00.000000000",
          "2022-03-16T00:00:00.000000000",
          "2022-03-17T00:00:00.000000000",
          "2022-03-18T00:00:00.000000000",
          "2022-03-21T00:00:00.000000000",
          "2022-03-22T00:00:00.000000000",
          "2022-03-23T00:00:00.000000000",
          "2022-03-24T00:00:00.000000000",
          "2022-03-25T00:00:00.000000000",
          "2022-03-28T00:00:00.000000000",
          "2022-03-29T00:00:00.000000000",
          "2022-03-30T00:00:00.000000000",
          "2022-03-31T00:00:00.000000000",
          "2022-04-01T00:00:00.000000000",
          "2022-04-04T00:00:00.000000000",
          "2022-04-05T00:00:00.000000000",
          "2022-04-06T00:00:00.000000000",
          "2022-04-07T00:00:00.000000000",
          "2022-04-08T00:00:00.000000000",
          "2022-04-12T00:00:00.000000000",
          "2022-04-13T00:00:00.000000000",
          "2022-04-14T00:00:00.000000000",
          "2022-04-15T00:00:00.000000000",
          "2022-04-18T00:00:00.000000000",
          "2022-04-19T00:00:00.000000000",
          "2022-04-20T00:00:00.000000000",
          "2022-04-21T00:00:00.000000000",
          "2022-04-22T00:00:00.000000000",
          "2022-04-25T00:00:00.000000000",
          "2022-04-26T00:00:00.000000000",
          "2022-04-27T00:00:00.000000000",
          "2022-04-28T00:00:00.000000000",
          "2022-04-29T00:00:00.000000000",
          "2022-05-04T00:00:00.000000000",
          "2022-05-05T00:00:00.000000000",
          "2022-05-06T00:00:00.000000000",
          "2022-05-09T00:00:00.000000000",
          "2022-05-10T00:00:00.000000000",
          "2022-05-11T00:00:00.000000000",
          "2022-05-12T00:00:00.000000000",
          "2022-05-13T00:00:00.000000000",
          "2022-05-16T00:00:00.000000000",
          "2022-05-17T00:00:00.000000000",
          "2022-05-18T00:00:00.000000000",
          "2022-05-19T00:00:00.000000000",
          "2022-05-20T00:00:00.000000000",
          "2022-05-23T00:00:00.000000000",
          "2022-05-24T00:00:00.000000000",
          "2022-05-25T00:00:00.000000000",
          "2022-05-26T00:00:00.000000000",
          "2022-05-27T00:00:00.000000000",
          "2022-05-30T00:00:00.000000000",
          "2022-05-31T00:00:00.000000000",
          "2022-06-01T00:00:00.000000000",
          "2022-06-02T00:00:00.000000000",
          "2022-06-03T00:00:00.000000000",
          "2022-06-06T00:00:00.000000000",
          "2022-06-07T00:00:00.000000000",
          "2022-06-08T00:00:00.000000000",
          "2022-06-09T00:00:00.000000000",
          "2022-06-10T00:00:00.000000000",
          "2022-06-13T00:00:00.000000000",
          "2022-06-14T00:00:00.000000000",
          "2022-06-15T00:00:00.000000000",
          "2022-06-16T00:00:00.000000000",
          "2022-06-17T00:00:00.000000000",
          "2022-06-20T00:00:00.000000000",
          "2022-06-21T00:00:00.000000000",
          "2022-06-22T00:00:00.000000000",
          "2022-06-23T00:00:00.000000000",
          "2022-06-24T00:00:00.000000000",
          "2022-06-27T00:00:00.000000000",
          "2022-06-28T00:00:00.000000000",
          "2022-06-29T00:00:00.000000000",
          "2022-06-30T00:00:00.000000000",
          "2022-07-01T00:00:00.000000000",
          "2022-07-04T00:00:00.000000000",
          "2022-07-05T00:00:00.000000000",
          "2022-07-06T00:00:00.000000000",
          "2022-07-07T00:00:00.000000000",
          "2022-07-08T00:00:00.000000000",
          "2022-07-11T00:00:00.000000000",
          "2022-07-12T00:00:00.000000000",
          "2022-07-13T00:00:00.000000000",
          "2022-07-14T00:00:00.000000000",
          "2022-07-15T00:00:00.000000000",
          "2022-07-18T00:00:00.000000000",
          "2022-07-19T00:00:00.000000000",
          "2022-07-20T00:00:00.000000000",
          "2022-07-21T00:00:00.000000000",
          "2022-07-22T00:00:00.000000000",
          "2022-07-25T00:00:00.000000000",
          "2022-07-26T00:00:00.000000000",
          "2022-07-27T00:00:00.000000000",
          "2022-07-28T00:00:00.000000000",
          "2022-07-29T00:00:00.000000000",
          "2022-08-01T00:00:00.000000000",
          "2022-08-02T00:00:00.000000000",
          "2022-08-03T00:00:00.000000000",
          "2022-08-04T00:00:00.000000000",
          "2022-08-05T00:00:00.000000000",
          "2022-08-08T00:00:00.000000000",
          "2022-08-09T00:00:00.000000000",
          "2022-08-10T00:00:00.000000000",
          "2022-08-11T00:00:00.000000000",
          "2022-08-12T00:00:00.000000000",
          "2022-08-15T00:00:00.000000000",
          "2022-08-16T00:00:00.000000000",
          "2022-08-17T00:00:00.000000000",
          "2022-08-18T00:00:00.000000000",
          "2022-08-19T00:00:00.000000000",
          "2022-08-22T00:00:00.000000000",
          "2022-08-23T00:00:00.000000000",
          "2022-08-24T00:00:00.000000000",
          "2022-08-25T00:00:00.000000000",
          "2022-08-26T00:00:00.000000000",
          "2022-08-29T00:00:00.000000000",
          "2022-08-30T00:00:00.000000000",
          "2022-08-31T00:00:00.000000000",
          "2022-09-05T00:00:00.000000000",
          "2022-09-06T00:00:00.000000000",
          "2022-09-07T00:00:00.000000000",
          "2022-09-08T00:00:00.000000000",
          "2022-09-09T00:00:00.000000000",
          "2022-09-12T00:00:00.000000000",
          "2022-09-13T00:00:00.000000000",
          "2022-09-14T00:00:00.000000000",
          "2022-09-15T00:00:00.000000000",
          "2022-09-16T00:00:00.000000000",
          "2022-09-19T00:00:00.000000000",
          "2022-09-20T00:00:00.000000000",
          "2022-09-21T00:00:00.000000000",
          "2022-09-22T00:00:00.000000000",
          "2022-09-23T00:00:00.000000000",
          "2022-09-26T00:00:00.000000000",
          "2022-09-27T00:00:00.000000000",
          "2022-09-28T00:00:00.000000000",
          "2022-09-29T00:00:00.000000000",
          "2022-09-30T00:00:00.000000000",
          "2022-10-03T00:00:00.000000000",
          "2022-10-04T00:00:00.000000000",
          "2022-10-05T00:00:00.000000000",
          "2022-10-06T00:00:00.000000000",
          "2022-10-07T00:00:00.000000000",
          "2022-10-10T00:00:00.000000000",
          "2022-10-11T00:00:00.000000000",
          "2022-10-12T00:00:00.000000000",
          "2022-10-13T00:00:00.000000000",
          "2022-10-14T00:00:00.000000000",
          "2022-10-17T00:00:00.000000000",
          "2022-10-18T00:00:00.000000000",
          "2022-10-19T00:00:00.000000000",
          "2022-10-20T00:00:00.000000000",
          "2022-10-21T00:00:00.000000000",
          "2022-10-24T00:00:00.000000000",
          "2022-10-25T00:00:00.000000000",
          "2022-10-26T00:00:00.000000000",
          "2022-10-27T00:00:00.000000000",
          "2022-10-28T00:00:00.000000000",
          "2022-10-31T00:00:00.000000000",
          "2022-11-01T00:00:00.000000000",
          "2022-11-02T00:00:00.000000000",
          "2022-11-03T00:00:00.000000000",
          "2022-11-04T00:00:00.000000000",
          "2022-11-07T00:00:00.000000000",
          "2022-11-08T00:00:00.000000000",
          "2022-11-09T00:00:00.000000000",
          "2022-11-10T00:00:00.000000000",
          "2022-11-11T00:00:00.000000000",
          "2022-11-14T00:00:00.000000000",
          "2022-11-15T00:00:00.000000000",
          "2022-11-16T00:00:00.000000000",
          "2022-11-17T00:00:00.000000000",
          "2022-11-18T00:00:00.000000000",
          "2022-11-21T00:00:00.000000000",
          "2022-11-22T00:00:00.000000000",
          "2022-11-23T00:00:00.000000000",
          "2022-11-24T00:00:00.000000000",
          "2022-11-25T00:00:00.000000000",
          "2022-11-28T00:00:00.000000000",
          "2022-11-29T00:00:00.000000000",
          "2022-11-30T00:00:00.000000000",
          "2022-12-01T00:00:00.000000000",
          "2022-12-02T00:00:00.000000000",
          "2022-12-05T00:00:00.000000000",
          "2022-12-06T00:00:00.000000000",
          "2022-12-07T00:00:00.000000000",
          "2022-12-08T00:00:00.000000000",
          "2022-12-09T00:00:00.000000000",
          "2022-12-12T00:00:00.000000000",
          "2022-12-13T00:00:00.000000000",
          "2022-12-14T00:00:00.000000000",
          "2022-12-15T00:00:00.000000000",
          "2022-12-16T00:00:00.000000000",
          "2022-12-19T00:00:00.000000000",
          "2022-12-20T00:00:00.000000000",
          "2022-12-21T00:00:00.000000000",
          "2022-12-22T00:00:00.000000000",
          "2022-12-23T00:00:00.000000000",
          "2022-12-26T00:00:00.000000000",
          "2022-12-27T00:00:00.000000000",
          "2022-12-28T00:00:00.000000000",
          "2022-12-29T00:00:00.000000000",
          "2022-12-30T00:00:00.000000000",
          "2023-01-03T00:00:00.000000000",
          "2023-01-04T00:00:00.000000000",
          "2023-01-05T00:00:00.000000000",
          "2023-01-06T00:00:00.000000000",
          "2023-01-09T00:00:00.000000000",
          "2023-01-10T00:00:00.000000000",
          "2023-01-11T00:00:00.000000000",
          "2023-01-12T00:00:00.000000000",
          "2023-01-13T00:00:00.000000000",
          "2023-01-16T00:00:00.000000000",
          "2023-01-17T00:00:00.000000000",
          "2023-01-18T00:00:00.000000000",
          "2023-01-19T00:00:00.000000000",
          "2023-01-27T00:00:00.000000000",
          "2023-01-30T00:00:00.000000000",
          "2023-01-31T00:00:00.000000000",
          "2023-02-01T00:00:00.000000000",
          "2023-02-02T00:00:00.000000000",
          "2023-02-03T00:00:00.000000000",
          "2023-02-06T00:00:00.000000000",
          "2023-02-07T00:00:00.000000000",
          "2023-02-08T00:00:00.000000000",
          "2023-02-09T00:00:00.000000000",
          "2023-02-10T00:00:00.000000000",
          "2023-02-13T00:00:00.000000000",
          "2023-02-14T00:00:00.000000000",
          "2023-02-15T00:00:00.000000000",
          "2023-02-16T00:00:00.000000000",
          "2023-02-17T00:00:00.000000000",
          "2023-02-20T00:00:00.000000000",
          "2023-02-21T00:00:00.000000000",
          "2023-02-22T00:00:00.000000000",
          "2023-02-23T00:00:00.000000000",
          "2023-02-24T00:00:00.000000000",
          "2023-02-27T00:00:00.000000000",
          "2023-02-28T00:00:00.000000000",
          "2023-03-01T00:00:00.000000000",
          "2023-03-02T00:00:00.000000000",
          "2023-03-03T00:00:00.000000000",
          "2023-03-06T00:00:00.000000000",
          "2023-03-07T00:00:00.000000000",
          "2023-03-08T00:00:00.000000000",
          "2023-03-09T00:00:00.000000000",
          "2023-03-10T00:00:00.000000000",
          "2023-03-13T00:00:00.000000000",
          "2023-03-14T00:00:00.000000000",
          "2023-03-15T00:00:00.000000000",
          "2023-03-16T00:00:00.000000000",
          "2023-03-17T00:00:00.000000000",
          "2023-03-20T00:00:00.000000000",
          "2023-03-21T00:00:00.000000000",
          "2023-03-22T00:00:00.000000000",
          "2023-03-23T00:00:00.000000000",
          "2023-03-24T00:00:00.000000000",
          "2023-03-27T00:00:00.000000000",
          "2023-03-28T00:00:00.000000000",
          "2023-03-29T00:00:00.000000000",
          "2023-03-30T00:00:00.000000000",
          "2023-03-31T00:00:00.000000000",
          "2023-04-03T00:00:00.000000000",
          "2023-04-04T00:00:00.000000000",
          "2023-04-05T00:00:00.000000000",
          "2023-04-06T00:00:00.000000000",
          "2023-04-07T00:00:00.000000000",
          "2023-04-10T00:00:00.000000000",
          "2023-04-11T00:00:00.000000000",
          "2023-04-12T00:00:00.000000000",
          "2023-04-13T00:00:00.000000000",
          "2023-04-14T00:00:00.000000000",
          "2023-04-17T00:00:00.000000000",
          "2023-04-18T00:00:00.000000000",
          "2023-04-19T00:00:00.000000000",
          "2023-04-20T00:00:00.000000000",
          "2023-04-21T00:00:00.000000000",
          "2023-04-24T00:00:00.000000000",
          "2023-04-25T00:00:00.000000000",
          "2023-04-26T00:00:00.000000000",
          "2023-04-27T00:00:00.000000000",
          "2023-04-28T00:00:00.000000000",
          "2023-05-04T00:00:00.000000000",
          "2023-05-05T00:00:00.000000000",
          "2023-05-08T00:00:00.000000000",
          "2023-05-09T00:00:00.000000000",
          "2023-05-10T00:00:00.000000000",
          "2023-05-11T00:00:00.000000000",
          "2023-05-12T00:00:00.000000000",
          "2023-05-15T00:00:00.000000000",
          "2023-05-16T00:00:00.000000000",
          "2023-05-17T00:00:00.000000000",
          "2023-05-18T00:00:00.000000000",
          "2023-05-19T00:00:00.000000000",
          "2023-05-22T00:00:00.000000000",
          "2023-05-23T00:00:00.000000000",
          "2023-05-24T00:00:00.000000000",
          "2023-05-25T00:00:00.000000000",
          "2023-05-26T00:00:00.000000000",
          "2023-05-29T00:00:00.000000000",
          "2023-05-30T00:00:00.000000000",
          "2023-05-31T00:00:00.000000000",
          "2023-06-01T00:00:00.000000000",
          "2023-06-02T00:00:00.000000000",
          "2023-06-05T00:00:00.000000000",
          "2023-06-06T00:00:00.000000000",
          "2023-06-07T00:00:00.000000000",
          "2023-06-08T00:00:00.000000000",
          "2023-06-09T00:00:00.000000000",
          "2023-06-12T00:00:00.000000000",
          "2023-06-13T00:00:00.000000000",
          "2023-06-14T00:00:00.000000000",
          "2023-06-15T00:00:00.000000000",
          "2023-06-16T00:00:00.000000000",
          "2023-06-19T00:00:00.000000000",
          "2023-06-20T00:00:00.000000000",
          "2023-06-21T00:00:00.000000000",
          "2023-06-22T00:00:00.000000000",
          "2023-06-23T00:00:00.000000000",
          "2023-06-26T00:00:00.000000000",
          "2023-06-27T00:00:00.000000000",
          "2023-06-28T00:00:00.000000000",
          "2023-06-29T00:00:00.000000000",
          "2023-06-30T00:00:00.000000000",
          "2023-07-03T00:00:00.000000000",
          "2023-07-04T00:00:00.000000000",
          "2023-07-05T00:00:00.000000000",
          "2023-07-06T00:00:00.000000000",
          "2023-07-07T00:00:00.000000000",
          "2023-07-10T00:00:00.000000000",
          "2023-07-11T00:00:00.000000000",
          "2023-07-12T00:00:00.000000000",
          "2023-07-13T00:00:00.000000000",
          "2023-07-14T00:00:00.000000000",
          "2023-07-17T00:00:00.000000000",
          "2023-07-18T00:00:00.000000000",
          "2023-07-19T00:00:00.000000000",
          "2023-07-20T00:00:00.000000000",
          "2023-07-21T00:00:00.000000000",
          "2023-07-24T00:00:00.000000000",
          "2023-07-25T00:00:00.000000000",
          "2023-07-26T00:00:00.000000000",
          "2023-07-27T00:00:00.000000000",
          "2023-07-28T00:00:00.000000000",
          "2023-07-31T00:00:00.000000000",
          "2023-08-01T00:00:00.000000000",
          "2023-08-02T00:00:00.000000000",
          "2023-08-03T00:00:00.000000000",
          "2023-08-04T00:00:00.000000000",
          "2023-08-07T00:00:00.000000000",
          "2023-08-08T00:00:00.000000000",
          "2023-08-09T00:00:00.000000000",
          "2023-08-10T00:00:00.000000000",
          "2023-08-11T00:00:00.000000000",
          "2023-08-14T00:00:00.000000000",
          "2023-08-15T00:00:00.000000000",
          "2023-08-16T00:00:00.000000000",
          "2023-08-17T00:00:00.000000000",
          "2023-08-18T00:00:00.000000000",
          "2023-08-21T00:00:00.000000000",
          "2023-08-22T00:00:00.000000000",
          "2023-08-23T00:00:00.000000000",
          "2023-08-24T00:00:00.000000000",
          "2023-08-25T00:00:00.000000000",
          "2023-08-28T00:00:00.000000000",
          "2023-08-29T00:00:00.000000000",
          "2023-08-30T00:00:00.000000000",
          "2023-08-31T00:00:00.000000000",
          "2023-09-05T00:00:00.000000000",
          "2023-09-06T00:00:00.000000000",
          "2023-09-07T00:00:00.000000000",
          "2023-09-08T00:00:00.000000000",
          "2023-09-11T00:00:00.000000000",
          "2023-09-12T00:00:00.000000000",
          "2023-09-13T00:00:00.000000000",
          "2023-09-14T00:00:00.000000000",
          "2023-09-15T00:00:00.000000000",
          "2023-09-18T00:00:00.000000000",
          "2023-09-19T00:00:00.000000000",
          "2023-09-20T00:00:00.000000000",
          "2023-09-21T00:00:00.000000000",
          "2023-09-22T00:00:00.000000000",
          "2023-09-25T00:00:00.000000000",
          "2023-09-26T00:00:00.000000000",
          "2023-09-27T00:00:00.000000000",
          "2023-09-28T00:00:00.000000000",
          "2023-09-29T00:00:00.000000000",
          "2023-10-02T00:00:00.000000000",
          "2023-10-03T00:00:00.000000000",
          "2023-10-04T00:00:00.000000000",
          "2023-10-05T00:00:00.000000000",
          "2023-10-06T00:00:00.000000000",
          "2023-10-09T00:00:00.000000000",
          "2023-10-10T00:00:00.000000000",
          "2023-10-11T00:00:00.000000000",
          "2023-10-12T00:00:00.000000000",
          "2023-10-13T00:00:00.000000000",
          "2023-10-16T00:00:00.000000000",
          "2023-10-17T00:00:00.000000000",
          "2023-10-18T00:00:00.000000000",
          "2023-10-19T00:00:00.000000000",
          "2023-10-20T00:00:00.000000000",
          "2023-10-23T00:00:00.000000000",
          "2023-10-24T00:00:00.000000000",
          "2023-10-25T00:00:00.000000000",
          "2023-10-26T00:00:00.000000000",
          "2023-10-27T00:00:00.000000000",
          "2023-10-30T00:00:00.000000000",
          "2023-10-31T00:00:00.000000000",
          "2023-11-01T00:00:00.000000000",
          "2023-11-02T00:00:00.000000000",
          "2023-11-03T00:00:00.000000000",
          "2023-11-06T00:00:00.000000000",
          "2023-11-07T00:00:00.000000000",
          "2023-11-08T00:00:00.000000000",
          "2023-11-09T00:00:00.000000000",
          "2023-11-10T00:00:00.000000000",
          "2023-11-13T00:00:00.000000000",
          "2023-11-14T00:00:00.000000000",
          "2023-11-15T00:00:00.000000000",
          "2023-11-16T00:00:00.000000000",
          "2023-11-17T00:00:00.000000000",
          "2023-11-20T00:00:00.000000000",
          "2023-11-21T00:00:00.000000000",
          "2023-11-22T00:00:00.000000000",
          "2023-11-23T00:00:00.000000000",
          "2023-11-24T00:00:00.000000000",
          "2023-11-27T00:00:00.000000000",
          "2023-11-28T00:00:00.000000000",
          "2023-11-29T00:00:00.000000000",
          "2023-11-30T00:00:00.000000000",
          "2023-12-01T00:00:00.000000000",
          "2023-12-04T00:00:00.000000000",
          "2023-12-05T00:00:00.000000000",
          "2023-12-06T00:00:00.000000000",
          "2023-12-07T00:00:00.000000000",
          "2023-12-08T00:00:00.000000000",
          "2023-12-11T00:00:00.000000000",
          "2023-12-12T00:00:00.000000000",
          "2023-12-13T00:00:00.000000000",
          "2023-12-14T00:00:00.000000000",
          "2023-12-15T00:00:00.000000000",
          "2023-12-18T00:00:00.000000000",
          "2023-12-19T00:00:00.000000000",
          "2023-12-20T00:00:00.000000000",
          "2023-12-21T00:00:00.000000000",
          "2023-12-22T00:00:00.000000000",
          "2023-12-25T00:00:00.000000000",
          "2023-12-26T00:00:00.000000000",
          "2023-12-27T00:00:00.000000000",
          "2023-12-28T00:00:00.000000000",
          "2023-12-29T00:00:00.000000000",
          "2024-01-02T00:00:00.000000000",
          "2024-01-03T00:00:00.000000000",
          "2024-01-04T00:00:00.000000000",
          "2024-01-05T00:00:00.000000000",
          "2024-01-08T00:00:00.000000000",
          "2024-01-09T00:00:00.000000000",
          "2024-01-10T00:00:00.000000000",
          "2024-01-11T00:00:00.000000000",
          "2024-01-12T00:00:00.000000000",
          "2024-01-15T00:00:00.000000000",
          "2024-01-16T00:00:00.000000000",
          "2024-01-17T00:00:00.000000000",
          "2024-01-18T00:00:00.000000000",
          "2024-01-19T00:00:00.000000000",
          "2024-01-22T00:00:00.000000000",
          "2024-01-23T00:00:00.000000000",
          "2024-01-24T00:00:00.000000000",
          "2024-01-25T00:00:00.000000000",
          "2024-01-26T00:00:00.000000000",
          "2024-01-29T00:00:00.000000000",
          "2024-01-30T00:00:00.000000000",
          "2024-01-31T00:00:00.000000000",
          "2024-02-01T00:00:00.000000000",
          "2024-02-02T00:00:00.000000000",
          "2024-02-05T00:00:00.000000000",
          "2024-02-06T00:00:00.000000000",
          "2024-02-07T00:00:00.000000000",
          "2024-02-15T00:00:00.000000000",
          "2024-02-16T00:00:00.000000000",
          "2024-02-19T00:00:00.000000000",
          "2024-02-20T00:00:00.000000000",
          "2024-02-21T00:00:00.000000000",
          "2024-02-22T00:00:00.000000000",
          "2024-02-23T00:00:00.000000000",
          "2024-02-26T00:00:00.000000000",
          "2024-02-27T00:00:00.000000000",
          "2024-02-28T00:00:00.000000000",
          "2024-02-29T00:00:00.000000000",
          "2024-03-01T00:00:00.000000000",
          "2024-03-04T00:00:00.000000000",
          "2024-03-05T00:00:00.000000000",
          "2024-03-06T00:00:00.000000000",
          "2024-03-07T00:00:00.000000000",
          "2024-03-08T00:00:00.000000000",
          "2024-03-11T00:00:00.000000000",
          "2024-03-12T00:00:00.000000000",
          "2024-03-13T00:00:00.000000000",
          "2024-03-14T00:00:00.000000000",
          "2024-03-15T00:00:00.000000000",
          "2024-03-18T00:00:00.000000000",
          "2024-03-19T00:00:00.000000000",
          "2024-03-20T00:00:00.000000000",
          "2024-03-21T00:00:00.000000000",
          "2024-03-22T00:00:00.000000000",
          "2024-03-25T00:00:00.000000000",
          "2024-03-26T00:00:00.000000000",
          "2024-03-27T00:00:00.000000000",
          "2024-03-28T00:00:00.000000000",
          "2024-03-29T00:00:00.000000000",
          "2024-04-01T00:00:00.000000000",
          "2024-04-02T00:00:00.000000000",
          "2024-04-03T00:00:00.000000000",
          "2024-04-04T00:00:00.000000000",
          "2024-04-05T00:00:00.000000000",
          "2024-04-08T00:00:00.000000000",
          "2024-04-09T00:00:00.000000000",
          "2024-04-10T00:00:00.000000000",
          "2024-04-11T00:00:00.000000000",
          "2024-04-12T00:00:00.000000000",
          "2024-04-15T00:00:00.000000000",
          "2024-04-16T00:00:00.000000000",
          "2024-04-17T00:00:00.000000000",
          "2024-04-19T00:00:00.000000000",
          "2024-04-22T00:00:00.000000000",
          "2024-04-23T00:00:00.000000000",
          "2024-04-24T00:00:00.000000000",
          "2024-04-25T00:00:00.000000000",
          "2024-04-26T00:00:00.000000000",
          "2024-05-02T00:00:00.000000000",
          "2024-05-03T00:00:00.000000000",
          "2024-05-06T00:00:00.000000000",
          "2024-05-07T00:00:00.000000000",
          "2024-05-08T00:00:00.000000000",
          "2024-05-09T00:00:00.000000000",
          "2024-05-10T00:00:00.000000000",
          "2024-05-13T00:00:00.000000000",
          "2024-05-14T00:00:00.000000000",
          "2024-05-15T00:00:00.000000000",
          "2024-05-16T00:00:00.000000000",
          "2024-05-17T00:00:00.000000000",
          "2024-05-20T00:00:00.000000000",
          "2024-05-21T00:00:00.000000000",
          "2024-05-22T00:00:00.000000000",
          "2024-05-23T00:00:00.000000000",
          "2024-05-24T00:00:00.000000000",
          "2024-05-27T00:00:00.000000000",
          "2024-05-28T00:00:00.000000000",
          "2024-05-29T00:00:00.000000000",
          "2024-05-30T00:00:00.000000000",
          "2024-05-31T00:00:00.000000000",
          "2024-06-03T00:00:00.000000000",
          "2024-06-04T00:00:00.000000000",
          "2024-06-05T00:00:00.000000000",
          "2024-06-06T00:00:00.000000000",
          "2024-06-07T00:00:00.000000000",
          "2024-06-10T00:00:00.000000000",
          "2024-06-11T00:00:00.000000000",
          "2024-06-12T00:00:00.000000000",
          "2024-06-13T00:00:00.000000000",
          "2024-06-14T00:00:00.000000000",
          "2024-06-17T00:00:00.000000000",
          "2024-06-18T00:00:00.000000000",
          "2024-06-19T00:00:00.000000000",
          "2024-06-20T00:00:00.000000000",
          "2024-06-21T00:00:00.000000000",
          "2024-06-24T00:00:00.000000000",
          "2024-06-25T00:00:00.000000000",
          "2024-06-26T00:00:00.000000000",
          "2024-06-27T00:00:00.000000000",
          "2024-06-28T00:00:00.000000000",
          "2024-07-01T00:00:00.000000000",
          "2024-07-02T00:00:00.000000000",
          "2024-07-03T00:00:00.000000000",
          "2024-07-04T00:00:00.000000000",
          "2024-07-05T00:00:00.000000000",
          "2024-07-08T00:00:00.000000000",
          "2024-07-09T00:00:00.000000000",
          "2024-07-10T00:00:00.000000000",
          "2024-07-11T00:00:00.000000000",
          "2024-07-12T00:00:00.000000000",
          "2024-07-15T00:00:00.000000000",
          "2024-07-16T00:00:00.000000000",
          "2024-07-17T00:00:00.000000000",
          "2024-07-18T00:00:00.000000000",
          "2024-07-19T00:00:00.000000000",
          "2024-07-22T00:00:00.000000000",
          "2024-07-23T00:00:00.000000000",
          "2024-07-24T00:00:00.000000000",
          "2024-07-25T00:00:00.000000000",
          "2024-07-26T00:00:00.000000000",
          "2024-07-29T00:00:00.000000000",
          "2024-07-30T00:00:00.000000000",
          "2024-07-31T00:00:00.000000000",
          "2024-08-01T00:00:00.000000000",
          "2024-08-02T00:00:00.000000000",
          "2024-08-05T00:00:00.000000000",
          "2024-08-06T00:00:00.000000000",
          "2024-08-07T00:00:00.000000000",
          "2024-08-08T00:00:00.000000000",
          "2024-08-09T00:00:00.000000000",
          "2024-08-12T00:00:00.000000000",
          "2024-08-13T00:00:00.000000000",
          "2024-08-14T00:00:00.000000000",
          "2024-08-15T00:00:00.000000000",
          "2024-08-16T00:00:00.000000000",
          "2024-08-19T00:00:00.000000000",
          "2024-08-20T00:00:00.000000000",
          "2024-08-21T00:00:00.000000000",
          "2024-08-22T00:00:00.000000000",
          "2024-08-23T00:00:00.000000000",
          "2024-08-26T00:00:00.000000000",
          "2024-08-27T00:00:00.000000000",
          "2024-08-28T00:00:00.000000000",
          "2024-08-29T00:00:00.000000000",
          "2024-08-30T00:00:00.000000000",
          "2024-09-04T00:00:00.000000000",
          "2024-09-05T00:00:00.000000000",
          "2024-09-06T00:00:00.000000000",
          "2024-09-09T00:00:00.000000000",
          "2024-09-10T00:00:00.000000000",
          "2024-09-11T00:00:00.000000000",
          "2024-09-12T00:00:00.000000000",
          "2024-09-13T00:00:00.000000000",
          "2024-09-16T00:00:00.000000000",
          "2024-09-17T00:00:00.000000000",
          "2024-09-18T00:00:00.000000000",
          "2024-09-19T00:00:00.000000000",
          "2024-09-20T00:00:00.000000000",
          "2024-09-23T00:00:00.000000000",
          "2024-09-24T00:00:00.000000000",
          "2024-09-25T00:00:00.000000000",
          "2024-09-26T00:00:00.000000000",
          "2024-09-27T00:00:00.000000000",
          "2024-09-30T00:00:00.000000000",
          "2024-10-01T00:00:00.000000000",
          "2024-10-02T00:00:00.000000000",
          "2024-10-03T00:00:00.000000000",
          "2024-10-04T00:00:00.000000000",
          "2024-10-07T00:00:00.000000000",
          "2024-10-08T00:00:00.000000000",
          "2024-10-09T00:00:00.000000000",
          "2024-10-10T00:00:00.000000000",
          "2024-10-11T00:00:00.000000000",
          "2024-10-14T00:00:00.000000000",
          "2024-10-15T00:00:00.000000000",
          "2024-10-16T00:00:00.000000000",
          "2024-10-17T00:00:00.000000000",
          "2024-10-18T00:00:00.000000000",
          "2024-10-21T00:00:00.000000000",
          "2024-10-22T00:00:00.000000000",
          "2024-10-23T00:00:00.000000000",
          "2024-10-24T00:00:00.000000000",
          "2024-10-25T00:00:00.000000000",
          "2024-10-28T00:00:00.000000000",
          "2024-10-29T00:00:00.000000000",
          "2024-10-30T00:00:00.000000000",
          "2024-10-31T00:00:00.000000000",
          "2024-11-01T00:00:00.000000000",
          "2024-11-04T00:00:00.000000000",
          "2024-11-05T00:00:00.000000000",
          "2024-11-06T00:00:00.000000000",
          "2024-11-07T00:00:00.000000000",
          "2024-11-08T00:00:00.000000000",
          "2024-11-11T00:00:00.000000000",
          "2024-11-12T00:00:00.000000000",
          "2024-11-13T00:00:00.000000000",
          "2024-11-14T00:00:00.000000000",
          "2024-11-15T00:00:00.000000000",
          "2024-11-18T00:00:00.000000000",
          "2024-11-19T00:00:00.000000000",
          "2024-11-20T00:00:00.000000000",
          "2024-11-21T00:00:00.000000000",
          "2024-11-22T00:00:00.000000000",
          "2024-11-25T00:00:00.000000000",
          "2024-11-26T00:00:00.000000000",
          "2024-11-27T00:00:00.000000000",
          "2024-11-28T00:00:00.000000000",
          "2024-11-29T00:00:00.000000000",
          "2024-12-02T00:00:00.000000000",
          "2024-12-03T00:00:00.000000000",
          "2024-12-04T00:00:00.000000000",
          "2024-12-05T00:00:00.000000000",
          "2024-12-06T00:00:00.000000000",
          "2024-12-09T00:00:00.000000000",
          "2024-12-10T00:00:00.000000000",
          "2024-12-11T00:00:00.000000000",
          "2024-12-12T00:00:00.000000000",
          "2024-12-13T00:00:00.000000000",
          "2024-12-16T00:00:00.000000000",
          "2024-12-17T00:00:00.000000000",
          "2024-12-18T00:00:00.000000000",
          "2024-12-19T00:00:00.000000000",
          "2024-12-20T00:00:00.000000000",
          "2024-12-23T00:00:00.000000000",
          "2024-12-24T00:00:00.000000000",
          "2024-12-25T00:00:00.000000000",
          "2024-12-26T00:00:00.000000000",
          "2024-12-27T00:00:00.000000000",
          "2024-12-30T00:00:00.000000000",
          "2024-12-31T00:00:00.000000000",
          "2025-01-02T00:00:00.000000000",
          "2025-01-03T00:00:00.000000000",
          "2025-01-06T00:00:00.000000000",
          "2025-01-07T00:00:00.000000000",
          "2025-01-08T00:00:00.000000000",
          "2025-01-09T00:00:00.000000000",
          "2025-01-10T00:00:00.000000000",
          "2025-01-13T00:00:00.000000000",
          "2025-01-14T00:00:00.000000000",
          "2025-01-15T00:00:00.000000000",
          "2025-01-16T00:00:00.000000000",
          "2025-01-17T00:00:00.000000000",
          "2025-01-20T00:00:00.000000000",
          "2025-01-21T00:00:00.000000000",
          "2025-01-22T00:00:00.000000000",
          "2025-01-23T00:00:00.000000000",
          "2025-01-24T00:00:00.000000000",
          "2025-02-03T00:00:00.000000000",
          "2025-02-04T00:00:00.000000000",
          "2025-02-05T00:00:00.000000000",
          "2025-02-06T00:00:00.000000000",
          "2025-02-07T00:00:00.000000000",
          "2025-02-10T00:00:00.000000000",
          "2025-02-11T00:00:00.000000000",
          "2025-02-12T00:00:00.000000000",
          "2025-02-13T00:00:00.000000000",
          "2025-02-14T00:00:00.000000000",
          "2025-02-17T00:00:00.000000000",
          "2025-02-18T00:00:00.000000000",
          "2025-02-19T00:00:00.000000000",
          "2025-02-20T00:00:00.000000000",
          "2025-02-21T00:00:00.000000000",
          "2025-02-24T00:00:00.000000000",
          "2025-02-25T00:00:00.000000000",
          "2025-02-26T00:00:00.000000000",
          "2025-02-27T00:00:00.000000000",
          "2025-02-28T00:00:00.000000000",
          "2025-03-03T00:00:00.000000000",
          "2025-03-04T00:00:00.000000000",
          "2025-03-05T00:00:00.000000000",
          "2025-03-06T00:00:00.000000000",
          "2025-03-07T00:00:00.000000000",
          "2025-03-10T00:00:00.000000000",
          "2025-03-11T00:00:00.000000000",
          "2025-03-12T00:00:00.000000000",
          "2025-03-13T00:00:00.000000000",
          "2025-03-14T00:00:00.000000000",
          "2025-03-17T00:00:00.000000000",
          "2025-03-18T00:00:00.000000000",
          "2025-03-19T00:00:00.000000000",
          "2025-03-20T00:00:00.000000000",
          "2025-03-21T00:00:00.000000000",
          "2025-03-24T00:00:00.000000000",
          "2025-03-25T00:00:00.000000000",
          "2025-03-26T00:00:00.000000000",
          "2025-03-27T00:00:00.000000000",
          "2025-03-28T00:00:00.000000000",
          "2025-03-31T00:00:00.000000000"
         ]
        }
       ],
       "layout": {
        "template": {
         "data": {
          "bar": [
           {
            "error_x": {
             "color": "#2a3f5f"
            },
            "error_y": {
             "color": "#2a3f5f"
            },
            "marker": {
             "line": {
              "color": "#E5ECF6",
              "width": 0.5
             },
             "pattern": {
              "fillmode": "overlay",
              "size": 10,
              "solidity": 0.2
             }
            },
            "type": "bar"
           }
          ],
          "barpolar": [
           {
            "marker": {
             "line": {
              "color": "#E5ECF6",
              "width": 0.5
             },
             "pattern": {
              "fillmode": "overlay",
              "size": 10,
              "solidity": 0.2
             }
            },
            "type": "barpolar"
           }
          ],
          "carpet": [
           {
            "aaxis": {
             "endlinecolor": "#2a3f5f",
             "gridcolor": "white",
             "linecolor": "white",
             "minorgridcolor": "white",
             "startlinecolor": "#2a3f5f"
            },
            "baxis": {
             "endlinecolor": "#2a3f5f",
             "gridcolor": "white",
             "linecolor": "white",
             "minorgridcolor": "white",
             "startlinecolor": "#2a3f5f"
            },
            "type": "carpet"
           }
          ],
          "choropleth": [
           {
            "colorbar": {
             "outlinewidth": 0,
             "ticks": ""
            },
            "type": "choropleth"
           }
          ],
          "contour": [
           {
            "colorbar": {
             "outlinewidth": 0,
             "ticks": ""
            },
            "colorscale": [
             [
              0,
              "#0d0887"
             ],
             [
              0.1111111111111111,
              "#46039f"
             ],
             [
              0.2222222222222222,
              "#7201a8"
             ],
             [
              0.3333333333333333,
              "#9c179e"
             ],
             [
              0.4444444444444444,
              "#bd3786"
             ],
             [
              0.5555555555555556,
              "#d8576b"
             ],
             [
              0.6666666666666666,
              "#ed7953"
             ],
             [
              0.7777777777777778,
              "#fb9f3a"
             ],
             [
              0.8888888888888888,
              "#fdca26"
             ],
             [
              1,
              "#f0f921"
             ]
            ],
            "type": "contour"
           }
          ],
          "contourcarpet": [
           {
            "colorbar": {
             "outlinewidth": 0,
             "ticks": ""
            },
            "type": "contourcarpet"
           }
          ],
          "heatmap": [
           {
            "colorbar": {
             "outlinewidth": 0,
             "ticks": ""
            },
            "colorscale": [
             [
              0,
              "#0d0887"
             ],
             [
              0.1111111111111111,
              "#46039f"
             ],
             [
              0.2222222222222222,
              "#7201a8"
             ],
             [
              0.3333333333333333,
              "#9c179e"
             ],
             [
              0.4444444444444444,
              "#bd3786"
             ],
             [
              0.5555555555555556,
              "#d8576b"
             ],
             [
              0.6666666666666666,
              "#ed7953"
             ],
             [
              0.7777777777777778,
              "#fb9f3a"
             ],
             [
              0.8888888888888888,
              "#fdca26"
             ],
             [
              1,
              "#f0f921"
             ]
            ],
            "type": "heatmap"
           }
          ],
          "histogram": [
           {
            "marker": {
             "pattern": {
              "fillmode": "overlay",
              "size": 10,
              "solidity": 0.2
             }
            },
            "type": "histogram"
           }
          ],
          "histogram2d": [
           {
            "colorbar": {
             "outlinewidth": 0,
             "ticks": ""
            },
            "colorscale": [
             [
              0,
              "#0d0887"
             ],
             [
              0.1111111111111111,
              "#46039f"
             ],
             [
              0.2222222222222222,
              "#7201a8"
             ],
             [
              0.3333333333333333,
              "#9c179e"
             ],
             [
              0.4444444444444444,
              "#bd3786"
             ],
             [
              0.5555555555555556,
              "#d8576b"
             ],
             [
              0.6666666666666666,
              "#ed7953"
             ],
             [
              0.7777777777777778,
              "#fb9f3a"
             ],
             [
              0.8888888888888888,
              "#fdca26"
             ],
             [
              1,
              "#f0f921"
             ]
            ],
            "type": "histogram2d"
           }
          ],
          "histogram2dcontour": [
           {
            "colorbar": {
             "outlinewidth": 0,
             "ticks": ""
            },
            "colorscale": [
             [
              0,
              "#0d0887"
             ],
             [
              0.1111111111111111,
              "#46039f"
             ],
             [
              0.2222222222222222,
              "#7201a8"
             ],
             [
              0.3333333333333333,
              "#9c179e"
             ],
             [
              0.4444444444444444,
              "#bd3786"
             ],
             [
              0.5555555555555556,
              "#d8576b"
             ],
             [
              0.6666666666666666,
              "#ed7953"
             ],
             [
              0.7777777777777778,
              "#fb9f3a"
             ],
             [
              0.8888888888888888,
              "#fdca26"
             ],
             [
              1,
              "#f0f921"
             ]
            ],
            "type": "histogram2dcontour"
           }
          ],
          "mesh3d": [
           {
            "colorbar": {
             "outlinewidth": 0,
             "ticks": ""
            },
            "type": "mesh3d"
           }
          ],
          "parcoords": [
           {
            "line": {
             "colorbar": {
              "outlinewidth": 0,
              "ticks": ""
             }
            },
            "type": "parcoords"
           }
          ],
          "pie": [
           {
            "automargin": true,
            "type": "pie"
           }
          ],
          "scatter": [
           {
            "fillpattern": {
             "fillmode": "overlay",
             "size": 10,
             "solidity": 0.2
            },
            "type": "scatter"
           }
          ],
          "scatter3d": [
           {
            "line": {
             "colorbar": {
              "outlinewidth": 0,
              "ticks": ""
             }
            },
            "marker": {
             "colorbar": {
              "outlinewidth": 0,
              "ticks": ""
             }
            },
            "type": "scatter3d"
           }
          ],
          "scattercarpet": [
           {
            "marker": {
             "colorbar": {
              "outlinewidth": 0,
              "ticks": ""
             }
            },
            "type": "scattercarpet"
           }
          ],
          "scattergeo": [
           {
            "marker": {
             "colorbar": {
              "outlinewidth": 0,
              "ticks": ""
             }
            },
            "type": "scattergeo"
           }
          ],
          "scattergl": [
           {
            "marker": {
             "colorbar": {
              "outlinewidth": 0,
              "ticks": ""
             }
            },
            "type": "scattergl"
           }
          ],
          "scattermap": [
           {
            "marker": {
             "colorbar": {
              "outlinewidth": 0,
              "ticks": ""
             }
            },
            "type": "scattermap"
           }
          ],
          "scattermapbox": [
           {
            "marker": {
             "colorbar": {
              "outlinewidth": 0,
              "ticks": ""
             }
            },
            "type": "scattermapbox"
           }
          ],
          "scatterpolar": [
           {
            "marker": {
             "colorbar": {
              "outlinewidth": 0,
              "ticks": ""
             }
            },
            "type": "scatterpolar"
           }
          ],
          "scatterpolargl": [
           {
            "marker": {
             "colorbar": {
              "outlinewidth": 0,
              "ticks": ""
             }
            },
            "type": "scatterpolargl"
           }
          ],
          "scatterternary": [
           {
            "marker": {
             "colorbar": {
              "outlinewidth": 0,
              "ticks": ""
             }
            },
            "type": "scatterternary"
           }
          ],
          "surface": [
           {
            "colorbar": {
             "outlinewidth": 0,
             "ticks": ""
            },
            "colorscale": [
             [
              0,
              "#0d0887"
             ],
             [
              0.1111111111111111,
              "#46039f"
             ],
             [
              0.2222222222222222,
              "#7201a8"
             ],
             [
              0.3333333333333333,
              "#9c179e"
             ],
             [
              0.4444444444444444,
              "#bd3786"
             ],
             [
              0.5555555555555556,
              "#d8576b"
             ],
             [
              0.6666666666666666,
              "#ed7953"
             ],
             [
              0.7777777777777778,
              "#fb9f3a"
             ],
             [
              0.8888888888888888,
              "#fdca26"
             ],
             [
              1,
              "#f0f921"
             ]
            ],
            "type": "surface"
           }
          ],
          "table": [
           {
            "cells": {
             "fill": {
              "color": "#EBF0F8"
             },
             "line": {
              "color": "white"
             }
            },
            "header": {
             "fill": {
              "color": "#C8D4E3"
             },
             "line": {
              "color": "white"
             }
            },
            "type": "table"
           }
          ]
         },
         "layout": {
          "annotationdefaults": {
           "arrowcolor": "#2a3f5f",
           "arrowhead": 0,
           "arrowwidth": 1
          },
          "autotypenumbers": "strict",
          "coloraxis": {
           "colorbar": {
            "outlinewidth": 0,
            "ticks": ""
           }
          },
          "colorscale": {
           "diverging": [
            [
             0,
             "#8e0152"
            ],
            [
             0.1,
             "#c51b7d"
            ],
            [
             0.2,
             "#de77ae"
            ],
            [
             0.3,
             "#f1b6da"
            ],
            [
             0.4,
             "#fde0ef"
            ],
            [
             0.5,
             "#f7f7f7"
            ],
            [
             0.6,
             "#e6f5d0"
            ],
            [
             0.7,
             "#b8e186"
            ],
            [
             0.8,
             "#7fbc41"
            ],
            [
             0.9,
             "#4d9221"
            ],
            [
             1,
             "#276419"
            ]
           ],
           "sequential": [
            [
             0,
             "#0d0887"
            ],
            [
             0.1111111111111111,
             "#46039f"
            ],
            [
             0.2222222222222222,
             "#7201a8"
            ],
            [
             0.3333333333333333,
             "#9c179e"
            ],
            [
             0.4444444444444444,
             "#bd3786"
            ],
            [
             0.5555555555555556,
             "#d8576b"
            ],
            [
             0.6666666666666666,
             "#ed7953"
            ],
            [
             0.7777777777777778,
             "#fb9f3a"
            ],
            [
             0.8888888888888888,
             "#fdca26"
            ],
            [
             1,
             "#f0f921"
            ]
           ],
           "sequentialminus": [
            [
             0,
             "#0d0887"
            ],
            [
             0.1111111111111111,
             "#46039f"
            ],
            [
             0.2222222222222222,
             "#7201a8"
            ],
            [
             0.3333333333333333,
             "#9c179e"
            ],
            [
             0.4444444444444444,
             "#bd3786"
            ],
            [
             0.5555555555555556,
             "#d8576b"
            ],
            [
             0.6666666666666666,
             "#ed7953"
            ],
            [
             0.7777777777777778,
             "#fb9f3a"
            ],
            [
             0.8888888888888888,
             "#fdca26"
            ],
            [
             1,
             "#f0f921"
            ]
           ]
          },
          "colorway": [
           "#636efa",
           "#EF553B",
           "#00cc96",
           "#ab63fa",
           "#FFA15A",
           "#19d3f3",
           "#FF6692",
           "#B6E880",
           "#FF97FF",
           "#FECB52"
          ],
          "font": {
           "color": "#2a3f5f"
          },
          "geo": {
           "bgcolor": "white",
           "lakecolor": "white",
           "landcolor": "#E5ECF6",
           "showlakes": true,
           "showland": true,
           "subunitcolor": "white"
          },
          "hoverlabel": {
           "align": "left"
          },
          "hovermode": "closest",
          "mapbox": {
           "style": "light"
          },
          "paper_bgcolor": "white",
          "plot_bgcolor": "#E5ECF6",
          "polar": {
           "angularaxis": {
            "gridcolor": "white",
            "linecolor": "white",
            "ticks": ""
           },
           "bgcolor": "#E5ECF6",
           "radialaxis": {
            "gridcolor": "white",
            "linecolor": "white",
            "ticks": ""
           }
          },
          "scene": {
           "xaxis": {
            "backgroundcolor": "#E5ECF6",
            "gridcolor": "white",
            "gridwidth": 2,
            "linecolor": "white",
            "showbackground": true,
            "ticks": "",
            "zerolinecolor": "white"
           },
           "yaxis": {
            "backgroundcolor": "#E5ECF6",
            "gridcolor": "white",
            "gridwidth": 2,
            "linecolor": "white",
            "showbackground": true,
            "ticks": "",
            "zerolinecolor": "white"
           },
           "zaxis": {
            "backgroundcolor": "#E5ECF6",
            "gridcolor": "white",
            "gridwidth": 2,
            "linecolor": "white",
            "showbackground": true,
            "ticks": "",
            "zerolinecolor": "white"
           }
          },
          "shapedefaults": {
           "line": {
            "color": "#2a3f5f"
           }
          },
          "ternary": {
           "aaxis": {
            "gridcolor": "white",
            "linecolor": "white",
            "ticks": ""
           },
           "baxis": {
            "gridcolor": "white",
            "linecolor": "white",
            "ticks": ""
           },
           "bgcolor": "#E5ECF6",
           "caxis": {
            "gridcolor": "white",
            "linecolor": "white",
            "ticks": ""
           }
          },
          "title": {
           "x": 0.05
          },
          "xaxis": {
           "automargin": true,
           "gridcolor": "white",
           "linecolor": "white",
           "ticks": "",
           "title": {
            "standoff": 15
           },
           "zerolinecolor": "white",
           "zerolinewidth": 2
          },
          "yaxis": {
           "automargin": true,
           "gridcolor": "white",
           "linecolor": "white",
           "ticks": "",
           "title": {
            "standoff": 15
           },
           "zerolinecolor": "white",
           "zerolinewidth": 2
          }
         }
        }
       }
      }
     },
     "metadata": {},
     "output_type": "display_data"
    }
   ],
   "source": [
    "visualize_trade_each_bank(\"Techcombank\")"
   ]
  },
  {
   "cell_type": "markdown",
   "id": "860633ad",
   "metadata": {},
   "source": [
    "Theo biểu đồ nến, ta thấy:\n",
    "  - Từ đầu năm 2022 - gần cuối năm 2022, giá của cổ phiếu có xu hướng giảm mạnh, và đạt đáy vào 16/10/2022, sau đó có phục hồi và đi ngang đến gần cuối năm 2023.\n",
    "  - Từ đầu năm 2024, giá của cổ phiếu có xu hướng tăng mạnh đến tháng 3 năm 2024 rồi đi ngang sau đó tăng nhẹ."
   ]
  },
  {
   "cell_type": "code",
   "execution_count": 23,
   "id": "9dd13239",
   "metadata": {},
   "outputs": [
    {
     "data": {
      "application/vnd.plotly.v1+json": {
       "config": {
        "plotlyServerURL": "https://plot.ly"
       },
       "data": [
        {
         "type": "bar",
         "x": [
          "2022-01-04T00:00:00.000000000",
          "2022-01-05T00:00:00.000000000",
          "2022-01-06T00:00:00.000000000",
          "2022-01-07T00:00:00.000000000",
          "2022-01-10T00:00:00.000000000",
          "2022-01-11T00:00:00.000000000",
          "2022-01-12T00:00:00.000000000",
          "2022-01-13T00:00:00.000000000",
          "2022-01-14T00:00:00.000000000",
          "2022-01-17T00:00:00.000000000",
          "2022-01-18T00:00:00.000000000",
          "2022-01-19T00:00:00.000000000",
          "2022-01-20T00:00:00.000000000",
          "2022-01-21T00:00:00.000000000",
          "2022-01-24T00:00:00.000000000",
          "2022-01-25T00:00:00.000000000",
          "2022-01-26T00:00:00.000000000",
          "2022-01-27T00:00:00.000000000",
          "2022-01-28T00:00:00.000000000",
          "2022-02-07T00:00:00.000000000",
          "2022-02-08T00:00:00.000000000",
          "2022-02-09T00:00:00.000000000",
          "2022-02-10T00:00:00.000000000",
          "2022-02-11T00:00:00.000000000",
          "2022-02-14T00:00:00.000000000",
          "2022-02-15T00:00:00.000000000",
          "2022-02-16T00:00:00.000000000",
          "2022-02-17T00:00:00.000000000",
          "2022-02-18T00:00:00.000000000",
          "2022-02-21T00:00:00.000000000",
          "2022-02-22T00:00:00.000000000",
          "2022-02-23T00:00:00.000000000",
          "2022-02-24T00:00:00.000000000",
          "2022-02-25T00:00:00.000000000",
          "2022-02-28T00:00:00.000000000",
          "2022-03-01T00:00:00.000000000",
          "2022-03-02T00:00:00.000000000",
          "2022-03-03T00:00:00.000000000",
          "2022-03-04T00:00:00.000000000",
          "2022-03-07T00:00:00.000000000",
          "2022-03-08T00:00:00.000000000",
          "2022-03-09T00:00:00.000000000",
          "2022-03-10T00:00:00.000000000",
          "2022-03-11T00:00:00.000000000",
          "2022-03-14T00:00:00.000000000",
          "2022-03-15T00:00:00.000000000",
          "2022-03-16T00:00:00.000000000",
          "2022-03-17T00:00:00.000000000",
          "2022-03-18T00:00:00.000000000",
          "2022-03-21T00:00:00.000000000",
          "2022-03-22T00:00:00.000000000",
          "2022-03-23T00:00:00.000000000",
          "2022-03-24T00:00:00.000000000",
          "2022-03-25T00:00:00.000000000",
          "2022-03-28T00:00:00.000000000",
          "2022-03-29T00:00:00.000000000",
          "2022-03-30T00:00:00.000000000",
          "2022-03-31T00:00:00.000000000",
          "2022-04-01T00:00:00.000000000",
          "2022-04-04T00:00:00.000000000",
          "2022-04-05T00:00:00.000000000",
          "2022-04-06T00:00:00.000000000",
          "2022-04-07T00:00:00.000000000",
          "2022-04-08T00:00:00.000000000",
          "2022-04-12T00:00:00.000000000",
          "2022-04-13T00:00:00.000000000",
          "2022-04-14T00:00:00.000000000",
          "2022-04-15T00:00:00.000000000",
          "2022-04-18T00:00:00.000000000",
          "2022-04-19T00:00:00.000000000",
          "2022-04-20T00:00:00.000000000",
          "2022-04-21T00:00:00.000000000",
          "2022-04-22T00:00:00.000000000",
          "2022-04-25T00:00:00.000000000",
          "2022-04-26T00:00:00.000000000",
          "2022-04-27T00:00:00.000000000",
          "2022-04-28T00:00:00.000000000",
          "2022-04-29T00:00:00.000000000",
          "2022-05-04T00:00:00.000000000",
          "2022-05-05T00:00:00.000000000",
          "2022-05-06T00:00:00.000000000",
          "2022-05-09T00:00:00.000000000",
          "2022-05-10T00:00:00.000000000",
          "2022-05-11T00:00:00.000000000",
          "2022-05-12T00:00:00.000000000",
          "2022-05-13T00:00:00.000000000",
          "2022-05-16T00:00:00.000000000",
          "2022-05-17T00:00:00.000000000",
          "2022-05-18T00:00:00.000000000",
          "2022-05-19T00:00:00.000000000",
          "2022-05-20T00:00:00.000000000",
          "2022-05-23T00:00:00.000000000",
          "2022-05-24T00:00:00.000000000",
          "2022-05-25T00:00:00.000000000",
          "2022-05-26T00:00:00.000000000",
          "2022-05-27T00:00:00.000000000",
          "2022-05-30T00:00:00.000000000",
          "2022-05-31T00:00:00.000000000",
          "2022-06-01T00:00:00.000000000",
          "2022-06-02T00:00:00.000000000",
          "2022-06-03T00:00:00.000000000",
          "2022-06-06T00:00:00.000000000",
          "2022-06-07T00:00:00.000000000",
          "2022-06-08T00:00:00.000000000",
          "2022-06-09T00:00:00.000000000",
          "2022-06-10T00:00:00.000000000",
          "2022-06-13T00:00:00.000000000",
          "2022-06-14T00:00:00.000000000",
          "2022-06-15T00:00:00.000000000",
          "2022-06-16T00:00:00.000000000",
          "2022-06-17T00:00:00.000000000",
          "2022-06-20T00:00:00.000000000",
          "2022-06-21T00:00:00.000000000",
          "2022-06-22T00:00:00.000000000",
          "2022-06-23T00:00:00.000000000",
          "2022-06-24T00:00:00.000000000",
          "2022-06-27T00:00:00.000000000",
          "2022-06-28T00:00:00.000000000",
          "2022-06-29T00:00:00.000000000",
          "2022-06-30T00:00:00.000000000",
          "2022-07-01T00:00:00.000000000",
          "2022-07-04T00:00:00.000000000",
          "2022-07-05T00:00:00.000000000",
          "2022-07-06T00:00:00.000000000",
          "2022-07-07T00:00:00.000000000",
          "2022-07-08T00:00:00.000000000",
          "2022-07-11T00:00:00.000000000",
          "2022-07-12T00:00:00.000000000",
          "2022-07-13T00:00:00.000000000",
          "2022-07-14T00:00:00.000000000",
          "2022-07-15T00:00:00.000000000",
          "2022-07-18T00:00:00.000000000",
          "2022-07-19T00:00:00.000000000",
          "2022-07-20T00:00:00.000000000",
          "2022-07-21T00:00:00.000000000",
          "2022-07-22T00:00:00.000000000",
          "2022-07-25T00:00:00.000000000",
          "2022-07-26T00:00:00.000000000",
          "2022-07-27T00:00:00.000000000",
          "2022-07-28T00:00:00.000000000",
          "2022-07-29T00:00:00.000000000",
          "2022-08-01T00:00:00.000000000",
          "2022-08-02T00:00:00.000000000",
          "2022-08-03T00:00:00.000000000",
          "2022-08-04T00:00:00.000000000",
          "2022-08-05T00:00:00.000000000",
          "2022-08-08T00:00:00.000000000",
          "2022-08-09T00:00:00.000000000",
          "2022-08-10T00:00:00.000000000",
          "2022-08-11T00:00:00.000000000",
          "2022-08-12T00:00:00.000000000",
          "2022-08-15T00:00:00.000000000",
          "2022-08-16T00:00:00.000000000",
          "2022-08-17T00:00:00.000000000",
          "2022-08-18T00:00:00.000000000",
          "2022-08-19T00:00:00.000000000",
          "2022-08-22T00:00:00.000000000",
          "2022-08-23T00:00:00.000000000",
          "2022-08-24T00:00:00.000000000",
          "2022-08-25T00:00:00.000000000",
          "2022-08-26T00:00:00.000000000",
          "2022-08-29T00:00:00.000000000",
          "2022-08-30T00:00:00.000000000",
          "2022-08-31T00:00:00.000000000",
          "2022-09-05T00:00:00.000000000",
          "2022-09-06T00:00:00.000000000",
          "2022-09-07T00:00:00.000000000",
          "2022-09-08T00:00:00.000000000",
          "2022-09-09T00:00:00.000000000",
          "2022-09-12T00:00:00.000000000",
          "2022-09-13T00:00:00.000000000",
          "2022-09-14T00:00:00.000000000",
          "2022-09-15T00:00:00.000000000",
          "2022-09-16T00:00:00.000000000",
          "2022-09-19T00:00:00.000000000",
          "2022-09-20T00:00:00.000000000",
          "2022-09-21T00:00:00.000000000",
          "2022-09-22T00:00:00.000000000",
          "2022-09-23T00:00:00.000000000",
          "2022-09-26T00:00:00.000000000",
          "2022-09-27T00:00:00.000000000",
          "2022-09-28T00:00:00.000000000",
          "2022-09-29T00:00:00.000000000",
          "2022-09-30T00:00:00.000000000",
          "2022-10-03T00:00:00.000000000",
          "2022-10-04T00:00:00.000000000",
          "2022-10-05T00:00:00.000000000",
          "2022-10-06T00:00:00.000000000",
          "2022-10-07T00:00:00.000000000",
          "2022-10-10T00:00:00.000000000",
          "2022-10-11T00:00:00.000000000",
          "2022-10-12T00:00:00.000000000",
          "2022-10-13T00:00:00.000000000",
          "2022-10-14T00:00:00.000000000",
          "2022-10-17T00:00:00.000000000",
          "2022-10-18T00:00:00.000000000",
          "2022-10-19T00:00:00.000000000",
          "2022-10-20T00:00:00.000000000",
          "2022-10-21T00:00:00.000000000",
          "2022-10-24T00:00:00.000000000",
          "2022-10-25T00:00:00.000000000",
          "2022-10-26T00:00:00.000000000",
          "2022-10-27T00:00:00.000000000",
          "2022-10-28T00:00:00.000000000",
          "2022-10-31T00:00:00.000000000",
          "2022-11-01T00:00:00.000000000",
          "2022-11-02T00:00:00.000000000",
          "2022-11-03T00:00:00.000000000",
          "2022-11-04T00:00:00.000000000",
          "2022-11-07T00:00:00.000000000",
          "2022-11-08T00:00:00.000000000",
          "2022-11-09T00:00:00.000000000",
          "2022-11-10T00:00:00.000000000",
          "2022-11-11T00:00:00.000000000",
          "2022-11-14T00:00:00.000000000",
          "2022-11-15T00:00:00.000000000",
          "2022-11-16T00:00:00.000000000",
          "2022-11-17T00:00:00.000000000",
          "2022-11-18T00:00:00.000000000",
          "2022-11-21T00:00:00.000000000",
          "2022-11-22T00:00:00.000000000",
          "2022-11-23T00:00:00.000000000",
          "2022-11-24T00:00:00.000000000",
          "2022-11-25T00:00:00.000000000",
          "2022-11-28T00:00:00.000000000",
          "2022-11-29T00:00:00.000000000",
          "2022-11-30T00:00:00.000000000",
          "2022-12-01T00:00:00.000000000",
          "2022-12-02T00:00:00.000000000",
          "2022-12-05T00:00:00.000000000",
          "2022-12-06T00:00:00.000000000",
          "2022-12-07T00:00:00.000000000",
          "2022-12-08T00:00:00.000000000",
          "2022-12-09T00:00:00.000000000",
          "2022-12-12T00:00:00.000000000",
          "2022-12-13T00:00:00.000000000",
          "2022-12-14T00:00:00.000000000",
          "2022-12-15T00:00:00.000000000",
          "2022-12-16T00:00:00.000000000",
          "2022-12-19T00:00:00.000000000",
          "2022-12-20T00:00:00.000000000",
          "2022-12-21T00:00:00.000000000",
          "2022-12-22T00:00:00.000000000",
          "2022-12-23T00:00:00.000000000",
          "2022-12-26T00:00:00.000000000",
          "2022-12-27T00:00:00.000000000",
          "2022-12-28T00:00:00.000000000",
          "2022-12-29T00:00:00.000000000",
          "2022-12-30T00:00:00.000000000",
          "2023-01-03T00:00:00.000000000",
          "2023-01-04T00:00:00.000000000",
          "2023-01-05T00:00:00.000000000",
          "2023-01-06T00:00:00.000000000",
          "2023-01-09T00:00:00.000000000",
          "2023-01-10T00:00:00.000000000",
          "2023-01-11T00:00:00.000000000",
          "2023-01-12T00:00:00.000000000",
          "2023-01-13T00:00:00.000000000",
          "2023-01-16T00:00:00.000000000",
          "2023-01-17T00:00:00.000000000",
          "2023-01-18T00:00:00.000000000",
          "2023-01-19T00:00:00.000000000",
          "2023-01-27T00:00:00.000000000",
          "2023-01-30T00:00:00.000000000",
          "2023-01-31T00:00:00.000000000",
          "2023-02-01T00:00:00.000000000",
          "2023-02-02T00:00:00.000000000",
          "2023-02-03T00:00:00.000000000",
          "2023-02-06T00:00:00.000000000",
          "2023-02-07T00:00:00.000000000",
          "2023-02-08T00:00:00.000000000",
          "2023-02-09T00:00:00.000000000",
          "2023-02-10T00:00:00.000000000",
          "2023-02-13T00:00:00.000000000",
          "2023-02-14T00:00:00.000000000",
          "2023-02-15T00:00:00.000000000",
          "2023-02-16T00:00:00.000000000",
          "2023-02-17T00:00:00.000000000",
          "2023-02-20T00:00:00.000000000",
          "2023-02-21T00:00:00.000000000",
          "2023-02-22T00:00:00.000000000",
          "2023-02-23T00:00:00.000000000",
          "2023-02-24T00:00:00.000000000",
          "2023-02-27T00:00:00.000000000",
          "2023-02-28T00:00:00.000000000",
          "2023-03-01T00:00:00.000000000",
          "2023-03-02T00:00:00.000000000",
          "2023-03-03T00:00:00.000000000",
          "2023-03-06T00:00:00.000000000",
          "2023-03-07T00:00:00.000000000",
          "2023-03-08T00:00:00.000000000",
          "2023-03-09T00:00:00.000000000",
          "2023-03-10T00:00:00.000000000",
          "2023-03-13T00:00:00.000000000",
          "2023-03-14T00:00:00.000000000",
          "2023-03-15T00:00:00.000000000",
          "2023-03-16T00:00:00.000000000",
          "2023-03-17T00:00:00.000000000",
          "2023-03-20T00:00:00.000000000",
          "2023-03-21T00:00:00.000000000",
          "2023-03-22T00:00:00.000000000",
          "2023-03-23T00:00:00.000000000",
          "2023-03-24T00:00:00.000000000",
          "2023-03-27T00:00:00.000000000",
          "2023-03-28T00:00:00.000000000",
          "2023-03-29T00:00:00.000000000",
          "2023-03-30T00:00:00.000000000",
          "2023-03-31T00:00:00.000000000",
          "2023-04-03T00:00:00.000000000",
          "2023-04-04T00:00:00.000000000",
          "2023-04-05T00:00:00.000000000",
          "2023-04-06T00:00:00.000000000",
          "2023-04-07T00:00:00.000000000",
          "2023-04-10T00:00:00.000000000",
          "2023-04-11T00:00:00.000000000",
          "2023-04-12T00:00:00.000000000",
          "2023-04-13T00:00:00.000000000",
          "2023-04-14T00:00:00.000000000",
          "2023-04-17T00:00:00.000000000",
          "2023-04-18T00:00:00.000000000",
          "2023-04-19T00:00:00.000000000",
          "2023-04-20T00:00:00.000000000",
          "2023-04-21T00:00:00.000000000",
          "2023-04-24T00:00:00.000000000",
          "2023-04-25T00:00:00.000000000",
          "2023-04-26T00:00:00.000000000",
          "2023-04-27T00:00:00.000000000",
          "2023-04-28T00:00:00.000000000",
          "2023-05-04T00:00:00.000000000",
          "2023-05-05T00:00:00.000000000",
          "2023-05-08T00:00:00.000000000",
          "2023-05-09T00:00:00.000000000",
          "2023-05-10T00:00:00.000000000",
          "2023-05-11T00:00:00.000000000",
          "2023-05-12T00:00:00.000000000",
          "2023-05-15T00:00:00.000000000",
          "2023-05-16T00:00:00.000000000",
          "2023-05-17T00:00:00.000000000",
          "2023-05-18T00:00:00.000000000",
          "2023-05-19T00:00:00.000000000",
          "2023-05-22T00:00:00.000000000",
          "2023-05-23T00:00:00.000000000",
          "2023-05-24T00:00:00.000000000",
          "2023-05-25T00:00:00.000000000",
          "2023-05-26T00:00:00.000000000",
          "2023-05-29T00:00:00.000000000",
          "2023-05-30T00:00:00.000000000",
          "2023-05-31T00:00:00.000000000",
          "2023-06-01T00:00:00.000000000",
          "2023-06-02T00:00:00.000000000",
          "2023-06-05T00:00:00.000000000",
          "2023-06-06T00:00:00.000000000",
          "2023-06-07T00:00:00.000000000",
          "2023-06-08T00:00:00.000000000",
          "2023-06-09T00:00:00.000000000",
          "2023-06-12T00:00:00.000000000",
          "2023-06-13T00:00:00.000000000",
          "2023-06-14T00:00:00.000000000",
          "2023-06-15T00:00:00.000000000",
          "2023-06-16T00:00:00.000000000",
          "2023-06-19T00:00:00.000000000",
          "2023-06-20T00:00:00.000000000",
          "2023-06-21T00:00:00.000000000",
          "2023-06-22T00:00:00.000000000",
          "2023-06-23T00:00:00.000000000",
          "2023-06-26T00:00:00.000000000",
          "2023-06-27T00:00:00.000000000",
          "2023-06-28T00:00:00.000000000",
          "2023-06-29T00:00:00.000000000",
          "2023-06-30T00:00:00.000000000",
          "2023-07-03T00:00:00.000000000",
          "2023-07-04T00:00:00.000000000",
          "2023-07-05T00:00:00.000000000",
          "2023-07-06T00:00:00.000000000",
          "2023-07-07T00:00:00.000000000",
          "2023-07-10T00:00:00.000000000",
          "2023-07-11T00:00:00.000000000",
          "2023-07-12T00:00:00.000000000",
          "2023-07-13T00:00:00.000000000",
          "2023-07-14T00:00:00.000000000",
          "2023-07-17T00:00:00.000000000",
          "2023-07-18T00:00:00.000000000",
          "2023-07-19T00:00:00.000000000",
          "2023-07-20T00:00:00.000000000",
          "2023-07-21T00:00:00.000000000",
          "2023-07-24T00:00:00.000000000",
          "2023-07-25T00:00:00.000000000",
          "2023-07-26T00:00:00.000000000",
          "2023-07-27T00:00:00.000000000",
          "2023-07-28T00:00:00.000000000",
          "2023-07-31T00:00:00.000000000",
          "2023-08-01T00:00:00.000000000",
          "2023-08-02T00:00:00.000000000",
          "2023-08-03T00:00:00.000000000",
          "2023-08-04T00:00:00.000000000",
          "2023-08-07T00:00:00.000000000",
          "2023-08-08T00:00:00.000000000",
          "2023-08-09T00:00:00.000000000",
          "2023-08-10T00:00:00.000000000",
          "2023-08-11T00:00:00.000000000",
          "2023-08-14T00:00:00.000000000",
          "2023-08-15T00:00:00.000000000",
          "2023-08-16T00:00:00.000000000",
          "2023-08-17T00:00:00.000000000",
          "2023-08-18T00:00:00.000000000",
          "2023-08-21T00:00:00.000000000",
          "2023-08-22T00:00:00.000000000",
          "2023-08-23T00:00:00.000000000",
          "2023-08-24T00:00:00.000000000",
          "2023-08-25T00:00:00.000000000",
          "2023-08-28T00:00:00.000000000",
          "2023-08-29T00:00:00.000000000",
          "2023-08-30T00:00:00.000000000",
          "2023-08-31T00:00:00.000000000",
          "2023-09-05T00:00:00.000000000",
          "2023-09-06T00:00:00.000000000",
          "2023-09-07T00:00:00.000000000",
          "2023-09-08T00:00:00.000000000",
          "2023-09-11T00:00:00.000000000",
          "2023-09-12T00:00:00.000000000",
          "2023-09-13T00:00:00.000000000",
          "2023-09-14T00:00:00.000000000",
          "2023-09-15T00:00:00.000000000",
          "2023-09-18T00:00:00.000000000",
          "2023-09-19T00:00:00.000000000",
          "2023-09-20T00:00:00.000000000",
          "2023-09-21T00:00:00.000000000",
          "2023-09-22T00:00:00.000000000",
          "2023-09-25T00:00:00.000000000",
          "2023-09-26T00:00:00.000000000",
          "2023-09-27T00:00:00.000000000",
          "2023-09-28T00:00:00.000000000",
          "2023-09-29T00:00:00.000000000",
          "2023-10-02T00:00:00.000000000",
          "2023-10-03T00:00:00.000000000",
          "2023-10-04T00:00:00.000000000",
          "2023-10-05T00:00:00.000000000",
          "2023-10-06T00:00:00.000000000",
          "2023-10-09T00:00:00.000000000",
          "2023-10-10T00:00:00.000000000",
          "2023-10-11T00:00:00.000000000",
          "2023-10-12T00:00:00.000000000",
          "2023-10-13T00:00:00.000000000",
          "2023-10-16T00:00:00.000000000",
          "2023-10-17T00:00:00.000000000",
          "2023-10-18T00:00:00.000000000",
          "2023-10-19T00:00:00.000000000",
          "2023-10-20T00:00:00.000000000",
          "2023-10-23T00:00:00.000000000",
          "2023-10-24T00:00:00.000000000",
          "2023-10-25T00:00:00.000000000",
          "2023-10-26T00:00:00.000000000",
          "2023-10-27T00:00:00.000000000",
          "2023-10-30T00:00:00.000000000",
          "2023-10-31T00:00:00.000000000",
          "2023-11-01T00:00:00.000000000",
          "2023-11-02T00:00:00.000000000",
          "2023-11-03T00:00:00.000000000",
          "2023-11-06T00:00:00.000000000",
          "2023-11-07T00:00:00.000000000",
          "2023-11-08T00:00:00.000000000",
          "2023-11-09T00:00:00.000000000",
          "2023-11-10T00:00:00.000000000",
          "2023-11-13T00:00:00.000000000",
          "2023-11-14T00:00:00.000000000",
          "2023-11-15T00:00:00.000000000",
          "2023-11-16T00:00:00.000000000",
          "2023-11-17T00:00:00.000000000",
          "2023-11-20T00:00:00.000000000",
          "2023-11-21T00:00:00.000000000",
          "2023-11-22T00:00:00.000000000",
          "2023-11-23T00:00:00.000000000",
          "2023-11-24T00:00:00.000000000",
          "2023-11-27T00:00:00.000000000",
          "2023-11-28T00:00:00.000000000",
          "2023-11-29T00:00:00.000000000",
          "2023-11-30T00:00:00.000000000",
          "2023-12-01T00:00:00.000000000",
          "2023-12-04T00:00:00.000000000",
          "2023-12-05T00:00:00.000000000",
          "2023-12-06T00:00:00.000000000",
          "2023-12-07T00:00:00.000000000",
          "2023-12-08T00:00:00.000000000",
          "2023-12-11T00:00:00.000000000",
          "2023-12-12T00:00:00.000000000",
          "2023-12-13T00:00:00.000000000",
          "2023-12-14T00:00:00.000000000",
          "2023-12-15T00:00:00.000000000",
          "2023-12-18T00:00:00.000000000",
          "2023-12-19T00:00:00.000000000",
          "2023-12-20T00:00:00.000000000",
          "2023-12-21T00:00:00.000000000",
          "2023-12-22T00:00:00.000000000",
          "2023-12-25T00:00:00.000000000",
          "2023-12-26T00:00:00.000000000",
          "2023-12-27T00:00:00.000000000",
          "2023-12-28T00:00:00.000000000",
          "2023-12-29T00:00:00.000000000",
          "2024-01-02T00:00:00.000000000",
          "2024-01-03T00:00:00.000000000",
          "2024-01-04T00:00:00.000000000",
          "2024-01-05T00:00:00.000000000",
          "2024-01-08T00:00:00.000000000",
          "2024-01-09T00:00:00.000000000",
          "2024-01-10T00:00:00.000000000",
          "2024-01-11T00:00:00.000000000",
          "2024-01-12T00:00:00.000000000",
          "2024-01-15T00:00:00.000000000",
          "2024-01-16T00:00:00.000000000",
          "2024-01-17T00:00:00.000000000",
          "2024-01-18T00:00:00.000000000",
          "2024-01-19T00:00:00.000000000",
          "2024-01-22T00:00:00.000000000",
          "2024-01-23T00:00:00.000000000",
          "2024-01-24T00:00:00.000000000",
          "2024-01-25T00:00:00.000000000",
          "2024-01-26T00:00:00.000000000",
          "2024-01-29T00:00:00.000000000",
          "2024-01-30T00:00:00.000000000",
          "2024-01-31T00:00:00.000000000",
          "2024-02-01T00:00:00.000000000",
          "2024-02-02T00:00:00.000000000",
          "2024-02-05T00:00:00.000000000",
          "2024-02-06T00:00:00.000000000",
          "2024-02-07T00:00:00.000000000",
          "2024-02-15T00:00:00.000000000",
          "2024-02-16T00:00:00.000000000",
          "2024-02-19T00:00:00.000000000",
          "2024-02-20T00:00:00.000000000",
          "2024-02-21T00:00:00.000000000",
          "2024-02-22T00:00:00.000000000",
          "2024-02-23T00:00:00.000000000",
          "2024-02-26T00:00:00.000000000",
          "2024-02-27T00:00:00.000000000",
          "2024-02-28T00:00:00.000000000",
          "2024-02-29T00:00:00.000000000",
          "2024-03-01T00:00:00.000000000",
          "2024-03-04T00:00:00.000000000",
          "2024-03-05T00:00:00.000000000",
          "2024-03-06T00:00:00.000000000",
          "2024-03-07T00:00:00.000000000",
          "2024-03-08T00:00:00.000000000",
          "2024-03-11T00:00:00.000000000",
          "2024-03-12T00:00:00.000000000",
          "2024-03-13T00:00:00.000000000",
          "2024-03-14T00:00:00.000000000",
          "2024-03-15T00:00:00.000000000",
          "2024-03-18T00:00:00.000000000",
          "2024-03-19T00:00:00.000000000",
          "2024-03-20T00:00:00.000000000",
          "2024-03-21T00:00:00.000000000",
          "2024-03-22T00:00:00.000000000",
          "2024-03-25T00:00:00.000000000",
          "2024-03-26T00:00:00.000000000",
          "2024-03-27T00:00:00.000000000",
          "2024-03-28T00:00:00.000000000",
          "2024-03-29T00:00:00.000000000",
          "2024-04-01T00:00:00.000000000",
          "2024-04-02T00:00:00.000000000",
          "2024-04-03T00:00:00.000000000",
          "2024-04-04T00:00:00.000000000",
          "2024-04-05T00:00:00.000000000",
          "2024-04-08T00:00:00.000000000",
          "2024-04-09T00:00:00.000000000",
          "2024-04-10T00:00:00.000000000",
          "2024-04-11T00:00:00.000000000",
          "2024-04-12T00:00:00.000000000",
          "2024-04-15T00:00:00.000000000",
          "2024-04-16T00:00:00.000000000",
          "2024-04-17T00:00:00.000000000",
          "2024-04-19T00:00:00.000000000",
          "2024-04-22T00:00:00.000000000",
          "2024-04-23T00:00:00.000000000",
          "2024-04-24T00:00:00.000000000",
          "2024-04-25T00:00:00.000000000",
          "2024-04-26T00:00:00.000000000",
          "2024-05-02T00:00:00.000000000",
          "2024-05-03T00:00:00.000000000",
          "2024-05-06T00:00:00.000000000",
          "2024-05-07T00:00:00.000000000",
          "2024-05-08T00:00:00.000000000",
          "2024-05-09T00:00:00.000000000",
          "2024-05-10T00:00:00.000000000",
          "2024-05-13T00:00:00.000000000",
          "2024-05-14T00:00:00.000000000",
          "2024-05-15T00:00:00.000000000",
          "2024-05-16T00:00:00.000000000",
          "2024-05-17T00:00:00.000000000",
          "2024-05-20T00:00:00.000000000",
          "2024-05-21T00:00:00.000000000",
          "2024-05-22T00:00:00.000000000",
          "2024-05-23T00:00:00.000000000",
          "2024-05-24T00:00:00.000000000",
          "2024-05-27T00:00:00.000000000",
          "2024-05-28T00:00:00.000000000",
          "2024-05-29T00:00:00.000000000",
          "2024-05-30T00:00:00.000000000",
          "2024-05-31T00:00:00.000000000",
          "2024-06-03T00:00:00.000000000",
          "2024-06-04T00:00:00.000000000",
          "2024-06-05T00:00:00.000000000",
          "2024-06-06T00:00:00.000000000",
          "2024-06-07T00:00:00.000000000",
          "2024-06-10T00:00:00.000000000",
          "2024-06-11T00:00:00.000000000",
          "2024-06-12T00:00:00.000000000",
          "2024-06-13T00:00:00.000000000",
          "2024-06-14T00:00:00.000000000",
          "2024-06-17T00:00:00.000000000",
          "2024-06-18T00:00:00.000000000",
          "2024-06-19T00:00:00.000000000",
          "2024-06-20T00:00:00.000000000",
          "2024-06-21T00:00:00.000000000",
          "2024-06-24T00:00:00.000000000",
          "2024-06-25T00:00:00.000000000",
          "2024-06-26T00:00:00.000000000",
          "2024-06-27T00:00:00.000000000",
          "2024-06-28T00:00:00.000000000",
          "2024-07-01T00:00:00.000000000",
          "2024-07-02T00:00:00.000000000",
          "2024-07-03T00:00:00.000000000",
          "2024-07-04T00:00:00.000000000",
          "2024-07-05T00:00:00.000000000",
          "2024-07-08T00:00:00.000000000",
          "2024-07-09T00:00:00.000000000",
          "2024-07-10T00:00:00.000000000",
          "2024-07-11T00:00:00.000000000",
          "2024-07-12T00:00:00.000000000",
          "2024-07-15T00:00:00.000000000",
          "2024-07-16T00:00:00.000000000",
          "2024-07-17T00:00:00.000000000",
          "2024-07-18T00:00:00.000000000",
          "2024-07-19T00:00:00.000000000",
          "2024-07-22T00:00:00.000000000",
          "2024-07-23T00:00:00.000000000",
          "2024-07-24T00:00:00.000000000",
          "2024-07-25T00:00:00.000000000",
          "2024-07-26T00:00:00.000000000",
          "2024-07-29T00:00:00.000000000",
          "2024-07-30T00:00:00.000000000",
          "2024-07-31T00:00:00.000000000",
          "2024-08-01T00:00:00.000000000",
          "2024-08-02T00:00:00.000000000",
          "2024-08-05T00:00:00.000000000",
          "2024-08-06T00:00:00.000000000",
          "2024-08-07T00:00:00.000000000",
          "2024-08-08T00:00:00.000000000",
          "2024-08-09T00:00:00.000000000",
          "2024-08-12T00:00:00.000000000",
          "2024-08-13T00:00:00.000000000",
          "2024-08-14T00:00:00.000000000",
          "2024-08-15T00:00:00.000000000",
          "2024-08-16T00:00:00.000000000",
          "2024-08-19T00:00:00.000000000",
          "2024-08-20T00:00:00.000000000",
          "2024-08-21T00:00:00.000000000",
          "2024-08-22T00:00:00.000000000",
          "2024-08-23T00:00:00.000000000",
          "2024-08-26T00:00:00.000000000",
          "2024-08-27T00:00:00.000000000",
          "2024-08-28T00:00:00.000000000",
          "2024-08-29T00:00:00.000000000",
          "2024-08-30T00:00:00.000000000",
          "2024-09-04T00:00:00.000000000",
          "2024-09-05T00:00:00.000000000",
          "2024-09-06T00:00:00.000000000",
          "2024-09-09T00:00:00.000000000",
          "2024-09-10T00:00:00.000000000",
          "2024-09-11T00:00:00.000000000",
          "2024-09-12T00:00:00.000000000",
          "2024-09-13T00:00:00.000000000",
          "2024-09-16T00:00:00.000000000",
          "2024-09-17T00:00:00.000000000",
          "2024-09-18T00:00:00.000000000",
          "2024-09-19T00:00:00.000000000",
          "2024-09-20T00:00:00.000000000",
          "2024-09-23T00:00:00.000000000",
          "2024-09-24T00:00:00.000000000",
          "2024-09-25T00:00:00.000000000",
          "2024-09-26T00:00:00.000000000",
          "2024-09-27T00:00:00.000000000",
          "2024-09-30T00:00:00.000000000",
          "2024-10-01T00:00:00.000000000",
          "2024-10-02T00:00:00.000000000",
          "2024-10-03T00:00:00.000000000",
          "2024-10-04T00:00:00.000000000",
          "2024-10-07T00:00:00.000000000",
          "2024-10-08T00:00:00.000000000",
          "2024-10-09T00:00:00.000000000",
          "2024-10-10T00:00:00.000000000",
          "2024-10-11T00:00:00.000000000",
          "2024-10-14T00:00:00.000000000",
          "2024-10-15T00:00:00.000000000",
          "2024-10-16T00:00:00.000000000",
          "2024-10-17T00:00:00.000000000",
          "2024-10-18T00:00:00.000000000",
          "2024-10-21T00:00:00.000000000",
          "2024-10-22T00:00:00.000000000",
          "2024-10-23T00:00:00.000000000",
          "2024-10-24T00:00:00.000000000",
          "2024-10-25T00:00:00.000000000",
          "2024-10-28T00:00:00.000000000",
          "2024-10-29T00:00:00.000000000",
          "2024-10-30T00:00:00.000000000",
          "2024-10-31T00:00:00.000000000",
          "2024-11-01T00:00:00.000000000",
          "2024-11-04T00:00:00.000000000",
          "2024-11-05T00:00:00.000000000",
          "2024-11-06T00:00:00.000000000",
          "2024-11-07T00:00:00.000000000",
          "2024-11-08T00:00:00.000000000",
          "2024-11-11T00:00:00.000000000",
          "2024-11-12T00:00:00.000000000",
          "2024-11-13T00:00:00.000000000",
          "2024-11-14T00:00:00.000000000",
          "2024-11-15T00:00:00.000000000",
          "2024-11-18T00:00:00.000000000",
          "2024-11-19T00:00:00.000000000",
          "2024-11-20T00:00:00.000000000",
          "2024-11-21T00:00:00.000000000",
          "2024-11-22T00:00:00.000000000",
          "2024-11-25T00:00:00.000000000",
          "2024-11-26T00:00:00.000000000",
          "2024-11-27T00:00:00.000000000",
          "2024-11-28T00:00:00.000000000",
          "2024-11-29T00:00:00.000000000",
          "2024-12-02T00:00:00.000000000",
          "2024-12-03T00:00:00.000000000",
          "2024-12-04T00:00:00.000000000",
          "2024-12-05T00:00:00.000000000",
          "2024-12-06T00:00:00.000000000",
          "2024-12-09T00:00:00.000000000",
          "2024-12-10T00:00:00.000000000",
          "2024-12-11T00:00:00.000000000",
          "2024-12-12T00:00:00.000000000",
          "2024-12-13T00:00:00.000000000",
          "2024-12-16T00:00:00.000000000",
          "2024-12-17T00:00:00.000000000",
          "2024-12-18T00:00:00.000000000",
          "2024-12-19T00:00:00.000000000",
          "2024-12-20T00:00:00.000000000",
          "2024-12-23T00:00:00.000000000",
          "2024-12-24T00:00:00.000000000",
          "2024-12-25T00:00:00.000000000",
          "2024-12-26T00:00:00.000000000",
          "2024-12-27T00:00:00.000000000",
          "2024-12-30T00:00:00.000000000",
          "2024-12-31T00:00:00.000000000",
          "2025-01-02T00:00:00.000000000",
          "2025-01-03T00:00:00.000000000",
          "2025-01-06T00:00:00.000000000",
          "2025-01-07T00:00:00.000000000",
          "2025-01-08T00:00:00.000000000",
          "2025-01-09T00:00:00.000000000",
          "2025-01-10T00:00:00.000000000",
          "2025-01-13T00:00:00.000000000",
          "2025-01-14T00:00:00.000000000",
          "2025-01-15T00:00:00.000000000",
          "2025-01-16T00:00:00.000000000",
          "2025-01-17T00:00:00.000000000",
          "2025-01-20T00:00:00.000000000",
          "2025-01-21T00:00:00.000000000",
          "2025-01-22T00:00:00.000000000",
          "2025-01-23T00:00:00.000000000",
          "2025-01-24T00:00:00.000000000",
          "2025-02-03T00:00:00.000000000",
          "2025-02-04T00:00:00.000000000",
          "2025-02-05T00:00:00.000000000",
          "2025-02-06T00:00:00.000000000",
          "2025-02-07T00:00:00.000000000",
          "2025-02-10T00:00:00.000000000",
          "2025-02-11T00:00:00.000000000",
          "2025-02-12T00:00:00.000000000",
          "2025-02-13T00:00:00.000000000",
          "2025-02-14T00:00:00.000000000",
          "2025-02-17T00:00:00.000000000",
          "2025-02-18T00:00:00.000000000",
          "2025-02-19T00:00:00.000000000",
          "2025-02-20T00:00:00.000000000",
          "2025-02-21T00:00:00.000000000",
          "2025-02-24T00:00:00.000000000",
          "2025-02-25T00:00:00.000000000",
          "2025-02-26T00:00:00.000000000",
          "2025-02-27T00:00:00.000000000",
          "2025-02-28T00:00:00.000000000",
          "2025-03-03T00:00:00.000000000",
          "2025-03-04T00:00:00.000000000",
          "2025-03-05T00:00:00.000000000",
          "2025-03-06T00:00:00.000000000",
          "2025-03-07T00:00:00.000000000",
          "2025-03-10T00:00:00.000000000",
          "2025-03-11T00:00:00.000000000",
          "2025-03-12T00:00:00.000000000",
          "2025-03-13T00:00:00.000000000",
          "2025-03-14T00:00:00.000000000",
          "2025-03-17T00:00:00.000000000",
          "2025-03-18T00:00:00.000000000",
          "2025-03-19T00:00:00.000000000",
          "2025-03-20T00:00:00.000000000",
          "2025-03-21T00:00:00.000000000",
          "2025-03-24T00:00:00.000000000",
          "2025-03-25T00:00:00.000000000",
          "2025-03-26T00:00:00.000000000",
          "2025-03-27T00:00:00.000000000",
          "2025-03-28T00:00:00.000000000",
          "2025-03-31T00:00:00.000000000"
         ],
         "y": {
          "bdata": "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",
          "dtype": "i4"
         }
        }
       ],
       "layout": {
        "template": {
         "data": {
          "bar": [
           {
            "error_x": {
             "color": "#2a3f5f"
            },
            "error_y": {
             "color": "#2a3f5f"
            },
            "marker": {
             "line": {
              "color": "#E5ECF6",
              "width": 0.5
             },
             "pattern": {
              "fillmode": "overlay",
              "size": 10,
              "solidity": 0.2
             }
            },
            "type": "bar"
           }
          ],
          "barpolar": [
           {
            "marker": {
             "line": {
              "color": "#E5ECF6",
              "width": 0.5
             },
             "pattern": {
              "fillmode": "overlay",
              "size": 10,
              "solidity": 0.2
             }
            },
            "type": "barpolar"
           }
          ],
          "carpet": [
           {
            "aaxis": {
             "endlinecolor": "#2a3f5f",
             "gridcolor": "white",
             "linecolor": "white",
             "minorgridcolor": "white",
             "startlinecolor": "#2a3f5f"
            },
            "baxis": {
             "endlinecolor": "#2a3f5f",
             "gridcolor": "white",
             "linecolor": "white",
             "minorgridcolor": "white",
             "startlinecolor": "#2a3f5f"
            },
            "type": "carpet"
           }
          ],
          "choropleth": [
           {
            "colorbar": {
             "outlinewidth": 0,
             "ticks": ""
            },
            "type": "choropleth"
           }
          ],
          "contour": [
           {
            "colorbar": {
             "outlinewidth": 0,
             "ticks": ""
            },
            "colorscale": [
             [
              0,
              "#0d0887"
             ],
             [
              0.1111111111111111,
              "#46039f"
             ],
             [
              0.2222222222222222,
              "#7201a8"
             ],
             [
              0.3333333333333333,
              "#9c179e"
             ],
             [
              0.4444444444444444,
              "#bd3786"
             ],
             [
              0.5555555555555556,
              "#d8576b"
             ],
             [
              0.6666666666666666,
              "#ed7953"
             ],
             [
              0.7777777777777778,
              "#fb9f3a"
             ],
             [
              0.8888888888888888,
              "#fdca26"
             ],
             [
              1,
              "#f0f921"
             ]
            ],
            "type": "contour"
           }
          ],
          "contourcarpet": [
           {
            "colorbar": {
             "outlinewidth": 0,
             "ticks": ""
            },
            "type": "contourcarpet"
           }
          ],
          "heatmap": [
           {
            "colorbar": {
             "outlinewidth": 0,
             "ticks": ""
            },
            "colorscale": [
             [
              0,
              "#0d0887"
             ],
             [
              0.1111111111111111,
              "#46039f"
             ],
             [
              0.2222222222222222,
              "#7201a8"
             ],
             [
              0.3333333333333333,
              "#9c179e"
             ],
             [
              0.4444444444444444,
              "#bd3786"
             ],
             [
              0.5555555555555556,
              "#d8576b"
             ],
             [
              0.6666666666666666,
              "#ed7953"
             ],
             [
              0.7777777777777778,
              "#fb9f3a"
             ],
             [
              0.8888888888888888,
              "#fdca26"
             ],
             [
              1,
              "#f0f921"
             ]
            ],
            "type": "heatmap"
           }
          ],
          "histogram": [
           {
            "marker": {
             "pattern": {
              "fillmode": "overlay",
              "size": 10,
              "solidity": 0.2
             }
            },
            "type": "histogram"
           }
          ],
          "histogram2d": [
           {
            "colorbar": {
             "outlinewidth": 0,
             "ticks": ""
            },
            "colorscale": [
             [
              0,
              "#0d0887"
             ],
             [
              0.1111111111111111,
              "#46039f"
             ],
             [
              0.2222222222222222,
              "#7201a8"
             ],
             [
              0.3333333333333333,
              "#9c179e"
             ],
             [
              0.4444444444444444,
              "#bd3786"
             ],
             [
              0.5555555555555556,
              "#d8576b"
             ],
             [
              0.6666666666666666,
              "#ed7953"
             ],
             [
              0.7777777777777778,
              "#fb9f3a"
             ],
             [
              0.8888888888888888,
              "#fdca26"
             ],
             [
              1,
              "#f0f921"
             ]
            ],
            "type": "histogram2d"
           }
          ],
          "histogram2dcontour": [
           {
            "colorbar": {
             "outlinewidth": 0,
             "ticks": ""
            },
            "colorscale": [
             [
              0,
              "#0d0887"
             ],
             [
              0.1111111111111111,
              "#46039f"
             ],
             [
              0.2222222222222222,
              "#7201a8"
             ],
             [
              0.3333333333333333,
              "#9c179e"
             ],
             [
              0.4444444444444444,
              "#bd3786"
             ],
             [
              0.5555555555555556,
              "#d8576b"
             ],
             [
              0.6666666666666666,
              "#ed7953"
             ],
             [
              0.7777777777777778,
              "#fb9f3a"
             ],
             [
              0.8888888888888888,
              "#fdca26"
             ],
             [
              1,
              "#f0f921"
             ]
            ],
            "type": "histogram2dcontour"
           }
          ],
          "mesh3d": [
           {
            "colorbar": {
             "outlinewidth": 0,
             "ticks": ""
            },
            "type": "mesh3d"
           }
          ],
          "parcoords": [
           {
            "line": {
             "colorbar": {
              "outlinewidth": 0,
              "ticks": ""
             }
            },
            "type": "parcoords"
           }
          ],
          "pie": [
           {
            "automargin": true,
            "type": "pie"
           }
          ],
          "scatter": [
           {
            "fillpattern": {
             "fillmode": "overlay",
             "size": 10,
             "solidity": 0.2
            },
            "type": "scatter"
           }
          ],
          "scatter3d": [
           {
            "line": {
             "colorbar": {
              "outlinewidth": 0,
              "ticks": ""
             }
            },
            "marker": {
             "colorbar": {
              "outlinewidth": 0,
              "ticks": ""
             }
            },
            "type": "scatter3d"
           }
          ],
          "scattercarpet": [
           {
            "marker": {
             "colorbar": {
              "outlinewidth": 0,
              "ticks": ""
             }
            },
            "type": "scattercarpet"
           }
          ],
          "scattergeo": [
           {
            "marker": {
             "colorbar": {
              "outlinewidth": 0,
              "ticks": ""
             }
            },
            "type": "scattergeo"
           }
          ],
          "scattergl": [
           {
            "marker": {
             "colorbar": {
              "outlinewidth": 0,
              "ticks": ""
             }
            },
            "type": "scattergl"
           }
          ],
          "scattermap": [
           {
            "marker": {
             "colorbar": {
              "outlinewidth": 0,
              "ticks": ""
             }
            },
            "type": "scattermap"
           }
          ],
          "scattermapbox": [
           {
            "marker": {
             "colorbar": {
              "outlinewidth": 0,
              "ticks": ""
             }
            },
            "type": "scattermapbox"
           }
          ],
          "scatterpolar": [
           {
            "marker": {
             "colorbar": {
              "outlinewidth": 0,
              "ticks": ""
             }
            },
            "type": "scatterpolar"
           }
          ],
          "scatterpolargl": [
           {
            "marker": {
             "colorbar": {
              "outlinewidth": 0,
              "ticks": ""
             }
            },
            "type": "scatterpolargl"
           }
          ],
          "scatterternary": [
           {
            "marker": {
             "colorbar": {
              "outlinewidth": 0,
              "ticks": ""
             }
            },
            "type": "scatterternary"
           }
          ],
          "surface": [
           {
            "colorbar": {
             "outlinewidth": 0,
             "ticks": ""
            },
            "colorscale": [
             [
              0,
              "#0d0887"
             ],
             [
              0.1111111111111111,
              "#46039f"
             ],
             [
              0.2222222222222222,
              "#7201a8"
             ],
             [
              0.3333333333333333,
              "#9c179e"
             ],
             [
              0.4444444444444444,
              "#bd3786"
             ],
             [
              0.5555555555555556,
              "#d8576b"
             ],
             [
              0.6666666666666666,
              "#ed7953"
             ],
             [
              0.7777777777777778,
              "#fb9f3a"
             ],
             [
              0.8888888888888888,
              "#fdca26"
             ],
             [
              1,
              "#f0f921"
             ]
            ],
            "type": "surface"
           }
          ],
          "table": [
           {
            "cells": {
             "fill": {
              "color": "#EBF0F8"
             },
             "line": {
              "color": "white"
             }
            },
            "header": {
             "fill": {
              "color": "#C8D4E3"
             },
             "line": {
              "color": "white"
             }
            },
            "type": "table"
           }
          ]
         },
         "layout": {
          "annotationdefaults": {
           "arrowcolor": "#2a3f5f",
           "arrowhead": 0,
           "arrowwidth": 1
          },
          "autotypenumbers": "strict",
          "coloraxis": {
           "colorbar": {
            "outlinewidth": 0,
            "ticks": ""
           }
          },
          "colorscale": {
           "diverging": [
            [
             0,
             "#8e0152"
            ],
            [
             0.1,
             "#c51b7d"
            ],
            [
             0.2,
             "#de77ae"
            ],
            [
             0.3,
             "#f1b6da"
            ],
            [
             0.4,
             "#fde0ef"
            ],
            [
             0.5,
             "#f7f7f7"
            ],
            [
             0.6,
             "#e6f5d0"
            ],
            [
             0.7,
             "#b8e186"
            ],
            [
             0.8,
             "#7fbc41"
            ],
            [
             0.9,
             "#4d9221"
            ],
            [
             1,
             "#276419"
            ]
           ],
           "sequential": [
            [
             0,
             "#0d0887"
            ],
            [
             0.1111111111111111,
             "#46039f"
            ],
            [
             0.2222222222222222,
             "#7201a8"
            ],
            [
             0.3333333333333333,
             "#9c179e"
            ],
            [
             0.4444444444444444,
             "#bd3786"
            ],
            [
             0.5555555555555556,
             "#d8576b"
            ],
            [
             0.6666666666666666,
             "#ed7953"
            ],
            [
             0.7777777777777778,
             "#fb9f3a"
            ],
            [
             0.8888888888888888,
             "#fdca26"
            ],
            [
             1,
             "#f0f921"
            ]
           ],
           "sequentialminus": [
            [
             0,
             "#0d0887"
            ],
            [
             0.1111111111111111,
             "#46039f"
            ],
            [
             0.2222222222222222,
             "#7201a8"
            ],
            [
             0.3333333333333333,
             "#9c179e"
            ],
            [
             0.4444444444444444,
             "#bd3786"
            ],
            [
             0.5555555555555556,
             "#d8576b"
            ],
            [
             0.6666666666666666,
             "#ed7953"
            ],
            [
             0.7777777777777778,
             "#fb9f3a"
            ],
            [
             0.8888888888888888,
             "#fdca26"
            ],
            [
             1,
             "#f0f921"
            ]
           ]
          },
          "colorway": [
           "#636efa",
           "#EF553B",
           "#00cc96",
           "#ab63fa",
           "#FFA15A",
           "#19d3f3",
           "#FF6692",
           "#B6E880",
           "#FF97FF",
           "#FECB52"
          ],
          "font": {
           "color": "#2a3f5f"
          },
          "geo": {
           "bgcolor": "white",
           "lakecolor": "white",
           "landcolor": "#E5ECF6",
           "showlakes": true,
           "showland": true,
           "subunitcolor": "white"
          },
          "hoverlabel": {
           "align": "left"
          },
          "hovermode": "closest",
          "mapbox": {
           "style": "light"
          },
          "paper_bgcolor": "white",
          "plot_bgcolor": "#E5ECF6",
          "polar": {
           "angularaxis": {
            "gridcolor": "white",
            "linecolor": "white",
            "ticks": ""
           },
           "bgcolor": "#E5ECF6",
           "radialaxis": {
            "gridcolor": "white",
            "linecolor": "white",
            "ticks": ""
           }
          },
          "scene": {
           "xaxis": {
            "backgroundcolor": "#E5ECF6",
            "gridcolor": "white",
            "gridwidth": 2,
            "linecolor": "white",
            "showbackground": true,
            "ticks": "",
            "zerolinecolor": "white"
           },
           "yaxis": {
            "backgroundcolor": "#E5ECF6",
            "gridcolor": "white",
            "gridwidth": 2,
            "linecolor": "white",
            "showbackground": true,
            "ticks": "",
            "zerolinecolor": "white"
           },
           "zaxis": {
            "backgroundcolor": "#E5ECF6",
            "gridcolor": "white",
            "gridwidth": 2,
            "linecolor": "white",
            "showbackground": true,
            "ticks": "",
            "zerolinecolor": "white"
           }
          },
          "shapedefaults": {
           "line": {
            "color": "#2a3f5f"
           }
          },
          "ternary": {
           "aaxis": {
            "gridcolor": "white",
            "linecolor": "white",
            "ticks": ""
           },
           "baxis": {
            "gridcolor": "white",
            "linecolor": "white",
            "ticks": ""
           },
           "bgcolor": "#E5ECF6",
           "caxis": {
            "gridcolor": "white",
            "linecolor": "white",
            "ticks": ""
           }
          },
          "title": {
           "x": 0.05
          },
          "xaxis": {
           "automargin": true,
           "gridcolor": "white",
           "linecolor": "white",
           "ticks": "",
           "title": {
            "standoff": 15
           },
           "zerolinecolor": "white",
           "zerolinewidth": 2
          },
          "yaxis": {
           "automargin": true,
           "gridcolor": "white",
           "linecolor": "white",
           "ticks": "",
           "title": {
            "standoff": 15
           },
           "zerolinecolor": "white",
           "zerolinewidth": 2
          }
         }
        },
        "title": {
         "text": "Khối lượng giao dịch theo thời gian"
        },
        "xaxis": {
         "title": {
          "text": "Thời gian"
         }
        },
        "yaxis": {
         "title": {
          "text": "Khối lượng giao dịch"
         }
        }
       }
      }
     },
     "metadata": {},
     "output_type": "display_data"
    }
   ],
   "source": [
    "visualize_volume_each_bank(\"Techcombank\")"
   ]
  },
  {
   "cell_type": "markdown",
   "id": "8314eba0",
   "metadata": {},
   "source": [
    "Theo biểu đồ volume, ta thấy:\n",
    "  - Volume ổn định trong giai đoạn 2022- đầu năm 2024.\n",
    "  - Volume tăng mạnh từ đầu năm 2024, chứng tỏ thị trường bắt đầu sôi động hơn.\n",
    "  - Volume có xu hướng chu kì trong khoảng 6 tháng."
   ]
  },
  {
   "cell_type": "markdown",
   "id": "d85bf0f6",
   "metadata": {},
   "source": [
    "## Three banks"
   ]
  },
  {
   "cell_type": "code",
   "execution_count": 24,
   "id": "034c743f",
   "metadata": {},
   "outputs": [
    {
     "data": {
      "application/vnd.plotly.v1+json": {
       "config": {
        "plotlyServerURL": "https://plot.ly"
       },
       "data": [
        {
         "name": "Vietcombank trade",
         "type": "scatter",
         "x": [
          "2022-01-04T00:00:00.000000000",
          "2022-01-05T00:00:00.000000000",
          "2022-01-06T00:00:00.000000000",
          "2022-01-07T00:00:00.000000000",
          "2022-01-10T00:00:00.000000000",
          "2022-01-11T00:00:00.000000000",
          "2022-01-12T00:00:00.000000000",
          "2022-01-13T00:00:00.000000000",
          "2022-01-14T00:00:00.000000000",
          "2022-01-17T00:00:00.000000000",
          "2022-01-18T00:00:00.000000000",
          "2022-01-19T00:00:00.000000000",
          "2022-01-20T00:00:00.000000000",
          "2022-01-21T00:00:00.000000000",
          "2022-01-24T00:00:00.000000000",
          "2022-01-25T00:00:00.000000000",
          "2022-01-26T00:00:00.000000000",
          "2022-01-27T00:00:00.000000000",
          "2022-01-28T00:00:00.000000000",
          "2022-02-07T00:00:00.000000000",
          "2022-02-08T00:00:00.000000000",
          "2022-02-09T00:00:00.000000000",
          "2022-02-10T00:00:00.000000000",
          "2022-02-11T00:00:00.000000000",
          "2022-02-14T00:00:00.000000000",
          "2022-02-15T00:00:00.000000000",
          "2022-02-16T00:00:00.000000000",
          "2022-02-17T00:00:00.000000000",
          "2022-02-18T00:00:00.000000000",
          "2022-02-21T00:00:00.000000000",
          "2022-02-22T00:00:00.000000000",
          "2022-02-23T00:00:00.000000000",
          "2022-02-24T00:00:00.000000000",
          "2022-02-25T00:00:00.000000000",
          "2022-02-28T00:00:00.000000000",
          "2022-03-01T00:00:00.000000000",
          "2022-03-02T00:00:00.000000000",
          "2022-03-03T00:00:00.000000000",
          "2022-03-04T00:00:00.000000000",
          "2022-03-07T00:00:00.000000000",
          "2022-03-08T00:00:00.000000000",
          "2022-03-09T00:00:00.000000000",
          "2022-03-10T00:00:00.000000000",
          "2022-03-11T00:00:00.000000000",
          "2022-03-14T00:00:00.000000000",
          "2022-03-15T00:00:00.000000000",
          "2022-03-16T00:00:00.000000000",
          "2022-03-17T00:00:00.000000000",
          "2022-03-18T00:00:00.000000000",
          "2022-03-21T00:00:00.000000000",
          "2022-03-22T00:00:00.000000000",
          "2022-03-23T00:00:00.000000000",
          "2022-03-24T00:00:00.000000000",
          "2022-03-25T00:00:00.000000000",
          "2022-03-28T00:00:00.000000000",
          "2022-03-29T00:00:00.000000000",
          "2022-03-30T00:00:00.000000000",
          "2022-03-31T00:00:00.000000000",
          "2022-04-01T00:00:00.000000000",
          "2022-04-04T00:00:00.000000000",
          "2022-04-05T00:00:00.000000000",
          "2022-04-06T00:00:00.000000000",
          "2022-04-07T00:00:00.000000000",
          "2022-04-08T00:00:00.000000000",
          "2022-04-12T00:00:00.000000000",
          "2022-04-13T00:00:00.000000000",
          "2022-04-14T00:00:00.000000000",
          "2022-04-15T00:00:00.000000000",
          "2022-04-18T00:00:00.000000000",
          "2022-04-19T00:00:00.000000000",
          "2022-04-20T00:00:00.000000000",
          "2022-04-21T00:00:00.000000000",
          "2022-04-22T00:00:00.000000000",
          "2022-04-25T00:00:00.000000000",
          "2022-04-26T00:00:00.000000000",
          "2022-04-27T00:00:00.000000000",
          "2022-04-28T00:00:00.000000000",
          "2022-04-29T00:00:00.000000000",
          "2022-05-04T00:00:00.000000000",
          "2022-05-05T00:00:00.000000000",
          "2022-05-06T00:00:00.000000000",
          "2022-05-09T00:00:00.000000000",
          "2022-05-10T00:00:00.000000000",
          "2022-05-11T00:00:00.000000000",
          "2022-05-12T00:00:00.000000000",
          "2022-05-13T00:00:00.000000000",
          "2022-05-16T00:00:00.000000000",
          "2022-05-17T00:00:00.000000000",
          "2022-05-18T00:00:00.000000000",
          "2022-05-19T00:00:00.000000000",
          "2022-05-20T00:00:00.000000000",
          "2022-05-23T00:00:00.000000000",
          "2022-05-24T00:00:00.000000000",
          "2022-05-25T00:00:00.000000000",
          "2022-05-26T00:00:00.000000000",
          "2022-05-27T00:00:00.000000000",
          "2022-05-30T00:00:00.000000000",
          "2022-05-31T00:00:00.000000000",
          "2022-06-01T00:00:00.000000000",
          "2022-06-02T00:00:00.000000000",
          "2022-06-03T00:00:00.000000000",
          "2022-06-06T00:00:00.000000000",
          "2022-06-07T00:00:00.000000000",
          "2022-06-08T00:00:00.000000000",
          "2022-06-09T00:00:00.000000000",
          "2022-06-10T00:00:00.000000000",
          "2022-06-13T00:00:00.000000000",
          "2022-06-14T00:00:00.000000000",
          "2022-06-15T00:00:00.000000000",
          "2022-06-16T00:00:00.000000000",
          "2022-06-17T00:00:00.000000000",
          "2022-06-20T00:00:00.000000000",
          "2022-06-21T00:00:00.000000000",
          "2022-06-22T00:00:00.000000000",
          "2022-06-23T00:00:00.000000000",
          "2022-06-24T00:00:00.000000000",
          "2022-06-27T00:00:00.000000000",
          "2022-06-28T00:00:00.000000000",
          "2022-06-29T00:00:00.000000000",
          "2022-06-30T00:00:00.000000000",
          "2022-07-01T00:00:00.000000000",
          "2022-07-04T00:00:00.000000000",
          "2022-07-05T00:00:00.000000000",
          "2022-07-06T00:00:00.000000000",
          "2022-07-07T00:00:00.000000000",
          "2022-07-08T00:00:00.000000000",
          "2022-07-11T00:00:00.000000000",
          "2022-07-12T00:00:00.000000000",
          "2022-07-13T00:00:00.000000000",
          "2022-07-14T00:00:00.000000000",
          "2022-07-15T00:00:00.000000000",
          "2022-07-18T00:00:00.000000000",
          "2022-07-19T00:00:00.000000000",
          "2022-07-20T00:00:00.000000000",
          "2022-07-21T00:00:00.000000000",
          "2022-07-22T00:00:00.000000000",
          "2022-07-25T00:00:00.000000000",
          "2022-07-26T00:00:00.000000000",
          "2022-07-27T00:00:00.000000000",
          "2022-07-28T00:00:00.000000000",
          "2022-07-29T00:00:00.000000000",
          "2022-08-01T00:00:00.000000000",
          "2022-08-02T00:00:00.000000000",
          "2022-08-03T00:00:00.000000000",
          "2022-08-04T00:00:00.000000000",
          "2022-08-05T00:00:00.000000000",
          "2022-08-08T00:00:00.000000000",
          "2022-08-09T00:00:00.000000000",
          "2022-08-10T00:00:00.000000000",
          "2022-08-11T00:00:00.000000000",
          "2022-08-12T00:00:00.000000000",
          "2022-08-15T00:00:00.000000000",
          "2022-08-16T00:00:00.000000000",
          "2022-08-17T00:00:00.000000000",
          "2022-08-18T00:00:00.000000000",
          "2022-08-19T00:00:00.000000000",
          "2022-08-22T00:00:00.000000000",
          "2022-08-23T00:00:00.000000000",
          "2022-08-24T00:00:00.000000000",
          "2022-08-25T00:00:00.000000000",
          "2022-08-26T00:00:00.000000000",
          "2022-08-29T00:00:00.000000000",
          "2022-08-30T00:00:00.000000000",
          "2022-08-31T00:00:00.000000000",
          "2022-09-05T00:00:00.000000000",
          "2022-09-06T00:00:00.000000000",
          "2022-09-07T00:00:00.000000000",
          "2022-09-08T00:00:00.000000000",
          "2022-09-09T00:00:00.000000000",
          "2022-09-12T00:00:00.000000000",
          "2022-09-13T00:00:00.000000000",
          "2022-09-14T00:00:00.000000000",
          "2022-09-15T00:00:00.000000000",
          "2022-09-16T00:00:00.000000000",
          "2022-09-19T00:00:00.000000000",
          "2022-09-20T00:00:00.000000000",
          "2022-09-21T00:00:00.000000000",
          "2022-09-22T00:00:00.000000000",
          "2022-09-23T00:00:00.000000000",
          "2022-09-26T00:00:00.000000000",
          "2022-09-27T00:00:00.000000000",
          "2022-09-28T00:00:00.000000000",
          "2022-09-29T00:00:00.000000000",
          "2022-09-30T00:00:00.000000000",
          "2022-10-03T00:00:00.000000000",
          "2022-10-04T00:00:00.000000000",
          "2022-10-05T00:00:00.000000000",
          "2022-10-06T00:00:00.000000000",
          "2022-10-07T00:00:00.000000000",
          "2022-10-10T00:00:00.000000000",
          "2022-10-11T00:00:00.000000000",
          "2022-10-12T00:00:00.000000000",
          "2022-10-13T00:00:00.000000000",
          "2022-10-14T00:00:00.000000000",
          "2022-10-17T00:00:00.000000000",
          "2022-10-18T00:00:00.000000000",
          "2022-10-19T00:00:00.000000000",
          "2022-10-20T00:00:00.000000000",
          "2022-10-21T00:00:00.000000000",
          "2022-10-24T00:00:00.000000000",
          "2022-10-25T00:00:00.000000000",
          "2022-10-26T00:00:00.000000000",
          "2022-10-27T00:00:00.000000000",
          "2022-10-28T00:00:00.000000000",
          "2022-10-31T00:00:00.000000000",
          "2022-11-01T00:00:00.000000000",
          "2022-11-02T00:00:00.000000000",
          "2022-11-03T00:00:00.000000000",
          "2022-11-04T00:00:00.000000000",
          "2022-11-07T00:00:00.000000000",
          "2022-11-08T00:00:00.000000000",
          "2022-11-09T00:00:00.000000000",
          "2022-11-10T00:00:00.000000000",
          "2022-11-11T00:00:00.000000000",
          "2022-11-14T00:00:00.000000000",
          "2022-11-15T00:00:00.000000000",
          "2022-11-16T00:00:00.000000000",
          "2022-11-17T00:00:00.000000000",
          "2022-11-18T00:00:00.000000000",
          "2022-11-21T00:00:00.000000000",
          "2022-11-22T00:00:00.000000000",
          "2022-11-23T00:00:00.000000000",
          "2022-11-24T00:00:00.000000000",
          "2022-11-25T00:00:00.000000000",
          "2022-11-28T00:00:00.000000000",
          "2022-11-29T00:00:00.000000000",
          "2022-11-30T00:00:00.000000000",
          "2022-12-01T00:00:00.000000000",
          "2022-12-02T00:00:00.000000000",
          "2022-12-05T00:00:00.000000000",
          "2022-12-06T00:00:00.000000000",
          "2022-12-07T00:00:00.000000000",
          "2022-12-08T00:00:00.000000000",
          "2022-12-09T00:00:00.000000000",
          "2022-12-12T00:00:00.000000000",
          "2022-12-13T00:00:00.000000000",
          "2022-12-14T00:00:00.000000000",
          "2022-12-15T00:00:00.000000000",
          "2022-12-16T00:00:00.000000000",
          "2022-12-19T00:00:00.000000000",
          "2022-12-20T00:00:00.000000000",
          "2022-12-21T00:00:00.000000000",
          "2022-12-22T00:00:00.000000000",
          "2022-12-23T00:00:00.000000000",
          "2022-12-26T00:00:00.000000000",
          "2022-12-27T00:00:00.000000000",
          "2022-12-28T00:00:00.000000000",
          "2022-12-29T00:00:00.000000000",
          "2022-12-30T00:00:00.000000000",
          "2023-01-03T00:00:00.000000000",
          "2023-01-04T00:00:00.000000000",
          "2023-01-05T00:00:00.000000000",
          "2023-01-06T00:00:00.000000000",
          "2023-01-09T00:00:00.000000000",
          "2023-01-10T00:00:00.000000000",
          "2023-01-11T00:00:00.000000000",
          "2023-01-12T00:00:00.000000000",
          "2023-01-13T00:00:00.000000000",
          "2023-01-16T00:00:00.000000000",
          "2023-01-17T00:00:00.000000000",
          "2023-01-18T00:00:00.000000000",
          "2023-01-19T00:00:00.000000000",
          "2023-01-27T00:00:00.000000000",
          "2023-01-30T00:00:00.000000000",
          "2023-01-31T00:00:00.000000000",
          "2023-02-01T00:00:00.000000000",
          "2023-02-02T00:00:00.000000000",
          "2023-02-03T00:00:00.000000000",
          "2023-02-06T00:00:00.000000000",
          "2023-02-07T00:00:00.000000000",
          "2023-02-08T00:00:00.000000000",
          "2023-02-09T00:00:00.000000000",
          "2023-02-10T00:00:00.000000000",
          "2023-02-13T00:00:00.000000000",
          "2023-02-14T00:00:00.000000000",
          "2023-02-15T00:00:00.000000000",
          "2023-02-16T00:00:00.000000000",
          "2023-02-17T00:00:00.000000000",
          "2023-02-20T00:00:00.000000000",
          "2023-02-21T00:00:00.000000000",
          "2023-02-22T00:00:00.000000000",
          "2023-02-23T00:00:00.000000000",
          "2023-02-24T00:00:00.000000000",
          "2023-02-27T00:00:00.000000000",
          "2023-02-28T00:00:00.000000000",
          "2023-03-01T00:00:00.000000000",
          "2023-03-02T00:00:00.000000000",
          "2023-03-03T00:00:00.000000000",
          "2023-03-06T00:00:00.000000000",
          "2023-03-07T00:00:00.000000000",
          "2023-03-08T00:00:00.000000000",
          "2023-03-09T00:00:00.000000000",
          "2023-03-10T00:00:00.000000000",
          "2023-03-13T00:00:00.000000000",
          "2023-03-14T00:00:00.000000000",
          "2023-03-15T00:00:00.000000000",
          "2023-03-16T00:00:00.000000000",
          "2023-03-17T00:00:00.000000000",
          "2023-03-20T00:00:00.000000000",
          "2023-03-21T00:00:00.000000000",
          "2023-03-22T00:00:00.000000000",
          "2023-03-23T00:00:00.000000000",
          "2023-03-24T00:00:00.000000000",
          "2023-03-27T00:00:00.000000000",
          "2023-03-28T00:00:00.000000000",
          "2023-03-29T00:00:00.000000000",
          "2023-03-30T00:00:00.000000000",
          "2023-03-31T00:00:00.000000000",
          "2023-04-03T00:00:00.000000000",
          "2023-04-04T00:00:00.000000000",
          "2023-04-05T00:00:00.000000000",
          "2023-04-06T00:00:00.000000000",
          "2023-04-07T00:00:00.000000000",
          "2023-04-10T00:00:00.000000000",
          "2023-04-11T00:00:00.000000000",
          "2023-04-12T00:00:00.000000000",
          "2023-04-13T00:00:00.000000000",
          "2023-04-14T00:00:00.000000000",
          "2023-04-17T00:00:00.000000000",
          "2023-04-18T00:00:00.000000000",
          "2023-04-19T00:00:00.000000000",
          "2023-04-20T00:00:00.000000000",
          "2023-04-21T00:00:00.000000000",
          "2023-04-24T00:00:00.000000000",
          "2023-04-25T00:00:00.000000000",
          "2023-04-26T00:00:00.000000000",
          "2023-04-27T00:00:00.000000000",
          "2023-04-28T00:00:00.000000000",
          "2023-05-04T00:00:00.000000000",
          "2023-05-05T00:00:00.000000000",
          "2023-05-08T00:00:00.000000000",
          "2023-05-09T00:00:00.000000000",
          "2023-05-10T00:00:00.000000000",
          "2023-05-11T00:00:00.000000000",
          "2023-05-12T00:00:00.000000000",
          "2023-05-15T00:00:00.000000000",
          "2023-05-16T00:00:00.000000000",
          "2023-05-17T00:00:00.000000000",
          "2023-05-18T00:00:00.000000000",
          "2023-05-19T00:00:00.000000000",
          "2023-05-22T00:00:00.000000000",
          "2023-05-23T00:00:00.000000000",
          "2023-05-24T00:00:00.000000000",
          "2023-05-25T00:00:00.000000000",
          "2023-05-26T00:00:00.000000000",
          "2023-05-29T00:00:00.000000000",
          "2023-05-30T00:00:00.000000000",
          "2023-05-31T00:00:00.000000000",
          "2023-06-01T00:00:00.000000000",
          "2023-06-02T00:00:00.000000000",
          "2023-06-05T00:00:00.000000000",
          "2023-06-06T00:00:00.000000000",
          "2023-06-07T00:00:00.000000000",
          "2023-06-08T00:00:00.000000000",
          "2023-06-09T00:00:00.000000000",
          "2023-06-12T00:00:00.000000000",
          "2023-06-13T00:00:00.000000000",
          "2023-06-14T00:00:00.000000000",
          "2023-06-15T00:00:00.000000000",
          "2023-06-16T00:00:00.000000000",
          "2023-06-19T00:00:00.000000000",
          "2023-06-20T00:00:00.000000000",
          "2023-06-21T00:00:00.000000000",
          "2023-06-22T00:00:00.000000000",
          "2023-06-23T00:00:00.000000000",
          "2023-06-26T00:00:00.000000000",
          "2023-06-27T00:00:00.000000000",
          "2023-06-28T00:00:00.000000000",
          "2023-06-29T00:00:00.000000000",
          "2023-06-30T00:00:00.000000000",
          "2023-07-03T00:00:00.000000000",
          "2023-07-04T00:00:00.000000000",
          "2023-07-05T00:00:00.000000000",
          "2023-07-06T00:00:00.000000000",
          "2023-07-07T00:00:00.000000000",
          "2023-07-10T00:00:00.000000000",
          "2023-07-11T00:00:00.000000000",
          "2023-07-12T00:00:00.000000000",
          "2023-07-13T00:00:00.000000000",
          "2023-07-14T00:00:00.000000000",
          "2023-07-17T00:00:00.000000000",
          "2023-07-18T00:00:00.000000000",
          "2023-07-19T00:00:00.000000000",
          "2023-07-20T00:00:00.000000000",
          "2023-07-21T00:00:00.000000000",
          "2023-07-24T00:00:00.000000000",
          "2023-07-25T00:00:00.000000000",
          "2023-07-26T00:00:00.000000000",
          "2023-07-27T00:00:00.000000000",
          "2023-07-28T00:00:00.000000000",
          "2023-07-31T00:00:00.000000000",
          "2023-08-01T00:00:00.000000000",
          "2023-08-02T00:00:00.000000000",
          "2023-08-03T00:00:00.000000000",
          "2023-08-04T00:00:00.000000000",
          "2023-08-07T00:00:00.000000000",
          "2023-08-08T00:00:00.000000000",
          "2023-08-09T00:00:00.000000000",
          "2023-08-10T00:00:00.000000000",
          "2023-08-11T00:00:00.000000000",
          "2023-08-14T00:00:00.000000000",
          "2023-08-15T00:00:00.000000000",
          "2023-08-16T00:00:00.000000000",
          "2023-08-17T00:00:00.000000000",
          "2023-08-18T00:00:00.000000000",
          "2023-08-21T00:00:00.000000000",
          "2023-08-22T00:00:00.000000000",
          "2023-08-23T00:00:00.000000000",
          "2023-08-24T00:00:00.000000000",
          "2023-08-25T00:00:00.000000000",
          "2023-08-28T00:00:00.000000000",
          "2023-08-29T00:00:00.000000000",
          "2023-08-30T00:00:00.000000000",
          "2023-08-31T00:00:00.000000000",
          "2023-09-05T00:00:00.000000000",
          "2023-09-06T00:00:00.000000000",
          "2023-09-07T00:00:00.000000000",
          "2023-09-08T00:00:00.000000000",
          "2023-09-11T00:00:00.000000000",
          "2023-09-12T00:00:00.000000000",
          "2023-09-13T00:00:00.000000000",
          "2023-09-14T00:00:00.000000000",
          "2023-09-15T00:00:00.000000000",
          "2023-09-18T00:00:00.000000000",
          "2023-09-19T00:00:00.000000000",
          "2023-09-20T00:00:00.000000000",
          "2023-09-21T00:00:00.000000000",
          "2023-09-22T00:00:00.000000000",
          "2023-09-25T00:00:00.000000000",
          "2023-09-26T00:00:00.000000000",
          "2023-09-27T00:00:00.000000000",
          "2023-09-28T00:00:00.000000000",
          "2023-09-29T00:00:00.000000000",
          "2023-10-02T00:00:00.000000000",
          "2023-10-03T00:00:00.000000000",
          "2023-10-04T00:00:00.000000000",
          "2023-10-05T00:00:00.000000000",
          "2023-10-06T00:00:00.000000000",
          "2023-10-09T00:00:00.000000000",
          "2023-10-10T00:00:00.000000000",
          "2023-10-11T00:00:00.000000000",
          "2023-10-12T00:00:00.000000000",
          "2023-10-13T00:00:00.000000000",
          "2023-10-16T00:00:00.000000000",
          "2023-10-17T00:00:00.000000000",
          "2023-10-18T00:00:00.000000000",
          "2023-10-19T00:00:00.000000000",
          "2023-10-20T00:00:00.000000000",
          "2023-10-23T00:00:00.000000000",
          "2023-10-24T00:00:00.000000000",
          "2023-10-25T00:00:00.000000000",
          "2023-10-26T00:00:00.000000000",
          "2023-10-27T00:00:00.000000000",
          "2023-10-30T00:00:00.000000000",
          "2023-10-31T00:00:00.000000000",
          "2023-11-01T00:00:00.000000000",
          "2023-11-02T00:00:00.000000000",
          "2023-11-03T00:00:00.000000000",
          "2023-11-06T00:00:00.000000000",
          "2023-11-07T00:00:00.000000000",
          "2023-11-08T00:00:00.000000000",
          "2023-11-09T00:00:00.000000000",
          "2023-11-10T00:00:00.000000000",
          "2023-11-13T00:00:00.000000000",
          "2023-11-14T00:00:00.000000000",
          "2023-11-15T00:00:00.000000000",
          "2023-11-16T00:00:00.000000000",
          "2023-11-17T00:00:00.000000000",
          "2023-11-20T00:00:00.000000000",
          "2023-11-21T00:00:00.000000000",
          "2023-11-22T00:00:00.000000000",
          "2023-11-23T00:00:00.000000000",
          "2023-11-24T00:00:00.000000000",
          "2023-11-27T00:00:00.000000000",
          "2023-11-28T00:00:00.000000000",
          "2023-11-29T00:00:00.000000000",
          "2023-11-30T00:00:00.000000000",
          "2023-12-01T00:00:00.000000000",
          "2023-12-04T00:00:00.000000000",
          "2023-12-05T00:00:00.000000000",
          "2023-12-06T00:00:00.000000000",
          "2023-12-07T00:00:00.000000000",
          "2023-12-08T00:00:00.000000000",
          "2023-12-11T00:00:00.000000000",
          "2023-12-12T00:00:00.000000000",
          "2023-12-13T00:00:00.000000000",
          "2023-12-14T00:00:00.000000000",
          "2023-12-15T00:00:00.000000000",
          "2023-12-18T00:00:00.000000000",
          "2023-12-19T00:00:00.000000000",
          "2023-12-20T00:00:00.000000000",
          "2023-12-21T00:00:00.000000000",
          "2023-12-22T00:00:00.000000000",
          "2023-12-25T00:00:00.000000000",
          "2023-12-26T00:00:00.000000000",
          "2023-12-27T00:00:00.000000000",
          "2023-12-28T00:00:00.000000000",
          "2023-12-29T00:00:00.000000000",
          "2024-01-02T00:00:00.000000000",
          "2024-01-03T00:00:00.000000000",
          "2024-01-04T00:00:00.000000000",
          "2024-01-05T00:00:00.000000000",
          "2024-01-08T00:00:00.000000000",
          "2024-01-09T00:00:00.000000000",
          "2024-01-10T00:00:00.000000000",
          "2024-01-11T00:00:00.000000000",
          "2024-01-12T00:00:00.000000000",
          "2024-01-15T00:00:00.000000000",
          "2024-01-16T00:00:00.000000000",
          "2024-01-17T00:00:00.000000000",
          "2024-01-18T00:00:00.000000000",
          "2024-01-19T00:00:00.000000000",
          "2024-01-22T00:00:00.000000000",
          "2024-01-23T00:00:00.000000000",
          "2024-01-24T00:00:00.000000000",
          "2024-01-25T00:00:00.000000000",
          "2024-01-26T00:00:00.000000000",
          "2024-01-29T00:00:00.000000000",
          "2024-01-30T00:00:00.000000000",
          "2024-01-31T00:00:00.000000000",
          "2024-02-01T00:00:00.000000000",
          "2024-02-02T00:00:00.000000000",
          "2024-02-05T00:00:00.000000000",
          "2024-02-06T00:00:00.000000000",
          "2024-02-07T00:00:00.000000000",
          "2024-02-15T00:00:00.000000000",
          "2024-02-16T00:00:00.000000000",
          "2024-02-19T00:00:00.000000000",
          "2024-02-20T00:00:00.000000000",
          "2024-02-21T00:00:00.000000000",
          "2024-02-22T00:00:00.000000000",
          "2024-02-23T00:00:00.000000000",
          "2024-02-26T00:00:00.000000000",
          "2024-02-27T00:00:00.000000000",
          "2024-02-28T00:00:00.000000000",
          "2024-02-29T00:00:00.000000000",
          "2024-03-01T00:00:00.000000000",
          "2024-03-04T00:00:00.000000000",
          "2024-03-05T00:00:00.000000000",
          "2024-03-06T00:00:00.000000000",
          "2024-03-07T00:00:00.000000000",
          "2024-03-08T00:00:00.000000000",
          "2024-03-11T00:00:00.000000000",
          "2024-03-12T00:00:00.000000000",
          "2024-03-13T00:00:00.000000000",
          "2024-03-14T00:00:00.000000000",
          "2024-03-15T00:00:00.000000000",
          "2024-03-18T00:00:00.000000000",
          "2024-03-19T00:00:00.000000000",
          "2024-03-20T00:00:00.000000000",
          "2024-03-21T00:00:00.000000000",
          "2024-03-22T00:00:00.000000000",
          "2024-03-25T00:00:00.000000000",
          "2024-03-26T00:00:00.000000000",
          "2024-03-27T00:00:00.000000000",
          "2024-03-28T00:00:00.000000000",
          "2024-03-29T00:00:00.000000000",
          "2024-04-01T00:00:00.000000000",
          "2024-04-02T00:00:00.000000000",
          "2024-04-03T00:00:00.000000000",
          "2024-04-04T00:00:00.000000000",
          "2024-04-05T00:00:00.000000000",
          "2024-04-08T00:00:00.000000000",
          "2024-04-09T00:00:00.000000000",
          "2024-04-10T00:00:00.000000000",
          "2024-04-11T00:00:00.000000000",
          "2024-04-12T00:00:00.000000000",
          "2024-04-15T00:00:00.000000000",
          "2024-04-16T00:00:00.000000000",
          "2024-04-17T00:00:00.000000000",
          "2024-04-19T00:00:00.000000000",
          "2024-04-22T00:00:00.000000000",
          "2024-04-23T00:00:00.000000000",
          "2024-04-24T00:00:00.000000000",
          "2024-04-25T00:00:00.000000000",
          "2024-04-26T00:00:00.000000000",
          "2024-05-02T00:00:00.000000000",
          "2024-05-03T00:00:00.000000000",
          "2024-05-06T00:00:00.000000000",
          "2024-05-07T00:00:00.000000000",
          "2024-05-08T00:00:00.000000000",
          "2024-05-09T00:00:00.000000000",
          "2024-05-10T00:00:00.000000000",
          "2024-05-13T00:00:00.000000000",
          "2024-05-14T00:00:00.000000000",
          "2024-05-15T00:00:00.000000000",
          "2024-05-16T00:00:00.000000000",
          "2024-05-17T00:00:00.000000000",
          "2024-05-20T00:00:00.000000000",
          "2024-05-21T00:00:00.000000000",
          "2024-05-22T00:00:00.000000000",
          "2024-05-23T00:00:00.000000000",
          "2024-05-24T00:00:00.000000000",
          "2024-05-27T00:00:00.000000000",
          "2024-05-28T00:00:00.000000000",
          "2024-05-29T00:00:00.000000000",
          "2024-05-30T00:00:00.000000000",
          "2024-05-31T00:00:00.000000000",
          "2024-06-03T00:00:00.000000000",
          "2024-06-04T00:00:00.000000000",
          "2024-06-05T00:00:00.000000000",
          "2024-06-06T00:00:00.000000000",
          "2024-06-07T00:00:00.000000000",
          "2024-06-10T00:00:00.000000000",
          "2024-06-11T00:00:00.000000000",
          "2024-06-12T00:00:00.000000000",
          "2024-06-13T00:00:00.000000000",
          "2024-06-14T00:00:00.000000000",
          "2024-06-17T00:00:00.000000000",
          "2024-06-18T00:00:00.000000000",
          "2024-06-19T00:00:00.000000000",
          "2024-06-20T00:00:00.000000000",
          "2024-06-21T00:00:00.000000000",
          "2024-06-24T00:00:00.000000000",
          "2024-06-25T00:00:00.000000000",
          "2024-06-26T00:00:00.000000000",
          "2024-06-27T00:00:00.000000000",
          "2024-06-28T00:00:00.000000000",
          "2024-07-01T00:00:00.000000000",
          "2024-07-02T00:00:00.000000000",
          "2024-07-03T00:00:00.000000000",
          "2024-07-04T00:00:00.000000000",
          "2024-07-05T00:00:00.000000000",
          "2024-07-08T00:00:00.000000000",
          "2024-07-09T00:00:00.000000000",
          "2024-07-10T00:00:00.000000000",
          "2024-07-11T00:00:00.000000000",
          "2024-07-12T00:00:00.000000000",
          "2024-07-15T00:00:00.000000000",
          "2024-07-16T00:00:00.000000000",
          "2024-07-17T00:00:00.000000000",
          "2024-07-18T00:00:00.000000000",
          "2024-07-19T00:00:00.000000000",
          "2024-07-22T00:00:00.000000000",
          "2024-07-23T00:00:00.000000000",
          "2024-07-24T00:00:00.000000000",
          "2024-07-25T00:00:00.000000000",
          "2024-07-26T00:00:00.000000000",
          "2024-07-29T00:00:00.000000000",
          "2024-07-30T00:00:00.000000000",
          "2024-07-31T00:00:00.000000000",
          "2024-08-01T00:00:00.000000000",
          "2024-08-02T00:00:00.000000000",
          "2024-08-05T00:00:00.000000000",
          "2024-08-06T00:00:00.000000000",
          "2024-08-07T00:00:00.000000000",
          "2024-08-08T00:00:00.000000000",
          "2024-08-09T00:00:00.000000000",
          "2024-08-12T00:00:00.000000000",
          "2024-08-13T00:00:00.000000000",
          "2024-08-14T00:00:00.000000000",
          "2024-08-15T00:00:00.000000000",
          "2024-08-16T00:00:00.000000000",
          "2024-08-19T00:00:00.000000000",
          "2024-08-20T00:00:00.000000000",
          "2024-08-21T00:00:00.000000000",
          "2024-08-22T00:00:00.000000000",
          "2024-08-23T00:00:00.000000000",
          "2024-08-26T00:00:00.000000000",
          "2024-08-27T00:00:00.000000000",
          "2024-08-28T00:00:00.000000000",
          "2024-08-29T00:00:00.000000000",
          "2024-08-30T00:00:00.000000000",
          "2024-09-04T00:00:00.000000000",
          "2024-09-05T00:00:00.000000000",
          "2024-09-06T00:00:00.000000000",
          "2024-09-09T00:00:00.000000000",
          "2024-09-10T00:00:00.000000000",
          "2024-09-11T00:00:00.000000000",
          "2024-09-12T00:00:00.000000000",
          "2024-09-13T00:00:00.000000000",
          "2024-09-16T00:00:00.000000000",
          "2024-09-17T00:00:00.000000000",
          "2024-09-18T00:00:00.000000000",
          "2024-09-19T00:00:00.000000000",
          "2024-09-20T00:00:00.000000000",
          "2024-09-23T00:00:00.000000000",
          "2024-09-24T00:00:00.000000000",
          "2024-09-25T00:00:00.000000000",
          "2024-09-26T00:00:00.000000000",
          "2024-09-27T00:00:00.000000000",
          "2024-09-30T00:00:00.000000000",
          "2024-10-01T00:00:00.000000000",
          "2024-10-02T00:00:00.000000000",
          "2024-10-03T00:00:00.000000000",
          "2024-10-04T00:00:00.000000000",
          "2024-10-07T00:00:00.000000000",
          "2024-10-08T00:00:00.000000000",
          "2024-10-09T00:00:00.000000000",
          "2024-10-10T00:00:00.000000000",
          "2024-10-11T00:00:00.000000000",
          "2024-10-14T00:00:00.000000000",
          "2024-10-15T00:00:00.000000000",
          "2024-10-16T00:00:00.000000000",
          "2024-10-17T00:00:00.000000000",
          "2024-10-18T00:00:00.000000000",
          "2024-10-21T00:00:00.000000000",
          "2024-10-22T00:00:00.000000000",
          "2024-10-23T00:00:00.000000000",
          "2024-10-24T00:00:00.000000000",
          "2024-10-25T00:00:00.000000000",
          "2024-10-28T00:00:00.000000000",
          "2024-10-29T00:00:00.000000000",
          "2024-10-30T00:00:00.000000000",
          "2024-10-31T00:00:00.000000000",
          "2024-11-01T00:00:00.000000000",
          "2024-11-04T00:00:00.000000000",
          "2024-11-05T00:00:00.000000000",
          "2024-11-06T00:00:00.000000000",
          "2024-11-07T00:00:00.000000000",
          "2024-11-08T00:00:00.000000000",
          "2024-11-11T00:00:00.000000000",
          "2024-11-12T00:00:00.000000000",
          "2024-11-13T00:00:00.000000000",
          "2024-11-14T00:00:00.000000000",
          "2024-11-15T00:00:00.000000000",
          "2024-11-18T00:00:00.000000000",
          "2024-11-19T00:00:00.000000000",
          "2024-11-20T00:00:00.000000000",
          "2024-11-21T00:00:00.000000000",
          "2024-11-22T00:00:00.000000000",
          "2024-11-25T00:00:00.000000000",
          "2024-11-26T00:00:00.000000000",
          "2024-11-27T00:00:00.000000000",
          "2024-11-28T00:00:00.000000000",
          "2024-11-29T00:00:00.000000000",
          "2024-12-02T00:00:00.000000000",
          "2024-12-03T00:00:00.000000000",
          "2024-12-04T00:00:00.000000000",
          "2024-12-05T00:00:00.000000000",
          "2024-12-06T00:00:00.000000000",
          "2024-12-09T00:00:00.000000000",
          "2024-12-10T00:00:00.000000000",
          "2024-12-11T00:00:00.000000000",
          "2024-12-12T00:00:00.000000000",
          "2024-12-13T00:00:00.000000000",
          "2024-12-16T00:00:00.000000000",
          "2024-12-17T00:00:00.000000000",
          "2024-12-18T00:00:00.000000000",
          "2024-12-19T00:00:00.000000000",
          "2024-12-20T00:00:00.000000000",
          "2024-12-23T00:00:00.000000000",
          "2024-12-24T00:00:00.000000000",
          "2024-12-25T00:00:00.000000000",
          "2024-12-26T00:00:00.000000000",
          "2024-12-27T00:00:00.000000000",
          "2024-12-30T00:00:00.000000000",
          "2024-12-31T00:00:00.000000000",
          "2025-01-02T00:00:00.000000000",
          "2025-01-03T00:00:00.000000000",
          "2025-01-06T00:00:00.000000000",
          "2025-01-07T00:00:00.000000000",
          "2025-01-08T00:00:00.000000000",
          "2025-01-09T00:00:00.000000000",
          "2025-01-10T00:00:00.000000000",
          "2025-01-13T00:00:00.000000000",
          "2025-01-14T00:00:00.000000000",
          "2025-01-15T00:00:00.000000000",
          "2025-01-16T00:00:00.000000000",
          "2025-01-17T00:00:00.000000000",
          "2025-01-20T00:00:00.000000000",
          "2025-01-21T00:00:00.000000000",
          "2025-01-22T00:00:00.000000000",
          "2025-01-23T00:00:00.000000000",
          "2025-01-24T00:00:00.000000000",
          "2025-02-03T00:00:00.000000000",
          "2025-02-04T00:00:00.000000000",
          "2025-02-05T00:00:00.000000000",
          "2025-02-06T00:00:00.000000000",
          "2025-02-07T00:00:00.000000000",
          "2025-02-10T00:00:00.000000000",
          "2025-02-11T00:00:00.000000000",
          "2025-02-12T00:00:00.000000000",
          "2025-02-13T00:00:00.000000000",
          "2025-02-14T00:00:00.000000000",
          "2025-02-17T00:00:00.000000000",
          "2025-02-18T00:00:00.000000000",
          "2025-02-19T00:00:00.000000000",
          "2025-02-20T00:00:00.000000000",
          "2025-02-21T00:00:00.000000000",
          "2025-02-24T00:00:00.000000000",
          "2025-02-25T00:00:00.000000000",
          "2025-02-26T00:00:00.000000000",
          "2025-02-27T00:00:00.000000000",
          "2025-02-28T00:00:00.000000000",
          "2025-03-03T00:00:00.000000000",
          "2025-03-04T00:00:00.000000000",
          "2025-03-05T00:00:00.000000000",
          "2025-03-06T00:00:00.000000000",
          "2025-03-07T00:00:00.000000000",
          "2025-03-10T00:00:00.000000000",
          "2025-03-11T00:00:00.000000000",
          "2025-03-12T00:00:00.000000000",
          "2025-03-13T00:00:00.000000000",
          "2025-03-14T00:00:00.000000000",
          "2025-03-17T00:00:00.000000000",
          "2025-03-18T00:00:00.000000000",
          "2025-03-19T00:00:00.000000000",
          "2025-03-20T00:00:00.000000000",
          "2025-03-21T00:00:00.000000000",
          "2025-03-24T00:00:00.000000000",
          "2025-03-25T00:00:00.000000000",
          "2025-03-26T00:00:00.000000000",
          "2025-03-27T00:00:00.000000000",
          "2025-03-28T00:00:00.000000000",
          "2025-03-31T00:00:00.000000000"
         ],
         "y": {
          "bdata": "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",
          "dtype": "f8"
         }
        },
        {
         "name": "BIDV trade",
         "type": "scatter",
         "x": [
          "2022-01-04T00:00:00.000000000",
          "2022-01-05T00:00:00.000000000",
          "2022-01-06T00:00:00.000000000",
          "2022-01-07T00:00:00.000000000",
          "2022-01-10T00:00:00.000000000",
          "2022-01-11T00:00:00.000000000",
          "2022-01-12T00:00:00.000000000",
          "2022-01-13T00:00:00.000000000",
          "2022-01-14T00:00:00.000000000",
          "2022-01-17T00:00:00.000000000",
          "2022-01-18T00:00:00.000000000",
          "2022-01-19T00:00:00.000000000",
          "2022-01-20T00:00:00.000000000",
          "2022-01-21T00:00:00.000000000",
          "2022-01-24T00:00:00.000000000",
          "2022-01-25T00:00:00.000000000",
          "2022-01-26T00:00:00.000000000",
          "2022-01-27T00:00:00.000000000",
          "2022-01-28T00:00:00.000000000",
          "2022-02-07T00:00:00.000000000",
          "2022-02-08T00:00:00.000000000",
          "2022-02-09T00:00:00.000000000",
          "2022-02-10T00:00:00.000000000",
          "2022-02-11T00:00:00.000000000",
          "2022-02-14T00:00:00.000000000",
          "2022-02-15T00:00:00.000000000",
          "2022-02-16T00:00:00.000000000",
          "2022-02-17T00:00:00.000000000",
          "2022-02-18T00:00:00.000000000",
          "2022-02-21T00:00:00.000000000",
          "2022-02-22T00:00:00.000000000",
          "2022-02-23T00:00:00.000000000",
          "2022-02-24T00:00:00.000000000",
          "2022-02-25T00:00:00.000000000",
          "2022-02-28T00:00:00.000000000",
          "2022-03-01T00:00:00.000000000",
          "2022-03-02T00:00:00.000000000",
          "2022-03-03T00:00:00.000000000",
          "2022-03-04T00:00:00.000000000",
          "2022-03-07T00:00:00.000000000",
          "2022-03-08T00:00:00.000000000",
          "2022-03-09T00:00:00.000000000",
          "2022-03-10T00:00:00.000000000",
          "2022-03-11T00:00:00.000000000",
          "2022-03-14T00:00:00.000000000",
          "2022-03-15T00:00:00.000000000",
          "2022-03-16T00:00:00.000000000",
          "2022-03-17T00:00:00.000000000",
          "2022-03-18T00:00:00.000000000",
          "2022-03-21T00:00:00.000000000",
          "2022-03-22T00:00:00.000000000",
          "2022-03-23T00:00:00.000000000",
          "2022-03-24T00:00:00.000000000",
          "2022-03-25T00:00:00.000000000",
          "2022-03-28T00:00:00.000000000",
          "2022-03-29T00:00:00.000000000",
          "2022-03-30T00:00:00.000000000",
          "2022-03-31T00:00:00.000000000",
          "2022-04-01T00:00:00.000000000",
          "2022-04-04T00:00:00.000000000",
          "2022-04-05T00:00:00.000000000",
          "2022-04-06T00:00:00.000000000",
          "2022-04-07T00:00:00.000000000",
          "2022-04-08T00:00:00.000000000",
          "2022-04-12T00:00:00.000000000",
          "2022-04-13T00:00:00.000000000",
          "2022-04-14T00:00:00.000000000",
          "2022-04-15T00:00:00.000000000",
          "2022-04-18T00:00:00.000000000",
          "2022-04-19T00:00:00.000000000",
          "2022-04-20T00:00:00.000000000",
          "2022-04-21T00:00:00.000000000",
          "2022-04-22T00:00:00.000000000",
          "2022-04-25T00:00:00.000000000",
          "2022-04-26T00:00:00.000000000",
          "2022-04-27T00:00:00.000000000",
          "2022-04-28T00:00:00.000000000",
          "2022-04-29T00:00:00.000000000",
          "2022-05-04T00:00:00.000000000",
          "2022-05-05T00:00:00.000000000",
          "2022-05-06T00:00:00.000000000",
          "2022-05-09T00:00:00.000000000",
          "2022-05-10T00:00:00.000000000",
          "2022-05-11T00:00:00.000000000",
          "2022-05-12T00:00:00.000000000",
          "2022-05-13T00:00:00.000000000",
          "2022-05-16T00:00:00.000000000",
          "2022-05-17T00:00:00.000000000",
          "2022-05-18T00:00:00.000000000",
          "2022-05-19T00:00:00.000000000",
          "2022-05-20T00:00:00.000000000",
          "2022-05-23T00:00:00.000000000",
          "2022-05-24T00:00:00.000000000",
          "2022-05-25T00:00:00.000000000",
          "2022-05-26T00:00:00.000000000",
          "2022-05-27T00:00:00.000000000",
          "2022-05-30T00:00:00.000000000",
          "2022-05-31T00:00:00.000000000",
          "2022-06-01T00:00:00.000000000",
          "2022-06-02T00:00:00.000000000",
          "2022-06-03T00:00:00.000000000",
          "2022-06-06T00:00:00.000000000",
          "2022-06-07T00:00:00.000000000",
          "2022-06-08T00:00:00.000000000",
          "2022-06-09T00:00:00.000000000",
          "2022-06-10T00:00:00.000000000",
          "2022-06-13T00:00:00.000000000",
          "2022-06-14T00:00:00.000000000",
          "2022-06-15T00:00:00.000000000",
          "2022-06-16T00:00:00.000000000",
          "2022-06-17T00:00:00.000000000",
          "2022-06-20T00:00:00.000000000",
          "2022-06-21T00:00:00.000000000",
          "2022-06-22T00:00:00.000000000",
          "2022-06-23T00:00:00.000000000",
          "2022-06-24T00:00:00.000000000",
          "2022-06-27T00:00:00.000000000",
          "2022-06-28T00:00:00.000000000",
          "2022-06-29T00:00:00.000000000",
          "2022-06-30T00:00:00.000000000",
          "2022-07-01T00:00:00.000000000",
          "2022-07-04T00:00:00.000000000",
          "2022-07-05T00:00:00.000000000",
          "2022-07-06T00:00:00.000000000",
          "2022-07-07T00:00:00.000000000",
          "2022-07-08T00:00:00.000000000",
          "2022-07-11T00:00:00.000000000",
          "2022-07-12T00:00:00.000000000",
          "2022-07-13T00:00:00.000000000",
          "2022-07-14T00:00:00.000000000",
          "2022-07-15T00:00:00.000000000",
          "2022-07-18T00:00:00.000000000",
          "2022-07-19T00:00:00.000000000",
          "2022-07-20T00:00:00.000000000",
          "2022-07-21T00:00:00.000000000",
          "2022-07-22T00:00:00.000000000",
          "2022-07-25T00:00:00.000000000",
          "2022-07-26T00:00:00.000000000",
          "2022-07-27T00:00:00.000000000",
          "2022-07-28T00:00:00.000000000",
          "2022-07-29T00:00:00.000000000",
          "2022-08-01T00:00:00.000000000",
          "2022-08-02T00:00:00.000000000",
          "2022-08-03T00:00:00.000000000",
          "2022-08-04T00:00:00.000000000",
          "2022-08-05T00:00:00.000000000",
          "2022-08-08T00:00:00.000000000",
          "2022-08-09T00:00:00.000000000",
          "2022-08-10T00:00:00.000000000",
          "2022-08-11T00:00:00.000000000",
          "2022-08-12T00:00:00.000000000",
          "2022-08-15T00:00:00.000000000",
          "2022-08-16T00:00:00.000000000",
          "2022-08-17T00:00:00.000000000",
          "2022-08-18T00:00:00.000000000",
          "2022-08-19T00:00:00.000000000",
          "2022-08-22T00:00:00.000000000",
          "2022-08-23T00:00:00.000000000",
          "2022-08-24T00:00:00.000000000",
          "2022-08-25T00:00:00.000000000",
          "2022-08-26T00:00:00.000000000",
          "2022-08-29T00:00:00.000000000",
          "2022-08-30T00:00:00.000000000",
          "2022-08-31T00:00:00.000000000",
          "2022-09-05T00:00:00.000000000",
          "2022-09-06T00:00:00.000000000",
          "2022-09-07T00:00:00.000000000",
          "2022-09-08T00:00:00.000000000",
          "2022-09-09T00:00:00.000000000",
          "2022-09-12T00:00:00.000000000",
          "2022-09-13T00:00:00.000000000",
          "2022-09-14T00:00:00.000000000",
          "2022-09-15T00:00:00.000000000",
          "2022-09-16T00:00:00.000000000",
          "2022-09-19T00:00:00.000000000",
          "2022-09-20T00:00:00.000000000",
          "2022-09-21T00:00:00.000000000",
          "2022-09-22T00:00:00.000000000",
          "2022-09-23T00:00:00.000000000",
          "2022-09-26T00:00:00.000000000",
          "2022-09-27T00:00:00.000000000",
          "2022-09-28T00:00:00.000000000",
          "2022-09-29T00:00:00.000000000",
          "2022-09-30T00:00:00.000000000",
          "2022-10-03T00:00:00.000000000",
          "2022-10-04T00:00:00.000000000",
          "2022-10-05T00:00:00.000000000",
          "2022-10-06T00:00:00.000000000",
          "2022-10-07T00:00:00.000000000",
          "2022-10-10T00:00:00.000000000",
          "2022-10-11T00:00:00.000000000",
          "2022-10-12T00:00:00.000000000",
          "2022-10-13T00:00:00.000000000",
          "2022-10-14T00:00:00.000000000",
          "2022-10-17T00:00:00.000000000",
          "2022-10-18T00:00:00.000000000",
          "2022-10-19T00:00:00.000000000",
          "2022-10-20T00:00:00.000000000",
          "2022-10-21T00:00:00.000000000",
          "2022-10-24T00:00:00.000000000",
          "2022-10-25T00:00:00.000000000",
          "2022-10-26T00:00:00.000000000",
          "2022-10-27T00:00:00.000000000",
          "2022-10-28T00:00:00.000000000",
          "2022-10-31T00:00:00.000000000",
          "2022-11-01T00:00:00.000000000",
          "2022-11-02T00:00:00.000000000",
          "2022-11-03T00:00:00.000000000",
          "2022-11-04T00:00:00.000000000",
          "2022-11-07T00:00:00.000000000",
          "2022-11-08T00:00:00.000000000",
          "2022-11-09T00:00:00.000000000",
          "2022-11-10T00:00:00.000000000",
          "2022-11-11T00:00:00.000000000",
          "2022-11-14T00:00:00.000000000",
          "2022-11-15T00:00:00.000000000",
          "2022-11-16T00:00:00.000000000",
          "2022-11-17T00:00:00.000000000",
          "2022-11-18T00:00:00.000000000",
          "2022-11-21T00:00:00.000000000",
          "2022-11-22T00:00:00.000000000",
          "2022-11-23T00:00:00.000000000",
          "2022-11-24T00:00:00.000000000",
          "2022-11-25T00:00:00.000000000",
          "2022-11-28T00:00:00.000000000",
          "2022-11-29T00:00:00.000000000",
          "2022-11-30T00:00:00.000000000",
          "2022-12-01T00:00:00.000000000",
          "2022-12-02T00:00:00.000000000",
          "2022-12-05T00:00:00.000000000",
          "2022-12-06T00:00:00.000000000",
          "2022-12-07T00:00:00.000000000",
          "2022-12-08T00:00:00.000000000",
          "2022-12-09T00:00:00.000000000",
          "2022-12-12T00:00:00.000000000",
          "2022-12-13T00:00:00.000000000",
          "2022-12-14T00:00:00.000000000",
          "2022-12-15T00:00:00.000000000",
          "2022-12-16T00:00:00.000000000",
          "2022-12-19T00:00:00.000000000",
          "2022-12-20T00:00:00.000000000",
          "2022-12-21T00:00:00.000000000",
          "2022-12-22T00:00:00.000000000",
          "2022-12-23T00:00:00.000000000",
          "2022-12-26T00:00:00.000000000",
          "2022-12-27T00:00:00.000000000",
          "2022-12-28T00:00:00.000000000",
          "2022-12-29T00:00:00.000000000",
          "2022-12-30T00:00:00.000000000",
          "2023-01-03T00:00:00.000000000",
          "2023-01-04T00:00:00.000000000",
          "2023-01-05T00:00:00.000000000",
          "2023-01-06T00:00:00.000000000",
          "2023-01-09T00:00:00.000000000",
          "2023-01-10T00:00:00.000000000",
          "2023-01-11T00:00:00.000000000",
          "2023-01-12T00:00:00.000000000",
          "2023-01-13T00:00:00.000000000",
          "2023-01-16T00:00:00.000000000",
          "2023-01-17T00:00:00.000000000",
          "2023-01-18T00:00:00.000000000",
          "2023-01-19T00:00:00.000000000",
          "2023-01-27T00:00:00.000000000",
          "2023-01-30T00:00:00.000000000",
          "2023-01-31T00:00:00.000000000",
          "2023-02-01T00:00:00.000000000",
          "2023-02-02T00:00:00.000000000",
          "2023-02-03T00:00:00.000000000",
          "2023-02-06T00:00:00.000000000",
          "2023-02-07T00:00:00.000000000",
          "2023-02-08T00:00:00.000000000",
          "2023-02-09T00:00:00.000000000",
          "2023-02-10T00:00:00.000000000",
          "2023-02-13T00:00:00.000000000",
          "2023-02-14T00:00:00.000000000",
          "2023-02-15T00:00:00.000000000",
          "2023-02-16T00:00:00.000000000",
          "2023-02-17T00:00:00.000000000",
          "2023-02-20T00:00:00.000000000",
          "2023-02-21T00:00:00.000000000",
          "2023-02-22T00:00:00.000000000",
          "2023-02-23T00:00:00.000000000",
          "2023-02-24T00:00:00.000000000",
          "2023-02-27T00:00:00.000000000",
          "2023-02-28T00:00:00.000000000",
          "2023-03-01T00:00:00.000000000",
          "2023-03-02T00:00:00.000000000",
          "2023-03-03T00:00:00.000000000",
          "2023-03-06T00:00:00.000000000",
          "2023-03-07T00:00:00.000000000",
          "2023-03-08T00:00:00.000000000",
          "2023-03-09T00:00:00.000000000",
          "2023-03-10T00:00:00.000000000",
          "2023-03-13T00:00:00.000000000",
          "2023-03-14T00:00:00.000000000",
          "2023-03-15T00:00:00.000000000",
          "2023-03-16T00:00:00.000000000",
          "2023-03-17T00:00:00.000000000",
          "2023-03-20T00:00:00.000000000",
          "2023-03-21T00:00:00.000000000",
          "2023-03-22T00:00:00.000000000",
          "2023-03-23T00:00:00.000000000",
          "2023-03-24T00:00:00.000000000",
          "2023-03-27T00:00:00.000000000",
          "2023-03-28T00:00:00.000000000",
          "2023-03-29T00:00:00.000000000",
          "2023-03-30T00:00:00.000000000",
          "2023-03-31T00:00:00.000000000",
          "2023-04-03T00:00:00.000000000",
          "2023-04-04T00:00:00.000000000",
          "2023-04-05T00:00:00.000000000",
          "2023-04-06T00:00:00.000000000",
          "2023-04-07T00:00:00.000000000",
          "2023-04-10T00:00:00.000000000",
          "2023-04-11T00:00:00.000000000",
          "2023-04-12T00:00:00.000000000",
          "2023-04-13T00:00:00.000000000",
          "2023-04-14T00:00:00.000000000",
          "2023-04-17T00:00:00.000000000",
          "2023-04-18T00:00:00.000000000",
          "2023-04-19T00:00:00.000000000",
          "2023-04-20T00:00:00.000000000",
          "2023-04-21T00:00:00.000000000",
          "2023-04-24T00:00:00.000000000",
          "2023-04-25T00:00:00.000000000",
          "2023-04-26T00:00:00.000000000",
          "2023-04-27T00:00:00.000000000",
          "2023-04-28T00:00:00.000000000",
          "2023-05-04T00:00:00.000000000",
          "2023-05-05T00:00:00.000000000",
          "2023-05-08T00:00:00.000000000",
          "2023-05-09T00:00:00.000000000",
          "2023-05-10T00:00:00.000000000",
          "2023-05-11T00:00:00.000000000",
          "2023-05-12T00:00:00.000000000",
          "2023-05-15T00:00:00.000000000",
          "2023-05-16T00:00:00.000000000",
          "2023-05-17T00:00:00.000000000",
          "2023-05-18T00:00:00.000000000",
          "2023-05-19T00:00:00.000000000",
          "2023-05-22T00:00:00.000000000",
          "2023-05-23T00:00:00.000000000",
          "2023-05-24T00:00:00.000000000",
          "2023-05-25T00:00:00.000000000",
          "2023-05-26T00:00:00.000000000",
          "2023-05-29T00:00:00.000000000",
          "2023-05-30T00:00:00.000000000",
          "2023-05-31T00:00:00.000000000",
          "2023-06-01T00:00:00.000000000",
          "2023-06-02T00:00:00.000000000",
          "2023-06-05T00:00:00.000000000",
          "2023-06-06T00:00:00.000000000",
          "2023-06-07T00:00:00.000000000",
          "2023-06-08T00:00:00.000000000",
          "2023-06-09T00:00:00.000000000",
          "2023-06-12T00:00:00.000000000",
          "2023-06-13T00:00:00.000000000",
          "2023-06-14T00:00:00.000000000",
          "2023-06-15T00:00:00.000000000",
          "2023-06-16T00:00:00.000000000",
          "2023-06-19T00:00:00.000000000",
          "2023-06-20T00:00:00.000000000",
          "2023-06-21T00:00:00.000000000",
          "2023-06-22T00:00:00.000000000",
          "2023-06-23T00:00:00.000000000",
          "2023-06-26T00:00:00.000000000",
          "2023-06-27T00:00:00.000000000",
          "2023-06-28T00:00:00.000000000",
          "2023-06-29T00:00:00.000000000",
          "2023-06-30T00:00:00.000000000",
          "2023-07-03T00:00:00.000000000",
          "2023-07-04T00:00:00.000000000",
          "2023-07-05T00:00:00.000000000",
          "2023-07-06T00:00:00.000000000",
          "2023-07-07T00:00:00.000000000",
          "2023-07-10T00:00:00.000000000",
          "2023-07-11T00:00:00.000000000",
          "2023-07-12T00:00:00.000000000",
          "2023-07-13T00:00:00.000000000",
          "2023-07-14T00:00:00.000000000",
          "2023-07-17T00:00:00.000000000",
          "2023-07-18T00:00:00.000000000",
          "2023-07-19T00:00:00.000000000",
          "2023-07-20T00:00:00.000000000",
          "2023-07-21T00:00:00.000000000",
          "2023-07-24T00:00:00.000000000",
          "2023-07-25T00:00:00.000000000",
          "2023-07-26T00:00:00.000000000",
          "2023-07-27T00:00:00.000000000",
          "2023-07-28T00:00:00.000000000",
          "2023-07-31T00:00:00.000000000",
          "2023-08-01T00:00:00.000000000",
          "2023-08-02T00:00:00.000000000",
          "2023-08-03T00:00:00.000000000",
          "2023-08-04T00:00:00.000000000",
          "2023-08-07T00:00:00.000000000",
          "2023-08-08T00:00:00.000000000",
          "2023-08-09T00:00:00.000000000",
          "2023-08-10T00:00:00.000000000",
          "2023-08-11T00:00:00.000000000",
          "2023-08-14T00:00:00.000000000",
          "2023-08-15T00:00:00.000000000",
          "2023-08-16T00:00:00.000000000",
          "2023-08-17T00:00:00.000000000",
          "2023-08-18T00:00:00.000000000",
          "2023-08-21T00:00:00.000000000",
          "2023-08-22T00:00:00.000000000",
          "2023-08-23T00:00:00.000000000",
          "2023-08-24T00:00:00.000000000",
          "2023-08-25T00:00:00.000000000",
          "2023-08-28T00:00:00.000000000",
          "2023-08-29T00:00:00.000000000",
          "2023-08-30T00:00:00.000000000",
          "2023-08-31T00:00:00.000000000",
          "2023-09-05T00:00:00.000000000",
          "2023-09-06T00:00:00.000000000",
          "2023-09-07T00:00:00.000000000",
          "2023-09-08T00:00:00.000000000",
          "2023-09-11T00:00:00.000000000",
          "2023-09-12T00:00:00.000000000",
          "2023-09-13T00:00:00.000000000",
          "2023-09-14T00:00:00.000000000",
          "2023-09-15T00:00:00.000000000",
          "2023-09-18T00:00:00.000000000",
          "2023-09-19T00:00:00.000000000",
          "2023-09-20T00:00:00.000000000",
          "2023-09-21T00:00:00.000000000",
          "2023-09-22T00:00:00.000000000",
          "2023-09-25T00:00:00.000000000",
          "2023-09-26T00:00:00.000000000",
          "2023-09-27T00:00:00.000000000",
          "2023-09-28T00:00:00.000000000",
          "2023-09-29T00:00:00.000000000",
          "2023-10-02T00:00:00.000000000",
          "2023-10-03T00:00:00.000000000",
          "2023-10-04T00:00:00.000000000",
          "2023-10-05T00:00:00.000000000",
          "2023-10-06T00:00:00.000000000",
          "2023-10-09T00:00:00.000000000",
          "2023-10-10T00:00:00.000000000",
          "2023-10-11T00:00:00.000000000",
          "2023-10-12T00:00:00.000000000",
          "2023-10-13T00:00:00.000000000",
          "2023-10-16T00:00:00.000000000",
          "2023-10-17T00:00:00.000000000",
          "2023-10-18T00:00:00.000000000",
          "2023-10-19T00:00:00.000000000",
          "2023-10-20T00:00:00.000000000",
          "2023-10-23T00:00:00.000000000",
          "2023-10-24T00:00:00.000000000",
          "2023-10-25T00:00:00.000000000",
          "2023-10-26T00:00:00.000000000",
          "2023-10-27T00:00:00.000000000",
          "2023-10-30T00:00:00.000000000",
          "2023-10-31T00:00:00.000000000",
          "2023-11-01T00:00:00.000000000",
          "2023-11-02T00:00:00.000000000",
          "2023-11-03T00:00:00.000000000",
          "2023-11-06T00:00:00.000000000",
          "2023-11-07T00:00:00.000000000",
          "2023-11-08T00:00:00.000000000",
          "2023-11-09T00:00:00.000000000",
          "2023-11-10T00:00:00.000000000",
          "2023-11-13T00:00:00.000000000",
          "2023-11-14T00:00:00.000000000",
          "2023-11-15T00:00:00.000000000",
          "2023-11-16T00:00:00.000000000",
          "2023-11-17T00:00:00.000000000",
          "2023-11-20T00:00:00.000000000",
          "2023-11-21T00:00:00.000000000",
          "2023-11-22T00:00:00.000000000",
          "2023-11-23T00:00:00.000000000",
          "2023-11-24T00:00:00.000000000",
          "2023-11-27T00:00:00.000000000",
          "2023-11-28T00:00:00.000000000",
          "2023-11-29T00:00:00.000000000",
          "2023-11-30T00:00:00.000000000",
          "2023-12-01T00:00:00.000000000",
          "2023-12-04T00:00:00.000000000",
          "2023-12-05T00:00:00.000000000",
          "2023-12-06T00:00:00.000000000",
          "2023-12-07T00:00:00.000000000",
          "2023-12-08T00:00:00.000000000",
          "2023-12-11T00:00:00.000000000",
          "2023-12-12T00:00:00.000000000",
          "2023-12-13T00:00:00.000000000",
          "2023-12-14T00:00:00.000000000",
          "2023-12-15T00:00:00.000000000",
          "2023-12-18T00:00:00.000000000",
          "2023-12-19T00:00:00.000000000",
          "2023-12-20T00:00:00.000000000",
          "2023-12-21T00:00:00.000000000",
          "2023-12-22T00:00:00.000000000",
          "2023-12-25T00:00:00.000000000",
          "2023-12-26T00:00:00.000000000",
          "2023-12-27T00:00:00.000000000",
          "2023-12-28T00:00:00.000000000",
          "2023-12-29T00:00:00.000000000",
          "2024-01-02T00:00:00.000000000",
          "2024-01-03T00:00:00.000000000",
          "2024-01-04T00:00:00.000000000",
          "2024-01-05T00:00:00.000000000",
          "2024-01-08T00:00:00.000000000",
          "2024-01-09T00:00:00.000000000",
          "2024-01-10T00:00:00.000000000",
          "2024-01-11T00:00:00.000000000",
          "2024-01-12T00:00:00.000000000",
          "2024-01-15T00:00:00.000000000",
          "2024-01-16T00:00:00.000000000",
          "2024-01-17T00:00:00.000000000",
          "2024-01-18T00:00:00.000000000",
          "2024-01-19T00:00:00.000000000",
          "2024-01-22T00:00:00.000000000",
          "2024-01-23T00:00:00.000000000",
          "2024-01-24T00:00:00.000000000",
          "2024-01-25T00:00:00.000000000",
          "2024-01-26T00:00:00.000000000",
          "2024-01-29T00:00:00.000000000",
          "2024-01-30T00:00:00.000000000",
          "2024-01-31T00:00:00.000000000",
          "2024-02-01T00:00:00.000000000",
          "2024-02-02T00:00:00.000000000",
          "2024-02-05T00:00:00.000000000",
          "2024-02-06T00:00:00.000000000",
          "2024-02-07T00:00:00.000000000",
          "2024-02-15T00:00:00.000000000",
          "2024-02-16T00:00:00.000000000",
          "2024-02-19T00:00:00.000000000",
          "2024-02-20T00:00:00.000000000",
          "2024-02-21T00:00:00.000000000",
          "2024-02-22T00:00:00.000000000",
          "2024-02-23T00:00:00.000000000",
          "2024-02-26T00:00:00.000000000",
          "2024-02-27T00:00:00.000000000",
          "2024-02-28T00:00:00.000000000",
          "2024-02-29T00:00:00.000000000",
          "2024-03-01T00:00:00.000000000",
          "2024-03-04T00:00:00.000000000",
          "2024-03-05T00:00:00.000000000",
          "2024-03-06T00:00:00.000000000",
          "2024-03-07T00:00:00.000000000",
          "2024-03-08T00:00:00.000000000",
          "2024-03-11T00:00:00.000000000",
          "2024-03-12T00:00:00.000000000",
          "2024-03-13T00:00:00.000000000",
          "2024-03-14T00:00:00.000000000",
          "2024-03-15T00:00:00.000000000",
          "2024-03-18T00:00:00.000000000",
          "2024-03-19T00:00:00.000000000",
          "2024-03-20T00:00:00.000000000",
          "2024-03-21T00:00:00.000000000",
          "2024-03-22T00:00:00.000000000",
          "2024-03-25T00:00:00.000000000",
          "2024-03-26T00:00:00.000000000",
          "2024-03-27T00:00:00.000000000",
          "2024-03-28T00:00:00.000000000",
          "2024-03-29T00:00:00.000000000",
          "2024-04-01T00:00:00.000000000",
          "2024-04-02T00:00:00.000000000",
          "2024-04-03T00:00:00.000000000",
          "2024-04-04T00:00:00.000000000",
          "2024-04-05T00:00:00.000000000",
          "2024-04-08T00:00:00.000000000",
          "2024-04-09T00:00:00.000000000",
          "2024-04-10T00:00:00.000000000",
          "2024-04-11T00:00:00.000000000",
          "2024-04-12T00:00:00.000000000",
          "2024-04-15T00:00:00.000000000",
          "2024-04-16T00:00:00.000000000",
          "2024-04-17T00:00:00.000000000",
          "2024-04-19T00:00:00.000000000",
          "2024-04-22T00:00:00.000000000",
          "2024-04-23T00:00:00.000000000",
          "2024-04-24T00:00:00.000000000",
          "2024-04-25T00:00:00.000000000",
          "2024-04-26T00:00:00.000000000",
          "2024-05-02T00:00:00.000000000",
          "2024-05-03T00:00:00.000000000",
          "2024-05-06T00:00:00.000000000",
          "2024-05-07T00:00:00.000000000",
          "2024-05-08T00:00:00.000000000",
          "2024-05-09T00:00:00.000000000",
          "2024-05-10T00:00:00.000000000",
          "2024-05-13T00:00:00.000000000",
          "2024-05-14T00:00:00.000000000",
          "2024-05-15T00:00:00.000000000",
          "2024-05-16T00:00:00.000000000",
          "2024-05-17T00:00:00.000000000",
          "2024-05-20T00:00:00.000000000",
          "2024-05-21T00:00:00.000000000",
          "2024-05-22T00:00:00.000000000",
          "2024-05-23T00:00:00.000000000",
          "2024-05-24T00:00:00.000000000",
          "2024-05-27T00:00:00.000000000",
          "2024-05-28T00:00:00.000000000",
          "2024-05-29T00:00:00.000000000",
          "2024-05-30T00:00:00.000000000",
          "2024-05-31T00:00:00.000000000",
          "2024-06-03T00:00:00.000000000",
          "2024-06-04T00:00:00.000000000",
          "2024-06-05T00:00:00.000000000",
          "2024-06-06T00:00:00.000000000",
          "2024-06-07T00:00:00.000000000",
          "2024-06-10T00:00:00.000000000",
          "2024-06-11T00:00:00.000000000",
          "2024-06-12T00:00:00.000000000",
          "2024-06-13T00:00:00.000000000",
          "2024-06-14T00:00:00.000000000",
          "2024-06-17T00:00:00.000000000",
          "2024-06-18T00:00:00.000000000",
          "2024-06-19T00:00:00.000000000",
          "2024-06-20T00:00:00.000000000",
          "2024-06-21T00:00:00.000000000",
          "2024-06-24T00:00:00.000000000",
          "2024-06-25T00:00:00.000000000",
          "2024-06-26T00:00:00.000000000",
          "2024-06-27T00:00:00.000000000",
          "2024-06-28T00:00:00.000000000",
          "2024-07-01T00:00:00.000000000",
          "2024-07-02T00:00:00.000000000",
          "2024-07-03T00:00:00.000000000",
          "2024-07-04T00:00:00.000000000",
          "2024-07-05T00:00:00.000000000",
          "2024-07-08T00:00:00.000000000",
          "2024-07-09T00:00:00.000000000",
          "2024-07-10T00:00:00.000000000",
          "2024-07-11T00:00:00.000000000",
          "2024-07-12T00:00:00.000000000",
          "2024-07-15T00:00:00.000000000",
          "2024-07-16T00:00:00.000000000",
          "2024-07-17T00:00:00.000000000",
          "2024-07-18T00:00:00.000000000",
          "2024-07-19T00:00:00.000000000",
          "2024-07-22T00:00:00.000000000",
          "2024-07-23T00:00:00.000000000",
          "2024-07-24T00:00:00.000000000",
          "2024-07-25T00:00:00.000000000",
          "2024-07-26T00:00:00.000000000",
          "2024-07-29T00:00:00.000000000",
          "2024-07-30T00:00:00.000000000",
          "2024-07-31T00:00:00.000000000",
          "2024-08-01T00:00:00.000000000",
          "2024-08-02T00:00:00.000000000",
          "2024-08-05T00:00:00.000000000",
          "2024-08-06T00:00:00.000000000",
          "2024-08-07T00:00:00.000000000",
          "2024-08-08T00:00:00.000000000",
          "2024-08-09T00:00:00.000000000",
          "2024-08-12T00:00:00.000000000",
          "2024-08-13T00:00:00.000000000",
          "2024-08-14T00:00:00.000000000",
          "2024-08-15T00:00:00.000000000",
          "2024-08-16T00:00:00.000000000",
          "2024-08-19T00:00:00.000000000",
          "2024-08-20T00:00:00.000000000",
          "2024-08-21T00:00:00.000000000",
          "2024-08-22T00:00:00.000000000",
          "2024-08-23T00:00:00.000000000",
          "2024-08-26T00:00:00.000000000",
          "2024-08-27T00:00:00.000000000",
          "2024-08-28T00:00:00.000000000",
          "2024-08-29T00:00:00.000000000",
          "2024-08-30T00:00:00.000000000",
          "2024-09-04T00:00:00.000000000",
          "2024-09-05T00:00:00.000000000",
          "2024-09-06T00:00:00.000000000",
          "2024-09-09T00:00:00.000000000",
          "2024-09-10T00:00:00.000000000",
          "2024-09-11T00:00:00.000000000",
          "2024-09-12T00:00:00.000000000",
          "2024-09-13T00:00:00.000000000",
          "2024-09-16T00:00:00.000000000",
          "2024-09-17T00:00:00.000000000",
          "2024-09-18T00:00:00.000000000",
          "2024-09-19T00:00:00.000000000",
          "2024-09-20T00:00:00.000000000",
          "2024-09-23T00:00:00.000000000",
          "2024-09-24T00:00:00.000000000",
          "2024-09-25T00:00:00.000000000",
          "2024-09-26T00:00:00.000000000",
          "2024-09-27T00:00:00.000000000",
          "2024-09-30T00:00:00.000000000",
          "2024-10-01T00:00:00.000000000",
          "2024-10-02T00:00:00.000000000",
          "2024-10-03T00:00:00.000000000",
          "2024-10-04T00:00:00.000000000",
          "2024-10-07T00:00:00.000000000",
          "2024-10-08T00:00:00.000000000",
          "2024-10-09T00:00:00.000000000",
          "2024-10-10T00:00:00.000000000",
          "2024-10-11T00:00:00.000000000",
          "2024-10-14T00:00:00.000000000",
          "2024-10-15T00:00:00.000000000",
          "2024-10-16T00:00:00.000000000",
          "2024-10-17T00:00:00.000000000",
          "2024-10-18T00:00:00.000000000",
          "2024-10-21T00:00:00.000000000",
          "2024-10-22T00:00:00.000000000",
          "2024-10-23T00:00:00.000000000",
          "2024-10-24T00:00:00.000000000",
          "2024-10-25T00:00:00.000000000",
          "2024-10-28T00:00:00.000000000",
          "2024-10-29T00:00:00.000000000",
          "2024-10-30T00:00:00.000000000",
          "2024-10-31T00:00:00.000000000",
          "2024-11-01T00:00:00.000000000",
          "2024-11-04T00:00:00.000000000",
          "2024-11-05T00:00:00.000000000",
          "2024-11-06T00:00:00.000000000",
          "2024-11-07T00:00:00.000000000",
          "2024-11-08T00:00:00.000000000",
          "2024-11-11T00:00:00.000000000",
          "2024-11-12T00:00:00.000000000",
          "2024-11-13T00:00:00.000000000",
          "2024-11-14T00:00:00.000000000",
          "2024-11-15T00:00:00.000000000",
          "2024-11-18T00:00:00.000000000",
          "2024-11-19T00:00:00.000000000",
          "2024-11-20T00:00:00.000000000",
          "2024-11-21T00:00:00.000000000",
          "2024-11-22T00:00:00.000000000",
          "2024-11-25T00:00:00.000000000",
          "2024-11-26T00:00:00.000000000",
          "2024-11-27T00:00:00.000000000",
          "2024-11-28T00:00:00.000000000",
          "2024-11-29T00:00:00.000000000",
          "2024-12-02T00:00:00.000000000",
          "2024-12-03T00:00:00.000000000",
          "2024-12-04T00:00:00.000000000",
          "2024-12-05T00:00:00.000000000",
          "2024-12-06T00:00:00.000000000",
          "2024-12-09T00:00:00.000000000",
          "2024-12-10T00:00:00.000000000",
          "2024-12-11T00:00:00.000000000",
          "2024-12-12T00:00:00.000000000",
          "2024-12-13T00:00:00.000000000",
          "2024-12-16T00:00:00.000000000",
          "2024-12-17T00:00:00.000000000",
          "2024-12-18T00:00:00.000000000",
          "2024-12-19T00:00:00.000000000",
          "2024-12-20T00:00:00.000000000",
          "2024-12-23T00:00:00.000000000",
          "2024-12-24T00:00:00.000000000",
          "2024-12-25T00:00:00.000000000",
          "2024-12-26T00:00:00.000000000",
          "2024-12-27T00:00:00.000000000",
          "2024-12-30T00:00:00.000000000",
          "2024-12-31T00:00:00.000000000",
          "2025-01-02T00:00:00.000000000",
          "2025-01-03T00:00:00.000000000",
          "2025-01-06T00:00:00.000000000",
          "2025-01-07T00:00:00.000000000",
          "2025-01-08T00:00:00.000000000",
          "2025-01-09T00:00:00.000000000",
          "2025-01-10T00:00:00.000000000",
          "2025-01-13T00:00:00.000000000",
          "2025-01-14T00:00:00.000000000",
          "2025-01-15T00:00:00.000000000",
          "2025-01-16T00:00:00.000000000",
          "2025-01-17T00:00:00.000000000",
          "2025-01-20T00:00:00.000000000",
          "2025-01-21T00:00:00.000000000",
          "2025-01-22T00:00:00.000000000",
          "2025-01-23T00:00:00.000000000",
          "2025-01-24T00:00:00.000000000",
          "2025-02-03T00:00:00.000000000",
          "2025-02-04T00:00:00.000000000",
          "2025-02-05T00:00:00.000000000",
          "2025-02-06T00:00:00.000000000",
          "2025-02-07T00:00:00.000000000",
          "2025-02-10T00:00:00.000000000",
          "2025-02-11T00:00:00.000000000",
          "2025-02-12T00:00:00.000000000",
          "2025-02-13T00:00:00.000000000",
          "2025-02-14T00:00:00.000000000",
          "2025-02-17T00:00:00.000000000",
          "2025-02-18T00:00:00.000000000",
          "2025-02-19T00:00:00.000000000",
          "2025-02-20T00:00:00.000000000",
          "2025-02-21T00:00:00.000000000",
          "2025-02-24T00:00:00.000000000",
          "2025-02-25T00:00:00.000000000",
          "2025-02-26T00:00:00.000000000",
          "2025-02-27T00:00:00.000000000",
          "2025-02-28T00:00:00.000000000",
          "2025-03-03T00:00:00.000000000",
          "2025-03-04T00:00:00.000000000",
          "2025-03-05T00:00:00.000000000",
          "2025-03-06T00:00:00.000000000",
          "2025-03-07T00:00:00.000000000",
          "2025-03-10T00:00:00.000000000",
          "2025-03-11T00:00:00.000000000",
          "2025-03-12T00:00:00.000000000",
          "2025-03-13T00:00:00.000000000",
          "2025-03-14T00:00:00.000000000",
          "2025-03-17T00:00:00.000000000",
          "2025-03-18T00:00:00.000000000",
          "2025-03-19T00:00:00.000000000",
          "2025-03-20T00:00:00.000000000",
          "2025-03-21T00:00:00.000000000",
          "2025-03-24T00:00:00.000000000",
          "2025-03-25T00:00:00.000000000",
          "2025-03-26T00:00:00.000000000",
          "2025-03-27T00:00:00.000000000",
          "2025-03-28T00:00:00.000000000",
          "2025-03-31T00:00:00.000000000"
         ],
         "y": {
          "bdata": "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",
          "dtype": "f8"
         }
        },
        {
         "name": "Techcombank trade",
         "type": "scatter",
         "x": [
          "2022-01-04T00:00:00.000000000",
          "2022-01-05T00:00:00.000000000",
          "2022-01-06T00:00:00.000000000",
          "2022-01-07T00:00:00.000000000",
          "2022-01-10T00:00:00.000000000",
          "2022-01-11T00:00:00.000000000",
          "2022-01-12T00:00:00.000000000",
          "2022-01-13T00:00:00.000000000",
          "2022-01-14T00:00:00.000000000",
          "2022-01-17T00:00:00.000000000",
          "2022-01-18T00:00:00.000000000",
          "2022-01-19T00:00:00.000000000",
          "2022-01-20T00:00:00.000000000",
          "2022-01-21T00:00:00.000000000",
          "2022-01-24T00:00:00.000000000",
          "2022-01-25T00:00:00.000000000",
          "2022-01-26T00:00:00.000000000",
          "2022-01-27T00:00:00.000000000",
          "2022-01-28T00:00:00.000000000",
          "2022-02-07T00:00:00.000000000",
          "2022-02-08T00:00:00.000000000",
          "2022-02-09T00:00:00.000000000",
          "2022-02-10T00:00:00.000000000",
          "2022-02-11T00:00:00.000000000",
          "2022-02-14T00:00:00.000000000",
          "2022-02-15T00:00:00.000000000",
          "2022-02-16T00:00:00.000000000",
          "2022-02-17T00:00:00.000000000",
          "2022-02-18T00:00:00.000000000",
          "2022-02-21T00:00:00.000000000",
          "2022-02-22T00:00:00.000000000",
          "2022-02-23T00:00:00.000000000",
          "2022-02-24T00:00:00.000000000",
          "2022-02-25T00:00:00.000000000",
          "2022-02-28T00:00:00.000000000",
          "2022-03-01T00:00:00.000000000",
          "2022-03-02T00:00:00.000000000",
          "2022-03-03T00:00:00.000000000",
          "2022-03-04T00:00:00.000000000",
          "2022-03-07T00:00:00.000000000",
          "2022-03-08T00:00:00.000000000",
          "2022-03-09T00:00:00.000000000",
          "2022-03-10T00:00:00.000000000",
          "2022-03-11T00:00:00.000000000",
          "2022-03-14T00:00:00.000000000",
          "2022-03-15T00:00:00.000000000",
          "2022-03-16T00:00:00.000000000",
          "2022-03-17T00:00:00.000000000",
          "2022-03-18T00:00:00.000000000",
          "2022-03-21T00:00:00.000000000",
          "2022-03-22T00:00:00.000000000",
          "2022-03-23T00:00:00.000000000",
          "2022-03-24T00:00:00.000000000",
          "2022-03-25T00:00:00.000000000",
          "2022-03-28T00:00:00.000000000",
          "2022-03-29T00:00:00.000000000",
          "2022-03-30T00:00:00.000000000",
          "2022-03-31T00:00:00.000000000",
          "2022-04-01T00:00:00.000000000",
          "2022-04-04T00:00:00.000000000",
          "2022-04-05T00:00:00.000000000",
          "2022-04-06T00:00:00.000000000",
          "2022-04-07T00:00:00.000000000",
          "2022-04-08T00:00:00.000000000",
          "2022-04-12T00:00:00.000000000",
          "2022-04-13T00:00:00.000000000",
          "2022-04-14T00:00:00.000000000",
          "2022-04-15T00:00:00.000000000",
          "2022-04-18T00:00:00.000000000",
          "2022-04-19T00:00:00.000000000",
          "2022-04-20T00:00:00.000000000",
          "2022-04-21T00:00:00.000000000",
          "2022-04-22T00:00:00.000000000",
          "2022-04-25T00:00:00.000000000",
          "2022-04-26T00:00:00.000000000",
          "2022-04-27T00:00:00.000000000",
          "2022-04-28T00:00:00.000000000",
          "2022-04-29T00:00:00.000000000",
          "2022-05-04T00:00:00.000000000",
          "2022-05-05T00:00:00.000000000",
          "2022-05-06T00:00:00.000000000",
          "2022-05-09T00:00:00.000000000",
          "2022-05-10T00:00:00.000000000",
          "2022-05-11T00:00:00.000000000",
          "2022-05-12T00:00:00.000000000",
          "2022-05-13T00:00:00.000000000",
          "2022-05-16T00:00:00.000000000",
          "2022-05-17T00:00:00.000000000",
          "2022-05-18T00:00:00.000000000",
          "2022-05-19T00:00:00.000000000",
          "2022-05-20T00:00:00.000000000",
          "2022-05-23T00:00:00.000000000",
          "2022-05-24T00:00:00.000000000",
          "2022-05-25T00:00:00.000000000",
          "2022-05-26T00:00:00.000000000",
          "2022-05-27T00:00:00.000000000",
          "2022-05-30T00:00:00.000000000",
          "2022-05-31T00:00:00.000000000",
          "2022-06-01T00:00:00.000000000",
          "2022-06-02T00:00:00.000000000",
          "2022-06-03T00:00:00.000000000",
          "2022-06-06T00:00:00.000000000",
          "2022-06-07T00:00:00.000000000",
          "2022-06-08T00:00:00.000000000",
          "2022-06-09T00:00:00.000000000",
          "2022-06-10T00:00:00.000000000",
          "2022-06-13T00:00:00.000000000",
          "2022-06-14T00:00:00.000000000",
          "2022-06-15T00:00:00.000000000",
          "2022-06-16T00:00:00.000000000",
          "2022-06-17T00:00:00.000000000",
          "2022-06-20T00:00:00.000000000",
          "2022-06-21T00:00:00.000000000",
          "2022-06-22T00:00:00.000000000",
          "2022-06-23T00:00:00.000000000",
          "2022-06-24T00:00:00.000000000",
          "2022-06-27T00:00:00.000000000",
          "2022-06-28T00:00:00.000000000",
          "2022-06-29T00:00:00.000000000",
          "2022-06-30T00:00:00.000000000",
          "2022-07-01T00:00:00.000000000",
          "2022-07-04T00:00:00.000000000",
          "2022-07-05T00:00:00.000000000",
          "2022-07-06T00:00:00.000000000",
          "2022-07-07T00:00:00.000000000",
          "2022-07-08T00:00:00.000000000",
          "2022-07-11T00:00:00.000000000",
          "2022-07-12T00:00:00.000000000",
          "2022-07-13T00:00:00.000000000",
          "2022-07-14T00:00:00.000000000",
          "2022-07-15T00:00:00.000000000",
          "2022-07-18T00:00:00.000000000",
          "2022-07-19T00:00:00.000000000",
          "2022-07-20T00:00:00.000000000",
          "2022-07-21T00:00:00.000000000",
          "2022-07-22T00:00:00.000000000",
          "2022-07-25T00:00:00.000000000",
          "2022-07-26T00:00:00.000000000",
          "2022-07-27T00:00:00.000000000",
          "2022-07-28T00:00:00.000000000",
          "2022-07-29T00:00:00.000000000",
          "2022-08-01T00:00:00.000000000",
          "2022-08-02T00:00:00.000000000",
          "2022-08-03T00:00:00.000000000",
          "2022-08-04T00:00:00.000000000",
          "2022-08-05T00:00:00.000000000",
          "2022-08-08T00:00:00.000000000",
          "2022-08-09T00:00:00.000000000",
          "2022-08-10T00:00:00.000000000",
          "2022-08-11T00:00:00.000000000",
          "2022-08-12T00:00:00.000000000",
          "2022-08-15T00:00:00.000000000",
          "2022-08-16T00:00:00.000000000",
          "2022-08-17T00:00:00.000000000",
          "2022-08-18T00:00:00.000000000",
          "2022-08-19T00:00:00.000000000",
          "2022-08-22T00:00:00.000000000",
          "2022-08-23T00:00:00.000000000",
          "2022-08-24T00:00:00.000000000",
          "2022-08-25T00:00:00.000000000",
          "2022-08-26T00:00:00.000000000",
          "2022-08-29T00:00:00.000000000",
          "2022-08-30T00:00:00.000000000",
          "2022-08-31T00:00:00.000000000",
          "2022-09-05T00:00:00.000000000",
          "2022-09-06T00:00:00.000000000",
          "2022-09-07T00:00:00.000000000",
          "2022-09-08T00:00:00.000000000",
          "2022-09-09T00:00:00.000000000",
          "2022-09-12T00:00:00.000000000",
          "2022-09-13T00:00:00.000000000",
          "2022-09-14T00:00:00.000000000",
          "2022-09-15T00:00:00.000000000",
          "2022-09-16T00:00:00.000000000",
          "2022-09-19T00:00:00.000000000",
          "2022-09-20T00:00:00.000000000",
          "2022-09-21T00:00:00.000000000",
          "2022-09-22T00:00:00.000000000",
          "2022-09-23T00:00:00.000000000",
          "2022-09-26T00:00:00.000000000",
          "2022-09-27T00:00:00.000000000",
          "2022-09-28T00:00:00.000000000",
          "2022-09-29T00:00:00.000000000",
          "2022-09-30T00:00:00.000000000",
          "2022-10-03T00:00:00.000000000",
          "2022-10-04T00:00:00.000000000",
          "2022-10-05T00:00:00.000000000",
          "2022-10-06T00:00:00.000000000",
          "2022-10-07T00:00:00.000000000",
          "2022-10-10T00:00:00.000000000",
          "2022-10-11T00:00:00.000000000",
          "2022-10-12T00:00:00.000000000",
          "2022-10-13T00:00:00.000000000",
          "2022-10-14T00:00:00.000000000",
          "2022-10-17T00:00:00.000000000",
          "2022-10-18T00:00:00.000000000",
          "2022-10-19T00:00:00.000000000",
          "2022-10-20T00:00:00.000000000",
          "2022-10-21T00:00:00.000000000",
          "2022-10-24T00:00:00.000000000",
          "2022-10-25T00:00:00.000000000",
          "2022-10-26T00:00:00.000000000",
          "2022-10-27T00:00:00.000000000",
          "2022-10-28T00:00:00.000000000",
          "2022-10-31T00:00:00.000000000",
          "2022-11-01T00:00:00.000000000",
          "2022-11-02T00:00:00.000000000",
          "2022-11-03T00:00:00.000000000",
          "2022-11-04T00:00:00.000000000",
          "2022-11-07T00:00:00.000000000",
          "2022-11-08T00:00:00.000000000",
          "2022-11-09T00:00:00.000000000",
          "2022-11-10T00:00:00.000000000",
          "2022-11-11T00:00:00.000000000",
          "2022-11-14T00:00:00.000000000",
          "2022-11-15T00:00:00.000000000",
          "2022-11-16T00:00:00.000000000",
          "2022-11-17T00:00:00.000000000",
          "2022-11-18T00:00:00.000000000",
          "2022-11-21T00:00:00.000000000",
          "2022-11-22T00:00:00.000000000",
          "2022-11-23T00:00:00.000000000",
          "2022-11-24T00:00:00.000000000",
          "2022-11-25T00:00:00.000000000",
          "2022-11-28T00:00:00.000000000",
          "2022-11-29T00:00:00.000000000",
          "2022-11-30T00:00:00.000000000",
          "2022-12-01T00:00:00.000000000",
          "2022-12-02T00:00:00.000000000",
          "2022-12-05T00:00:00.000000000",
          "2022-12-06T00:00:00.000000000",
          "2022-12-07T00:00:00.000000000",
          "2022-12-08T00:00:00.000000000",
          "2022-12-09T00:00:00.000000000",
          "2022-12-12T00:00:00.000000000",
          "2022-12-13T00:00:00.000000000",
          "2022-12-14T00:00:00.000000000",
          "2022-12-15T00:00:00.000000000",
          "2022-12-16T00:00:00.000000000",
          "2022-12-19T00:00:00.000000000",
          "2022-12-20T00:00:00.000000000",
          "2022-12-21T00:00:00.000000000",
          "2022-12-22T00:00:00.000000000",
          "2022-12-23T00:00:00.000000000",
          "2022-12-26T00:00:00.000000000",
          "2022-12-27T00:00:00.000000000",
          "2022-12-28T00:00:00.000000000",
          "2022-12-29T00:00:00.000000000",
          "2022-12-30T00:00:00.000000000",
          "2023-01-03T00:00:00.000000000",
          "2023-01-04T00:00:00.000000000",
          "2023-01-05T00:00:00.000000000",
          "2023-01-06T00:00:00.000000000",
          "2023-01-09T00:00:00.000000000",
          "2023-01-10T00:00:00.000000000",
          "2023-01-11T00:00:00.000000000",
          "2023-01-12T00:00:00.000000000",
          "2023-01-13T00:00:00.000000000",
          "2023-01-16T00:00:00.000000000",
          "2023-01-17T00:00:00.000000000",
          "2023-01-18T00:00:00.000000000",
          "2023-01-19T00:00:00.000000000",
          "2023-01-27T00:00:00.000000000",
          "2023-01-30T00:00:00.000000000",
          "2023-01-31T00:00:00.000000000",
          "2023-02-01T00:00:00.000000000",
          "2023-02-02T00:00:00.000000000",
          "2023-02-03T00:00:00.000000000",
          "2023-02-06T00:00:00.000000000",
          "2023-02-07T00:00:00.000000000",
          "2023-02-08T00:00:00.000000000",
          "2023-02-09T00:00:00.000000000",
          "2023-02-10T00:00:00.000000000",
          "2023-02-13T00:00:00.000000000",
          "2023-02-14T00:00:00.000000000",
          "2023-02-15T00:00:00.000000000",
          "2023-02-16T00:00:00.000000000",
          "2023-02-17T00:00:00.000000000",
          "2023-02-20T00:00:00.000000000",
          "2023-02-21T00:00:00.000000000",
          "2023-02-22T00:00:00.000000000",
          "2023-02-23T00:00:00.000000000",
          "2023-02-24T00:00:00.000000000",
          "2023-02-27T00:00:00.000000000",
          "2023-02-28T00:00:00.000000000",
          "2023-03-01T00:00:00.000000000",
          "2023-03-02T00:00:00.000000000",
          "2023-03-03T00:00:00.000000000",
          "2023-03-06T00:00:00.000000000",
          "2023-03-07T00:00:00.000000000",
          "2023-03-08T00:00:00.000000000",
          "2023-03-09T00:00:00.000000000",
          "2023-03-10T00:00:00.000000000",
          "2023-03-13T00:00:00.000000000",
          "2023-03-14T00:00:00.000000000",
          "2023-03-15T00:00:00.000000000",
          "2023-03-16T00:00:00.000000000",
          "2023-03-17T00:00:00.000000000",
          "2023-03-20T00:00:00.000000000",
          "2023-03-21T00:00:00.000000000",
          "2023-03-22T00:00:00.000000000",
          "2023-03-23T00:00:00.000000000",
          "2023-03-24T00:00:00.000000000",
          "2023-03-27T00:00:00.000000000",
          "2023-03-28T00:00:00.000000000",
          "2023-03-29T00:00:00.000000000",
          "2023-03-30T00:00:00.000000000",
          "2023-03-31T00:00:00.000000000",
          "2023-04-03T00:00:00.000000000",
          "2023-04-04T00:00:00.000000000",
          "2023-04-05T00:00:00.000000000",
          "2023-04-06T00:00:00.000000000",
          "2023-04-07T00:00:00.000000000",
          "2023-04-10T00:00:00.000000000",
          "2023-04-11T00:00:00.000000000",
          "2023-04-12T00:00:00.000000000",
          "2023-04-13T00:00:00.000000000",
          "2023-04-14T00:00:00.000000000",
          "2023-04-17T00:00:00.000000000",
          "2023-04-18T00:00:00.000000000",
          "2023-04-19T00:00:00.000000000",
          "2023-04-20T00:00:00.000000000",
          "2023-04-21T00:00:00.000000000",
          "2023-04-24T00:00:00.000000000",
          "2023-04-25T00:00:00.000000000",
          "2023-04-26T00:00:00.000000000",
          "2023-04-27T00:00:00.000000000",
          "2023-04-28T00:00:00.000000000",
          "2023-05-04T00:00:00.000000000",
          "2023-05-05T00:00:00.000000000",
          "2023-05-08T00:00:00.000000000",
          "2023-05-09T00:00:00.000000000",
          "2023-05-10T00:00:00.000000000",
          "2023-05-11T00:00:00.000000000",
          "2023-05-12T00:00:00.000000000",
          "2023-05-15T00:00:00.000000000",
          "2023-05-16T00:00:00.000000000",
          "2023-05-17T00:00:00.000000000",
          "2023-05-18T00:00:00.000000000",
          "2023-05-19T00:00:00.000000000",
          "2023-05-22T00:00:00.000000000",
          "2023-05-23T00:00:00.000000000",
          "2023-05-24T00:00:00.000000000",
          "2023-05-25T00:00:00.000000000",
          "2023-05-26T00:00:00.000000000",
          "2023-05-29T00:00:00.000000000",
          "2023-05-30T00:00:00.000000000",
          "2023-05-31T00:00:00.000000000",
          "2023-06-01T00:00:00.000000000",
          "2023-06-02T00:00:00.000000000",
          "2023-06-05T00:00:00.000000000",
          "2023-06-06T00:00:00.000000000",
          "2023-06-07T00:00:00.000000000",
          "2023-06-08T00:00:00.000000000",
          "2023-06-09T00:00:00.000000000",
          "2023-06-12T00:00:00.000000000",
          "2023-06-13T00:00:00.000000000",
          "2023-06-14T00:00:00.000000000",
          "2023-06-15T00:00:00.000000000",
          "2023-06-16T00:00:00.000000000",
          "2023-06-19T00:00:00.000000000",
          "2023-06-20T00:00:00.000000000",
          "2023-06-21T00:00:00.000000000",
          "2023-06-22T00:00:00.000000000",
          "2023-06-23T00:00:00.000000000",
          "2023-06-26T00:00:00.000000000",
          "2023-06-27T00:00:00.000000000",
          "2023-06-28T00:00:00.000000000",
          "2023-06-29T00:00:00.000000000",
          "2023-06-30T00:00:00.000000000",
          "2023-07-03T00:00:00.000000000",
          "2023-07-04T00:00:00.000000000",
          "2023-07-05T00:00:00.000000000",
          "2023-07-06T00:00:00.000000000",
          "2023-07-07T00:00:00.000000000",
          "2023-07-10T00:00:00.000000000",
          "2023-07-11T00:00:00.000000000",
          "2023-07-12T00:00:00.000000000",
          "2023-07-13T00:00:00.000000000",
          "2023-07-14T00:00:00.000000000",
          "2023-07-17T00:00:00.000000000",
          "2023-07-18T00:00:00.000000000",
          "2023-07-19T00:00:00.000000000",
          "2023-07-20T00:00:00.000000000",
          "2023-07-21T00:00:00.000000000",
          "2023-07-24T00:00:00.000000000",
          "2023-07-25T00:00:00.000000000",
          "2023-07-26T00:00:00.000000000",
          "2023-07-27T00:00:00.000000000",
          "2023-07-28T00:00:00.000000000",
          "2023-07-31T00:00:00.000000000",
          "2023-08-01T00:00:00.000000000",
          "2023-08-02T00:00:00.000000000",
          "2023-08-03T00:00:00.000000000",
          "2023-08-04T00:00:00.000000000",
          "2023-08-07T00:00:00.000000000",
          "2023-08-08T00:00:00.000000000",
          "2023-08-09T00:00:00.000000000",
          "2023-08-10T00:00:00.000000000",
          "2023-08-11T00:00:00.000000000",
          "2023-08-14T00:00:00.000000000",
          "2023-08-15T00:00:00.000000000",
          "2023-08-16T00:00:00.000000000",
          "2023-08-17T00:00:00.000000000",
          "2023-08-18T00:00:00.000000000",
          "2023-08-21T00:00:00.000000000",
          "2023-08-22T00:00:00.000000000",
          "2023-08-23T00:00:00.000000000",
          "2023-08-24T00:00:00.000000000",
          "2023-08-25T00:00:00.000000000",
          "2023-08-28T00:00:00.000000000",
          "2023-08-29T00:00:00.000000000",
          "2023-08-30T00:00:00.000000000",
          "2023-08-31T00:00:00.000000000",
          "2023-09-05T00:00:00.000000000",
          "2023-09-06T00:00:00.000000000",
          "2023-09-07T00:00:00.000000000",
          "2023-09-08T00:00:00.000000000",
          "2023-09-11T00:00:00.000000000",
          "2023-09-12T00:00:00.000000000",
          "2023-09-13T00:00:00.000000000",
          "2023-09-14T00:00:00.000000000",
          "2023-09-15T00:00:00.000000000",
          "2023-09-18T00:00:00.000000000",
          "2023-09-19T00:00:00.000000000",
          "2023-09-20T00:00:00.000000000",
          "2023-09-21T00:00:00.000000000",
          "2023-09-22T00:00:00.000000000",
          "2023-09-25T00:00:00.000000000",
          "2023-09-26T00:00:00.000000000",
          "2023-09-27T00:00:00.000000000",
          "2023-09-28T00:00:00.000000000",
          "2023-09-29T00:00:00.000000000",
          "2023-10-02T00:00:00.000000000",
          "2023-10-03T00:00:00.000000000",
          "2023-10-04T00:00:00.000000000",
          "2023-10-05T00:00:00.000000000",
          "2023-10-06T00:00:00.000000000",
          "2023-10-09T00:00:00.000000000",
          "2023-10-10T00:00:00.000000000",
          "2023-10-11T00:00:00.000000000",
          "2023-10-12T00:00:00.000000000",
          "2023-10-13T00:00:00.000000000",
          "2023-10-16T00:00:00.000000000",
          "2023-10-17T00:00:00.000000000",
          "2023-10-18T00:00:00.000000000",
          "2023-10-19T00:00:00.000000000",
          "2023-10-20T00:00:00.000000000",
          "2023-10-23T00:00:00.000000000",
          "2023-10-24T00:00:00.000000000",
          "2023-10-25T00:00:00.000000000",
          "2023-10-26T00:00:00.000000000",
          "2023-10-27T00:00:00.000000000",
          "2023-10-30T00:00:00.000000000",
          "2023-10-31T00:00:00.000000000",
          "2023-11-01T00:00:00.000000000",
          "2023-11-02T00:00:00.000000000",
          "2023-11-03T00:00:00.000000000",
          "2023-11-06T00:00:00.000000000",
          "2023-11-07T00:00:00.000000000",
          "2023-11-08T00:00:00.000000000",
          "2023-11-09T00:00:00.000000000",
          "2023-11-10T00:00:00.000000000",
          "2023-11-13T00:00:00.000000000",
          "2023-11-14T00:00:00.000000000",
          "2023-11-15T00:00:00.000000000",
          "2023-11-16T00:00:00.000000000",
          "2023-11-17T00:00:00.000000000",
          "2023-11-20T00:00:00.000000000",
          "2023-11-21T00:00:00.000000000",
          "2023-11-22T00:00:00.000000000",
          "2023-11-23T00:00:00.000000000",
          "2023-11-24T00:00:00.000000000",
          "2023-11-27T00:00:00.000000000",
          "2023-11-28T00:00:00.000000000",
          "2023-11-29T00:00:00.000000000",
          "2023-11-30T00:00:00.000000000",
          "2023-12-01T00:00:00.000000000",
          "2023-12-04T00:00:00.000000000",
          "2023-12-05T00:00:00.000000000",
          "2023-12-06T00:00:00.000000000",
          "2023-12-07T00:00:00.000000000",
          "2023-12-08T00:00:00.000000000",
          "2023-12-11T00:00:00.000000000",
          "2023-12-12T00:00:00.000000000",
          "2023-12-13T00:00:00.000000000",
          "2023-12-14T00:00:00.000000000",
          "2023-12-15T00:00:00.000000000",
          "2023-12-18T00:00:00.000000000",
          "2023-12-19T00:00:00.000000000",
          "2023-12-20T00:00:00.000000000",
          "2023-12-21T00:00:00.000000000",
          "2023-12-22T00:00:00.000000000",
          "2023-12-25T00:00:00.000000000",
          "2023-12-26T00:00:00.000000000",
          "2023-12-27T00:00:00.000000000",
          "2023-12-28T00:00:00.000000000",
          "2023-12-29T00:00:00.000000000",
          "2024-01-02T00:00:00.000000000",
          "2024-01-03T00:00:00.000000000",
          "2024-01-04T00:00:00.000000000",
          "2024-01-05T00:00:00.000000000",
          "2024-01-08T00:00:00.000000000",
          "2024-01-09T00:00:00.000000000",
          "2024-01-10T00:00:00.000000000",
          "2024-01-11T00:00:00.000000000",
          "2024-01-12T00:00:00.000000000",
          "2024-01-15T00:00:00.000000000",
          "2024-01-16T00:00:00.000000000",
          "2024-01-17T00:00:00.000000000",
          "2024-01-18T00:00:00.000000000",
          "2024-01-19T00:00:00.000000000",
          "2024-01-22T00:00:00.000000000",
          "2024-01-23T00:00:00.000000000",
          "2024-01-24T00:00:00.000000000",
          "2024-01-25T00:00:00.000000000",
          "2024-01-26T00:00:00.000000000",
          "2024-01-29T00:00:00.000000000",
          "2024-01-30T00:00:00.000000000",
          "2024-01-31T00:00:00.000000000",
          "2024-02-01T00:00:00.000000000",
          "2024-02-02T00:00:00.000000000",
          "2024-02-05T00:00:00.000000000",
          "2024-02-06T00:00:00.000000000",
          "2024-02-07T00:00:00.000000000",
          "2024-02-15T00:00:00.000000000",
          "2024-02-16T00:00:00.000000000",
          "2024-02-19T00:00:00.000000000",
          "2024-02-20T00:00:00.000000000",
          "2024-02-21T00:00:00.000000000",
          "2024-02-22T00:00:00.000000000",
          "2024-02-23T00:00:00.000000000",
          "2024-02-26T00:00:00.000000000",
          "2024-02-27T00:00:00.000000000",
          "2024-02-28T00:00:00.000000000",
          "2024-02-29T00:00:00.000000000",
          "2024-03-01T00:00:00.000000000",
          "2024-03-04T00:00:00.000000000",
          "2024-03-05T00:00:00.000000000",
          "2024-03-06T00:00:00.000000000",
          "2024-03-07T00:00:00.000000000",
          "2024-03-08T00:00:00.000000000",
          "2024-03-11T00:00:00.000000000",
          "2024-03-12T00:00:00.000000000",
          "2024-03-13T00:00:00.000000000",
          "2024-03-14T00:00:00.000000000",
          "2024-03-15T00:00:00.000000000",
          "2024-03-18T00:00:00.000000000",
          "2024-03-19T00:00:00.000000000",
          "2024-03-20T00:00:00.000000000",
          "2024-03-21T00:00:00.000000000",
          "2024-03-22T00:00:00.000000000",
          "2024-03-25T00:00:00.000000000",
          "2024-03-26T00:00:00.000000000",
          "2024-03-27T00:00:00.000000000",
          "2024-03-28T00:00:00.000000000",
          "2024-03-29T00:00:00.000000000",
          "2024-04-01T00:00:00.000000000",
          "2024-04-02T00:00:00.000000000",
          "2024-04-03T00:00:00.000000000",
          "2024-04-04T00:00:00.000000000",
          "2024-04-05T00:00:00.000000000",
          "2024-04-08T00:00:00.000000000",
          "2024-04-09T00:00:00.000000000",
          "2024-04-10T00:00:00.000000000",
          "2024-04-11T00:00:00.000000000",
          "2024-04-12T00:00:00.000000000",
          "2024-04-15T00:00:00.000000000",
          "2024-04-16T00:00:00.000000000",
          "2024-04-17T00:00:00.000000000",
          "2024-04-19T00:00:00.000000000",
          "2024-04-22T00:00:00.000000000",
          "2024-04-23T00:00:00.000000000",
          "2024-04-24T00:00:00.000000000",
          "2024-04-25T00:00:00.000000000",
          "2024-04-26T00:00:00.000000000",
          "2024-05-02T00:00:00.000000000",
          "2024-05-03T00:00:00.000000000",
          "2024-05-06T00:00:00.000000000",
          "2024-05-07T00:00:00.000000000",
          "2024-05-08T00:00:00.000000000",
          "2024-05-09T00:00:00.000000000",
          "2024-05-10T00:00:00.000000000",
          "2024-05-13T00:00:00.000000000",
          "2024-05-14T00:00:00.000000000",
          "2024-05-15T00:00:00.000000000",
          "2024-05-16T00:00:00.000000000",
          "2024-05-17T00:00:00.000000000",
          "2024-05-20T00:00:00.000000000",
          "2024-05-21T00:00:00.000000000",
          "2024-05-22T00:00:00.000000000",
          "2024-05-23T00:00:00.000000000",
          "2024-05-24T00:00:00.000000000",
          "2024-05-27T00:00:00.000000000",
          "2024-05-28T00:00:00.000000000",
          "2024-05-29T00:00:00.000000000",
          "2024-05-30T00:00:00.000000000",
          "2024-05-31T00:00:00.000000000",
          "2024-06-03T00:00:00.000000000",
          "2024-06-04T00:00:00.000000000",
          "2024-06-05T00:00:00.000000000",
          "2024-06-06T00:00:00.000000000",
          "2024-06-07T00:00:00.000000000",
          "2024-06-10T00:00:00.000000000",
          "2024-06-11T00:00:00.000000000",
          "2024-06-12T00:00:00.000000000",
          "2024-06-13T00:00:00.000000000",
          "2024-06-14T00:00:00.000000000",
          "2024-06-17T00:00:00.000000000",
          "2024-06-18T00:00:00.000000000",
          "2024-06-19T00:00:00.000000000",
          "2024-06-20T00:00:00.000000000",
          "2024-06-21T00:00:00.000000000",
          "2024-06-24T00:00:00.000000000",
          "2024-06-25T00:00:00.000000000",
          "2024-06-26T00:00:00.000000000",
          "2024-06-27T00:00:00.000000000",
          "2024-06-28T00:00:00.000000000",
          "2024-07-01T00:00:00.000000000",
          "2024-07-02T00:00:00.000000000",
          "2024-07-03T00:00:00.000000000",
          "2024-07-04T00:00:00.000000000",
          "2024-07-05T00:00:00.000000000",
          "2024-07-08T00:00:00.000000000",
          "2024-07-09T00:00:00.000000000",
          "2024-07-10T00:00:00.000000000",
          "2024-07-11T00:00:00.000000000",
          "2024-07-12T00:00:00.000000000",
          "2024-07-15T00:00:00.000000000",
          "2024-07-16T00:00:00.000000000",
          "2024-07-17T00:00:00.000000000",
          "2024-07-18T00:00:00.000000000",
          "2024-07-19T00:00:00.000000000",
          "2024-07-22T00:00:00.000000000",
          "2024-07-23T00:00:00.000000000",
          "2024-07-24T00:00:00.000000000",
          "2024-07-25T00:00:00.000000000",
          "2024-07-26T00:00:00.000000000",
          "2024-07-29T00:00:00.000000000",
          "2024-07-30T00:00:00.000000000",
          "2024-07-31T00:00:00.000000000",
          "2024-08-01T00:00:00.000000000",
          "2024-08-02T00:00:00.000000000",
          "2024-08-05T00:00:00.000000000",
          "2024-08-06T00:00:00.000000000",
          "2024-08-07T00:00:00.000000000",
          "2024-08-08T00:00:00.000000000",
          "2024-08-09T00:00:00.000000000",
          "2024-08-12T00:00:00.000000000",
          "2024-08-13T00:00:00.000000000",
          "2024-08-14T00:00:00.000000000",
          "2024-08-15T00:00:00.000000000",
          "2024-08-16T00:00:00.000000000",
          "2024-08-19T00:00:00.000000000",
          "2024-08-20T00:00:00.000000000",
          "2024-08-21T00:00:00.000000000",
          "2024-08-22T00:00:00.000000000",
          "2024-08-23T00:00:00.000000000",
          "2024-08-26T00:00:00.000000000",
          "2024-08-27T00:00:00.000000000",
          "2024-08-28T00:00:00.000000000",
          "2024-08-29T00:00:00.000000000",
          "2024-08-30T00:00:00.000000000",
          "2024-09-04T00:00:00.000000000",
          "2024-09-05T00:00:00.000000000",
          "2024-09-06T00:00:00.000000000",
          "2024-09-09T00:00:00.000000000",
          "2024-09-10T00:00:00.000000000",
          "2024-09-11T00:00:00.000000000",
          "2024-09-12T00:00:00.000000000",
          "2024-09-13T00:00:00.000000000",
          "2024-09-16T00:00:00.000000000",
          "2024-09-17T00:00:00.000000000",
          "2024-09-18T00:00:00.000000000",
          "2024-09-19T00:00:00.000000000",
          "2024-09-20T00:00:00.000000000",
          "2024-09-23T00:00:00.000000000",
          "2024-09-24T00:00:00.000000000",
          "2024-09-25T00:00:00.000000000",
          "2024-09-26T00:00:00.000000000",
          "2024-09-27T00:00:00.000000000",
          "2024-09-30T00:00:00.000000000",
          "2024-10-01T00:00:00.000000000",
          "2024-10-02T00:00:00.000000000",
          "2024-10-03T00:00:00.000000000",
          "2024-10-04T00:00:00.000000000",
          "2024-10-07T00:00:00.000000000",
          "2024-10-08T00:00:00.000000000",
          "2024-10-09T00:00:00.000000000",
          "2024-10-10T00:00:00.000000000",
          "2024-10-11T00:00:00.000000000",
          "2024-10-14T00:00:00.000000000",
          "2024-10-15T00:00:00.000000000",
          "2024-10-16T00:00:00.000000000",
          "2024-10-17T00:00:00.000000000",
          "2024-10-18T00:00:00.000000000",
          "2024-10-21T00:00:00.000000000",
          "2024-10-22T00:00:00.000000000",
          "2024-10-23T00:00:00.000000000",
          "2024-10-24T00:00:00.000000000",
          "2024-10-25T00:00:00.000000000",
          "2024-10-28T00:00:00.000000000",
          "2024-10-29T00:00:00.000000000",
          "2024-10-30T00:00:00.000000000",
          "2024-10-31T00:00:00.000000000",
          "2024-11-01T00:00:00.000000000",
          "2024-11-04T00:00:00.000000000",
          "2024-11-05T00:00:00.000000000",
          "2024-11-06T00:00:00.000000000",
          "2024-11-07T00:00:00.000000000",
          "2024-11-08T00:00:00.000000000",
          "2024-11-11T00:00:00.000000000",
          "2024-11-12T00:00:00.000000000",
          "2024-11-13T00:00:00.000000000",
          "2024-11-14T00:00:00.000000000",
          "2024-11-15T00:00:00.000000000",
          "2024-11-18T00:00:00.000000000",
          "2024-11-19T00:00:00.000000000",
          "2024-11-20T00:00:00.000000000",
          "2024-11-21T00:00:00.000000000",
          "2024-11-22T00:00:00.000000000",
          "2024-11-25T00:00:00.000000000",
          "2024-11-26T00:00:00.000000000",
          "2024-11-27T00:00:00.000000000",
          "2024-11-28T00:00:00.000000000",
          "2024-11-29T00:00:00.000000000",
          "2024-12-02T00:00:00.000000000",
          "2024-12-03T00:00:00.000000000",
          "2024-12-04T00:00:00.000000000",
          "2024-12-05T00:00:00.000000000",
          "2024-12-06T00:00:00.000000000",
          "2024-12-09T00:00:00.000000000",
          "2024-12-10T00:00:00.000000000",
          "2024-12-11T00:00:00.000000000",
          "2024-12-12T00:00:00.000000000",
          "2024-12-13T00:00:00.000000000",
          "2024-12-16T00:00:00.000000000",
          "2024-12-17T00:00:00.000000000",
          "2024-12-18T00:00:00.000000000",
          "2024-12-19T00:00:00.000000000",
          "2024-12-20T00:00:00.000000000",
          "2024-12-23T00:00:00.000000000",
          "2024-12-24T00:00:00.000000000",
          "2024-12-25T00:00:00.000000000",
          "2024-12-26T00:00:00.000000000",
          "2024-12-27T00:00:00.000000000",
          "2024-12-30T00:00:00.000000000",
          "2024-12-31T00:00:00.000000000",
          "2025-01-02T00:00:00.000000000",
          "2025-01-03T00:00:00.000000000",
          "2025-01-06T00:00:00.000000000",
          "2025-01-07T00:00:00.000000000",
          "2025-01-08T00:00:00.000000000",
          "2025-01-09T00:00:00.000000000",
          "2025-01-10T00:00:00.000000000",
          "2025-01-13T00:00:00.000000000",
          "2025-01-14T00:00:00.000000000",
          "2025-01-15T00:00:00.000000000",
          "2025-01-16T00:00:00.000000000",
          "2025-01-17T00:00:00.000000000",
          "2025-01-20T00:00:00.000000000",
          "2025-01-21T00:00:00.000000000",
          "2025-01-22T00:00:00.000000000",
          "2025-01-23T00:00:00.000000000",
          "2025-01-24T00:00:00.000000000",
          "2025-02-03T00:00:00.000000000",
          "2025-02-04T00:00:00.000000000",
          "2025-02-05T00:00:00.000000000",
          "2025-02-06T00:00:00.000000000",
          "2025-02-07T00:00:00.000000000",
          "2025-02-10T00:00:00.000000000",
          "2025-02-11T00:00:00.000000000",
          "2025-02-12T00:00:00.000000000",
          "2025-02-13T00:00:00.000000000",
          "2025-02-14T00:00:00.000000000",
          "2025-02-17T00:00:00.000000000",
          "2025-02-18T00:00:00.000000000",
          "2025-02-19T00:00:00.000000000",
          "2025-02-20T00:00:00.000000000",
          "2025-02-21T00:00:00.000000000",
          "2025-02-24T00:00:00.000000000",
          "2025-02-25T00:00:00.000000000",
          "2025-02-26T00:00:00.000000000",
          "2025-02-27T00:00:00.000000000",
          "2025-02-28T00:00:00.000000000",
          "2025-03-03T00:00:00.000000000",
          "2025-03-04T00:00:00.000000000",
          "2025-03-05T00:00:00.000000000",
          "2025-03-06T00:00:00.000000000",
          "2025-03-07T00:00:00.000000000",
          "2025-03-10T00:00:00.000000000",
          "2025-03-11T00:00:00.000000000",
          "2025-03-12T00:00:00.000000000",
          "2025-03-13T00:00:00.000000000",
          "2025-03-14T00:00:00.000000000",
          "2025-03-17T00:00:00.000000000",
          "2025-03-18T00:00:00.000000000",
          "2025-03-19T00:00:00.000000000",
          "2025-03-20T00:00:00.000000000",
          "2025-03-21T00:00:00.000000000",
          "2025-03-24T00:00:00.000000000",
          "2025-03-25T00:00:00.000000000",
          "2025-03-26T00:00:00.000000000",
          "2025-03-27T00:00:00.000000000",
          "2025-03-28T00:00:00.000000000",
          "2025-03-31T00:00:00.000000000"
         ],
         "y": {
          "bdata": "rkfhehSuOEA9CtejcH04QDMzMzMzMzhAexSuR+H6N0DXo3A9Cpc3QD0K16NwfTdAcT0K16NwOEA9CtejcH04QB+F61G4HjhAUrgeheuRN0CkcD0K16M3QHE9CtejsDdAcT0K16OwN0BmZmZmZiY4QKRwPQrXYzhA7FG4HoUrOUApXI/C9Wg5QOxRuB6FKzlAmpmZmZmZOUCamZmZmZk5QNejcD0KFzpAPQrXo3D9OUA9CtejcP05QArXo3A9CjpAuB6F61H4OEAfhetRuB45QIXrUbgeBTlAj8L1KFxPOUCF61G4HgU5QLgehetR+DhA7FG4HoXrOEBSuB6F6xE5QD0K16NwfThAFK5H4XqUOEBxPQrXo3A4QKRwPQrXYzhAXI/C9SjcN0AUrkfhehQ4QLgehetRODhA4XoUrkfhN0DD9Shcj8I3QI/C9ShczzdA4XoUrkfhN0D2KFyPwrU3QIXrUbgehTdAUrgeheuRN0BI4XoUrsc3QMP1KFyPwjdAXI/C9SjcN0B7FK5H4fo3QDMzMzMzMzhAzczMzMwMOEApXI/C9eg3QOF6FK5H4TdAKVyPwvWoN0D2KFyPwrU3QBSuR+F61DdASOF6FK4HOECkcD0K12M4QBSuR+F6FDhASOF6FK7HN0AzMzMzMzM4QClcj8L16DdAcT0K16OwN0BI4XoUrkc3QEjhehSuRzdAcT0K16PwNkBcj8L1KBw2QAAAAAAAwDVAcT0K16MwNUAfhetRuN40QKRwPQrXIzVA4XoUrkdhNUApXI/C9egzQB+F61G4HjRA7FG4HoUrNEDD9Shcj4I0QNejcD0KVzVAH4XrUbheNEApXI/C9ag0QB+F61G4HjRAuB6F61G4MkCF61G4HsUyQClcj8L16DJAmpmZmZmZMUCkcD0K12MwQB+F61G4ni9AZmZmZmbmMEB7FK5H4XoxQFyPwvUoXDFAj8L1KFxPMUBmZmZmZuYwQNejcD0KFzFAMzMzMzOzMUDNzMzMzMwxQClcj8L1KDJAzczMzMxMMkDD9ShcjwIyQB+F61G43jFAZmZmZmamMUDsUbgehasxQHsUrkfhejFAzczMzMyMMUCPwvUoXA8yQKRwPQrXIzJAZmZmZmZmMkD2KFyPwnUxQNejcD0KVzFAj8L1KFxPMUB7FK5H4XoxQHsUrkfhujBAAAAAAAAAMEAAAAAAAAAwQB+F61G43jBArkfhehRuMUD2KFyPwjUxQD0K16NwPTFAzczMzMzMMUBSuB6F69ExQD0K16NwPTFA9ihcj8J1MUDhehSuR6ExQM3MzMzMTDJAexSuR+E6MkAUrkfhelQyQPYoXI/CNTJAw/UoXI9CMUAAAAAAAIAxQAAAAAAAgDFArkfhehRuMUAAAAAAAIAxQJqZmZmZmTFAAAAAAACAMUCamZmZmZkxQB+F61G43jFAPQrXo3D9MUDXo3A9CtcxQAAAAAAAwDFAAAAAAADAMUDXo3A9ChcyQOF6FK5HYTJAuB6F61G4MkBSuB6F65EyQAAAAAAAgDJAH4XrUbieMkAfhetRuJ4yQMP1KFyPAjNAexSuR+H6MkCPwvUoXM8yQOxRuB6FqzJAj8L1KFzPMkD2KFyPwvUyQClcj8L16DJAj8L1KFwPM0D2KFyPwvUyQClcj8L16DJAhetRuB7FMkCPwvUoXM8yQEjhehSuBzNArkfhehQuM0BmZmZmZiYzQArXo3A9yjJACtejcD3KMkCkcD0K1+MyQLgehetRuDJAPQrXo3C9MkD2KFyPwjUyQKRwPQrXIzJAw/UoXI9CMkCuR+F6FC4yQNejcD0KFzJA16NwPQrXMUAAAAAAAMAxQPYoXI/CdTFAAAAAAAAAMUAAAAAAAAAxQHsUrkfhujBAAAAAAADAMEAUrkfhepQwQB+F61G4HjBAPQrXo3A9MEAfhetRuB4wQAAAAAAAADBAhetRuB6FL0DXo3A9ClctQOF6FK5HYS1AFK5H4XqULUDsUbgehWssQOxRuB6FaypAhetRuB4FKUBI4XoUrkcnQI/C9ShcDyhACtejcD2KKEDsUbgehesoQNejcD0KVyhACtejcD2KKEBxPQrXo3AoQFyPwvUo3CdAMzMzMzMzJkApXI/C9agkQClcj8L1qCRAw/UoXI/CJEApXI/C9SgmQClcj8L1qCdAXI/C9SjcJ0DhehSuR+EoQHE9CtejcChAj8L1KFwPKUC4HoXrUbgoQArXo3A9CidA7FG4HoVrJ0AfhetRuJ4nQI/C9ShcDyZAH4XrUbgeJkCF61G4HoUlQBSuR+F6FCRAcT0K16NwJUDD9Shcj0ImQIXrUbgeBSZAFK5H4XqUJUAzMzMzMzMlQNejcD0KVyVAexSuR+F6JUDNzMzMzEwmQFyPwvUo3CdAcT0K16NwKEAfhetRuB4pQBSuR+F6lCpAcT0K16PwK0AfhetRuB4sQD0K16NwPSpAmpmZmZmZKUDXo3A9ClcrQGZmZmZmZitA4XoUrkdhKkBxPQrXo/ArQHE9Ctej8CtAmpmZmZmZLEDD9Shcj0IsQFyPwvUoXCxAXI/C9SjcKkBcj8L1KNwqQFyPwvUo3CpAw/UoXI/CKkDsUbgehesoQAAAAAAAgClAXI/C9ShcKUApXI/C9SgpQI/C9ShcDylAH4XrUbieKkB7FK5H4XoqQFK4HoXr0SpAXI/C9SjcKkDsUbgehesqQB+F61G4nipAUrgehevRKkAAAAAAAAArQPYoXI/C9SpAw/UoXI9CK0AfhetRuB4sQLgehetROCxAuB6F61E4LECuR+F6FC4sQNejcD0K1ytAhetRuB6FLEDXo3A9ClcrQClcj8L1KCtASOF6FK5HKkCamZmZmRkrQBSuR+F6lCpAAAAAAAAAK0B7FK5H4XoqQKRwPQrXIypAzczMzMzMKUAK16NwPQoqQBSuR+F6lCpAj8L1KFwPK0D2KFyPwvUqQD0K16NwvStACtejcD2KK0ApXI/C9agqQJqZmZmZGStA7FG4HoVrKkCuR+F6FC4qQDMzMzMzsylAexSuR+F6KkDhehSuR2EqQAAAAAAAACpA4XoUrkdhKkBI4XoUrkcqQHsUrkfheipA9ihcj8L1KkDXo3A9ClcqQHE9Ctej8ClAAAAAAACAKUDhehSuR2EqQHE9Ctej8ClA16NwPQrXKUD2KFyPwnUpQI/C9ShcjylAZmZmZmZmKUBmZmZmZmYpQClcj8L1qClAMzMzMzOzKUC4HoXrUbgqQClcj8L1KCtAXI/C9SjcKkAAAAAAAIArQOxRuB6FayxAmpmZmZmZLECamZmZmZksQDMzMzMzsyxAKVyPwvWoLEBI4XoUrkctQHsUrkfhei1ASOF6FK7HLUBI4XoUrkctQIXrUbgeBSxAj8L1KFyPLEDD9Shcj0IsQB+F61G4HixAexSuR+H6K0DXo3A9CtcrQJqZmZmZmSxAH4XrUbgeLECamZmZmRktQAAAAAAAAC1AmpmZmZmZLECuR+F6FC4sQNejcD0K1ytAhetRuB6FLEDsUbgehWssQOxRuB6FayxAuB6F61E4LEDsUbgehWssQAAAAAAAAC1AZmZmZmbmLEBcj8L1KFwsQClcj8L1qCxAw/UoXI/CLEAUrkfhepQtQHE9CtejcC1AZmZmZmbmLEBmZmZmZuYsQAAAAAAAAC1ASOF6FK5HLUBI4XoUrkctQArXo3A9Ci1A4XoUrkdhLUC4HoXrUTgvQHE9Ctej8C5AuB6F61G4L0AfhetRuJ4vQM3MzMzMzC5A7FG4HoVrL0C4HoXrUbgvQM3MzMzMzC9AH4XrUbieL0ApXI/C9agvQI/C9Shcjy9ApHA9CtcjL0CuR+F6FC4vQIXrUbgehS9AH4XrUbieL0BmZmZmZuYvQGZmZmZmJjBA9ihcj8L1L0BmZmZmZiYwQClcj8L1qC9A4XoUrkdhL0AK16NwPQovQArXo3A9Ci9AexSuR+H6LkCamZmZmZkuQJqZmZmZmS5ACtejcD0KL0B7FK5H4fouQDMzMzMzsy5AexSuR+H6LkB7FK5H4fouQHE9Ctej8C5AUrgehetRL0BSuB6F61EvQHE9Ctej8C5AUrgehetRL0B7FK5H4XovQD0K16NwPTBAuB6F61E4MEDNzMzMzAwwQKRwPQrXYzBA4XoUrkehMEA9CtejcH0wQHE9CtejcDBAPQrXo3A9MEAK16NwPUowQClcj8L1qDBAPQrXo3B9MEA9CtejcH0wQD0K16NwPTBAUrgehetRMECkcD0K12MwQMP1KFyPgjBAH4XrUbgeMUAUrkfhetQwQIXrUbgehS9Aw/UoXI/CL0DNzMzMzAwwQJqZmZmZGTBApHA9CtdjMEBSuB6F61EwQD0K16NwfTBAcT0K16NwMEA9CtejcH0wQHsUrkfhujBAuB6F61H4MEBSuB6F6xExQNejcD0KVzFApHA9CtcjMUAAAAAAAMAwQB+F61G4HjFAuB6F61H4MEDsUbgeheswQOxRuB6F6zBACtejcD2KMEBxPQrXo3AwQClcj8L1qDBA4XoUrkehMEA9CtejcH0wQM3MzMzMzC9A7FG4HoVrL0AfhetRuJ4vQFK4HoXrUTBAUrgehetRMEBSuB6F6xEwQIXrUbgehS9ASOF6FK5HL0DXo3A9CtcuQBSuR+F6FC9ApHA9CtcjL0CF61G4HoUvQB+F61G4ni9AhetRuB6FL0C4HoXrUTgvQNejcD0K1y5AzczMzMzMLkDNzMzMzEwuQLgehetRuC1AKVyPwvUoLkD2KFyPwvUtQGZmZmZmZi5Aw/UoXI9CLkBmZmZmZuYsQClcj8L1qCxAw/UoXI9CK0Bcj8L1KNwqQNejcD0KVytA9ihcj8J1LECPwvUoXA8uQI/C9ShcDy5ArkfhehSuLUDXo3A9CtcuQArXo3A9ii5AH4XrUbgeLkD2KFyPwvUtQArXo3A9ii5AmpmZmZmZLkA9CtejcL0uQDMzMzMzMy5Aj8L1KFwPLkBcj8L1KNwtQIXrUbgeBS5AexSuR+F6LUCkcD0K1yMtQOxRuB6FayxACtejcD0KLUAAAAAAAAAtQJqZmZmZmSxAXI/C9SjcLEBI4XoUrkctQKRwPQrXIy1AexSuR+F6LUDsUbgehestQIXrUbgeBS5A7FG4HoXrLUAfhetRuB4uQBSuR+F6lC1AH4XrUbieLUCuR+F6FK4tQKRwPQrXIy1ArkfhehSuLUBxPQrXo3AtQLgehetRuC1ArkfhehSuLUCF61G4HgUuQFyPwvUo3C1A7FG4HoXrLUAK16NwPYouQNejcD0K1y5ApHA9CtcjL0AfhetRuJ4vQM3MzMzMDDBAmpmZmZkZMEAK16NwPYowQHsUrkfhujBArkfhehSuMECPwvUoXI8wQM3MzMzMzDBA4XoUrkehMECPwvUoXI8wQMP1KFyPgjBArkfhehSuMEAzMzMzM/MwQDMzMzMz8zBAcT0K16MwMUDXo3A9ChcxQLgehetR+DBA7FG4HoUrMUDXo3A9ChcxQFK4HoXrETFAAAAAAADAMECPwvUoXI8wQI/C9ShcjzBA9ihcj8I1MUAK16NwPUoxQNejcD0KFzJAH4XrUbieMkDsUbgehasyQFyPwvUo3DJAXI/C9SjcMkApXI/C9egyQArXo3A9ijNAcT0K16NwM0B7FK5H4fozQNejcD0KVzRA9ihcj8J1NED2KFyPwnU0QArXo3A9SjRACtejcD1KNED2KFyPwnU0QHsUrkfhujRAKVyPwvWoNEDhehSuR+EzQNejcD0KlzNAexSuR+H6M0AfhetRuF40QFK4HoXrETRAUrgehesRNEBxPQrXo3AzQArXo3A9ijNAw/UoXI+CNEAfhetRuN41QIXrUbgexTVAuB6F61G4NUBI4XoUrkc2QNejcD0KFzZASOF6FK5HN0CPwvUoXA83QMP1KFyPAjdAXI/C9SgcN0BxPQrXo7A2QI/C9ShcTzZA7FG4HoXrNUCPwvUoXA82QPYoXI/CNTZApHA9CtcjNkAfhetRuN41QHsUrkfh+jZASOF6FK6HNUCPwvUoXA82QAAAAAAAwDVAFK5H4XqUNUBxPQrXo/A1QGZmZmZmZjZACtejcD3KNkDhehSuR2E2QJqZmZmZmTZAuB6F61G4NkAfhetRuF43QHE9CtejcDdAexSuR+E6N0AfhetRuF43QD0K16NwfTdAhetRuB6FN0C4HoXrUXg3QHsUrkfhOjdAUrgehetRN0AzMzMzMzM4QB+F61G4HjhAmpmZmZkZOECamZmZmZk3QDMzMzMzMzdAAAAAAABAN0AzMzMzMzM3QAAAAAAAQDdAMzMzMzNzN0AAAAAAAEA3QGZmZmZmZjdAAAAAAACAN0AUrkfhepQ3QM3MzMzMzDdAAAAAAADAN0AAAAAAAAA4QM3MzMzMjDhAMzMzMzNzOECuR+F6FK44QDMzMzMzszhAMzMzMzOzOEDNzMzMzIw4QM3MzMzMTDhAZmZmZmZmOEBmZmZmZiY4QM3MzMzMzDhAAAAAAACAOEAzMzMzM/M3QAAAAAAAADhAAAAAAAAAOEAzMzMzM3M3QJqZmZmZWTdAZmZmZmamNkBmZmZmZuY2QAAAAAAAgDdAAAAAAACAN0AAAAAAAIA3QDMzMzMzczdAmpmZmZlZN0BmZmZmZiY3QM3MzMzMzDZAzczMzMzMNkBmZmZmZqY2QDMzMzMzszZAMzMzMzOzN0AzMzMzM7M3QGZmZmZmZjdAZmZmZmamN0DNzMzMzAw3QAAAAAAAADdAAAAAAADANkAAAAAAAMA2QAAAAAAAwDZAMzMzMzPzNkAAAAAAAEA3QAAAAAAAADdAAAAAAACAN0DNzMzMzEw2QM3MzMzMTDZAzczMzMzMNUCamZmZmdk0QJqZmZmZGTVAAAAAAABANUAAAAAAAAA1QDMzMzMzMzVAZmZmZmYmNUAzMzMzM3M1QGZmZmZm5jVAmpmZmZnZNUAAAAAAAAA2QJqZmZmZWTZAZmZmZmZmNkAAAAAAAIA2QGZmZmZmpjZAAAAAAAAAN0AAAAAAAAA3QJqZmZmZWTdAAAAAAAAAN0DNzMzMzMw2QM3MzMzMzDZAZmZmZmamNkAAAAAAAEA2QJqZmZmZGTZAzczMzMxMNkAzMzMzMzM2QDMzMzMzMzZAAAAAAADANkAAAAAAAAA3QDMzMzMzMzdAzczMzMyMN0CamZmZmVk3QM3MzMzMjDdAzczMzMzMN0CamZmZmRk4QDMzMzMzMzhAMzMzMzMzOEBmZmZmZqY4QGZmZmZm5jhAmpmZmZlZOEDNzMzMzAw4QGZmZmZmJjhAZmZmZmZmOEBmZmZmZqY4QM3MzMzMjDhAMzMzMzNzOECamZmZmVk4QAAAAAAAQDhAMzMzMzMzOECamZmZmVk4QDMzMzMzczhAZmZmZmYmOEAzMzMzMzM4QDMzMzMzMzhAZmZmZmamN0AAAAAAAIA3QGZmZmZmpjdAAAAAAADAN0AAAAAAAAA4QGZmZmZm5jdAMzMzMzOzN0AzMzMzM3M3QDMzMzMzczdAZmZmZmbmN0CamZmZmdk3QJqZmZmZmTdAMzMzMzMzN0DNzMzMzAw3QGZmZmZmJjdAzczMzMzMNkAzMzMzM3M2QDMzMzMzczZAZmZmZmZmNkCamZmZmdk2QDMzMzMzMzdAAAAAAACAN0AAAAAAAIA3QM3MzMzMjDdAAAAAAACAN0CamZmZmZk3QJqZmZmZmTdAZmZmZmamN0BmZmZmZqY3QDMzMzMzczdAMzMzMzMzOEBmZmZmZiY4QGZmZmZmJjhAzczMzMwMOEBmZmZmZiY4QAAAAAAAQDhAmpmZmZlZOEDNzMzMzEw4QDMzMzMzMzhAMzMzMzMzOEAAAAAAAMA3QM3MzMzMzDdAZmZmZmbmN0AAAAAAAAA4QDMzMzMzczhAmpmZmZlZOECamZmZmZk4QGZmZmZmZjhAZmZmZmamOECamZmZmVk4QJqZmZmZmTdAmpmZmZmZN0BmZmZmZqY3QDMzMzMz8zdAMzMzMzPzN0BmZmZmZmY3QM3MzMzMzDdAmpmZmZmZN0AzMzMzM7M3QJqZmZmZ2TdAZmZmZmZmOEBmZmZmZmY4QDMzMzMzMzhAMzMzMzMzOECamZmZmZk4QAAAAAAAwDhAAAAAAABAOEBmZmZmZqY4QDMzMzMzszhAMzMzMzMzOUAAAAAAAMA5QAAAAAAAwDlAZmZmZmbmOUAzMzMzM7M5QDMzMzMz8zlAAAAAAAAAOkAzMzMzM7M5QJqZmZmZ2TlAmpmZmZkZOkDNzMzMzIw6QAAAAAAAgDpAAAAAAACAOkBmZmZmZmY6QM3MzMzMTDpAAAAAAABAOkCamZmZmRk6QJqZmZmZGTpAAAAAAACAO0DNzMzMzEw7QDMzMzMzsztAAAAAAADAO0DNzMzMzMw7QAAAAAAAADxAmpmZmZnZO0DNzMzMzEw7QM3MzMzMTDtAMzMzMzNzO0BmZmZmZmY7QAAAAAAAQDtAMzMzMzNzO0CamZmZmVk7QAAAAAAAADxAZmZmZmbmO0AAAAAAAAA8QAAAAAAAwDtAzczMzMyMO0AAAAAAAIA7QA==",
          "dtype": "f8"
         }
        }
       ],
       "layout": {
        "plot_bgcolor": "rgba(0, 0, 0, 0)",
        "template": {
         "data": {
          "bar": [
           {
            "error_x": {
             "color": "#2a3f5f"
            },
            "error_y": {
             "color": "#2a3f5f"
            },
            "marker": {
             "line": {
              "color": "white",
              "width": 0.5
             },
             "pattern": {
              "fillmode": "overlay",
              "size": 10,
              "solidity": 0.2
             }
            },
            "type": "bar"
           }
          ],
          "barpolar": [
           {
            "marker": {
             "line": {
              "color": "white",
              "width": 0.5
             },
             "pattern": {
              "fillmode": "overlay",
              "size": 10,
              "solidity": 0.2
             }
            },
            "type": "barpolar"
           }
          ],
          "carpet": [
           {
            "aaxis": {
             "endlinecolor": "#2a3f5f",
             "gridcolor": "#C8D4E3",
             "linecolor": "#C8D4E3",
             "minorgridcolor": "#C8D4E3",
             "startlinecolor": "#2a3f5f"
            },
            "baxis": {
             "endlinecolor": "#2a3f5f",
             "gridcolor": "#C8D4E3",
             "linecolor": "#C8D4E3",
             "minorgridcolor": "#C8D4E3",
             "startlinecolor": "#2a3f5f"
            },
            "type": "carpet"
           }
          ],
          "choropleth": [
           {
            "colorbar": {
             "outlinewidth": 0,
             "ticks": ""
            },
            "type": "choropleth"
           }
          ],
          "contour": [
           {
            "colorbar": {
             "outlinewidth": 0,
             "ticks": ""
            },
            "colorscale": [
             [
              0,
              "#0d0887"
             ],
             [
              0.1111111111111111,
              "#46039f"
             ],
             [
              0.2222222222222222,
              "#7201a8"
             ],
             [
              0.3333333333333333,
              "#9c179e"
             ],
             [
              0.4444444444444444,
              "#bd3786"
             ],
             [
              0.5555555555555556,
              "#d8576b"
             ],
             [
              0.6666666666666666,
              "#ed7953"
             ],
             [
              0.7777777777777778,
              "#fb9f3a"
             ],
             [
              0.8888888888888888,
              "#fdca26"
             ],
             [
              1,
              "#f0f921"
             ]
            ],
            "type": "contour"
           }
          ],
          "contourcarpet": [
           {
            "colorbar": {
             "outlinewidth": 0,
             "ticks": ""
            },
            "type": "contourcarpet"
           }
          ],
          "heatmap": [
           {
            "colorbar": {
             "outlinewidth": 0,
             "ticks": ""
            },
            "colorscale": [
             [
              0,
              "#0d0887"
             ],
             [
              0.1111111111111111,
              "#46039f"
             ],
             [
              0.2222222222222222,
              "#7201a8"
             ],
             [
              0.3333333333333333,
              "#9c179e"
             ],
             [
              0.4444444444444444,
              "#bd3786"
             ],
             [
              0.5555555555555556,
              "#d8576b"
             ],
             [
              0.6666666666666666,
              "#ed7953"
             ],
             [
              0.7777777777777778,
              "#fb9f3a"
             ],
             [
              0.8888888888888888,
              "#fdca26"
             ],
             [
              1,
              "#f0f921"
             ]
            ],
            "type": "heatmap"
           }
          ],
          "histogram": [
           {
            "marker": {
             "pattern": {
              "fillmode": "overlay",
              "size": 10,
              "solidity": 0.2
             }
            },
            "type": "histogram"
           }
          ],
          "histogram2d": [
           {
            "colorbar": {
             "outlinewidth": 0,
             "ticks": ""
            },
            "colorscale": [
             [
              0,
              "#0d0887"
             ],
             [
              0.1111111111111111,
              "#46039f"
             ],
             [
              0.2222222222222222,
              "#7201a8"
             ],
             [
              0.3333333333333333,
              "#9c179e"
             ],
             [
              0.4444444444444444,
              "#bd3786"
             ],
             [
              0.5555555555555556,
              "#d8576b"
             ],
             [
              0.6666666666666666,
              "#ed7953"
             ],
             [
              0.7777777777777778,
              "#fb9f3a"
             ],
             [
              0.8888888888888888,
              "#fdca26"
             ],
             [
              1,
              "#f0f921"
             ]
            ],
            "type": "histogram2d"
           }
          ],
          "histogram2dcontour": [
           {
            "colorbar": {
             "outlinewidth": 0,
             "ticks": ""
            },
            "colorscale": [
             [
              0,
              "#0d0887"
             ],
             [
              0.1111111111111111,
              "#46039f"
             ],
             [
              0.2222222222222222,
              "#7201a8"
             ],
             [
              0.3333333333333333,
              "#9c179e"
             ],
             [
              0.4444444444444444,
              "#bd3786"
             ],
             [
              0.5555555555555556,
              "#d8576b"
             ],
             [
              0.6666666666666666,
              "#ed7953"
             ],
             [
              0.7777777777777778,
              "#fb9f3a"
             ],
             [
              0.8888888888888888,
              "#fdca26"
             ],
             [
              1,
              "#f0f921"
             ]
            ],
            "type": "histogram2dcontour"
           }
          ],
          "mesh3d": [
           {
            "colorbar": {
             "outlinewidth": 0,
             "ticks": ""
            },
            "type": "mesh3d"
           }
          ],
          "parcoords": [
           {
            "line": {
             "colorbar": {
              "outlinewidth": 0,
              "ticks": ""
             }
            },
            "type": "parcoords"
           }
          ],
          "pie": [
           {
            "automargin": true,
            "type": "pie"
           }
          ],
          "scatter": [
           {
            "fillpattern": {
             "fillmode": "overlay",
             "size": 10,
             "solidity": 0.2
            },
            "type": "scatter"
           }
          ],
          "scatter3d": [
           {
            "line": {
             "colorbar": {
              "outlinewidth": 0,
              "ticks": ""
             }
            },
            "marker": {
             "colorbar": {
              "outlinewidth": 0,
              "ticks": ""
             }
            },
            "type": "scatter3d"
           }
          ],
          "scattercarpet": [
           {
            "marker": {
             "colorbar": {
              "outlinewidth": 0,
              "ticks": ""
             }
            },
            "type": "scattercarpet"
           }
          ],
          "scattergeo": [
           {
            "marker": {
             "colorbar": {
              "outlinewidth": 0,
              "ticks": ""
             }
            },
            "type": "scattergeo"
           }
          ],
          "scattergl": [
           {
            "marker": {
             "colorbar": {
              "outlinewidth": 0,
              "ticks": ""
             }
            },
            "type": "scattergl"
           }
          ],
          "scattermap": [
           {
            "marker": {
             "colorbar": {
              "outlinewidth": 0,
              "ticks": ""
             }
            },
            "type": "scattermap"
           }
          ],
          "scattermapbox": [
           {
            "marker": {
             "colorbar": {
              "outlinewidth": 0,
              "ticks": ""
             }
            },
            "type": "scattermapbox"
           }
          ],
          "scatterpolar": [
           {
            "marker": {
             "colorbar": {
              "outlinewidth": 0,
              "ticks": ""
             }
            },
            "type": "scatterpolar"
           }
          ],
          "scatterpolargl": [
           {
            "marker": {
             "colorbar": {
              "outlinewidth": 0,
              "ticks": ""
             }
            },
            "type": "scatterpolargl"
           }
          ],
          "scatterternary": [
           {
            "marker": {
             "colorbar": {
              "outlinewidth": 0,
              "ticks": ""
             }
            },
            "type": "scatterternary"
           }
          ],
          "surface": [
           {
            "colorbar": {
             "outlinewidth": 0,
             "ticks": ""
            },
            "colorscale": [
             [
              0,
              "#0d0887"
             ],
             [
              0.1111111111111111,
              "#46039f"
             ],
             [
              0.2222222222222222,
              "#7201a8"
             ],
             [
              0.3333333333333333,
              "#9c179e"
             ],
             [
              0.4444444444444444,
              "#bd3786"
             ],
             [
              0.5555555555555556,
              "#d8576b"
             ],
             [
              0.6666666666666666,
              "#ed7953"
             ],
             [
              0.7777777777777778,
              "#fb9f3a"
             ],
             [
              0.8888888888888888,
              "#fdca26"
             ],
             [
              1,
              "#f0f921"
             ]
            ],
            "type": "surface"
           }
          ],
          "table": [
           {
            "cells": {
             "fill": {
              "color": "#EBF0F8"
             },
             "line": {
              "color": "white"
             }
            },
            "header": {
             "fill": {
              "color": "#C8D4E3"
             },
             "line": {
              "color": "white"
             }
            },
            "type": "table"
           }
          ]
         },
         "layout": {
          "annotationdefaults": {
           "arrowcolor": "#2a3f5f",
           "arrowhead": 0,
           "arrowwidth": 1
          },
          "autotypenumbers": "strict",
          "coloraxis": {
           "colorbar": {
            "outlinewidth": 0,
            "ticks": ""
           }
          },
          "colorscale": {
           "diverging": [
            [
             0,
             "#8e0152"
            ],
            [
             0.1,
             "#c51b7d"
            ],
            [
             0.2,
             "#de77ae"
            ],
            [
             0.3,
             "#f1b6da"
            ],
            [
             0.4,
             "#fde0ef"
            ],
            [
             0.5,
             "#f7f7f7"
            ],
            [
             0.6,
             "#e6f5d0"
            ],
            [
             0.7,
             "#b8e186"
            ],
            [
             0.8,
             "#7fbc41"
            ],
            [
             0.9,
             "#4d9221"
            ],
            [
             1,
             "#276419"
            ]
           ],
           "sequential": [
            [
             0,
             "#0d0887"
            ],
            [
             0.1111111111111111,
             "#46039f"
            ],
            [
             0.2222222222222222,
             "#7201a8"
            ],
            [
             0.3333333333333333,
             "#9c179e"
            ],
            [
             0.4444444444444444,
             "#bd3786"
            ],
            [
             0.5555555555555556,
             "#d8576b"
            ],
            [
             0.6666666666666666,
             "#ed7953"
            ],
            [
             0.7777777777777778,
             "#fb9f3a"
            ],
            [
             0.8888888888888888,
             "#fdca26"
            ],
            [
             1,
             "#f0f921"
            ]
           ],
           "sequentialminus": [
            [
             0,
             "#0d0887"
            ],
            [
             0.1111111111111111,
             "#46039f"
            ],
            [
             0.2222222222222222,
             "#7201a8"
            ],
            [
             0.3333333333333333,
             "#9c179e"
            ],
            [
             0.4444444444444444,
             "#bd3786"
            ],
            [
             0.5555555555555556,
             "#d8576b"
            ],
            [
             0.6666666666666666,
             "#ed7953"
            ],
            [
             0.7777777777777778,
             "#fb9f3a"
            ],
            [
             0.8888888888888888,
             "#fdca26"
            ],
            [
             1,
             "#f0f921"
            ]
           ]
          },
          "colorway": [
           "#636efa",
           "#EF553B",
           "#00cc96",
           "#ab63fa",
           "#FFA15A",
           "#19d3f3",
           "#FF6692",
           "#B6E880",
           "#FF97FF",
           "#FECB52"
          ],
          "font": {
           "color": "#2a3f5f"
          },
          "geo": {
           "bgcolor": "white",
           "lakecolor": "white",
           "landcolor": "white",
           "showlakes": true,
           "showland": true,
           "subunitcolor": "#C8D4E3"
          },
          "hoverlabel": {
           "align": "left"
          },
          "hovermode": "closest",
          "mapbox": {
           "style": "light"
          },
          "paper_bgcolor": "white",
          "plot_bgcolor": "white",
          "polar": {
           "angularaxis": {
            "gridcolor": "#EBF0F8",
            "linecolor": "#EBF0F8",
            "ticks": ""
           },
           "bgcolor": "white",
           "radialaxis": {
            "gridcolor": "#EBF0F8",
            "linecolor": "#EBF0F8",
            "ticks": ""
           }
          },
          "scene": {
           "xaxis": {
            "backgroundcolor": "white",
            "gridcolor": "#DFE8F3",
            "gridwidth": 2,
            "linecolor": "#EBF0F8",
            "showbackground": true,
            "ticks": "",
            "zerolinecolor": "#EBF0F8"
           },
           "yaxis": {
            "backgroundcolor": "white",
            "gridcolor": "#DFE8F3",
            "gridwidth": 2,
            "linecolor": "#EBF0F8",
            "showbackground": true,
            "ticks": "",
            "zerolinecolor": "#EBF0F8"
           },
           "zaxis": {
            "backgroundcolor": "white",
            "gridcolor": "#DFE8F3",
            "gridwidth": 2,
            "linecolor": "#EBF0F8",
            "showbackground": true,
            "ticks": "",
            "zerolinecolor": "#EBF0F8"
           }
          },
          "shapedefaults": {
           "line": {
            "color": "#2a3f5f"
           }
          },
          "ternary": {
           "aaxis": {
            "gridcolor": "#DFE8F3",
            "linecolor": "#A2B1C6",
            "ticks": ""
           },
           "baxis": {
            "gridcolor": "#DFE8F3",
            "linecolor": "#A2B1C6",
            "ticks": ""
           },
           "bgcolor": "white",
           "caxis": {
            "gridcolor": "#DFE8F3",
            "linecolor": "#A2B1C6",
            "ticks": ""
           }
          },
          "title": {
           "x": 0.05
          },
          "xaxis": {
           "automargin": true,
           "gridcolor": "#EBF0F8",
           "linecolor": "#EBF0F8",
           "ticks": "",
           "title": {
            "standoff": 15
           },
           "zerolinecolor": "#EBF0F8",
           "zerolinewidth": 2
          },
          "yaxis": {
           "automargin": true,
           "gridcolor": "#EBF0F8",
           "linecolor": "#EBF0F8",
           "ticks": "",
           "title": {
            "standoff": 15
           },
           "zerolinecolor": "#EBF0F8",
           "zerolinewidth": 2
          }
         }
        },
        "title": {
         "text": "Biểu đồ giá cổ phiếu của 3 ngân hàng theo thời gian"
        },
        "xaxis": {
         "title": {
          "text": "Thời gian"
         }
        },
        "yaxis": {
         "title": {
          "text": "Giá cổ phiếu (VND)"
         }
        }
       }
      }
     },
     "metadata": {},
     "output_type": "display_data"
    }
   ],
   "source": [
    "fig = go.Figure()\n",
    "\n",
    "fig.add_trace(go.Scatter(x=vcb_trade[\"Time\"].values, y=vcb_trade[\"Close\"].values, name=f\"Vietcombank trade\"))\n",
    "fig.add_trace(go.Scatter(x=bid_trade[\"Time\"].values, y=bid_trade[\"Close\"].values, name=f\"BIDV trade\"))\n",
    "fig.add_trace(go.Scatter(x=tcb_trade[\"Time\"].values, y=tcb_trade[\"Close\"].values, name=f\"Techcombank trade\"))\n",
    "\n",
    "fig.update_layout(\n",
    "    title=f\"Biểu đồ giá cổ phiếu của 3 ngân hàng theo thời gian\",\n",
    "    xaxis_title=\"Thời gian\",\n",
    "    yaxis_title=\"Giá cổ phiếu (VND)\",\n",
    "    plot_bgcolor=\"rgba(0, 0, 0, 0)\",\n",
    "    template=\"plotly_white\"\n",
    ")\n",
    "\n",
    "fig.show()"
   ]
  },
  {
   "cell_type": "code",
   "execution_count": 25,
   "id": "bc1ee347",
   "metadata": {},
   "outputs": [
    {
     "data": {
      "application/vnd.plotly.v1+json": {
       "config": {
        "plotlyServerURL": "https://plot.ly"
       },
       "data": [
        {
         "name": "Vietcombank trade",
         "type": "scatter",
         "x": [
          "2022-01-04T00:00:00.000000000",
          "2022-01-05T00:00:00.000000000",
          "2022-01-06T00:00:00.000000000",
          "2022-01-07T00:00:00.000000000",
          "2022-01-10T00:00:00.000000000",
          "2022-01-11T00:00:00.000000000",
          "2022-01-12T00:00:00.000000000",
          "2022-01-13T00:00:00.000000000",
          "2022-01-14T00:00:00.000000000",
          "2022-01-17T00:00:00.000000000",
          "2022-01-18T00:00:00.000000000",
          "2022-01-19T00:00:00.000000000",
          "2022-01-20T00:00:00.000000000",
          "2022-01-21T00:00:00.000000000",
          "2022-01-24T00:00:00.000000000",
          "2022-01-25T00:00:00.000000000",
          "2022-01-26T00:00:00.000000000",
          "2022-01-27T00:00:00.000000000",
          "2022-01-28T00:00:00.000000000",
          "2022-02-07T00:00:00.000000000",
          "2022-02-08T00:00:00.000000000",
          "2022-02-09T00:00:00.000000000",
          "2022-02-10T00:00:00.000000000",
          "2022-02-11T00:00:00.000000000",
          "2022-02-14T00:00:00.000000000",
          "2022-02-15T00:00:00.000000000",
          "2022-02-16T00:00:00.000000000",
          "2022-02-17T00:00:00.000000000",
          "2022-02-18T00:00:00.000000000",
          "2022-02-21T00:00:00.000000000",
          "2022-02-22T00:00:00.000000000",
          "2022-02-23T00:00:00.000000000",
          "2022-02-24T00:00:00.000000000",
          "2022-02-25T00:00:00.000000000",
          "2022-02-28T00:00:00.000000000",
          "2022-03-01T00:00:00.000000000",
          "2022-03-02T00:00:00.000000000",
          "2022-03-03T00:00:00.000000000",
          "2022-03-04T00:00:00.000000000",
          "2022-03-07T00:00:00.000000000",
          "2022-03-08T00:00:00.000000000",
          "2022-03-09T00:00:00.000000000",
          "2022-03-10T00:00:00.000000000",
          "2022-03-11T00:00:00.000000000",
          "2022-03-14T00:00:00.000000000",
          "2022-03-15T00:00:00.000000000",
          "2022-03-16T00:00:00.000000000",
          "2022-03-17T00:00:00.000000000",
          "2022-03-18T00:00:00.000000000",
          "2022-03-21T00:00:00.000000000",
          "2022-03-22T00:00:00.000000000",
          "2022-03-23T00:00:00.000000000",
          "2022-03-24T00:00:00.000000000",
          "2022-03-25T00:00:00.000000000",
          "2022-03-28T00:00:00.000000000",
          "2022-03-29T00:00:00.000000000",
          "2022-03-30T00:00:00.000000000",
          "2022-03-31T00:00:00.000000000",
          "2022-04-01T00:00:00.000000000",
          "2022-04-04T00:00:00.000000000",
          "2022-04-05T00:00:00.000000000",
          "2022-04-06T00:00:00.000000000",
          "2022-04-07T00:00:00.000000000",
          "2022-04-08T00:00:00.000000000",
          "2022-04-12T00:00:00.000000000",
          "2022-04-13T00:00:00.000000000",
          "2022-04-14T00:00:00.000000000",
          "2022-04-15T00:00:00.000000000",
          "2022-04-18T00:00:00.000000000",
          "2022-04-19T00:00:00.000000000",
          "2022-04-20T00:00:00.000000000",
          "2022-04-21T00:00:00.000000000",
          "2022-04-22T00:00:00.000000000",
          "2022-04-25T00:00:00.000000000",
          "2022-04-26T00:00:00.000000000",
          "2022-04-27T00:00:00.000000000",
          "2022-04-28T00:00:00.000000000",
          "2022-04-29T00:00:00.000000000",
          "2022-05-04T00:00:00.000000000",
          "2022-05-05T00:00:00.000000000",
          "2022-05-06T00:00:00.000000000",
          "2022-05-09T00:00:00.000000000",
          "2022-05-10T00:00:00.000000000",
          "2022-05-11T00:00:00.000000000",
          "2022-05-12T00:00:00.000000000",
          "2022-05-13T00:00:00.000000000",
          "2022-05-16T00:00:00.000000000",
          "2022-05-17T00:00:00.000000000",
          "2022-05-18T00:00:00.000000000",
          "2022-05-19T00:00:00.000000000",
          "2022-05-20T00:00:00.000000000",
          "2022-05-23T00:00:00.000000000",
          "2022-05-24T00:00:00.000000000",
          "2022-05-25T00:00:00.000000000",
          "2022-05-26T00:00:00.000000000",
          "2022-05-27T00:00:00.000000000",
          "2022-05-30T00:00:00.000000000",
          "2022-05-31T00:00:00.000000000",
          "2022-06-01T00:00:00.000000000",
          "2022-06-02T00:00:00.000000000",
          "2022-06-03T00:00:00.000000000",
          "2022-06-06T00:00:00.000000000",
          "2022-06-07T00:00:00.000000000",
          "2022-06-08T00:00:00.000000000",
          "2022-06-09T00:00:00.000000000",
          "2022-06-10T00:00:00.000000000",
          "2022-06-13T00:00:00.000000000",
          "2022-06-14T00:00:00.000000000",
          "2022-06-15T00:00:00.000000000",
          "2022-06-16T00:00:00.000000000",
          "2022-06-17T00:00:00.000000000",
          "2022-06-20T00:00:00.000000000",
          "2022-06-21T00:00:00.000000000",
          "2022-06-22T00:00:00.000000000",
          "2022-06-23T00:00:00.000000000",
          "2022-06-24T00:00:00.000000000",
          "2022-06-27T00:00:00.000000000",
          "2022-06-28T00:00:00.000000000",
          "2022-06-29T00:00:00.000000000",
          "2022-06-30T00:00:00.000000000",
          "2022-07-01T00:00:00.000000000",
          "2022-07-04T00:00:00.000000000",
          "2022-07-05T00:00:00.000000000",
          "2022-07-06T00:00:00.000000000",
          "2022-07-07T00:00:00.000000000",
          "2022-07-08T00:00:00.000000000",
          "2022-07-11T00:00:00.000000000",
          "2022-07-12T00:00:00.000000000",
          "2022-07-13T00:00:00.000000000",
          "2022-07-14T00:00:00.000000000",
          "2022-07-15T00:00:00.000000000",
          "2022-07-18T00:00:00.000000000",
          "2022-07-19T00:00:00.000000000",
          "2022-07-20T00:00:00.000000000",
          "2022-07-21T00:00:00.000000000",
          "2022-07-22T00:00:00.000000000",
          "2022-07-25T00:00:00.000000000",
          "2022-07-26T00:00:00.000000000",
          "2022-07-27T00:00:00.000000000",
          "2022-07-28T00:00:00.000000000",
          "2022-07-29T00:00:00.000000000",
          "2022-08-01T00:00:00.000000000",
          "2022-08-02T00:00:00.000000000",
          "2022-08-03T00:00:00.000000000",
          "2022-08-04T00:00:00.000000000",
          "2022-08-05T00:00:00.000000000",
          "2022-08-08T00:00:00.000000000",
          "2022-08-09T00:00:00.000000000",
          "2022-08-10T00:00:00.000000000",
          "2022-08-11T00:00:00.000000000",
          "2022-08-12T00:00:00.000000000",
          "2022-08-15T00:00:00.000000000",
          "2022-08-16T00:00:00.000000000",
          "2022-08-17T00:00:00.000000000",
          "2022-08-18T00:00:00.000000000",
          "2022-08-19T00:00:00.000000000",
          "2022-08-22T00:00:00.000000000",
          "2022-08-23T00:00:00.000000000",
          "2022-08-24T00:00:00.000000000",
          "2022-08-25T00:00:00.000000000",
          "2022-08-26T00:00:00.000000000",
          "2022-08-29T00:00:00.000000000",
          "2022-08-30T00:00:00.000000000",
          "2022-08-31T00:00:00.000000000",
          "2022-09-05T00:00:00.000000000",
          "2022-09-06T00:00:00.000000000",
          "2022-09-07T00:00:00.000000000",
          "2022-09-08T00:00:00.000000000",
          "2022-09-09T00:00:00.000000000",
          "2022-09-12T00:00:00.000000000",
          "2022-09-13T00:00:00.000000000",
          "2022-09-14T00:00:00.000000000",
          "2022-09-15T00:00:00.000000000",
          "2022-09-16T00:00:00.000000000",
          "2022-09-19T00:00:00.000000000",
          "2022-09-20T00:00:00.000000000",
          "2022-09-21T00:00:00.000000000",
          "2022-09-22T00:00:00.000000000",
          "2022-09-23T00:00:00.000000000",
          "2022-09-26T00:00:00.000000000",
          "2022-09-27T00:00:00.000000000",
          "2022-09-28T00:00:00.000000000",
          "2022-09-29T00:00:00.000000000",
          "2022-09-30T00:00:00.000000000",
          "2022-10-03T00:00:00.000000000",
          "2022-10-04T00:00:00.000000000",
          "2022-10-05T00:00:00.000000000",
          "2022-10-06T00:00:00.000000000",
          "2022-10-07T00:00:00.000000000",
          "2022-10-10T00:00:00.000000000",
          "2022-10-11T00:00:00.000000000",
          "2022-10-12T00:00:00.000000000",
          "2022-10-13T00:00:00.000000000",
          "2022-10-14T00:00:00.000000000",
          "2022-10-17T00:00:00.000000000",
          "2022-10-18T00:00:00.000000000",
          "2022-10-19T00:00:00.000000000",
          "2022-10-20T00:00:00.000000000",
          "2022-10-21T00:00:00.000000000",
          "2022-10-24T00:00:00.000000000",
          "2022-10-25T00:00:00.000000000",
          "2022-10-26T00:00:00.000000000",
          "2022-10-27T00:00:00.000000000",
          "2022-10-28T00:00:00.000000000",
          "2022-10-31T00:00:00.000000000",
          "2022-11-01T00:00:00.000000000",
          "2022-11-02T00:00:00.000000000",
          "2022-11-03T00:00:00.000000000",
          "2022-11-04T00:00:00.000000000",
          "2022-11-07T00:00:00.000000000",
          "2022-11-08T00:00:00.000000000",
          "2022-11-09T00:00:00.000000000",
          "2022-11-10T00:00:00.000000000",
          "2022-11-11T00:00:00.000000000",
          "2022-11-14T00:00:00.000000000",
          "2022-11-15T00:00:00.000000000",
          "2022-11-16T00:00:00.000000000",
          "2022-11-17T00:00:00.000000000",
          "2022-11-18T00:00:00.000000000",
          "2022-11-21T00:00:00.000000000",
          "2022-11-22T00:00:00.000000000",
          "2022-11-23T00:00:00.000000000",
          "2022-11-24T00:00:00.000000000",
          "2022-11-25T00:00:00.000000000",
          "2022-11-28T00:00:00.000000000",
          "2022-11-29T00:00:00.000000000",
          "2022-11-30T00:00:00.000000000",
          "2022-12-01T00:00:00.000000000",
          "2022-12-02T00:00:00.000000000",
          "2022-12-05T00:00:00.000000000",
          "2022-12-06T00:00:00.000000000",
          "2022-12-07T00:00:00.000000000",
          "2022-12-08T00:00:00.000000000",
          "2022-12-09T00:00:00.000000000",
          "2022-12-12T00:00:00.000000000",
          "2022-12-13T00:00:00.000000000",
          "2022-12-14T00:00:00.000000000",
          "2022-12-15T00:00:00.000000000",
          "2022-12-16T00:00:00.000000000",
          "2022-12-19T00:00:00.000000000",
          "2022-12-20T00:00:00.000000000",
          "2022-12-21T00:00:00.000000000",
          "2022-12-22T00:00:00.000000000",
          "2022-12-23T00:00:00.000000000",
          "2022-12-26T00:00:00.000000000",
          "2022-12-27T00:00:00.000000000",
          "2022-12-28T00:00:00.000000000",
          "2022-12-29T00:00:00.000000000",
          "2022-12-30T00:00:00.000000000",
          "2023-01-03T00:00:00.000000000",
          "2023-01-04T00:00:00.000000000",
          "2023-01-05T00:00:00.000000000",
          "2023-01-06T00:00:00.000000000",
          "2023-01-09T00:00:00.000000000",
          "2023-01-10T00:00:00.000000000",
          "2023-01-11T00:00:00.000000000",
          "2023-01-12T00:00:00.000000000",
          "2023-01-13T00:00:00.000000000",
          "2023-01-16T00:00:00.000000000",
          "2023-01-17T00:00:00.000000000",
          "2023-01-18T00:00:00.000000000",
          "2023-01-19T00:00:00.000000000",
          "2023-01-27T00:00:00.000000000",
          "2023-01-30T00:00:00.000000000",
          "2023-01-31T00:00:00.000000000",
          "2023-02-01T00:00:00.000000000",
          "2023-02-02T00:00:00.000000000",
          "2023-02-03T00:00:00.000000000",
          "2023-02-06T00:00:00.000000000",
          "2023-02-07T00:00:00.000000000",
          "2023-02-08T00:00:00.000000000",
          "2023-02-09T00:00:00.000000000",
          "2023-02-10T00:00:00.000000000",
          "2023-02-13T00:00:00.000000000",
          "2023-02-14T00:00:00.000000000",
          "2023-02-15T00:00:00.000000000",
          "2023-02-16T00:00:00.000000000",
          "2023-02-17T00:00:00.000000000",
          "2023-02-20T00:00:00.000000000",
          "2023-02-21T00:00:00.000000000",
          "2023-02-22T00:00:00.000000000",
          "2023-02-23T00:00:00.000000000",
          "2023-02-24T00:00:00.000000000",
          "2023-02-27T00:00:00.000000000",
          "2023-02-28T00:00:00.000000000",
          "2023-03-01T00:00:00.000000000",
          "2023-03-02T00:00:00.000000000",
          "2023-03-03T00:00:00.000000000",
          "2023-03-06T00:00:00.000000000",
          "2023-03-07T00:00:00.000000000",
          "2023-03-08T00:00:00.000000000",
          "2023-03-09T00:00:00.000000000",
          "2023-03-10T00:00:00.000000000",
          "2023-03-13T00:00:00.000000000",
          "2023-03-14T00:00:00.000000000",
          "2023-03-15T00:00:00.000000000",
          "2023-03-16T00:00:00.000000000",
          "2023-03-17T00:00:00.000000000",
          "2023-03-20T00:00:00.000000000",
          "2023-03-21T00:00:00.000000000",
          "2023-03-22T00:00:00.000000000",
          "2023-03-23T00:00:00.000000000",
          "2023-03-24T00:00:00.000000000",
          "2023-03-27T00:00:00.000000000",
          "2023-03-28T00:00:00.000000000",
          "2023-03-29T00:00:00.000000000",
          "2023-03-30T00:00:00.000000000",
          "2023-03-31T00:00:00.000000000",
          "2023-04-03T00:00:00.000000000",
          "2023-04-04T00:00:00.000000000",
          "2023-04-05T00:00:00.000000000",
          "2023-04-06T00:00:00.000000000",
          "2023-04-07T00:00:00.000000000",
          "2023-04-10T00:00:00.000000000",
          "2023-04-11T00:00:00.000000000",
          "2023-04-12T00:00:00.000000000",
          "2023-04-13T00:00:00.000000000",
          "2023-04-14T00:00:00.000000000",
          "2023-04-17T00:00:00.000000000",
          "2023-04-18T00:00:00.000000000",
          "2023-04-19T00:00:00.000000000",
          "2023-04-20T00:00:00.000000000",
          "2023-04-21T00:00:00.000000000",
          "2023-04-24T00:00:00.000000000",
          "2023-04-25T00:00:00.000000000",
          "2023-04-26T00:00:00.000000000",
          "2023-04-27T00:00:00.000000000",
          "2023-04-28T00:00:00.000000000",
          "2023-05-04T00:00:00.000000000",
          "2023-05-05T00:00:00.000000000",
          "2023-05-08T00:00:00.000000000",
          "2023-05-09T00:00:00.000000000",
          "2023-05-10T00:00:00.000000000",
          "2023-05-11T00:00:00.000000000",
          "2023-05-12T00:00:00.000000000",
          "2023-05-15T00:00:00.000000000",
          "2023-05-16T00:00:00.000000000",
          "2023-05-17T00:00:00.000000000",
          "2023-05-18T00:00:00.000000000",
          "2023-05-19T00:00:00.000000000",
          "2023-05-22T00:00:00.000000000",
          "2023-05-23T00:00:00.000000000",
          "2023-05-24T00:00:00.000000000",
          "2023-05-25T00:00:00.000000000",
          "2023-05-26T00:00:00.000000000",
          "2023-05-29T00:00:00.000000000",
          "2023-05-30T00:00:00.000000000",
          "2023-05-31T00:00:00.000000000",
          "2023-06-01T00:00:00.000000000",
          "2023-06-02T00:00:00.000000000",
          "2023-06-05T00:00:00.000000000",
          "2023-06-06T00:00:00.000000000",
          "2023-06-07T00:00:00.000000000",
          "2023-06-08T00:00:00.000000000",
          "2023-06-09T00:00:00.000000000",
          "2023-06-12T00:00:00.000000000",
          "2023-06-13T00:00:00.000000000",
          "2023-06-14T00:00:00.000000000",
          "2023-06-15T00:00:00.000000000",
          "2023-06-16T00:00:00.000000000",
          "2023-06-19T00:00:00.000000000",
          "2023-06-20T00:00:00.000000000",
          "2023-06-21T00:00:00.000000000",
          "2023-06-22T00:00:00.000000000",
          "2023-06-23T00:00:00.000000000",
          "2023-06-26T00:00:00.000000000",
          "2023-06-27T00:00:00.000000000",
          "2023-06-28T00:00:00.000000000",
          "2023-06-29T00:00:00.000000000",
          "2023-06-30T00:00:00.000000000",
          "2023-07-03T00:00:00.000000000",
          "2023-07-04T00:00:00.000000000",
          "2023-07-05T00:00:00.000000000",
          "2023-07-06T00:00:00.000000000",
          "2023-07-07T00:00:00.000000000",
          "2023-07-10T00:00:00.000000000",
          "2023-07-11T00:00:00.000000000",
          "2023-07-12T00:00:00.000000000",
          "2023-07-13T00:00:00.000000000",
          "2023-07-14T00:00:00.000000000",
          "2023-07-17T00:00:00.000000000",
          "2023-07-18T00:00:00.000000000",
          "2023-07-19T00:00:00.000000000",
          "2023-07-20T00:00:00.000000000",
          "2023-07-21T00:00:00.000000000",
          "2023-07-24T00:00:00.000000000",
          "2023-07-25T00:00:00.000000000",
          "2023-07-26T00:00:00.000000000",
          "2023-07-27T00:00:00.000000000",
          "2023-07-28T00:00:00.000000000",
          "2023-07-31T00:00:00.000000000",
          "2023-08-01T00:00:00.000000000",
          "2023-08-02T00:00:00.000000000",
          "2023-08-03T00:00:00.000000000",
          "2023-08-04T00:00:00.000000000",
          "2023-08-07T00:00:00.000000000",
          "2023-08-08T00:00:00.000000000",
          "2023-08-09T00:00:00.000000000",
          "2023-08-10T00:00:00.000000000",
          "2023-08-11T00:00:00.000000000",
          "2023-08-14T00:00:00.000000000",
          "2023-08-15T00:00:00.000000000",
          "2023-08-16T00:00:00.000000000",
          "2023-08-17T00:00:00.000000000",
          "2023-08-18T00:00:00.000000000",
          "2023-08-21T00:00:00.000000000",
          "2023-08-22T00:00:00.000000000",
          "2023-08-23T00:00:00.000000000",
          "2023-08-24T00:00:00.000000000",
          "2023-08-25T00:00:00.000000000",
          "2023-08-28T00:00:00.000000000",
          "2023-08-29T00:00:00.000000000",
          "2023-08-30T00:00:00.000000000",
          "2023-08-31T00:00:00.000000000",
          "2023-09-05T00:00:00.000000000",
          "2023-09-06T00:00:00.000000000",
          "2023-09-07T00:00:00.000000000",
          "2023-09-08T00:00:00.000000000",
          "2023-09-11T00:00:00.000000000",
          "2023-09-12T00:00:00.000000000",
          "2023-09-13T00:00:00.000000000",
          "2023-09-14T00:00:00.000000000",
          "2023-09-15T00:00:00.000000000",
          "2023-09-18T00:00:00.000000000",
          "2023-09-19T00:00:00.000000000",
          "2023-09-20T00:00:00.000000000",
          "2023-09-21T00:00:00.000000000",
          "2023-09-22T00:00:00.000000000",
          "2023-09-25T00:00:00.000000000",
          "2023-09-26T00:00:00.000000000",
          "2023-09-27T00:00:00.000000000",
          "2023-09-28T00:00:00.000000000",
          "2023-09-29T00:00:00.000000000",
          "2023-10-02T00:00:00.000000000",
          "2023-10-03T00:00:00.000000000",
          "2023-10-04T00:00:00.000000000",
          "2023-10-05T00:00:00.000000000",
          "2023-10-06T00:00:00.000000000",
          "2023-10-09T00:00:00.000000000",
          "2023-10-10T00:00:00.000000000",
          "2023-10-11T00:00:00.000000000",
          "2023-10-12T00:00:00.000000000",
          "2023-10-13T00:00:00.000000000",
          "2023-10-16T00:00:00.000000000",
          "2023-10-17T00:00:00.000000000",
          "2023-10-18T00:00:00.000000000",
          "2023-10-19T00:00:00.000000000",
          "2023-10-20T00:00:00.000000000",
          "2023-10-23T00:00:00.000000000",
          "2023-10-24T00:00:00.000000000",
          "2023-10-25T00:00:00.000000000",
          "2023-10-26T00:00:00.000000000",
          "2023-10-27T00:00:00.000000000",
          "2023-10-30T00:00:00.000000000",
          "2023-10-31T00:00:00.000000000",
          "2023-11-01T00:00:00.000000000",
          "2023-11-02T00:00:00.000000000",
          "2023-11-03T00:00:00.000000000",
          "2023-11-06T00:00:00.000000000",
          "2023-11-07T00:00:00.000000000",
          "2023-11-08T00:00:00.000000000",
          "2023-11-09T00:00:00.000000000",
          "2023-11-10T00:00:00.000000000",
          "2023-11-13T00:00:00.000000000",
          "2023-11-14T00:00:00.000000000",
          "2023-11-15T00:00:00.000000000",
          "2023-11-16T00:00:00.000000000",
          "2023-11-17T00:00:00.000000000",
          "2023-11-20T00:00:00.000000000",
          "2023-11-21T00:00:00.000000000",
          "2023-11-22T00:00:00.000000000",
          "2023-11-23T00:00:00.000000000",
          "2023-11-24T00:00:00.000000000",
          "2023-11-27T00:00:00.000000000",
          "2023-11-28T00:00:00.000000000",
          "2023-11-29T00:00:00.000000000",
          "2023-11-30T00:00:00.000000000",
          "2023-12-01T00:00:00.000000000",
          "2023-12-04T00:00:00.000000000",
          "2023-12-05T00:00:00.000000000",
          "2023-12-06T00:00:00.000000000",
          "2023-12-07T00:00:00.000000000",
          "2023-12-08T00:00:00.000000000",
          "2023-12-11T00:00:00.000000000",
          "2023-12-12T00:00:00.000000000",
          "2023-12-13T00:00:00.000000000",
          "2023-12-14T00:00:00.000000000",
          "2023-12-15T00:00:00.000000000",
          "2023-12-18T00:00:00.000000000",
          "2023-12-19T00:00:00.000000000",
          "2023-12-20T00:00:00.000000000",
          "2023-12-21T00:00:00.000000000",
          "2023-12-22T00:00:00.000000000",
          "2023-12-25T00:00:00.000000000",
          "2023-12-26T00:00:00.000000000",
          "2023-12-27T00:00:00.000000000",
          "2023-12-28T00:00:00.000000000",
          "2023-12-29T00:00:00.000000000",
          "2024-01-02T00:00:00.000000000",
          "2024-01-03T00:00:00.000000000",
          "2024-01-04T00:00:00.000000000",
          "2024-01-05T00:00:00.000000000",
          "2024-01-08T00:00:00.000000000",
          "2024-01-09T00:00:00.000000000",
          "2024-01-10T00:00:00.000000000",
          "2024-01-11T00:00:00.000000000",
          "2024-01-12T00:00:00.000000000",
          "2024-01-15T00:00:00.000000000",
          "2024-01-16T00:00:00.000000000",
          "2024-01-17T00:00:00.000000000",
          "2024-01-18T00:00:00.000000000",
          "2024-01-19T00:00:00.000000000",
          "2024-01-22T00:00:00.000000000",
          "2024-01-23T00:00:00.000000000",
          "2024-01-24T00:00:00.000000000",
          "2024-01-25T00:00:00.000000000",
          "2024-01-26T00:00:00.000000000",
          "2024-01-29T00:00:00.000000000",
          "2024-01-30T00:00:00.000000000",
          "2024-01-31T00:00:00.000000000",
          "2024-02-01T00:00:00.000000000",
          "2024-02-02T00:00:00.000000000",
          "2024-02-05T00:00:00.000000000",
          "2024-02-06T00:00:00.000000000",
          "2024-02-07T00:00:00.000000000",
          "2024-02-15T00:00:00.000000000",
          "2024-02-16T00:00:00.000000000",
          "2024-02-19T00:00:00.000000000",
          "2024-02-20T00:00:00.000000000",
          "2024-02-21T00:00:00.000000000",
          "2024-02-22T00:00:00.000000000",
          "2024-02-23T00:00:00.000000000",
          "2024-02-26T00:00:00.000000000",
          "2024-02-27T00:00:00.000000000",
          "2024-02-28T00:00:00.000000000",
          "2024-02-29T00:00:00.000000000",
          "2024-03-01T00:00:00.000000000",
          "2024-03-04T00:00:00.000000000",
          "2024-03-05T00:00:00.000000000",
          "2024-03-06T00:00:00.000000000",
          "2024-03-07T00:00:00.000000000",
          "2024-03-08T00:00:00.000000000",
          "2024-03-11T00:00:00.000000000",
          "2024-03-12T00:00:00.000000000",
          "2024-03-13T00:00:00.000000000",
          "2024-03-14T00:00:00.000000000",
          "2024-03-15T00:00:00.000000000",
          "2024-03-18T00:00:00.000000000",
          "2024-03-19T00:00:00.000000000",
          "2024-03-20T00:00:00.000000000",
          "2024-03-21T00:00:00.000000000",
          "2024-03-22T00:00:00.000000000",
          "2024-03-25T00:00:00.000000000",
          "2024-03-26T00:00:00.000000000",
          "2024-03-27T00:00:00.000000000",
          "2024-03-28T00:00:00.000000000",
          "2024-03-29T00:00:00.000000000",
          "2024-04-01T00:00:00.000000000",
          "2024-04-02T00:00:00.000000000",
          "2024-04-03T00:00:00.000000000",
          "2024-04-04T00:00:00.000000000",
          "2024-04-05T00:00:00.000000000",
          "2024-04-08T00:00:00.000000000",
          "2024-04-09T00:00:00.000000000",
          "2024-04-10T00:00:00.000000000",
          "2024-04-11T00:00:00.000000000",
          "2024-04-12T00:00:00.000000000",
          "2024-04-15T00:00:00.000000000",
          "2024-04-16T00:00:00.000000000",
          "2024-04-17T00:00:00.000000000",
          "2024-04-19T00:00:00.000000000",
          "2024-04-22T00:00:00.000000000",
          "2024-04-23T00:00:00.000000000",
          "2024-04-24T00:00:00.000000000",
          "2024-04-25T00:00:00.000000000",
          "2024-04-26T00:00:00.000000000",
          "2024-05-02T00:00:00.000000000",
          "2024-05-03T00:00:00.000000000",
          "2024-05-06T00:00:00.000000000",
          "2024-05-07T00:00:00.000000000",
          "2024-05-08T00:00:00.000000000",
          "2024-05-09T00:00:00.000000000",
          "2024-05-10T00:00:00.000000000",
          "2024-05-13T00:00:00.000000000",
          "2024-05-14T00:00:00.000000000",
          "2024-05-15T00:00:00.000000000",
          "2024-05-16T00:00:00.000000000",
          "2024-05-17T00:00:00.000000000",
          "2024-05-20T00:00:00.000000000",
          "2024-05-21T00:00:00.000000000",
          "2024-05-22T00:00:00.000000000",
          "2024-05-23T00:00:00.000000000",
          "2024-05-24T00:00:00.000000000",
          "2024-05-27T00:00:00.000000000",
          "2024-05-28T00:00:00.000000000",
          "2024-05-29T00:00:00.000000000",
          "2024-05-30T00:00:00.000000000",
          "2024-05-31T00:00:00.000000000",
          "2024-06-03T00:00:00.000000000",
          "2024-06-04T00:00:00.000000000",
          "2024-06-05T00:00:00.000000000",
          "2024-06-06T00:00:00.000000000",
          "2024-06-07T00:00:00.000000000",
          "2024-06-10T00:00:00.000000000",
          "2024-06-11T00:00:00.000000000",
          "2024-06-12T00:00:00.000000000",
          "2024-06-13T00:00:00.000000000",
          "2024-06-14T00:00:00.000000000",
          "2024-06-17T00:00:00.000000000",
          "2024-06-18T00:00:00.000000000",
          "2024-06-19T00:00:00.000000000",
          "2024-06-20T00:00:00.000000000",
          "2024-06-21T00:00:00.000000000",
          "2024-06-24T00:00:00.000000000",
          "2024-06-25T00:00:00.000000000",
          "2024-06-26T00:00:00.000000000",
          "2024-06-27T00:00:00.000000000",
          "2024-06-28T00:00:00.000000000",
          "2024-07-01T00:00:00.000000000",
          "2024-07-02T00:00:00.000000000",
          "2024-07-03T00:00:00.000000000",
          "2024-07-04T00:00:00.000000000",
          "2024-07-05T00:00:00.000000000",
          "2024-07-08T00:00:00.000000000",
          "2024-07-09T00:00:00.000000000",
          "2024-07-10T00:00:00.000000000",
          "2024-07-11T00:00:00.000000000",
          "2024-07-12T00:00:00.000000000",
          "2024-07-15T00:00:00.000000000",
          "2024-07-16T00:00:00.000000000",
          "2024-07-17T00:00:00.000000000",
          "2024-07-18T00:00:00.000000000",
          "2024-07-19T00:00:00.000000000",
          "2024-07-22T00:00:00.000000000",
          "2024-07-23T00:00:00.000000000",
          "2024-07-24T00:00:00.000000000",
          "2024-07-25T00:00:00.000000000",
          "2024-07-26T00:00:00.000000000",
          "2024-07-29T00:00:00.000000000",
          "2024-07-30T00:00:00.000000000",
          "2024-07-31T00:00:00.000000000",
          "2024-08-01T00:00:00.000000000",
          "2024-08-02T00:00:00.000000000",
          "2024-08-05T00:00:00.000000000",
          "2024-08-06T00:00:00.000000000",
          "2024-08-07T00:00:00.000000000",
          "2024-08-08T00:00:00.000000000",
          "2024-08-09T00:00:00.000000000",
          "2024-08-12T00:00:00.000000000",
          "2024-08-13T00:00:00.000000000",
          "2024-08-14T00:00:00.000000000",
          "2024-08-15T00:00:00.000000000",
          "2024-08-16T00:00:00.000000000",
          "2024-08-19T00:00:00.000000000",
          "2024-08-20T00:00:00.000000000",
          "2024-08-21T00:00:00.000000000",
          "2024-08-22T00:00:00.000000000",
          "2024-08-23T00:00:00.000000000",
          "2024-08-26T00:00:00.000000000",
          "2024-08-27T00:00:00.000000000",
          "2024-08-28T00:00:00.000000000",
          "2024-08-29T00:00:00.000000000",
          "2024-08-30T00:00:00.000000000",
          "2024-09-04T00:00:00.000000000",
          "2024-09-05T00:00:00.000000000",
          "2024-09-06T00:00:00.000000000",
          "2024-09-09T00:00:00.000000000",
          "2024-09-10T00:00:00.000000000",
          "2024-09-11T00:00:00.000000000",
          "2024-09-12T00:00:00.000000000",
          "2024-09-13T00:00:00.000000000",
          "2024-09-16T00:00:00.000000000",
          "2024-09-17T00:00:00.000000000",
          "2024-09-18T00:00:00.000000000",
          "2024-09-19T00:00:00.000000000",
          "2024-09-20T00:00:00.000000000",
          "2024-09-23T00:00:00.000000000",
          "2024-09-24T00:00:00.000000000",
          "2024-09-25T00:00:00.000000000",
          "2024-09-26T00:00:00.000000000",
          "2024-09-27T00:00:00.000000000",
          "2024-09-30T00:00:00.000000000",
          "2024-10-01T00:00:00.000000000",
          "2024-10-02T00:00:00.000000000",
          "2024-10-03T00:00:00.000000000",
          "2024-10-04T00:00:00.000000000",
          "2024-10-07T00:00:00.000000000",
          "2024-10-08T00:00:00.000000000",
          "2024-10-09T00:00:00.000000000",
          "2024-10-10T00:00:00.000000000",
          "2024-10-11T00:00:00.000000000",
          "2024-10-14T00:00:00.000000000",
          "2024-10-15T00:00:00.000000000",
          "2024-10-16T00:00:00.000000000",
          "2024-10-17T00:00:00.000000000",
          "2024-10-18T00:00:00.000000000",
          "2024-10-21T00:00:00.000000000",
          "2024-10-22T00:00:00.000000000",
          "2024-10-23T00:00:00.000000000",
          "2024-10-24T00:00:00.000000000",
          "2024-10-25T00:00:00.000000000",
          "2024-10-28T00:00:00.000000000",
          "2024-10-29T00:00:00.000000000",
          "2024-10-30T00:00:00.000000000",
          "2024-10-31T00:00:00.000000000",
          "2024-11-01T00:00:00.000000000",
          "2024-11-04T00:00:00.000000000",
          "2024-11-05T00:00:00.000000000",
          "2024-11-06T00:00:00.000000000",
          "2024-11-07T00:00:00.000000000",
          "2024-11-08T00:00:00.000000000",
          "2024-11-11T00:00:00.000000000",
          "2024-11-12T00:00:00.000000000",
          "2024-11-13T00:00:00.000000000",
          "2024-11-14T00:00:00.000000000",
          "2024-11-15T00:00:00.000000000",
          "2024-11-18T00:00:00.000000000",
          "2024-11-19T00:00:00.000000000",
          "2024-11-20T00:00:00.000000000",
          "2024-11-21T00:00:00.000000000",
          "2024-11-22T00:00:00.000000000",
          "2024-11-25T00:00:00.000000000",
          "2024-11-26T00:00:00.000000000",
          "2024-11-27T00:00:00.000000000",
          "2024-11-28T00:00:00.000000000",
          "2024-11-29T00:00:00.000000000",
          "2024-12-02T00:00:00.000000000",
          "2024-12-03T00:00:00.000000000",
          "2024-12-04T00:00:00.000000000",
          "2024-12-05T00:00:00.000000000",
          "2024-12-06T00:00:00.000000000",
          "2024-12-09T00:00:00.000000000",
          "2024-12-10T00:00:00.000000000",
          "2024-12-11T00:00:00.000000000",
          "2024-12-12T00:00:00.000000000",
          "2024-12-13T00:00:00.000000000",
          "2024-12-16T00:00:00.000000000",
          "2024-12-17T00:00:00.000000000",
          "2024-12-18T00:00:00.000000000",
          "2024-12-19T00:00:00.000000000",
          "2024-12-20T00:00:00.000000000",
          "2024-12-23T00:00:00.000000000",
          "2024-12-24T00:00:00.000000000",
          "2024-12-25T00:00:00.000000000",
          "2024-12-26T00:00:00.000000000",
          "2024-12-27T00:00:00.000000000",
          "2024-12-30T00:00:00.000000000",
          "2024-12-31T00:00:00.000000000",
          "2025-01-02T00:00:00.000000000",
          "2025-01-03T00:00:00.000000000",
          "2025-01-06T00:00:00.000000000",
          "2025-01-07T00:00:00.000000000",
          "2025-01-08T00:00:00.000000000",
          "2025-01-09T00:00:00.000000000",
          "2025-01-10T00:00:00.000000000",
          "2025-01-13T00:00:00.000000000",
          "2025-01-14T00:00:00.000000000",
          "2025-01-15T00:00:00.000000000",
          "2025-01-16T00:00:00.000000000",
          "2025-01-17T00:00:00.000000000",
          "2025-01-20T00:00:00.000000000",
          "2025-01-21T00:00:00.000000000",
          "2025-01-22T00:00:00.000000000",
          "2025-01-23T00:00:00.000000000",
          "2025-01-24T00:00:00.000000000",
          "2025-02-03T00:00:00.000000000",
          "2025-02-04T00:00:00.000000000",
          "2025-02-05T00:00:00.000000000",
          "2025-02-06T00:00:00.000000000",
          "2025-02-07T00:00:00.000000000",
          "2025-02-10T00:00:00.000000000",
          "2025-02-11T00:00:00.000000000",
          "2025-02-12T00:00:00.000000000",
          "2025-02-13T00:00:00.000000000",
          "2025-02-14T00:00:00.000000000",
          "2025-02-17T00:00:00.000000000",
          "2025-02-18T00:00:00.000000000",
          "2025-02-19T00:00:00.000000000",
          "2025-02-20T00:00:00.000000000",
          "2025-02-21T00:00:00.000000000",
          "2025-02-24T00:00:00.000000000",
          "2025-02-25T00:00:00.000000000",
          "2025-02-26T00:00:00.000000000",
          "2025-02-27T00:00:00.000000000",
          "2025-02-28T00:00:00.000000000",
          "2025-03-03T00:00:00.000000000",
          "2025-03-04T00:00:00.000000000",
          "2025-03-05T00:00:00.000000000",
          "2025-03-06T00:00:00.000000000",
          "2025-03-07T00:00:00.000000000",
          "2025-03-10T00:00:00.000000000",
          "2025-03-11T00:00:00.000000000",
          "2025-03-12T00:00:00.000000000",
          "2025-03-13T00:00:00.000000000",
          "2025-03-14T00:00:00.000000000",
          "2025-03-17T00:00:00.000000000",
          "2025-03-18T00:00:00.000000000",
          "2025-03-19T00:00:00.000000000",
          "2025-03-20T00:00:00.000000000",
          "2025-03-21T00:00:00.000000000",
          "2025-03-24T00:00:00.000000000",
          "2025-03-25T00:00:00.000000000",
          "2025-03-26T00:00:00.000000000",
          "2025-03-27T00:00:00.000000000",
          "2025-03-28T00:00:00.000000000",
          "2025-03-31T00:00:00.000000000"
         ],
         "y": {
          "bdata": "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",
          "dtype": "i4"
         }
        },
        {
         "name": "BIDV trade",
         "type": "scatter",
         "x": [
          "2022-01-04T00:00:00.000000000",
          "2022-01-05T00:00:00.000000000",
          "2022-01-06T00:00:00.000000000",
          "2022-01-07T00:00:00.000000000",
          "2022-01-10T00:00:00.000000000",
          "2022-01-11T00:00:00.000000000",
          "2022-01-12T00:00:00.000000000",
          "2022-01-13T00:00:00.000000000",
          "2022-01-14T00:00:00.000000000",
          "2022-01-17T00:00:00.000000000",
          "2022-01-18T00:00:00.000000000",
          "2022-01-19T00:00:00.000000000",
          "2022-01-20T00:00:00.000000000",
          "2022-01-21T00:00:00.000000000",
          "2022-01-24T00:00:00.000000000",
          "2022-01-25T00:00:00.000000000",
          "2022-01-26T00:00:00.000000000",
          "2022-01-27T00:00:00.000000000",
          "2022-01-28T00:00:00.000000000",
          "2022-02-07T00:00:00.000000000",
          "2022-02-08T00:00:00.000000000",
          "2022-02-09T00:00:00.000000000",
          "2022-02-10T00:00:00.000000000",
          "2022-02-11T00:00:00.000000000",
          "2022-02-14T00:00:00.000000000",
          "2022-02-15T00:00:00.000000000",
          "2022-02-16T00:00:00.000000000",
          "2022-02-17T00:00:00.000000000",
          "2022-02-18T00:00:00.000000000",
          "2022-02-21T00:00:00.000000000",
          "2022-02-22T00:00:00.000000000",
          "2022-02-23T00:00:00.000000000",
          "2022-02-24T00:00:00.000000000",
          "2022-02-25T00:00:00.000000000",
          "2022-02-28T00:00:00.000000000",
          "2022-03-01T00:00:00.000000000",
          "2022-03-02T00:00:00.000000000",
          "2022-03-03T00:00:00.000000000",
          "2022-03-04T00:00:00.000000000",
          "2022-03-07T00:00:00.000000000",
          "2022-03-08T00:00:00.000000000",
          "2022-03-09T00:00:00.000000000",
          "2022-03-10T00:00:00.000000000",
          "2022-03-11T00:00:00.000000000",
          "2022-03-14T00:00:00.000000000",
          "2022-03-15T00:00:00.000000000",
          "2022-03-16T00:00:00.000000000",
          "2022-03-17T00:00:00.000000000",
          "2022-03-18T00:00:00.000000000",
          "2022-03-21T00:00:00.000000000",
          "2022-03-22T00:00:00.000000000",
          "2022-03-23T00:00:00.000000000",
          "2022-03-24T00:00:00.000000000",
          "2022-03-25T00:00:00.000000000",
          "2022-03-28T00:00:00.000000000",
          "2022-03-29T00:00:00.000000000",
          "2022-03-30T00:00:00.000000000",
          "2022-03-31T00:00:00.000000000",
          "2022-04-01T00:00:00.000000000",
          "2022-04-04T00:00:00.000000000",
          "2022-04-05T00:00:00.000000000",
          "2022-04-06T00:00:00.000000000",
          "2022-04-07T00:00:00.000000000",
          "2022-04-08T00:00:00.000000000",
          "2022-04-12T00:00:00.000000000",
          "2022-04-13T00:00:00.000000000",
          "2022-04-14T00:00:00.000000000",
          "2022-04-15T00:00:00.000000000",
          "2022-04-18T00:00:00.000000000",
          "2022-04-19T00:00:00.000000000",
          "2022-04-20T00:00:00.000000000",
          "2022-04-21T00:00:00.000000000",
          "2022-04-22T00:00:00.000000000",
          "2022-04-25T00:00:00.000000000",
          "2022-04-26T00:00:00.000000000",
          "2022-04-27T00:00:00.000000000",
          "2022-04-28T00:00:00.000000000",
          "2022-04-29T00:00:00.000000000",
          "2022-05-04T00:00:00.000000000",
          "2022-05-05T00:00:00.000000000",
          "2022-05-06T00:00:00.000000000",
          "2022-05-09T00:00:00.000000000",
          "2022-05-10T00:00:00.000000000",
          "2022-05-11T00:00:00.000000000",
          "2022-05-12T00:00:00.000000000",
          "2022-05-13T00:00:00.000000000",
          "2022-05-16T00:00:00.000000000",
          "2022-05-17T00:00:00.000000000",
          "2022-05-18T00:00:00.000000000",
          "2022-05-19T00:00:00.000000000",
          "2022-05-20T00:00:00.000000000",
          "2022-05-23T00:00:00.000000000",
          "2022-05-24T00:00:00.000000000",
          "2022-05-25T00:00:00.000000000",
          "2022-05-26T00:00:00.000000000",
          "2022-05-27T00:00:00.000000000",
          "2022-05-30T00:00:00.000000000",
          "2022-05-31T00:00:00.000000000",
          "2022-06-01T00:00:00.000000000",
          "2022-06-02T00:00:00.000000000",
          "2022-06-03T00:00:00.000000000",
          "2022-06-06T00:00:00.000000000",
          "2022-06-07T00:00:00.000000000",
          "2022-06-08T00:00:00.000000000",
          "2022-06-09T00:00:00.000000000",
          "2022-06-10T00:00:00.000000000",
          "2022-06-13T00:00:00.000000000",
          "2022-06-14T00:00:00.000000000",
          "2022-06-15T00:00:00.000000000",
          "2022-06-16T00:00:00.000000000",
          "2022-06-17T00:00:00.000000000",
          "2022-06-20T00:00:00.000000000",
          "2022-06-21T00:00:00.000000000",
          "2022-06-22T00:00:00.000000000",
          "2022-06-23T00:00:00.000000000",
          "2022-06-24T00:00:00.000000000",
          "2022-06-27T00:00:00.000000000",
          "2022-06-28T00:00:00.000000000",
          "2022-06-29T00:00:00.000000000",
          "2022-06-30T00:00:00.000000000",
          "2022-07-01T00:00:00.000000000",
          "2022-07-04T00:00:00.000000000",
          "2022-07-05T00:00:00.000000000",
          "2022-07-06T00:00:00.000000000",
          "2022-07-07T00:00:00.000000000",
          "2022-07-08T00:00:00.000000000",
          "2022-07-11T00:00:00.000000000",
          "2022-07-12T00:00:00.000000000",
          "2022-07-13T00:00:00.000000000",
          "2022-07-14T00:00:00.000000000",
          "2022-07-15T00:00:00.000000000",
          "2022-07-18T00:00:00.000000000",
          "2022-07-19T00:00:00.000000000",
          "2022-07-20T00:00:00.000000000",
          "2022-07-21T00:00:00.000000000",
          "2022-07-22T00:00:00.000000000",
          "2022-07-25T00:00:00.000000000",
          "2022-07-26T00:00:00.000000000",
          "2022-07-27T00:00:00.000000000",
          "2022-07-28T00:00:00.000000000",
          "2022-07-29T00:00:00.000000000",
          "2022-08-01T00:00:00.000000000",
          "2022-08-02T00:00:00.000000000",
          "2022-08-03T00:00:00.000000000",
          "2022-08-04T00:00:00.000000000",
          "2022-08-05T00:00:00.000000000",
          "2022-08-08T00:00:00.000000000",
          "2022-08-09T00:00:00.000000000",
          "2022-08-10T00:00:00.000000000",
          "2022-08-11T00:00:00.000000000",
          "2022-08-12T00:00:00.000000000",
          "2022-08-15T00:00:00.000000000",
          "2022-08-16T00:00:00.000000000",
          "2022-08-17T00:00:00.000000000",
          "2022-08-18T00:00:00.000000000",
          "2022-08-19T00:00:00.000000000",
          "2022-08-22T00:00:00.000000000",
          "2022-08-23T00:00:00.000000000",
          "2022-08-24T00:00:00.000000000",
          "2022-08-25T00:00:00.000000000",
          "2022-08-26T00:00:00.000000000",
          "2022-08-29T00:00:00.000000000",
          "2022-08-30T00:00:00.000000000",
          "2022-08-31T00:00:00.000000000",
          "2022-09-05T00:00:00.000000000",
          "2022-09-06T00:00:00.000000000",
          "2022-09-07T00:00:00.000000000",
          "2022-09-08T00:00:00.000000000",
          "2022-09-09T00:00:00.000000000",
          "2022-09-12T00:00:00.000000000",
          "2022-09-13T00:00:00.000000000",
          "2022-09-14T00:00:00.000000000",
          "2022-09-15T00:00:00.000000000",
          "2022-09-16T00:00:00.000000000",
          "2022-09-19T00:00:00.000000000",
          "2022-09-20T00:00:00.000000000",
          "2022-09-21T00:00:00.000000000",
          "2022-09-22T00:00:00.000000000",
          "2022-09-23T00:00:00.000000000",
          "2022-09-26T00:00:00.000000000",
          "2022-09-27T00:00:00.000000000",
          "2022-09-28T00:00:00.000000000",
          "2022-09-29T00:00:00.000000000",
          "2022-09-30T00:00:00.000000000",
          "2022-10-03T00:00:00.000000000",
          "2022-10-04T00:00:00.000000000",
          "2022-10-05T00:00:00.000000000",
          "2022-10-06T00:00:00.000000000",
          "2022-10-07T00:00:00.000000000",
          "2022-10-10T00:00:00.000000000",
          "2022-10-11T00:00:00.000000000",
          "2022-10-12T00:00:00.000000000",
          "2022-10-13T00:00:00.000000000",
          "2022-10-14T00:00:00.000000000",
          "2022-10-17T00:00:00.000000000",
          "2022-10-18T00:00:00.000000000",
          "2022-10-19T00:00:00.000000000",
          "2022-10-20T00:00:00.000000000",
          "2022-10-21T00:00:00.000000000",
          "2022-10-24T00:00:00.000000000",
          "2022-10-25T00:00:00.000000000",
          "2022-10-26T00:00:00.000000000",
          "2022-10-27T00:00:00.000000000",
          "2022-10-28T00:00:00.000000000",
          "2022-10-31T00:00:00.000000000",
          "2022-11-01T00:00:00.000000000",
          "2022-11-02T00:00:00.000000000",
          "2022-11-03T00:00:00.000000000",
          "2022-11-04T00:00:00.000000000",
          "2022-11-07T00:00:00.000000000",
          "2022-11-08T00:00:00.000000000",
          "2022-11-09T00:00:00.000000000",
          "2022-11-10T00:00:00.000000000",
          "2022-11-11T00:00:00.000000000",
          "2022-11-14T00:00:00.000000000",
          "2022-11-15T00:00:00.000000000",
          "2022-11-16T00:00:00.000000000",
          "2022-11-17T00:00:00.000000000",
          "2022-11-18T00:00:00.000000000",
          "2022-11-21T00:00:00.000000000",
          "2022-11-22T00:00:00.000000000",
          "2022-11-23T00:00:00.000000000",
          "2022-11-24T00:00:00.000000000",
          "2022-11-25T00:00:00.000000000",
          "2022-11-28T00:00:00.000000000",
          "2022-11-29T00:00:00.000000000",
          "2022-11-30T00:00:00.000000000",
          "2022-12-01T00:00:00.000000000",
          "2022-12-02T00:00:00.000000000",
          "2022-12-05T00:00:00.000000000",
          "2022-12-06T00:00:00.000000000",
          "2022-12-07T00:00:00.000000000",
          "2022-12-08T00:00:00.000000000",
          "2022-12-09T00:00:00.000000000",
          "2022-12-12T00:00:00.000000000",
          "2022-12-13T00:00:00.000000000",
          "2022-12-14T00:00:00.000000000",
          "2022-12-15T00:00:00.000000000",
          "2022-12-16T00:00:00.000000000",
          "2022-12-19T00:00:00.000000000",
          "2022-12-20T00:00:00.000000000",
          "2022-12-21T00:00:00.000000000",
          "2022-12-22T00:00:00.000000000",
          "2022-12-23T00:00:00.000000000",
          "2022-12-26T00:00:00.000000000",
          "2022-12-27T00:00:00.000000000",
          "2022-12-28T00:00:00.000000000",
          "2022-12-29T00:00:00.000000000",
          "2022-12-30T00:00:00.000000000",
          "2023-01-03T00:00:00.000000000",
          "2023-01-04T00:00:00.000000000",
          "2023-01-05T00:00:00.000000000",
          "2023-01-06T00:00:00.000000000",
          "2023-01-09T00:00:00.000000000",
          "2023-01-10T00:00:00.000000000",
          "2023-01-11T00:00:00.000000000",
          "2023-01-12T00:00:00.000000000",
          "2023-01-13T00:00:00.000000000",
          "2023-01-16T00:00:00.000000000",
          "2023-01-17T00:00:00.000000000",
          "2023-01-18T00:00:00.000000000",
          "2023-01-19T00:00:00.000000000",
          "2023-01-27T00:00:00.000000000",
          "2023-01-30T00:00:00.000000000",
          "2023-01-31T00:00:00.000000000",
          "2023-02-01T00:00:00.000000000",
          "2023-02-02T00:00:00.000000000",
          "2023-02-03T00:00:00.000000000",
          "2023-02-06T00:00:00.000000000",
          "2023-02-07T00:00:00.000000000",
          "2023-02-08T00:00:00.000000000",
          "2023-02-09T00:00:00.000000000",
          "2023-02-10T00:00:00.000000000",
          "2023-02-13T00:00:00.000000000",
          "2023-02-14T00:00:00.000000000",
          "2023-02-15T00:00:00.000000000",
          "2023-02-16T00:00:00.000000000",
          "2023-02-17T00:00:00.000000000",
          "2023-02-20T00:00:00.000000000",
          "2023-02-21T00:00:00.000000000",
          "2023-02-22T00:00:00.000000000",
          "2023-02-23T00:00:00.000000000",
          "2023-02-24T00:00:00.000000000",
          "2023-02-27T00:00:00.000000000",
          "2023-02-28T00:00:00.000000000",
          "2023-03-01T00:00:00.000000000",
          "2023-03-02T00:00:00.000000000",
          "2023-03-03T00:00:00.000000000",
          "2023-03-06T00:00:00.000000000",
          "2023-03-07T00:00:00.000000000",
          "2023-03-08T00:00:00.000000000",
          "2023-03-09T00:00:00.000000000",
          "2023-03-10T00:00:00.000000000",
          "2023-03-13T00:00:00.000000000",
          "2023-03-14T00:00:00.000000000",
          "2023-03-15T00:00:00.000000000",
          "2023-03-16T00:00:00.000000000",
          "2023-03-17T00:00:00.000000000",
          "2023-03-20T00:00:00.000000000",
          "2023-03-21T00:00:00.000000000",
          "2023-03-22T00:00:00.000000000",
          "2023-03-23T00:00:00.000000000",
          "2023-03-24T00:00:00.000000000",
          "2023-03-27T00:00:00.000000000",
          "2023-03-28T00:00:00.000000000",
          "2023-03-29T00:00:00.000000000",
          "2023-03-30T00:00:00.000000000",
          "2023-03-31T00:00:00.000000000",
          "2023-04-03T00:00:00.000000000",
          "2023-04-04T00:00:00.000000000",
          "2023-04-05T00:00:00.000000000",
          "2023-04-06T00:00:00.000000000",
          "2023-04-07T00:00:00.000000000",
          "2023-04-10T00:00:00.000000000",
          "2023-04-11T00:00:00.000000000",
          "2023-04-12T00:00:00.000000000",
          "2023-04-13T00:00:00.000000000",
          "2023-04-14T00:00:00.000000000",
          "2023-04-17T00:00:00.000000000",
          "2023-04-18T00:00:00.000000000",
          "2023-04-19T00:00:00.000000000",
          "2023-04-20T00:00:00.000000000",
          "2023-04-21T00:00:00.000000000",
          "2023-04-24T00:00:00.000000000",
          "2023-04-25T00:00:00.000000000",
          "2023-04-26T00:00:00.000000000",
          "2023-04-27T00:00:00.000000000",
          "2023-04-28T00:00:00.000000000",
          "2023-05-04T00:00:00.000000000",
          "2023-05-05T00:00:00.000000000",
          "2023-05-08T00:00:00.000000000",
          "2023-05-09T00:00:00.000000000",
          "2023-05-10T00:00:00.000000000",
          "2023-05-11T00:00:00.000000000",
          "2023-05-12T00:00:00.000000000",
          "2023-05-15T00:00:00.000000000",
          "2023-05-16T00:00:00.000000000",
          "2023-05-17T00:00:00.000000000",
          "2023-05-18T00:00:00.000000000",
          "2023-05-19T00:00:00.000000000",
          "2023-05-22T00:00:00.000000000",
          "2023-05-23T00:00:00.000000000",
          "2023-05-24T00:00:00.000000000",
          "2023-05-25T00:00:00.000000000",
          "2023-05-26T00:00:00.000000000",
          "2023-05-29T00:00:00.000000000",
          "2023-05-30T00:00:00.000000000",
          "2023-05-31T00:00:00.000000000",
          "2023-06-01T00:00:00.000000000",
          "2023-06-02T00:00:00.000000000",
          "2023-06-05T00:00:00.000000000",
          "2023-06-06T00:00:00.000000000",
          "2023-06-07T00:00:00.000000000",
          "2023-06-08T00:00:00.000000000",
          "2023-06-09T00:00:00.000000000",
          "2023-06-12T00:00:00.000000000",
          "2023-06-13T00:00:00.000000000",
          "2023-06-14T00:00:00.000000000",
          "2023-06-15T00:00:00.000000000",
          "2023-06-16T00:00:00.000000000",
          "2023-06-19T00:00:00.000000000",
          "2023-06-20T00:00:00.000000000",
          "2023-06-21T00:00:00.000000000",
          "2023-06-22T00:00:00.000000000",
          "2023-06-23T00:00:00.000000000",
          "2023-06-26T00:00:00.000000000",
          "2023-06-27T00:00:00.000000000",
          "2023-06-28T00:00:00.000000000",
          "2023-06-29T00:00:00.000000000",
          "2023-06-30T00:00:00.000000000",
          "2023-07-03T00:00:00.000000000",
          "2023-07-04T00:00:00.000000000",
          "2023-07-05T00:00:00.000000000",
          "2023-07-06T00:00:00.000000000",
          "2023-07-07T00:00:00.000000000",
          "2023-07-10T00:00:00.000000000",
          "2023-07-11T00:00:00.000000000",
          "2023-07-12T00:00:00.000000000",
          "2023-07-13T00:00:00.000000000",
          "2023-07-14T00:00:00.000000000",
          "2023-07-17T00:00:00.000000000",
          "2023-07-18T00:00:00.000000000",
          "2023-07-19T00:00:00.000000000",
          "2023-07-20T00:00:00.000000000",
          "2023-07-21T00:00:00.000000000",
          "2023-07-24T00:00:00.000000000",
          "2023-07-25T00:00:00.000000000",
          "2023-07-26T00:00:00.000000000",
          "2023-07-27T00:00:00.000000000",
          "2023-07-28T00:00:00.000000000",
          "2023-07-31T00:00:00.000000000",
          "2023-08-01T00:00:00.000000000",
          "2023-08-02T00:00:00.000000000",
          "2023-08-03T00:00:00.000000000",
          "2023-08-04T00:00:00.000000000",
          "2023-08-07T00:00:00.000000000",
          "2023-08-08T00:00:00.000000000",
          "2023-08-09T00:00:00.000000000",
          "2023-08-10T00:00:00.000000000",
          "2023-08-11T00:00:00.000000000",
          "2023-08-14T00:00:00.000000000",
          "2023-08-15T00:00:00.000000000",
          "2023-08-16T00:00:00.000000000",
          "2023-08-17T00:00:00.000000000",
          "2023-08-18T00:00:00.000000000",
          "2023-08-21T00:00:00.000000000",
          "2023-08-22T00:00:00.000000000",
          "2023-08-23T00:00:00.000000000",
          "2023-08-24T00:00:00.000000000",
          "2023-08-25T00:00:00.000000000",
          "2023-08-28T00:00:00.000000000",
          "2023-08-29T00:00:00.000000000",
          "2023-08-30T00:00:00.000000000",
          "2023-08-31T00:00:00.000000000",
          "2023-09-05T00:00:00.000000000",
          "2023-09-06T00:00:00.000000000",
          "2023-09-07T00:00:00.000000000",
          "2023-09-08T00:00:00.000000000",
          "2023-09-11T00:00:00.000000000",
          "2023-09-12T00:00:00.000000000",
          "2023-09-13T00:00:00.000000000",
          "2023-09-14T00:00:00.000000000",
          "2023-09-15T00:00:00.000000000",
          "2023-09-18T00:00:00.000000000",
          "2023-09-19T00:00:00.000000000",
          "2023-09-20T00:00:00.000000000",
          "2023-09-21T00:00:00.000000000",
          "2023-09-22T00:00:00.000000000",
          "2023-09-25T00:00:00.000000000",
          "2023-09-26T00:00:00.000000000",
          "2023-09-27T00:00:00.000000000",
          "2023-09-28T00:00:00.000000000",
          "2023-09-29T00:00:00.000000000",
          "2023-10-02T00:00:00.000000000",
          "2023-10-03T00:00:00.000000000",
          "2023-10-04T00:00:00.000000000",
          "2023-10-05T00:00:00.000000000",
          "2023-10-06T00:00:00.000000000",
          "2023-10-09T00:00:00.000000000",
          "2023-10-10T00:00:00.000000000",
          "2023-10-11T00:00:00.000000000",
          "2023-10-12T00:00:00.000000000",
          "2023-10-13T00:00:00.000000000",
          "2023-10-16T00:00:00.000000000",
          "2023-10-17T00:00:00.000000000",
          "2023-10-18T00:00:00.000000000",
          "2023-10-19T00:00:00.000000000",
          "2023-10-20T00:00:00.000000000",
          "2023-10-23T00:00:00.000000000",
          "2023-10-24T00:00:00.000000000",
          "2023-10-25T00:00:00.000000000",
          "2023-10-26T00:00:00.000000000",
          "2023-10-27T00:00:00.000000000",
          "2023-10-30T00:00:00.000000000",
          "2023-10-31T00:00:00.000000000",
          "2023-11-01T00:00:00.000000000",
          "2023-11-02T00:00:00.000000000",
          "2023-11-03T00:00:00.000000000",
          "2023-11-06T00:00:00.000000000",
          "2023-11-07T00:00:00.000000000",
          "2023-11-08T00:00:00.000000000",
          "2023-11-09T00:00:00.000000000",
          "2023-11-10T00:00:00.000000000",
          "2023-11-13T00:00:00.000000000",
          "2023-11-14T00:00:00.000000000",
          "2023-11-15T00:00:00.000000000",
          "2023-11-16T00:00:00.000000000",
          "2023-11-17T00:00:00.000000000",
          "2023-11-20T00:00:00.000000000",
          "2023-11-21T00:00:00.000000000",
          "2023-11-22T00:00:00.000000000",
          "2023-11-23T00:00:00.000000000",
          "2023-11-24T00:00:00.000000000",
          "2023-11-27T00:00:00.000000000",
          "2023-11-28T00:00:00.000000000",
          "2023-11-29T00:00:00.000000000",
          "2023-11-30T00:00:00.000000000",
          "2023-12-01T00:00:00.000000000",
          "2023-12-04T00:00:00.000000000",
          "2023-12-05T00:00:00.000000000",
          "2023-12-06T00:00:00.000000000",
          "2023-12-07T00:00:00.000000000",
          "2023-12-08T00:00:00.000000000",
          "2023-12-11T00:00:00.000000000",
          "2023-12-12T00:00:00.000000000",
          "2023-12-13T00:00:00.000000000",
          "2023-12-14T00:00:00.000000000",
          "2023-12-15T00:00:00.000000000",
          "2023-12-18T00:00:00.000000000",
          "2023-12-19T00:00:00.000000000",
          "2023-12-20T00:00:00.000000000",
          "2023-12-21T00:00:00.000000000",
          "2023-12-22T00:00:00.000000000",
          "2023-12-25T00:00:00.000000000",
          "2023-12-26T00:00:00.000000000",
          "2023-12-27T00:00:00.000000000",
          "2023-12-28T00:00:00.000000000",
          "2023-12-29T00:00:00.000000000",
          "2024-01-02T00:00:00.000000000",
          "2024-01-03T00:00:00.000000000",
          "2024-01-04T00:00:00.000000000",
          "2024-01-05T00:00:00.000000000",
          "2024-01-08T00:00:00.000000000",
          "2024-01-09T00:00:00.000000000",
          "2024-01-10T00:00:00.000000000",
          "2024-01-11T00:00:00.000000000",
          "2024-01-12T00:00:00.000000000",
          "2024-01-15T00:00:00.000000000",
          "2024-01-16T00:00:00.000000000",
          "2024-01-17T00:00:00.000000000",
          "2024-01-18T00:00:00.000000000",
          "2024-01-19T00:00:00.000000000",
          "2024-01-22T00:00:00.000000000",
          "2024-01-23T00:00:00.000000000",
          "2024-01-24T00:00:00.000000000",
          "2024-01-25T00:00:00.000000000",
          "2024-01-26T00:00:00.000000000",
          "2024-01-29T00:00:00.000000000",
          "2024-01-30T00:00:00.000000000",
          "2024-01-31T00:00:00.000000000",
          "2024-02-01T00:00:00.000000000",
          "2024-02-02T00:00:00.000000000",
          "2024-02-05T00:00:00.000000000",
          "2024-02-06T00:00:00.000000000",
          "2024-02-07T00:00:00.000000000",
          "2024-02-15T00:00:00.000000000",
          "2024-02-16T00:00:00.000000000",
          "2024-02-19T00:00:00.000000000",
          "2024-02-20T00:00:00.000000000",
          "2024-02-21T00:00:00.000000000",
          "2024-02-22T00:00:00.000000000",
          "2024-02-23T00:00:00.000000000",
          "2024-02-26T00:00:00.000000000",
          "2024-02-27T00:00:00.000000000",
          "2024-02-28T00:00:00.000000000",
          "2024-02-29T00:00:00.000000000",
          "2024-03-01T00:00:00.000000000",
          "2024-03-04T00:00:00.000000000",
          "2024-03-05T00:00:00.000000000",
          "2024-03-06T00:00:00.000000000",
          "2024-03-07T00:00:00.000000000",
          "2024-03-08T00:00:00.000000000",
          "2024-03-11T00:00:00.000000000",
          "2024-03-12T00:00:00.000000000",
          "2024-03-13T00:00:00.000000000",
          "2024-03-14T00:00:00.000000000",
          "2024-03-15T00:00:00.000000000",
          "2024-03-18T00:00:00.000000000",
          "2024-03-19T00:00:00.000000000",
          "2024-03-20T00:00:00.000000000",
          "2024-03-21T00:00:00.000000000",
          "2024-03-22T00:00:00.000000000",
          "2024-03-25T00:00:00.000000000",
          "2024-03-26T00:00:00.000000000",
          "2024-03-27T00:00:00.000000000",
          "2024-03-28T00:00:00.000000000",
          "2024-03-29T00:00:00.000000000",
          "2024-04-01T00:00:00.000000000",
          "2024-04-02T00:00:00.000000000",
          "2024-04-03T00:00:00.000000000",
          "2024-04-04T00:00:00.000000000",
          "2024-04-05T00:00:00.000000000",
          "2024-04-08T00:00:00.000000000",
          "2024-04-09T00:00:00.000000000",
          "2024-04-10T00:00:00.000000000",
          "2024-04-11T00:00:00.000000000",
          "2024-04-12T00:00:00.000000000",
          "2024-04-15T00:00:00.000000000",
          "2024-04-16T00:00:00.000000000",
          "2024-04-17T00:00:00.000000000",
          "2024-04-19T00:00:00.000000000",
          "2024-04-22T00:00:00.000000000",
          "2024-04-23T00:00:00.000000000",
          "2024-04-24T00:00:00.000000000",
          "2024-04-25T00:00:00.000000000",
          "2024-04-26T00:00:00.000000000",
          "2024-05-02T00:00:00.000000000",
          "2024-05-03T00:00:00.000000000",
          "2024-05-06T00:00:00.000000000",
          "2024-05-07T00:00:00.000000000",
          "2024-05-08T00:00:00.000000000",
          "2024-05-09T00:00:00.000000000",
          "2024-05-10T00:00:00.000000000",
          "2024-05-13T00:00:00.000000000",
          "2024-05-14T00:00:00.000000000",
          "2024-05-15T00:00:00.000000000",
          "2024-05-16T00:00:00.000000000",
          "2024-05-17T00:00:00.000000000",
          "2024-05-20T00:00:00.000000000",
          "2024-05-21T00:00:00.000000000",
          "2024-05-22T00:00:00.000000000",
          "2024-05-23T00:00:00.000000000",
          "2024-05-24T00:00:00.000000000",
          "2024-05-27T00:00:00.000000000",
          "2024-05-28T00:00:00.000000000",
          "2024-05-29T00:00:00.000000000",
          "2024-05-30T00:00:00.000000000",
          "2024-05-31T00:00:00.000000000",
          "2024-06-03T00:00:00.000000000",
          "2024-06-04T00:00:00.000000000",
          "2024-06-05T00:00:00.000000000",
          "2024-06-06T00:00:00.000000000",
          "2024-06-07T00:00:00.000000000",
          "2024-06-10T00:00:00.000000000",
          "2024-06-11T00:00:00.000000000",
          "2024-06-12T00:00:00.000000000",
          "2024-06-13T00:00:00.000000000",
          "2024-06-14T00:00:00.000000000",
          "2024-06-17T00:00:00.000000000",
          "2024-06-18T00:00:00.000000000",
          "2024-06-19T00:00:00.000000000",
          "2024-06-20T00:00:00.000000000",
          "2024-06-21T00:00:00.000000000",
          "2024-06-24T00:00:00.000000000",
          "2024-06-25T00:00:00.000000000",
          "2024-06-26T00:00:00.000000000",
          "2024-06-27T00:00:00.000000000",
          "2024-06-28T00:00:00.000000000",
          "2024-07-01T00:00:00.000000000",
          "2024-07-02T00:00:00.000000000",
          "2024-07-03T00:00:00.000000000",
          "2024-07-04T00:00:00.000000000",
          "2024-07-05T00:00:00.000000000",
          "2024-07-08T00:00:00.000000000",
          "2024-07-09T00:00:00.000000000",
          "2024-07-10T00:00:00.000000000",
          "2024-07-11T00:00:00.000000000",
          "2024-07-12T00:00:00.000000000",
          "2024-07-15T00:00:00.000000000",
          "2024-07-16T00:00:00.000000000",
          "2024-07-17T00:00:00.000000000",
          "2024-07-18T00:00:00.000000000",
          "2024-07-19T00:00:00.000000000",
          "2024-07-22T00:00:00.000000000",
          "2024-07-23T00:00:00.000000000",
          "2024-07-24T00:00:00.000000000",
          "2024-07-25T00:00:00.000000000",
          "2024-07-26T00:00:00.000000000",
          "2024-07-29T00:00:00.000000000",
          "2024-07-30T00:00:00.000000000",
          "2024-07-31T00:00:00.000000000",
          "2024-08-01T00:00:00.000000000",
          "2024-08-02T00:00:00.000000000",
          "2024-08-05T00:00:00.000000000",
          "2024-08-06T00:00:00.000000000",
          "2024-08-07T00:00:00.000000000",
          "2024-08-08T00:00:00.000000000",
          "2024-08-09T00:00:00.000000000",
          "2024-08-12T00:00:00.000000000",
          "2024-08-13T00:00:00.000000000",
          "2024-08-14T00:00:00.000000000",
          "2024-08-15T00:00:00.000000000",
          "2024-08-16T00:00:00.000000000",
          "2024-08-19T00:00:00.000000000",
          "2024-08-20T00:00:00.000000000",
          "2024-08-21T00:00:00.000000000",
          "2024-08-22T00:00:00.000000000",
          "2024-08-23T00:00:00.000000000",
          "2024-08-26T00:00:00.000000000",
          "2024-08-27T00:00:00.000000000",
          "2024-08-28T00:00:00.000000000",
          "2024-08-29T00:00:00.000000000",
          "2024-08-30T00:00:00.000000000",
          "2024-09-04T00:00:00.000000000",
          "2024-09-05T00:00:00.000000000",
          "2024-09-06T00:00:00.000000000",
          "2024-09-09T00:00:00.000000000",
          "2024-09-10T00:00:00.000000000",
          "2024-09-11T00:00:00.000000000",
          "2024-09-12T00:00:00.000000000",
          "2024-09-13T00:00:00.000000000",
          "2024-09-16T00:00:00.000000000",
          "2024-09-17T00:00:00.000000000",
          "2024-09-18T00:00:00.000000000",
          "2024-09-19T00:00:00.000000000",
          "2024-09-20T00:00:00.000000000",
          "2024-09-23T00:00:00.000000000",
          "2024-09-24T00:00:00.000000000",
          "2024-09-25T00:00:00.000000000",
          "2024-09-26T00:00:00.000000000",
          "2024-09-27T00:00:00.000000000",
          "2024-09-30T00:00:00.000000000",
          "2024-10-01T00:00:00.000000000",
          "2024-10-02T00:00:00.000000000",
          "2024-10-03T00:00:00.000000000",
          "2024-10-04T00:00:00.000000000",
          "2024-10-07T00:00:00.000000000",
          "2024-10-08T00:00:00.000000000",
          "2024-10-09T00:00:00.000000000",
          "2024-10-10T00:00:00.000000000",
          "2024-10-11T00:00:00.000000000",
          "2024-10-14T00:00:00.000000000",
          "2024-10-15T00:00:00.000000000",
          "2024-10-16T00:00:00.000000000",
          "2024-10-17T00:00:00.000000000",
          "2024-10-18T00:00:00.000000000",
          "2024-10-21T00:00:00.000000000",
          "2024-10-22T00:00:00.000000000",
          "2024-10-23T00:00:00.000000000",
          "2024-10-24T00:00:00.000000000",
          "2024-10-25T00:00:00.000000000",
          "2024-10-28T00:00:00.000000000",
          "2024-10-29T00:00:00.000000000",
          "2024-10-30T00:00:00.000000000",
          "2024-10-31T00:00:00.000000000",
          "2024-11-01T00:00:00.000000000",
          "2024-11-04T00:00:00.000000000",
          "2024-11-05T00:00:00.000000000",
          "2024-11-06T00:00:00.000000000",
          "2024-11-07T00:00:00.000000000",
          "2024-11-08T00:00:00.000000000",
          "2024-11-11T00:00:00.000000000",
          "2024-11-12T00:00:00.000000000",
          "2024-11-13T00:00:00.000000000",
          "2024-11-14T00:00:00.000000000",
          "2024-11-15T00:00:00.000000000",
          "2024-11-18T00:00:00.000000000",
          "2024-11-19T00:00:00.000000000",
          "2024-11-20T00:00:00.000000000",
          "2024-11-21T00:00:00.000000000",
          "2024-11-22T00:00:00.000000000",
          "2024-11-25T00:00:00.000000000",
          "2024-11-26T00:00:00.000000000",
          "2024-11-27T00:00:00.000000000",
          "2024-11-28T00:00:00.000000000",
          "2024-11-29T00:00:00.000000000",
          "2024-12-02T00:00:00.000000000",
          "2024-12-03T00:00:00.000000000",
          "2024-12-04T00:00:00.000000000",
          "2024-12-05T00:00:00.000000000",
          "2024-12-06T00:00:00.000000000",
          "2024-12-09T00:00:00.000000000",
          "2024-12-10T00:00:00.000000000",
          "2024-12-11T00:00:00.000000000",
          "2024-12-12T00:00:00.000000000",
          "2024-12-13T00:00:00.000000000",
          "2024-12-16T00:00:00.000000000",
          "2024-12-17T00:00:00.000000000",
          "2024-12-18T00:00:00.000000000",
          "2024-12-19T00:00:00.000000000",
          "2024-12-20T00:00:00.000000000",
          "2024-12-23T00:00:00.000000000",
          "2024-12-24T00:00:00.000000000",
          "2024-12-25T00:00:00.000000000",
          "2024-12-26T00:00:00.000000000",
          "2024-12-27T00:00:00.000000000",
          "2024-12-30T00:00:00.000000000",
          "2024-12-31T00:00:00.000000000",
          "2025-01-02T00:00:00.000000000",
          "2025-01-03T00:00:00.000000000",
          "2025-01-06T00:00:00.000000000",
          "2025-01-07T00:00:00.000000000",
          "2025-01-08T00:00:00.000000000",
          "2025-01-09T00:00:00.000000000",
          "2025-01-10T00:00:00.000000000",
          "2025-01-13T00:00:00.000000000",
          "2025-01-14T00:00:00.000000000",
          "2025-01-15T00:00:00.000000000",
          "2025-01-16T00:00:00.000000000",
          "2025-01-17T00:00:00.000000000",
          "2025-01-20T00:00:00.000000000",
          "2025-01-21T00:00:00.000000000",
          "2025-01-22T00:00:00.000000000",
          "2025-01-23T00:00:00.000000000",
          "2025-01-24T00:00:00.000000000",
          "2025-02-03T00:00:00.000000000",
          "2025-02-04T00:00:00.000000000",
          "2025-02-05T00:00:00.000000000",
          "2025-02-06T00:00:00.000000000",
          "2025-02-07T00:00:00.000000000",
          "2025-02-10T00:00:00.000000000",
          "2025-02-11T00:00:00.000000000",
          "2025-02-12T00:00:00.000000000",
          "2025-02-13T00:00:00.000000000",
          "2025-02-14T00:00:00.000000000",
          "2025-02-17T00:00:00.000000000",
          "2025-02-18T00:00:00.000000000",
          "2025-02-19T00:00:00.000000000",
          "2025-02-20T00:00:00.000000000",
          "2025-02-21T00:00:00.000000000",
          "2025-02-24T00:00:00.000000000",
          "2025-02-25T00:00:00.000000000",
          "2025-02-26T00:00:00.000000000",
          "2025-02-27T00:00:00.000000000",
          "2025-02-28T00:00:00.000000000",
          "2025-03-03T00:00:00.000000000",
          "2025-03-04T00:00:00.000000000",
          "2025-03-05T00:00:00.000000000",
          "2025-03-06T00:00:00.000000000",
          "2025-03-07T00:00:00.000000000",
          "2025-03-10T00:00:00.000000000",
          "2025-03-11T00:00:00.000000000",
          "2025-03-12T00:00:00.000000000",
          "2025-03-13T00:00:00.000000000",
          "2025-03-14T00:00:00.000000000",
          "2025-03-17T00:00:00.000000000",
          "2025-03-18T00:00:00.000000000",
          "2025-03-19T00:00:00.000000000",
          "2025-03-20T00:00:00.000000000",
          "2025-03-21T00:00:00.000000000",
          "2025-03-24T00:00:00.000000000",
          "2025-03-25T00:00:00.000000000",
          "2025-03-26T00:00:00.000000000",
          "2025-03-27T00:00:00.000000000",
          "2025-03-28T00:00:00.000000000",
          "2025-03-31T00:00:00.000000000"
         ],
         "y": {
          "bdata": "8P4aAJhUHQDQiFsAVKVCADiIMAAUQUEAjIB6ACB5kwB40zEArB52ADD+SQCAXC0ADAdWAJC7RQDsjT8A4MNHAKTXPQBMUB0AZB4tANAONQDYxygAUJxFAPzUKQCELxoAqMdsABReOAAYqSoA+FAbAMi0LQCQHy0AfPIiABATLQAsqjMA7NEjAPguKQDQjSQAtCYvAOS+JQCAVxkA9JMiAMh0JwAMEh4A3NkXAJSHFgDUZxQAJB8XAMhQFAD8zVgAKIUqABiEEwAoGysAfHQeAFijEwBoCx4AHMo8AKh0GgDgmTUAoAgWAMxOMABsxB8AqFMsAGh6MQCgGzAAdAEwACyjMABEdR4AVNocAJxHJgD4CSsARHAjAHxAFgAU9B8AJB0oAHjxLAAIWRwARGoLADTgDgAILBcAqNEXAMhfHgBQGhgAFNYkAHBcGgC0Kg0APAIXAOzqIwC8ihMAgAoRAGCqEwB8qA0ApDYRADBNDwAAuAsAMEcQAHQ4EgB4mA0AZJoQAOSsDwD8VxAA8M8NAEy1CAAQBQ4AFOQRAHT/DgCgBAYAUP4LAPQTFgAU/REAVNgUALy8EwCMmBIAONcOADRrFQAcYxcAnHEGAEhEFAC8mwwAnNAkADi9IwAg3RYAvLg1AKziGwB8R0sAUK4pAPwZKwAINB4ABGkfAFh/GQBMiygAyPMWACQrFQBg6hkABOgOAFg6GAD8LRcAqAgTAABDEgAohA0A0BALAAhHHwBssz8A6GEzADjIHQCYvyAAxPMkABi1DwD8Eg8A1OsXAHgPDwBciRoAWAIZACiPOQCY+Q4A1EgVAMSYFgAYJxYACOIaAJRvGgBIzA4AJGkTALicHgB4hxQAZIwjAFTAGADYQwwAkCcbAKD1LQBAbCEA2PMQABJxDgBd8AwAJU8OAKDAHQAj6g4Au4ATAI0REQDPlQcAMfEOAP4CDADtyh4AIkgJAErhCwBvRg8A7cEbAMoHGAAoQRIAI+QHACL7DQCTMxoApEoPAAbeDQDykBYAn5gVAPhFGgCUoxAA4HoNACeDCwCrjBYA0UwZANT7FAB5XRYAYHMKAEITHwBUKyAADqooAGqpGABkPRQA8C8RAMRGJACHKBgAFAQvAFi7RADuKyYAIhYhANlDFAAM2BwAm34YABzLFgAXIRUAWKATAKQ2IABQ5iQAH1QbAHwqJwD8zScA0/ImAIdwHwAplh0Aj/gWAPJzGQDc0CgAY3MbAFm0KQBMzBgAOUkeAMIOGgBaEgoA6UkWAGBHDwCQRR0A0joZAA7hFQB+ZhQArYwKAFArEwBf2BYADWw4AM1VEwCl9ycA9ngaAAyeHwBF8xEAWO4zAA1AFAAnHw4AxmEXAOvSCgBX5xgAdmNIAJjnFgBZBBwATFYZADZqGgC8fRIAHRsZAPRTJgCGuysA/gkVANWsGgAX8xcAvXEbAEwXEgCIWBUAMUYYACM7FAASPAkAKE8QAALQFgA7EBcAnzoPACQvDwD5ixMAYpsHANhWDgCK8AMAoVALANrqDgDSOwsAozUNAA71GACRyRIAoOIRAGkqDQCiQg4A1g0WAC2bCQCaXw0Avr8EAKXzCACgUwsAepIIALNVBgB7kgUAtUUKAIi1BwDTogQAJ7AKAHfVCQAGSxMAFZUNAETSFABmIBcA4SsLACSRGwA/wxIAJNcLAA3mCwBycgkAhfAKALPDCQDs6AYAde0DAH1qBQBnEQcAwDwIAHovBgDsfgIAk1UGAJrABQC0iAQAukIRAPHwCQC0FgkAhcwHAHqKBgCKqAYAQo4GAIM4DQA13QcA0zYJALJHCQDZggsAGLcLAEUBCgBqUwgAtDQKAN85DAA8xQsAfG8JAIReEgCspg4AxesMALvHDgCqRBkADbETANsuEQBeSBQAF2EUAL+SDADxARYAsicMAPRoDADgaAwA7JkTABgxHQDbsxIA7B8MAESxIwCfKBgAkeIOAEmSEAAwEBIAscMTACFpFAB3bw0ALI9GAA4CKABcnyMA78ccAP3IJwCnECIA9HMZAO+OIwBZRQ4AgrUVAHUUHgAfxBgA3pEjAHvqFACLyhoAT5ocAEZDOgBR+SMA/fkfAMKGIQC2mx4AgyMgAI+DGwBd4ScAqhkgAM5SIABqUBkAV6sUAABwGQDvbysApaQbAJuoEwC0zhQAA8MUAF/vEQDqTgsApcIUAMcpEQB2fBkASM8UAC8AEgAA8BEA6HIYANjFDgDVJQ8AYFgSAAudHAD0FxAACxcWAGorEgBWSQoAKvkNAI/RGwDz2Q8ApiERAPJ8EADQngoAy0kIABqDCgBeZxQAp6ENAH8JCACeeggAWq8KACNjDQBXDxEAxIUPAFmuDwCX3Q4AuvAOAGI5FgBj2xEADvIOALLKCgD2+g0AQlQLANUoHgBrqA0AV0IIAKVSCACUXwUALYsKAKObCACC9wgAYx4IAGfDDgCrjwsARpUJAIc+BwAu/xcAaSIWAMzSDgCCeRIAAV8MAN2VDACDSAsAFooLAOtjDAByawsAM8AMAPxoDADgGwsAxaELABXjCgA4AwoAqKwRABHcHQBeviQA3UYYAL6dDgCIHwwAcekLALCVCACNXAoAGpIMAPGlDwAMWxEASSwSAAHwEQBkyBEAf1cOAGDJEADXew0AavsQAOjUFwCiDTEAyVEUAErGHQC2mRoAMbggAP3eMwClKi8A54YUAK9UEQBaaxYAMf0iAO9YLQCLMiQAV10hAHKTHAATphQAFm0MAH4ODwBSJREA9ZQZAICTFwDU1R0AbWciABtWFwAnZxwAadkYAEevFAD8KzIA8P4XAAlMHADwZRgA4QRqALpyFwAnoBoA7s0jANBzFAAoDhMA954jAONbEgDtOBgAInYgAJ/cKQDMmxYAgYASAHNcFQBhphYAl+UVABmjFgBGsgsA49cvANZfHABAqkIAQU0TAM+HFQBsjxgAWsQUAHtPGwBS1RQAZRQYALXaFgCwtBAAuEYZABnWDQByvRoAMDsSACDDIgBcjTMAItAmAGzqIwBFKR4AfiUhACTYEwDTtiIAA6IVAJ4XEACh1wsAf7EIALW1CgBaNxIAZFgQAPQmEACL1A4AwKUMAHhqGQCjwx0AV0YVAAcJIABJMRcAqHwhALloGwBzFiUAZ1AbAHQ7IQAsrQsAuM0SAAs2FQAA+h8AZg8eAGwAIACfCREAXn0bAEuWFQBk2RIAWoQfACe8JgB0dSgAUPMnAI47IgDv9ioAY28WALe0JwCfzCgA4IcXAPfSHQBcKSwAB9IZAKQIGABBZiAALukSADgrNwAzRUYAaLcoAE+WRgAMSB4Ag0onAJHYHgDqxBMAgu8VAFYaEgBLTz4A0fl3ABpZMwA+ES8A6IA0APBMMwAK2yUAx2AWACTqEgC8+A8Am9giADpHMADIajoATBAeAC+VKQD6lBsAXb8gAL+/FQC3DBAA78AUAEmDDwCXBRoAw1YPAAljJADFMCAAkJNCAMk+XgAA1SkAlbkiAGFSIgCthT8AmG0SAKjAGQAldRsAURseAJMCHQCLDyQApVwSACGkJAArexUAdd8QADdpCwAx+xcAXdEUAC8KHACathQAqIEoAI+ZEgBimBUAD0hQAGSmQABL7jAAAHMhAMsHKwB6BBwAaIA1ANAMIQCIzBYA2gUdAK5zIQBveSgA3IIXAFjAEQDtxGkAJFgbAMlaIADn1TMAKXMgABZ8MwCRmiQAdmEWANnlGQCSWhoAcDohAHSeFQDoWxsAl48XAJNqFACMTBcAhYcQAGhMEwC4cSgAkbgnAPnEGQAAwBsAM4oeAM55IgBlPh0ACUMWAIJuIQCOfRYATaAcAPv2EAAVFxwAqo8SAMafEwCGChYATxMUAGdhFQBHoyQA3xAlALgkJgAMPRoAZq4dAKGmEwC6jR0AJB0VAAKWMQAmVSIA3F4ZAJpRKQDAsS0AFj4sAMcfMQAwl1AAhU47AIauKwAPPT0A0Cc0ADNDMAAUezgAQI9JABBunwDQry8A/Oo2AASGLwDYjiUAoJwOAOirFgBU2RgAJAAYAJyNKwDQpSAAJNYeALyjLADMnCMAJC02ADQrQQD8KiQApKs8APDkegDcI0YAyNkrAIApQgCUFCUA6ItFAEyvIgAkqTIAcDJTAADbMwAAmy0AmJs/AIBbQgBEFS4A7PEmAFCQLgAUAB4ARPcyAOgtKwDkeSQAQIhGACR9SgCIJjMAZIw8APS/PAD0ECMAXKgyAEAsNACwjTAAuGsiALC8JAD89zgAtM4sABi7JwAAaxwAnGIVAJA+LAA=",
          "dtype": "i4"
         }
        },
        {
         "name": "Techcombank trade",
         "type": "scatter",
         "x": [
          "2022-01-04T00:00:00.000000000",
          "2022-01-05T00:00:00.000000000",
          "2022-01-06T00:00:00.000000000",
          "2022-01-07T00:00:00.000000000",
          "2022-01-10T00:00:00.000000000",
          "2022-01-11T00:00:00.000000000",
          "2022-01-12T00:00:00.000000000",
          "2022-01-13T00:00:00.000000000",
          "2022-01-14T00:00:00.000000000",
          "2022-01-17T00:00:00.000000000",
          "2022-01-18T00:00:00.000000000",
          "2022-01-19T00:00:00.000000000",
          "2022-01-20T00:00:00.000000000",
          "2022-01-21T00:00:00.000000000",
          "2022-01-24T00:00:00.000000000",
          "2022-01-25T00:00:00.000000000",
          "2022-01-26T00:00:00.000000000",
          "2022-01-27T00:00:00.000000000",
          "2022-01-28T00:00:00.000000000",
          "2022-02-07T00:00:00.000000000",
          "2022-02-08T00:00:00.000000000",
          "2022-02-09T00:00:00.000000000",
          "2022-02-10T00:00:00.000000000",
          "2022-02-11T00:00:00.000000000",
          "2022-02-14T00:00:00.000000000",
          "2022-02-15T00:00:00.000000000",
          "2022-02-16T00:00:00.000000000",
          "2022-02-17T00:00:00.000000000",
          "2022-02-18T00:00:00.000000000",
          "2022-02-21T00:00:00.000000000",
          "2022-02-22T00:00:00.000000000",
          "2022-02-23T00:00:00.000000000",
          "2022-02-24T00:00:00.000000000",
          "2022-02-25T00:00:00.000000000",
          "2022-02-28T00:00:00.000000000",
          "2022-03-01T00:00:00.000000000",
          "2022-03-02T00:00:00.000000000",
          "2022-03-03T00:00:00.000000000",
          "2022-03-04T00:00:00.000000000",
          "2022-03-07T00:00:00.000000000",
          "2022-03-08T00:00:00.000000000",
          "2022-03-09T00:00:00.000000000",
          "2022-03-10T00:00:00.000000000",
          "2022-03-11T00:00:00.000000000",
          "2022-03-14T00:00:00.000000000",
          "2022-03-15T00:00:00.000000000",
          "2022-03-16T00:00:00.000000000",
          "2022-03-17T00:00:00.000000000",
          "2022-03-18T00:00:00.000000000",
          "2022-03-21T00:00:00.000000000",
          "2022-03-22T00:00:00.000000000",
          "2022-03-23T00:00:00.000000000",
          "2022-03-24T00:00:00.000000000",
          "2022-03-25T00:00:00.000000000",
          "2022-03-28T00:00:00.000000000",
          "2022-03-29T00:00:00.000000000",
          "2022-03-30T00:00:00.000000000",
          "2022-03-31T00:00:00.000000000",
          "2022-04-01T00:00:00.000000000",
          "2022-04-04T00:00:00.000000000",
          "2022-04-05T00:00:00.000000000",
          "2022-04-06T00:00:00.000000000",
          "2022-04-07T00:00:00.000000000",
          "2022-04-08T00:00:00.000000000",
          "2022-04-12T00:00:00.000000000",
          "2022-04-13T00:00:00.000000000",
          "2022-04-14T00:00:00.000000000",
          "2022-04-15T00:00:00.000000000",
          "2022-04-18T00:00:00.000000000",
          "2022-04-19T00:00:00.000000000",
          "2022-04-20T00:00:00.000000000",
          "2022-04-21T00:00:00.000000000",
          "2022-04-22T00:00:00.000000000",
          "2022-04-25T00:00:00.000000000",
          "2022-04-26T00:00:00.000000000",
          "2022-04-27T00:00:00.000000000",
          "2022-04-28T00:00:00.000000000",
          "2022-04-29T00:00:00.000000000",
          "2022-05-04T00:00:00.000000000",
          "2022-05-05T00:00:00.000000000",
          "2022-05-06T00:00:00.000000000",
          "2022-05-09T00:00:00.000000000",
          "2022-05-10T00:00:00.000000000",
          "2022-05-11T00:00:00.000000000",
          "2022-05-12T00:00:00.000000000",
          "2022-05-13T00:00:00.000000000",
          "2022-05-16T00:00:00.000000000",
          "2022-05-17T00:00:00.000000000",
          "2022-05-18T00:00:00.000000000",
          "2022-05-19T00:00:00.000000000",
          "2022-05-20T00:00:00.000000000",
          "2022-05-23T00:00:00.000000000",
          "2022-05-24T00:00:00.000000000",
          "2022-05-25T00:00:00.000000000",
          "2022-05-26T00:00:00.000000000",
          "2022-05-27T00:00:00.000000000",
          "2022-05-30T00:00:00.000000000",
          "2022-05-31T00:00:00.000000000",
          "2022-06-01T00:00:00.000000000",
          "2022-06-02T00:00:00.000000000",
          "2022-06-03T00:00:00.000000000",
          "2022-06-06T00:00:00.000000000",
          "2022-06-07T00:00:00.000000000",
          "2022-06-08T00:00:00.000000000",
          "2022-06-09T00:00:00.000000000",
          "2022-06-10T00:00:00.000000000",
          "2022-06-13T00:00:00.000000000",
          "2022-06-14T00:00:00.000000000",
          "2022-06-15T00:00:00.000000000",
          "2022-06-16T00:00:00.000000000",
          "2022-06-17T00:00:00.000000000",
          "2022-06-20T00:00:00.000000000",
          "2022-06-21T00:00:00.000000000",
          "2022-06-22T00:00:00.000000000",
          "2022-06-23T00:00:00.000000000",
          "2022-06-24T00:00:00.000000000",
          "2022-06-27T00:00:00.000000000",
          "2022-06-28T00:00:00.000000000",
          "2022-06-29T00:00:00.000000000",
          "2022-06-30T00:00:00.000000000",
          "2022-07-01T00:00:00.000000000",
          "2022-07-04T00:00:00.000000000",
          "2022-07-05T00:00:00.000000000",
          "2022-07-06T00:00:00.000000000",
          "2022-07-07T00:00:00.000000000",
          "2022-07-08T00:00:00.000000000",
          "2022-07-11T00:00:00.000000000",
          "2022-07-12T00:00:00.000000000",
          "2022-07-13T00:00:00.000000000",
          "2022-07-14T00:00:00.000000000",
          "2022-07-15T00:00:00.000000000",
          "2022-07-18T00:00:00.000000000",
          "2022-07-19T00:00:00.000000000",
          "2022-07-20T00:00:00.000000000",
          "2022-07-21T00:00:00.000000000",
          "2022-07-22T00:00:00.000000000",
          "2022-07-25T00:00:00.000000000",
          "2022-07-26T00:00:00.000000000",
          "2022-07-27T00:00:00.000000000",
          "2022-07-28T00:00:00.000000000",
          "2022-07-29T00:00:00.000000000",
          "2022-08-01T00:00:00.000000000",
          "2022-08-02T00:00:00.000000000",
          "2022-08-03T00:00:00.000000000",
          "2022-08-04T00:00:00.000000000",
          "2022-08-05T00:00:00.000000000",
          "2022-08-08T00:00:00.000000000",
          "2022-08-09T00:00:00.000000000",
          "2022-08-10T00:00:00.000000000",
          "2022-08-11T00:00:00.000000000",
          "2022-08-12T00:00:00.000000000",
          "2022-08-15T00:00:00.000000000",
          "2022-08-16T00:00:00.000000000",
          "2022-08-17T00:00:00.000000000",
          "2022-08-18T00:00:00.000000000",
          "2022-08-19T00:00:00.000000000",
          "2022-08-22T00:00:00.000000000",
          "2022-08-23T00:00:00.000000000",
          "2022-08-24T00:00:00.000000000",
          "2022-08-25T00:00:00.000000000",
          "2022-08-26T00:00:00.000000000",
          "2022-08-29T00:00:00.000000000",
          "2022-08-30T00:00:00.000000000",
          "2022-08-31T00:00:00.000000000",
          "2022-09-05T00:00:00.000000000",
          "2022-09-06T00:00:00.000000000",
          "2022-09-07T00:00:00.000000000",
          "2022-09-08T00:00:00.000000000",
          "2022-09-09T00:00:00.000000000",
          "2022-09-12T00:00:00.000000000",
          "2022-09-13T00:00:00.000000000",
          "2022-09-14T00:00:00.000000000",
          "2022-09-15T00:00:00.000000000",
          "2022-09-16T00:00:00.000000000",
          "2022-09-19T00:00:00.000000000",
          "2022-09-20T00:00:00.000000000",
          "2022-09-21T00:00:00.000000000",
          "2022-09-22T00:00:00.000000000",
          "2022-09-23T00:00:00.000000000",
          "2022-09-26T00:00:00.000000000",
          "2022-09-27T00:00:00.000000000",
          "2022-09-28T00:00:00.000000000",
          "2022-09-29T00:00:00.000000000",
          "2022-09-30T00:00:00.000000000",
          "2022-10-03T00:00:00.000000000",
          "2022-10-04T00:00:00.000000000",
          "2022-10-05T00:00:00.000000000",
          "2022-10-06T00:00:00.000000000",
          "2022-10-07T00:00:00.000000000",
          "2022-10-10T00:00:00.000000000",
          "2022-10-11T00:00:00.000000000",
          "2022-10-12T00:00:00.000000000",
          "2022-10-13T00:00:00.000000000",
          "2022-10-14T00:00:00.000000000",
          "2022-10-17T00:00:00.000000000",
          "2022-10-18T00:00:00.000000000",
          "2022-10-19T00:00:00.000000000",
          "2022-10-20T00:00:00.000000000",
          "2022-10-21T00:00:00.000000000",
          "2022-10-24T00:00:00.000000000",
          "2022-10-25T00:00:00.000000000",
          "2022-10-26T00:00:00.000000000",
          "2022-10-27T00:00:00.000000000",
          "2022-10-28T00:00:00.000000000",
          "2022-10-31T00:00:00.000000000",
          "2022-11-01T00:00:00.000000000",
          "2022-11-02T00:00:00.000000000",
          "2022-11-03T00:00:00.000000000",
          "2022-11-04T00:00:00.000000000",
          "2022-11-07T00:00:00.000000000",
          "2022-11-08T00:00:00.000000000",
          "2022-11-09T00:00:00.000000000",
          "2022-11-10T00:00:00.000000000",
          "2022-11-11T00:00:00.000000000",
          "2022-11-14T00:00:00.000000000",
          "2022-11-15T00:00:00.000000000",
          "2022-11-16T00:00:00.000000000",
          "2022-11-17T00:00:00.000000000",
          "2022-11-18T00:00:00.000000000",
          "2022-11-21T00:00:00.000000000",
          "2022-11-22T00:00:00.000000000",
          "2022-11-23T00:00:00.000000000",
          "2022-11-24T00:00:00.000000000",
          "2022-11-25T00:00:00.000000000",
          "2022-11-28T00:00:00.000000000",
          "2022-11-29T00:00:00.000000000",
          "2022-11-30T00:00:00.000000000",
          "2022-12-01T00:00:00.000000000",
          "2022-12-02T00:00:00.000000000",
          "2022-12-05T00:00:00.000000000",
          "2022-12-06T00:00:00.000000000",
          "2022-12-07T00:00:00.000000000",
          "2022-12-08T00:00:00.000000000",
          "2022-12-09T00:00:00.000000000",
          "2022-12-12T00:00:00.000000000",
          "2022-12-13T00:00:00.000000000",
          "2022-12-14T00:00:00.000000000",
          "2022-12-15T00:00:00.000000000",
          "2022-12-16T00:00:00.000000000",
          "2022-12-19T00:00:00.000000000",
          "2022-12-20T00:00:00.000000000",
          "2022-12-21T00:00:00.000000000",
          "2022-12-22T00:00:00.000000000",
          "2022-12-23T00:00:00.000000000",
          "2022-12-26T00:00:00.000000000",
          "2022-12-27T00:00:00.000000000",
          "2022-12-28T00:00:00.000000000",
          "2022-12-29T00:00:00.000000000",
          "2022-12-30T00:00:00.000000000",
          "2023-01-03T00:00:00.000000000",
          "2023-01-04T00:00:00.000000000",
          "2023-01-05T00:00:00.000000000",
          "2023-01-06T00:00:00.000000000",
          "2023-01-09T00:00:00.000000000",
          "2023-01-10T00:00:00.000000000",
          "2023-01-11T00:00:00.000000000",
          "2023-01-12T00:00:00.000000000",
          "2023-01-13T00:00:00.000000000",
          "2023-01-16T00:00:00.000000000",
          "2023-01-17T00:00:00.000000000",
          "2023-01-18T00:00:00.000000000",
          "2023-01-19T00:00:00.000000000",
          "2023-01-27T00:00:00.000000000",
          "2023-01-30T00:00:00.000000000",
          "2023-01-31T00:00:00.000000000",
          "2023-02-01T00:00:00.000000000",
          "2023-02-02T00:00:00.000000000",
          "2023-02-03T00:00:00.000000000",
          "2023-02-06T00:00:00.000000000",
          "2023-02-07T00:00:00.000000000",
          "2023-02-08T00:00:00.000000000",
          "2023-02-09T00:00:00.000000000",
          "2023-02-10T00:00:00.000000000",
          "2023-02-13T00:00:00.000000000",
          "2023-02-14T00:00:00.000000000",
          "2023-02-15T00:00:00.000000000",
          "2023-02-16T00:00:00.000000000",
          "2023-02-17T00:00:00.000000000",
          "2023-02-20T00:00:00.000000000",
          "2023-02-21T00:00:00.000000000",
          "2023-02-22T00:00:00.000000000",
          "2023-02-23T00:00:00.000000000",
          "2023-02-24T00:00:00.000000000",
          "2023-02-27T00:00:00.000000000",
          "2023-02-28T00:00:00.000000000",
          "2023-03-01T00:00:00.000000000",
          "2023-03-02T00:00:00.000000000",
          "2023-03-03T00:00:00.000000000",
          "2023-03-06T00:00:00.000000000",
          "2023-03-07T00:00:00.000000000",
          "2023-03-08T00:00:00.000000000",
          "2023-03-09T00:00:00.000000000",
          "2023-03-10T00:00:00.000000000",
          "2023-03-13T00:00:00.000000000",
          "2023-03-14T00:00:00.000000000",
          "2023-03-15T00:00:00.000000000",
          "2023-03-16T00:00:00.000000000",
          "2023-03-17T00:00:00.000000000",
          "2023-03-20T00:00:00.000000000",
          "2023-03-21T00:00:00.000000000",
          "2023-03-22T00:00:00.000000000",
          "2023-03-23T00:00:00.000000000",
          "2023-03-24T00:00:00.000000000",
          "2023-03-27T00:00:00.000000000",
          "2023-03-28T00:00:00.000000000",
          "2023-03-29T00:00:00.000000000",
          "2023-03-30T00:00:00.000000000",
          "2023-03-31T00:00:00.000000000",
          "2023-04-03T00:00:00.000000000",
          "2023-04-04T00:00:00.000000000",
          "2023-04-05T00:00:00.000000000",
          "2023-04-06T00:00:00.000000000",
          "2023-04-07T00:00:00.000000000",
          "2023-04-10T00:00:00.000000000",
          "2023-04-11T00:00:00.000000000",
          "2023-04-12T00:00:00.000000000",
          "2023-04-13T00:00:00.000000000",
          "2023-04-14T00:00:00.000000000",
          "2023-04-17T00:00:00.000000000",
          "2023-04-18T00:00:00.000000000",
          "2023-04-19T00:00:00.000000000",
          "2023-04-20T00:00:00.000000000",
          "2023-04-21T00:00:00.000000000",
          "2023-04-24T00:00:00.000000000",
          "2023-04-25T00:00:00.000000000",
          "2023-04-26T00:00:00.000000000",
          "2023-04-27T00:00:00.000000000",
          "2023-04-28T00:00:00.000000000",
          "2023-05-04T00:00:00.000000000",
          "2023-05-05T00:00:00.000000000",
          "2023-05-08T00:00:00.000000000",
          "2023-05-09T00:00:00.000000000",
          "2023-05-10T00:00:00.000000000",
          "2023-05-11T00:00:00.000000000",
          "2023-05-12T00:00:00.000000000",
          "2023-05-15T00:00:00.000000000",
          "2023-05-16T00:00:00.000000000",
          "2023-05-17T00:00:00.000000000",
          "2023-05-18T00:00:00.000000000",
          "2023-05-19T00:00:00.000000000",
          "2023-05-22T00:00:00.000000000",
          "2023-05-23T00:00:00.000000000",
          "2023-05-24T00:00:00.000000000",
          "2023-05-25T00:00:00.000000000",
          "2023-05-26T00:00:00.000000000",
          "2023-05-29T00:00:00.000000000",
          "2023-05-30T00:00:00.000000000",
          "2023-05-31T00:00:00.000000000",
          "2023-06-01T00:00:00.000000000",
          "2023-06-02T00:00:00.000000000",
          "2023-06-05T00:00:00.000000000",
          "2023-06-06T00:00:00.000000000",
          "2023-06-07T00:00:00.000000000",
          "2023-06-08T00:00:00.000000000",
          "2023-06-09T00:00:00.000000000",
          "2023-06-12T00:00:00.000000000",
          "2023-06-13T00:00:00.000000000",
          "2023-06-14T00:00:00.000000000",
          "2023-06-15T00:00:00.000000000",
          "2023-06-16T00:00:00.000000000",
          "2023-06-19T00:00:00.000000000",
          "2023-06-20T00:00:00.000000000",
          "2023-06-21T00:00:00.000000000",
          "2023-06-22T00:00:00.000000000",
          "2023-06-23T00:00:00.000000000",
          "2023-06-26T00:00:00.000000000",
          "2023-06-27T00:00:00.000000000",
          "2023-06-28T00:00:00.000000000",
          "2023-06-29T00:00:00.000000000",
          "2023-06-30T00:00:00.000000000",
          "2023-07-03T00:00:00.000000000",
          "2023-07-04T00:00:00.000000000",
          "2023-07-05T00:00:00.000000000",
          "2023-07-06T00:00:00.000000000",
          "2023-07-07T00:00:00.000000000",
          "2023-07-10T00:00:00.000000000",
          "2023-07-11T00:00:00.000000000",
          "2023-07-12T00:00:00.000000000",
          "2023-07-13T00:00:00.000000000",
          "2023-07-14T00:00:00.000000000",
          "2023-07-17T00:00:00.000000000",
          "2023-07-18T00:00:00.000000000",
          "2023-07-19T00:00:00.000000000",
          "2023-07-20T00:00:00.000000000",
          "2023-07-21T00:00:00.000000000",
          "2023-07-24T00:00:00.000000000",
          "2023-07-25T00:00:00.000000000",
          "2023-07-26T00:00:00.000000000",
          "2023-07-27T00:00:00.000000000",
          "2023-07-28T00:00:00.000000000",
          "2023-07-31T00:00:00.000000000",
          "2023-08-01T00:00:00.000000000",
          "2023-08-02T00:00:00.000000000",
          "2023-08-03T00:00:00.000000000",
          "2023-08-04T00:00:00.000000000",
          "2023-08-07T00:00:00.000000000",
          "2023-08-08T00:00:00.000000000",
          "2023-08-09T00:00:00.000000000",
          "2023-08-10T00:00:00.000000000",
          "2023-08-11T00:00:00.000000000",
          "2023-08-14T00:00:00.000000000",
          "2023-08-15T00:00:00.000000000",
          "2023-08-16T00:00:00.000000000",
          "2023-08-17T00:00:00.000000000",
          "2023-08-18T00:00:00.000000000",
          "2023-08-21T00:00:00.000000000",
          "2023-08-22T00:00:00.000000000",
          "2023-08-23T00:00:00.000000000",
          "2023-08-24T00:00:00.000000000",
          "2023-08-25T00:00:00.000000000",
          "2023-08-28T00:00:00.000000000",
          "2023-08-29T00:00:00.000000000",
          "2023-08-30T00:00:00.000000000",
          "2023-08-31T00:00:00.000000000",
          "2023-09-05T00:00:00.000000000",
          "2023-09-06T00:00:00.000000000",
          "2023-09-07T00:00:00.000000000",
          "2023-09-08T00:00:00.000000000",
          "2023-09-11T00:00:00.000000000",
          "2023-09-12T00:00:00.000000000",
          "2023-09-13T00:00:00.000000000",
          "2023-09-14T00:00:00.000000000",
          "2023-09-15T00:00:00.000000000",
          "2023-09-18T00:00:00.000000000",
          "2023-09-19T00:00:00.000000000",
          "2023-09-20T00:00:00.000000000",
          "2023-09-21T00:00:00.000000000",
          "2023-09-22T00:00:00.000000000",
          "2023-09-25T00:00:00.000000000",
          "2023-09-26T00:00:00.000000000",
          "2023-09-27T00:00:00.000000000",
          "2023-09-28T00:00:00.000000000",
          "2023-09-29T00:00:00.000000000",
          "2023-10-02T00:00:00.000000000",
          "2023-10-03T00:00:00.000000000",
          "2023-10-04T00:00:00.000000000",
          "2023-10-05T00:00:00.000000000",
          "2023-10-06T00:00:00.000000000",
          "2023-10-09T00:00:00.000000000",
          "2023-10-10T00:00:00.000000000",
          "2023-10-11T00:00:00.000000000",
          "2023-10-12T00:00:00.000000000",
          "2023-10-13T00:00:00.000000000",
          "2023-10-16T00:00:00.000000000",
          "2023-10-17T00:00:00.000000000",
          "2023-10-18T00:00:00.000000000",
          "2023-10-19T00:00:00.000000000",
          "2023-10-20T00:00:00.000000000",
          "2023-10-23T00:00:00.000000000",
          "2023-10-24T00:00:00.000000000",
          "2023-10-25T00:00:00.000000000",
          "2023-10-26T00:00:00.000000000",
          "2023-10-27T00:00:00.000000000",
          "2023-10-30T00:00:00.000000000",
          "2023-10-31T00:00:00.000000000",
          "2023-11-01T00:00:00.000000000",
          "2023-11-02T00:00:00.000000000",
          "2023-11-03T00:00:00.000000000",
          "2023-11-06T00:00:00.000000000",
          "2023-11-07T00:00:00.000000000",
          "2023-11-08T00:00:00.000000000",
          "2023-11-09T00:00:00.000000000",
          "2023-11-10T00:00:00.000000000",
          "2023-11-13T00:00:00.000000000",
          "2023-11-14T00:00:00.000000000",
          "2023-11-15T00:00:00.000000000",
          "2023-11-16T00:00:00.000000000",
          "2023-11-17T00:00:00.000000000",
          "2023-11-20T00:00:00.000000000",
          "2023-11-21T00:00:00.000000000",
          "2023-11-22T00:00:00.000000000",
          "2023-11-23T00:00:00.000000000",
          "2023-11-24T00:00:00.000000000",
          "2023-11-27T00:00:00.000000000",
          "2023-11-28T00:00:00.000000000",
          "2023-11-29T00:00:00.000000000",
          "2023-11-30T00:00:00.000000000",
          "2023-12-01T00:00:00.000000000",
          "2023-12-04T00:00:00.000000000",
          "2023-12-05T00:00:00.000000000",
          "2023-12-06T00:00:00.000000000",
          "2023-12-07T00:00:00.000000000",
          "2023-12-08T00:00:00.000000000",
          "2023-12-11T00:00:00.000000000",
          "2023-12-12T00:00:00.000000000",
          "2023-12-13T00:00:00.000000000",
          "2023-12-14T00:00:00.000000000",
          "2023-12-15T00:00:00.000000000",
          "2023-12-18T00:00:00.000000000",
          "2023-12-19T00:00:00.000000000",
          "2023-12-20T00:00:00.000000000",
          "2023-12-21T00:00:00.000000000",
          "2023-12-22T00:00:00.000000000",
          "2023-12-25T00:00:00.000000000",
          "2023-12-26T00:00:00.000000000",
          "2023-12-27T00:00:00.000000000",
          "2023-12-28T00:00:00.000000000",
          "2023-12-29T00:00:00.000000000",
          "2024-01-02T00:00:00.000000000",
          "2024-01-03T00:00:00.000000000",
          "2024-01-04T00:00:00.000000000",
          "2024-01-05T00:00:00.000000000",
          "2024-01-08T00:00:00.000000000",
          "2024-01-09T00:00:00.000000000",
          "2024-01-10T00:00:00.000000000",
          "2024-01-11T00:00:00.000000000",
          "2024-01-12T00:00:00.000000000",
          "2024-01-15T00:00:00.000000000",
          "2024-01-16T00:00:00.000000000",
          "2024-01-17T00:00:00.000000000",
          "2024-01-18T00:00:00.000000000",
          "2024-01-19T00:00:00.000000000",
          "2024-01-22T00:00:00.000000000",
          "2024-01-23T00:00:00.000000000",
          "2024-01-24T00:00:00.000000000",
          "2024-01-25T00:00:00.000000000",
          "2024-01-26T00:00:00.000000000",
          "2024-01-29T00:00:00.000000000",
          "2024-01-30T00:00:00.000000000",
          "2024-01-31T00:00:00.000000000",
          "2024-02-01T00:00:00.000000000",
          "2024-02-02T00:00:00.000000000",
          "2024-02-05T00:00:00.000000000",
          "2024-02-06T00:00:00.000000000",
          "2024-02-07T00:00:00.000000000",
          "2024-02-15T00:00:00.000000000",
          "2024-02-16T00:00:00.000000000",
          "2024-02-19T00:00:00.000000000",
          "2024-02-20T00:00:00.000000000",
          "2024-02-21T00:00:00.000000000",
          "2024-02-22T00:00:00.000000000",
          "2024-02-23T00:00:00.000000000",
          "2024-02-26T00:00:00.000000000",
          "2024-02-27T00:00:00.000000000",
          "2024-02-28T00:00:00.000000000",
          "2024-02-29T00:00:00.000000000",
          "2024-03-01T00:00:00.000000000",
          "2024-03-04T00:00:00.000000000",
          "2024-03-05T00:00:00.000000000",
          "2024-03-06T00:00:00.000000000",
          "2024-03-07T00:00:00.000000000",
          "2024-03-08T00:00:00.000000000",
          "2024-03-11T00:00:00.000000000",
          "2024-03-12T00:00:00.000000000",
          "2024-03-13T00:00:00.000000000",
          "2024-03-14T00:00:00.000000000",
          "2024-03-15T00:00:00.000000000",
          "2024-03-18T00:00:00.000000000",
          "2024-03-19T00:00:00.000000000",
          "2024-03-20T00:00:00.000000000",
          "2024-03-21T00:00:00.000000000",
          "2024-03-22T00:00:00.000000000",
          "2024-03-25T00:00:00.000000000",
          "2024-03-26T00:00:00.000000000",
          "2024-03-27T00:00:00.000000000",
          "2024-03-28T00:00:00.000000000",
          "2024-03-29T00:00:00.000000000",
          "2024-04-01T00:00:00.000000000",
          "2024-04-02T00:00:00.000000000",
          "2024-04-03T00:00:00.000000000",
          "2024-04-04T00:00:00.000000000",
          "2024-04-05T00:00:00.000000000",
          "2024-04-08T00:00:00.000000000",
          "2024-04-09T00:00:00.000000000",
          "2024-04-10T00:00:00.000000000",
          "2024-04-11T00:00:00.000000000",
          "2024-04-12T00:00:00.000000000",
          "2024-04-15T00:00:00.000000000",
          "2024-04-16T00:00:00.000000000",
          "2024-04-17T00:00:00.000000000",
          "2024-04-19T00:00:00.000000000",
          "2024-04-22T00:00:00.000000000",
          "2024-04-23T00:00:00.000000000",
          "2024-04-24T00:00:00.000000000",
          "2024-04-25T00:00:00.000000000",
          "2024-04-26T00:00:00.000000000",
          "2024-05-02T00:00:00.000000000",
          "2024-05-03T00:00:00.000000000",
          "2024-05-06T00:00:00.000000000",
          "2024-05-07T00:00:00.000000000",
          "2024-05-08T00:00:00.000000000",
          "2024-05-09T00:00:00.000000000",
          "2024-05-10T00:00:00.000000000",
          "2024-05-13T00:00:00.000000000",
          "2024-05-14T00:00:00.000000000",
          "2024-05-15T00:00:00.000000000",
          "2024-05-16T00:00:00.000000000",
          "2024-05-17T00:00:00.000000000",
          "2024-05-20T00:00:00.000000000",
          "2024-05-21T00:00:00.000000000",
          "2024-05-22T00:00:00.000000000",
          "2024-05-23T00:00:00.000000000",
          "2024-05-24T00:00:00.000000000",
          "2024-05-27T00:00:00.000000000",
          "2024-05-28T00:00:00.000000000",
          "2024-05-29T00:00:00.000000000",
          "2024-05-30T00:00:00.000000000",
          "2024-05-31T00:00:00.000000000",
          "2024-06-03T00:00:00.000000000",
          "2024-06-04T00:00:00.000000000",
          "2024-06-05T00:00:00.000000000",
          "2024-06-06T00:00:00.000000000",
          "2024-06-07T00:00:00.000000000",
          "2024-06-10T00:00:00.000000000",
          "2024-06-11T00:00:00.000000000",
          "2024-06-12T00:00:00.000000000",
          "2024-06-13T00:00:00.000000000",
          "2024-06-14T00:00:00.000000000",
          "2024-06-17T00:00:00.000000000",
          "2024-06-18T00:00:00.000000000",
          "2024-06-19T00:00:00.000000000",
          "2024-06-20T00:00:00.000000000",
          "2024-06-21T00:00:00.000000000",
          "2024-06-24T00:00:00.000000000",
          "2024-06-25T00:00:00.000000000",
          "2024-06-26T00:00:00.000000000",
          "2024-06-27T00:00:00.000000000",
          "2024-06-28T00:00:00.000000000",
          "2024-07-01T00:00:00.000000000",
          "2024-07-02T00:00:00.000000000",
          "2024-07-03T00:00:00.000000000",
          "2024-07-04T00:00:00.000000000",
          "2024-07-05T00:00:00.000000000",
          "2024-07-08T00:00:00.000000000",
          "2024-07-09T00:00:00.000000000",
          "2024-07-10T00:00:00.000000000",
          "2024-07-11T00:00:00.000000000",
          "2024-07-12T00:00:00.000000000",
          "2024-07-15T00:00:00.000000000",
          "2024-07-16T00:00:00.000000000",
          "2024-07-17T00:00:00.000000000",
          "2024-07-18T00:00:00.000000000",
          "2024-07-19T00:00:00.000000000",
          "2024-07-22T00:00:00.000000000",
          "2024-07-23T00:00:00.000000000",
          "2024-07-24T00:00:00.000000000",
          "2024-07-25T00:00:00.000000000",
          "2024-07-26T00:00:00.000000000",
          "2024-07-29T00:00:00.000000000",
          "2024-07-30T00:00:00.000000000",
          "2024-07-31T00:00:00.000000000",
          "2024-08-01T00:00:00.000000000",
          "2024-08-02T00:00:00.000000000",
          "2024-08-05T00:00:00.000000000",
          "2024-08-06T00:00:00.000000000",
          "2024-08-07T00:00:00.000000000",
          "2024-08-08T00:00:00.000000000",
          "2024-08-09T00:00:00.000000000",
          "2024-08-12T00:00:00.000000000",
          "2024-08-13T00:00:00.000000000",
          "2024-08-14T00:00:00.000000000",
          "2024-08-15T00:00:00.000000000",
          "2024-08-16T00:00:00.000000000",
          "2024-08-19T00:00:00.000000000",
          "2024-08-20T00:00:00.000000000",
          "2024-08-21T00:00:00.000000000",
          "2024-08-22T00:00:00.000000000",
          "2024-08-23T00:00:00.000000000",
          "2024-08-26T00:00:00.000000000",
          "2024-08-27T00:00:00.000000000",
          "2024-08-28T00:00:00.000000000",
          "2024-08-29T00:00:00.000000000",
          "2024-08-30T00:00:00.000000000",
          "2024-09-04T00:00:00.000000000",
          "2024-09-05T00:00:00.000000000",
          "2024-09-06T00:00:00.000000000",
          "2024-09-09T00:00:00.000000000",
          "2024-09-10T00:00:00.000000000",
          "2024-09-11T00:00:00.000000000",
          "2024-09-12T00:00:00.000000000",
          "2024-09-13T00:00:00.000000000",
          "2024-09-16T00:00:00.000000000",
          "2024-09-17T00:00:00.000000000",
          "2024-09-18T00:00:00.000000000",
          "2024-09-19T00:00:00.000000000",
          "2024-09-20T00:00:00.000000000",
          "2024-09-23T00:00:00.000000000",
          "2024-09-24T00:00:00.000000000",
          "2024-09-25T00:00:00.000000000",
          "2024-09-26T00:00:00.000000000",
          "2024-09-27T00:00:00.000000000",
          "2024-09-30T00:00:00.000000000",
          "2024-10-01T00:00:00.000000000",
          "2024-10-02T00:00:00.000000000",
          "2024-10-03T00:00:00.000000000",
          "2024-10-04T00:00:00.000000000",
          "2024-10-07T00:00:00.000000000",
          "2024-10-08T00:00:00.000000000",
          "2024-10-09T00:00:00.000000000",
          "2024-10-10T00:00:00.000000000",
          "2024-10-11T00:00:00.000000000",
          "2024-10-14T00:00:00.000000000",
          "2024-10-15T00:00:00.000000000",
          "2024-10-16T00:00:00.000000000",
          "2024-10-17T00:00:00.000000000",
          "2024-10-18T00:00:00.000000000",
          "2024-10-21T00:00:00.000000000",
          "2024-10-22T00:00:00.000000000",
          "2024-10-23T00:00:00.000000000",
          "2024-10-24T00:00:00.000000000",
          "2024-10-25T00:00:00.000000000",
          "2024-10-28T00:00:00.000000000",
          "2024-10-29T00:00:00.000000000",
          "2024-10-30T00:00:00.000000000",
          "2024-10-31T00:00:00.000000000",
          "2024-11-01T00:00:00.000000000",
          "2024-11-04T00:00:00.000000000",
          "2024-11-05T00:00:00.000000000",
          "2024-11-06T00:00:00.000000000",
          "2024-11-07T00:00:00.000000000",
          "2024-11-08T00:00:00.000000000",
          "2024-11-11T00:00:00.000000000",
          "2024-11-12T00:00:00.000000000",
          "2024-11-13T00:00:00.000000000",
          "2024-11-14T00:00:00.000000000",
          "2024-11-15T00:00:00.000000000",
          "2024-11-18T00:00:00.000000000",
          "2024-11-19T00:00:00.000000000",
          "2024-11-20T00:00:00.000000000",
          "2024-11-21T00:00:00.000000000",
          "2024-11-22T00:00:00.000000000",
          "2024-11-25T00:00:00.000000000",
          "2024-11-26T00:00:00.000000000",
          "2024-11-27T00:00:00.000000000",
          "2024-11-28T00:00:00.000000000",
          "2024-11-29T00:00:00.000000000",
          "2024-12-02T00:00:00.000000000",
          "2024-12-03T00:00:00.000000000",
          "2024-12-04T00:00:00.000000000",
          "2024-12-05T00:00:00.000000000",
          "2024-12-06T00:00:00.000000000",
          "2024-12-09T00:00:00.000000000",
          "2024-12-10T00:00:00.000000000",
          "2024-12-11T00:00:00.000000000",
          "2024-12-12T00:00:00.000000000",
          "2024-12-13T00:00:00.000000000",
          "2024-12-16T00:00:00.000000000",
          "2024-12-17T00:00:00.000000000",
          "2024-12-18T00:00:00.000000000",
          "2024-12-19T00:00:00.000000000",
          "2024-12-20T00:00:00.000000000",
          "2024-12-23T00:00:00.000000000",
          "2024-12-24T00:00:00.000000000",
          "2024-12-25T00:00:00.000000000",
          "2024-12-26T00:00:00.000000000",
          "2024-12-27T00:00:00.000000000",
          "2024-12-30T00:00:00.000000000",
          "2024-12-31T00:00:00.000000000",
          "2025-01-02T00:00:00.000000000",
          "2025-01-03T00:00:00.000000000",
          "2025-01-06T00:00:00.000000000",
          "2025-01-07T00:00:00.000000000",
          "2025-01-08T00:00:00.000000000",
          "2025-01-09T00:00:00.000000000",
          "2025-01-10T00:00:00.000000000",
          "2025-01-13T00:00:00.000000000",
          "2025-01-14T00:00:00.000000000",
          "2025-01-15T00:00:00.000000000",
          "2025-01-16T00:00:00.000000000",
          "2025-01-17T00:00:00.000000000",
          "2025-01-20T00:00:00.000000000",
          "2025-01-21T00:00:00.000000000",
          "2025-01-22T00:00:00.000000000",
          "2025-01-23T00:00:00.000000000",
          "2025-01-24T00:00:00.000000000",
          "2025-02-03T00:00:00.000000000",
          "2025-02-04T00:00:00.000000000",
          "2025-02-05T00:00:00.000000000",
          "2025-02-06T00:00:00.000000000",
          "2025-02-07T00:00:00.000000000",
          "2025-02-10T00:00:00.000000000",
          "2025-02-11T00:00:00.000000000",
          "2025-02-12T00:00:00.000000000",
          "2025-02-13T00:00:00.000000000",
          "2025-02-14T00:00:00.000000000",
          "2025-02-17T00:00:00.000000000",
          "2025-02-18T00:00:00.000000000",
          "2025-02-19T00:00:00.000000000",
          "2025-02-20T00:00:00.000000000",
          "2025-02-21T00:00:00.000000000",
          "2025-02-24T00:00:00.000000000",
          "2025-02-25T00:00:00.000000000",
          "2025-02-26T00:00:00.000000000",
          "2025-02-27T00:00:00.000000000",
          "2025-02-28T00:00:00.000000000",
          "2025-03-03T00:00:00.000000000",
          "2025-03-04T00:00:00.000000000",
          "2025-03-05T00:00:00.000000000",
          "2025-03-06T00:00:00.000000000",
          "2025-03-07T00:00:00.000000000",
          "2025-03-10T00:00:00.000000000",
          "2025-03-11T00:00:00.000000000",
          "2025-03-12T00:00:00.000000000",
          "2025-03-13T00:00:00.000000000",
          "2025-03-14T00:00:00.000000000",
          "2025-03-17T00:00:00.000000000",
          "2025-03-18T00:00:00.000000000",
          "2025-03-19T00:00:00.000000000",
          "2025-03-20T00:00:00.000000000",
          "2025-03-21T00:00:00.000000000",
          "2025-03-24T00:00:00.000000000",
          "2025-03-25T00:00:00.000000000",
          "2025-03-26T00:00:00.000000000",
          "2025-03-27T00:00:00.000000000",
          "2025-03-28T00:00:00.000000000",
          "2025-03-31T00:00:00.000000000"
         ],
         "y": {
          "bdata": "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",
          "dtype": "i4"
         }
        }
       ],
       "layout": {
        "plot_bgcolor": "rgba(0, 0, 0, 0)",
        "template": {
         "data": {
          "bar": [
           {
            "error_x": {
             "color": "#2a3f5f"
            },
            "error_y": {
             "color": "#2a3f5f"
            },
            "marker": {
             "line": {
              "color": "white",
              "width": 0.5
             },
             "pattern": {
              "fillmode": "overlay",
              "size": 10,
              "solidity": 0.2
             }
            },
            "type": "bar"
           }
          ],
          "barpolar": [
           {
            "marker": {
             "line": {
              "color": "white",
              "width": 0.5
             },
             "pattern": {
              "fillmode": "overlay",
              "size": 10,
              "solidity": 0.2
             }
            },
            "type": "barpolar"
           }
          ],
          "carpet": [
           {
            "aaxis": {
             "endlinecolor": "#2a3f5f",
             "gridcolor": "#C8D4E3",
             "linecolor": "#C8D4E3",
             "minorgridcolor": "#C8D4E3",
             "startlinecolor": "#2a3f5f"
            },
            "baxis": {
             "endlinecolor": "#2a3f5f",
             "gridcolor": "#C8D4E3",
             "linecolor": "#C8D4E3",
             "minorgridcolor": "#C8D4E3",
             "startlinecolor": "#2a3f5f"
            },
            "type": "carpet"
           }
          ],
          "choropleth": [
           {
            "colorbar": {
             "outlinewidth": 0,
             "ticks": ""
            },
            "type": "choropleth"
           }
          ],
          "contour": [
           {
            "colorbar": {
             "outlinewidth": 0,
             "ticks": ""
            },
            "colorscale": [
             [
              0,
              "#0d0887"
             ],
             [
              0.1111111111111111,
              "#46039f"
             ],
             [
              0.2222222222222222,
              "#7201a8"
             ],
             [
              0.3333333333333333,
              "#9c179e"
             ],
             [
              0.4444444444444444,
              "#bd3786"
             ],
             [
              0.5555555555555556,
              "#d8576b"
             ],
             [
              0.6666666666666666,
              "#ed7953"
             ],
             [
              0.7777777777777778,
              "#fb9f3a"
             ],
             [
              0.8888888888888888,
              "#fdca26"
             ],
             [
              1,
              "#f0f921"
             ]
            ],
            "type": "contour"
           }
          ],
          "contourcarpet": [
           {
            "colorbar": {
             "outlinewidth": 0,
             "ticks": ""
            },
            "type": "contourcarpet"
           }
          ],
          "heatmap": [
           {
            "colorbar": {
             "outlinewidth": 0,
             "ticks": ""
            },
            "colorscale": [
             [
              0,
              "#0d0887"
             ],
             [
              0.1111111111111111,
              "#46039f"
             ],
             [
              0.2222222222222222,
              "#7201a8"
             ],
             [
              0.3333333333333333,
              "#9c179e"
             ],
             [
              0.4444444444444444,
              "#bd3786"
             ],
             [
              0.5555555555555556,
              "#d8576b"
             ],
             [
              0.6666666666666666,
              "#ed7953"
             ],
             [
              0.7777777777777778,
              "#fb9f3a"
             ],
             [
              0.8888888888888888,
              "#fdca26"
             ],
             [
              1,
              "#f0f921"
             ]
            ],
            "type": "heatmap"
           }
          ],
          "histogram": [
           {
            "marker": {
             "pattern": {
              "fillmode": "overlay",
              "size": 10,
              "solidity": 0.2
             }
            },
            "type": "histogram"
           }
          ],
          "histogram2d": [
           {
            "colorbar": {
             "outlinewidth": 0,
             "ticks": ""
            },
            "colorscale": [
             [
              0,
              "#0d0887"
             ],
             [
              0.1111111111111111,
              "#46039f"
             ],
             [
              0.2222222222222222,
              "#7201a8"
             ],
             [
              0.3333333333333333,
              "#9c179e"
             ],
             [
              0.4444444444444444,
              "#bd3786"
             ],
             [
              0.5555555555555556,
              "#d8576b"
             ],
             [
              0.6666666666666666,
              "#ed7953"
             ],
             [
              0.7777777777777778,
              "#fb9f3a"
             ],
             [
              0.8888888888888888,
              "#fdca26"
             ],
             [
              1,
              "#f0f921"
             ]
            ],
            "type": "histogram2d"
           }
          ],
          "histogram2dcontour": [
           {
            "colorbar": {
             "outlinewidth": 0,
             "ticks": ""
            },
            "colorscale": [
             [
              0,
              "#0d0887"
             ],
             [
              0.1111111111111111,
              "#46039f"
             ],
             [
              0.2222222222222222,
              "#7201a8"
             ],
             [
              0.3333333333333333,
              "#9c179e"
             ],
             [
              0.4444444444444444,
              "#bd3786"
             ],
             [
              0.5555555555555556,
              "#d8576b"
             ],
             [
              0.6666666666666666,
              "#ed7953"
             ],
             [
              0.7777777777777778,
              "#fb9f3a"
             ],
             [
              0.8888888888888888,
              "#fdca26"
             ],
             [
              1,
              "#f0f921"
             ]
            ],
            "type": "histogram2dcontour"
           }
          ],
          "mesh3d": [
           {
            "colorbar": {
             "outlinewidth": 0,
             "ticks": ""
            },
            "type": "mesh3d"
           }
          ],
          "parcoords": [
           {
            "line": {
             "colorbar": {
              "outlinewidth": 0,
              "ticks": ""
             }
            },
            "type": "parcoords"
           }
          ],
          "pie": [
           {
            "automargin": true,
            "type": "pie"
           }
          ],
          "scatter": [
           {
            "fillpattern": {
             "fillmode": "overlay",
             "size": 10,
             "solidity": 0.2
            },
            "type": "scatter"
           }
          ],
          "scatter3d": [
           {
            "line": {
             "colorbar": {
              "outlinewidth": 0,
              "ticks": ""
             }
            },
            "marker": {
             "colorbar": {
              "outlinewidth": 0,
              "ticks": ""
             }
            },
            "type": "scatter3d"
           }
          ],
          "scattercarpet": [
           {
            "marker": {
             "colorbar": {
              "outlinewidth": 0,
              "ticks": ""
             }
            },
            "type": "scattercarpet"
           }
          ],
          "scattergeo": [
           {
            "marker": {
             "colorbar": {
              "outlinewidth": 0,
              "ticks": ""
             }
            },
            "type": "scattergeo"
           }
          ],
          "scattergl": [
           {
            "marker": {
             "colorbar": {
              "outlinewidth": 0,
              "ticks": ""
             }
            },
            "type": "scattergl"
           }
          ],
          "scattermap": [
           {
            "marker": {
             "colorbar": {
              "outlinewidth": 0,
              "ticks": ""
             }
            },
            "type": "scattermap"
           }
          ],
          "scattermapbox": [
           {
            "marker": {
             "colorbar": {
              "outlinewidth": 0,
              "ticks": ""
             }
            },
            "type": "scattermapbox"
           }
          ],
          "scatterpolar": [
           {
            "marker": {
             "colorbar": {
              "outlinewidth": 0,
              "ticks": ""
             }
            },
            "type": "scatterpolar"
           }
          ],
          "scatterpolargl": [
           {
            "marker": {
             "colorbar": {
              "outlinewidth": 0,
              "ticks": ""
             }
            },
            "type": "scatterpolargl"
           }
          ],
          "scatterternary": [
           {
            "marker": {
             "colorbar": {
              "outlinewidth": 0,
              "ticks": ""
             }
            },
            "type": "scatterternary"
           }
          ],
          "surface": [
           {
            "colorbar": {
             "outlinewidth": 0,
             "ticks": ""
            },
            "colorscale": [
             [
              0,
              "#0d0887"
             ],
             [
              0.1111111111111111,
              "#46039f"
             ],
             [
              0.2222222222222222,
              "#7201a8"
             ],
             [
              0.3333333333333333,
              "#9c179e"
             ],
             [
              0.4444444444444444,
              "#bd3786"
             ],
             [
              0.5555555555555556,
              "#d8576b"
             ],
             [
              0.6666666666666666,
              "#ed7953"
             ],
             [
              0.7777777777777778,
              "#fb9f3a"
             ],
             [
              0.8888888888888888,
              "#fdca26"
             ],
             [
              1,
              "#f0f921"
             ]
            ],
            "type": "surface"
           }
          ],
          "table": [
           {
            "cells": {
             "fill": {
              "color": "#EBF0F8"
             },
             "line": {
              "color": "white"
             }
            },
            "header": {
             "fill": {
              "color": "#C8D4E3"
             },
             "line": {
              "color": "white"
             }
            },
            "type": "table"
           }
          ]
         },
         "layout": {
          "annotationdefaults": {
           "arrowcolor": "#2a3f5f",
           "arrowhead": 0,
           "arrowwidth": 1
          },
          "autotypenumbers": "strict",
          "coloraxis": {
           "colorbar": {
            "outlinewidth": 0,
            "ticks": ""
           }
          },
          "colorscale": {
           "diverging": [
            [
             0,
             "#8e0152"
            ],
            [
             0.1,
             "#c51b7d"
            ],
            [
             0.2,
             "#de77ae"
            ],
            [
             0.3,
             "#f1b6da"
            ],
            [
             0.4,
             "#fde0ef"
            ],
            [
             0.5,
             "#f7f7f7"
            ],
            [
             0.6,
             "#e6f5d0"
            ],
            [
             0.7,
             "#b8e186"
            ],
            [
             0.8,
             "#7fbc41"
            ],
            [
             0.9,
             "#4d9221"
            ],
            [
             1,
             "#276419"
            ]
           ],
           "sequential": [
            [
             0,
             "#0d0887"
            ],
            [
             0.1111111111111111,
             "#46039f"
            ],
            [
             0.2222222222222222,
             "#7201a8"
            ],
            [
             0.3333333333333333,
             "#9c179e"
            ],
            [
             0.4444444444444444,
             "#bd3786"
            ],
            [
             0.5555555555555556,
             "#d8576b"
            ],
            [
             0.6666666666666666,
             "#ed7953"
            ],
            [
             0.7777777777777778,
             "#fb9f3a"
            ],
            [
             0.8888888888888888,
             "#fdca26"
            ],
            [
             1,
             "#f0f921"
            ]
           ],
           "sequentialminus": [
            [
             0,
             "#0d0887"
            ],
            [
             0.1111111111111111,
             "#46039f"
            ],
            [
             0.2222222222222222,
             "#7201a8"
            ],
            [
             0.3333333333333333,
             "#9c179e"
            ],
            [
             0.4444444444444444,
             "#bd3786"
            ],
            [
             0.5555555555555556,
             "#d8576b"
            ],
            [
             0.6666666666666666,
             "#ed7953"
            ],
            [
             0.7777777777777778,
             "#fb9f3a"
            ],
            [
             0.8888888888888888,
             "#fdca26"
            ],
            [
             1,
             "#f0f921"
            ]
           ]
          },
          "colorway": [
           "#636efa",
           "#EF553B",
           "#00cc96",
           "#ab63fa",
           "#FFA15A",
           "#19d3f3",
           "#FF6692",
           "#B6E880",
           "#FF97FF",
           "#FECB52"
          ],
          "font": {
           "color": "#2a3f5f"
          },
          "geo": {
           "bgcolor": "white",
           "lakecolor": "white",
           "landcolor": "white",
           "showlakes": true,
           "showland": true,
           "subunitcolor": "#C8D4E3"
          },
          "hoverlabel": {
           "align": "left"
          },
          "hovermode": "closest",
          "mapbox": {
           "style": "light"
          },
          "paper_bgcolor": "white",
          "plot_bgcolor": "white",
          "polar": {
           "angularaxis": {
            "gridcolor": "#EBF0F8",
            "linecolor": "#EBF0F8",
            "ticks": ""
           },
           "bgcolor": "white",
           "radialaxis": {
            "gridcolor": "#EBF0F8",
            "linecolor": "#EBF0F8",
            "ticks": ""
           }
          },
          "scene": {
           "xaxis": {
            "backgroundcolor": "white",
            "gridcolor": "#DFE8F3",
            "gridwidth": 2,
            "linecolor": "#EBF0F8",
            "showbackground": true,
            "ticks": "",
            "zerolinecolor": "#EBF0F8"
           },
           "yaxis": {
            "backgroundcolor": "white",
            "gridcolor": "#DFE8F3",
            "gridwidth": 2,
            "linecolor": "#EBF0F8",
            "showbackground": true,
            "ticks": "",
            "zerolinecolor": "#EBF0F8"
           },
           "zaxis": {
            "backgroundcolor": "white",
            "gridcolor": "#DFE8F3",
            "gridwidth": 2,
            "linecolor": "#EBF0F8",
            "showbackground": true,
            "ticks": "",
            "zerolinecolor": "#EBF0F8"
           }
          },
          "shapedefaults": {
           "line": {
            "color": "#2a3f5f"
           }
          },
          "ternary": {
           "aaxis": {
            "gridcolor": "#DFE8F3",
            "linecolor": "#A2B1C6",
            "ticks": ""
           },
           "baxis": {
            "gridcolor": "#DFE8F3",
            "linecolor": "#A2B1C6",
            "ticks": ""
           },
           "bgcolor": "white",
           "caxis": {
            "gridcolor": "#DFE8F3",
            "linecolor": "#A2B1C6",
            "ticks": ""
           }
          },
          "title": {
           "x": 0.05
          },
          "xaxis": {
           "automargin": true,
           "gridcolor": "#EBF0F8",
           "linecolor": "#EBF0F8",
           "ticks": "",
           "title": {
            "standoff": 15
           },
           "zerolinecolor": "#EBF0F8",
           "zerolinewidth": 2
          },
          "yaxis": {
           "automargin": true,
           "gridcolor": "#EBF0F8",
           "linecolor": "#EBF0F8",
           "ticks": "",
           "title": {
            "standoff": 15
           },
           "zerolinecolor": "#EBF0F8",
           "zerolinewidth": 2
          }
         }
        },
        "title": {
         "text": "Biểu đồ khối lượng giao dịch cổ phiếu của 3 ngân hàng theo thời gian"
        },
        "xaxis": {
         "title": {
          "text": "Thời gian"
         }
        },
        "yaxis": {
         "title": {
          "text": "Khối lượng giao dịch"
         }
        }
       }
      }
     },
     "metadata": {},
     "output_type": "display_data"
    }
   ],
   "source": [
    "fig = go.Figure()\n",
    "\n",
    "fig.add_trace(go.Scatter(x=vcb_trade[\"Time\"].values, y=vcb_trade[\"Volume\"].values, name=f\"Vietcombank trade\"))\n",
    "fig.add_trace(go.Scatter(x=bid_trade[\"Time\"].values, y=bid_trade[\"Volume\"].values, name=f\"BIDV trade\"))\n",
    "fig.add_trace(go.Scatter(x=tcb_trade[\"Time\"].values, y=tcb_trade[\"Volume\"].values, name=f\"Techcombank trade\"))\n",
    "\n",
    "fig.update_layout(\n",
    "    title=f\"Biểu đồ khối lượng giao dịch cổ phiếu của 3 ngân hàng theo thời gian\",\n",
    "    xaxis_title=\"Thời gian\",\n",
    "    yaxis_title=\"Khối lượng giao dịch\",\n",
    "    plot_bgcolor=\"rgba(0, 0, 0, 0)\",\n",
    "    template=\"plotly_white\"\n",
    ")\n",
    "\n",
    "fig.show()"
   ]
  },
  {
   "cell_type": "code",
   "execution_count": null,
   "id": "4bc2f8fe",
   "metadata": {},
   "outputs": [],
   "source": []
  }
 ],
 "metadata": {
  "kernelspec": {
   "display_name": ".venv",
   "language": "python",
   "name": "python3"
  },
  "language_info": {
   "codemirror_mode": {
    "name": "ipython",
    "version": 3
   },
   "file_extension": ".py",
   "mimetype": "text/x-python",
   "name": "python",
   "nbconvert_exporter": "python",
   "pygments_lexer": "ipython3",
   "version": "3.11.9"
  }
 },
 "nbformat": 4,
 "nbformat_minor": 5
}
