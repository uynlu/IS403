{
 "cells": [
  {
   "cell_type": "code",
   "execution_count": 1,
   "id": "511be60c",
   "metadata": {},
   "outputs": [
    {
     "name": "stdout",
     "output_type": "stream",
     "text": [
      "Thư mục làm việc hiện tại: D:\\UIT\\HK\\HK6\\IS403\\Đồ án\\Source code\n"
     ]
    }
   ],
   "source": [
    "import os\n",
    "os.chdir(\"D:\\\\UIT\\\\HK\\\\HK6\\\\IS403\\\\Đồ án\\\\Source code\")\n",
    "print(\"Thư mục làm việc hiện tại:\", os.getcwd())"
   ]
  },
  {
   "cell_type": "markdown",
   "id": "ae6a7ddd",
   "metadata": {},
   "source": [
    "# Import modules"
   ]
  },
  {
   "cell_type": "code",
   "execution_count": 2,
   "id": "3b05aa57",
   "metadata": {},
   "outputs": [],
   "source": [
    "import torch"
   ]
  },
  {
   "cell_type": "code",
   "execution_count": 3,
   "id": "8204ba94",
   "metadata": {},
   "outputs": [],
   "source": [
    "import pandas as pd"
   ]
  },
  {
   "cell_type": "code",
   "execution_count": 4,
   "id": "3b663441",
   "metadata": {},
   "outputs": [],
   "source": [
    "import statsmodels.formula.api as smf\n",
    "from statsmodels.stats.anova import anova_lm\n",
    "from statsmodels.stats.multicomp import pairwise_tukeyhsd"
   ]
  },
  {
   "cell_type": "code",
   "execution_count": 5,
   "id": "21a853af",
   "metadata": {},
   "outputs": [],
   "source": [
    "from utils import read_json_file"
   ]
  },
  {
   "cell_type": "markdown",
   "id": "4be3670c",
   "metadata": {},
   "source": [
    "# Load data"
   ]
  },
  {
   "cell_type": "markdown",
   "id": "99628e60",
   "metadata": {},
   "source": [
    "## SARIMAX"
   ]
  },
  {
   "cell_type": "markdown",
   "id": "b020df65",
   "metadata": {},
   "source": [
    "### Vietcombank"
   ]
  },
  {
   "cell_type": "code",
   "execution_count": 6,
   "id": "56f1c3da",
   "metadata": {},
   "outputs": [
    {
     "data": {
      "text/plain": [
       "{'training time': 3.1233675479888916}"
      ]
     },
     "execution_count": 6,
     "metadata": {},
     "output_type": "execute_result"
    }
   ],
   "source": [
    "vcb_training_time_sarimax = read_json_file(\".\\\\model_application\\\\experiment\\\\saved_checkpoint\\\\sarimax\\\\vcb\\\\training_time.json\")\n",
    "vcb_training_time_sarimax"
   ]
  },
  {
   "cell_type": "code",
   "execution_count": 7,
   "id": "2804bdab",
   "metadata": {},
   "outputs": [
    {
     "data": {
      "text/plain": [
       "0.0070073604583740234"
      ]
     },
     "execution_count": 7,
     "metadata": {},
     "output_type": "execute_result"
    }
   ],
   "source": [
    "vcb_sarimax_results = read_json_file(\".\\\\model_application\\\\experiment\\\\saved_checkpoint\\\\sarimax\\\\vcb\\\\test_results.json\")\n",
    "vcb_time_sarimax = vcb_sarimax_results[\"time\"]\n",
    "vcb_time_sarimax"
   ]
  },
  {
   "cell_type": "code",
   "execution_count": 8,
   "id": "d9655bb6",
   "metadata": {},
   "outputs": [
    {
     "data": {
      "text/plain": [
       "{'training time': 3.8588621616363525}"
      ]
     },
     "execution_count": 8,
     "metadata": {},
     "output_type": "execute_result"
    }
   ],
   "source": [
    "bid_training_time_sarimax = read_json_file(\".\\\\model_application\\\\experiment\\\\saved_checkpoint\\\\sarimax\\\\bid\\\\training_time.json\")\n",
    "bid_training_time_sarimax"
   ]
  },
  {
   "cell_type": "code",
   "execution_count": 9,
   "id": "7efc88a0",
   "metadata": {},
   "outputs": [
    {
     "data": {
      "text/plain": [
       "0.0"
      ]
     },
     "execution_count": 9,
     "metadata": {},
     "output_type": "execute_result"
    }
   ],
   "source": [
    "bid_sarimax_results = read_json_file(\".\\\\model_application\\\\experiment\\\\saved_checkpoint\\\\sarimax\\\\bid\\\\test_results.json\")\n",
    "bid_time_sarimax = bid_sarimax_results[\"time\"]\n",
    "bid_time_sarimax"
   ]
  },
  {
   "cell_type": "code",
   "execution_count": 10,
   "id": "c09064fc",
   "metadata": {},
   "outputs": [
    {
     "data": {
      "text/plain": [
       "{'training time': 4.05346417427063}"
      ]
     },
     "execution_count": 10,
     "metadata": {},
     "output_type": "execute_result"
    }
   ],
   "source": [
    "tcb_training_time_sarimax = read_json_file(\".\\\\model_application\\\\experiment\\\\saved_checkpoint\\\\sarimax\\\\tcb\\\\training_time.json\")\n",
    "tcb_training_time_sarimax"
   ]
  },
  {
   "cell_type": "code",
   "execution_count": 11,
   "id": "4b5f0c06",
   "metadata": {},
   "outputs": [
    {
     "data": {
      "text/plain": [
       "0.007132530212402344"
      ]
     },
     "execution_count": 11,
     "metadata": {},
     "output_type": "execute_result"
    }
   ],
   "source": [
    "tcb_sarimax_results = read_json_file(\".\\\\model_application\\\\experiment\\\\saved_checkpoint\\\\sarimax\\\\tcb\\\\test_results.json\")\n",
    "tcb_time_sarimax = tcb_sarimax_results[\"time\"]\n",
    "tcb_time_sarimax"
   ]
  },
  {
   "cell_type": "markdown",
   "id": "7ed86ef2",
   "metadata": {},
   "source": [
    "## Machine learning"
   ]
  },
  {
   "cell_type": "markdown",
   "id": "c26373c5",
   "metadata": {},
   "source": [
    "### SVM"
   ]
  },
  {
   "cell_type": "markdown",
   "id": "c6305926",
   "metadata": {},
   "source": [
    "#### Vietcombank"
   ]
  },
  {
   "cell_type": "code",
   "execution_count": 12,
   "id": "168b9287",
   "metadata": {},
   "outputs": [
    {
     "data": {
      "text/plain": [
       "{'training time': 1.803368330001831}"
      ]
     },
     "execution_count": 12,
     "metadata": {},
     "output_type": "execute_result"
    }
   ],
   "source": [
    "vcb_training_time_svm_one_step = read_json_file(\".\\\\model_application\\\\experiment\\\\saved_checkpoint\\\\machine_learning\\\\one_step\\\\vcb\\\\svm_training_time.json\")\n",
    "vcb_training_time_svm_one_step"
   ]
  },
  {
   "cell_type": "code",
   "execution_count": 13,
   "id": "3057a410",
   "metadata": {},
   "outputs": [
    {
     "data": {
      "text/plain": [
       "{'training time': 2.663372039794922}"
      ]
     },
     "execution_count": 13,
     "metadata": {},
     "output_type": "execute_result"
    }
   ],
   "source": [
    "vcb_training_time_svm_multi_steps = read_json_file(\".\\\\model_application\\\\experiment\\\\saved_checkpoint\\\\machine_learning\\\\multi_steps\\\\vcb\\\\svm_training_time.json\")\n",
    "vcb_training_time_svm_multi_steps"
   ]
  },
  {
   "cell_type": "code",
   "execution_count": 14,
   "id": "c94e990e",
   "metadata": {},
   "outputs": [
    {
     "data": {
      "text/plain": [
       "0.001003265380859375"
      ]
     },
     "execution_count": 14,
     "metadata": {},
     "output_type": "execute_result"
    }
   ],
   "source": [
    "vcb_svm_one_step_results = read_json_file(\".\\\\model_application\\\\experiment\\\\saved_checkpoint\\\\machine_learning\\\\one_step\\\\vcb\\\\svm_test_results.json\")\n",
    "vcb_time_svm_one_step = vcb_svm_one_step_results[\"time\"]\n",
    "vcb_time_svm_one_step"
   ]
  },
  {
   "cell_type": "code",
   "execution_count": 15,
   "id": "96beafa6",
   "metadata": {},
   "outputs": [
    {
     "data": {
      "text/plain": [
       "0.0031511783599853516"
      ]
     },
     "execution_count": 15,
     "metadata": {},
     "output_type": "execute_result"
    }
   ],
   "source": [
    "vcb_svm_multi_steps_results = read_json_file(\".\\\\model_application\\\\experiment\\\\saved_checkpoint\\\\machine_learning\\\\multi_steps\\\\vcb\\\\svm_test_results.json\")\n",
    "vcb_time_svm_multi_steps = vcb_svm_multi_steps_results[\"time\"]\n",
    "vcb_time_svm_multi_steps"
   ]
  },
  {
   "cell_type": "markdown",
   "id": "f0c49dbc",
   "metadata": {},
   "source": [
    "#### BIDV"
   ]
  },
  {
   "cell_type": "code",
   "execution_count": 16,
   "id": "4fa7604b",
   "metadata": {},
   "outputs": [
    {
     "data": {
      "text/plain": [
       "{'training time': 1.9015748500823975}"
      ]
     },
     "execution_count": 16,
     "metadata": {},
     "output_type": "execute_result"
    }
   ],
   "source": [
    "bid_training_time_svm_one_step = read_json_file(\".\\\\model_application\\\\experiment\\\\saved_checkpoint\\\\machine_learning\\\\one_step\\\\bid\\\\svm_training_time.json\")\n",
    "bid_training_time_svm_one_step"
   ]
  },
  {
   "cell_type": "code",
   "execution_count": 17,
   "id": "f661dc35",
   "metadata": {},
   "outputs": [
    {
     "data": {
      "text/plain": [
       "{'training time': 2.8745968341827393}"
      ]
     },
     "execution_count": 17,
     "metadata": {},
     "output_type": "execute_result"
    }
   ],
   "source": [
    "bid_training_time_svm_multi_steps = read_json_file(\".\\\\model_application\\\\experiment\\\\saved_checkpoint\\\\machine_learning\\\\multi_steps\\\\bid\\\\svm_training_time.json\")\n",
    "bid_training_time_svm_multi_steps"
   ]
  },
  {
   "cell_type": "code",
   "execution_count": 18,
   "id": "20be36a6",
   "metadata": {},
   "outputs": [
    {
     "data": {
      "text/plain": [
       "0.0010223388671875"
      ]
     },
     "execution_count": 18,
     "metadata": {},
     "output_type": "execute_result"
    }
   ],
   "source": [
    "bid_svm_one_step_results = read_json_file(\".\\\\model_application\\\\experiment\\\\saved_checkpoint\\\\machine_learning\\\\one_step\\\\bid\\\\svm_test_results.json\")\n",
    "bid_time_svm_one_step = bid_svm_one_step_results[\"time\"]\n",
    "bid_time_svm_one_step"
   ]
  },
  {
   "cell_type": "code",
   "execution_count": 19,
   "id": "7bf226fc",
   "metadata": {},
   "outputs": [
    {
     "data": {
      "text/plain": [
       "0.003026723861694336"
      ]
     },
     "execution_count": 19,
     "metadata": {},
     "output_type": "execute_result"
    }
   ],
   "source": [
    "bid_svm_multi_steps_results = read_json_file(\".\\\\model_application\\\\experiment\\\\saved_checkpoint\\\\machine_learning\\\\multi_steps\\\\bid\\\\svm_test_results.json\")\n",
    "bid_time_svm_multi_steps = bid_svm_multi_steps_results[\"time\"]\n",
    "bid_time_svm_multi_steps"
   ]
  },
  {
   "cell_type": "markdown",
   "id": "14fcc40e",
   "metadata": {},
   "source": [
    "#### Techcombank"
   ]
  },
  {
   "cell_type": "code",
   "execution_count": 20,
   "id": "53058d4e",
   "metadata": {},
   "outputs": [
    {
     "data": {
      "text/plain": [
       "{'training time': 0.9060866832733154}"
      ]
     },
     "execution_count": 20,
     "metadata": {},
     "output_type": "execute_result"
    }
   ],
   "source": [
    "tcb_training_time_svm_one_step = read_json_file(\".\\\\model_application\\\\experiment\\\\saved_checkpoint\\\\machine_learning\\\\one_step\\\\tcb\\\\svm_training_time.json\")\n",
    "tcb_training_time_svm_one_step"
   ]
  },
  {
   "cell_type": "code",
   "execution_count": 21,
   "id": "a8319686",
   "metadata": {},
   "outputs": [
    {
     "data": {
      "text/plain": [
       "{'training time': 1.639042615890503}"
      ]
     },
     "execution_count": 21,
     "metadata": {},
     "output_type": "execute_result"
    }
   ],
   "source": [
    "tcb_training_time_svm_multi_steps = read_json_file(\".\\\\model_application\\\\experiment\\\\saved_checkpoint\\\\machine_learning\\\\multi_steps\\\\tcb\\\\svm_training_time.json\")\n",
    "tcb_training_time_svm_multi_steps"
   ]
  },
  {
   "cell_type": "code",
   "execution_count": 22,
   "id": "3441e62e",
   "metadata": {},
   "outputs": [
    {
     "data": {
      "text/plain": [
       "0.0"
      ]
     },
     "execution_count": 22,
     "metadata": {},
     "output_type": "execute_result"
    }
   ],
   "source": [
    "tcb_svm_one_step_results = read_json_file(\".\\\\model_application\\\\experiment\\\\saved_checkpoint\\\\machine_learning\\\\one_step\\\\tcb\\\\svm_test_results.json\")\n",
    "tcb_time_svm_one_step = tcb_svm_one_step_results[\"time\"]\n",
    "tcb_time_svm_one_step"
   ]
  },
  {
   "cell_type": "code",
   "execution_count": 23,
   "id": "7e8452ba",
   "metadata": {},
   "outputs": [
    {
     "data": {
      "text/plain": [
       "0.00201416015625"
      ]
     },
     "execution_count": 23,
     "metadata": {},
     "output_type": "execute_result"
    }
   ],
   "source": [
    "tcb_svm_multi_steps_results = read_json_file(\".\\\\model_application\\\\experiment\\\\saved_checkpoint\\\\machine_learning\\\\multi_steps\\\\tcb\\\\svm_test_results.json\")\n",
    "tcb_time_svm_multi_steps = tcb_svm_multi_steps_results[\"time\"]\n",
    "tcb_time_svm_multi_steps"
   ]
  },
  {
   "cell_type": "markdown",
   "id": "f1a14f19",
   "metadata": {},
   "source": [
    "### Random Forest"
   ]
  },
  {
   "cell_type": "markdown",
   "id": "b0d9ed55",
   "metadata": {},
   "source": [
    "#### Vietcombank"
   ]
  },
  {
   "cell_type": "code",
   "execution_count": 24,
   "id": "1c9c5642",
   "metadata": {},
   "outputs": [
    {
     "data": {
      "text/plain": [
       "{'training time': 5.558147192001343}"
      ]
     },
     "execution_count": 24,
     "metadata": {},
     "output_type": "execute_result"
    }
   ],
   "source": [
    "vcb_training_time_random_forest_one_step = read_json_file(\".\\\\model_application\\\\experiment\\\\saved_checkpoint\\\\machine_learning\\\\one_step\\\\vcb\\\\random_forest_training_time.json\")\n",
    "vcb_training_time_random_forest_one_step"
   ]
  },
  {
   "cell_type": "code",
   "execution_count": 25,
   "id": "3b6a0763",
   "metadata": {},
   "outputs": [
    {
     "data": {
      "text/plain": [
       "{'training time': 11.752928733825684}"
      ]
     },
     "execution_count": 25,
     "metadata": {},
     "output_type": "execute_result"
    }
   ],
   "source": [
    "vcb_training_time_random_forest_multi_steps = read_json_file(\".\\\\model_application\\\\experiment\\\\saved_checkpoint\\\\machine_learning\\\\multi_steps\\\\vcb\\\\random_forest_training_time.json\")\n",
    "vcb_training_time_random_forest_multi_steps"
   ]
  },
  {
   "cell_type": "code",
   "execution_count": 26,
   "id": "d3bd43ce",
   "metadata": {},
   "outputs": [
    {
     "data": {
      "text/plain": [
       "0.015828847885131836"
      ]
     },
     "execution_count": 26,
     "metadata": {},
     "output_type": "execute_result"
    }
   ],
   "source": [
    "vcb_random_forest_one_step_results = read_json_file(\".\\\\model_application\\\\experiment\\\\saved_checkpoint\\\\machine_learning\\\\one_step\\\\vcb\\\\random_forest_test_results.json\")\n",
    "vcb_time_random_forest_one_step = vcb_random_forest_one_step_results[\"time\"]\n",
    "vcb_time_random_forest_one_step"
   ]
  },
  {
   "cell_type": "code",
   "execution_count": 27,
   "id": "72e5cdc0",
   "metadata": {},
   "outputs": [
    {
     "data": {
      "text/plain": [
       "0.036214590072631836"
      ]
     },
     "execution_count": 27,
     "metadata": {},
     "output_type": "execute_result"
    }
   ],
   "source": [
    "vcb_random_forest_multi_steps_results = read_json_file(\".\\\\model_application\\\\experiment\\\\saved_checkpoint\\\\machine_learning\\\\multi_steps\\\\vcb\\\\random_forest_test_results.json\")\n",
    "vcb_time_random_forest_multi_steps = vcb_random_forest_multi_steps_results[\"time\"]\n",
    "vcb_time_random_forest_multi_steps"
   ]
  },
  {
   "cell_type": "markdown",
   "id": "06f81c19",
   "metadata": {},
   "source": [
    "#### BIDV"
   ]
  },
  {
   "cell_type": "code",
   "execution_count": 28,
   "id": "d6544b54",
   "metadata": {},
   "outputs": [
    {
     "data": {
      "text/plain": [
       "{'training time': 2.2256991863250732}"
      ]
     },
     "execution_count": 28,
     "metadata": {},
     "output_type": "execute_result"
    }
   ],
   "source": [
    "bid_training_time_random_forest_one_step = read_json_file(\".\\\\model_application\\\\experiment\\\\saved_checkpoint\\\\machine_learning\\\\one_step\\\\bid\\\\random_forest_training_time.json\")\n",
    "bid_training_time_random_forest_one_step"
   ]
  },
  {
   "cell_type": "code",
   "execution_count": 29,
   "id": "e5e1d718",
   "metadata": {},
   "outputs": [
    {
     "data": {
      "text/plain": [
       "{'training time': 8.865192651748657}"
      ]
     },
     "execution_count": 29,
     "metadata": {},
     "output_type": "execute_result"
    }
   ],
   "source": [
    "bid_training_time_random_forest_multi_steps = read_json_file(\".\\\\model_application\\\\experiment\\\\saved_checkpoint\\\\machine_learning\\\\multi_steps\\\\bid\\\\random_forest_training_time.json\")\n",
    "bid_training_time_random_forest_multi_steps"
   ]
  },
  {
   "cell_type": "code",
   "execution_count": 30,
   "id": "23d64bb4",
   "metadata": {},
   "outputs": [
    {
     "data": {
      "text/plain": [
       "0.01250457763671875"
      ]
     },
     "execution_count": 30,
     "metadata": {},
     "output_type": "execute_result"
    }
   ],
   "source": [
    "bid_random_forest_one_step_results = read_json_file(\".\\\\model_application\\\\experiment\\\\saved_checkpoint\\\\machine_learning\\\\one_step\\\\bid\\\\random_forest_test_results.json\")\n",
    "bid_time_random_forest_one_step = bid_random_forest_one_step_results[\"time\"]\n",
    "bid_time_random_forest_one_step"
   ]
  },
  {
   "cell_type": "code",
   "execution_count": 31,
   "id": "f4558774",
   "metadata": {},
   "outputs": [
    {
     "data": {
      "text/plain": [
       "0.04726696014404297"
      ]
     },
     "execution_count": 31,
     "metadata": {},
     "output_type": "execute_result"
    }
   ],
   "source": [
    "bid_random_forest_multi_steps_results = read_json_file(\".\\\\model_application\\\\experiment\\\\saved_checkpoint\\\\machine_learning\\\\multi_steps\\\\bid\\\\random_forest_test_results.json\")\n",
    "bid_time_random_forest_multi_steps = bid_random_forest_multi_steps_results[\"time\"]\n",
    "bid_time_random_forest_multi_steps"
   ]
  },
  {
   "cell_type": "markdown",
   "id": "8177e814",
   "metadata": {},
   "source": [
    "#### Techcombank"
   ]
  },
  {
   "cell_type": "code",
   "execution_count": 32,
   "id": "5dcbdf0f",
   "metadata": {},
   "outputs": [
    {
     "data": {
      "text/plain": [
       "{'training time': 1.577516794204712}"
      ]
     },
     "execution_count": 32,
     "metadata": {},
     "output_type": "execute_result"
    }
   ],
   "source": [
    "tcb_training_time_random_forest_one_step = read_json_file(\".\\\\model_application\\\\experiment\\\\saved_checkpoint\\\\machine_learning\\\\one_step\\\\tcb\\\\random_forest_training_time.json\")\n",
    "tcb_training_time_random_forest_one_step"
   ]
  },
  {
   "cell_type": "code",
   "execution_count": 33,
   "id": "5fc1891d",
   "metadata": {},
   "outputs": [
    {
     "data": {
      "text/plain": [
       "{'training time': 6.836975812911987}"
      ]
     },
     "execution_count": 33,
     "metadata": {},
     "output_type": "execute_result"
    }
   ],
   "source": [
    "tcb_training_time_random_forest_multi_steps = read_json_file(\".\\\\model_application\\\\experiment\\\\saved_checkpoint\\\\machine_learning\\\\multi_steps\\\\tcb\\\\random_forest_training_time.json\")\n",
    "tcb_training_time_random_forest_multi_steps"
   ]
  },
  {
   "cell_type": "code",
   "execution_count": 34,
   "id": "9ed3d9dd",
   "metadata": {},
   "outputs": [
    {
     "data": {
      "text/plain": [
       "0.008197546005249023"
      ]
     },
     "execution_count": 34,
     "metadata": {},
     "output_type": "execute_result"
    }
   ],
   "source": [
    "tcb_random_forest_one_step_results = read_json_file(\".\\\\model_application\\\\experiment\\\\saved_checkpoint\\\\machine_learning\\\\one_step\\\\tcb\\\\random_forest_test_results.json\")\n",
    "tcb_time_random_forest_one_step = tcb_random_forest_one_step_results[\"time\"]\n",
    "tcb_time_random_forest_one_step"
   ]
  },
  {
   "cell_type": "code",
   "execution_count": 35,
   "id": "0a62fcd6",
   "metadata": {},
   "outputs": [
    {
     "data": {
      "text/plain": [
       "0.02962207794189453"
      ]
     },
     "execution_count": 35,
     "metadata": {},
     "output_type": "execute_result"
    }
   ],
   "source": [
    "tcb_random_forest_multi_steps_results = read_json_file(\".\\\\model_application\\\\experiment\\\\saved_checkpoint\\\\machine_learning\\\\multi_steps\\\\tcb\\\\random_forest_test_results.json\")\n",
    "tcb_time_random_forest_multi_steps = tcb_random_forest_multi_steps_results[\"time\"]\n",
    "tcb_time_random_forest_multi_steps"
   ]
  },
  {
   "cell_type": "markdown",
   "id": "88f8176e",
   "metadata": {},
   "source": [
    "### Linear Regression"
   ]
  },
  {
   "cell_type": "markdown",
   "id": "aea3271d",
   "metadata": {},
   "source": [
    "#### Vietcombank"
   ]
  },
  {
   "cell_type": "code",
   "execution_count": 36,
   "id": "3effbc29",
   "metadata": {},
   "outputs": [
    {
     "data": {
      "text/plain": [
       "{'training time': 0.00099945068359375}"
      ]
     },
     "execution_count": 36,
     "metadata": {},
     "output_type": "execute_result"
    }
   ],
   "source": [
    "vcb_training_time_linear_regression_one_step = read_json_file(\".\\\\model_application\\\\experiment\\\\saved_checkpoint\\\\machine_learning\\\\one_step\\\\vcb\\\\linear_regression_training_time.json\")\n",
    "vcb_training_time_linear_regression_one_step"
   ]
  },
  {
   "cell_type": "code",
   "execution_count": 37,
   "id": "b8b46433",
   "metadata": {},
   "outputs": [
    {
     "data": {
      "text/plain": [
       "{'training time': 0.004603147506713867}"
      ]
     },
     "execution_count": 37,
     "metadata": {},
     "output_type": "execute_result"
    }
   ],
   "source": [
    "vcb_training_time_linear_regression_multi_steps = read_json_file(\".\\\\model_application\\\\experiment\\\\saved_checkpoint\\\\machine_learning\\\\multi_steps\\\\vcb\\\\linear_regression_training_time.json\")\n",
    "vcb_training_time_linear_regression_multi_steps"
   ]
  },
  {
   "cell_type": "code",
   "execution_count": 38,
   "id": "12e23715",
   "metadata": {},
   "outputs": [
    {
     "data": {
      "text/plain": [
       "0.0010061264038085938"
      ]
     },
     "execution_count": 38,
     "metadata": {},
     "output_type": "execute_result"
    }
   ],
   "source": [
    "vcb_linear_regression_one_step_results = read_json_file(\".\\\\model_application\\\\experiment\\\\saved_checkpoint\\\\machine_learning\\\\one_step\\\\vcb\\\\linear_regression_test_results.json\")\n",
    "vcb_time_linear_regression_one_step = vcb_linear_regression_one_step_results[\"time\"]\n",
    "vcb_time_linear_regression_one_step"
   ]
  },
  {
   "cell_type": "code",
   "execution_count": 39,
   "id": "b0acfee2",
   "metadata": {},
   "outputs": [
    {
     "data": {
      "text/plain": [
       "0.0"
      ]
     },
     "execution_count": 39,
     "metadata": {},
     "output_type": "execute_result"
    }
   ],
   "source": [
    "vcb_linear_regression_multi_steps_results = read_json_file(\".\\\\model_application\\\\experiment\\\\saved_checkpoint\\\\machine_learning\\\\multi_steps\\\\vcb\\\\linear_regression_test_results.json\")\n",
    "vcb_time_linear_regression_multi_steps = vcb_linear_regression_multi_steps_results[\"time\"]\n",
    "vcb_time_linear_regression_multi_steps"
   ]
  },
  {
   "cell_type": "markdown",
   "id": "85544bc6",
   "metadata": {},
   "source": [
    "#### BIDV"
   ]
  },
  {
   "cell_type": "code",
   "execution_count": 40,
   "id": "68ede167",
   "metadata": {},
   "outputs": [
    {
     "data": {
      "text/plain": [
       "{'training time': 0.001005411148071289}"
      ]
     },
     "execution_count": 40,
     "metadata": {},
     "output_type": "execute_result"
    }
   ],
   "source": [
    "bid_training_time_linear_regression_one_step = read_json_file(\".\\\\model_application\\\\experiment\\\\saved_checkpoint\\\\machine_learning\\\\one_step\\\\bid\\\\linear_regression_training_time.json\")\n",
    "bid_training_time_linear_regression_one_step"
   ]
  },
  {
   "cell_type": "code",
   "execution_count": 41,
   "id": "a72a6c39",
   "metadata": {},
   "outputs": [
    {
     "data": {
      "text/plain": [
       "{'training time': 0.0030794143676757812}"
      ]
     },
     "execution_count": 41,
     "metadata": {},
     "output_type": "execute_result"
    }
   ],
   "source": [
    "bid_training_time_linear_regression_multi_steps = read_json_file(\".\\\\model_application\\\\experiment\\\\saved_checkpoint\\\\machine_learning\\\\multi_steps\\\\bid\\\\linear_regression_training_time.json\")\n",
    "bid_training_time_linear_regression_multi_steps"
   ]
  },
  {
   "cell_type": "code",
   "execution_count": 42,
   "id": "3a49f50c",
   "metadata": {},
   "outputs": [
    {
     "data": {
      "text/plain": [
       "0.0009970664978027344"
      ]
     },
     "execution_count": 42,
     "metadata": {},
     "output_type": "execute_result"
    }
   ],
   "source": [
    "bid_linear_regression_one_step_results = read_json_file(\".\\\\model_application\\\\experiment\\\\saved_checkpoint\\\\machine_learning\\\\one_step\\\\bid\\\\linear_regression_test_results.json\")\n",
    "bid_time_linear_regression_one_step = bid_linear_regression_one_step_results[\"time\"]\n",
    "bid_time_linear_regression_one_step"
   ]
  },
  {
   "cell_type": "code",
   "execution_count": 43,
   "id": "367b7616",
   "metadata": {},
   "outputs": [
    {
     "data": {
      "text/plain": [
       "0.0"
      ]
     },
     "execution_count": 43,
     "metadata": {},
     "output_type": "execute_result"
    }
   ],
   "source": [
    "bid_linear_regression_multi_steps_results = read_json_file(\".\\\\model_application\\\\experiment\\\\saved_checkpoint\\\\machine_learning\\\\multi_steps\\\\bid\\\\linear_regression_test_results.json\")\n",
    "bid_time_linear_regression_multi_steps = bid_linear_regression_multi_steps_results[\"time\"]\n",
    "bid_time_linear_regression_multi_steps"
   ]
  },
  {
   "cell_type": "markdown",
   "id": "d1ab8508",
   "metadata": {},
   "source": [
    "#### Techcombank"
   ]
  },
  {
   "cell_type": "code",
   "execution_count": 44,
   "id": "f69cb7b9",
   "metadata": {},
   "outputs": [
    {
     "data": {
      "text/plain": [
       "{'training time': 0.0010259151458740234}"
      ]
     },
     "execution_count": 44,
     "metadata": {},
     "output_type": "execute_result"
    }
   ],
   "source": [
    "tcb_training_time_linear_regression_one_step = read_json_file(\".\\\\model_application\\\\experiment\\\\saved_checkpoint\\\\machine_learning\\\\one_step\\\\tcb\\\\linear_regression_training_time.json\")\n",
    "tcb_training_time_linear_regression_one_step"
   ]
  },
  {
   "cell_type": "code",
   "execution_count": 45,
   "id": "1baa409c",
   "metadata": {},
   "outputs": [
    {
     "data": {
      "text/plain": [
       "{'training time': 0.004096031188964844}"
      ]
     },
     "execution_count": 45,
     "metadata": {},
     "output_type": "execute_result"
    }
   ],
   "source": [
    "tcb_training_time_linear_regression_multi_steps = read_json_file(\".\\\\model_application\\\\experiment\\\\saved_checkpoint\\\\machine_learning\\\\multi_steps\\\\tcb\\\\linear_regression_training_time.json\")\n",
    "tcb_training_time_linear_regression_multi_steps"
   ]
  },
  {
   "cell_type": "code",
   "execution_count": 46,
   "id": "98d12d4a",
   "metadata": {},
   "outputs": [
    {
     "data": {
      "text/plain": [
       "0.001215219497680664"
      ]
     },
     "execution_count": 46,
     "metadata": {},
     "output_type": "execute_result"
    }
   ],
   "source": [
    "tcb_linear_regression_one_step_results = read_json_file(\".\\\\model_application\\\\experiment\\\\saved_checkpoint\\\\machine_learning\\\\one_step\\\\tcb\\\\linear_regression_test_results.json\")\n",
    "tcb_time_linear_regression_one_step = tcb_linear_regression_one_step_results[\"time\"]\n",
    "tcb_time_linear_regression_one_step"
   ]
  },
  {
   "cell_type": "code",
   "execution_count": 47,
   "id": "f4a9af41",
   "metadata": {},
   "outputs": [
    {
     "data": {
      "text/plain": [
       "0.0"
      ]
     },
     "execution_count": 47,
     "metadata": {},
     "output_type": "execute_result"
    }
   ],
   "source": [
    "tcb_linear_regression_multi_steps_results = read_json_file(\".\\\\model_application\\\\experiment\\\\saved_checkpoint\\\\machine_learning\\\\multi_steps\\\\tcb\\\\linear_regression_test_results.json\")\n",
    "tcb_time_linear_regression_multi_steps = tcb_linear_regression_multi_steps_results[\"time\"]\n",
    "tcb_time_linear_regression_multi_steps"
   ]
  },
  {
   "cell_type": "markdown",
   "id": "d0180c8f",
   "metadata": {},
   "source": [
    "### Ridge"
   ]
  },
  {
   "cell_type": "markdown",
   "id": "565b37e1",
   "metadata": {},
   "source": [
    "#### Vietcombank"
   ]
  },
  {
   "cell_type": "code",
   "execution_count": 48,
   "id": "f023e918",
   "metadata": {},
   "outputs": [
    {
     "data": {
      "text/plain": [
       "{'training time': 0.025892257690429688}"
      ]
     },
     "execution_count": 48,
     "metadata": {},
     "output_type": "execute_result"
    }
   ],
   "source": [
    "vcb_training_time_ridge_one_step = read_json_file(\".\\\\model_application\\\\experiment\\\\saved_checkpoint\\\\machine_learning\\\\one_step\\\\vcb\\\\ridge_training_time.json\")\n",
    "vcb_training_time_ridge_one_step"
   ]
  },
  {
   "cell_type": "code",
   "execution_count": 49,
   "id": "9d697589",
   "metadata": {},
   "outputs": [
    {
     "data": {
      "text/plain": [
       "{'training time': 0.08884000778198242}"
      ]
     },
     "execution_count": 49,
     "metadata": {},
     "output_type": "execute_result"
    }
   ],
   "source": [
    "vcb_training_time_ridge_multi_steps = read_json_file(\".\\\\model_application\\\\experiment\\\\saved_checkpoint\\\\machine_learning\\\\multi_steps\\\\vcb\\\\ridge_training_time.json\")\n",
    "vcb_training_time_ridge_multi_steps"
   ]
  },
  {
   "cell_type": "code",
   "execution_count": 50,
   "id": "6c38c21c",
   "metadata": {},
   "outputs": [
    {
     "data": {
      "text/plain": [
       "0.0"
      ]
     },
     "execution_count": 50,
     "metadata": {},
     "output_type": "execute_result"
    }
   ],
   "source": [
    "vcb_ridge_one_step_results = read_json_file(\".\\\\model_application\\\\experiment\\\\saved_checkpoint\\\\machine_learning\\\\one_step\\\\vcb\\\\ridge_test_results.json\")\n",
    "vcb_time_ridge_one_step = vcb_ridge_one_step_results[\"time\"]\n",
    "vcb_time_ridge_one_step"
   ]
  },
  {
   "cell_type": "code",
   "execution_count": 51,
   "id": "34fc1097",
   "metadata": {},
   "outputs": [
    {
     "data": {
      "text/plain": [
       "0.0010039806365966797"
      ]
     },
     "execution_count": 51,
     "metadata": {},
     "output_type": "execute_result"
    }
   ],
   "source": [
    "vcb_ridge_multi_steps_results = read_json_file(\".\\\\model_application\\\\experiment\\\\saved_checkpoint\\\\machine_learning\\\\multi_steps\\\\vcb\\\\ridge_test_results.json\")\n",
    "vcb_time_ridge_multi_steps = vcb_ridge_multi_steps_results[\"time\"]\n",
    "vcb_time_ridge_multi_steps"
   ]
  },
  {
   "cell_type": "markdown",
   "id": "a28d7e71",
   "metadata": {},
   "source": [
    "#### BIDV"
   ]
  },
  {
   "cell_type": "code",
   "execution_count": 52,
   "id": "0222e3c2",
   "metadata": {},
   "outputs": [
    {
     "data": {
      "text/plain": [
       "{'training time': 0.02509927749633789}"
      ]
     },
     "execution_count": 52,
     "metadata": {},
     "output_type": "execute_result"
    }
   ],
   "source": [
    "bid_training_time_ridge_one_step = read_json_file(\".\\\\model_application\\\\experiment\\\\saved_checkpoint\\\\machine_learning\\\\one_step\\\\bid\\\\ridge_training_time.json\")\n",
    "bid_training_time_ridge_one_step"
   ]
  },
  {
   "cell_type": "code",
   "execution_count": 53,
   "id": "3c782261",
   "metadata": {},
   "outputs": [
    {
     "data": {
      "text/plain": [
       "{'training time': 0.0800178050994873}"
      ]
     },
     "execution_count": 53,
     "metadata": {},
     "output_type": "execute_result"
    }
   ],
   "source": [
    "bid_training_time_ridge_multi_steps = read_json_file(\".\\\\model_application\\\\experiment\\\\saved_checkpoint\\\\machine_learning\\\\multi_steps\\\\bid\\\\ridge_training_time.json\")\n",
    "bid_training_time_ridge_multi_steps"
   ]
  },
  {
   "cell_type": "code",
   "execution_count": 54,
   "id": "1bfbfa8e",
   "metadata": {},
   "outputs": [
    {
     "data": {
      "text/plain": [
       "0.0"
      ]
     },
     "execution_count": 54,
     "metadata": {},
     "output_type": "execute_result"
    }
   ],
   "source": [
    "bid_ridge_one_step_results = read_json_file(\".\\\\model_application\\\\experiment\\\\saved_checkpoint\\\\machine_learning\\\\one_step\\\\bid\\\\ridge_test_results.json\")\n",
    "bid_time_ridge_one_step = bid_ridge_one_step_results[\"time\"]\n",
    "bid_time_ridge_one_step"
   ]
  },
  {
   "cell_type": "code",
   "execution_count": 55,
   "id": "53dd85d2",
   "metadata": {},
   "outputs": [
    {
     "data": {
      "text/plain": [
       "0.0010027885437011719"
      ]
     },
     "execution_count": 55,
     "metadata": {},
     "output_type": "execute_result"
    }
   ],
   "source": [
    "bid_ridge_multi_steps_results = read_json_file(\".\\\\model_application\\\\experiment\\\\saved_checkpoint\\\\machine_learning\\\\multi_steps\\\\bid\\\\ridge_test_results.json\")\n",
    "bid_time_ridge_multi_steps = bid_ridge_multi_steps_results[\"time\"]\n",
    "bid_time_ridge_multi_steps"
   ]
  },
  {
   "cell_type": "markdown",
   "id": "72d71a62",
   "metadata": {},
   "source": [
    "#### Techcombank"
   ]
  },
  {
   "cell_type": "code",
   "execution_count": 56,
   "id": "69589786",
   "metadata": {},
   "outputs": [
    {
     "data": {
      "text/plain": [
       "{'training time': 0.024275779724121094}"
      ]
     },
     "execution_count": 56,
     "metadata": {},
     "output_type": "execute_result"
    }
   ],
   "source": [
    "tcb_training_time_ridge_one_step = read_json_file(\".\\\\model_application\\\\experiment\\\\saved_checkpoint\\\\machine_learning\\\\one_step\\\\tcb\\\\ridge_training_time.json\")\n",
    "tcb_training_time_ridge_one_step"
   ]
  },
  {
   "cell_type": "code",
   "execution_count": 57,
   "id": "d9a6fe08",
   "metadata": {},
   "outputs": [
    {
     "data": {
      "text/plain": [
       "{'training time': 0.10253500938415527}"
      ]
     },
     "execution_count": 57,
     "metadata": {},
     "output_type": "execute_result"
    }
   ],
   "source": [
    "tcb_training_time_ridge_multi_steps = read_json_file(\".\\\\model_application\\\\experiment\\\\saved_checkpoint\\\\machine_learning\\\\multi_steps\\\\tcb\\\\ridge_training_time.json\")\n",
    "tcb_training_time_ridge_multi_steps"
   ]
  },
  {
   "cell_type": "code",
   "execution_count": 58,
   "id": "7f68495f",
   "metadata": {},
   "outputs": [
    {
     "data": {
      "text/plain": [
       "0.0014510154724121094"
      ]
     },
     "execution_count": 58,
     "metadata": {},
     "output_type": "execute_result"
    }
   ],
   "source": [
    "tcb_ridge_one_step_results = read_json_file(\".\\\\model_application\\\\experiment\\\\saved_checkpoint\\\\machine_learning\\\\one_step\\\\tcb\\\\ridge_test_results.json\")\n",
    "tcb_time_ridge_one_step = tcb_ridge_one_step_results[\"time\"]\n",
    "tcb_time_ridge_one_step"
   ]
  },
  {
   "cell_type": "code",
   "execution_count": 59,
   "id": "eb917351",
   "metadata": {},
   "outputs": [
    {
     "data": {
      "text/plain": [
       "0.0"
      ]
     },
     "execution_count": 59,
     "metadata": {},
     "output_type": "execute_result"
    }
   ],
   "source": [
    "tcb_ridge_multi_steps_results = read_json_file(\".\\\\model_application\\\\experiment\\\\saved_checkpoint\\\\machine_learning\\\\multi_steps\\\\tcb\\\\ridge_test_results.json\")\n",
    "tcb_time_ridge_multi_steps = tcb_ridge_multi_steps_results[\"time\"]\n",
    "tcb_time_ridge_multi_steps"
   ]
  },
  {
   "cell_type": "markdown",
   "id": "d59fd90c",
   "metadata": {},
   "source": [
    "## Deep learing"
   ]
  },
  {
   "cell_type": "code",
   "execution_count": 60,
   "id": "0b96e5b7",
   "metadata": {},
   "outputs": [],
   "source": [
    "def get_training_time(model, bank, n_steps):\n",
    "    checkpoint = torch.load(f\".\\\\model_application\\\\experiment\\\\saved_checkpoint\\\\deep_learning\\\\{model}\\\\{bank}\\\\{n_steps}\\\\best_model.pth\")\n",
    "    training_time = checkpoint[\"training_time\"]\n",
    "    return training_time"
   ]
  },
  {
   "cell_type": "markdown",
   "id": "3f7b01a5",
   "metadata": {},
   "source": [
    "### LSTM"
   ]
  },
  {
   "cell_type": "markdown",
   "id": "324d8ead",
   "metadata": {},
   "source": [
    "#### Vietcombank"
   ]
  },
  {
   "cell_type": "code",
   "execution_count": 61,
   "id": "c939469f",
   "metadata": {},
   "outputs": [
    {
     "data": {
      "text/plain": [
       "2.4207677841186523"
      ]
     },
     "execution_count": 61,
     "metadata": {},
     "output_type": "execute_result"
    }
   ],
   "source": [
    "vcb_training_time_lstm_one_step = get_training_time(\"lstm\", \"vcb\", \"one_step\")\n",
    "vcb_training_time_lstm_one_step"
   ]
  },
  {
   "cell_type": "code",
   "execution_count": 62,
   "id": "f483d6b0",
   "metadata": {},
   "outputs": [
    {
     "data": {
      "text/plain": [
       "1.1088857650756836"
      ]
     },
     "execution_count": 62,
     "metadata": {},
     "output_type": "execute_result"
    }
   ],
   "source": [
    "vcb_training_time_lstm_multi_steps = get_training_time(\"lstm\", \"vcb\", \"multi_steps\")\n",
    "vcb_training_time_lstm_multi_steps"
   ]
  },
  {
   "cell_type": "code",
   "execution_count": 63,
   "id": "ed693138",
   "metadata": {},
   "outputs": [
    {
     "data": {
      "text/plain": [
       "0.08334565162658691"
      ]
     },
     "execution_count": 63,
     "metadata": {},
     "output_type": "execute_result"
    }
   ],
   "source": [
    "vcb_lstm_one_step_results = read_json_file(\".\\\\model_application\\\\experiment\\\\saved_checkpoint\\\\deep_learning\\\\lstm\\\\vcb\\\\one_step\\\\test_results.json\")\n",
    "vcb_time_lstm_one_step = vcb_lstm_one_step_results[\"time\"]\n",
    "vcb_time_lstm_one_step"
   ]
  },
  {
   "cell_type": "code",
   "execution_count": 64,
   "id": "dc476f2f",
   "metadata": {},
   "outputs": [
    {
     "data": {
      "text/plain": [
       "0.09894514083862305"
      ]
     },
     "execution_count": 64,
     "metadata": {},
     "output_type": "execute_result"
    }
   ],
   "source": [
    "vcb_lstm_multi_steps_results = read_json_file(\".\\\\model_application\\\\experiment\\\\saved_checkpoint\\\\deep_learning\\\\lstm\\\\vcb\\\\multi_steps\\\\test_results.json\")\n",
    "vcb_time_lstm_multi_steps = vcb_lstm_multi_steps_results[\"time\"]\n",
    "vcb_time_lstm_multi_steps"
   ]
  },
  {
   "cell_type": "markdown",
   "id": "4dc86b52",
   "metadata": {},
   "source": [
    "#### BIDV"
   ]
  },
  {
   "cell_type": "code",
   "execution_count": 65,
   "id": "62a35c64",
   "metadata": {},
   "outputs": [
    {
     "data": {
      "text/plain": [
       "1.0223960876464844"
      ]
     },
     "execution_count": 65,
     "metadata": {},
     "output_type": "execute_result"
    }
   ],
   "source": [
    "bid_training_time_lstm_one_step = get_training_time(\"lstm\", \"bid\", \"one_step\")\n",
    "bid_training_time_lstm_one_step"
   ]
  },
  {
   "cell_type": "code",
   "execution_count": 66,
   "id": "32c8af1c",
   "metadata": {},
   "outputs": [
    {
     "data": {
      "text/plain": [
       "1.5091373920440674"
      ]
     },
     "execution_count": 66,
     "metadata": {},
     "output_type": "execute_result"
    }
   ],
   "source": [
    "bid_training_time_lstm_multi_steps = get_training_time(\"lstm\", \"bid\", \"multi_steps\")\n",
    "bid_training_time_lstm_multi_steps"
   ]
  },
  {
   "cell_type": "code",
   "execution_count": 67,
   "id": "d4615230",
   "metadata": {},
   "outputs": [
    {
     "data": {
      "text/plain": [
       "0.126664400100708"
      ]
     },
     "execution_count": 67,
     "metadata": {},
     "output_type": "execute_result"
    }
   ],
   "source": [
    "bid_lstm_one_step_results = read_json_file(\".\\\\model_application\\\\experiment\\\\saved_checkpoint\\\\deep_learning\\\\lstm\\\\bid\\\\one_step\\\\test_results.json\")\n",
    "bid_time_lstm_one_step = bid_lstm_one_step_results[\"time\"]\n",
    "bid_time_lstm_one_step"
   ]
  },
  {
   "cell_type": "code",
   "execution_count": 68,
   "id": "8fbe4ab5",
   "metadata": {},
   "outputs": [
    {
     "data": {
      "text/plain": [
       "0.0773615837097168"
      ]
     },
     "execution_count": 68,
     "metadata": {},
     "output_type": "execute_result"
    }
   ],
   "source": [
    "bid_lstm_multi_steps_results = read_json_file(\".\\\\model_application\\\\experiment\\\\saved_checkpoint\\\\deep_learning\\\\lstm\\\\bid\\\\multi_steps\\\\test_results.json\")\n",
    "bid_time_lstm_multi_steps = bid_lstm_multi_steps_results[\"time\"]\n",
    "bid_time_lstm_multi_steps"
   ]
  },
  {
   "cell_type": "markdown",
   "id": "55dad9cb",
   "metadata": {},
   "source": [
    "#### Techcombank"
   ]
  },
  {
   "cell_type": "code",
   "execution_count": 69,
   "id": "20966cbd",
   "metadata": {},
   "outputs": [
    {
     "data": {
      "text/plain": [
       "3.263741970062256"
      ]
     },
     "execution_count": 69,
     "metadata": {},
     "output_type": "execute_result"
    }
   ],
   "source": [
    "tcb_training_time_lstm_one_step = get_training_time(\"lstm\", \"tcb\", \"one_step\")\n",
    "tcb_training_time_lstm_one_step"
   ]
  },
  {
   "cell_type": "code",
   "execution_count": 70,
   "id": "3923e197",
   "metadata": {},
   "outputs": [
    {
     "data": {
      "text/plain": [
       "1.336780071258545"
      ]
     },
     "execution_count": 70,
     "metadata": {},
     "output_type": "execute_result"
    }
   ],
   "source": [
    "tcb_training_time_lstm_multi_steps = get_training_time(\"lstm\", \"tcb\", \"multi_steps\")\n",
    "tcb_training_time_lstm_multi_steps"
   ]
  },
  {
   "cell_type": "code",
   "execution_count": 71,
   "id": "a36ffefa",
   "metadata": {},
   "outputs": [
    {
     "data": {
      "text/plain": [
       "0.05917072296142578"
      ]
     },
     "execution_count": 71,
     "metadata": {},
     "output_type": "execute_result"
    }
   ],
   "source": [
    "tcb_lstm_one_step_results = read_json_file(\".\\\\model_application\\\\experiment\\\\saved_checkpoint\\\\deep_learning\\\\lstm\\\\tcb\\\\one_step\\\\test_results.json\")\n",
    "tcb_time_lstm_one_step = tcb_lstm_one_step_results[\"time\"]\n",
    "tcb_time_lstm_one_step"
   ]
  },
  {
   "cell_type": "code",
   "execution_count": 72,
   "id": "8c9348a0",
   "metadata": {},
   "outputs": [
    {
     "data": {
      "text/plain": [
       "0.05775332450866699"
      ]
     },
     "execution_count": 72,
     "metadata": {},
     "output_type": "execute_result"
    }
   ],
   "source": [
    "tcb_lstm_multi_steps_results = read_json_file(\".\\\\model_application\\\\experiment\\\\saved_checkpoint\\\\deep_learning\\\\lstm\\\\tcb\\\\multi_steps\\\\test_results.json\")\n",
    "tcb_time_lstm_multi_steps = tcb_lstm_multi_steps_results[\"time\"]\n",
    "tcb_time_lstm_multi_steps"
   ]
  },
  {
   "cell_type": "markdown",
   "id": "4248e558",
   "metadata": {},
   "source": [
    "### GRU"
   ]
  },
  {
   "cell_type": "markdown",
   "id": "12321477",
   "metadata": {},
   "source": [
    "#### Vietcombank"
   ]
  },
  {
   "cell_type": "code",
   "execution_count": 73,
   "id": "36293e9d",
   "metadata": {},
   "outputs": [
    {
     "data": {
      "text/plain": [
       "0.5283944606781006"
      ]
     },
     "execution_count": 73,
     "metadata": {},
     "output_type": "execute_result"
    }
   ],
   "source": [
    "vcb_training_time_gru_one_step = get_training_time(\"gru\", \"vcb\", \"one_step\")\n",
    "vcb_training_time_gru_one_step"
   ]
  },
  {
   "cell_type": "code",
   "execution_count": 74,
   "id": "923f1a47",
   "metadata": {},
   "outputs": [
    {
     "data": {
      "text/plain": [
       "3.3714566230773926"
      ]
     },
     "execution_count": 74,
     "metadata": {},
     "output_type": "execute_result"
    }
   ],
   "source": [
    "vcb_training_time_gru_multi_steps = get_training_time(\"gru\", \"vcb\", \"multi_steps\")\n",
    "vcb_training_time_gru_multi_steps"
   ]
  },
  {
   "cell_type": "code",
   "execution_count": 75,
   "id": "327c3bd8",
   "metadata": {},
   "outputs": [
    {
     "data": {
      "text/plain": [
       "0.07339978218078613"
      ]
     },
     "execution_count": 75,
     "metadata": {},
     "output_type": "execute_result"
    }
   ],
   "source": [
    "vcb_gru_one_step_results = read_json_file(\".\\\\model_application\\\\experiment\\\\saved_checkpoint\\\\deep_learning\\\\gru\\\\vcb\\\\one_step\\\\test_results.json\")\n",
    "vcb_time_gru_one_step = vcb_gru_one_step_results[\"time\"]\n",
    "vcb_time_gru_one_step"
   ]
  },
  {
   "cell_type": "code",
   "execution_count": 76,
   "id": "ac169022",
   "metadata": {},
   "outputs": [
    {
     "data": {
      "text/plain": [
       "0.1367197036743164"
      ]
     },
     "execution_count": 76,
     "metadata": {},
     "output_type": "execute_result"
    }
   ],
   "source": [
    "vcb_gru_multi_steps_results = read_json_file(\".\\\\model_application\\\\experiment\\\\saved_checkpoint\\\\deep_learning\\\\gru\\\\vcb\\\\multi_steps\\\\test_results.json\")\n",
    "vcb_time_gru_multi_steps = vcb_gru_multi_steps_results[\"time\"]\n",
    "vcb_time_gru_multi_steps"
   ]
  },
  {
   "cell_type": "markdown",
   "id": "39d9e23d",
   "metadata": {},
   "source": [
    "#### BIDV"
   ]
  },
  {
   "cell_type": "code",
   "execution_count": 77,
   "id": "666337f5",
   "metadata": {},
   "outputs": [
    {
     "data": {
      "text/plain": [
       "3.950188159942627"
      ]
     },
     "execution_count": 77,
     "metadata": {},
     "output_type": "execute_result"
    }
   ],
   "source": [
    "bid_training_time_gru_one_step = get_training_time(\"gru\", \"bid\", \"one_step\")\n",
    "bid_training_time_gru_one_step"
   ]
  },
  {
   "cell_type": "code",
   "execution_count": 78,
   "id": "b70d8c16",
   "metadata": {},
   "outputs": [
    {
     "data": {
      "text/plain": [
       "0.33220529556274414"
      ]
     },
     "execution_count": 78,
     "metadata": {},
     "output_type": "execute_result"
    }
   ],
   "source": [
    "bid_training_time_gru_multi_steps = get_training_time(\"gru\", \"bid\", \"multi_steps\")\n",
    "bid_training_time_gru_multi_steps"
   ]
  },
  {
   "cell_type": "code",
   "execution_count": 79,
   "id": "c3c09730",
   "metadata": {},
   "outputs": [
    {
     "data": {
      "text/plain": [
       "0.07799696922302246"
      ]
     },
     "execution_count": 79,
     "metadata": {},
     "output_type": "execute_result"
    }
   ],
   "source": [
    "bid_gru_one_step_results = read_json_file(\".\\\\model_application\\\\experiment\\\\saved_checkpoint\\\\deep_learning\\\\gru\\\\bid\\\\one_step\\\\test_results.json\")\n",
    "bid_time_gru_one_step = bid_gru_one_step_results[\"time\"]\n",
    "bid_time_gru_one_step"
   ]
  },
  {
   "cell_type": "code",
   "execution_count": 80,
   "id": "73c9272d",
   "metadata": {},
   "outputs": [
    {
     "data": {
      "text/plain": [
       "0.08226490020751953"
      ]
     },
     "execution_count": 80,
     "metadata": {},
     "output_type": "execute_result"
    }
   ],
   "source": [
    "bid_gru_multi_steps_results = read_json_file(\".\\\\model_application\\\\experiment\\\\saved_checkpoint\\\\deep_learning\\\\gru\\\\bid\\\\multi_steps\\\\test_results.json\")\n",
    "bid_time_gru_multi_steps = bid_gru_multi_steps_results[\"time\"]\n",
    "bid_time_gru_multi_steps"
   ]
  },
  {
   "cell_type": "markdown",
   "id": "285a3d0d",
   "metadata": {},
   "source": [
    "#### Techcombank"
   ]
  },
  {
   "cell_type": "code",
   "execution_count": 81,
   "id": "5d118e9d",
   "metadata": {},
   "outputs": [
    {
     "data": {
      "text/plain": [
       "0.2623136043548584"
      ]
     },
     "execution_count": 81,
     "metadata": {},
     "output_type": "execute_result"
    }
   ],
   "source": [
    "tcb_training_time_gru_one_step = get_training_time(\"gru\", \"tcb\", \"one_step\")\n",
    "tcb_training_time_gru_one_step"
   ]
  },
  {
   "cell_type": "code",
   "execution_count": 82,
   "id": "ef085cd4",
   "metadata": {},
   "outputs": [
    {
     "data": {
      "text/plain": [
       "1.5064141750335693"
      ]
     },
     "execution_count": 82,
     "metadata": {},
     "output_type": "execute_result"
    }
   ],
   "source": [
    "tcb_training_time_gru_multi_steps = get_training_time(\"gru\", \"tcb\", \"multi_steps\")\n",
    "tcb_training_time_gru_multi_steps"
   ]
  },
  {
   "cell_type": "code",
   "execution_count": 83,
   "id": "65883811",
   "metadata": {},
   "outputs": [
    {
     "data": {
      "text/plain": [
       "0.05832028388977051"
      ]
     },
     "execution_count": 83,
     "metadata": {},
     "output_type": "execute_result"
    }
   ],
   "source": [
    "tcb_gru_one_step_results = read_json_file(\".\\\\model_application\\\\experiment\\\\saved_checkpoint\\\\deep_learning\\\\gru\\\\tcb\\\\one_step\\\\test_results.json\")\n",
    "tcb_time_gru_one_step = tcb_gru_one_step_results[\"time\"]\n",
    "tcb_time_gru_one_step"
   ]
  },
  {
   "cell_type": "code",
   "execution_count": 84,
   "id": "0833f035",
   "metadata": {},
   "outputs": [
    {
     "data": {
      "text/plain": [
       "0.06180143356323242"
      ]
     },
     "execution_count": 84,
     "metadata": {},
     "output_type": "execute_result"
    }
   ],
   "source": [
    "tcb_gru_multi_steps_results = read_json_file(\".\\\\model_application\\\\experiment\\\\saved_checkpoint\\\\deep_learning\\\\gru\\\\tcb\\\\multi_steps\\\\test_results.json\")\n",
    "tcb_time_gru_multi_steps = tcb_gru_multi_steps_results[\"time\"]\n",
    "tcb_time_gru_multi_steps"
   ]
  },
  {
   "cell_type": "markdown",
   "id": "6a3ced6e",
   "metadata": {},
   "source": [
    "# Prepare for evaluation"
   ]
  },
  {
   "cell_type": "markdown",
   "id": "74ae3d96",
   "metadata": {},
   "source": [
    "## One step"
   ]
  },
  {
   "cell_type": "code",
   "execution_count": 85,
   "id": "30dee23a",
   "metadata": {},
   "outputs": [],
   "source": [
    "sarimax_training_time = [vcb_training_time_sarimax[\"training time\"]] + [bid_training_time_sarimax[\"training time\"]] + [tcb_training_time_sarimax[\"training time\"]]\n",
    "svm_training_time_one_step = [vcb_training_time_svm_one_step[\"training time\"]] + [bid_training_time_svm_one_step[\"training time\"]] + [tcb_training_time_svm_one_step[\"training time\"]]\n",
    "random_forest_training_time_one_step = [vcb_training_time_random_forest_one_step[\"training time\"]] + [bid_training_time_random_forest_one_step[\"training time\"]] + [tcb_training_time_random_forest_one_step[\"training time\"]]\n",
    "linear_regression_training_time_one_step = [vcb_training_time_linear_regression_one_step[\"training time\"]] + [bid_training_time_linear_regression_one_step[\"training time\"]] + [tcb_training_time_linear_regression_one_step[\"training time\"]]\n",
    "ridge_training_time_one_step = [vcb_training_time_ridge_one_step[\"training time\"]] + [bid_training_time_ridge_one_step[\"training time\"]] + [tcb_training_time_ridge_one_step[\"training time\"]]\n",
    "lstm_training_time_one_step = [vcb_training_time_lstm_one_step] + [bid_training_time_lstm_one_step] + [tcb_training_time_lstm_one_step]\n",
    "gru_training_time_one_step = [vcb_training_time_gru_one_step] + [bid_training_time_gru_one_step] + [tcb_training_time_gru_one_step]"
   ]
  },
  {
   "cell_type": "code",
   "execution_count": 86,
   "id": "708bba03",
   "metadata": {},
   "outputs": [
    {
     "data": {
      "text/html": [
       "<div>\n",
       "<style scoped>\n",
       "    .dataframe tbody tr th:only-of-type {\n",
       "        vertical-align: middle;\n",
       "    }\n",
       "\n",
       "    .dataframe tbody tr th {\n",
       "        vertical-align: top;\n",
       "    }\n",
       "\n",
       "    .dataframe thead th {\n",
       "        text-align: right;\n",
       "    }\n",
       "</style>\n",
       "<table border=\"1\" class=\"dataframe\">\n",
       "  <thead>\n",
       "    <tr style=\"text-align: right;\">\n",
       "      <th></th>\n",
       "      <th>Model</th>\n",
       "      <th>Training_time</th>\n",
       "    </tr>\n",
       "  </thead>\n",
       "  <tbody>\n",
       "    <tr>\n",
       "      <th>0</th>\n",
       "      <td>SARIMAX</td>\n",
       "      <td>3.123368</td>\n",
       "    </tr>\n",
       "    <tr>\n",
       "      <th>1</th>\n",
       "      <td>SARIMAX</td>\n",
       "      <td>3.858862</td>\n",
       "    </tr>\n",
       "    <tr>\n",
       "      <th>2</th>\n",
       "      <td>SARIMAX</td>\n",
       "      <td>4.053464</td>\n",
       "    </tr>\n",
       "    <tr>\n",
       "      <th>3</th>\n",
       "      <td>SVM</td>\n",
       "      <td>1.803368</td>\n",
       "    </tr>\n",
       "    <tr>\n",
       "      <th>4</th>\n",
       "      <td>SVM</td>\n",
       "      <td>1.901575</td>\n",
       "    </tr>\n",
       "    <tr>\n",
       "      <th>5</th>\n",
       "      <td>SVM</td>\n",
       "      <td>0.906087</td>\n",
       "    </tr>\n",
       "    <tr>\n",
       "      <th>6</th>\n",
       "      <td>Random Forest</td>\n",
       "      <td>5.558147</td>\n",
       "    </tr>\n",
       "    <tr>\n",
       "      <th>7</th>\n",
       "      <td>Random Forest</td>\n",
       "      <td>2.225699</td>\n",
       "    </tr>\n",
       "    <tr>\n",
       "      <th>8</th>\n",
       "      <td>Random Forest</td>\n",
       "      <td>1.577517</td>\n",
       "    </tr>\n",
       "    <tr>\n",
       "      <th>9</th>\n",
       "      <td>Linear Regression</td>\n",
       "      <td>0.000999</td>\n",
       "    </tr>\n",
       "    <tr>\n",
       "      <th>10</th>\n",
       "      <td>Linear Regression</td>\n",
       "      <td>0.001005</td>\n",
       "    </tr>\n",
       "    <tr>\n",
       "      <th>11</th>\n",
       "      <td>Linear Regression</td>\n",
       "      <td>0.001026</td>\n",
       "    </tr>\n",
       "    <tr>\n",
       "      <th>12</th>\n",
       "      <td>Ridge</td>\n",
       "      <td>0.025892</td>\n",
       "    </tr>\n",
       "    <tr>\n",
       "      <th>13</th>\n",
       "      <td>Ridge</td>\n",
       "      <td>0.025099</td>\n",
       "    </tr>\n",
       "    <tr>\n",
       "      <th>14</th>\n",
       "      <td>Ridge</td>\n",
       "      <td>0.024276</td>\n",
       "    </tr>\n",
       "    <tr>\n",
       "      <th>15</th>\n",
       "      <td>LSTM</td>\n",
       "      <td>2.420768</td>\n",
       "    </tr>\n",
       "    <tr>\n",
       "      <th>16</th>\n",
       "      <td>LSTM</td>\n",
       "      <td>1.022396</td>\n",
       "    </tr>\n",
       "    <tr>\n",
       "      <th>17</th>\n",
       "      <td>LSTM</td>\n",
       "      <td>3.263742</td>\n",
       "    </tr>\n",
       "    <tr>\n",
       "      <th>18</th>\n",
       "      <td>GRU</td>\n",
       "      <td>0.528394</td>\n",
       "    </tr>\n",
       "    <tr>\n",
       "      <th>19</th>\n",
       "      <td>GRU</td>\n",
       "      <td>3.950188</td>\n",
       "    </tr>\n",
       "    <tr>\n",
       "      <th>20</th>\n",
       "      <td>GRU</td>\n",
       "      <td>0.262314</td>\n",
       "    </tr>\n",
       "  </tbody>\n",
       "</table>\n",
       "</div>"
      ],
      "text/plain": [
       "                Model  Training_time\n",
       "0             SARIMAX       3.123368\n",
       "1             SARIMAX       3.858862\n",
       "2             SARIMAX       4.053464\n",
       "3                 SVM       1.803368\n",
       "4                 SVM       1.901575\n",
       "5                 SVM       0.906087\n",
       "6       Random Forest       5.558147\n",
       "7       Random Forest       2.225699\n",
       "8       Random Forest       1.577517\n",
       "9   Linear Regression       0.000999\n",
       "10  Linear Regression       0.001005\n",
       "11  Linear Regression       0.001026\n",
       "12              Ridge       0.025892\n",
       "13              Ridge       0.025099\n",
       "14              Ridge       0.024276\n",
       "15               LSTM       2.420768\n",
       "16               LSTM       1.022396\n",
       "17               LSTM       3.263742\n",
       "18                GRU       0.528394\n",
       "19                GRU       3.950188\n",
       "20                GRU       0.262314"
      ]
     },
     "execution_count": 86,
     "metadata": {},
     "output_type": "execute_result"
    }
   ],
   "source": [
    "training_time_one_step = pd.DataFrame({\n",
    "    \"Model\": (\n",
    "        [\"SARIMAX\"] * len(sarimax_training_time) +\n",
    "        [\"SVM\"] * len(svm_training_time_one_step) +\n",
    "        [\"Random Forest\"] * len(random_forest_training_time_one_step) +\n",
    "        [\"Linear Regression\"] * len(linear_regression_training_time_one_step) +\n",
    "        [\"Ridge\"] * len(ridge_training_time_one_step) +\n",
    "        [\"LSTM\"] * len(lstm_training_time_one_step) +\n",
    "        [\"GRU\"] * len(gru_training_time_one_step)\n",
    "    ),\n",
    "    \"Training_time\": sarimax_training_time + svm_training_time_one_step + random_forest_training_time_one_step + linear_regression_training_time_one_step + ridge_training_time_one_step + lstm_training_time_one_step + gru_training_time_one_step\n",
    "})\n",
    "training_time_one_step"
   ]
  },
  {
   "cell_type": "code",
   "execution_count": 87,
   "id": "151c2c15",
   "metadata": {},
   "outputs": [],
   "source": [
    "sarimax_time = [vcb_time_sarimax] + [bid_time_sarimax] + [tcb_time_sarimax]\n",
    "svm_time_one_step = [vcb_time_svm_one_step] + [bid_time_svm_one_step] + [tcb_time_svm_one_step]\n",
    "random_forest_time_one_step = [vcb_time_random_forest_one_step] + [bid_time_random_forest_one_step] + [tcb_time_random_forest_one_step]\n",
    "linear_regression_time_one_step = [vcb_time_linear_regression_one_step] + [bid_time_linear_regression_one_step] + [tcb_time_linear_regression_one_step]\n",
    "ridge_time_one_step = [vcb_time_ridge_one_step] + [bid_time_ridge_one_step] + [tcb_time_ridge_one_step]\n",
    "lstm_time_one_step = [vcb_time_lstm_one_step] + [bid_time_lstm_one_step] + [tcb_time_lstm_one_step]\n",
    "gru_time_one_step = [vcb_time_gru_one_step] + [bid_time_gru_one_step] + [tcb_time_gru_one_step]"
   ]
  },
  {
   "cell_type": "code",
   "execution_count": 88,
   "id": "d6048b8d",
   "metadata": {},
   "outputs": [
    {
     "data": {
      "text/html": [
       "<div>\n",
       "<style scoped>\n",
       "    .dataframe tbody tr th:only-of-type {\n",
       "        vertical-align: middle;\n",
       "    }\n",
       "\n",
       "    .dataframe tbody tr th {\n",
       "        vertical-align: top;\n",
       "    }\n",
       "\n",
       "    .dataframe thead th {\n",
       "        text-align: right;\n",
       "    }\n",
       "</style>\n",
       "<table border=\"1\" class=\"dataframe\">\n",
       "  <thead>\n",
       "    <tr style=\"text-align: right;\">\n",
       "      <th></th>\n",
       "      <th>Model</th>\n",
       "      <th>Time</th>\n",
       "    </tr>\n",
       "  </thead>\n",
       "  <tbody>\n",
       "    <tr>\n",
       "      <th>0</th>\n",
       "      <td>SARIMAX</td>\n",
       "      <td>0.007007</td>\n",
       "    </tr>\n",
       "    <tr>\n",
       "      <th>1</th>\n",
       "      <td>SARIMAX</td>\n",
       "      <td>0.000000</td>\n",
       "    </tr>\n",
       "    <tr>\n",
       "      <th>2</th>\n",
       "      <td>SARIMAX</td>\n",
       "      <td>0.007133</td>\n",
       "    </tr>\n",
       "    <tr>\n",
       "      <th>3</th>\n",
       "      <td>SVM</td>\n",
       "      <td>0.001003</td>\n",
       "    </tr>\n",
       "    <tr>\n",
       "      <th>4</th>\n",
       "      <td>SVM</td>\n",
       "      <td>0.001022</td>\n",
       "    </tr>\n",
       "    <tr>\n",
       "      <th>5</th>\n",
       "      <td>SVM</td>\n",
       "      <td>0.000000</td>\n",
       "    </tr>\n",
       "    <tr>\n",
       "      <th>6</th>\n",
       "      <td>Random Forest</td>\n",
       "      <td>0.015829</td>\n",
       "    </tr>\n",
       "    <tr>\n",
       "      <th>7</th>\n",
       "      <td>Random Forest</td>\n",
       "      <td>0.012505</td>\n",
       "    </tr>\n",
       "    <tr>\n",
       "      <th>8</th>\n",
       "      <td>Random Forest</td>\n",
       "      <td>0.008198</td>\n",
       "    </tr>\n",
       "    <tr>\n",
       "      <th>9</th>\n",
       "      <td>Linear Regression</td>\n",
       "      <td>0.001006</td>\n",
       "    </tr>\n",
       "    <tr>\n",
       "      <th>10</th>\n",
       "      <td>Linear Regression</td>\n",
       "      <td>0.000997</td>\n",
       "    </tr>\n",
       "    <tr>\n",
       "      <th>11</th>\n",
       "      <td>Linear Regression</td>\n",
       "      <td>0.001215</td>\n",
       "    </tr>\n",
       "    <tr>\n",
       "      <th>12</th>\n",
       "      <td>Ridge</td>\n",
       "      <td>0.000000</td>\n",
       "    </tr>\n",
       "    <tr>\n",
       "      <th>13</th>\n",
       "      <td>Ridge</td>\n",
       "      <td>0.000000</td>\n",
       "    </tr>\n",
       "    <tr>\n",
       "      <th>14</th>\n",
       "      <td>Ridge</td>\n",
       "      <td>0.001451</td>\n",
       "    </tr>\n",
       "    <tr>\n",
       "      <th>15</th>\n",
       "      <td>LSTM</td>\n",
       "      <td>0.083346</td>\n",
       "    </tr>\n",
       "    <tr>\n",
       "      <th>16</th>\n",
       "      <td>LSTM</td>\n",
       "      <td>0.126664</td>\n",
       "    </tr>\n",
       "    <tr>\n",
       "      <th>17</th>\n",
       "      <td>LSTM</td>\n",
       "      <td>0.059171</td>\n",
       "    </tr>\n",
       "    <tr>\n",
       "      <th>18</th>\n",
       "      <td>GRU</td>\n",
       "      <td>0.073400</td>\n",
       "    </tr>\n",
       "    <tr>\n",
       "      <th>19</th>\n",
       "      <td>GRU</td>\n",
       "      <td>0.077997</td>\n",
       "    </tr>\n",
       "    <tr>\n",
       "      <th>20</th>\n",
       "      <td>GRU</td>\n",
       "      <td>0.058320</td>\n",
       "    </tr>\n",
       "  </tbody>\n",
       "</table>\n",
       "</div>"
      ],
      "text/plain": [
       "                Model      Time\n",
       "0             SARIMAX  0.007007\n",
       "1             SARIMAX  0.000000\n",
       "2             SARIMAX  0.007133\n",
       "3                 SVM  0.001003\n",
       "4                 SVM  0.001022\n",
       "5                 SVM  0.000000\n",
       "6       Random Forest  0.015829\n",
       "7       Random Forest  0.012505\n",
       "8       Random Forest  0.008198\n",
       "9   Linear Regression  0.001006\n",
       "10  Linear Regression  0.000997\n",
       "11  Linear Regression  0.001215\n",
       "12              Ridge  0.000000\n",
       "13              Ridge  0.000000\n",
       "14              Ridge  0.001451\n",
       "15               LSTM  0.083346\n",
       "16               LSTM  0.126664\n",
       "17               LSTM  0.059171\n",
       "18                GRU  0.073400\n",
       "19                GRU  0.077997\n",
       "20                GRU  0.058320"
      ]
     },
     "execution_count": 88,
     "metadata": {},
     "output_type": "execute_result"
    }
   ],
   "source": [
    "time_one_step = pd.DataFrame({\n",
    "    \"Model\": (\n",
    "        [\"SARIMAX\"] * len(sarimax_time) +\n",
    "        [\"SVM\"] * len(svm_time_one_step) +\n",
    "        [\"Random Forest\"] * len(random_forest_time_one_step) +\n",
    "        [\"Linear Regression\"] * len(linear_regression_time_one_step) +\n",
    "        [\"Ridge\"] * len(ridge_time_one_step) +\n",
    "        [\"LSTM\"] * len(lstm_time_one_step) +\n",
    "        [\"GRU\"] * len(gru_time_one_step)\n",
    "    ),\n",
    "    \"Time\": sarimax_time + svm_time_one_step + random_forest_time_one_step + linear_regression_time_one_step + ridge_time_one_step + lstm_time_one_step + gru_time_one_step\n",
    "})\n",
    "time_one_step"
   ]
  },
  {
   "cell_type": "markdown",
   "id": "cffd0907",
   "metadata": {},
   "source": [
    "## Multi steps"
   ]
  },
  {
   "cell_type": "code",
   "execution_count": 89,
   "id": "7bc06d58",
   "metadata": {},
   "outputs": [],
   "source": [
    "svm_training_time_multi_steps = [vcb_training_time_svm_multi_steps[\"training time\"]] + [bid_training_time_svm_multi_steps[\"training time\"]] + [tcb_training_time_svm_multi_steps[\"training time\"]]\n",
    "random_forest_training_time_multi_steps = [vcb_training_time_random_forest_multi_steps[\"training time\"]] + [bid_training_time_random_forest_multi_steps[\"training time\"]] + [tcb_training_time_random_forest_multi_steps[\"training time\"]]\n",
    "linear_regression_training_time_multi_steps = [vcb_training_time_linear_regression_multi_steps[\"training time\"]] + [bid_training_time_linear_regression_multi_steps[\"training time\"]] + [tcb_training_time_linear_regression_multi_steps[\"training time\"]]\n",
    "ridge_training_time_multi_steps = [vcb_training_time_ridge_multi_steps[\"training time\"]] + [bid_training_time_ridge_multi_steps[\"training time\"]] + [tcb_training_time_ridge_multi_steps[\"training time\"]]\n",
    "lstm_training_time_multi_steps = [vcb_training_time_lstm_multi_steps] + [bid_training_time_lstm_multi_steps] + [tcb_training_time_lstm_multi_steps]\n",
    "gru_training_time_multi_steps = [vcb_training_time_gru_multi_steps] + [bid_training_time_gru_multi_steps] + [tcb_training_time_gru_multi_steps]"
   ]
  },
  {
   "cell_type": "code",
   "execution_count": 90,
   "id": "f97c05ea",
   "metadata": {},
   "outputs": [
    {
     "data": {
      "text/html": [
       "<div>\n",
       "<style scoped>\n",
       "    .dataframe tbody tr th:only-of-type {\n",
       "        vertical-align: middle;\n",
       "    }\n",
       "\n",
       "    .dataframe tbody tr th {\n",
       "        vertical-align: top;\n",
       "    }\n",
       "\n",
       "    .dataframe thead th {\n",
       "        text-align: right;\n",
       "    }\n",
       "</style>\n",
       "<table border=\"1\" class=\"dataframe\">\n",
       "  <thead>\n",
       "    <tr style=\"text-align: right;\">\n",
       "      <th></th>\n",
       "      <th>Model</th>\n",
       "      <th>Training_time</th>\n",
       "    </tr>\n",
       "  </thead>\n",
       "  <tbody>\n",
       "    <tr>\n",
       "      <th>0</th>\n",
       "      <td>SVM</td>\n",
       "      <td>2.663372</td>\n",
       "    </tr>\n",
       "    <tr>\n",
       "      <th>1</th>\n",
       "      <td>SVM</td>\n",
       "      <td>2.874597</td>\n",
       "    </tr>\n",
       "    <tr>\n",
       "      <th>2</th>\n",
       "      <td>SVM</td>\n",
       "      <td>1.639043</td>\n",
       "    </tr>\n",
       "    <tr>\n",
       "      <th>3</th>\n",
       "      <td>Random Forest</td>\n",
       "      <td>11.752929</td>\n",
       "    </tr>\n",
       "    <tr>\n",
       "      <th>4</th>\n",
       "      <td>Random Forest</td>\n",
       "      <td>8.865193</td>\n",
       "    </tr>\n",
       "    <tr>\n",
       "      <th>5</th>\n",
       "      <td>Random Forest</td>\n",
       "      <td>6.836976</td>\n",
       "    </tr>\n",
       "    <tr>\n",
       "      <th>6</th>\n",
       "      <td>Linear Regression</td>\n",
       "      <td>0.004603</td>\n",
       "    </tr>\n",
       "    <tr>\n",
       "      <th>7</th>\n",
       "      <td>Linear Regression</td>\n",
       "      <td>0.003079</td>\n",
       "    </tr>\n",
       "    <tr>\n",
       "      <th>8</th>\n",
       "      <td>Linear Regression</td>\n",
       "      <td>0.004096</td>\n",
       "    </tr>\n",
       "    <tr>\n",
       "      <th>9</th>\n",
       "      <td>Ridge</td>\n",
       "      <td>0.088840</td>\n",
       "    </tr>\n",
       "    <tr>\n",
       "      <th>10</th>\n",
       "      <td>Ridge</td>\n",
       "      <td>0.080018</td>\n",
       "    </tr>\n",
       "    <tr>\n",
       "      <th>11</th>\n",
       "      <td>Ridge</td>\n",
       "      <td>0.102535</td>\n",
       "    </tr>\n",
       "    <tr>\n",
       "      <th>12</th>\n",
       "      <td>LSTM</td>\n",
       "      <td>1.108886</td>\n",
       "    </tr>\n",
       "    <tr>\n",
       "      <th>13</th>\n",
       "      <td>LSTM</td>\n",
       "      <td>1.509137</td>\n",
       "    </tr>\n",
       "    <tr>\n",
       "      <th>14</th>\n",
       "      <td>LSTM</td>\n",
       "      <td>1.336780</td>\n",
       "    </tr>\n",
       "    <tr>\n",
       "      <th>15</th>\n",
       "      <td>GRU</td>\n",
       "      <td>3.371457</td>\n",
       "    </tr>\n",
       "    <tr>\n",
       "      <th>16</th>\n",
       "      <td>GRU</td>\n",
       "      <td>0.332205</td>\n",
       "    </tr>\n",
       "    <tr>\n",
       "      <th>17</th>\n",
       "      <td>GRU</td>\n",
       "      <td>1.506414</td>\n",
       "    </tr>\n",
       "  </tbody>\n",
       "</table>\n",
       "</div>"
      ],
      "text/plain": [
       "                Model  Training_time\n",
       "0                 SVM       2.663372\n",
       "1                 SVM       2.874597\n",
       "2                 SVM       1.639043\n",
       "3       Random Forest      11.752929\n",
       "4       Random Forest       8.865193\n",
       "5       Random Forest       6.836976\n",
       "6   Linear Regression       0.004603\n",
       "7   Linear Regression       0.003079\n",
       "8   Linear Regression       0.004096\n",
       "9               Ridge       0.088840\n",
       "10              Ridge       0.080018\n",
       "11              Ridge       0.102535\n",
       "12               LSTM       1.108886\n",
       "13               LSTM       1.509137\n",
       "14               LSTM       1.336780\n",
       "15                GRU       3.371457\n",
       "16                GRU       0.332205\n",
       "17                GRU       1.506414"
      ]
     },
     "execution_count": 90,
     "metadata": {},
     "output_type": "execute_result"
    }
   ],
   "source": [
    "training_time_multi_steps = pd.DataFrame({\n",
    "    \"Model\": (\n",
    "        [\"SVM\"] * len(svm_training_time_multi_steps) +\n",
    "        [\"Random Forest\"] * len(random_forest_training_time_multi_steps) +\n",
    "        [\"Linear Regression\"] * len(linear_regression_training_time_multi_steps) +\n",
    "        [\"Ridge\"] * len(ridge_training_time_multi_steps) +\n",
    "        [\"LSTM\"] * len(lstm_training_time_multi_steps) +\n",
    "        [\"GRU\"] * len(gru_training_time_multi_steps)\n",
    "    ),\n",
    "    \"Training_time\": svm_training_time_multi_steps + random_forest_training_time_multi_steps + linear_regression_training_time_multi_steps + ridge_training_time_multi_steps + lstm_training_time_multi_steps + gru_training_time_multi_steps\n",
    "})\n",
    "training_time_multi_steps"
   ]
  },
  {
   "cell_type": "code",
   "execution_count": 91,
   "id": "a66ce34d",
   "metadata": {},
   "outputs": [],
   "source": [
    "svm_time_multi_steps = [vcb_time_svm_multi_steps] + [bid_time_svm_multi_steps] + [tcb_time_svm_multi_steps]\n",
    "random_forest_time_multi_steps = [vcb_time_random_forest_multi_steps] + [bid_time_random_forest_multi_steps] + [tcb_time_random_forest_multi_steps]\n",
    "linear_regression_time_multi_steps = [vcb_time_linear_regression_multi_steps] + [bid_time_linear_regression_multi_steps] + [tcb_time_linear_regression_multi_steps]\n",
    "ridge_time_multi_steps = [vcb_time_ridge_multi_steps] + [bid_time_ridge_multi_steps] + [tcb_time_ridge_multi_steps]\n",
    "lstm_time_multi_steps = [vcb_time_lstm_multi_steps] + [bid_time_lstm_multi_steps] + [tcb_time_lstm_multi_steps]\n",
    "gru_time_multi_steps = [vcb_time_gru_multi_steps] + [bid_time_gru_multi_steps] + [tcb_time_gru_multi_steps]"
   ]
  },
  {
   "cell_type": "code",
   "execution_count": 92,
   "id": "03b931aa",
   "metadata": {},
   "outputs": [
    {
     "data": {
      "text/html": [
       "<div>\n",
       "<style scoped>\n",
       "    .dataframe tbody tr th:only-of-type {\n",
       "        vertical-align: middle;\n",
       "    }\n",
       "\n",
       "    .dataframe tbody tr th {\n",
       "        vertical-align: top;\n",
       "    }\n",
       "\n",
       "    .dataframe thead th {\n",
       "        text-align: right;\n",
       "    }\n",
       "</style>\n",
       "<table border=\"1\" class=\"dataframe\">\n",
       "  <thead>\n",
       "    <tr style=\"text-align: right;\">\n",
       "      <th></th>\n",
       "      <th>Model</th>\n",
       "      <th>Time</th>\n",
       "    </tr>\n",
       "  </thead>\n",
       "  <tbody>\n",
       "    <tr>\n",
       "      <th>0</th>\n",
       "      <td>SVM</td>\n",
       "      <td>0.003151</td>\n",
       "    </tr>\n",
       "    <tr>\n",
       "      <th>1</th>\n",
       "      <td>SVM</td>\n",
       "      <td>0.003027</td>\n",
       "    </tr>\n",
       "    <tr>\n",
       "      <th>2</th>\n",
       "      <td>SVM</td>\n",
       "      <td>0.002014</td>\n",
       "    </tr>\n",
       "    <tr>\n",
       "      <th>3</th>\n",
       "      <td>Random Forest</td>\n",
       "      <td>0.036215</td>\n",
       "    </tr>\n",
       "    <tr>\n",
       "      <th>4</th>\n",
       "      <td>Random Forest</td>\n",
       "      <td>0.047267</td>\n",
       "    </tr>\n",
       "    <tr>\n",
       "      <th>5</th>\n",
       "      <td>Random Forest</td>\n",
       "      <td>0.029622</td>\n",
       "    </tr>\n",
       "    <tr>\n",
       "      <th>6</th>\n",
       "      <td>Linear Regression</td>\n",
       "      <td>0.000000</td>\n",
       "    </tr>\n",
       "    <tr>\n",
       "      <th>7</th>\n",
       "      <td>Linear Regression</td>\n",
       "      <td>0.000000</td>\n",
       "    </tr>\n",
       "    <tr>\n",
       "      <th>8</th>\n",
       "      <td>Linear Regression</td>\n",
       "      <td>0.000000</td>\n",
       "    </tr>\n",
       "    <tr>\n",
       "      <th>9</th>\n",
       "      <td>Ridge</td>\n",
       "      <td>0.001004</td>\n",
       "    </tr>\n",
       "    <tr>\n",
       "      <th>10</th>\n",
       "      <td>Ridge</td>\n",
       "      <td>0.001003</td>\n",
       "    </tr>\n",
       "    <tr>\n",
       "      <th>11</th>\n",
       "      <td>Ridge</td>\n",
       "      <td>0.000000</td>\n",
       "    </tr>\n",
       "    <tr>\n",
       "      <th>12</th>\n",
       "      <td>LSTM</td>\n",
       "      <td>0.098945</td>\n",
       "    </tr>\n",
       "    <tr>\n",
       "      <th>13</th>\n",
       "      <td>LSTM</td>\n",
       "      <td>0.077362</td>\n",
       "    </tr>\n",
       "    <tr>\n",
       "      <th>14</th>\n",
       "      <td>LSTM</td>\n",
       "      <td>0.057753</td>\n",
       "    </tr>\n",
       "    <tr>\n",
       "      <th>15</th>\n",
       "      <td>GRU</td>\n",
       "      <td>0.136720</td>\n",
       "    </tr>\n",
       "    <tr>\n",
       "      <th>16</th>\n",
       "      <td>GRU</td>\n",
       "      <td>0.082265</td>\n",
       "    </tr>\n",
       "    <tr>\n",
       "      <th>17</th>\n",
       "      <td>GRU</td>\n",
       "      <td>0.061801</td>\n",
       "    </tr>\n",
       "  </tbody>\n",
       "</table>\n",
       "</div>"
      ],
      "text/plain": [
       "                Model      Time\n",
       "0                 SVM  0.003151\n",
       "1                 SVM  0.003027\n",
       "2                 SVM  0.002014\n",
       "3       Random Forest  0.036215\n",
       "4       Random Forest  0.047267\n",
       "5       Random Forest  0.029622\n",
       "6   Linear Regression  0.000000\n",
       "7   Linear Regression  0.000000\n",
       "8   Linear Regression  0.000000\n",
       "9               Ridge  0.001004\n",
       "10              Ridge  0.001003\n",
       "11              Ridge  0.000000\n",
       "12               LSTM  0.098945\n",
       "13               LSTM  0.077362\n",
       "14               LSTM  0.057753\n",
       "15                GRU  0.136720\n",
       "16                GRU  0.082265\n",
       "17                GRU  0.061801"
      ]
     },
     "execution_count": 92,
     "metadata": {},
     "output_type": "execute_result"
    }
   ],
   "source": [
    "time_multi_steps = pd.DataFrame({\n",
    "    \"Model\": (\n",
    "        [\"SVM\"] * len(svm_time_multi_steps) +\n",
    "        [\"Random Forest\"] * len(random_forest_time_multi_steps) +\n",
    "        [\"Linear Regression\"] * len(linear_regression_time_multi_steps) +\n",
    "        [\"Ridge\"] * len(ridge_time_multi_steps) +\n",
    "        [\"LSTM\"] * len(lstm_time_multi_steps) +\n",
    "        [\"GRU\"] * len(gru_time_multi_steps)\n",
    "    ),\n",
    "    \"Time\": svm_time_multi_steps + random_forest_time_multi_steps + linear_regression_time_multi_steps + ridge_time_multi_steps + lstm_time_multi_steps + gru_time_multi_steps\n",
    "})\n",
    "time_multi_steps"
   ]
  },
  {
   "cell_type": "markdown",
   "id": "2d846b90",
   "metadata": {},
   "source": [
    "# Evaluate efficiency"
   ]
  },
  {
   "cell_type": "code",
   "execution_count": 93,
   "id": "b77b81ea",
   "metadata": {},
   "outputs": [],
   "source": [
    "def evaluate_results(data, time):\n",
    "    model = smf.ols(f\"{time} ~ Model\", data=data).fit()\n",
    "    anova_result = anova_lm(model)\n",
    "    print(anova_result)\n",
    "    print(\"\\n\")\n",
    "    if anova_result[\"PR(>F)\"][\"Model\"] < 0.02:\n",
    "        tukey = pairwise_tukeyhsd(data[time], data[\"Model\"]).summary().data\n",
    "        tukey_dataframe = pd.DataFrame(tukey[1:], columns=tukey[0])\n",
    "        print(tukey_dataframe[tukey_dataframe[\"reject\"] == True].reset_index())\n",
    "    else:\n",
    "        print(\"Không có sự khác biệt giữa các chỉ số!\")"
   ]
  },
  {
   "cell_type": "markdown",
   "id": "1d5174f5",
   "metadata": {},
   "source": [
    "## One step"
   ]
  },
  {
   "cell_type": "code",
   "execution_count": 94,
   "id": "2f982186",
   "metadata": {},
   "outputs": [
    {
     "name": "stdout",
     "output_type": "stream",
     "text": [
      "            df     sum_sq   mean_sq        F    PR(>F)\n",
      "Model      6.0  35.823165  5.970528  3.93723  0.016235\n",
      "Residual  14.0  21.230000  1.516429      NaN       NaN\n",
      "\n",
      "\n",
      "   index             group1   group2  meandiff   p-adj   lower   upper  reject\n",
      "0     13  Linear Regression  SARIMAX    3.6776  0.0323  0.2443  7.1108    True\n",
      "1     18              Ridge  SARIMAX    3.6535  0.0338  0.2202  7.0867    True\n"
     ]
    }
   ],
   "source": [
    "evaluate_results(training_time_one_step, \"Training_time\")"
   ]
  },
  {
   "cell_type": "code",
   "execution_count": 95,
   "id": "67677332",
   "metadata": {},
   "outputs": [
    {
     "name": "stdout",
     "output_type": "stream",
     "text": [
      "            df    sum_sq   mean_sq          F    PR(>F)\n",
      "Model      6.0  0.025636  0.004273  22.871101  0.000002\n",
      "Residual  14.0  0.002615  0.000187        NaN       NaN\n",
      "\n",
      "\n",
      "   index group1             group2  meandiff   p-adj   lower   upper  reject\n",
      "0      1    GRU  Linear Regression   -0.0688  0.0004 -0.1069 -0.0307    True\n",
      "1      2    GRU      Random Forest   -0.0577  0.0021 -0.0958 -0.0196    True\n",
      "2      3    GRU              Ridge   -0.0694  0.0003 -0.1075 -0.0313    True\n",
      "3      4    GRU            SARIMAX   -0.0652  0.0007 -0.1033 -0.0271    True\n",
      "4      5    GRU                SVM   -0.0692  0.0004 -0.1073 -0.0311    True\n",
      "5      6   LSTM  Linear Regression   -0.0887  0.0000 -0.1268 -0.0505    True\n",
      "6      7   LSTM      Random Forest   -0.0775  0.0001 -0.1157 -0.0394    True\n",
      "7      8   LSTM              Ridge   -0.0892  0.0000 -0.1273 -0.0511    True\n",
      "8      9   LSTM            SARIMAX   -0.0850  0.0000 -0.1231 -0.0469    True\n",
      "9     10   LSTM                SVM   -0.0891  0.0000 -0.1272 -0.0509    True\n"
     ]
    }
   ],
   "source": [
    "evaluate_results(time_one_step, \"Time\")"
   ]
  },
  {
   "cell_type": "markdown",
   "id": "9f729538",
   "metadata": {},
   "source": [
    "## Multi steps"
   ]
  },
  {
   "cell_type": "code",
   "execution_count": 96,
   "id": "5a038ffb",
   "metadata": {},
   "outputs": [
    {
     "name": "stdout",
     "output_type": "stream",
     "text": [
      "            df      sum_sq    mean_sq          F    PR(>F)\n",
      "Model      5.0  174.769200  34.953840  23.486733  0.000008\n",
      "Residual  12.0   17.858852   1.488238        NaN       NaN\n",
      "\n",
      "\n",
      "   index             group1         group2  meandiff   p-adj    lower  \\\n",
      "0      2                GRU  Random Forest    7.4150  0.0001   4.0693   \n",
      "1      6               LSTM  Random Forest    7.8334  0.0001   4.4877   \n",
      "2      9  Linear Regression  Random Forest    9.1478  0.0000   5.8020   \n",
      "3     12      Random Forest          Ridge   -9.0612  0.0000 -12.4070   \n",
      "4     13      Random Forest            SVM   -6.7594  0.0002 -10.1051   \n",
      "\n",
      "     upper  reject  \n",
      "0  10.7607    True  \n",
      "1  11.1792    True  \n",
      "2  12.4935    True  \n",
      "3  -5.7155    True  \n",
      "4  -3.4136    True  \n"
     ]
    }
   ],
   "source": [
    "evaluate_results(training_time_multi_steps, \"Training_time\")"
   ]
  },
  {
   "cell_type": "code",
   "execution_count": 97,
   "id": "a3d0ac12",
   "metadata": {},
   "outputs": [
    {
     "name": "stdout",
     "output_type": "stream",
     "text": [
      "            df    sum_sq   mean_sq          F    PR(>F)\n",
      "Model      5.0  0.026205  0.005241  15.690252  0.000067\n",
      "Residual  12.0  0.004008  0.000334        NaN       NaN\n",
      "\n",
      "\n",
      "   index group1             group2  meandiff   p-adj   lower   upper  reject\n",
      "0      1    GRU  Linear Regression   -0.0936  0.0005 -0.1437 -0.0435    True\n",
      "1      2    GRU      Random Forest   -0.0559  0.0261 -0.1060 -0.0058    True\n",
      "2      3    GRU              Ridge   -0.0929  0.0005 -0.1431 -0.0428    True\n",
      "3      4    GRU                SVM   -0.0909  0.0006 -0.1410 -0.0407    True\n",
      "4      5   LSTM  Linear Regression   -0.0780  0.0022 -0.1281 -0.0279    True\n",
      "5      7   LSTM              Ridge   -0.0774  0.0024 -0.1275 -0.0272    True\n",
      "6      8   LSTM                SVM   -0.0753  0.0030 -0.1254 -0.0252    True\n"
     ]
    }
   ],
   "source": [
    "evaluate_results(time_multi_steps, \"Time\")"
   ]
  },
  {
   "cell_type": "code",
   "execution_count": null,
   "id": "ae2b0c3a",
   "metadata": {},
   "outputs": [],
   "source": []
  }
 ],
 "metadata": {
  "kernelspec": {
   "display_name": ".venv",
   "language": "python",
   "name": "python3"
  },
  "language_info": {
   "codemirror_mode": {
    "name": "ipython",
    "version": 3
   },
   "file_extension": ".py",
   "mimetype": "text/x-python",
   "name": "python",
   "nbconvert_exporter": "python",
   "pygments_lexer": "ipython3",
   "version": "3.11.9"
  }
 },
 "nbformat": 4,
 "nbformat_minor": 5
}
