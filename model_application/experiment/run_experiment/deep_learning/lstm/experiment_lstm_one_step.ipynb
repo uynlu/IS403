{
 "cells": [
  {
   "cell_type": "code",
   "execution_count": 1,
   "id": "61a416b5",
   "metadata": {},
   "outputs": [
    {
     "name": "stdout",
     "output_type": "stream",
     "text": [
      "Thư mục làm việc hiện tại: D:\\UIT\\HK\\HK6\\IS403\\Đồ án\\Source code\n"
     ]
    }
   ],
   "source": [
    "import os\n",
    "os.chdir(\"D:\\\\UIT\\\\HK\\\\HK6\\\\IS403\\\\Đồ án\\\\Source code\")\n",
    "print(\"Thư mục làm việc hiện tại:\", os.getcwd())"
   ]
  },
  {
   "cell_type": "markdown",
   "id": "9a5b776e",
   "metadata": {},
   "source": [
    "# Import modules"
   ]
  },
  {
   "cell_type": "code",
   "execution_count": 2,
   "id": "f53a8a1b",
   "metadata": {},
   "outputs": [],
   "source": [
    "import torch"
   ]
  },
  {
   "cell_type": "code",
   "execution_count": 3,
   "id": "d98c317b",
   "metadata": {},
   "outputs": [],
   "source": [
    "from model_application.deep_learning.data import CustomDataset\n",
    "from model_application.deep_learning.execute import ModelExecutor"
   ]
  },
  {
   "cell_type": "markdown",
   "id": "fefbef4c",
   "metadata": {},
   "source": [
    "# Custom dataset"
   ]
  },
  {
   "cell_type": "code",
   "execution_count": 4,
   "id": "96be1fde",
   "metadata": {},
   "outputs": [],
   "source": [
    "LOOK_BACK = 30\n",
    "N_STEPS = 1"
   ]
  },
  {
   "cell_type": "markdown",
   "id": "e43a9b7f",
   "metadata": {},
   "source": [
    "## Vietcombank"
   ]
  },
  {
   "cell_type": "code",
   "execution_count": 5,
   "id": "83430bda",
   "metadata": {},
   "outputs": [],
   "source": [
    "vcb_scaler_path = \".\\\\model_application\\\\experiment\\\\saved_checkpoint\\\\deep_learning\\\\scaler\\\\vcb\""
   ]
  },
  {
   "cell_type": "code",
   "execution_count": 6,
   "id": "c1b20408",
   "metadata": {},
   "outputs": [
    {
     "data": {
      "text/plain": [
       "<model_application.deep_learning.data.custom_dataset.CustomDataset at 0x20a78fe6d90>"
      ]
     },
     "execution_count": 6,
     "metadata": {},
     "output_type": "execute_result"
    }
   ],
   "source": [
    "vcb_train = CustomDataset(\".\\\\dataset\\\\official_dataset\\\\vcb\\\\vcb_train.csv\", vcb_scaler_path, LOOK_BACK, N_STEPS)\n",
    "vcb_train"
   ]
  },
  {
   "cell_type": "code",
   "execution_count": 7,
   "id": "076704ef",
   "metadata": {},
   "outputs": [
    {
     "data": {
      "text/plain": [
       "<model_application.deep_learning.data.custom_dataset.CustomDataset at 0x20a4372a890>"
      ]
     },
     "execution_count": 7,
     "metadata": {},
     "output_type": "execute_result"
    }
   ],
   "source": [
    "vcb_validation = CustomDataset(\".\\\\dataset\\\\official_dataset\\\\vcb\\\\vcb_validation.csv\", vcb_scaler_path, LOOK_BACK, N_STEPS)\n",
    "vcb_validation"
   ]
  },
  {
   "cell_type": "code",
   "execution_count": 8,
   "id": "382daaad",
   "metadata": {},
   "outputs": [
    {
     "data": {
      "text/plain": [
       "<model_application.deep_learning.data.custom_dataset.CustomDataset at 0x20a4373c790>"
      ]
     },
     "execution_count": 8,
     "metadata": {},
     "output_type": "execute_result"
    }
   ],
   "source": [
    "vcb_test = CustomDataset(\".\\\\dataset\\\\official_dataset\\\\vcb\\\\vcb_test.csv\", vcb_scaler_path, LOOK_BACK, N_STEPS)\n",
    "vcb_test"
   ]
  },
  {
   "cell_type": "markdown",
   "id": "d24cd96e",
   "metadata": {},
   "source": [
    "## BIDV"
   ]
  },
  {
   "cell_type": "code",
   "execution_count": 9,
   "id": "99458cb3",
   "metadata": {},
   "outputs": [],
   "source": [
    "bid_scaler_path = \".\\\\model_application\\\\experiment\\\\saved_checkpoint\\\\deep_learning\\\\scaler\\\\bid\""
   ]
  },
  {
   "cell_type": "code",
   "execution_count": 10,
   "id": "952484d5",
   "metadata": {},
   "outputs": [
    {
     "data": {
      "text/plain": [
       "<model_application.deep_learning.data.custom_dataset.CustomDataset at 0x20a4373d7d0>"
      ]
     },
     "execution_count": 10,
     "metadata": {},
     "output_type": "execute_result"
    }
   ],
   "source": [
    "bid_train = CustomDataset(\".\\\\dataset\\\\official_dataset\\\\bid\\\\bid_train.csv\", bid_scaler_path, LOOK_BACK, N_STEPS)\n",
    "bid_train"
   ]
  },
  {
   "cell_type": "code",
   "execution_count": 11,
   "id": "b5889b5f",
   "metadata": {},
   "outputs": [
    {
     "data": {
      "text/plain": [
       "<model_application.deep_learning.data.custom_dataset.CustomDataset at 0x20a4374ab10>"
      ]
     },
     "execution_count": 11,
     "metadata": {},
     "output_type": "execute_result"
    }
   ],
   "source": [
    "bid_validation = CustomDataset(\".\\\\dataset\\\\official_dataset\\\\bid\\\\bid_validation.csv\", bid_scaler_path, LOOK_BACK, N_STEPS)\n",
    "bid_validation"
   ]
  },
  {
   "cell_type": "code",
   "execution_count": 12,
   "id": "778b4fbe",
   "metadata": {},
   "outputs": [
    {
     "data": {
      "text/plain": [
       "<model_application.deep_learning.data.custom_dataset.CustomDataset at 0x20a43749450>"
      ]
     },
     "execution_count": 12,
     "metadata": {},
     "output_type": "execute_result"
    }
   ],
   "source": [
    "bid_test = CustomDataset(\".\\\\dataset\\\\official_dataset\\\\bid\\\\bid_test.csv\", bid_scaler_path, LOOK_BACK, N_STEPS)\n",
    "bid_test"
   ]
  },
  {
   "cell_type": "markdown",
   "id": "117b5247",
   "metadata": {},
   "source": [
    "## Techcombank"
   ]
  },
  {
   "cell_type": "code",
   "execution_count": 13,
   "id": "2e369101",
   "metadata": {},
   "outputs": [],
   "source": [
    "tcb_scaler_path = \".\\\\model_application\\\\experiment\\\\saved_checkpoint\\\\deep_learning\\\\scaler\\\\tcb\""
   ]
  },
  {
   "cell_type": "code",
   "execution_count": 14,
   "id": "437235e7",
   "metadata": {},
   "outputs": [
    {
     "data": {
      "text/plain": [
       "<model_application.deep_learning.data.custom_dataset.CustomDataset at 0x20a43749a90>"
      ]
     },
     "execution_count": 14,
     "metadata": {},
     "output_type": "execute_result"
    }
   ],
   "source": [
    "tcb_train = CustomDataset(\".\\\\dataset\\\\official_dataset\\\\tcb\\\\tcb_train.csv\", tcb_scaler_path, LOOK_BACK, N_STEPS)\n",
    "tcb_train"
   ]
  },
  {
   "cell_type": "code",
   "execution_count": 15,
   "id": "70e328e6",
   "metadata": {},
   "outputs": [
    {
     "data": {
      "text/plain": [
       "<model_application.deep_learning.data.custom_dataset.CustomDataset at 0x20a4374d4d0>"
      ]
     },
     "execution_count": 15,
     "metadata": {},
     "output_type": "execute_result"
    }
   ],
   "source": [
    "tcb_validation = CustomDataset(\".\\\\dataset\\\\official_dataset\\\\tcb\\\\tcb_validation.csv\", tcb_scaler_path, LOOK_BACK, N_STEPS)\n",
    "tcb_validation"
   ]
  },
  {
   "cell_type": "code",
   "execution_count": 16,
   "id": "bdbe80e5",
   "metadata": {},
   "outputs": [
    {
     "data": {
      "text/plain": [
       "<model_application.deep_learning.data.custom_dataset.CustomDataset at 0x20a4374e610>"
      ]
     },
     "execution_count": 16,
     "metadata": {},
     "output_type": "execute_result"
    }
   ],
   "source": [
    "tcb_test = CustomDataset(\".\\\\dataset\\\\official_dataset\\\\tcb\\\\tcb_test.csv\", tcb_scaler_path, LOOK_BACK, N_STEPS)\n",
    "tcb_test"
   ]
  },
  {
   "cell_type": "markdown",
   "id": "64a48264",
   "metadata": {},
   "source": [
    "# Execute LSTM"
   ]
  },
  {
   "cell_type": "code",
   "execution_count": 17,
   "id": "825e236e",
   "metadata": {},
   "outputs": [],
   "source": [
    "DEVICE = \"cuda\" if torch.cuda.is_available() else \"cpu\"\n",
    "LEARNING_RATE = 5e-4\n",
    "MODEL_TYPE = \"LSTM\"\n",
    "INPUT_SIZE = 9\n",
    "HIDDEN_SIZE = 50\n",
    "NUM_LAYERS = 9\n",
    "DROPOUT_PROB = 0.3\n",
    "NUM_EPOCHS = 100\n",
    "USE_AMP = False\n",
    "BATCH_SIZE = 16"
   ]
  },
  {
   "cell_type": "markdown",
   "id": "dc58b8ae",
   "metadata": {},
   "source": [
    "## Vietcombank"
   ]
  },
  {
   "cell_type": "code",
   "execution_count": 18,
   "id": "5cb6f24d",
   "metadata": {},
   "outputs": [],
   "source": [
    "vcb_checkpoint_path = \".\\\\model_application\\\\experiment\\\\saved_checkpoint\\\\deep_learning\\\\lstm\\\\vcb\\\\one_step\""
   ]
  },
  {
   "cell_type": "code",
   "execution_count": 19,
   "id": "5dd83a6d",
   "metadata": {},
   "outputs": [
    {
     "name": "stdout",
     "output_type": "stream",
     "text": [
      "LSTM(\n",
      "  (lstm): LSTM(9, 50, num_layers=9, batch_first=True)\n",
      "  (dropout): Dropout(p=0.3, inplace=False)\n",
      "  (norm): LayerNorm((50,), eps=1e-05, elementwise_affine=True)\n",
      "  (linear): Linear(in_features=50, out_features=1, bias=True)\n",
      ")\n"
     ]
    }
   ],
   "source": [
    "vcb_lstm_executor = ModelExecutor(\n",
    "    device=DEVICE,\n",
    "    learning_rate=LEARNING_RATE,\n",
    "    checkpoint_path=vcb_checkpoint_path,\n",
    "    scaler_path=vcb_scaler_path,\n",
    "    model_type=MODEL_TYPE,\n",
    "    input_size=INPUT_SIZE,\n",
    "    hidden_size=HIDDEN_SIZE,\n",
    "    num_layers=NUM_LAYERS,\n",
    "    dropout_prob=DROPOUT_PROB,\n",
    "    n_steps=N_STEPS,\n",
    "    num_epochs=NUM_EPOCHS,\n",
    "    use_amp=USE_AMP,\n",
    "    batch_size=BATCH_SIZE\n",
    ")"
   ]
  },
  {
   "cell_type": "code",
   "execution_count": 20,
   "id": "8bbeaecf",
   "metadata": {},
   "outputs": [
    {
     "name": "stdout",
     "output_type": "stream",
     "text": [
      "Start training!\n"
     ]
    },
    {
     "name": "stderr",
     "output_type": "stream",
     "text": [
      "Epoch 1 - Training: 100%|██████████| 45/45 [00:00<00:00, 79.12it/s, loss=0.15189674927128685]\n",
      "Epoch 1 - Evaluation: 100%|██████████| 55/55 [00:00<00:00, 585.58it/s, loss=0.03466026701710441] \n"
     ]
    },
    {
     "name": "stdout",
     "output_type": "stream",
     "text": [
      "Evaluation scores: MSE - 0.03466026857495308, RMSE - 0.18617267906665802, MAE - 0.1847270131111145, MAPE - 0.20726937055587769\n"
     ]
    },
    {
     "name": "stderr",
     "output_type": "stream",
     "text": [
      "Epoch 2 - Training: 100%|██████████| 45/45 [00:00<00:00, 127.92it/s, loss=0.058632508830891716]\n",
      "Epoch 2 - Evaluation: 100%|██████████| 55/55 [00:00<00:00, 595.25it/s, loss=0.0023552973305248255]\n"
     ]
    },
    {
     "name": "stdout",
     "output_type": "stream",
     "text": [
      "Evaluation scores: MSE - 0.002355297328904271, RMSE - 0.04853140562772751, MAE - 0.04359113797545433, MAPE - 0.049677684903144836\n"
     ]
    },
    {
     "name": "stderr",
     "output_type": "stream",
     "text": [
      "Epoch 3 - Training: 100%|██████████| 45/45 [00:00<00:00, 122.29it/s, loss=0.027983628296189837]\n",
      "Epoch 3 - Evaluation: 100%|██████████| 55/55 [00:00<00:00, 610.06it/s, loss=0.023911747031591154]\n"
     ]
    },
    {
     "name": "stdout",
     "output_type": "stream",
     "text": [
      "Evaluation scores: MSE - 0.023911744356155396, RMSE - 0.15463422238826752, MAE - 0.15290215611457825, MAPE - 0.17279541492462158\n"
     ]
    },
    {
     "name": "stderr",
     "output_type": "stream",
     "text": [
      "Epoch 4 - Training: 100%|██████████| 45/45 [00:00<00:00, 122.32it/s, loss=0.021776864677667616]\n",
      "Epoch 4 - Evaluation: 100%|██████████| 55/55 [00:00<00:00, 540.79it/s, loss=0.00426808384990264]  \n"
     ]
    },
    {
     "name": "stdout",
     "output_type": "stream",
     "text": [
      "Evaluation scores: MSE - 0.0042680841870605946, RMSE - 0.06533057987689972, MAE - 0.061224762350320816, MAPE - 0.06958653032779694\n"
     ]
    },
    {
     "name": "stderr",
     "output_type": "stream",
     "text": [
      "Epoch 5 - Training: 100%|██████████| 45/45 [00:00<00:00, 117.06it/s, loss=0.019718503600193393]\n",
      "Epoch 5 - Evaluation: 100%|██████████| 55/55 [00:00<00:00, 609.43it/s, loss=0.004436307177593335] \n"
     ]
    },
    {
     "name": "stdout",
     "output_type": "stream",
     "text": [
      "Evaluation scores: MSE - 0.004436307121068239, RMSE - 0.06660560518503189, MAE - 0.06254102289676666, MAPE - 0.07107169181108475\n"
     ]
    },
    {
     "name": "stderr",
     "output_type": "stream",
     "text": [
      "Epoch 6 - Training: 100%|██████████| 45/45 [00:00<00:00, 124.17it/s, loss=0.014565516863432196]\n",
      "Epoch 6 - Evaluation: 100%|██████████| 55/55 [00:00<00:00, 659.78it/s, loss=0.0013110137885984261]\n"
     ]
    },
    {
     "name": "stdout",
     "output_type": "stream",
     "text": [
      "Evaluation scores: MSE - 0.0013110139407217503, RMSE - 0.03620792552828789, MAE - 0.03105396404862404, MAPE - 0.03544018417596817\n"
     ]
    },
    {
     "name": "stderr",
     "output_type": "stream",
     "text": [
      "Epoch 7 - Training: 100%|██████████| 45/45 [00:00<00:00, 127.58it/s, loss=0.012833256797037191]\n",
      "Epoch 7 - Evaluation: 100%|██████████| 55/55 [00:00<00:00, 659.95it/s, loss=0.00276969675465311]  \n"
     ]
    },
    {
     "name": "stdout",
     "output_type": "stream",
     "text": [
      "Evaluation scores: MSE - 0.002769696759060025, RMSE - 0.05262790992856026, MAE - 0.048057980835437775, MAPE - 0.05471711978316307\n"
     ]
    },
    {
     "name": "stderr",
     "output_type": "stream",
     "text": [
      "Epoch 8 - Training: 100%|██████████| 45/45 [00:00<00:00, 123.86it/s, loss=0.011190720978710387]\n",
      "Epoch 8 - Evaluation: 100%|██████████| 55/55 [00:00<00:00, 651.03it/s, loss=0.015635652107779275]\n"
     ]
    },
    {
     "name": "stdout",
     "output_type": "stream",
     "text": [
      "Evaluation scores: MSE - 0.015635650604963303, RMSE - 0.1250426024198532, MAE - 0.1230819895863533, MAPE - 0.13919208943843842\n"
     ]
    },
    {
     "name": "stderr",
     "output_type": "stream",
     "text": [
      "Epoch 9 - Training: 100%|██████████| 45/45 [00:00<00:00, 125.12it/s, loss=0.008976457371479936]\n",
      "Epoch 9 - Evaluation: 100%|██████████| 55/55 [00:00<00:00, 663.67it/s, loss=0.018442186814817515]\n"
     ]
    },
    {
     "name": "stdout",
     "output_type": "stream",
     "text": [
      "Evaluation scores: MSE - 0.01844218373298645, RMSE - 0.1358020007610321, MAE - 0.13403576612472534, MAPE - 0.15151305496692657\n"
     ]
    },
    {
     "name": "stderr",
     "output_type": "stream",
     "text": [
      "Epoch 10 - Training: 100%|██████████| 45/45 [00:00<00:00, 135.20it/s, loss=0.009794719672451416]\n",
      "Epoch 10 - Evaluation: 100%|██████████| 55/55 [00:00<00:00, 659.36it/s, loss=0.006749914533098821] \n"
     ]
    },
    {
     "name": "stdout",
     "output_type": "stream",
     "text": [
      "Evaluation scores: MSE - 0.006749914493411779, RMSE - 0.08215786516666412, MAE - 0.07923105359077454, MAPE - 0.08981575816869736\n"
     ]
    },
    {
     "name": "stderr",
     "output_type": "stream",
     "text": [
      "Epoch 11 - Training: 100%|██████████| 45/45 [00:00<00:00, 123.41it/s, loss=0.008946516188896365]\n",
      "Epoch 11 - Evaluation: 100%|██████████| 55/55 [00:00<00:00, 643.50it/s, loss=0.01450457355346192] \n"
     ]
    },
    {
     "name": "stdout",
     "output_type": "stream",
     "text": [
      "Evaluation scores: MSE - 0.014504573307931423, RMSE - 0.12043493241071701, MAE - 0.11829710006713867, MAPE - 0.13382568955421448\n"
     ]
    },
    {
     "name": "stderr",
     "output_type": "stream",
     "text": [
      "Epoch 12 - Training: 100%|██████████| 45/45 [00:00<00:00, 131.85it/s, loss=0.0075233726037873165]\n",
      "Epoch 12 - Evaluation: 100%|██████████| 55/55 [00:00<00:00, 611.77it/s, loss=0.005375182499913287] \n"
     ]
    },
    {
     "name": "stdout",
     "output_type": "stream",
     "text": [
      "Evaluation scores: MSE - 0.005375182256102562, RMSE - 0.07331563532352448, MAE - 0.06990955024957657, MAPE - 0.07933784276247025\n"
     ]
    },
    {
     "name": "stderr",
     "output_type": "stream",
     "text": [
      "Epoch 13 - Training: 100%|██████████| 45/45 [00:00<00:00, 137.63it/s, loss=0.008627344636867445]\n",
      "Epoch 13 - Evaluation: 100%|██████████| 55/55 [00:00<00:00, 609.50it/s, loss=0.01980850071730939] \n"
     ]
    },
    {
     "name": "stdout",
     "output_type": "stream",
     "text": [
      "Evaluation scores: MSE - 0.01980850100517273, RMSE - 0.14074267446994781, MAE - 0.1389342099428177, MAPE - 0.15705323219299316\n"
     ]
    },
    {
     "name": "stderr",
     "output_type": "stream",
     "text": [
      "Epoch 14 - Training: 100%|██████████| 45/45 [00:00<00:00, 116.67it/s, loss=0.008049894258793858]\n",
      "Epoch 14 - Evaluation: 100%|██████████| 55/55 [00:00<00:00, 560.16it/s, loss=0.014333062665537]   \n"
     ]
    },
    {
     "name": "stdout",
     "output_type": "stream",
     "text": [
      "Evaluation scores: MSE - 0.014333060011267662, RMSE - 0.11972075700759888, MAE - 0.1176748275756836, MAPE - 0.1331040859222412\n"
     ]
    },
    {
     "name": "stderr",
     "output_type": "stream",
     "text": [
      "Epoch 15 - Training: 100%|██████████| 45/45 [00:00<00:00, 126.31it/s, loss=0.008367194685464104]\n",
      "Epoch 15 - Evaluation: 100%|██████████| 55/55 [00:00<00:00, 614.01it/s, loss=0.005989771796951324] \n"
     ]
    },
    {
     "name": "stdout",
     "output_type": "stream",
     "text": [
      "Evaluation scores: MSE - 0.005989770870655775, RMSE - 0.07739360630512238, MAE - 0.0741288885474205, MAPE - 0.08409260958433151\n"
     ]
    },
    {
     "name": "stderr",
     "output_type": "stream",
     "text": [
      "Epoch 16 - Training: 100%|██████████| 45/45 [00:00<00:00, 133.70it/s, loss=0.007642877645169696] \n",
      "Epoch 16 - Evaluation: 100%|██████████| 55/55 [00:00<00:00, 607.71it/s, loss=0.005773401027677623] \n"
     ]
    },
    {
     "name": "stdout",
     "output_type": "stream",
     "text": [
      "Evaluation scores: MSE - 0.005773399956524372, RMSE - 0.07598289102315903, MAE - 0.07263478636741638, MAPE - 0.0824129730463028\n",
      "Finish training!\n",
      "Start testing!\n",
      "Loading checkpoint from  .\\model_application\\experiment\\saved_checkpoint\\deep_learning\\lstm\\vcb\\one_step\\best_model.pth\n"
     ]
    },
    {
     "name": "stderr",
     "output_type": "stream",
     "text": [
      "Epoch 6 - Evaluation: 100%|██████████| 50/50 [00:00<00:00, 607.22it/s, loss=0.004746812318880984] "
     ]
    },
    {
     "name": "stdout",
     "output_type": "stream",
     "text": [
      "Evaluation scores: MSE - 0.004746811930090189, RMSE - 0.06889711320400238, MAE - 0.05482333153486252, MAPE - 0.05656745284795761\n",
      "Thời gian tính toán (test dataset): 0.08 giây (0.00 phút)\n"
     ]
    },
    {
     "name": "stderr",
     "output_type": "stream",
     "text": [
      "\n"
     ]
    }
   ],
   "source": [
    "vcb_lstm_executor.run(vcb_train, vcb_validation, vcb_test)"
   ]
  },
  {
   "cell_type": "markdown",
   "id": "0484a9bd",
   "metadata": {},
   "source": [
    "## BIDV"
   ]
  },
  {
   "cell_type": "code",
   "execution_count": 21,
   "id": "34ea7463",
   "metadata": {},
   "outputs": [],
   "source": [
    "bid_checkpoint_path = \".\\\\model_application\\\\experiment\\\\saved_checkpoint\\\\deep_learning\\\\lstm\\\\bid\\\\one_step\""
   ]
  },
  {
   "cell_type": "code",
   "execution_count": 22,
   "id": "7c4dfe6d",
   "metadata": {},
   "outputs": [
    {
     "name": "stdout",
     "output_type": "stream",
     "text": [
      "LSTM(\n",
      "  (lstm): LSTM(9, 50, num_layers=9, batch_first=True)\n",
      "  (dropout): Dropout(p=0.3, inplace=False)\n",
      "  (norm): LayerNorm((50,), eps=1e-05, elementwise_affine=True)\n",
      "  (linear): Linear(in_features=50, out_features=1, bias=True)\n",
      ")\n"
     ]
    }
   ],
   "source": [
    "bid_lstm_executor = ModelExecutor(\n",
    "    device=DEVICE,\n",
    "    learning_rate = LEARNING_RATE,\n",
    "    checkpoint_path=bid_checkpoint_path,\n",
    "    scaler_path=bid_scaler_path,\n",
    "    model_type=MODEL_TYPE,\n",
    "    input_size=INPUT_SIZE,\n",
    "    hidden_size=HIDDEN_SIZE,\n",
    "    num_layers=NUM_LAYERS,\n",
    "    dropout_prob=DROPOUT_PROB,\n",
    "    n_steps=N_STEPS,\n",
    "    num_epochs=NUM_EPOCHS,\n",
    "    use_amp=USE_AMP,\n",
    "    batch_size=BATCH_SIZE\n",
    ")"
   ]
  },
  {
   "cell_type": "code",
   "execution_count": 23,
   "id": "083855c0",
   "metadata": {},
   "outputs": [
    {
     "name": "stdout",
     "output_type": "stream",
     "text": [
      "Start training!\n"
     ]
    },
    {
     "name": "stderr",
     "output_type": "stream",
     "text": [
      "Epoch 1 - Training: 100%|██████████| 42/42 [00:00<00:00, 121.59it/s, loss=0.16101325196879251]\n",
      "Epoch 1 - Evaluation: 100%|██████████| 50/50 [00:00<00:00, 599.60it/s, loss=0.04809818401932717] \n"
     ]
    },
    {
     "name": "stdout",
     "output_type": "stream",
     "text": [
      "Evaluation scores: MSE - 0.048098184168338776, RMSE - 0.21931298077106476, MAE - 0.2155771255493164, MAPE - 0.29089590907096863\n"
     ]
    },
    {
     "name": "stderr",
     "output_type": "stream",
     "text": [
      "Epoch 2 - Training: 100%|██████████| 42/42 [00:00<00:00, 122.64it/s, loss=0.09459841144936425]\n",
      "Epoch 2 - Evaluation: 100%|██████████| 50/50 [00:00<00:00, 619.09it/s, loss=0.006885196373521296] \n"
     ]
    },
    {
     "name": "stdout",
     "output_type": "stream",
     "text": [
      "Evaluation scores: MSE - 0.006885196547955275, RMSE - 0.08297708630561829, MAE - 0.07276887446641922, MAPE - 0.09628402441740036\n"
     ]
    },
    {
     "name": "stderr",
     "output_type": "stream",
     "text": [
      "Epoch 3 - Training: 100%|██████████| 42/42 [00:00<00:00, 127.01it/s, loss=0.04967736905174596] \n",
      "Epoch 3 - Evaluation: 100%|██████████| 50/50 [00:00<00:00, 599.43it/s, loss=0.0018805119565781325]\n"
     ]
    },
    {
     "name": "stdout",
     "output_type": "stream",
     "text": [
      "Evaluation scores: MSE - 0.0018805117579177022, RMSE - 0.04336486756801605, MAE - 0.03231310471892357, MAPE - 0.042902808636426926\n"
     ]
    },
    {
     "name": "stderr",
     "output_type": "stream",
     "text": [
      "Epoch 4 - Training: 100%|██████████| 42/42 [00:00<00:00, 134.81it/s, loss=0.02784624385337035] \n",
      "Epoch 4 - Evaluation: 100%|██████████| 50/50 [00:00<00:00, 626.97it/s, loss=0.05919642286375165] \n"
     ]
    },
    {
     "name": "stdout",
     "output_type": "stream",
     "text": [
      "Evaluation scores: MSE - 0.05919642001390457, RMSE - 0.24330314993858337, MAE - 0.24006739258766174, MAPE - 0.3300938904285431\n"
     ]
    },
    {
     "name": "stderr",
     "output_type": "stream",
     "text": [
      "Epoch 5 - Training: 100%|██████████| 42/42 [00:00<00:00, 123.78it/s, loss=0.016673951941941465]\n",
      "Epoch 5 - Evaluation: 100%|██████████| 50/50 [00:00<00:00, 514.16it/s, loss=0.043783264458179476]\n"
     ]
    },
    {
     "name": "stdout",
     "output_type": "stream",
     "text": [
      "Evaluation scores: MSE - 0.043783269822597504, RMSE - 0.2092445194721222, MAE - 0.2055838406085968, MAPE - 0.2830134332180023\n"
     ]
    },
    {
     "name": "stderr",
     "output_type": "stream",
     "text": [
      "Epoch 6 - Training: 100%|██████████| 42/42 [00:00<00:00, 118.37it/s, loss=0.013425149755286319]\n",
      "Epoch 6 - Evaluation: 100%|██████████| 50/50 [00:00<00:00, 544.76it/s, loss=0.04710821017622948] \n"
     ]
    },
    {
     "name": "stdout",
     "output_type": "stream",
     "text": [
      "Evaluation scores: MSE - 0.04710821062326431, RMSE - 0.21704426407814026, MAE - 0.21381530165672302, MAPE - 0.2939867675304413\n"
     ]
    },
    {
     "name": "stderr",
     "output_type": "stream",
     "text": [
      "Epoch 7 - Training: 100%|██████████| 42/42 [00:00<00:00, 128.86it/s, loss=0.011117447733080812]\n",
      "Epoch 7 - Evaluation: 100%|██████████| 50/50 [00:00<00:00, 691.09it/s, loss=0.02545553557574749] \n"
     ]
    },
    {
     "name": "stdout",
     "output_type": "stream",
     "text": [
      "Evaluation scores: MSE - 0.0254555344581604, RMSE - 0.15954791009426117, MAE - 0.15499500930309296, MAPE - 0.21378116309642792\n"
     ]
    },
    {
     "name": "stderr",
     "output_type": "stream",
     "text": [
      "Epoch 8 - Training: 100%|██████████| 42/42 [00:00<00:00, 130.76it/s, loss=0.012524009637889407]\n",
      "Epoch 8 - Evaluation: 100%|██████████| 50/50 [00:00<00:00, 634.92it/s, loss=0.06065863033756614] \n"
     ]
    },
    {
     "name": "stdout",
     "output_type": "stream",
     "text": [
      "Evaluation scores: MSE - 0.06065862998366356, RMSE - 0.24628973007202148, MAE - 0.24311339855194092, MAPE - 0.3342362940311432\n"
     ]
    },
    {
     "name": "stderr",
     "output_type": "stream",
     "text": [
      "Epoch 9 - Training: 100%|██████████| 42/42 [00:00<00:00, 139.91it/s, loss=0.012427398813001457]\n",
      "Epoch 9 - Evaluation: 100%|██████████| 50/50 [00:00<00:00, 658.26it/s, loss=0.031772865783423185]\n"
     ]
    },
    {
     "name": "stdout",
     "output_type": "stream",
     "text": [
      "Evaluation scores: MSE - 0.03177286684513092, RMSE - 0.17824944853782654, MAE - 0.1740230768918991, MAPE - 0.23997966945171356\n"
     ]
    },
    {
     "name": "stderr",
     "output_type": "stream",
     "text": [
      "Epoch 10 - Training: 100%|██████████| 42/42 [00:00<00:00, 137.41it/s, loss=0.011334142259632548]\n",
      "Epoch 10 - Evaluation: 100%|██████████| 50/50 [00:00<00:00, 655.66it/s, loss=0.037538583390414715]\n"
     ]
    },
    {
     "name": "stdout",
     "output_type": "stream",
     "text": [
      "Evaluation scores: MSE - 0.03753858432173729, RMSE - 0.19374877214431763, MAE - 0.18983832001686096, MAPE - 0.26156046986579895\n"
     ]
    },
    {
     "name": "stderr",
     "output_type": "stream",
     "text": [
      "Epoch 11 - Training: 100%|██████████| 42/42 [00:00<00:00, 136.65it/s, loss=0.009253668349369295]\n",
      "Epoch 11 - Evaluation: 100%|██████████| 50/50 [00:00<00:00, 663.42it/s, loss=0.04139056662097573] \n"
     ]
    },
    {
     "name": "stdout",
     "output_type": "stream",
     "text": [
      "Evaluation scores: MSE - 0.041390568017959595, RMSE - 0.20344671607017517, MAE - 0.19991254806518555, MAPE - 0.2751712501049042\n"
     ]
    },
    {
     "name": "stderr",
     "output_type": "stream",
     "text": [
      "Epoch 12 - Training: 100%|██████████| 42/42 [00:00<00:00, 134.23it/s, loss=0.00893311454204931] \n",
      "Epoch 12 - Evaluation: 100%|██████████| 50/50 [00:00<00:00, 651.84it/s, loss=0.04814925294369459] \n"
     ]
    },
    {
     "name": "stdout",
     "output_type": "stream",
     "text": [
      "Evaluation scores: MSE - 0.04814924672245979, RMSE - 0.2194293588399887, MAE - 0.21623747050762177, MAPE - 0.29712021350860596\n"
     ]
    },
    {
     "name": "stderr",
     "output_type": "stream",
     "text": [
      "Epoch 13 - Training: 100%|██████████| 42/42 [00:00<00:00, 135.16it/s, loss=0.009324222958336273]\n",
      "Epoch 13 - Evaluation: 100%|██████████| 50/50 [00:00<00:00, 505.15it/s, loss=0.04462382491677999] \n"
     ]
    },
    {
     "name": "stdout",
     "output_type": "stream",
     "text": [
      "Evaluation scores: MSE - 0.04462382197380066, RMSE - 0.21124351024627686, MAE - 0.20783396065235138, MAPE - 0.285998672246933\n",
      "Finish training!\n",
      "Start testing!\n",
      "Loading checkpoint from  .\\model_application\\experiment\\saved_checkpoint\\deep_learning\\lstm\\bid\\one_step\\best_model.pth\n"
     ]
    },
    {
     "name": "stderr",
     "output_type": "stream",
     "text": [
      "Epoch 3 - Evaluation: 100%|██████████| 45/45 [00:00<00:00, 360.26it/s, loss=0.007617795935625004] "
     ]
    },
    {
     "name": "stdout",
     "output_type": "stream",
     "text": [
      "Evaluation scores: MSE - 0.0076177967712283134, RMSE - 0.08727999031543732, MAE - 0.08265601843595505, MAPE - 0.10189209133386612\n",
      "Thời gian tính toán (test dataset): 0.13 giây (0.00 phút)\n"
     ]
    },
    {
     "name": "stderr",
     "output_type": "stream",
     "text": [
      "\n"
     ]
    }
   ],
   "source": [
    "bid_lstm_executor.run(bid_train, bid_validation, bid_test)"
   ]
  },
  {
   "cell_type": "markdown",
   "id": "6e5483fb",
   "metadata": {},
   "source": [
    "## Techcombank"
   ]
  },
  {
   "cell_type": "code",
   "execution_count": 24,
   "id": "b3003017",
   "metadata": {},
   "outputs": [],
   "source": [
    "tcb_checkpoint_path = \".\\\\model_application\\\\experiment\\\\saved_checkpoint\\\\deep_learning\\\\lstm\\\\tcb\\\\one_step\""
   ]
  },
  {
   "cell_type": "code",
   "execution_count": 25,
   "id": "4695e488",
   "metadata": {},
   "outputs": [
    {
     "name": "stdout",
     "output_type": "stream",
     "text": [
      "LSTM(\n",
      "  (lstm): LSTM(9, 50, num_layers=9, batch_first=True)\n",
      "  (dropout): Dropout(p=0.3, inplace=False)\n",
      "  (norm): LayerNorm((50,), eps=1e-05, elementwise_affine=True)\n",
      "  (linear): Linear(in_features=50, out_features=1, bias=True)\n",
      ")\n"
     ]
    }
   ],
   "source": [
    "tcb_lstm_executor = ModelExecutor(\n",
    "    device=DEVICE,\n",
    "    learning_rate = LEARNING_RATE,\n",
    "    checkpoint_path=tcb_checkpoint_path,\n",
    "    scaler_path=tcb_scaler_path,\n",
    "    model_type=MODEL_TYPE,\n",
    "    input_size=INPUT_SIZE,\n",
    "    hidden_size=HIDDEN_SIZE,\n",
    "    num_layers=NUM_LAYERS,\n",
    "    dropout_prob=DROPOUT_PROB,\n",
    "    n_steps=N_STEPS,\n",
    "    num_epochs=NUM_EPOCHS,\n",
    "    use_amp=USE_AMP,\n",
    "    batch_size=BATCH_SIZE\n",
    ")"
   ]
  },
  {
   "cell_type": "code",
   "execution_count": 26,
   "id": "a365cdad",
   "metadata": {},
   "outputs": [
    {
     "name": "stdout",
     "output_type": "stream",
     "text": [
      "Start training!\n"
     ]
    },
    {
     "name": "stderr",
     "output_type": "stream",
     "text": [
      "Epoch 1 - Training: 100%|██████████| 36/36 [00:00<00:00, 134.39it/s, loss=0.2891268649448951] \n",
      "Epoch 1 - Evaluation: 100%|██████████| 37/37 [00:00<00:00, 629.45it/s, loss=0.11368178072813395]\n"
     ]
    },
    {
     "name": "stdout",
     "output_type": "stream",
     "text": [
      "Evaluation scores: MSE - 0.11368177831172943, RMSE - 0.33716729283332825, MAE - 0.33545419573783875, MAPE - 0.3922621011734009\n"
     ]
    },
    {
     "name": "stderr",
     "output_type": "stream",
     "text": [
      "Epoch 2 - Training: 100%|██████████| 36/36 [00:00<00:00, 135.33it/s, loss=0.13418504243923557]\n",
      "Epoch 2 - Evaluation: 100%|██████████| 37/37 [00:00<00:00, 482.78it/s, loss=0.0848961390957639] \n"
     ]
    },
    {
     "name": "stdout",
     "output_type": "stream",
     "text": [
      "Evaluation scores: MSE - 0.08489613980054855, RMSE - 0.29136940836906433, MAE - 0.28938472270965576, MAPE - 0.33816665410995483\n"
     ]
    },
    {
     "name": "stderr",
     "output_type": "stream",
     "text": [
      "Epoch 3 - Training: 100%|██████████| 36/36 [00:00<00:00, 134.31it/s, loss=0.10633895432369576]\n",
      "Epoch 3 - Evaluation: 100%|██████████| 37/37 [00:00<00:00, 597.80it/s, loss=0.0703203339834471]  \n"
     ]
    },
    {
     "name": "stdout",
     "output_type": "stream",
     "text": [
      "Evaluation scores: MSE - 0.07032033056020737, RMSE - 0.2651798129081726, MAE - 0.2629980444908142, MAPE - 0.3071834444999695\n"
     ]
    },
    {
     "name": "stderr",
     "output_type": "stream",
     "text": [
      "Epoch 4 - Training: 100%|██████████| 36/36 [00:00<00:00, 146.96it/s, loss=0.054684150860541396]\n",
      "Epoch 4 - Evaluation: 100%|██████████| 37/37 [00:00<00:00, 607.63it/s, loss=0.06130020692944527] \n"
     ]
    },
    {
     "name": "stdout",
     "output_type": "stream",
     "text": [
      "Evaluation scores: MSE - 0.06130021810531616, RMSE - 0.24758881330490112, MAE - 0.24525108933448792, MAPE - 0.2896064519882202\n"
     ]
    },
    {
     "name": "stderr",
     "output_type": "stream",
     "text": [
      "Epoch 5 - Training: 100%|██████████| 36/36 [00:00<00:00, 150.03it/s, loss=0.03203869106558462] \n",
      "Epoch 5 - Evaluation: 100%|██████████| 37/37 [00:00<00:00, 716.75it/s, loss=0.01027857039337726]  \n"
     ]
    },
    {
     "name": "stdout",
     "output_type": "stream",
     "text": [
      "Evaluation scores: MSE - 0.010278570465743542, RMSE - 0.1013832837343216, MAE - 0.0955323874950409, MAPE - 0.1138056144118309\n"
     ]
    },
    {
     "name": "stderr",
     "output_type": "stream",
     "text": [
      "Epoch 6 - Training: 100%|██████████| 36/36 [00:00<00:00, 149.58it/s, loss=0.025085557924790516]\n",
      "Epoch 6 - Evaluation: 100%|██████████| 37/37 [00:00<00:00, 626.45it/s, loss=0.008608962627870307]\n"
     ]
    },
    {
     "name": "stdout",
     "output_type": "stream",
     "text": [
      "Evaluation scores: MSE - 0.008608962409198284, RMSE - 0.09278449416160583, MAE - 0.08635036647319794, MAPE - 0.10302435606718063\n"
     ]
    },
    {
     "name": "stderr",
     "output_type": "stream",
     "text": [
      "Epoch 7 - Training: 100%|██████████| 36/36 [00:00<00:00, 146.39it/s, loss=0.02152241228355302] \n",
      "Epoch 7 - Evaluation: 100%|██████████| 37/37 [00:00<00:00, 747.72it/s, loss=0.009449636415779792] \n"
     ]
    },
    {
     "name": "stdout",
     "output_type": "stream",
     "text": [
      "Evaluation scores: MSE - 0.00944963563233614, RMSE - 0.09720923751592636, MAE - 0.09108804911375046, MAPE - 0.10858738422393799\n"
     ]
    },
    {
     "name": "stderr",
     "output_type": "stream",
     "text": [
      "Epoch 8 - Training: 100%|██████████| 36/36 [00:00<00:00, 108.30it/s, loss=0.017256328008241124]\n",
      "Epoch 8 - Evaluation: 100%|██████████| 37/37 [00:00<00:00, 693.77it/s, loss=0.008145111910306622]\n"
     ]
    },
    {
     "name": "stdout",
     "output_type": "stream",
     "text": [
      "Evaluation scores: MSE - 0.008145112544298172, RMSE - 0.09025027602910995, MAE - 0.08361642062664032, MAPE - 0.09981472790241241\n"
     ]
    },
    {
     "name": "stderr",
     "output_type": "stream",
     "text": [
      "Epoch 9 - Training: 100%|██████████| 36/36 [00:00<00:00, 126.22it/s, loss=0.01449361048192562] \n",
      "Epoch 9 - Evaluation: 100%|██████████| 37/37 [00:00<00:00, 524.33it/s, loss=0.017349122356422043]\n"
     ]
    },
    {
     "name": "stdout",
     "output_type": "stream",
     "text": [
      "Evaluation scores: MSE - 0.0173491220921278, RMSE - 0.1317160725593567, MAE - 0.12724675238132477, MAPE - 0.15104854106903076\n"
     ]
    },
    {
     "name": "stderr",
     "output_type": "stream",
     "text": [
      "Epoch 10 - Training: 100%|██████████| 36/36 [00:00<00:00, 125.96it/s, loss=0.013282015512231737]\n",
      "Epoch 10 - Evaluation: 100%|██████████| 37/37 [00:00<00:00, 591.82it/s, loss=0.012010858048105965]\n"
     ]
    },
    {
     "name": "stdout",
     "output_type": "stream",
     "text": [
      "Evaluation scores: MSE - 0.012010857462882996, RMSE - 0.10959405452013016, MAE - 0.10419560968875885, MAPE - 0.12397944182157516\n"
     ]
    },
    {
     "name": "stderr",
     "output_type": "stream",
     "text": [
      "Epoch 11 - Training: 100%|██████████| 36/36 [00:00<00:00, 126.63it/s, loss=0.013328320812433958]\n",
      "Epoch 11 - Evaluation: 100%|██████████| 37/37 [00:00<00:00, 586.87it/s, loss=0.03861245452552228] \n"
     ]
    },
    {
     "name": "stdout",
     "output_type": "stream",
     "text": [
      "Evaluation scores: MSE - 0.038612451404333115, RMSE - 0.1965005099773407, MAE - 0.19354331493377686, MAPE - 0.22889173030853271\n"
     ]
    },
    {
     "name": "stderr",
     "output_type": "stream",
     "text": [
      "Epoch 12 - Training: 100%|██████████| 36/36 [00:00<00:00, 133.14it/s, loss=0.014348471870309569]\n",
      "Epoch 12 - Evaluation: 100%|██████████| 37/37 [00:00<00:00, 620.27it/s, loss=0.004963403581486263] \n"
     ]
    },
    {
     "name": "stdout",
     "output_type": "stream",
     "text": [
      "Evaluation scores: MSE - 0.0049634031020104885, RMSE - 0.07045142352581024, MAE - 0.06172044202685356, MAPE - 0.0741046890616417\n"
     ]
    },
    {
     "name": "stderr",
     "output_type": "stream",
     "text": [
      "Epoch 13 - Training: 100%|██████████| 36/36 [00:00<00:00, 135.42it/s, loss=0.009288848183738688]\n",
      "Epoch 13 - Evaluation: 100%|██████████| 37/37 [00:00<00:00, 631.56it/s, loss=0.02038294940280753] \n"
     ]
    },
    {
     "name": "stdout",
     "output_type": "stream",
     "text": [
      "Evaluation scores: MSE - 0.020382948219776154, RMSE - 0.14276885986328125, MAE - 0.1386716663837433, MAPE - 0.16446080803871155\n"
     ]
    },
    {
     "name": "stderr",
     "output_type": "stream",
     "text": [
      "Epoch 14 - Training: 100%|██████████| 36/36 [00:00<00:00, 138.92it/s, loss=0.00889608289839493] \n",
      "Epoch 14 - Evaluation: 100%|██████████| 37/37 [00:00<00:00, 665.52it/s, loss=0.011693671754737562]\n"
     ]
    },
    {
     "name": "stdout",
     "output_type": "stream",
     "text": [
      "Evaluation scores: MSE - 0.011693671345710754, RMSE - 0.10813727974891663, MAE - 0.10266491770744324, MAPE - 0.1221817135810852\n"
     ]
    },
    {
     "name": "stderr",
     "output_type": "stream",
     "text": [
      "Epoch 15 - Training: 100%|██████████| 36/36 [00:00<00:00, 138.11it/s, loss=0.008762277675689094]\n",
      "Epoch 15 - Evaluation: 100%|██████████| 37/37 [00:00<00:00, 643.12it/s, loss=0.01306728959536633] \n"
     ]
    },
    {
     "name": "stdout",
     "output_type": "stream",
     "text": [
      "Evaluation scores: MSE - 0.013067289255559444, RMSE - 0.11431224644184113, MAE - 0.10915083438158035, MAPE - 0.12979738414287567\n"
     ]
    },
    {
     "name": "stderr",
     "output_type": "stream",
     "text": [
      "Epoch 16 - Training: 100%|██████████| 36/36 [00:00<00:00, 136.46it/s, loss=0.008434141895526813]\n",
      "Epoch 16 - Evaluation: 100%|██████████| 37/37 [00:00<00:00, 645.79it/s, loss=0.02123481678348538] \n"
     ]
    },
    {
     "name": "stdout",
     "output_type": "stream",
     "text": [
      "Evaluation scores: MSE - 0.021234815940260887, RMSE - 0.1457217037677765, MAE - 0.1417098343372345, MAPE - 0.16802825033664703\n"
     ]
    },
    {
     "name": "stderr",
     "output_type": "stream",
     "text": [
      "Epoch 17 - Training: 100%|██████████| 36/36 [00:00<00:00, 125.58it/s, loss=0.008534211206198152]\n",
      "Epoch 17 - Evaluation: 100%|██████████| 37/37 [00:00<00:00, 634.08it/s, loss=0.015382729370046306]\n"
     ]
    },
    {
     "name": "stdout",
     "output_type": "stream",
     "text": [
      "Evaluation scores: MSE - 0.015382727608084679, RMSE - 0.12402712553739548, MAE - 0.11928670108318329, MAPE - 0.14169903099536896\n"
     ]
    },
    {
     "name": "stderr",
     "output_type": "stream",
     "text": [
      "Epoch 18 - Training: 100%|██████████| 36/36 [00:00<00:00, 138.40it/s, loss=0.007197386358812865] \n",
      "Epoch 18 - Evaluation: 100%|██████████| 37/37 [00:00<00:00, 642.87it/s, loss=0.017335222341825027]\n"
     ]
    },
    {
     "name": "stdout",
     "output_type": "stream",
     "text": [
      "Evaluation scores: MSE - 0.01733522117137909, RMSE - 0.13166329264640808, MAE - 0.12721067667007446, MAPE - 0.1510029137134552\n"
     ]
    },
    {
     "name": "stderr",
     "output_type": "stream",
     "text": [
      "Epoch 19 - Training: 100%|██████████| 36/36 [00:00<00:00, 131.38it/s, loss=0.006752368984355901] \n",
      "Epoch 19 - Evaluation: 100%|██████████| 37/37 [00:00<00:00, 638.75it/s, loss=0.016980877976763894]\n"
     ]
    },
    {
     "name": "stdout",
     "output_type": "stream",
     "text": [
      "Evaluation scores: MSE - 0.01698087900876999, RMSE - 0.13031069934368134, MAE - 0.12580673396587372, MAPE - 0.149354949593544\n"
     ]
    },
    {
     "name": "stderr",
     "output_type": "stream",
     "text": [
      "Epoch 20 - Training: 100%|██████████| 36/36 [00:00<00:00, 144.52it/s, loss=0.006732252905041807] \n",
      "Epoch 20 - Evaluation: 100%|██████████| 37/37 [00:00<00:00, 576.01it/s, loss=0.018218116419440187]\n"
     ]
    },
    {
     "name": "stdout",
     "output_type": "stream",
     "text": [
      "Evaluation scores: MSE - 0.018218116834759712, RMSE - 0.13497450947761536, MAE - 0.1306343525648117, MAPE - 0.15502305328845978\n"
     ]
    },
    {
     "name": "stderr",
     "output_type": "stream",
     "text": [
      "Epoch 21 - Training: 100%|██████████| 36/36 [00:00<00:00, 125.52it/s, loss=0.0063449053559452295]\n",
      "Epoch 21 - Evaluation: 100%|██████████| 37/37 [00:00<00:00, 646.69it/s, loss=0.015981652144644712]\n"
     ]
    },
    {
     "name": "stdout",
     "output_type": "stream",
     "text": [
      "Evaluation scores: MSE - 0.015981649979948997, RMSE - 0.12641854584217072, MAE - 0.12177137285470963, MAPE - 0.14461654424667358\n"
     ]
    },
    {
     "name": "stderr",
     "output_type": "stream",
     "text": [
      "Epoch 22 - Training: 100%|██████████| 36/36 [00:00<00:00, 133.59it/s, loss=0.006739355151593272] \n",
      "Epoch 22 - Evaluation: 100%|██████████| 37/37 [00:00<00:00, 669.31it/s, loss=0.018889611536586606]\n"
     ]
    },
    {
     "name": "stdout",
     "output_type": "stream",
     "text": [
      "Evaluation scores: MSE - 0.018889611586928368, RMSE - 0.13743948936462402, MAE - 0.1331806182861328, MAPE - 0.1580127775669098\n",
      "Finish training!\n",
      "Start testing!\n",
      "Loading checkpoint from  .\\model_application\\experiment\\saved_checkpoint\\deep_learning\\lstm\\tcb\\one_step\\best_model.pth\n"
     ]
    },
    {
     "name": "stderr",
     "output_type": "stream",
     "text": [
      "Epoch 12 - Evaluation: 100%|██████████| 32/32 [00:00<00:00, 612.66it/s, loss=0.019203296267463088] "
     ]
    },
    {
     "name": "stdout",
     "output_type": "stream",
     "text": [
      "Evaluation scores: MSE - 0.019203295931220055, RMSE - 0.1385759562253952, MAE - 0.12533274292945862, MAPE - 0.11758419126272202\n",
      "Thời gian tính toán (test dataset): 0.06 giây (0.00 phút)\n"
     ]
    },
    {
     "name": "stderr",
     "output_type": "stream",
     "text": [
      "\n"
     ]
    }
   ],
   "source": [
    "tcb_lstm_executor.run(tcb_train, tcb_validation, tcb_test)"
   ]
  },
  {
   "cell_type": "markdown",
   "id": "38556615",
   "metadata": {},
   "source": [
    "# Predict"
   ]
  },
  {
   "cell_type": "code",
   "execution_count": null,
   "id": "e75cadb2",
   "metadata": {},
   "outputs": [],
   "source": []
  }
 ],
 "metadata": {
  "kernelspec": {
   "display_name": ".venv",
   "language": "python",
   "name": "python3"
  },
  "language_info": {
   "codemirror_mode": {
    "name": "ipython",
    "version": 3
   },
   "file_extension": ".py",
   "mimetype": "text/x-python",
   "name": "python",
   "nbconvert_exporter": "python",
   "pygments_lexer": "ipython3",
   "version": "3.11.9"
  }
 },
 "nbformat": 4,
 "nbformat_minor": 5
}
