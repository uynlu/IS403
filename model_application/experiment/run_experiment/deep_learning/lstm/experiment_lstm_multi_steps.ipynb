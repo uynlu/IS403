{
 "cells": [
  {
   "cell_type": "code",
   "execution_count": 1,
   "id": "61a416b5",
   "metadata": {},
   "outputs": [
    {
     "name": "stdout",
     "output_type": "stream",
     "text": [
      "Thư mục làm việc hiện tại: D:\\UIT\\HK\\HK6\\IS403\\Đồ án\\Source code\n"
     ]
    }
   ],
   "source": [
    "import os\n",
    "os.chdir(\"D:\\\\UIT\\\\HK\\\\HK6\\\\IS403\\\\Đồ án\\\\Source code\")\n",
    "print(\"Thư mục làm việc hiện tại:\", os.getcwd())"
   ]
  },
  {
   "cell_type": "markdown",
   "id": "9a5b776e",
   "metadata": {},
   "source": [
    "# Import modules"
   ]
  },
  {
   "cell_type": "code",
   "execution_count": 2,
   "id": "f53a8a1b",
   "metadata": {},
   "outputs": [],
   "source": [
    "import torch"
   ]
  },
  {
   "cell_type": "code",
   "execution_count": 3,
   "id": "d98c317b",
   "metadata": {},
   "outputs": [],
   "source": [
    "from model_application.deep_learning.data import CustomDataset\n",
    "from model_application.deep_learning.execute import ModelExecutor"
   ]
  },
  {
   "cell_type": "markdown",
   "id": "fefbef4c",
   "metadata": {},
   "source": [
    "# Custom dataset"
   ]
  },
  {
   "cell_type": "code",
   "execution_count": 4,
   "id": "96be1fde",
   "metadata": {},
   "outputs": [],
   "source": [
    "LOOK_BACK = 30\n",
    "N_STEPS = 4"
   ]
  },
  {
   "cell_type": "markdown",
   "id": "e43a9b7f",
   "metadata": {},
   "source": [
    "## Vietcombank"
   ]
  },
  {
   "cell_type": "code",
   "execution_count": 5,
   "id": "83430bda",
   "metadata": {},
   "outputs": [],
   "source": [
    "vcb_scaler_path = \".\\\\model_application\\\\experiment\\\\saved_checkpoint\\\\deep_learning\\\\scaler\\\\vcb\""
   ]
  },
  {
   "cell_type": "code",
   "execution_count": 6,
   "id": "c1b20408",
   "metadata": {},
   "outputs": [
    {
     "data": {
      "text/plain": [
       "<model_application.deep_learning.data.custom_dataset.CustomDataset at 0x1d2a1cd2650>"
      ]
     },
     "execution_count": 6,
     "metadata": {},
     "output_type": "execute_result"
    }
   ],
   "source": [
    "vcb_train = CustomDataset(\".\\\\dataset\\\\official_dataset\\\\vcb\\\\vcb_train.csv\", vcb_scaler_path, LOOK_BACK, N_STEPS)\n",
    "vcb_train"
   ]
  },
  {
   "cell_type": "code",
   "execution_count": 7,
   "id": "076704ef",
   "metadata": {},
   "outputs": [
    {
     "data": {
      "text/plain": [
       "<model_application.deep_learning.data.custom_dataset.CustomDataset at 0x1d2a1e7a590>"
      ]
     },
     "execution_count": 7,
     "metadata": {},
     "output_type": "execute_result"
    }
   ],
   "source": [
    "vcb_validation = CustomDataset(\".\\\\dataset\\\\official_dataset\\\\vcb\\\\vcb_validation.csv\", vcb_scaler_path, LOOK_BACK, N_STEPS)\n",
    "vcb_validation"
   ]
  },
  {
   "cell_type": "code",
   "execution_count": 8,
   "id": "382daaad",
   "metadata": {},
   "outputs": [
    {
     "data": {
      "text/plain": [
       "<model_application.deep_learning.data.custom_dataset.CustomDataset at 0x1d2a1e79f50>"
      ]
     },
     "execution_count": 8,
     "metadata": {},
     "output_type": "execute_result"
    }
   ],
   "source": [
    "vcb_test = CustomDataset(\".\\\\dataset\\\\official_dataset\\\\vcb\\\\vcb_test.csv\", vcb_scaler_path, LOOK_BACK, N_STEPS)\n",
    "vcb_test"
   ]
  },
  {
   "cell_type": "markdown",
   "id": "d24cd96e",
   "metadata": {},
   "source": [
    "## BIDV"
   ]
  },
  {
   "cell_type": "code",
   "execution_count": 9,
   "id": "99458cb3",
   "metadata": {},
   "outputs": [],
   "source": [
    "bid_scaler_path = \".\\\\model_application\\\\experiment\\\\saved_checkpoint\\\\deep_learning\\\\scaler\\\\bid\""
   ]
  },
  {
   "cell_type": "code",
   "execution_count": 10,
   "id": "952484d5",
   "metadata": {},
   "outputs": [
    {
     "data": {
      "text/plain": [
       "<model_application.deep_learning.data.custom_dataset.CustomDataset at 0x1d281428a10>"
      ]
     },
     "execution_count": 10,
     "metadata": {},
     "output_type": "execute_result"
    }
   ],
   "source": [
    "bid_train = CustomDataset(\".\\\\dataset\\\\official_dataset\\\\bid\\\\bid_train.csv\", bid_scaler_path, LOOK_BACK, N_STEPS)\n",
    "bid_train"
   ]
  },
  {
   "cell_type": "code",
   "execution_count": 11,
   "id": "b5889b5f",
   "metadata": {},
   "outputs": [
    {
     "data": {
      "text/plain": [
       "<model_application.deep_learning.data.custom_dataset.CustomDataset at 0x1d2a1e96610>"
      ]
     },
     "execution_count": 11,
     "metadata": {},
     "output_type": "execute_result"
    }
   ],
   "source": [
    "bid_validation = CustomDataset(\".\\\\dataset\\\\official_dataset\\\\bid\\\\bid_validation.csv\", bid_scaler_path, LOOK_BACK, N_STEPS)\n",
    "bid_validation"
   ]
  },
  {
   "cell_type": "code",
   "execution_count": 12,
   "id": "778b4fbe",
   "metadata": {},
   "outputs": [
    {
     "data": {
      "text/plain": [
       "<model_application.deep_learning.data.custom_dataset.CustomDataset at 0x1d2a1e95690>"
      ]
     },
     "execution_count": 12,
     "metadata": {},
     "output_type": "execute_result"
    }
   ],
   "source": [
    "bid_test = CustomDataset(\".\\\\dataset\\\\official_dataset\\\\bid\\\\bid_test.csv\", bid_scaler_path, LOOK_BACK, N_STEPS)\n",
    "bid_test"
   ]
  },
  {
   "cell_type": "markdown",
   "id": "117b5247",
   "metadata": {},
   "source": [
    "## Techcombank"
   ]
  },
  {
   "cell_type": "code",
   "execution_count": 13,
   "id": "2e369101",
   "metadata": {},
   "outputs": [],
   "source": [
    "tcb_scaler_path = \".\\\\model_application\\\\experiment\\\\saved_checkpoint\\\\deep_learning\\\\scaler\\\\tcb\""
   ]
  },
  {
   "cell_type": "code",
   "execution_count": 14,
   "id": "437235e7",
   "metadata": {},
   "outputs": [
    {
     "data": {
      "text/plain": [
       "<model_application.deep_learning.data.custom_dataset.CustomDataset at 0x1d2d76d5450>"
      ]
     },
     "execution_count": 14,
     "metadata": {},
     "output_type": "execute_result"
    }
   ],
   "source": [
    "tcb_train = CustomDataset(\".\\\\dataset\\\\official_dataset\\\\tcb\\\\tcb_train.csv\", tcb_scaler_path, LOOK_BACK, N_STEPS)\n",
    "tcb_train"
   ]
  },
  {
   "cell_type": "code",
   "execution_count": 15,
   "id": "70e328e6",
   "metadata": {},
   "outputs": [
    {
     "data": {
      "text/plain": [
       "<model_application.deep_learning.data.custom_dataset.CustomDataset at 0x1d2a1ea7350>"
      ]
     },
     "execution_count": 15,
     "metadata": {},
     "output_type": "execute_result"
    }
   ],
   "source": [
    "tcb_validation = CustomDataset(\".\\\\dataset\\\\official_dataset\\\\tcb\\\\tcb_validation.csv\", tcb_scaler_path, LOOK_BACK, N_STEPS)\n",
    "tcb_validation"
   ]
  },
  {
   "cell_type": "code",
   "execution_count": 16,
   "id": "bdbe80e5",
   "metadata": {},
   "outputs": [
    {
     "data": {
      "text/plain": [
       "<model_application.deep_learning.data.custom_dataset.CustomDataset at 0x1d2a1ea6110>"
      ]
     },
     "execution_count": 16,
     "metadata": {},
     "output_type": "execute_result"
    }
   ],
   "source": [
    "tcb_test = CustomDataset(\".\\\\dataset\\\\official_dataset\\\\tcb\\\\tcb_test.csv\", tcb_scaler_path, LOOK_BACK, N_STEPS)\n",
    "tcb_test"
   ]
  },
  {
   "cell_type": "markdown",
   "id": "64a48264",
   "metadata": {},
   "source": [
    "# Execute LSTM"
   ]
  },
  {
   "cell_type": "code",
   "execution_count": 17,
   "id": "825e236e",
   "metadata": {},
   "outputs": [],
   "source": [
    "DEVICE = \"cuda\" if torch.cuda.is_available() else \"cpu\"\n",
    "LEARNING_RATE = 5e-4\n",
    "MODEL_TYPE = \"LSTM\"\n",
    "INPUT_SIZE = 9\n",
    "HIDDEN_SIZE = 50\n",
    "NUM_LAYERS = 9\n",
    "DROPOUT_PROB = 0.3\n",
    "NUM_EPOCHS = 100\n",
    "USE_AMP = False\n",
    "BATCH_SIZE = 16"
   ]
  },
  {
   "cell_type": "markdown",
   "id": "dc58b8ae",
   "metadata": {},
   "source": [
    "## Vietcombank"
   ]
  },
  {
   "cell_type": "code",
   "execution_count": 18,
   "id": "5cb6f24d",
   "metadata": {},
   "outputs": [],
   "source": [
    "vcb_checkpoint_path = \".\\\\model_application\\\\experiment\\\\saved_checkpoint\\\\deep_learning\\\\lstm\\\\vcb\\\\multi_steps\""
   ]
  },
  {
   "cell_type": "code",
   "execution_count": 19,
   "id": "5dd83a6d",
   "metadata": {},
   "outputs": [
    {
     "name": "stdout",
     "output_type": "stream",
     "text": [
      "LSTM(\n",
      "  (lstm): LSTM(9, 50, num_layers=9, batch_first=True)\n",
      "  (dropout): Dropout(p=0.3, inplace=False)\n",
      "  (norm): LayerNorm((50,), eps=1e-05, elementwise_affine=True)\n",
      "  (linear): Linear(in_features=50, out_features=4, bias=True)\n",
      ")\n"
     ]
    }
   ],
   "source": [
    "vcb_lstm_executor = ModelExecutor(\n",
    "    device=DEVICE,\n",
    "    learning_rate=LEARNING_RATE,\n",
    "    checkpoint_path=vcb_checkpoint_path,\n",
    "    scaler_path=vcb_scaler_path,\n",
    "    model_type=MODEL_TYPE,\n",
    "    input_size=INPUT_SIZE,\n",
    "    hidden_size=HIDDEN_SIZE,\n",
    "    num_layers=NUM_LAYERS,\n",
    "    dropout_prob=DROPOUT_PROB,\n",
    "    n_steps=N_STEPS,\n",
    "    num_epochs=NUM_EPOCHS,\n",
    "    use_amp=USE_AMP,\n",
    "    batch_size=BATCH_SIZE\n",
    ")"
   ]
  },
  {
   "cell_type": "code",
   "execution_count": 20,
   "id": "8bbeaecf",
   "metadata": {},
   "outputs": [
    {
     "name": "stdout",
     "output_type": "stream",
     "text": [
      "Start training!\n"
     ]
    },
    {
     "name": "stderr",
     "output_type": "stream",
     "text": [
      "Epoch 1 - Training: 100%|██████████| 45/45 [00:00<00:00, 96.28it/s, loss=0.1665811389684677]  \n",
      "Epoch 1 - Evaluation: 100%|██████████| 52/52 [00:00<00:00, 644.98it/s, loss=0.02520250263982094] \n"
     ]
    },
    {
     "name": "stdout",
     "output_type": "stream",
     "text": [
      "Evaluation scores: MSE - 0.025202499702572823, RMSE - 0.15002593398094177, MAE - 0.14769721031188965, MAPE - 0.165413498878479\n"
     ]
    },
    {
     "name": "stderr",
     "output_type": "stream",
     "text": [
      "Epoch 2 - Training: 100%|██████████| 45/45 [00:00<00:00, 137.87it/s, loss=0.10226935206188095]\n",
      "Epoch 2 - Evaluation: 100%|██████████| 52/52 [00:00<00:00, 700.88it/s, loss=0.007258727555521405] \n"
     ]
    },
    {
     "name": "stdout",
     "output_type": "stream",
     "text": [
      "Evaluation scores: MSE - 0.007258728612214327, RMSE - 0.07343409210443497, MAE - 0.06951718032360077, MAPE - 0.07870890200138092\n"
     ]
    },
    {
     "name": "stderr",
     "output_type": "stream",
     "text": [
      "Epoch 3 - Training: 100%|██████████| 45/45 [00:00<00:00, 144.92it/s, loss=0.03909287787973881] \n",
      "Epoch 3 - Evaluation: 100%|██████████| 52/52 [00:00<00:00, 466.33it/s, loss=0.002120238070067269] \n"
     ]
    },
    {
     "name": "stdout",
     "output_type": "stream",
     "text": [
      "Evaluation scores: MSE - 0.0021202382631599903, RMSE - 0.04126165807247162, MAE - 0.036161020398139954, MAPE - 0.0409659780561924\n"
     ]
    },
    {
     "name": "stderr",
     "output_type": "stream",
     "text": [
      "Epoch 4 - Training: 100%|██████████| 45/45 [00:00<00:00, 146.28it/s, loss=0.02791864381482204] \n",
      "Epoch 4 - Evaluation: 100%|██████████| 52/52 [00:00<00:00, 674.93it/s, loss=0.004596887290692673] \n"
     ]
    },
    {
     "name": "stdout",
     "output_type": "stream",
     "text": [
      "Evaluation scores: MSE - 0.004596887622028589, RMSE - 0.060939107090234756, MAE - 0.05656706914305687, MAPE - 0.06406978517770767\n"
     ]
    },
    {
     "name": "stderr",
     "output_type": "stream",
     "text": [
      "Epoch 5 - Training: 100%|██████████| 45/45 [00:00<00:00, 143.17it/s, loss=0.01838790490809414] \n",
      "Epoch 5 - Evaluation: 100%|██████████| 52/52 [00:00<00:00, 667.55it/s, loss=0.01129465659435552] \n"
     ]
    },
    {
     "name": "stdout",
     "output_type": "stream",
     "text": [
      "Evaluation scores: MSE - 0.011294657364487648, RMSE - 0.10489484667778015, MAE - 0.10227864980697632, MAPE - 0.11569678783416748\n"
     ]
    },
    {
     "name": "stderr",
     "output_type": "stream",
     "text": [
      "Epoch 6 - Training: 100%|██████████| 45/45 [00:00<00:00, 144.02it/s, loss=0.015171332098543645]\n",
      "Epoch 6 - Evaluation: 100%|██████████| 52/52 [00:00<00:00, 681.69it/s, loss=0.013482540039918743]\n"
     ]
    },
    {
     "name": "stdout",
     "output_type": "stream",
     "text": [
      "Evaluation scores: MSE - 0.013482539914548397, RMSE - 0.11451953649520874, MAE - 0.11215290427207947, MAPE - 0.1268032342195511\n"
     ]
    },
    {
     "name": "stderr",
     "output_type": "stream",
     "text": [
      "Epoch 7 - Training: 100%|██████████| 45/45 [00:00<00:00, 143.51it/s, loss=0.014440295803878043]\n",
      "Epoch 7 - Evaluation: 100%|██████████| 52/52 [00:00<00:00, 713.49it/s, loss=0.0343819663573343]  \n"
     ]
    },
    {
     "name": "stdout",
     "output_type": "stream",
     "text": [
      "Evaluation scores: MSE - 0.03438197076320648, RMSE - 0.1834678202867508, MAE - 0.18197591602802277, MAPE - 0.2053389996290207\n"
     ]
    },
    {
     "name": "stderr",
     "output_type": "stream",
     "text": [
      "Epoch 8 - Training: 100%|██████████| 45/45 [00:00<00:00, 135.04it/s, loss=0.01398577992286947] \n",
      "Epoch 8 - Evaluation: 100%|██████████| 52/52 [00:00<00:00, 670.63it/s, loss=0.01936602977534326] \n"
     ]
    },
    {
     "name": "stdout",
     "output_type": "stream",
     "text": [
      "Evaluation scores: MSE - 0.019366029649972916, RMSE - 0.13818790018558502, MAE - 0.13620389997959137, MAPE - 0.15386541187763214\n"
     ]
    },
    {
     "name": "stderr",
     "output_type": "stream",
     "text": [
      "Epoch 9 - Training: 100%|██████████| 45/45 [00:00<00:00, 138.77it/s, loss=0.013900728151202201]\n",
      "Epoch 9 - Evaluation: 100%|██████████| 52/52 [00:00<00:00, 603.08it/s, loss=0.012034456518729432]\n"
     ]
    },
    {
     "name": "stdout",
     "output_type": "stream",
     "text": [
      "Evaluation scores: MSE - 0.012034457176923752, RMSE - 0.10697071254253387, MAE - 0.1042606309056282, MAPE - 0.11794497072696686\n"
     ]
    },
    {
     "name": "stderr",
     "output_type": "stream",
     "text": [
      "Epoch 10 - Training: 100%|██████████| 45/45 [00:00<00:00, 141.42it/s, loss=0.013664142104486625]\n",
      "Epoch 10 - Evaluation: 100%|██████████| 52/52 [00:00<00:00, 661.50it/s, loss=0.04369068887228003] \n"
     ]
    },
    {
     "name": "stdout",
     "output_type": "stream",
     "text": [
      "Evaluation scores: MSE - 0.04369069263339043, RMSE - 0.20621559023857117, MAE - 0.20484216511249542, MAPE - 0.23105569183826447\n"
     ]
    },
    {
     "name": "stderr",
     "output_type": "stream",
     "text": [
      "Epoch 11 - Training: 100%|██████████| 45/45 [00:00<00:00, 129.04it/s, loss=0.011619525102691517]\n",
      "Epoch 11 - Evaluation: 100%|██████████| 52/52 [00:00<00:00, 533.78it/s, loss=0.014589376434182318]\n"
     ]
    },
    {
     "name": "stdout",
     "output_type": "stream",
     "text": [
      "Evaluation scores: MSE - 0.01458937767893076, RMSE - 0.11798985302448273, MAE - 0.11544251441955566, MAPE - 0.13052776455879211\n"
     ]
    },
    {
     "name": "stderr",
     "output_type": "stream",
     "text": [
      "Epoch 12 - Training: 100%|██████████| 45/45 [00:00<00:00, 124.14it/s, loss=0.011007598942766587]\n",
      "Epoch 12 - Evaluation: 100%|██████████| 52/52 [00:00<00:00, 648.80it/s, loss=0.021575041473484956]\n"
     ]
    },
    {
     "name": "stdout",
     "output_type": "stream",
     "text": [
      "Evaluation scores: MSE - 0.021575042977929115, RMSE - 0.14558196067810059, MAE - 0.14351239800453186, MAPE - 0.16211163997650146\n"
     ]
    },
    {
     "name": "stderr",
     "output_type": "stream",
     "text": [
      "Epoch 13 - Training: 100%|██████████| 45/45 [00:00<00:00, 136.58it/s, loss=0.01076398521868719] \n",
      "Epoch 13 - Evaluation: 100%|██████████| 52/52 [00:00<00:00, 645.58it/s, loss=0.007395391424114888] \n"
     ]
    },
    {
     "name": "stdout",
     "output_type": "stream",
     "text": [
      "Evaluation scores: MSE - 0.0073953913524746895, RMSE - 0.08531590551137924, MAE - 0.08144637942314148, MAPE - 0.09233161807060242\n",
      "Finish training!\n",
      "Start testing!\n",
      "Loading checkpoint from  .\\model_application\\experiment\\saved_checkpoint\\deep_learning\\lstm\\vcb\\multi_steps\\best_model.pth\n"
     ]
    },
    {
     "name": "stderr",
     "output_type": "stream",
     "text": [
      "Epoch 3 - Evaluation: 100%|██████████| 47/47 [00:00<00:00, 520.40it/s, loss=0.005901139026428474] "
     ]
    },
    {
     "name": "stdout",
     "output_type": "stream",
     "text": [
      "Evaluation scores: MSE - 0.0059011392295360565, RMSE - 0.07645022124052048, MAE - 0.060068223625421524, MAPE - 0.062156904488801956\n",
      "Thời gian tính toán (test dataset): 0.10 giây (0.00 phút)\n"
     ]
    },
    {
     "name": "stderr",
     "output_type": "stream",
     "text": [
      "\n"
     ]
    }
   ],
   "source": [
    "vcb_lstm_executor.run(vcb_train, vcb_validation, vcb_test)"
   ]
  },
  {
   "cell_type": "markdown",
   "id": "0484a9bd",
   "metadata": {},
   "source": [
    "## BIDV"
   ]
  },
  {
   "cell_type": "code",
   "execution_count": 21,
   "id": "34ea7463",
   "metadata": {},
   "outputs": [],
   "source": [
    "bid_checkpoint_path = \".\\\\model_application\\\\experiment\\\\saved_checkpoint\\\\deep_learning\\\\lstm\\\\bid\\\\multi_steps\""
   ]
  },
  {
   "cell_type": "code",
   "execution_count": 22,
   "id": "7c4dfe6d",
   "metadata": {},
   "outputs": [
    {
     "name": "stdout",
     "output_type": "stream",
     "text": [
      "LSTM(\n",
      "  (lstm): LSTM(9, 50, num_layers=9, batch_first=True)\n",
      "  (dropout): Dropout(p=0.3, inplace=False)\n",
      "  (norm): LayerNorm((50,), eps=1e-05, elementwise_affine=True)\n",
      "  (linear): Linear(in_features=50, out_features=4, bias=True)\n",
      ")\n"
     ]
    }
   ],
   "source": [
    "bid_lstm_executor = ModelExecutor(\n",
    "    device=DEVICE,\n",
    "    learning_rate = LEARNING_RATE,\n",
    "    checkpoint_path=bid_checkpoint_path,\n",
    "    scaler_path=bid_scaler_path,\n",
    "    model_type=MODEL_TYPE,\n",
    "    input_size=INPUT_SIZE,\n",
    "    hidden_size=HIDDEN_SIZE,\n",
    "    num_layers=NUM_LAYERS,\n",
    "    dropout_prob=DROPOUT_PROB,\n",
    "    n_steps=N_STEPS,\n",
    "    num_epochs=NUM_EPOCHS,\n",
    "    use_amp=USE_AMP,\n",
    "    batch_size=BATCH_SIZE\n",
    ")"
   ]
  },
  {
   "cell_type": "code",
   "execution_count": 23,
   "id": "083855c0",
   "metadata": {},
   "outputs": [
    {
     "name": "stdout",
     "output_type": "stream",
     "text": [
      "Start training!\n"
     ]
    },
    {
     "name": "stderr",
     "output_type": "stream",
     "text": [
      "Epoch 1 - Training: 100%|██████████| 42/42 [00:00<00:00, 118.73it/s, loss=0.13541640589634577]\n",
      "Epoch 1 - Evaluation: 100%|██████████| 47/47 [00:00<00:00, 664.34it/s, loss=0.017828307649556625]\n"
     ]
    },
    {
     "name": "stdout",
     "output_type": "stream",
     "text": [
      "Evaluation scores: MSE - 0.017828308045864105, RMSE - 0.1298147588968277, MAE - 0.12458787858486176, MAPE - 0.16781596839427948\n"
     ]
    },
    {
     "name": "stderr",
     "output_type": "stream",
     "text": [
      "Epoch 2 - Training: 100%|██████████| 42/42 [00:00<00:00, 134.33it/s, loss=0.06995879007237298]\n",
      "Epoch 2 - Evaluation: 100%|██████████| 47/47 [00:00<00:00, 760.56it/s, loss=0.04491856741778394] \n"
     ]
    },
    {
     "name": "stdout",
     "output_type": "stream",
     "text": [
      "Evaluation scores: MSE - 0.044918566942214966, RMSE - 0.21021507680416107, MAE - 0.20691820979118347, MAPE - 0.28547120094299316\n"
     ]
    },
    {
     "name": "stderr",
     "output_type": "stream",
     "text": [
      "Epoch 3 - Training: 100%|██████████| 42/42 [00:00<00:00, 168.73it/s, loss=0.04090834102992501] \n",
      "Epoch 3 - Evaluation: 100%|██████████| 47/47 [00:00<00:00, 702.48it/s, loss=0.03617935994283316] \n"
     ]
    },
    {
     "name": "stdout",
     "output_type": "stream",
     "text": [
      "Evaluation scores: MSE - 0.03617935627698898, RMSE - 0.18936322629451752, MAE - 0.18580326437950134, MAPE - 0.25651413202285767\n"
     ]
    },
    {
     "name": "stderr",
     "output_type": "stream",
     "text": [
      "Epoch 4 - Training: 100%|██████████| 42/42 [00:00<00:00, 147.53it/s, loss=0.02474465159078439] \n",
      "Epoch 4 - Evaluation: 100%|██████████| 47/47 [00:00<00:00, 677.29it/s, loss=0.026243392596060924]\n"
     ]
    },
    {
     "name": "stdout",
     "output_type": "stream",
     "text": [
      "Evaluation scores: MSE - 0.026243392378091812, RMSE - 0.160136878490448, MAE - 0.15552949905395508, MAPE - 0.21492820978164673\n"
     ]
    },
    {
     "name": "stderr",
     "output_type": "stream",
     "text": [
      "Epoch 5 - Training: 100%|██████████| 42/42 [00:00<00:00, 140.94it/s, loss=0.020564732563105367]\n",
      "Epoch 5 - Evaluation: 100%|██████████| 47/47 [00:00<00:00, 466.41it/s, loss=0.01580196976701313] \n"
     ]
    },
    {
     "name": "stdout",
     "output_type": "stream",
     "text": [
      "Evaluation scores: MSE - 0.015801969915628433, RMSE - 0.12512576580047607, MAE - 0.12025798857212067, MAPE - 0.16656020283699036\n"
     ]
    },
    {
     "name": "stderr",
     "output_type": "stream",
     "text": [
      "Epoch 6 - Training: 100%|██████████| 42/42 [00:00<00:00, 166.66it/s, loss=0.015366006043872662]\n",
      "Epoch 6 - Evaluation: 100%|██████████| 47/47 [00:00<00:00, 661.48it/s, loss=0.03796071043991028] \n"
     ]
    },
    {
     "name": "stdout",
     "output_type": "stream",
     "text": [
      "Evaluation scores: MSE - 0.037960708141326904, RMSE - 0.19422730803489685, MAE - 0.19116991758346558, MAPE - 0.26341012120246887\n"
     ]
    },
    {
     "name": "stderr",
     "output_type": "stream",
     "text": [
      "Epoch 7 - Training: 100%|██████████| 42/42 [00:00<00:00, 132.39it/s, loss=0.013241201406344771]\n",
      "Epoch 7 - Evaluation: 100%|██████████| 47/47 [00:00<00:00, 591.65it/s, loss=0.037652459074842166]\n"
     ]
    },
    {
     "name": "stdout",
     "output_type": "stream",
     "text": [
      "Evaluation scores: MSE - 0.037652455270290375, RMSE - 0.19219717383384705, MAE - 0.18884053826332092, MAPE - 0.2602027654647827\n"
     ]
    },
    {
     "name": "stderr",
     "output_type": "stream",
     "text": [
      "Epoch 8 - Training: 100%|██████████| 42/42 [00:00<00:00, 125.11it/s, loss=0.011932484705799393]\n",
      "Epoch 8 - Evaluation: 100%|██████████| 47/47 [00:00<00:00, 602.24it/s, loss=0.02482872781284312] \n"
     ]
    },
    {
     "name": "stdout",
     "output_type": "stream",
     "text": [
      "Evaluation scores: MSE - 0.024828726425766945, RMSE - 0.15687504410743713, MAE - 0.15234246850013733, MAPE - 0.20984657108783722\n"
     ]
    },
    {
     "name": "stderr",
     "output_type": "stream",
     "text": [
      "Epoch 9 - Training: 100%|██████████| 42/42 [00:00<00:00, 150.96it/s, loss=0.010825185881306728]\n",
      "Epoch 9 - Evaluation: 100%|██████████| 47/47 [00:00<00:00, 696.35it/s, loss=0.034883100737599614]\n"
     ]
    },
    {
     "name": "stdout",
     "output_type": "stream",
     "text": [
      "Evaluation scores: MSE - 0.034883104264736176, RMSE - 0.1857486218214035, MAE - 0.18176554143428802, MAPE - 0.24993067979812622\n"
     ]
    },
    {
     "name": "stderr",
     "output_type": "stream",
     "text": [
      "Epoch 10 - Training: 100%|██████████| 42/42 [00:00<00:00, 131.10it/s, loss=0.01197051704816875] \n",
      "Epoch 10 - Evaluation: 100%|██████████| 47/47 [00:00<00:00, 618.65it/s, loss=0.018594548482685647]\n"
     ]
    },
    {
     "name": "stdout",
     "output_type": "stream",
     "text": [
      "Evaluation scores: MSE - 0.018594548106193542, RMSE - 0.13423213362693787, MAE - 0.12949247658252716, MAPE - 0.17846974730491638\n"
     ]
    },
    {
     "name": "stderr",
     "output_type": "stream",
     "text": [
      "Epoch 11 - Training: 100%|██████████| 42/42 [00:00<00:00, 141.59it/s, loss=0.009903374394135816]\n",
      "Epoch 11 - Evaluation: 100%|██████████| 47/47 [00:00<00:00, 624.35it/s, loss=0.02818832280946539] \n"
     ]
    },
    {
     "name": "stdout",
     "output_type": "stream",
     "text": [
      "Evaluation scores: MSE - 0.028188325464725494, RMSE - 0.1657528132200241, MAE - 0.1608106642961502, MAPE - 0.22099408507347107\n"
     ]
    },
    {
     "name": "stderr",
     "output_type": "stream",
     "text": [
      "Epoch 12 - Training: 100%|██████████| 42/42 [00:00<00:00, 163.48it/s, loss=0.009511921510455153]\n",
      "Epoch 12 - Evaluation: 100%|██████████| 47/47 [00:00<00:00, 564.38it/s, loss=0.028176231904232754]\n"
     ]
    },
    {
     "name": "stdout",
     "output_type": "stream",
     "text": [
      "Evaluation scores: MSE - 0.028176231309771538, RMSE - 0.16578330099582672, MAE - 0.16137923300266266, MAPE - 0.22180527448654175\n"
     ]
    },
    {
     "name": "stderr",
     "output_type": "stream",
     "text": [
      "Epoch 13 - Training: 100%|██████████| 42/42 [00:00<00:00, 158.30it/s, loss=0.009185961669399625]\n",
      "Epoch 13 - Evaluation: 100%|██████████| 47/47 [00:00<00:00, 761.47it/s, loss=0.035899470144129815]\n"
     ]
    },
    {
     "name": "stdout",
     "output_type": "stream",
     "text": [
      "Evaluation scores: MSE - 0.03589947521686554, RMSE - 0.18737061321735382, MAE - 0.18425258994102478, MAPE - 0.25334903597831726\n"
     ]
    },
    {
     "name": "stderr",
     "output_type": "stream",
     "text": [
      "Epoch 14 - Training: 100%|██████████| 42/42 [00:00<00:00, 138.90it/s, loss=0.008856088848828915]\n",
      "Epoch 14 - Evaluation: 100%|██████████| 47/47 [00:00<00:00, 683.83it/s, loss=0.025671928368033246]\n"
     ]
    },
    {
     "name": "stdout",
     "output_type": "stream",
     "text": [
      "Evaluation scores: MSE - 0.025671929121017456, RMSE - 0.1581469178199768, MAE - 0.1534704864025116, MAPE - 0.21093355119228363\n"
     ]
    },
    {
     "name": "stderr",
     "output_type": "stream",
     "text": [
      "Epoch 15 - Training: 100%|██████████| 42/42 [00:00<00:00, 143.97it/s, loss=0.007748992952872955] \n",
      "Epoch 15 - Evaluation: 100%|██████████| 47/47 [00:00<00:00, 588.88it/s, loss=0.024488065629563432]\n"
     ]
    },
    {
     "name": "stdout",
     "output_type": "stream",
     "text": [
      "Evaluation scores: MSE - 0.024488063529133797, RMSE - 0.1552126705646515, MAE - 0.15100513398647308, MAPE - 0.2075883150100708\n",
      "Finish training!\n",
      "Start testing!\n",
      "Loading checkpoint from  .\\model_application\\experiment\\saved_checkpoint\\deep_learning\\lstm\\bid\\multi_steps\\best_model.pth\n"
     ]
    },
    {
     "name": "stderr",
     "output_type": "stream",
     "text": [
      "Epoch 5 - Evaluation: 100%|██████████| 42/42 [00:00<00:00, 571.97it/s, loss=0.004887137947315793] \n"
     ]
    },
    {
     "name": "stdout",
     "output_type": "stream",
     "text": [
      "Evaluation scores: MSE - 0.004887138027697802, RMSE - 0.06878861784934998, MAE - 0.06315524876117706, MAPE - 0.07945738732814789\n",
      "Thời gian tính toán (test dataset): 0.08 giây (0.00 phút)\n"
     ]
    }
   ],
   "source": [
    "bid_lstm_executor.run(bid_train, bid_validation, bid_test)"
   ]
  },
  {
   "cell_type": "markdown",
   "id": "6e5483fb",
   "metadata": {},
   "source": [
    "## Techcombank"
   ]
  },
  {
   "cell_type": "code",
   "execution_count": 24,
   "id": "b3003017",
   "metadata": {},
   "outputs": [],
   "source": [
    "tcb_checkpoint_path = \".\\\\model_application\\\\experiment\\\\saved_checkpoint\\\\deep_learning\\\\lstm\\\\tcb\\\\multi_steps\""
   ]
  },
  {
   "cell_type": "code",
   "execution_count": 25,
   "id": "4695e488",
   "metadata": {},
   "outputs": [
    {
     "name": "stdout",
     "output_type": "stream",
     "text": [
      "LSTM(\n",
      "  (lstm): LSTM(9, 50, num_layers=9, batch_first=True)\n",
      "  (dropout): Dropout(p=0.3, inplace=False)\n",
      "  (norm): LayerNorm((50,), eps=1e-05, elementwise_affine=True)\n",
      "  (linear): Linear(in_features=50, out_features=4, bias=True)\n",
      ")\n"
     ]
    }
   ],
   "source": [
    "tcb_lstm_executor = ModelExecutor(\n",
    "    device=DEVICE,\n",
    "    learning_rate = LEARNING_RATE,\n",
    "    checkpoint_path=tcb_checkpoint_path,\n",
    "    scaler_path=tcb_scaler_path,\n",
    "    model_type=MODEL_TYPE,\n",
    "    input_size=INPUT_SIZE,\n",
    "    hidden_size=HIDDEN_SIZE,\n",
    "    num_layers=NUM_LAYERS,\n",
    "    dropout_prob=DROPOUT_PROB,\n",
    "    n_steps=N_STEPS,\n",
    "    num_epochs=NUM_EPOCHS,\n",
    "    use_amp=USE_AMP,\n",
    "    batch_size=BATCH_SIZE\n",
    ")"
   ]
  },
  {
   "cell_type": "code",
   "execution_count": 26,
   "id": "a365cdad",
   "metadata": {},
   "outputs": [
    {
     "name": "stdout",
     "output_type": "stream",
     "text": [
      "Start training!\n"
     ]
    },
    {
     "name": "stderr",
     "output_type": "stream",
     "text": [
      "Epoch 1 - Training: 100%|██████████| 35/35 [00:00<00:00, 127.68it/s, loss=0.2136651560664177] \n",
      "Epoch 1 - Evaluation: 100%|██████████| 34/34 [00:00<00:00, 661.00it/s, loss=0.10163465427125201]\n"
     ]
    },
    {
     "name": "stdout",
     "output_type": "stream",
     "text": [
      "Evaluation scores: MSE - 0.10163465887308121, RMSE - 0.31804704666137695, MAE - 0.3162810206413269, MAPE - 0.3709576725959778\n"
     ]
    },
    {
     "name": "stderr",
     "output_type": "stream",
     "text": [
      "Epoch 2 - Training: 100%|██████████| 35/35 [00:00<00:00, 126.27it/s, loss=0.1420596384576389] \n",
      "Epoch 2 - Evaluation: 100%|██████████| 34/34 [00:00<00:00, 612.38it/s, loss=0.0655032772132579]  \n"
     ]
    },
    {
     "name": "stdout",
     "output_type": "stream",
     "text": [
      "Evaluation scores: MSE - 0.06550327688455582, RMSE - 0.25266948342323303, MAE - 0.2504006624221802, MAPE - 0.2933290898799896\n"
     ]
    },
    {
     "name": "stderr",
     "output_type": "stream",
     "text": [
      "Epoch 3 - Training: 100%|██████████| 35/35 [00:00<00:00, 131.96it/s, loss=0.1257217901093619] \n",
      "Epoch 3 - Evaluation: 100%|██████████| 34/34 [00:00<00:00, 684.12it/s, loss=0.10751489265000119]\n"
     ]
    },
    {
     "name": "stdout",
     "output_type": "stream",
     "text": [
      "Evaluation scores: MSE - 0.10751490294933319, RMSE - 0.3268980383872986, MAE - 0.3251827359199524, MAPE - 0.381427139043808\n"
     ]
    },
    {
     "name": "stderr",
     "output_type": "stream",
     "text": [
      "Epoch 4 - Training: 100%|██████████| 35/35 [00:00<00:00, 128.18it/s, loss=0.10670077300497464]\n",
      "Epoch 4 - Evaluation: 100%|██████████| 34/34 [00:00<00:00, 587.00it/s, loss=0.03590775587979485] \n"
     ]
    },
    {
     "name": "stdout",
     "output_type": "stream",
     "text": [
      "Evaluation scores: MSE - 0.03590775653719902, RMSE - 0.18906071782112122, MAE - 0.186064675450325, MAPE - 0.21759267151355743\n"
     ]
    },
    {
     "name": "stderr",
     "output_type": "stream",
     "text": [
      "Epoch 5 - Training: 100%|██████████| 35/35 [00:00<00:00, 144.63it/s, loss=0.0586460357265813]  \n",
      "Epoch 5 - Evaluation: 100%|██████████| 34/34 [00:00<00:00, 572.99it/s, loss=0.004796926829251735] \n"
     ]
    },
    {
     "name": "stdout",
     "output_type": "stream",
     "text": [
      "Evaluation scores: MSE - 0.004796926863491535, RMSE - 0.06194426864385605, MAE - 0.054838236421346664, MAPE - 0.0656956136226654\n"
     ]
    },
    {
     "name": "stderr",
     "output_type": "stream",
     "text": [
      "Epoch 6 - Training: 100%|██████████| 35/35 [00:00<00:00, 134.78it/s, loss=0.041947546281984875]\n",
      "Epoch 6 - Evaluation: 100%|██████████| 34/34 [00:00<00:00, 657.35it/s, loss=0.008774311720010112] \n"
     ]
    },
    {
     "name": "stdout",
     "output_type": "stream",
     "text": [
      "Evaluation scores: MSE - 0.008774311281740665, RMSE - 0.08135133981704712, MAE - 0.0756426677107811, MAPE - 0.09006738662719727\n"
     ]
    },
    {
     "name": "stderr",
     "output_type": "stream",
     "text": [
      "Epoch 7 - Training: 100%|██████████| 35/35 [00:00<00:00, 147.41it/s, loss=0.03413626402616501] \n",
      "Epoch 7 - Evaluation: 100%|██████████| 34/34 [00:00<00:00, 517.14it/s, loss=0.00919426792739507] \n"
     ]
    },
    {
     "name": "stdout",
     "output_type": "stream",
     "text": [
      "Evaluation scores: MSE - 0.00919426791369915, RMSE - 0.09328814595937729, MAE - 0.08670525252819061, MAPE - 0.10368900746107101\n"
     ]
    },
    {
     "name": "stderr",
     "output_type": "stream",
     "text": [
      "Epoch 8 - Training: 100%|██████████| 35/35 [00:00<00:00, 144.13it/s, loss=0.028991268947720528]\n",
      "Epoch 8 - Evaluation: 100%|██████████| 34/34 [00:00<00:00, 535.20it/s, loss=0.005065566271214801] \n"
     ]
    },
    {
     "name": "stdout",
     "output_type": "stream",
     "text": [
      "Evaluation scores: MSE - 0.00506556686013937, RMSE - 0.06631232053041458, MAE - 0.05823739618062973, MAPE - 0.06999238580465317\n"
     ]
    },
    {
     "name": "stderr",
     "output_type": "stream",
     "text": [
      "Epoch 9 - Training: 100%|██████████| 35/35 [00:00<00:00, 120.26it/s, loss=0.02756059169769287] \n",
      "Epoch 9 - Evaluation: 100%|██████████| 34/34 [00:00<00:00, 700.90it/s, loss=0.018087582005297437]\n"
     ]
    },
    {
     "name": "stdout",
     "output_type": "stream",
     "text": [
      "Evaluation scores: MSE - 0.018087584525346756, RMSE - 0.13210538029670715, MAE - 0.1275997906923294, MAPE - 0.1519140899181366\n"
     ]
    },
    {
     "name": "stderr",
     "output_type": "stream",
     "text": [
      "Epoch 10 - Training: 100%|██████████| 35/35 [00:00<00:00, 122.04it/s, loss=0.023917196744254656]\n",
      "Epoch 10 - Evaluation: 100%|██████████| 34/34 [00:00<00:00, 504.42it/s, loss=0.00695828436736894]  \n"
     ]
    },
    {
     "name": "stdout",
     "output_type": "stream",
     "text": [
      "Evaluation scores: MSE - 0.006958284415304661, RMSE - 0.08153469860553741, MAE - 0.07414606213569641, MAPE - 0.08891095966100693\n"
     ]
    },
    {
     "name": "stderr",
     "output_type": "stream",
     "text": [
      "Epoch 11 - Training: 100%|██████████| 35/35 [00:00<00:00, 124.99it/s, loss=0.019481877077903068]\n",
      "Epoch 11 - Evaluation: 100%|██████████| 34/34 [00:00<00:00, 693.63it/s, loss=0.016409793129081234]\n"
     ]
    },
    {
     "name": "stdout",
     "output_type": "stream",
     "text": [
      "Evaluation scores: MSE - 0.016409793868660927, RMSE - 0.12468896806240082, MAE - 0.11969295144081116, MAPE - 0.14260327816009521\n"
     ]
    },
    {
     "name": "stderr",
     "output_type": "stream",
     "text": [
      "Epoch 12 - Training: 100%|██████████| 35/35 [00:00<00:00, 132.94it/s, loss=0.018389393096523626]\n",
      "Epoch 12 - Evaluation: 100%|██████████| 34/34 [00:00<00:00, 617.01it/s, loss=0.015424447353271878]\n"
     ]
    },
    {
     "name": "stdout",
     "output_type": "stream",
     "text": [
      "Evaluation scores: MSE - 0.015424447134137154, RMSE - 0.12019184231758118, MAE - 0.11510773748159409, MAPE - 0.13719002902507782\n"
     ]
    },
    {
     "name": "stderr",
     "output_type": "stream",
     "text": [
      "Epoch 13 - Training: 100%|██████████| 35/35 [00:00<00:00, 124.77it/s, loss=0.016599183795707566]\n",
      "Epoch 13 - Evaluation: 100%|██████████| 34/34 [00:00<00:00, 520.06it/s, loss=0.017364273929749343]\n"
     ]
    },
    {
     "name": "stdout",
     "output_type": "stream",
     "text": [
      "Evaluation scores: MSE - 0.017364272847771645, RMSE - 0.12990769743919373, MAE - 0.12542715668678284, MAPE - 0.14930489659309387\n"
     ]
    },
    {
     "name": "stderr",
     "output_type": "stream",
     "text": [
      "Epoch 14 - Training: 100%|██████████| 35/35 [00:00<00:00, 111.10it/s, loss=0.013292220647313766]\n",
      "Epoch 14 - Evaluation: 100%|██████████| 34/34 [00:00<00:00, 617.01it/s, loss=0.010314249070635176]\n"
     ]
    },
    {
     "name": "stdout",
     "output_type": "stream",
     "text": [
      "Evaluation scores: MSE - 0.010314248502254486, RMSE - 0.10036315768957138, MAE - 0.09439680725336075, MAPE - 0.11279875040054321\n"
     ]
    },
    {
     "name": "stderr",
     "output_type": "stream",
     "text": [
      "Epoch 15 - Training: 100%|██████████| 35/35 [00:00<00:00, 122.82it/s, loss=0.011541637272707054]\n",
      "Epoch 15 - Evaluation: 100%|██████████| 34/34 [00:00<00:00, 612.55it/s, loss=0.012573780142702162]\n"
     ]
    },
    {
     "name": "stdout",
     "output_type": "stream",
     "text": [
      "Evaluation scores: MSE - 0.012573780491948128, RMSE - 0.10812626034021378, MAE - 0.10227298736572266, MAPE - 0.12203545868396759\n",
      "Finish training!\n",
      "Start testing!\n",
      "Loading checkpoint from  .\\model_application\\experiment\\saved_checkpoint\\deep_learning\\lstm\\tcb\\multi_steps\\best_model.pth\n"
     ]
    },
    {
     "name": "stderr",
     "output_type": "stream",
     "text": [
      "Epoch 5 - Evaluation: 100%|██████████| 29/29 [00:00<00:00, 570.03it/s, loss=0.02684631579202311] "
     ]
    },
    {
     "name": "stdout",
     "output_type": "stream",
     "text": [
      "Evaluation scores: MSE - 0.02684631571173668, RMSE - 0.1589391678571701, MAE - 0.14974883198738098, MAPE - 0.14129579067230225\n",
      "Thời gian tính toán (test dataset): 0.06 giây (0.00 phút)\n"
     ]
    },
    {
     "name": "stderr",
     "output_type": "stream",
     "text": [
      "\n"
     ]
    }
   ],
   "source": [
    "tcb_lstm_executor.run(tcb_train, tcb_validation, tcb_test)"
   ]
  },
  {
   "cell_type": "code",
   "execution_count": null,
   "id": "e75cadb2",
   "metadata": {},
   "outputs": [],
   "source": []
  }
 ],
 "metadata": {
  "kernelspec": {
   "display_name": ".venv",
   "language": "python",
   "name": "python3"
  },
  "language_info": {
   "codemirror_mode": {
    "name": "ipython",
    "version": 3
   },
   "file_extension": ".py",
   "mimetype": "text/x-python",
   "name": "python",
   "nbconvert_exporter": "python",
   "pygments_lexer": "ipython3",
   "version": "3.11.9"
  }
 },
 "nbformat": 4,
 "nbformat_minor": 5
}
