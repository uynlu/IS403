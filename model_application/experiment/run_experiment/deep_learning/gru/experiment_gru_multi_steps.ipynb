{
 "cells": [
  {
   "cell_type": "code",
   "execution_count": 1,
   "id": "61a416b5",
   "metadata": {},
   "outputs": [
    {
     "name": "stdout",
     "output_type": "stream",
     "text": [
      "Thư mục làm việc hiện tại: D:\\UIT\\HK\\HK6\\IS403\\Đồ án\\Source code\n"
     ]
    }
   ],
   "source": [
    "import os\n",
    "os.chdir(\"D:\\\\UIT\\\\HK\\\\HK6\\\\IS403\\\\Đồ án\\\\Source code\")\n",
    "print(\"Thư mục làm việc hiện tại:\", os.getcwd())"
   ]
  },
  {
   "cell_type": "markdown",
   "id": "9a5b776e",
   "metadata": {},
   "source": [
    "# Import modules"
   ]
  },
  {
   "cell_type": "code",
   "execution_count": 2,
   "id": "f53a8a1b",
   "metadata": {},
   "outputs": [],
   "source": [
    "import torch"
   ]
  },
  {
   "cell_type": "code",
   "execution_count": 3,
   "id": "d98c317b",
   "metadata": {},
   "outputs": [],
   "source": [
    "from model_application.deep_learning.data import CustomDataset\n",
    "from model_application.deep_learning.execute import ModelExecutor"
   ]
  },
  {
   "cell_type": "markdown",
   "id": "fefbef4c",
   "metadata": {},
   "source": [
    "# Custom dataset"
   ]
  },
  {
   "cell_type": "code",
   "execution_count": 4,
   "id": "96be1fde",
   "metadata": {},
   "outputs": [],
   "source": [
    "LOOK_BACK = 30\n",
    "N_STEPS = 4"
   ]
  },
  {
   "cell_type": "markdown",
   "id": "e43a9b7f",
   "metadata": {},
   "source": [
    "## Vietcombank"
   ]
  },
  {
   "cell_type": "code",
   "execution_count": 5,
   "id": "83430bda",
   "metadata": {},
   "outputs": [],
   "source": [
    "vcb_scaler_path = \".\\\\model_application\\\\experiment\\\\saved_checkpoint\\\\deep_learning\\\\scaler\\\\vcb\""
   ]
  },
  {
   "cell_type": "code",
   "execution_count": 6,
   "id": "c1b20408",
   "metadata": {},
   "outputs": [
    {
     "data": {
      "text/plain": [
       "<model_application.deep_learning.data.custom_dataset.CustomDataset at 0x222415b7750>"
      ]
     },
     "execution_count": 6,
     "metadata": {},
     "output_type": "execute_result"
    }
   ],
   "source": [
    "vcb_train = CustomDataset(\".\\\\dataset\\\\official_dataset\\\\vcb\\\\vcb_train.csv\", vcb_scaler_path, LOOK_BACK, N_STEPS)\n",
    "vcb_train"
   ]
  },
  {
   "cell_type": "code",
   "execution_count": 7,
   "id": "076704ef",
   "metadata": {},
   "outputs": [
    {
     "data": {
      "text/plain": [
       "<model_application.deep_learning.data.custom_dataset.CustomDataset at 0x22242422cd0>"
      ]
     },
     "execution_count": 7,
     "metadata": {},
     "output_type": "execute_result"
    }
   ],
   "source": [
    "vcb_validation = CustomDataset(\".\\\\dataset\\\\official_dataset\\\\vcb\\\\vcb_validation.csv\", vcb_scaler_path, LOOK_BACK, N_STEPS)\n",
    "vcb_validation"
   ]
  },
  {
   "cell_type": "code",
   "execution_count": 8,
   "id": "382daaad",
   "metadata": {},
   "outputs": [
    {
     "data": {
      "text/plain": [
       "<model_application.deep_learning.data.custom_dataset.CustomDataset at 0x222424216d0>"
      ]
     },
     "execution_count": 8,
     "metadata": {},
     "output_type": "execute_result"
    }
   ],
   "source": [
    "vcb_test = CustomDataset(\".\\\\dataset\\\\official_dataset\\\\vcb\\\\vcb_test.csv\", vcb_scaler_path, LOOK_BACK, N_STEPS)\n",
    "vcb_test"
   ]
  },
  {
   "cell_type": "markdown",
   "id": "d24cd96e",
   "metadata": {},
   "source": [
    "## BIDV"
   ]
  },
  {
   "cell_type": "code",
   "execution_count": 9,
   "id": "99458cb3",
   "metadata": {},
   "outputs": [],
   "source": [
    "bid_scaler_path = \".\\\\model_application\\\\experiment\\\\saved_checkpoint\\\\deep_learning\\\\scaler\\\\bid\""
   ]
  },
  {
   "cell_type": "code",
   "execution_count": 10,
   "id": "952484d5",
   "metadata": {},
   "outputs": [
    {
     "data": {
      "text/plain": [
       "<model_application.deep_learning.data.custom_dataset.CustomDataset at 0x2224238ed90>"
      ]
     },
     "execution_count": 10,
     "metadata": {},
     "output_type": "execute_result"
    }
   ],
   "source": [
    "bid_train = CustomDataset(\".\\\\dataset\\\\official_dataset\\\\bid\\\\bid_train.csv\", bid_scaler_path, LOOK_BACK, N_STEPS)\n",
    "bid_train"
   ]
  },
  {
   "cell_type": "code",
   "execution_count": 11,
   "id": "b5889b5f",
   "metadata": {},
   "outputs": [
    {
     "data": {
      "text/plain": [
       "<model_application.deep_learning.data.custom_dataset.CustomDataset at 0x22242432f50>"
      ]
     },
     "execution_count": 11,
     "metadata": {},
     "output_type": "execute_result"
    }
   ],
   "source": [
    "bid_validation = CustomDataset(\".\\\\dataset\\\\official_dataset\\\\bid\\\\bid_validation.csv\", bid_scaler_path, LOOK_BACK, N_STEPS)\n",
    "bid_validation"
   ]
  },
  {
   "cell_type": "code",
   "execution_count": 12,
   "id": "778b4fbe",
   "metadata": {},
   "outputs": [
    {
     "data": {
      "text/plain": [
       "<model_application.deep_learning.data.custom_dataset.CustomDataset at 0x22242430a90>"
      ]
     },
     "execution_count": 12,
     "metadata": {},
     "output_type": "execute_result"
    }
   ],
   "source": [
    "bid_test = CustomDataset(\".\\\\dataset\\\\official_dataset\\\\bid\\\\bid_test.csv\", bid_scaler_path, LOOK_BACK, N_STEPS)\n",
    "bid_test"
   ]
  },
  {
   "cell_type": "markdown",
   "id": "117b5247",
   "metadata": {},
   "source": [
    "## Techcombank"
   ]
  },
  {
   "cell_type": "code",
   "execution_count": 13,
   "id": "2e369101",
   "metadata": {},
   "outputs": [],
   "source": [
    "tcb_scaler_path = \".\\\\model_application\\\\experiment\\\\saved_checkpoint\\\\deep_learning\\\\scaler\\\\tcb\""
   ]
  },
  {
   "cell_type": "code",
   "execution_count": 14,
   "id": "437235e7",
   "metadata": {},
   "outputs": [
    {
     "data": {
      "text/plain": [
       "<model_application.deep_learning.data.custom_dataset.CustomDataset at 0x2224242a9d0>"
      ]
     },
     "execution_count": 14,
     "metadata": {},
     "output_type": "execute_result"
    }
   ],
   "source": [
    "tcb_train = CustomDataset(\".\\\\dataset\\\\official_dataset\\\\tcb\\\\tcb_train.csv\", tcb_scaler_path, LOOK_BACK, N_STEPS)\n",
    "tcb_train"
   ]
  },
  {
   "cell_type": "code",
   "execution_count": 15,
   "id": "70e328e6",
   "metadata": {},
   "outputs": [
    {
     "data": {
      "text/plain": [
       "<model_application.deep_learning.data.custom_dataset.CustomDataset at 0x22242436e50>"
      ]
     },
     "execution_count": 15,
     "metadata": {},
     "output_type": "execute_result"
    }
   ],
   "source": [
    "tcb_validation = CustomDataset(\".\\\\dataset\\\\official_dataset\\\\tcb\\\\tcb_validation.csv\", tcb_scaler_path, LOOK_BACK, N_STEPS)\n",
    "tcb_validation"
   ]
  },
  {
   "cell_type": "code",
   "execution_count": 16,
   "id": "bdbe80e5",
   "metadata": {},
   "outputs": [
    {
     "data": {
      "text/plain": [
       "<model_application.deep_learning.data.custom_dataset.CustomDataset at 0x22242437490>"
      ]
     },
     "execution_count": 16,
     "metadata": {},
     "output_type": "execute_result"
    }
   ],
   "source": [
    "tcb_test = CustomDataset(\".\\\\dataset\\\\official_dataset\\\\tcb\\\\tcb_test.csv\", tcb_scaler_path, LOOK_BACK, N_STEPS)\n",
    "tcb_test"
   ]
  },
  {
   "cell_type": "markdown",
   "id": "64a48264",
   "metadata": {},
   "source": [
    "# Execute GRU"
   ]
  },
  {
   "cell_type": "code",
   "execution_count": 17,
   "id": "825e236e",
   "metadata": {},
   "outputs": [],
   "source": [
    "DEVICE = \"cuda\" if torch.cuda.is_available() else \"cpu\"\n",
    "LEARNING_RATE = 5e-4\n",
    "MODEL_TYPE = \"GRU\"\n",
    "INPUT_SIZE = 9\n",
    "HIDDEN_SIZE = 50\n",
    "NUM_LAYERS = 9\n",
    "DROPOUT_PROB = 0.3\n",
    "NUM_EPOCHS = 100\n",
    "USE_AMP = False\n",
    "BATCH_SIZE = 16"
   ]
  },
  {
   "cell_type": "markdown",
   "id": "dc58b8ae",
   "metadata": {},
   "source": [
    "## Vietcombank"
   ]
  },
  {
   "cell_type": "code",
   "execution_count": 18,
   "id": "5cb6f24d",
   "metadata": {},
   "outputs": [],
   "source": [
    "vcb_checkpoint_path = \".\\\\model_application\\\\experiment\\\\saved_checkpoint\\\\deep_learning\\\\gru\\\\vcb\\\\multi_steps\""
   ]
  },
  {
   "cell_type": "code",
   "execution_count": 19,
   "id": "5dd83a6d",
   "metadata": {},
   "outputs": [
    {
     "name": "stdout",
     "output_type": "stream",
     "text": [
      "GRU(\n",
      "  (gru): GRU(9, 50, num_layers=9, batch_first=True)\n",
      "  (dropout): Dropout(p=0.3, inplace=False)\n",
      "  (norm): LayerNorm((50,), eps=1e-05, elementwise_affine=True)\n",
      "  (linear): Linear(in_features=50, out_features=4, bias=True)\n",
      ")\n"
     ]
    }
   ],
   "source": [
    "vcb_gru_executor = ModelExecutor(\n",
    "    device=DEVICE,\n",
    "    learning_rate=LEARNING_RATE,\n",
    "    checkpoint_path=vcb_checkpoint_path,\n",
    "    scaler_path=vcb_scaler_path,\n",
    "    model_type=MODEL_TYPE,\n",
    "    input_size=INPUT_SIZE,\n",
    "    hidden_size=HIDDEN_SIZE,\n",
    "    num_layers=NUM_LAYERS,\n",
    "    dropout_prob=DROPOUT_PROB,\n",
    "    n_steps=N_STEPS,\n",
    "    num_epochs=NUM_EPOCHS,\n",
    "    use_amp=USE_AMP,\n",
    "    batch_size=BATCH_SIZE\n",
    ")"
   ]
  },
  {
   "cell_type": "code",
   "execution_count": 20,
   "id": "8bbeaecf",
   "metadata": {},
   "outputs": [
    {
     "name": "stdout",
     "output_type": "stream",
     "text": [
      "Start training!\n"
     ]
    },
    {
     "name": "stderr",
     "output_type": "stream",
     "text": [
      "Epoch 1 - Training: 100%|██████████| 45/45 [00:00<00:00, 91.51it/s, loss=0.157679211265511]   \n",
      "Epoch 1 - Evaluation: 100%|██████████| 52/52 [00:00<00:00, 614.54it/s, loss=0.00556828681146726]  \n"
     ]
    },
    {
     "name": "stdout",
     "output_type": "stream",
     "text": [
      "Evaluation scores: MSE - 0.005568286869674921, RMSE - 0.06511411815881729, MAE - 0.060562632977962494, MAPE - 0.06781427562236786\n"
     ]
    },
    {
     "name": "stderr",
     "output_type": "stream",
     "text": [
      "Epoch 2 - Training: 100%|██████████| 45/45 [00:00<00:00, 115.37it/s, loss=0.056926704115337796]\n",
      "Epoch 2 - Evaluation: 100%|██████████| 52/52 [00:00<00:00, 581.37it/s, loss=0.02375091791439515] \n"
     ]
    },
    {
     "name": "stdout",
     "output_type": "stream",
     "text": [
      "Evaluation scores: MSE - 0.023750919848680496, RMSE - 0.15241941809654236, MAE - 0.15024369955062866, MAPE - 0.16971629858016968\n"
     ]
    },
    {
     "name": "stderr",
     "output_type": "stream",
     "text": [
      "Epoch 3 - Training: 100%|██████████| 45/45 [00:00<00:00, 150.29it/s, loss=0.02906854183723529] \n",
      "Epoch 3 - Evaluation: 100%|██████████| 52/52 [00:00<00:00, 677.49it/s, loss=0.047722363737053596]\n"
     ]
    },
    {
     "name": "stdout",
     "output_type": "stream",
     "text": [
      "Evaluation scores: MSE - 0.04772236570715904, RMSE - 0.21703074872493744, MAE - 0.21541202068328857, MAPE - 0.2430269420146942\n"
     ]
    },
    {
     "name": "stderr",
     "output_type": "stream",
     "text": [
      "Epoch 4 - Training: 100%|██████████| 45/45 [00:00<00:00, 134.23it/s, loss=0.021208332023686834]\n",
      "Epoch 4 - Evaluation: 100%|██████████| 52/52 [00:00<00:00, 438.97it/s, loss=0.02620624924580065] \n"
     ]
    },
    {
     "name": "stdout",
     "output_type": "stream",
     "text": [
      "Evaluation scores: MSE - 0.026206251233816147, RMSE - 0.15878552198410034, MAE - 0.15647751092910767, MAPE - 0.17675234377384186\n"
     ]
    },
    {
     "name": "stderr",
     "output_type": "stream",
     "text": [
      "Epoch 5 - Training: 100%|██████████| 45/45 [00:00<00:00, 135.29it/s, loss=0.015079934170676603]\n",
      "Epoch 5 - Evaluation: 100%|██████████| 52/52 [00:00<00:00, 518.22it/s, loss=0.016035687563439403]\n"
     ]
    },
    {
     "name": "stdout",
     "output_type": "stream",
     "text": [
      "Evaluation scores: MSE - 0.016035689041018486, RMSE - 0.12427665293216705, MAE - 0.12103234231472015, MAPE - 0.13691085577011108\n"
     ]
    },
    {
     "name": "stderr",
     "output_type": "stream",
     "text": [
      "Epoch 6 - Training: 100%|██████████| 45/45 [00:00<00:00, 136.70it/s, loss=0.014132129297488265]\n",
      "Epoch 6 - Evaluation: 100%|██████████| 52/52 [00:00<00:00, 511.45it/s, loss=0.018810640913076125]\n"
     ]
    },
    {
     "name": "stdout",
     "output_type": "stream",
     "text": [
      "Evaluation scores: MSE - 0.018810641020536423, RMSE - 0.1313430368900299, MAE - 0.1282748579978943, MAPE - 0.14502903819084167\n"
     ]
    },
    {
     "name": "stderr",
     "output_type": "stream",
     "text": [
      "Epoch 7 - Training: 100%|██████████| 45/45 [00:00<00:00, 133.71it/s, loss=0.013076755332036151]\n",
      "Epoch 7 - Evaluation: 100%|██████████| 52/52 [00:00<00:00, 757.57it/s, loss=0.008988962360980133]\n"
     ]
    },
    {
     "name": "stdout",
     "output_type": "stream",
     "text": [
      "Evaluation scores: MSE - 0.008988963440060616, RMSE - 0.09268656373023987, MAE - 0.08835399150848389, MAPE - 0.10014943778514862\n"
     ]
    },
    {
     "name": "stderr",
     "output_type": "stream",
     "text": [
      "Epoch 8 - Training: 100%|██████████| 45/45 [00:00<00:00, 162.82it/s, loss=0.013831693285869227]\n",
      "Epoch 8 - Evaluation: 100%|██████████| 52/52 [00:00<00:00, 734.07it/s, loss=0.02282460332991412] \n"
     ]
    },
    {
     "name": "stdout",
     "output_type": "stream",
     "text": [
      "Evaluation scores: MSE - 0.02282460406422615, RMSE - 0.15010927617549896, MAE - 0.1475592851638794, MAPE - 0.1667335331439972\n"
     ]
    },
    {
     "name": "stderr",
     "output_type": "stream",
     "text": [
      "Epoch 9 - Training: 100%|██████████| 45/45 [00:00<00:00, 157.71it/s, loss=0.012893653899017308]\n",
      "Epoch 9 - Evaluation: 100%|██████████| 52/52 [00:00<00:00, 747.45it/s, loss=0.02304116255030609] \n"
     ]
    },
    {
     "name": "stdout",
     "output_type": "stream",
     "text": [
      "Evaluation scores: MSE - 0.02304116263985634, RMSE - 0.14991340041160583, MAE - 0.14702670276165009, MAPE - 0.1661567986011505\n"
     ]
    },
    {
     "name": "stderr",
     "output_type": "stream",
     "text": [
      "Epoch 10 - Training: 100%|██████████| 45/45 [00:00<00:00, 167.07it/s, loss=0.010292628578220804]\n",
      "Epoch 10 - Evaluation: 100%|██████████| 52/52 [00:00<00:00, 783.15it/s, loss=0.0016100077723072341]\n"
     ]
    },
    {
     "name": "stdout",
     "output_type": "stream",
     "text": [
      "Evaluation scores: MSE - 0.0016100078355520964, RMSE - 0.03874984383583069, MAE - 0.03319534286856651, MAPE - 0.03767356276512146\n"
     ]
    },
    {
     "name": "stderr",
     "output_type": "stream",
     "text": [
      "Epoch 11 - Training: 100%|██████████| 45/45 [00:00<00:00, 161.85it/s, loss=0.010220515458948082]\n",
      "Epoch 11 - Evaluation: 100%|██████████| 52/52 [00:00<00:00, 727.26it/s, loss=0.008463407891283099]\n"
     ]
    },
    {
     "name": "stdout",
     "output_type": "stream",
     "text": [
      "Evaluation scores: MSE - 0.008463408797979355, RMSE - 0.09049437940120697, MAE - 0.08594375103712082, MAPE - 0.09743797034025192\n"
     ]
    },
    {
     "name": "stderr",
     "output_type": "stream",
     "text": [
      "Epoch 12 - Training: 100%|██████████| 45/45 [00:00<00:00, 156.97it/s, loss=0.008462765699045525]\n",
      "Epoch 12 - Evaluation: 100%|██████████| 52/52 [00:00<00:00, 726.10it/s, loss=0.024127509247941468] \n"
     ]
    },
    {
     "name": "stdout",
     "output_type": "stream",
     "text": [
      "Evaluation scores: MSE - 0.02412751317024231, RMSE - 0.15250173211097717, MAE - 0.14969022572040558, MAPE - 0.16913941502571106\n"
     ]
    },
    {
     "name": "stderr",
     "output_type": "stream",
     "text": [
      "Epoch 13 - Training: 100%|██████████| 45/45 [00:00<00:00, 157.93it/s, loss=0.015822387341823844]\n",
      "Epoch 13 - Evaluation: 100%|██████████| 52/52 [00:00<00:00, 715.85it/s, loss=0.011571878365849933]\n"
     ]
    },
    {
     "name": "stdout",
     "output_type": "stream",
     "text": [
      "Evaluation scores: MSE - 0.01157187856733799, RMSE - 0.10749770700931549, MAE - 0.10398449748754501, MAPE - 0.11771316081285477\n"
     ]
    },
    {
     "name": "stderr",
     "output_type": "stream",
     "text": [
      "Epoch 14 - Training: 100%|██████████| 45/45 [00:00<00:00, 163.14it/s, loss=0.009304227866232395]\n",
      "Epoch 14 - Evaluation: 100%|██████████| 52/52 [00:00<00:00, 672.71it/s, loss=0.013673436456324102]\n"
     ]
    },
    {
     "name": "stdout",
     "output_type": "stream",
     "text": [
      "Evaluation scores: MSE - 0.013673435896635056, RMSE - 0.11580074578523636, MAE - 0.1122998520731926, MAPE - 0.12707719206809998\n"
     ]
    },
    {
     "name": "stderr",
     "output_type": "stream",
     "text": [
      "Epoch 15 - Training: 100%|██████████| 45/45 [00:00<00:00, 153.93it/s, loss=0.00826379025561942]  \n",
      "Epoch 15 - Evaluation: 100%|██████████| 52/52 [00:00<00:00, 704.05it/s, loss=0.02882506692996965] \n"
     ]
    },
    {
     "name": "stdout",
     "output_type": "stream",
     "text": [
      "Evaluation scores: MSE - 0.0288250669836998, RMSE - 0.16952462494373322, MAE - 0.1672026515007019, MAPE - 0.18881791830062866\n"
     ]
    },
    {
     "name": "stderr",
     "output_type": "stream",
     "text": [
      "Epoch 16 - Training: 100%|██████████| 45/45 [00:00<00:00, 158.10it/s, loss=0.008200621056473918]\n",
      "Epoch 16 - Evaluation: 100%|██████████| 52/52 [00:00<00:00, 688.57it/s, loss=0.026583042944996402]\n"
     ]
    },
    {
     "name": "stdout",
     "output_type": "stream",
     "text": [
      "Evaluation scores: MSE - 0.02658304199576378, RMSE - 0.16224542260169983, MAE - 0.15978145599365234, MAPE - 0.1804662048816681\n"
     ]
    },
    {
     "name": "stderr",
     "output_type": "stream",
     "text": [
      "Epoch 17 - Training: 100%|██████████| 45/45 [00:00<00:00, 167.57it/s, loss=0.00763587552226252]  \n",
      "Epoch 17 - Evaluation: 100%|██████████| 52/52 [00:00<00:00, 554.51it/s, loss=0.02309573400550737] \n"
     ]
    },
    {
     "name": "stdout",
     "output_type": "stream",
     "text": [
      "Evaluation scores: MSE - 0.023095732554793358, RMSE - 0.150661438703537, MAE - 0.1480569839477539, MAPE - 0.1672796607017517\n"
     ]
    },
    {
     "name": "stderr",
     "output_type": "stream",
     "text": [
      "Epoch 18 - Training: 100%|██████████| 45/45 [00:00<00:00, 158.43it/s, loss=0.012454633849362533] \n",
      "Epoch 18 - Evaluation: 100%|██████████| 52/52 [00:00<00:00, 536.17it/s, loss=0.02797665264314184] \n"
     ]
    },
    {
     "name": "stdout",
     "output_type": "stream",
     "text": [
      "Evaluation scores: MSE - 0.02797665074467659, RMSE - 0.15221744775772095, MAE - 0.14922651648521423, MAPE - 0.16856509447097778\n"
     ]
    },
    {
     "name": "stderr",
     "output_type": "stream",
     "text": [
      "Epoch 19 - Training: 100%|██████████| 45/45 [00:00<00:00, 151.79it/s, loss=0.010833718907088041]\n",
      "Epoch 19 - Evaluation: 100%|██████████| 52/52 [00:00<00:00, 425.84it/s, loss=0.01461909746285528] \n"
     ]
    },
    {
     "name": "stdout",
     "output_type": "stream",
     "text": [
      "Evaluation scores: MSE - 0.014619097113609314, RMSE - 0.12009219825267792, MAE - 0.11700759083032608, MAPE - 0.13234585523605347\n"
     ]
    },
    {
     "name": "stderr",
     "output_type": "stream",
     "text": [
      "Epoch 20 - Training: 100%|██████████| 45/45 [00:00<00:00, 131.22it/s, loss=0.007292815861809585] \n",
      "Epoch 20 - Evaluation: 100%|██████████| 52/52 [00:00<00:00, 446.86it/s, loss=0.007920630912009913]\n"
     ]
    },
    {
     "name": "stdout",
     "output_type": "stream",
     "text": [
      "Evaluation scores: MSE - 0.00792063120752573, RMSE - 0.08778488636016846, MAE - 0.08338962495326996, MAPE - 0.09452497959136963\n",
      "Finish training!\n",
      "Start testing!\n",
      "Loading checkpoint from  .\\model_application\\experiment\\saved_checkpoint\\deep_learning\\gru\\vcb\\multi_steps\\best_model.pth\n"
     ]
    },
    {
     "name": "stderr",
     "output_type": "stream",
     "text": [
      "Epoch 10 - Evaluation: 100%|██████████| 47/47 [00:00<00:00, 348.88it/s, loss=0.005197369908428493] "
     ]
    },
    {
     "name": "stdout",
     "output_type": "stream",
     "text": [
      "Evaluation scores: MSE - 0.005197369493544102, RMSE - 0.07155822217464447, MAE - 0.06596017628908157, MAPE - 0.07190408557653427\n",
      "Thời gian tính toán (test dataset): 0.14 giây (0.00 phút)\n"
     ]
    },
    {
     "name": "stderr",
     "output_type": "stream",
     "text": [
      "\n"
     ]
    }
   ],
   "source": [
    "vcb_gru_executor.run(vcb_train, vcb_validation, vcb_test)"
   ]
  },
  {
   "cell_type": "markdown",
   "id": "0484a9bd",
   "metadata": {},
   "source": [
    "## BIDV"
   ]
  },
  {
   "cell_type": "code",
   "execution_count": 21,
   "id": "34ea7463",
   "metadata": {},
   "outputs": [],
   "source": [
    "bid_checkpoint_path = \".\\\\model_application\\\\experiment\\\\saved_checkpoint\\\\deep_learning\\\\gru\\\\bid\\\\multi_steps\""
   ]
  },
  {
   "cell_type": "code",
   "execution_count": 22,
   "id": "7c4dfe6d",
   "metadata": {},
   "outputs": [
    {
     "name": "stdout",
     "output_type": "stream",
     "text": [
      "GRU(\n",
      "  (gru): GRU(9, 50, num_layers=9, batch_first=True)\n",
      "  (dropout): Dropout(p=0.3, inplace=False)\n",
      "  (norm): LayerNorm((50,), eps=1e-05, elementwise_affine=True)\n",
      "  (linear): Linear(in_features=50, out_features=4, bias=True)\n",
      ")\n"
     ]
    }
   ],
   "source": [
    "bid_gru_executor = ModelExecutor(\n",
    "    device=DEVICE,\n",
    "    learning_rate = LEARNING_RATE,\n",
    "    checkpoint_path=bid_checkpoint_path,\n",
    "    scaler_path=bid_scaler_path,\n",
    "    model_type=MODEL_TYPE,\n",
    "    input_size=INPUT_SIZE,\n",
    "    hidden_size=HIDDEN_SIZE,\n",
    "    num_layers=NUM_LAYERS,\n",
    "    dropout_prob=DROPOUT_PROB,\n",
    "    n_steps=N_STEPS,\n",
    "    num_epochs=NUM_EPOCHS,\n",
    "    use_amp=USE_AMP,\n",
    "    batch_size=BATCH_SIZE\n",
    ")"
   ]
  },
  {
   "cell_type": "code",
   "execution_count": 23,
   "id": "083855c0",
   "metadata": {},
   "outputs": [
    {
     "name": "stdout",
     "output_type": "stream",
     "text": [
      "Start training!\n"
     ]
    },
    {
     "name": "stderr",
     "output_type": "stream",
     "text": [
      "Epoch 1 - Training: 100%|██████████| 42/42 [00:00<00:00, 126.43it/s, loss=0.19675880812463306]\n",
      "Epoch 1 - Evaluation: 100%|██████████| 47/47 [00:00<00:00, 520.82it/s, loss=0.0028762497352138954]\n"
     ]
    },
    {
     "name": "stdout",
     "output_type": "stream",
     "text": [
      "Evaluation scores: MSE - 0.0028762496076524258, RMSE - 0.05206094682216644, MAE - 0.043936047703027725, MAPE - 0.05960353463888168\n"
     ]
    },
    {
     "name": "stderr",
     "output_type": "stream",
     "text": [
      "Epoch 2 - Training: 100%|██████████| 42/42 [00:00<00:00, 141.49it/s, loss=0.08346458036629927]\n",
      "Epoch 2 - Evaluation: 100%|██████████| 47/47 [00:00<00:00, 435.77it/s, loss=0.015034273108269306]\n"
     ]
    },
    {
     "name": "stdout",
     "output_type": "stream",
     "text": [
      "Evaluation scores: MSE - 0.015034273266792297, RMSE - 0.10516583919525146, MAE - 0.10004650056362152, MAPE - 0.138305202126503\n"
     ]
    },
    {
     "name": "stderr",
     "output_type": "stream",
     "text": [
      "Epoch 3 - Training: 100%|██████████| 42/42 [00:00<00:00, 132.95it/s, loss=0.05137502251281625] \n",
      "Epoch 3 - Evaluation: 100%|██████████| 47/47 [00:00<00:00, 580.89it/s, loss=0.027735659773362443]\n"
     ]
    },
    {
     "name": "stdout",
     "output_type": "stream",
     "text": [
      "Evaluation scores: MSE - 0.02773566171526909, RMSE - 0.1565377116203308, MAE - 0.15247705578804016, MAPE - 0.21060043573379517\n"
     ]
    },
    {
     "name": "stderr",
     "output_type": "stream",
     "text": [
      "Epoch 4 - Training: 100%|██████████| 42/42 [00:00<00:00, 113.54it/s, loss=0.035497812288148065]\n",
      "Epoch 4 - Evaluation: 100%|██████████| 47/47 [00:00<00:00, 439.77it/s, loss=0.024268863742497374]\n"
     ]
    },
    {
     "name": "stdout",
     "output_type": "stream",
     "text": [
      "Evaluation scores: MSE - 0.02426886186003685, RMSE - 0.1491958498954773, MAE - 0.14424774050712585, MAPE - 0.19913774728775024\n"
     ]
    },
    {
     "name": "stderr",
     "output_type": "stream",
     "text": [
      "Epoch 5 - Training: 100%|██████████| 42/42 [00:00<00:00, 113.31it/s, loss=0.02914495502288143] \n",
      "Epoch 5 - Evaluation: 100%|██████████| 47/47 [00:00<00:00, 405.39it/s, loss=0.022248897305194366]\n"
     ]
    },
    {
     "name": "stdout",
     "output_type": "stream",
     "text": [
      "Evaluation scores: MSE - 0.022248897701501846, RMSE - 0.1458287388086319, MAE - 0.1416914016008377, MAPE - 0.1957048773765564\n"
     ]
    },
    {
     "name": "stderr",
     "output_type": "stream",
     "text": [
      "Epoch 6 - Training: 100%|██████████| 42/42 [00:00<00:00, 142.27it/s, loss=0.018993943752277465]\n",
      "Epoch 6 - Evaluation: 100%|██████████| 47/47 [00:00<00:00, 575.92it/s, loss=0.026035760846385297]\n"
     ]
    },
    {
     "name": "stdout",
     "output_type": "stream",
     "text": [
      "Evaluation scores: MSE - 0.02603575959801674, RMSE - 0.160281702876091, MAE - 0.15544170141220093, MAPE - 0.2139626145362854\n"
     ]
    },
    {
     "name": "stderr",
     "output_type": "stream",
     "text": [
      "Epoch 7 - Training: 100%|██████████| 42/42 [00:00<00:00, 134.80it/s, loss=0.01311022247232142] \n",
      "Epoch 7 - Evaluation: 100%|██████████| 47/47 [00:00<00:00, 441.63it/s, loss=0.02352308545340883] \n"
     ]
    },
    {
     "name": "stdout",
     "output_type": "stream",
     "text": [
      "Evaluation scores: MSE - 0.023523086681962013, RMSE - 0.14880162477493286, MAE - 0.14345085620880127, MAPE - 0.19773685932159424\n"
     ]
    },
    {
     "name": "stderr",
     "output_type": "stream",
     "text": [
      "Epoch 8 - Training: 100%|██████████| 42/42 [00:00<00:00, 140.43it/s, loss=0.01344441179008711] \n",
      "Epoch 8 - Evaluation: 100%|██████████| 47/47 [00:00<00:00, 441.41it/s, loss=0.014055335190781254]\n"
     ]
    },
    {
     "name": "stdout",
     "output_type": "stream",
     "text": [
      "Evaluation scores: MSE - 0.014055335894227028, RMSE - 0.11675867438316345, MAE - 0.10978870093822479, MAPE - 0.15152154862880707\n"
     ]
    },
    {
     "name": "stderr",
     "output_type": "stream",
     "text": [
      "Epoch 9 - Training: 100%|██████████| 42/42 [00:00<00:00, 129.08it/s, loss=0.011913610699897012]\n",
      "Epoch 9 - Evaluation: 100%|██████████| 47/47 [00:00<00:00, 530.76it/s, loss=0.03454979172253862] \n"
     ]
    },
    {
     "name": "stdout",
     "output_type": "stream",
     "text": [
      "Evaluation scores: MSE - 0.03454979136586189, RMSE - 0.18470440804958344, MAE - 0.18069113790988922, MAPE - 0.24850675463676453\n"
     ]
    },
    {
     "name": "stderr",
     "output_type": "stream",
     "text": [
      "Epoch 10 - Training: 100%|██████████| 42/42 [00:00<00:00, 144.46it/s, loss=0.013151406110929591]\n",
      "Epoch 10 - Evaluation: 100%|██████████| 47/47 [00:00<00:00, 579.83it/s, loss=0.014436528958538745]\n"
     ]
    },
    {
     "name": "stdout",
     "output_type": "stream",
     "text": [
      "Evaluation scores: MSE - 0.014436529949307442, RMSE - 0.11964297294616699, MAE - 0.11409707367420197, MAPE - 0.15761274099349976\n"
     ]
    },
    {
     "name": "stderr",
     "output_type": "stream",
     "text": [
      "Epoch 11 - Training: 100%|██████████| 42/42 [00:00<00:00, 134.25it/s, loss=0.010642634638186012]\n",
      "Epoch 11 - Evaluation: 100%|██████████| 47/47 [00:00<00:00, 525.87it/s, loss=0.02581484530596657] \n"
     ]
    },
    {
     "name": "stdout",
     "output_type": "stream",
     "text": [
      "Evaluation scores: MSE - 0.0258148442953825, RMSE - 0.1604534238576889, MAE - 0.1564512848854065, MAPE - 0.21552293002605438\n",
      "Finish training!\n",
      "Start testing!\n",
      "Loading checkpoint from  .\\model_application\\experiment\\saved_checkpoint\\deep_learning\\gru\\bid\\multi_steps\\best_model.pth\n"
     ]
    },
    {
     "name": "stderr",
     "output_type": "stream",
     "text": [
      "Epoch 1 - Evaluation: 100%|██████████| 42/42 [00:00<00:00, 582.73it/s, loss=0.007318620969142232] "
     ]
    },
    {
     "name": "stdout",
     "output_type": "stream",
     "text": [
      "Evaluation scores: MSE - 0.007318621035665274, RMSE - 0.07972408086061478, MAE - 0.07589362561702728, MAPE - 0.09348311275243759\n",
      "Thời gian tính toán (test dataset): 0.08 giây (0.00 phút)\n"
     ]
    },
    {
     "name": "stderr",
     "output_type": "stream",
     "text": [
      "\n"
     ]
    }
   ],
   "source": [
    "bid_gru_executor.run(bid_train, bid_validation, bid_test)"
   ]
  },
  {
   "cell_type": "markdown",
   "id": "6e5483fb",
   "metadata": {},
   "source": [
    "## Techcombank"
   ]
  },
  {
   "cell_type": "code",
   "execution_count": 24,
   "id": "b3003017",
   "metadata": {},
   "outputs": [],
   "source": [
    "tcb_checkpoint_path = \".\\\\model_application\\\\experiment\\\\saved_checkpoint\\\\deep_learning\\\\gru\\\\tcb\\\\multi_steps\""
   ]
  },
  {
   "cell_type": "code",
   "execution_count": 25,
   "id": "4695e488",
   "metadata": {},
   "outputs": [
    {
     "name": "stdout",
     "output_type": "stream",
     "text": [
      "GRU(\n",
      "  (gru): GRU(9, 50, num_layers=9, batch_first=True)\n",
      "  (dropout): Dropout(p=0.3, inplace=False)\n",
      "  (norm): LayerNorm((50,), eps=1e-05, elementwise_affine=True)\n",
      "  (linear): Linear(in_features=50, out_features=4, bias=True)\n",
      ")\n"
     ]
    }
   ],
   "source": [
    "tcb_gru_executor = ModelExecutor(\n",
    "    device=DEVICE,\n",
    "    learning_rate = LEARNING_RATE,\n",
    "    checkpoint_path=tcb_checkpoint_path,\n",
    "    scaler_path=tcb_scaler_path,\n",
    "    model_type=MODEL_TYPE,\n",
    "    input_size=INPUT_SIZE,\n",
    "    hidden_size=HIDDEN_SIZE,\n",
    "    num_layers=NUM_LAYERS,\n",
    "    dropout_prob=DROPOUT_PROB,\n",
    "    n_steps=N_STEPS,\n",
    "    num_epochs=NUM_EPOCHS,\n",
    "    use_amp=USE_AMP,\n",
    "    batch_size=BATCH_SIZE\n",
    ")"
   ]
  },
  {
   "cell_type": "code",
   "execution_count": 26,
   "id": "a365cdad",
   "metadata": {},
   "outputs": [
    {
     "name": "stdout",
     "output_type": "stream",
     "text": [
      "Start training!\n"
     ]
    },
    {
     "name": "stderr",
     "output_type": "stream",
     "text": [
      "Epoch 1 - Training: 100%|██████████| 35/35 [00:00<00:00, 133.47it/s, loss=0.2115672019975526] \n",
      "Epoch 1 - Evaluation: 100%|██████████| 34/34 [00:00<00:00, 583.57it/s, loss=0.054200416869100404]\n"
     ]
    },
    {
     "name": "stdout",
     "output_type": "stream",
     "text": [
      "Evaluation scores: MSE - 0.054200418293476105, RMSE - 0.22821715474128723, MAE - 0.22563770413398743, MAPE - 0.264252632856369\n"
     ]
    },
    {
     "name": "stderr",
     "output_type": "stream",
     "text": [
      "Epoch 2 - Training: 100%|██████████| 35/35 [00:00<00:00, 142.26it/s, loss=0.11149059448923383]\n",
      "Epoch 2 - Evaluation: 100%|██████████| 34/34 [00:00<00:00, 551.82it/s, loss=0.012464264695368269]\n"
     ]
    },
    {
     "name": "stdout",
     "output_type": "stream",
     "text": [
      "Evaluation scores: MSE - 0.012464266270399094, RMSE - 0.10976872593164444, MAE - 0.10443057864904404, MAPE - 0.1245955228805542\n"
     ]
    },
    {
     "name": "stderr",
     "output_type": "stream",
     "text": [
      "Epoch 3 - Training: 100%|██████████| 35/35 [00:00<00:00, 149.88it/s, loss=0.061996767563479285]\n",
      "Epoch 3 - Evaluation: 100%|██████████| 34/34 [00:00<00:00, 496.08it/s, loss=0.023418234907748067]\n"
     ]
    },
    {
     "name": "stdout",
     "output_type": "stream",
     "text": [
      "Evaluation scores: MSE - 0.023418236523866653, RMSE - 0.14845159649848938, MAE - 0.1441490799188614, MAPE - 0.17145682871341705\n"
     ]
    },
    {
     "name": "stderr",
     "output_type": "stream",
     "text": [
      "Epoch 4 - Training: 100%|██████████| 35/35 [00:00<00:00, 128.64it/s, loss=0.045059581845998765]\n",
      "Epoch 4 - Evaluation: 100%|██████████| 34/34 [00:00<00:00, 472.37it/s, loss=0.015058372539522894]\n"
     ]
    },
    {
     "name": "stdout",
     "output_type": "stream",
     "text": [
      "Evaluation scores: MSE - 0.015058372169733047, RMSE - 0.11980508267879486, MAE - 0.11445877701044083, MAPE - 0.13646258413791656\n"
     ]
    },
    {
     "name": "stderr",
     "output_type": "stream",
     "text": [
      "Epoch 5 - Training: 100%|██████████| 35/35 [00:00<00:00, 161.48it/s, loss=0.03664467680667128] \n",
      "Epoch 5 - Evaluation: 100%|██████████| 34/34 [00:00<00:00, 421.04it/s, loss=0.020956179976244185]\n"
     ]
    },
    {
     "name": "stdout",
     "output_type": "stream",
     "text": [
      "Evaluation scores: MSE - 0.02095617912709713, RMSE - 0.14166025817394257, MAE - 0.13709035515785217, MAPE - 0.1631505787372589\n"
     ]
    },
    {
     "name": "stderr",
     "output_type": "stream",
     "text": [
      "Epoch 6 - Training: 100%|██████████| 35/35 [00:00<00:00, 134.35it/s, loss=0.030339963787368366]\n",
      "Epoch 6 - Evaluation: 100%|██████████| 34/34 [00:00<00:00, 524.34it/s, loss=0.005778773971970248] \n"
     ]
    },
    {
     "name": "stdout",
     "output_type": "stream",
     "text": [
      "Evaluation scores: MSE - 0.005778773687779903, RMSE - 0.06928517669439316, MAE - 0.06244489550590515, MAPE - 0.07446767389774323\n"
     ]
    },
    {
     "name": "stderr",
     "output_type": "stream",
     "text": [
      "Epoch 7 - Training: 100%|██████████| 35/35 [00:00<00:00, 143.35it/s, loss=0.02411062568426132] \n",
      "Epoch 7 - Evaluation: 100%|██████████| 34/34 [00:00<00:00, 554.00it/s, loss=0.01240315695074113] \n"
     ]
    },
    {
     "name": "stdout",
     "output_type": "stream",
     "text": [
      "Evaluation scores: MSE - 0.01240315567702055, RMSE - 0.10849906504154205, MAE - 0.10186951607465744, MAPE - 0.12172067165374756\n"
     ]
    },
    {
     "name": "stderr",
     "output_type": "stream",
     "text": [
      "Epoch 8 - Training: 100%|██████████| 35/35 [00:00<00:00, 115.98it/s, loss=0.02055303451738187] \n",
      "Epoch 8 - Evaluation: 100%|██████████| 34/34 [00:00<00:00, 446.14it/s, loss=0.010682590668747091]\n"
     ]
    },
    {
     "name": "stdout",
     "output_type": "stream",
     "text": [
      "Evaluation scores: MSE - 0.010682589374482632, RMSE - 0.10158614814281464, MAE - 0.09447070211172104, MAPE - 0.11300555616617203\n"
     ]
    },
    {
     "name": "stderr",
     "output_type": "stream",
     "text": [
      "Epoch 9 - Training: 100%|██████████| 35/35 [00:00<00:00, 108.11it/s, loss=0.016470542550086974]\n",
      "Epoch 9 - Evaluation: 100%|██████████| 34/34 [00:00<00:00, 451.30it/s, loss=0.017009951215346947]\n"
     ]
    },
    {
     "name": "stdout",
     "output_type": "stream",
     "text": [
      "Evaluation scores: MSE - 0.017009951174259186, RMSE - 0.12594130635261536, MAE - 0.11972207576036453, MAPE - 0.14277437329292297\n"
     ]
    },
    {
     "name": "stderr",
     "output_type": "stream",
     "text": [
      "Epoch 10 - Training: 100%|██████████| 35/35 [00:00<00:00, 113.76it/s, loss=0.016105919757059644]\n",
      "Epoch 10 - Evaluation: 100%|██████████| 34/34 [00:00<00:00, 556.13it/s, loss=0.025678948663613376]\n"
     ]
    },
    {
     "name": "stdout",
     "output_type": "stream",
     "text": [
      "Evaluation scores: MSE - 0.025678951293230057, RMSE - 0.15748083591461182, MAE - 0.1533638834953308, MAPE - 0.18231350183486938\n"
     ]
    },
    {
     "name": "stderr",
     "output_type": "stream",
     "text": [
      "Epoch 11 - Training: 100%|██████████| 35/35 [00:00<00:00, 148.44it/s, loss=0.012369044883442776]\n",
      "Epoch 11 - Evaluation: 100%|██████████| 34/34 [00:00<00:00, 439.69it/s, loss=0.011780943529789938]\n"
     ]
    },
    {
     "name": "stdout",
     "output_type": "stream",
     "text": [
      "Evaluation scores: MSE - 0.011780943721532822, RMSE - 0.10401978343725204, MAE - 0.09670298546552658, MAPE - 0.11561965197324753\n"
     ]
    },
    {
     "name": "stderr",
     "output_type": "stream",
     "text": [
      "Epoch 12 - Training: 100%|██████████| 35/35 [00:00<00:00, 134.24it/s, loss=0.01162983901532633] \n",
      "Epoch 12 - Evaluation: 100%|██████████| 34/34 [00:00<00:00, 552.95it/s, loss=0.006419411632711725] \n"
     ]
    },
    {
     "name": "stdout",
     "output_type": "stream",
     "text": [
      "Evaluation scores: MSE - 0.006419411860406399, RMSE - 0.07894070446491241, MAE - 0.0687466412782669, MAPE - 0.08272592723369598\n"
     ]
    },
    {
     "name": "stderr",
     "output_type": "stream",
     "text": [
      "Epoch 13 - Training: 100%|██████████| 35/35 [00:00<00:00, 146.67it/s, loss=0.0102380892661001]  \n",
      "Epoch 13 - Evaluation: 100%|██████████| 34/34 [00:00<00:00, 555.81it/s, loss=0.016271875335780138]\n"
     ]
    },
    {
     "name": "stdout",
     "output_type": "stream",
     "text": [
      "Evaluation scores: MSE - 0.01627187803387642, RMSE - 0.12591201066970825, MAE - 0.12036274373531342, MAPE - 0.14348892867565155\n"
     ]
    },
    {
     "name": "stderr",
     "output_type": "stream",
     "text": [
      "Epoch 14 - Training: 100%|██████████| 35/35 [00:00<00:00, 147.28it/s, loss=0.009197364587868963]\n",
      "Epoch 14 - Evaluation: 100%|██████████| 34/34 [00:00<00:00, 474.56it/s, loss=0.013033126234350836]\n"
     ]
    },
    {
     "name": "stdout",
     "output_type": "stream",
     "text": [
      "Evaluation scores: MSE - 0.013033125549554825, RMSE - 0.11185494065284729, MAE - 0.10539538413286209, MAPE - 0.12584973871707916\n"
     ]
    },
    {
     "name": "stderr",
     "output_type": "stream",
     "text": [
      "Epoch 15 - Training: 100%|██████████| 35/35 [00:00<00:00, 148.15it/s, loss=0.008704292441585234]\n",
      "Epoch 15 - Evaluation: 100%|██████████| 34/34 [00:00<00:00, 487.75it/s, loss=0.0067071389793829225]\n"
     ]
    },
    {
     "name": "stdout",
     "output_type": "stream",
     "text": [
      "Evaluation scores: MSE - 0.0067071388475596905, RMSE - 0.08077900111675262, MAE - 0.07116352021694183, MAPE - 0.08555203676223755\n"
     ]
    },
    {
     "name": "stderr",
     "output_type": "stream",
     "text": [
      "Epoch 16 - Training: 100%|██████████| 35/35 [00:00<00:00, 137.47it/s, loss=0.008420346717217139]\n",
      "Epoch 16 - Evaluation: 100%|██████████| 34/34 [00:00<00:00, 558.92it/s, loss=0.018247311948524678]\n"
     ]
    },
    {
     "name": "stdout",
     "output_type": "stream",
     "text": [
      "Evaluation scores: MSE - 0.01824730820953846, RMSE - 0.13342753052711487, MAE - 0.12806369364261627, MAPE - 0.15257123112678528\n",
      "Finish training!\n",
      "Start testing!\n",
      "Loading checkpoint from  .\\model_application\\experiment\\saved_checkpoint\\deep_learning\\gru\\tcb\\multi_steps\\best_model.pth\n"
     ]
    },
    {
     "name": "stderr",
     "output_type": "stream",
     "text": [
      "Epoch 6 - Evaluation: 100%|██████████| 29/29 [00:00<00:00, 563.42it/s, loss=0.020403498928223192]"
     ]
    },
    {
     "name": "stdout",
     "output_type": "stream",
     "text": [
      "Evaluation scores: MSE - 0.02040349878370762, RMSE - 0.13389189541339874, MAE - 0.12478511035442352, MAPE - 0.11750449985265732\n",
      "Thời gian tính toán (test dataset): 0.06 giây (0.00 phút)\n"
     ]
    },
    {
     "name": "stderr",
     "output_type": "stream",
     "text": [
      "\n"
     ]
    }
   ],
   "source": [
    "tcb_gru_executor.run(tcb_train, tcb_validation, tcb_test)"
   ]
  },
  {
   "cell_type": "code",
   "execution_count": null,
   "id": "e75cadb2",
   "metadata": {},
   "outputs": [],
   "source": []
  }
 ],
 "metadata": {
  "kernelspec": {
   "display_name": ".venv",
   "language": "python",
   "name": "python3"
  },
  "language_info": {
   "codemirror_mode": {
    "name": "ipython",
    "version": 3
   },
   "file_extension": ".py",
   "mimetype": "text/x-python",
   "name": "python",
   "nbconvert_exporter": "python",
   "pygments_lexer": "ipython3",
   "version": "3.11.9"
  }
 },
 "nbformat": 4,
 "nbformat_minor": 5
}
