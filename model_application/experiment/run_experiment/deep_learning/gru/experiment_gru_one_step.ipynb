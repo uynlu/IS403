{
 "cells": [
  {
   "cell_type": "code",
   "execution_count": 1,
   "id": "61a416b5",
   "metadata": {},
   "outputs": [
    {
     "name": "stdout",
     "output_type": "stream",
     "text": [
      "Thư mục làm việc hiện tại: D:\\UIT\\HK\\HK6\\IS403\\Đồ án\\Source code\n"
     ]
    }
   ],
   "source": [
    "import os\n",
    "os.chdir(\"D:\\\\UIT\\\\HK\\\\HK6\\\\IS403\\\\Đồ án\\\\Source code\")\n",
    "print(\"Thư mục làm việc hiện tại:\", os.getcwd())"
   ]
  },
  {
   "cell_type": "markdown",
   "id": "9a5b776e",
   "metadata": {},
   "source": [
    "# Import modules"
   ]
  },
  {
   "cell_type": "code",
   "execution_count": 2,
   "id": "f53a8a1b",
   "metadata": {},
   "outputs": [],
   "source": [
    "import torch"
   ]
  },
  {
   "cell_type": "code",
   "execution_count": 3,
   "id": "d98c317b",
   "metadata": {},
   "outputs": [],
   "source": [
    "from model_application.deep_learning.data import CustomDataset\n",
    "from model_application.deep_learning.execute import ModelExecutor"
   ]
  },
  {
   "cell_type": "markdown",
   "id": "fefbef4c",
   "metadata": {},
   "source": [
    "# Custom dataset"
   ]
  },
  {
   "cell_type": "code",
   "execution_count": 4,
   "id": "96be1fde",
   "metadata": {},
   "outputs": [],
   "source": [
    "LOOK_BACK = 30\n",
    "N_STEPS = 1"
   ]
  },
  {
   "cell_type": "markdown",
   "id": "e43a9b7f",
   "metadata": {},
   "source": [
    "## Vietcombank"
   ]
  },
  {
   "cell_type": "code",
   "execution_count": 5,
   "id": "83430bda",
   "metadata": {},
   "outputs": [],
   "source": [
    "vcb_scaler_path = \".\\\\model_application\\\\experiment\\\\saved_checkpoint\\\\deep_learning\\\\scaler\\\\vcb\""
   ]
  },
  {
   "cell_type": "code",
   "execution_count": 6,
   "id": "c1b20408",
   "metadata": {},
   "outputs": [
    {
     "data": {
      "text/plain": [
       "<model_application.deep_learning.data.custom_dataset.CustomDataset at 0x2137fb8e990>"
      ]
     },
     "execution_count": 6,
     "metadata": {},
     "output_type": "execute_result"
    }
   ],
   "source": [
    "vcb_train = CustomDataset(\".\\\\dataset\\\\official_dataset\\\\vcb\\\\vcb_train.csv\", vcb_scaler_path, LOOK_BACK, N_STEPS)\n",
    "vcb_train"
   ]
  },
  {
   "cell_type": "code",
   "execution_count": 7,
   "id": "076704ef",
   "metadata": {},
   "outputs": [
    {
     "data": {
      "text/plain": [
       "<model_application.deep_learning.data.custom_dataset.CustomDataset at 0x2137fc3f6d0>"
      ]
     },
     "execution_count": 7,
     "metadata": {},
     "output_type": "execute_result"
    }
   ],
   "source": [
    "vcb_validation = CustomDataset(\".\\\\dataset\\\\official_dataset\\\\vcb\\\\vcb_validation.csv\", vcb_scaler_path, LOOK_BACK, N_STEPS)\n",
    "vcb_validation"
   ]
  },
  {
   "cell_type": "code",
   "execution_count": 8,
   "id": "382daaad",
   "metadata": {},
   "outputs": [
    {
     "data": {
      "text/plain": [
       "<model_application.deep_learning.data.custom_dataset.CustomDataset at 0x2137fc3d2d0>"
      ]
     },
     "execution_count": 8,
     "metadata": {},
     "output_type": "execute_result"
    }
   ],
   "source": [
    "vcb_test = CustomDataset(\".\\\\dataset\\\\official_dataset\\\\vcb\\\\vcb_test.csv\", vcb_scaler_path, LOOK_BACK, N_STEPS)\n",
    "vcb_test"
   ]
  },
  {
   "cell_type": "markdown",
   "id": "d24cd96e",
   "metadata": {},
   "source": [
    "## BIDV"
   ]
  },
  {
   "cell_type": "code",
   "execution_count": 9,
   "id": "99458cb3",
   "metadata": {},
   "outputs": [],
   "source": [
    "bid_scaler_path = \".\\\\model_application\\\\experiment\\\\saved_checkpoint\\\\deep_learning\\\\scaler\\\\bid\""
   ]
  },
  {
   "cell_type": "code",
   "execution_count": 10,
   "id": "952484d5",
   "metadata": {},
   "outputs": [
    {
     "data": {
      "text/plain": [
       "<model_application.deep_learning.data.custom_dataset.CustomDataset at 0x2137fb24c50>"
      ]
     },
     "execution_count": 10,
     "metadata": {},
     "output_type": "execute_result"
    }
   ],
   "source": [
    "bid_train = CustomDataset(\".\\\\dataset\\\\official_dataset\\\\bid\\\\bid_train.csv\", bid_scaler_path, LOOK_BACK, N_STEPS)\n",
    "bid_train"
   ]
  },
  {
   "cell_type": "code",
   "execution_count": 11,
   "id": "b5889b5f",
   "metadata": {},
   "outputs": [
    {
     "data": {
      "text/plain": [
       "<model_application.deep_learning.data.custom_dataset.CustomDataset at 0x21335295690>"
      ]
     },
     "execution_count": 11,
     "metadata": {},
     "output_type": "execute_result"
    }
   ],
   "source": [
    "bid_validation = CustomDataset(\".\\\\dataset\\\\official_dataset\\\\bid\\\\bid_validation.csv\", bid_scaler_path, LOOK_BACK, N_STEPS)\n",
    "bid_validation"
   ]
  },
  {
   "cell_type": "code",
   "execution_count": 12,
   "id": "778b4fbe",
   "metadata": {},
   "outputs": [
    {
     "data": {
      "text/plain": [
       "<model_application.deep_learning.data.custom_dataset.CustomDataset at 0x2137fc4da50>"
      ]
     },
     "execution_count": 12,
     "metadata": {},
     "output_type": "execute_result"
    }
   ],
   "source": [
    "bid_test = CustomDataset(\".\\\\dataset\\\\official_dataset\\\\bid\\\\bid_test.csv\", bid_scaler_path, LOOK_BACK, N_STEPS)\n",
    "bid_test"
   ]
  },
  {
   "cell_type": "markdown",
   "id": "117b5247",
   "metadata": {},
   "source": [
    "## Techcombank"
   ]
  },
  {
   "cell_type": "code",
   "execution_count": 13,
   "id": "2e369101",
   "metadata": {},
   "outputs": [],
   "source": [
    "tcb_scaler_path = \".\\\\model_application\\\\experiment\\\\saved_checkpoint\\\\deep_learning\\\\scaler\\\\tcb\""
   ]
  },
  {
   "cell_type": "code",
   "execution_count": 14,
   "id": "437235e7",
   "metadata": {},
   "outputs": [
    {
     "data": {
      "text/plain": [
       "<model_application.deep_learning.data.custom_dataset.CustomDataset at 0x2137fc4d450>"
      ]
     },
     "execution_count": 14,
     "metadata": {},
     "output_type": "execute_result"
    }
   ],
   "source": [
    "tcb_train = CustomDataset(\".\\\\dataset\\\\official_dataset\\\\tcb\\\\tcb_train.csv\", tcb_scaler_path, LOOK_BACK, N_STEPS)\n",
    "tcb_train"
   ]
  },
  {
   "cell_type": "code",
   "execution_count": 15,
   "id": "70e328e6",
   "metadata": {},
   "outputs": [
    {
     "data": {
      "text/plain": [
       "<model_application.deep_learning.data.custom_dataset.CustomDataset at 0x2137fc52d90>"
      ]
     },
     "execution_count": 15,
     "metadata": {},
     "output_type": "execute_result"
    }
   ],
   "source": [
    "tcb_validation = CustomDataset(\".\\\\dataset\\\\official_dataset\\\\tcb\\\\tcb_validation.csv\", tcb_scaler_path, LOOK_BACK, N_STEPS)\n",
    "tcb_validation"
   ]
  },
  {
   "cell_type": "code",
   "execution_count": 16,
   "id": "bdbe80e5",
   "metadata": {},
   "outputs": [
    {
     "data": {
      "text/plain": [
       "<model_application.deep_learning.data.custom_dataset.CustomDataset at 0x2137fc51e50>"
      ]
     },
     "execution_count": 16,
     "metadata": {},
     "output_type": "execute_result"
    }
   ],
   "source": [
    "tcb_test = CustomDataset(\".\\\\dataset\\\\official_dataset\\\\tcb\\\\tcb_test.csv\", tcb_scaler_path, LOOK_BACK, N_STEPS)\n",
    "tcb_test"
   ]
  },
  {
   "cell_type": "markdown",
   "id": "64a48264",
   "metadata": {},
   "source": [
    "# Execute GRU"
   ]
  },
  {
   "cell_type": "code",
   "execution_count": 17,
   "id": "825e236e",
   "metadata": {},
   "outputs": [],
   "source": [
    "DEVICE = \"cuda\" if torch.cuda.is_available() else \"cpu\"\n",
    "LEARNING_RATE = 5e-4\n",
    "MODEL_TYPE = \"GRU\"\n",
    "INPUT_SIZE = 9\n",
    "HIDDEN_SIZE = 50\n",
    "NUM_LAYERS = 9\n",
    "DROPOUT_PROB = 0.3\n",
    "NUM_EPOCHS = 100\n",
    "USE_AMP = False\n",
    "BATCH_SIZE = 16"
   ]
  },
  {
   "cell_type": "markdown",
   "id": "dc58b8ae",
   "metadata": {},
   "source": [
    "## Vietcombank"
   ]
  },
  {
   "cell_type": "code",
   "execution_count": 18,
   "id": "5cb6f24d",
   "metadata": {},
   "outputs": [],
   "source": [
    "vcb_checkpoint_path = \".\\\\model_application\\\\experiment\\\\saved_checkpoint\\\\deep_learning\\\\gru\\\\vcb\\\\one_step\""
   ]
  },
  {
   "cell_type": "code",
   "execution_count": 19,
   "id": "5dd83a6d",
   "metadata": {},
   "outputs": [
    {
     "name": "stdout",
     "output_type": "stream",
     "text": [
      "GRU(\n",
      "  (gru): GRU(9, 50, num_layers=9, batch_first=True)\n",
      "  (dropout): Dropout(p=0.3, inplace=False)\n",
      "  (norm): LayerNorm((50,), eps=1e-05, elementwise_affine=True)\n",
      "  (linear): Linear(in_features=50, out_features=1, bias=True)\n",
      ")\n"
     ]
    }
   ],
   "source": [
    "vcb_gru_executor = ModelExecutor(\n",
    "    device=DEVICE,\n",
    "    learning_rate=LEARNING_RATE,\n",
    "    checkpoint_path=vcb_checkpoint_path,\n",
    "    scaler_path=vcb_scaler_path,\n",
    "    model_type=MODEL_TYPE,\n",
    "    input_size=INPUT_SIZE,\n",
    "    hidden_size=HIDDEN_SIZE,\n",
    "    num_layers=NUM_LAYERS,\n",
    "    dropout_prob=DROPOUT_PROB,\n",
    "    n_steps=N_STEPS,\n",
    "    num_epochs=NUM_EPOCHS,\n",
    "    use_amp=USE_AMP,\n",
    "    batch_size=BATCH_SIZE\n",
    ")"
   ]
  },
  {
   "cell_type": "code",
   "execution_count": 20,
   "id": "8bbeaecf",
   "metadata": {},
   "outputs": [
    {
     "name": "stdout",
     "output_type": "stream",
     "text": [
      "Start training!\n"
     ]
    },
    {
     "name": "stderr",
     "output_type": "stream",
     "text": [
      "Epoch 1 - Training: 100%|██████████| 45/45 [00:00<00:00, 85.54it/s, loss=0.1578689717584186]  \n",
      "Epoch 1 - Evaluation: 100%|██████████| 55/55 [00:00<00:00, 653.79it/s, loss=0.0030363976613774534]\n"
     ]
    },
    {
     "name": "stdout",
     "output_type": "stream",
     "text": [
      "Evaluation scores: MSE - 0.003036397509276867, RMSE - 0.055103518068790436, MAE - 0.050370607525110245, MAPE - 0.05734659358859062\n"
     ]
    },
    {
     "name": "stderr",
     "output_type": "stream",
     "text": [
      "Epoch 2 - Training: 100%|██████████| 45/45 [00:00<00:00, 132.22it/s, loss=0.04289741778953208] \n",
      "Epoch 2 - Evaluation: 100%|██████████| 55/55 [00:00<00:00, 608.22it/s, loss=0.055384679917584764]\n"
     ]
    },
    {
     "name": "stdout",
     "output_type": "stream",
     "text": [
      "Evaluation scores: MSE - 0.05538468062877655, RMSE - 0.23533950746059418, MAE - 0.2340182363986969, MAPE - 0.2641565501689911\n"
     ]
    },
    {
     "name": "stderr",
     "output_type": "stream",
     "text": [
      "Epoch 3 - Training: 100%|██████████| 45/45 [00:00<00:00, 129.91it/s, loss=0.020547503057039448]\n",
      "Epoch 3 - Evaluation: 100%|██████████| 55/55 [00:00<00:00, 675.49it/s, loss=0.054194987192749976]\n"
     ]
    },
    {
     "name": "stdout",
     "output_type": "stream",
     "text": [
      "Evaluation scores: MSE - 0.054194990545511246, RMSE - 0.23279817402362823, MAE - 0.2314833700656891, MAPE - 0.26129794120788574\n"
     ]
    },
    {
     "name": "stderr",
     "output_type": "stream",
     "text": [
      "Epoch 4 - Training: 100%|██████████| 45/45 [00:00<00:00, 150.24it/s, loss=0.015963980969455508]\n",
      "Epoch 4 - Evaluation: 100%|██████████| 55/55 [00:00<00:00, 733.49it/s, loss=0.05039767081087286] \n"
     ]
    },
    {
     "name": "stdout",
     "output_type": "stream",
     "text": [
      "Evaluation scores: MSE - 0.05039766803383827, RMSE - 0.22449424862861633, MAE - 0.2230745255947113, MAPE - 0.2518438994884491\n"
     ]
    },
    {
     "name": "stderr",
     "output_type": "stream",
     "text": [
      "Epoch 5 - Training: 100%|██████████| 45/45 [00:00<00:00, 162.43it/s, loss=0.013748335424396727]\n",
      "Epoch 5 - Evaluation: 100%|██████████| 55/55 [00:00<00:00, 729.98it/s, loss=0.010182235007893971]\n"
     ]
    },
    {
     "name": "stdout",
     "output_type": "stream",
     "text": [
      "Evaluation scores: MSE - 0.010182234458625317, RMSE - 0.10090705752372742, MAE - 0.09763406217098236, MAPE - 0.11064201593399048\n"
     ]
    },
    {
     "name": "stderr",
     "output_type": "stream",
     "text": [
      "Epoch 6 - Training: 100%|██████████| 45/45 [00:00<00:00, 167.98it/s, loss=0.01093159603058464] \n",
      "Epoch 6 - Evaluation: 100%|██████████| 55/55 [00:00<00:00, 712.73it/s, loss=0.05522737543691288] \n"
     ]
    },
    {
     "name": "stdout",
     "output_type": "stream",
     "text": [
      "Evaluation scores: MSE - 0.0552273765206337, RMSE - 0.23500505089759827, MAE - 0.23359963297843933, MAPE - 0.26369839906692505\n"
     ]
    },
    {
     "name": "stderr",
     "output_type": "stream",
     "text": [
      "Epoch 7 - Training: 100%|██████████| 45/45 [00:00<00:00, 161.45it/s, loss=0.009785384146703614]\n",
      "Epoch 7 - Evaluation: 100%|██████████| 55/55 [00:00<00:00, 680.15it/s, loss=0.04271592961793596] \n"
     ]
    },
    {
     "name": "stdout",
     "output_type": "stream",
     "text": [
      "Evaluation scores: MSE - 0.042715925723314285, RMSE - 0.20667831599712372, MAE - 0.20498213171958923, MAPE - 0.23149724304676056\n"
     ]
    },
    {
     "name": "stderr",
     "output_type": "stream",
     "text": [
      "Epoch 8 - Training: 100%|██████████| 45/45 [00:00<00:00, 161.32it/s, loss=0.008283526486613685]\n",
      "Epoch 8 - Evaluation: 100%|██████████| 55/55 [00:00<00:00, 693.81it/s, loss=0.028762358003719287]\n"
     ]
    },
    {
     "name": "stdout",
     "output_type": "stream",
     "text": [
      "Evaluation scores: MSE - 0.02876235730946064, RMSE - 0.1695946902036667, MAE - 0.1675454080104828, MAPE - 0.18934990465641022\n"
     ]
    },
    {
     "name": "stderr",
     "output_type": "stream",
     "text": [
      "Epoch 9 - Training: 100%|██████████| 45/45 [00:00<00:00, 158.59it/s, loss=0.008514504838320945] \n",
      "Epoch 9 - Evaluation: 100%|██████████| 55/55 [00:00<00:00, 720.63it/s, loss=0.01646307321180674] \n"
     ]
    },
    {
     "name": "stdout",
     "output_type": "stream",
     "text": [
      "Evaluation scores: MSE - 0.01646307483315468, RMSE - 0.1283085197210312, MAE - 0.1253162920475006, MAPE - 0.14183177053928375\n"
     ]
    },
    {
     "name": "stderr",
     "output_type": "stream",
     "text": [
      "Epoch 10 - Training: 100%|██████████| 45/45 [00:00<00:00, 155.23it/s, loss=0.007326152186012931] \n",
      "Epoch 10 - Evaluation: 100%|██████████| 55/55 [00:00<00:00, 759.01it/s, loss=0.048881992155855356]\n"
     ]
    },
    {
     "name": "stdout",
     "output_type": "stream",
     "text": [
      "Evaluation scores: MSE - 0.04888199642300606, RMSE - 0.22109273076057434, MAE - 0.21941916644573212, MAPE - 0.2477589100599289\n"
     ]
    },
    {
     "name": "stderr",
     "output_type": "stream",
     "text": [
      "Epoch 11 - Training: 100%|██████████| 45/45 [00:00<00:00, 158.24it/s, loss=0.008039890804017584]\n",
      "Epoch 11 - Evaluation: 100%|██████████| 55/55 [00:00<00:00, 717.17it/s, loss=0.03015565516596491] \n"
     ]
    },
    {
     "name": "stdout",
     "output_type": "stream",
     "text": [
      "Evaluation scores: MSE - 0.03015565685927868, RMSE - 0.17365384101867676, MAE - 0.17134515941143036, MAPE - 0.1936570703983307\n",
      "Finish training!\n",
      "Start testing!\n",
      "Loading checkpoint from  .\\model_application\\experiment\\saved_checkpoint\\deep_learning\\gru\\vcb\\one_step\\best_model.pth\n"
     ]
    },
    {
     "name": "stderr",
     "output_type": "stream",
     "text": [
      "Epoch 1 - Evaluation: 100%|██████████| 50/50 [00:00<00:00, 703.03it/s, loss=0.004433233684540028] "
     ]
    },
    {
     "name": "stdout",
     "output_type": "stream",
     "text": [
      "Evaluation scores: MSE - 0.004433233290910721, RMSE - 0.06658253073692322, MAE - 0.06174847111105919, MAPE - 0.06589052826166153\n",
      "Thời gian tính toán (test dataset): 0.07 giây (0.00 phút)\n"
     ]
    },
    {
     "name": "stderr",
     "output_type": "stream",
     "text": [
      "\n"
     ]
    }
   ],
   "source": [
    "vcb_gru_executor.run(vcb_train, vcb_validation, vcb_test)"
   ]
  },
  {
   "cell_type": "markdown",
   "id": "0484a9bd",
   "metadata": {},
   "source": [
    "## BIDV"
   ]
  },
  {
   "cell_type": "code",
   "execution_count": 21,
   "id": "34ea7463",
   "metadata": {},
   "outputs": [],
   "source": [
    "bid_checkpoint_path = \".\\\\model_application\\\\experiment\\\\saved_checkpoint\\\\deep_learning\\\\gru\\\\bid\\\\one_step\""
   ]
  },
  {
   "cell_type": "code",
   "execution_count": 22,
   "id": "7c4dfe6d",
   "metadata": {},
   "outputs": [
    {
     "name": "stdout",
     "output_type": "stream",
     "text": [
      "GRU(\n",
      "  (gru): GRU(9, 50, num_layers=9, batch_first=True)\n",
      "  (dropout): Dropout(p=0.3, inplace=False)\n",
      "  (norm): LayerNorm((50,), eps=1e-05, elementwise_affine=True)\n",
      "  (linear): Linear(in_features=50, out_features=1, bias=True)\n",
      ")\n"
     ]
    }
   ],
   "source": [
    "bid_gru_executor = ModelExecutor(\n",
    "    device=DEVICE,\n",
    "    learning_rate = LEARNING_RATE,\n",
    "    checkpoint_path=bid_checkpoint_path,\n",
    "    scaler_path=bid_scaler_path,\n",
    "    model_type=MODEL_TYPE,\n",
    "    input_size=INPUT_SIZE,\n",
    "    hidden_size=HIDDEN_SIZE,\n",
    "    num_layers=NUM_LAYERS,\n",
    "    dropout_prob=DROPOUT_PROB,\n",
    "    n_steps=N_STEPS,\n",
    "    num_epochs=NUM_EPOCHS,\n",
    "    use_amp=USE_AMP,\n",
    "    batch_size=BATCH_SIZE\n",
    ")"
   ]
  },
  {
   "cell_type": "code",
   "execution_count": 23,
   "id": "083855c0",
   "metadata": {},
   "outputs": [
    {
     "name": "stdout",
     "output_type": "stream",
     "text": [
      "Start training!\n"
     ]
    },
    {
     "name": "stderr",
     "output_type": "stream",
     "text": [
      "Epoch 1 - Training: 100%|██████████| 42/42 [00:00<00:00, 147.07it/s, loss=0.19236033134872005]\n",
      "Epoch 1 - Evaluation: 100%|██████████| 50/50 [00:00<00:00, 696.26it/s, loss=0.01615840565878898] \n"
     ]
    },
    {
     "name": "stdout",
     "output_type": "stream",
     "text": [
      "Evaluation scores: MSE - 0.01615840569138527, RMSE - 0.12711571156978607, MAE - 0.12095692753791809, MAPE - 0.16201508045196533\n"
     ]
    },
    {
     "name": "stderr",
     "output_type": "stream",
     "text": [
      "Epoch 2 - Training: 100%|██████████| 42/42 [00:00<00:00, 142.80it/s, loss=0.059455670948539464]\n",
      "Epoch 2 - Evaluation: 100%|██████████| 50/50 [00:00<00:00, 746.45it/s, loss=0.009663026126363548] \n"
     ]
    },
    {
     "name": "stdout",
     "output_type": "stream",
     "text": [
      "Evaluation scores: MSE - 0.009663025848567486, RMSE - 0.09830068796873093, MAE - 0.09142937511205673, MAPE - 0.12710466980934143\n"
     ]
    },
    {
     "name": "stderr",
     "output_type": "stream",
     "text": [
      "Epoch 3 - Training: 100%|██████████| 42/42 [00:00<00:00, 154.00it/s, loss=0.021426103998064286]\n",
      "Epoch 3 - Evaluation: 100%|██████████| 50/50 [00:00<00:00, 701.06it/s, loss=0.010537176730176725] \n"
     ]
    },
    {
     "name": "stdout",
     "output_type": "stream",
     "text": [
      "Evaluation scores: MSE - 0.010537177324295044, RMSE - 0.10265075415372849, MAE - 0.0956585481762886, MAPE - 0.13282372057437897\n"
     ]
    },
    {
     "name": "stderr",
     "output_type": "stream",
     "text": [
      "Epoch 4 - Training: 100%|██████████| 42/42 [00:00<00:00, 146.90it/s, loss=0.014850977741714035]\n",
      "Epoch 4 - Evaluation: 100%|██████████| 50/50 [00:00<00:00, 626.80it/s, loss=0.036824927311390636]\n"
     ]
    },
    {
     "name": "stdout",
     "output_type": "stream",
     "text": [
      "Evaluation scores: MSE - 0.03682492673397064, RMSE - 0.19189822673797607, MAE - 0.18779517710208893, MAPE - 0.25821933150291443\n"
     ]
    },
    {
     "name": "stderr",
     "output_type": "stream",
     "text": [
      "Epoch 5 - Training: 100%|██████████| 42/42 [00:00<00:00, 155.88it/s, loss=0.01078110424402569] \n",
      "Epoch 5 - Evaluation: 100%|██████████| 50/50 [00:00<00:00, 742.78it/s, loss=0.03180993124842644] \n"
     ]
    },
    {
     "name": "stdout",
     "output_type": "stream",
     "text": [
      "Evaluation scores: MSE - 0.031809933483600616, RMSE - 0.17835339903831482, MAE - 0.17421765625476837, MAPE - 0.2394234538078308\n"
     ]
    },
    {
     "name": "stderr",
     "output_type": "stream",
     "text": [
      "Epoch 6 - Training: 100%|██████████| 42/42 [00:00<00:00, 153.39it/s, loss=0.009435726362945778]\n",
      "Epoch 6 - Evaluation: 100%|██████████| 50/50 [00:00<00:00, 656.55it/s, loss=0.01693755427375436]  \n"
     ]
    },
    {
     "name": "stdout",
     "output_type": "stream",
     "text": [
      "Evaluation scores: MSE - 0.016937553882598877, RMSE - 0.13014435768127441, MAE - 0.12467828392982483, MAPE - 0.17174910008907318\n"
     ]
    },
    {
     "name": "stderr",
     "output_type": "stream",
     "text": [
      "Epoch 7 - Training: 100%|██████████| 42/42 [00:00<00:00, 139.97it/s, loss=0.0076582561568578796]\n",
      "Epoch 7 - Evaluation: 100%|██████████| 50/50 [00:00<00:00, 645.07it/s, loss=0.010064897442935034]\n"
     ]
    },
    {
     "name": "stdout",
     "output_type": "stream",
     "text": [
      "Evaluation scores: MSE - 0.010064897127449512, RMSE - 0.10032396018505096, MAE - 0.09336508065462112, MAPE - 0.12892590463161469\n"
     ]
    },
    {
     "name": "stderr",
     "output_type": "stream",
     "text": [
      "Epoch 8 - Training: 100%|██████████| 42/42 [00:00<00:00, 140.83it/s, loss=0.00657977792988753]  \n",
      "Epoch 8 - Evaluation: 100%|██████████| 50/50 [00:00<00:00, 715.56it/s, loss=0.013075964469462633]\n"
     ]
    },
    {
     "name": "stdout",
     "output_type": "stream",
     "text": [
      "Evaluation scores: MSE - 0.013075963594019413, RMSE - 0.11435017734766006, MAE - 0.10763179510831833, MAPE - 0.1481655389070511\n"
     ]
    },
    {
     "name": "stderr",
     "output_type": "stream",
     "text": [
      "Epoch 9 - Training: 100%|██████████| 42/42 [00:00<00:00, 166.25it/s, loss=0.005895050101181758] \n",
      "Epoch 9 - Evaluation: 100%|██████████| 50/50 [00:00<00:00, 752.66it/s, loss=0.012582518248818815] \n"
     ]
    },
    {
     "name": "stdout",
     "output_type": "stream",
     "text": [
      "Evaluation scores: MSE - 0.012582519091665745, RMSE - 0.11217182874679565, MAE - 0.10578367114067078, MAPE - 0.14554642140865326\n"
     ]
    },
    {
     "name": "stderr",
     "output_type": "stream",
     "text": [
      "Epoch 10 - Training: 100%|██████████| 42/42 [00:00<00:00, 159.49it/s, loss=0.006214348006150907] \n",
      "Epoch 10 - Evaluation: 100%|██████████| 50/50 [00:00<00:00, 779.36it/s, loss=0.008327126645017415] \n"
     ]
    },
    {
     "name": "stdout",
     "output_type": "stream",
     "text": [
      "Evaluation scores: MSE - 0.008327126502990723, RMSE - 0.09125308692455292, MAE - 0.08316898345947266, MAPE - 0.11463630944490433\n"
     ]
    },
    {
     "name": "stderr",
     "output_type": "stream",
     "text": [
      "Epoch 11 - Training: 100%|██████████| 42/42 [00:00<00:00, 159.54it/s, loss=0.005073522528012593] \n",
      "Epoch 11 - Evaluation: 100%|██████████| 50/50 [00:00<00:00, 627.07it/s, loss=0.01273703325074166] \n"
     ]
    },
    {
     "name": "stdout",
     "output_type": "stream",
     "text": [
      "Evaluation scores: MSE - 0.012737032026052475, RMSE - 0.11285845935344696, MAE - 0.10601766407489777, MAPE - 0.1455918848514557\n"
     ]
    },
    {
     "name": "stderr",
     "output_type": "stream",
     "text": [
      "Epoch 12 - Training: 100%|██████████| 42/42 [00:00<00:00, 138.01it/s, loss=0.005253716482825223] \n",
      "Epoch 12 - Evaluation: 100%|██████████| 50/50 [00:00<00:00, 478.24it/s, loss=0.009547201048117132]\n"
     ]
    },
    {
     "name": "stdout",
     "output_type": "stream",
     "text": [
      "Evaluation scores: MSE - 0.009547200985252857, RMSE - 0.0977097824215889, MAE - 0.08952947705984116, MAPE - 0.12304762750864029\n"
     ]
    },
    {
     "name": "stderr",
     "output_type": "stream",
     "text": [
      "Epoch 13 - Training: 100%|██████████| 42/42 [00:00<00:00, 150.75it/s, loss=0.005197023548784533] \n",
      "Epoch 13 - Evaluation: 100%|██████████| 50/50 [00:00<00:00, 641.81it/s, loss=0.021127617191523312]\n"
     ]
    },
    {
     "name": "stdout",
     "output_type": "stream",
     "text": [
      "Evaluation scores: MSE - 0.021127616986632347, RMSE - 0.14535342156887054, MAE - 0.14050538837909698, MAPE - 0.192522332072258\n"
     ]
    },
    {
     "name": "stderr",
     "output_type": "stream",
     "text": [
      "Epoch 14 - Training: 100%|██████████| 42/42 [00:00<00:00, 147.27it/s, loss=0.004884745545929209] \n",
      "Epoch 14 - Evaluation: 100%|██████████| 50/50 [00:00<00:00, 655.12it/s, loss=0.0030696686400302296]\n"
     ]
    },
    {
     "name": "stdout",
     "output_type": "stream",
     "text": [
      "Evaluation scores: MSE - 0.003069668309763074, RMSE - 0.05540458858013153, MAE - 0.043075233697891235, MAPE - 0.05953284353017807\n"
     ]
    },
    {
     "name": "stderr",
     "output_type": "stream",
     "text": [
      "Epoch 15 - Training: 100%|██████████| 42/42 [00:00<00:00, 147.10it/s, loss=0.004799777533792492] \n",
      "Epoch 15 - Evaluation: 100%|██████████| 50/50 [00:00<00:00, 670.25it/s, loss=0.009967793223913758]\n"
     ]
    },
    {
     "name": "stdout",
     "output_type": "stream",
     "text": [
      "Evaluation scores: MSE - 0.00996779277920723, RMSE - 0.09983883053064346, MAE - 0.09328818321228027, MAPE - 0.1280975043773651\n"
     ]
    },
    {
     "name": "stderr",
     "output_type": "stream",
     "text": [
      "Epoch 16 - Training: 100%|██████████| 42/42 [00:00<00:00, 143.77it/s, loss=0.004163885419811344] \n",
      "Epoch 16 - Evaluation: 100%|██████████| 50/50 [00:00<00:00, 554.42it/s, loss=0.013655117596499622]\n"
     ]
    },
    {
     "name": "stdout",
     "output_type": "stream",
     "text": [
      "Evaluation scores: MSE - 0.013655117712914944, RMSE - 0.11685511469841003, MAE - 0.1110592857003212, MAPE - 0.15212592482566833\n"
     ]
    },
    {
     "name": "stderr",
     "output_type": "stream",
     "text": [
      "Epoch 17 - Training: 100%|██████████| 42/42 [00:00<00:00, 142.93it/s, loss=0.004584932721973885] \n",
      "Epoch 17 - Evaluation: 100%|██████████| 50/50 [00:00<00:00, 686.91it/s, loss=0.022625405620783568]\n"
     ]
    },
    {
     "name": "stdout",
     "output_type": "stream",
     "text": [
      "Evaluation scores: MSE - 0.022625405341386795, RMSE - 0.15041743218898773, MAE - 0.14641158282756805, MAPE - 0.2003103494644165\n"
     ]
    },
    {
     "name": "stderr",
     "output_type": "stream",
     "text": [
      "Epoch 18 - Training: 100%|██████████| 42/42 [00:00<00:00, 142.21it/s, loss=0.0038231928566736834]\n",
      "Epoch 18 - Evaluation: 100%|██████████| 50/50 [00:00<00:00, 714.25it/s, loss=0.009647278962656856]\n"
     ]
    },
    {
     "name": "stdout",
     "output_type": "stream",
     "text": [
      "Evaluation scores: MSE - 0.009647279046475887, RMSE - 0.09822056442499161, MAE - 0.09257751703262329, MAPE - 0.12702365219593048\n"
     ]
    },
    {
     "name": "stderr",
     "output_type": "stream",
     "text": [
      "Epoch 19 - Training: 100%|██████████| 42/42 [00:00<00:00, 147.42it/s, loss=0.004710639790920098] \n",
      "Epoch 19 - Evaluation: 100%|██████████| 50/50 [00:00<00:00, 747.85it/s, loss=0.010994332553818821]\n"
     ]
    },
    {
     "name": "stdout",
     "output_type": "stream",
     "text": [
      "Evaluation scores: MSE - 0.01099433097988367, RMSE - 0.10485385358333588, MAE - 0.09907906502485275, MAPE - 0.13571229577064514\n"
     ]
    },
    {
     "name": "stderr",
     "output_type": "stream",
     "text": [
      "Epoch 20 - Training: 100%|██████████| 42/42 [00:00<00:00, 148.56it/s, loss=0.004032593456074773] \n",
      "Epoch 20 - Evaluation: 100%|██████████| 50/50 [00:00<00:00, 649.55it/s, loss=0.006737085167551413] \n"
     ]
    },
    {
     "name": "stdout",
     "output_type": "stream",
     "text": [
      "Evaluation scores: MSE - 0.006737085059285164, RMSE - 0.08207974582910538, MAE - 0.0750713124871254, MAPE - 0.10304954648017883\n"
     ]
    },
    {
     "name": "stderr",
     "output_type": "stream",
     "text": [
      "Epoch 21 - Training: 100%|██████████| 42/42 [00:00<00:00, 157.01it/s, loss=0.003908626294495272] \n",
      "Epoch 21 - Evaluation: 100%|██████████| 50/50 [00:00<00:00, 726.66it/s, loss=0.006682325178990141] \n"
     ]
    },
    {
     "name": "stdout",
     "output_type": "stream",
     "text": [
      "Evaluation scores: MSE - 0.006682324223220348, RMSE - 0.08174548298120499, MAE - 0.07469171285629272, MAPE - 0.10245458781719208\n"
     ]
    },
    {
     "name": "stderr",
     "output_type": "stream",
     "text": [
      "Epoch 22 - Training: 100%|██████████| 42/42 [00:00<00:00, 155.68it/s, loss=0.003983621346941661] \n",
      "Epoch 22 - Evaluation: 100%|██████████| 50/50 [00:00<00:00, 616.11it/s, loss=0.020569114349782466]\n"
     ]
    },
    {
     "name": "stdout",
     "output_type": "stream",
     "text": [
      "Evaluation scores: MSE - 0.02056911401450634, RMSE - 0.14341937005519867, MAE - 0.1403571516275406, MAPE - 0.19231891632080078\n"
     ]
    },
    {
     "name": "stderr",
     "output_type": "stream",
     "text": [
      "Epoch 23 - Training: 100%|██████████| 42/42 [00:00<00:00, 147.39it/s, loss=0.004023729557437556] \n",
      "Epoch 23 - Evaluation: 100%|██████████| 50/50 [00:00<00:00, 653.41it/s, loss=0.010258709341287612]\n"
     ]
    },
    {
     "name": "stdout",
     "output_type": "stream",
     "text": [
      "Evaluation scores: MSE - 0.010258709080517292, RMSE - 0.10128528624773026, MAE - 0.0962774008512497, MAPE - 0.13185811042785645\n"
     ]
    },
    {
     "name": "stderr",
     "output_type": "stream",
     "text": [
      "Epoch 24 - Training: 100%|██████████| 42/42 [00:00<00:00, 154.79it/s, loss=0.003921250755887567] \n",
      "Epoch 24 - Evaluation: 100%|██████████| 50/50 [00:00<00:00, 645.78it/s, loss=0.004226110047311522] \n"
     ]
    },
    {
     "name": "stdout",
     "output_type": "stream",
     "text": [
      "Evaluation scores: MSE - 0.004226109478622675, RMSE - 0.06500853598117828, MAE - 0.05846421420574188, MAPE - 0.08046212792396545\n",
      "Finish training!\n",
      "Start testing!\n",
      "Loading checkpoint from  .\\model_application\\experiment\\saved_checkpoint\\deep_learning\\gru\\bid\\one_step\\best_model.pth\n"
     ]
    },
    {
     "name": "stderr",
     "output_type": "stream",
     "text": [
      "Epoch 14 - Evaluation: 100%|██████████| 45/45 [00:00<00:00, 595.39it/s, loss=0.005447704192354448] "
     ]
    },
    {
     "name": "stdout",
     "output_type": "stream",
     "text": [
      "Evaluation scores: MSE - 0.005447704810649157, RMSE - 0.07380856573581696, MAE - 0.06369137018918991, MAPE - 0.08066684752702713\n",
      "Thời gian tính toán (test dataset): 0.08 giây (0.00 phút)\n"
     ]
    },
    {
     "name": "stderr",
     "output_type": "stream",
     "text": [
      "\n"
     ]
    }
   ],
   "source": [
    "bid_gru_executor.run(bid_train, bid_validation, bid_test)"
   ]
  },
  {
   "cell_type": "markdown",
   "id": "6e5483fb",
   "metadata": {},
   "source": [
    "## Techcombank"
   ]
  },
  {
   "cell_type": "code",
   "execution_count": 24,
   "id": "b3003017",
   "metadata": {},
   "outputs": [],
   "source": [
    "tcb_checkpoint_path = \".\\\\model_application\\\\experiment\\\\saved_checkpoint\\\\deep_learning\\\\gru\\\\tcb\\\\one_step\""
   ]
  },
  {
   "cell_type": "code",
   "execution_count": 25,
   "id": "4695e488",
   "metadata": {},
   "outputs": [
    {
     "name": "stdout",
     "output_type": "stream",
     "text": [
      "GRU(\n",
      "  (gru): GRU(9, 50, num_layers=9, batch_first=True)\n",
      "  (dropout): Dropout(p=0.3, inplace=False)\n",
      "  (norm): LayerNorm((50,), eps=1e-05, elementwise_affine=True)\n",
      "  (linear): Linear(in_features=50, out_features=1, bias=True)\n",
      ")\n"
     ]
    }
   ],
   "source": [
    "tcb_gru_executor = ModelExecutor(\n",
    "    device=DEVICE,\n",
    "    learning_rate = LEARNING_RATE,\n",
    "    checkpoint_path=tcb_checkpoint_path,\n",
    "    scaler_path=tcb_scaler_path,\n",
    "    model_type=MODEL_TYPE,\n",
    "    input_size=INPUT_SIZE,\n",
    "    hidden_size=HIDDEN_SIZE,\n",
    "    num_layers=NUM_LAYERS,\n",
    "    dropout_prob=DROPOUT_PROB,\n",
    "    n_steps=N_STEPS,\n",
    "    num_epochs=NUM_EPOCHS,\n",
    "    use_amp=USE_AMP,\n",
    "    batch_size=BATCH_SIZE\n",
    ")"
   ]
  },
  {
   "cell_type": "code",
   "execution_count": 26,
   "id": "a365cdad",
   "metadata": {},
   "outputs": [
    {
     "name": "stdout",
     "output_type": "stream",
     "text": [
      "Start training!\n"
     ]
    },
    {
     "name": "stderr",
     "output_type": "stream",
     "text": [
      "Epoch 1 - Training: 100%|██████████| 36/36 [00:00<00:00, 138.09it/s, loss=0.13197968577474561]\n",
      "Epoch 1 - Evaluation: 100%|██████████| 37/37 [00:00<00:00, 597.19it/s, loss=0.001860499778509571] \n"
     ]
    },
    {
     "name": "stdout",
     "output_type": "stream",
     "text": [
      "Evaluation scores: MSE - 0.0018604997312650084, RMSE - 0.043133512139320374, MAE - 0.037087853997945786, MAPE - 0.043037544935941696\n"
     ]
    },
    {
     "name": "stderr",
     "output_type": "stream",
     "text": [
      "Epoch 2 - Training: 100%|██████████| 36/36 [00:00<00:00, 140.52it/s, loss=0.044668076831536986]\n",
      "Epoch 2 - Evaluation: 100%|██████████| 37/37 [00:00<00:00, 653.69it/s, loss=0.011208921834524418]\n"
     ]
    },
    {
     "name": "stdout",
     "output_type": "stream",
     "text": [
      "Evaluation scores: MSE - 0.011208921670913696, RMSE - 0.10587219148874283, MAE - 0.09914390742778778, MAPE - 0.11818373203277588\n"
     ]
    },
    {
     "name": "stderr",
     "output_type": "stream",
     "text": [
      "Epoch 3 - Training: 100%|██████████| 36/36 [00:00<00:00, 144.91it/s, loss=0.02555304829224446] \n",
      "Epoch 3 - Evaluation: 100%|██████████| 37/37 [00:00<00:00, 672.81it/s, loss=0.017155137775163795]\n"
     ]
    },
    {
     "name": "stdout",
     "output_type": "stream",
     "text": [
      "Evaluation scores: MSE - 0.01715513877570629, RMSE - 0.13097763061523438, MAE - 0.12540750205516815, MAPE - 0.14904716610908508\n"
     ]
    },
    {
     "name": "stderr",
     "output_type": "stream",
     "text": [
      "Epoch 4 - Training: 100%|██████████| 36/36 [00:00<00:00, 162.00it/s, loss=0.0188435857093686]  \n",
      "Epoch 4 - Evaluation: 100%|██████████| 37/37 [00:00<00:00, 714.81it/s, loss=0.006315062567434349]\n"
     ]
    },
    {
     "name": "stdout",
     "output_type": "stream",
     "text": [
      "Evaluation scores: MSE - 0.006315062753856182, RMSE - 0.07946737110614777, MAE - 0.07002271711826324, MAPE - 0.08400484919548035\n"
     ]
    },
    {
     "name": "stderr",
     "output_type": "stream",
     "text": [
      "Epoch 5 - Training: 100%|██████████| 36/36 [00:00<00:00, 140.75it/s, loss=0.015388113744039502]\n",
      "Epoch 5 - Evaluation: 100%|██████████| 37/37 [00:00<00:00, 757.85it/s, loss=0.004858712089498039] \n"
     ]
    },
    {
     "name": "stdout",
     "output_type": "stream",
     "text": [
      "Evaluation scores: MSE - 0.004858711734414101, RMSE - 0.06970445811748505, MAE - 0.05856706574559212, MAPE - 0.07055089622735977\n"
     ]
    },
    {
     "name": "stderr",
     "output_type": "stream",
     "text": [
      "Epoch 6 - Training: 100%|██████████| 36/36 [00:00<00:00, 157.47it/s, loss=0.01689104275364015] \n",
      "Epoch 6 - Evaluation: 100%|██████████| 37/37 [00:00<00:00, 618.29it/s, loss=0.011513218289945979]\n"
     ]
    },
    {
     "name": "stdout",
     "output_type": "stream",
     "text": [
      "Evaluation scores: MSE - 0.011513219214975834, RMSE - 0.10729967057704926, MAE - 0.09962856769561768, MAPE - 0.11885102838277817\n"
     ]
    },
    {
     "name": "stderr",
     "output_type": "stream",
     "text": [
      "Epoch 7 - Training: 100%|██████████| 36/36 [00:00<00:00, 148.07it/s, loss=0.012594072782020602]\n",
      "Epoch 7 - Evaluation: 100%|██████████| 37/37 [00:00<00:00, 771.49it/s, loss=0.004111860233621969]  \n"
     ]
    },
    {
     "name": "stdout",
     "output_type": "stream",
     "text": [
      "Evaluation scores: MSE - 0.004111860413104296, RMSE - 0.06412378698587418, MAE - 0.052283983677625656, MAPE - 0.06312771886587143\n"
     ]
    },
    {
     "name": "stderr",
     "output_type": "stream",
     "text": [
      "Epoch 8 - Training: 100%|██████████| 36/36 [00:00<00:00, 139.58it/s, loss=0.010878581851203408]\n",
      "Epoch 8 - Evaluation: 100%|██████████| 37/37 [00:00<00:00, 436.55it/s, loss=0.03151558606407127] \n"
     ]
    },
    {
     "name": "stdout",
     "output_type": "stream",
     "text": [
      "Evaluation scores: MSE - 0.031515587121248245, RMSE - 0.1775262951850891, MAE - 0.1732408106327057, MAPE - 0.20524539053440094\n"
     ]
    },
    {
     "name": "stderr",
     "output_type": "stream",
     "text": [
      "Epoch 9 - Training: 100%|██████████| 36/36 [00:00<00:00, 129.03it/s, loss=0.008955013546356996]\n",
      "Epoch 9 - Evaluation: 100%|██████████| 37/37 [00:00<00:00, 454.69it/s, loss=0.024042311753775622]\n"
     ]
    },
    {
     "name": "stdout",
     "output_type": "stream",
     "text": [
      "Evaluation scores: MSE - 0.024042310193181038, RMSE - 0.15505583584308624, MAE - 0.15003791451454163, MAPE - 0.17801032960414886\n"
     ]
    },
    {
     "name": "stderr",
     "output_type": "stream",
     "text": [
      "Epoch 10 - Training: 100%|██████████| 36/36 [00:00<00:00, 123.26it/s, loss=0.00837478986553227] \n",
      "Epoch 10 - Evaluation: 100%|██████████| 37/37 [00:00<00:00, 522.31it/s, loss=0.02462783657215737] \n"
     ]
    },
    {
     "name": "stdout",
     "output_type": "stream",
     "text": [
      "Evaluation scores: MSE - 0.02462783455848694, RMSE - 0.15693257749080658, MAE - 0.15202535688877106, MAPE - 0.18033620715141296\n"
     ]
    },
    {
     "name": "stderr",
     "output_type": "stream",
     "text": [
      "Epoch 11 - Training: 100%|██████████| 36/36 [00:00<00:00, 126.22it/s, loss=0.010216766334552731]\n",
      "Epoch 11 - Evaluation: 100%|██████████| 37/37 [00:00<00:00, 715.60it/s, loss=0.017648549058248062]\n"
     ]
    },
    {
     "name": "stdout",
     "output_type": "stream",
     "text": [
      "Evaluation scores: MSE - 0.017648547887802124, RMSE - 0.1328478306531906, MAE - 0.1271822303533554, MAPE - 0.1511407047510147\n",
      "Finish training!\n",
      "Start testing!\n",
      "Loading checkpoint from  .\\model_application\\experiment\\saved_checkpoint\\deep_learning\\gru\\tcb\\one_step\\best_model.pth\n"
     ]
    },
    {
     "name": "stderr",
     "output_type": "stream",
     "text": [
      "Epoch 1 - Evaluation: 100%|██████████| 32/32 [00:00<00:00, 548.69it/s, loss=0.04697380628203973] "
     ]
    },
    {
     "name": "stdout",
     "output_type": "stream",
     "text": [
      "Evaluation scores: MSE - 0.046973809599876404, RMSE - 0.21673442423343658, MAE - 0.20957820117473602, MAPE - 0.1991124451160431\n",
      "Thời gian tính toán (test dataset): 0.06 giây (0.00 phút)\n"
     ]
    },
    {
     "name": "stderr",
     "output_type": "stream",
     "text": [
      "\n"
     ]
    }
   ],
   "source": [
    "tcb_gru_executor.run(tcb_train, tcb_validation, tcb_test)"
   ]
  },
  {
   "cell_type": "code",
   "execution_count": null,
   "id": "e75cadb2",
   "metadata": {},
   "outputs": [],
   "source": []
  }
 ],
 "metadata": {
  "kernelspec": {
   "display_name": ".venv",
   "language": "python",
   "name": "python3"
  },
  "language_info": {
   "codemirror_mode": {
    "name": "ipython",
    "version": 3
   },
   "file_extension": ".py",
   "mimetype": "text/x-python",
   "name": "python",
   "nbconvert_exporter": "python",
   "pygments_lexer": "ipython3",
   "version": "3.11.9"
  }
 },
 "nbformat": 4,
 "nbformat_minor": 5
}
