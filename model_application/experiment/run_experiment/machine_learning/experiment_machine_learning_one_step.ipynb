{
  "cells": [
    {
      "cell_type": "code",
      "execution_count": 1,
      "metadata": {},
      "outputs": [
        {
          "name": "stdout",
          "output_type": "stream",
          "text": [
            "Thư mục làm việc hiện tại: D:\\UIT\\HK\\HK6\\IS403\\Đồ án\\Source code\n"
          ]
        }
      ],
      "source": [
        "import os\n",
        "os.chdir(\"D:\\\\UIT\\\\HK\\\\HK6\\\\IS403\\\\Đồ án\\\\Source code\")\n",
        "print(\"Thư mục làm việc hiện tại:\", os.getcwd())"
      ]
    },
    {
      "cell_type": "markdown",
      "metadata": {},
      "source": [
        "# Import modules"
      ]
    },
    {
      "cell_type": "code",
      "execution_count": 2,
      "metadata": {},
      "outputs": [],
      "source": [
        "import pandas as pd"
      ]
    },
    {
      "cell_type": "code",
      "execution_count": 3,
      "metadata": {},
      "outputs": [],
      "source": [
        "import joblib"
      ]
    },
    {
      "cell_type": "code",
      "execution_count": 4,
      "metadata": {},
      "outputs": [],
      "source": [
        "import json"
      ]
    },
    {
      "cell_type": "code",
      "execution_count": 5,
      "metadata": {},
      "outputs": [],
      "source": [
        "import time"
      ]
    },
    {
      "cell_type": "code",
      "execution_count": 6,
      "metadata": {},
      "outputs": [],
      "source": [
        "from sklearn.ensemble import RandomForestRegressor\n",
        "from sklearn.svm import SVR\n",
        "from sklearn.linear_model import LinearRegression, Ridge\n",
        "from sklearn.preprocessing import StandardScaler\n",
        "from sklearn.model_selection import GridSearchCV, TimeSeriesSplit"
      ]
    },
    {
      "cell_type": "code",
      "execution_count": 7,
      "metadata": {},
      "outputs": [],
      "source": [
        "from model_application.evaluation_errors_utils import error"
      ]
    },
    {
      "cell_type": "markdown",
      "metadata": {},
      "source": [
        "# Load and preprocess data"
      ]
    },
    {
      "cell_type": "code",
      "execution_count": null,
      "metadata": {},
      "outputs": [],
      "source": [
        "def load_and_prepare_data(path):\n",
        "    dataframe = pd.read_csv(path)\n",
        "    dataframe[\"Time\"] = pd.to_datetime(dataframe[\"Time\"])\n",
        "\n",
        "    dataframe[\"Close_lag1\"] = dataframe[\"Close\"].shift(1)\n",
        "    dataframe[\"MA5\"] = dataframe[\"Close\"].rolling(5).mean()\n",
        "    dataframe[\"Return_1day\"] = dataframe[\"Close\"].pct_change(1)\n",
        "\n",
        "    dataframe = dataframe.dropna()\n",
        "    X = dataframe.drop(columns=[\"Close\", \"Time\"])\n",
        "    y = dataframe[\"Close\"]\n",
        "    \n",
        "    return X, y\n",
        "\n",
        "\n",
        "def scale_data(X_train, X_test, scaler_path, bank):\n",
        "    scaler = StandardScaler()\n",
        "    X_train_scaled = scaler.fit_transform(X_train)\n",
        "    X_test_scaled = scaler.transform(X_test)\n",
        "    joblib.dump(scaler, os.path.join(scaler_path, f\"{bank}_scaler\"))\n",
        "    return X_train_scaled, X_test_scaled"
      ]
    },
    {
      "cell_type": "code",
      "execution_count": 9,
      "metadata": {},
      "outputs": [],
      "source": [
        "scaler_path = \".\\\\model_application\\\\experiment\\\\saved_checkpoint\\\\machine_learning\\\\scaler\""
      ]
    },
    {
      "cell_type": "markdown",
      "metadata": {},
      "source": [
        "## Vietcombank"
      ]
    },
    {
      "cell_type": "code",
      "execution_count": 10,
      "metadata": {},
      "outputs": [],
      "source": [
        "vcb_X_train, vcb_y_train = load_and_prepare_data(\".\\\\dataset\\\\official_dataset\\\\vcb\\\\vcb_train.csv\")\n",
        "vcb_X_validation, vcb_y_validation = load_and_prepare_data(\".\\\\dataset\\\\official_dataset\\\\vcb\\\\vcb_validation.csv\")\n",
        "vcb_X_test, vcb_y_test = load_and_prepare_data(\".\\\\dataset\\\\official_dataset\\\\vcb\\\\vcb_test.csv\")"
      ]
    },
    {
      "cell_type": "code",
      "execution_count": 11,
      "metadata": {},
      "outputs": [],
      "source": [
        "vcb_X_train = pd.concat([vcb_X_train, vcb_X_validation])\n",
        "vcb_y_train = pd.concat([vcb_y_train, vcb_y_validation])"
      ]
    },
    {
      "cell_type": "code",
      "execution_count": 12,
      "metadata": {},
      "outputs": [
        {
          "data": {
            "text/html": [
              "<div>\n",
              "<style scoped>\n",
              "    .dataframe tbody tr th:only-of-type {\n",
              "        vertical-align: middle;\n",
              "    }\n",
              "\n",
              "    .dataframe tbody tr th {\n",
              "        vertical-align: top;\n",
              "    }\n",
              "\n",
              "    .dataframe thead th {\n",
              "        text-align: right;\n",
              "    }\n",
              "</style>\n",
              "<table border=\"1\" class=\"dataframe\">\n",
              "  <thead>\n",
              "    <tr style=\"text-align: right;\">\n",
              "      <th></th>\n",
              "      <th>Previous_GDP</th>\n",
              "      <th>Previous_EUR_Cash</th>\n",
              "      <th>Previous_THB_Cash</th>\n",
              "      <th>Previous_USD_Cash</th>\n",
              "      <th>Tăng trưởng lợi nhuận (%)</th>\n",
              "      <th>Vốn hóa (Tỷ đồng)</th>\n",
              "      <th>BVPS (VND)</th>\n",
              "      <th>VỐN CHỦ SỞ HỮU (đồng)</th>\n",
              "      <th>Close_lag1</th>\n",
              "      <th>MA5</th>\n",
              "      <th>Return_1day</th>\n",
              "    </tr>\n",
              "  </thead>\n",
              "  <tbody>\n",
              "    <tr>\n",
              "      <th>4</th>\n",
              "      <td>1467490</td>\n",
              "      <td>25013.62</td>\n",
              "      <td>595.78</td>\n",
              "      <td>22540.0</td>\n",
              "      <td>0.153907</td>\n",
              "      <td>382860590593900</td>\n",
              "      <td>23038.541622</td>\n",
              "      <td>111170655000000</td>\n",
              "      <td>45.20</td>\n",
              "      <td>44.790</td>\n",
              "      <td>-0.003761</td>\n",
              "    </tr>\n",
              "    <tr>\n",
              "      <th>5</th>\n",
              "      <td>1467490</td>\n",
              "      <td>25033.58</td>\n",
              "      <td>593.93</td>\n",
              "      <td>22510.0</td>\n",
              "      <td>0.153907</td>\n",
              "      <td>382860590593900</td>\n",
              "      <td>23038.541622</td>\n",
              "      <td>111170655000000</td>\n",
              "      <td>45.03</td>\n",
              "      <td>44.836</td>\n",
              "      <td>-0.001332</td>\n",
              "    </tr>\n",
              "    <tr>\n",
              "      <th>6</th>\n",
              "      <td>1467490</td>\n",
              "      <td>25064.52</td>\n",
              "      <td>597.29</td>\n",
              "      <td>22530.0</td>\n",
              "      <td>0.153907</td>\n",
              "      <td>382860590593900</td>\n",
              "      <td>23038.541622</td>\n",
              "      <td>111170655000000</td>\n",
              "      <td>44.97</td>\n",
              "      <td>45.062</td>\n",
              "      <td>0.007561</td>\n",
              "    </tr>\n",
              "    <tr>\n",
              "      <th>7</th>\n",
              "      <td>1467490</td>\n",
              "      <td>25148.56</td>\n",
              "      <td>602.50</td>\n",
              "      <td>22530.0</td>\n",
              "      <td>0.153907</td>\n",
              "      <td>382860590593900</td>\n",
              "      <td>23038.541622</td>\n",
              "      <td>111170655000000</td>\n",
              "      <td>45.31</td>\n",
              "      <td>45.378</td>\n",
              "      <td>0.023615</td>\n",
              "    </tr>\n",
              "    <tr>\n",
              "      <th>8</th>\n",
              "      <td>1467490</td>\n",
              "      <td>25303.38</td>\n",
              "      <td>602.68</td>\n",
              "      <td>22530.0</td>\n",
              "      <td>0.153907</td>\n",
              "      <td>382860590593900</td>\n",
              "      <td>23038.541622</td>\n",
              "      <td>111170655000000</td>\n",
              "      <td>46.38</td>\n",
              "      <td>45.784</td>\n",
              "      <td>0.018327</td>\n",
              "    </tr>\n",
              "    <tr>\n",
              "      <th>...</th>\n",
              "      <td>...</td>\n",
              "      <td>...</td>\n",
              "      <td>...</td>\n",
              "      <td>...</td>\n",
              "      <td>...</td>\n",
              "      <td>...</td>\n",
              "      <td>...</td>\n",
              "      <td>...</td>\n",
              "      <td>...</td>\n",
              "      <td>...</td>\n",
              "      <td>...</td>\n",
              "    </tr>\n",
              "    <tr>\n",
              "      <th>80</th>\n",
              "      <td>1561963</td>\n",
              "      <td>25792.47</td>\n",
              "      <td>657.38</td>\n",
              "      <td>25193.0</td>\n",
              "      <td>0.178524</td>\n",
              "      <td>512519668725400</td>\n",
              "      <td>34028.114605</td>\n",
              "      <td>190297001000000</td>\n",
              "      <td>61.61</td>\n",
              "      <td>61.782</td>\n",
              "      <td>0.003246</td>\n",
              "    </tr>\n",
              "    <tr>\n",
              "      <th>81</th>\n",
              "      <td>1561963</td>\n",
              "      <td>25779.62</td>\n",
              "      <td>658.40</td>\n",
              "      <td>25206.0</td>\n",
              "      <td>0.178524</td>\n",
              "      <td>512519668725400</td>\n",
              "      <td>34028.114605</td>\n",
              "      <td>190297001000000</td>\n",
              "      <td>61.81</td>\n",
              "      <td>61.742</td>\n",
              "      <td>-0.003236</td>\n",
              "    </tr>\n",
              "    <tr>\n",
              "      <th>82</th>\n",
              "      <td>1561963</td>\n",
              "      <td>25747.18</td>\n",
              "      <td>657.18</td>\n",
              "      <td>25195.0</td>\n",
              "      <td>0.178524</td>\n",
              "      <td>512519668725400</td>\n",
              "      <td>34028.114605</td>\n",
              "      <td>190297001000000</td>\n",
              "      <td>61.61</td>\n",
              "      <td>61.702</td>\n",
              "      <td>0.000974</td>\n",
              "    </tr>\n",
              "    <tr>\n",
              "      <th>83</th>\n",
              "      <td>1561963</td>\n",
              "      <td>25817.03</td>\n",
              "      <td>658.27</td>\n",
              "      <td>25208.0</td>\n",
              "      <td>0.178524</td>\n",
              "      <td>512519668725400</td>\n",
              "      <td>34028.114605</td>\n",
              "      <td>190297001000000</td>\n",
              "      <td>61.67</td>\n",
              "      <td>61.648</td>\n",
              "      <td>-0.002108</td>\n",
              "    </tr>\n",
              "    <tr>\n",
              "      <th>84</th>\n",
              "      <td>1561963</td>\n",
              "      <td>25856.94</td>\n",
              "      <td>662.41</td>\n",
              "      <td>25213.0</td>\n",
              "      <td>0.178524</td>\n",
              "      <td>512519668725400</td>\n",
              "      <td>34028.114605</td>\n",
              "      <td>190297001000000</td>\n",
              "      <td>61.54</td>\n",
              "      <td>61.526</td>\n",
              "      <td>-0.008775</td>\n",
              "    </tr>\n",
              "  </tbody>\n",
              "</table>\n",
              "<p>825 rows × 11 columns</p>\n",
              "</div>"
            ],
            "text/plain": [
              "    Previous_GDP  Previous_EUR_Cash  Previous_THB_Cash  Previous_USD_Cash  \\\n",
              "4        1467490           25013.62             595.78            22540.0   \n",
              "5        1467490           25033.58             593.93            22510.0   \n",
              "6        1467490           25064.52             597.29            22530.0   \n",
              "7        1467490           25148.56             602.50            22530.0   \n",
              "8        1467490           25303.38             602.68            22530.0   \n",
              "..           ...                ...                ...                ...   \n",
              "80       1561963           25792.47             657.38            25193.0   \n",
              "81       1561963           25779.62             658.40            25206.0   \n",
              "82       1561963           25747.18             657.18            25195.0   \n",
              "83       1561963           25817.03             658.27            25208.0   \n",
              "84       1561963           25856.94             662.41            25213.0   \n",
              "\n",
              "    Tăng trưởng lợi nhuận (%)  Vốn hóa (Tỷ đồng)    BVPS (VND)  \\\n",
              "4                    0.153907    382860590593900  23038.541622   \n",
              "5                    0.153907    382860590593900  23038.541622   \n",
              "6                    0.153907    382860590593900  23038.541622   \n",
              "7                    0.153907    382860590593900  23038.541622   \n",
              "8                    0.153907    382860590593900  23038.541622   \n",
              "..                        ...                ...           ...   \n",
              "80                   0.178524    512519668725400  34028.114605   \n",
              "81                   0.178524    512519668725400  34028.114605   \n",
              "82                   0.178524    512519668725400  34028.114605   \n",
              "83                   0.178524    512519668725400  34028.114605   \n",
              "84                   0.178524    512519668725400  34028.114605   \n",
              "\n",
              "    VỐN CHỦ SỞ HỮU (đồng)  Close_lag1     MA5  Return_1day  \n",
              "4         111170655000000       45.20  44.790    -0.003761  \n",
              "5         111170655000000       45.03  44.836    -0.001332  \n",
              "6         111170655000000       44.97  45.062     0.007561  \n",
              "7         111170655000000       45.31  45.378     0.023615  \n",
              "8         111170655000000       46.38  45.784     0.018327  \n",
              "..                    ...         ...     ...          ...  \n",
              "80        190297001000000       61.61  61.782     0.003246  \n",
              "81        190297001000000       61.81  61.742    -0.003236  \n",
              "82        190297001000000       61.61  61.702     0.000974  \n",
              "83        190297001000000       61.67  61.648    -0.002108  \n",
              "84        190297001000000       61.54  61.526    -0.008775  \n",
              "\n",
              "[825 rows x 11 columns]"
            ]
          },
          "execution_count": 12,
          "metadata": {},
          "output_type": "execute_result"
        }
      ],
      "source": [
        "vcb_X_train"
      ]
    },
    {
      "cell_type": "code",
      "execution_count": 13,
      "metadata": {},
      "outputs": [
        {
          "data": {
            "text/plain": [
              "4     45.03\n",
              "5     44.97\n",
              "6     45.31\n",
              "7     46.38\n",
              "8     47.23\n",
              "      ...  \n",
              "80    61.81\n",
              "81    61.61\n",
              "82    61.67\n",
              "83    61.54\n",
              "84    61.00\n",
              "Name: Close, Length: 825, dtype: float64"
            ]
          },
          "execution_count": 13,
          "metadata": {},
          "output_type": "execute_result"
        }
      ],
      "source": [
        "vcb_y_train"
      ]
    },
    {
      "cell_type": "code",
      "execution_count": 14,
      "metadata": {},
      "outputs": [],
      "source": [
        "vcb_X_train_scaled, vcb_X_test_scaled = scale_data(vcb_X_train, vcb_X_test, scaler_path, \"vcb\")"
      ]
    },
    {
      "cell_type": "code",
      "execution_count": 15,
      "metadata": {},
      "outputs": [
        {
          "data": {
            "text/plain": [
              "array([[ 0.16858864, -0.23530154, -0.62668709, ..., -1.25108706,\n",
              "        -1.30793547, -0.30289451],\n",
              "       [ 0.16858864, -0.21799191, -0.69529661, ..., -1.27412569,\n",
              "        -1.30168077, -0.12921474],\n",
              "       [ 0.16858864, -0.19116024, -0.57068689, ..., -1.28225697,\n",
              "        -1.27095116,  0.50676094],\n",
              "       ...,\n",
              "       [ 1.05682222,  0.40085358,  1.65040717, ...,  0.97281821,\n",
              "         0.99161871,  0.0357186 ],\n",
              "       [ 1.05682222,  0.46142863,  1.69083116, ...,  0.98094949,\n",
              "         0.98427624, -0.18467725],\n",
              "       [ 1.05682222,  0.49603923,  1.84436813, ...,  0.96333172,\n",
              "         0.96768768, -0.66144488]])"
            ]
          },
          "execution_count": 15,
          "metadata": {},
          "output_type": "execute_result"
        }
      ],
      "source": [
        "vcb_X_train_scaled"
      ]
    },
    {
      "cell_type": "markdown",
      "metadata": {},
      "source": [
        "## BIDV"
      ]
    },
    {
      "cell_type": "code",
      "execution_count": 16,
      "metadata": {},
      "outputs": [],
      "source": [
        "bid_X_train, bid_y_train = load_and_prepare_data(\".\\\\dataset\\\\official_dataset\\\\bid\\\\bid_train.csv\")\n",
        "bid_X_validation, bid_y_validation = load_and_prepare_data(\".\\\\dataset\\\\official_dataset\\\\bid\\\\bid_validation.csv\")\n",
        "bid_X_test, bid_y_test = load_and_prepare_data(\".\\\\dataset\\\\official_dataset\\\\bid\\\\bid_test.csv\")"
      ]
    },
    {
      "cell_type": "code",
      "execution_count": 17,
      "metadata": {},
      "outputs": [],
      "source": [
        "bid_X_train = pd.concat([bid_X_train, bid_X_validation])\n",
        "bid_y_train = pd.concat([bid_y_train, bid_y_validation])"
      ]
    },
    {
      "cell_type": "code",
      "execution_count": 18,
      "metadata": {},
      "outputs": [
        {
          "data": {
            "text/html": [
              "<div>\n",
              "<style scoped>\n",
              "    .dataframe tbody tr th:only-of-type {\n",
              "        vertical-align: middle;\n",
              "    }\n",
              "\n",
              "    .dataframe tbody tr th {\n",
              "        vertical-align: top;\n",
              "    }\n",
              "\n",
              "    .dataframe thead th {\n",
              "        text-align: right;\n",
              "    }\n",
              "</style>\n",
              "<table border=\"1\" class=\"dataframe\">\n",
              "  <thead>\n",
              "    <tr style=\"text-align: right;\">\n",
              "      <th></th>\n",
              "      <th>Previous_GDP</th>\n",
              "      <th>Previous_EUR_Cash</th>\n",
              "      <th>Previous_THB_Cash</th>\n",
              "      <th>Previous_USD_Cash</th>\n",
              "      <th>Tăng trưởng lợi nhuận (%)</th>\n",
              "      <th>Vốn hóa (Tỷ đồng)</th>\n",
              "      <th>BVPS (VND)</th>\n",
              "      <th>VỐN CHỦ SỞ HỮU (đồng)</th>\n",
              "      <th>Close_lag1</th>\n",
              "      <th>MA5</th>\n",
              "      <th>Return_1day</th>\n",
              "    </tr>\n",
              "  </thead>\n",
              "  <tbody>\n",
              "    <tr>\n",
              "      <th>4</th>\n",
              "      <td>1467490</td>\n",
              "      <td>25209.0</td>\n",
              "      <td>636.69</td>\n",
              "      <td>22495.0</td>\n",
              "      <td>0.355021</td>\n",
              "      <td>188430012146000</td>\n",
              "      <td>16434.655845</td>\n",
              "      <td>86366645000000</td>\n",
              "      <td>28.75</td>\n",
              "      <td>28.022</td>\n",
              "      <td>0.004870</td>\n",
              "    </tr>\n",
              "    <tr>\n",
              "      <th>5</th>\n",
              "      <td>1467490</td>\n",
              "      <td>25270.0</td>\n",
              "      <td>640.67</td>\n",
              "      <td>22535.0</td>\n",
              "      <td>0.355021</td>\n",
              "      <td>188430012146000</td>\n",
              "      <td>16434.655845</td>\n",
              "      <td>86366645000000</td>\n",
              "      <td>28.89</td>\n",
              "      <td>28.718</td>\n",
              "      <td>0.069920</td>\n",
              "    </tr>\n",
              "    <tr>\n",
              "      <th>6</th>\n",
              "      <td>1467490</td>\n",
              "      <td>25328.0</td>\n",
              "      <td>643.55</td>\n",
              "      <td>22515.0</td>\n",
              "      <td>0.355021</td>\n",
              "      <td>188430012146000</td>\n",
              "      <td>16434.655845</td>\n",
              "      <td>86366645000000</td>\n",
              "      <td>30.91</td>\n",
              "      <td>29.738</td>\n",
              "      <td>0.043999</td>\n",
              "    </tr>\n",
              "    <tr>\n",
              "      <th>7</th>\n",
              "      <td>1467490</td>\n",
              "      <td>25481.0</td>\n",
              "      <td>646.85</td>\n",
              "      <td>22515.0</td>\n",
              "      <td>0.355021</td>\n",
              "      <td>188430012146000</td>\n",
              "      <td>16434.655845</td>\n",
              "      <td>86366645000000</td>\n",
              "      <td>32.27</td>\n",
              "      <td>30.654</td>\n",
              "      <td>0.005578</td>\n",
              "    </tr>\n",
              "    <tr>\n",
              "      <th>8</th>\n",
              "      <td>1467490</td>\n",
              "      <td>25573.0</td>\n",
              "      <td>647.33</td>\n",
              "      <td>22525.0</td>\n",
              "      <td>0.355021</td>\n",
              "      <td>188430012146000</td>\n",
              "      <td>16434.655845</td>\n",
              "      <td>86366645000000</td>\n",
              "      <td>32.45</td>\n",
              "      <td>31.306</td>\n",
              "      <td>-0.013559</td>\n",
              "    </tr>\n",
              "    <tr>\n",
              "      <th>...</th>\n",
              "      <td>...</td>\n",
              "      <td>...</td>\n",
              "      <td>...</td>\n",
              "      <td>...</td>\n",
              "      <td>...</td>\n",
              "      <td>...</td>\n",
              "      <td>...</td>\n",
              "      <td>...</td>\n",
              "      <td>...</td>\n",
              "      <td>...</td>\n",
              "      <td>...</td>\n",
              "    </tr>\n",
              "    <tr>\n",
              "      <th>75</th>\n",
              "      <td>1561963</td>\n",
              "      <td>25981.0</td>\n",
              "      <td>684.02</td>\n",
              "      <td>24219.0</td>\n",
              "      <td>0.124035</td>\n",
              "      <td>269003095452000</td>\n",
              "      <td>19333.031073</td>\n",
              "      <td>138439656000000</td>\n",
              "      <td>38.10</td>\n",
              "      <td>38.426</td>\n",
              "      <td>0.014436</td>\n",
              "    </tr>\n",
              "    <tr>\n",
              "      <th>76</th>\n",
              "      <td>1561963</td>\n",
              "      <td>26014.0</td>\n",
              "      <td>683.64</td>\n",
              "      <td>24227.0</td>\n",
              "      <td>0.124035</td>\n",
              "      <td>269003095452000</td>\n",
              "      <td>19333.031073</td>\n",
              "      <td>138439656000000</td>\n",
              "      <td>38.65</td>\n",
              "      <td>38.548</td>\n",
              "      <td>0.009056</td>\n",
              "    </tr>\n",
              "    <tr>\n",
              "      <th>77</th>\n",
              "      <td>1561963</td>\n",
              "      <td>25983.0</td>\n",
              "      <td>682.94</td>\n",
              "      <td>24216.0</td>\n",
              "      <td>0.124035</td>\n",
              "      <td>269003095452000</td>\n",
              "      <td>19333.031073</td>\n",
              "      <td>138439656000000</td>\n",
              "      <td>39.00</td>\n",
              "      <td>38.700</td>\n",
              "      <td>0.003846</td>\n",
              "    </tr>\n",
              "    <tr>\n",
              "      <th>78</th>\n",
              "      <td>1561963</td>\n",
              "      <td>26018.0</td>\n",
              "      <td>683.55</td>\n",
              "      <td>24209.0</td>\n",
              "      <td>0.124035</td>\n",
              "      <td>269003095452000</td>\n",
              "      <td>19333.031073</td>\n",
              "      <td>138439656000000</td>\n",
              "      <td>39.15</td>\n",
              "      <td>38.630</td>\n",
              "      <td>-0.022989</td>\n",
              "    </tr>\n",
              "    <tr>\n",
              "      <th>79</th>\n",
              "      <td>1561963</td>\n",
              "      <td>26084.0</td>\n",
              "      <td>689.00</td>\n",
              "      <td>24238.0</td>\n",
              "      <td>0.124035</td>\n",
              "      <td>269003095452000</td>\n",
              "      <td>19333.031073</td>\n",
              "      <td>138439656000000</td>\n",
              "      <td>38.25</td>\n",
              "      <td>38.520</td>\n",
              "      <td>-0.018301</td>\n",
              "    </tr>\n",
              "  </tbody>\n",
              "</table>\n",
              "<p>769 rows × 11 columns</p>\n",
              "</div>"
            ],
            "text/plain": [
              "    Previous_GDP  Previous_EUR_Cash  Previous_THB_Cash  Previous_USD_Cash  \\\n",
              "4        1467490            25209.0             636.69            22495.0   \n",
              "5        1467490            25270.0             640.67            22535.0   \n",
              "6        1467490            25328.0             643.55            22515.0   \n",
              "7        1467490            25481.0             646.85            22515.0   \n",
              "8        1467490            25573.0             647.33            22525.0   \n",
              "..           ...                ...                ...                ...   \n",
              "75       1561963            25981.0             684.02            24219.0   \n",
              "76       1561963            26014.0             683.64            24227.0   \n",
              "77       1561963            25983.0             682.94            24216.0   \n",
              "78       1561963            26018.0             683.55            24209.0   \n",
              "79       1561963            26084.0             689.00            24238.0   \n",
              "\n",
              "    Tăng trưởng lợi nhuận (%)  Vốn hóa (Tỷ đồng)    BVPS (VND)  \\\n",
              "4                    0.355021    188430012146000  16434.655845   \n",
              "5                    0.355021    188430012146000  16434.655845   \n",
              "6                    0.355021    188430012146000  16434.655845   \n",
              "7                    0.355021    188430012146000  16434.655845   \n",
              "8                    0.355021    188430012146000  16434.655845   \n",
              "..                        ...                ...           ...   \n",
              "75                   0.124035    269003095452000  19333.031073   \n",
              "76                   0.124035    269003095452000  19333.031073   \n",
              "77                   0.124035    269003095452000  19333.031073   \n",
              "78                   0.124035    269003095452000  19333.031073   \n",
              "79                   0.124035    269003095452000  19333.031073   \n",
              "\n",
              "    VỐN CHỦ SỞ HỮU (đồng)  Close_lag1     MA5  Return_1day  \n",
              "4          86366645000000       28.75  28.022     0.004870  \n",
              "5          86366645000000       28.89  28.718     0.069920  \n",
              "6          86366645000000       30.91  29.738     0.043999  \n",
              "7          86366645000000       32.27  30.654     0.005578  \n",
              "8          86366645000000       32.45  31.306    -0.013559  \n",
              "..                    ...         ...     ...          ...  \n",
              "75        138439656000000       38.10  38.426     0.014436  \n",
              "76        138439656000000       38.65  38.548     0.009056  \n",
              "77        138439656000000       39.00  38.700     0.003846  \n",
              "78        138439656000000       39.15  38.630    -0.022989  \n",
              "79        138439656000000       38.25  38.520    -0.018301  \n",
              "\n",
              "[769 rows x 11 columns]"
            ]
          },
          "execution_count": 18,
          "metadata": {},
          "output_type": "execute_result"
        }
      ],
      "source": [
        "bid_X_train"
      ]
    },
    {
      "cell_type": "code",
      "execution_count": 19,
      "metadata": {},
      "outputs": [
        {
          "data": {
            "text/plain": [
              "4     28.89\n",
              "5     30.91\n",
              "6     32.27\n",
              "7     32.45\n",
              "8     32.01\n",
              "      ...  \n",
              "75    38.65\n",
              "76    39.00\n",
              "77    39.15\n",
              "78    38.25\n",
              "79    37.55\n",
              "Name: Close, Length: 769, dtype: float64"
            ]
          },
          "execution_count": 19,
          "metadata": {},
          "output_type": "execute_result"
        }
      ],
      "source": [
        "bid_y_train"
      ]
    },
    {
      "cell_type": "code",
      "execution_count": 20,
      "metadata": {},
      "outputs": [],
      "source": [
        "bid_X_train_scaled, bid_X_test_scaled = scale_data(bid_X_train, bid_X_test, scaler_path, \"bid\")"
      ]
    },
    {
      "cell_type": "code",
      "execution_count": 21,
      "metadata": {},
      "outputs": [
        {
          "data": {
            "text/plain": [
              "array([[ 0.16786435, -0.2321394 , -0.73249247, ..., -0.98181291,\n",
              "        -1.11549947,  0.22156642],\n",
              "       [ 0.16786435, -0.17998573, -0.55790419, ..., -0.95648549,\n",
              "        -0.98909844,  3.49046651],\n",
              "       [ 0.16786435, -0.13039698, -0.43156895, ..., -0.59104694,\n",
              "        -0.80385556,  2.18786364],\n",
              "       ...,\n",
              "       [ 1.05669924,  0.42961383,  1.2963286 , ...,  0.87251635,\n",
              "         0.82373922,  0.17013848],\n",
              "       [ 1.05669924,  0.45953807,  1.32308711, ...,  0.89965287,\n",
              "         0.81102647, -1.17834287],\n",
              "       [ 1.05669924,  0.51596664,  1.562159  , ...,  0.73683372,\n",
              "         0.7910493 , -0.94277136]])"
            ]
          },
          "execution_count": 21,
          "metadata": {},
          "output_type": "execute_result"
        }
      ],
      "source": [
        "bid_X_train_scaled"
      ]
    },
    {
      "cell_type": "markdown",
      "metadata": {},
      "source": [
        "## Techcombank"
      ]
    },
    {
      "cell_type": "code",
      "execution_count": 22,
      "metadata": {},
      "outputs": [],
      "source": [
        "tcb_X_train, tcb_y_train = load_and_prepare_data(\".\\\\dataset\\\\official_dataset\\\\tcb\\\\tcb_train.csv\")\n",
        "tcb_X_validation, tcb_y_validation = load_and_prepare_data(\".\\\\dataset\\\\official_dataset\\\\tcb\\\\tcb_validation.csv\")\n",
        "tcb_X_test, tcb_y_test = load_and_prepare_data(\".\\\\dataset\\\\official_dataset\\\\tcb\\\\tcb_test.csv\")"
      ]
    },
    {
      "cell_type": "code",
      "execution_count": 23,
      "metadata": {},
      "outputs": [],
      "source": [
        "tcb_X_train = pd.concat([tcb_X_train, tcb_X_validation])\n",
        "tcb_y_train = pd.concat([tcb_y_train, tcb_y_validation])"
      ]
    },
    {
      "cell_type": "code",
      "execution_count": 24,
      "metadata": {},
      "outputs": [
        {
          "data": {
            "text/html": [
              "<div>\n",
              "<style scoped>\n",
              "    .dataframe tbody tr th:only-of-type {\n",
              "        vertical-align: middle;\n",
              "    }\n",
              "\n",
              "    .dataframe tbody tr th {\n",
              "        vertical-align: top;\n",
              "    }\n",
              "\n",
              "    .dataframe thead th {\n",
              "        text-align: right;\n",
              "    }\n",
              "</style>\n",
              "<table border=\"1\" class=\"dataframe\">\n",
              "  <thead>\n",
              "    <tr style=\"text-align: right;\">\n",
              "      <th></th>\n",
              "      <th>Previous_GDP</th>\n",
              "      <th>Previous_EUR_Cash</th>\n",
              "      <th>Previous_THB_Cash</th>\n",
              "      <th>Previous_USD_Cash</th>\n",
              "      <th>Tăng trưởng lợi nhuận (%)</th>\n",
              "      <th>Vốn hóa (Tỷ đồng)</th>\n",
              "      <th>BVPS (VND)</th>\n",
              "      <th>VỐN CHỦ SỞ HỮU (đồng)</th>\n",
              "      <th>Close_lag1</th>\n",
              "      <th>MA5</th>\n",
              "      <th>Return_1day</th>\n",
              "    </tr>\n",
              "  </thead>\n",
              "  <tbody>\n",
              "    <tr>\n",
              "      <th>4</th>\n",
              "      <td>1467490</td>\n",
              "      <td>25188.0</td>\n",
              "      <td>596.0</td>\n",
              "      <td>22521.0</td>\n",
              "      <td>0.161678</td>\n",
              "      <td>160097714788800</td>\n",
              "      <td>26259.416507</td>\n",
              "      <td>93055837000000</td>\n",
              "      <td>24.44</td>\n",
              "      <td>24.178</td>\n",
              "      <td>0.002046</td>\n",
              "    </tr>\n",
              "    <tr>\n",
              "      <th>5</th>\n",
              "      <td>1467490</td>\n",
              "      <td>25432.0</td>\n",
              "      <td>599.0</td>\n",
              "      <td>22535.0</td>\n",
              "      <td>0.161678</td>\n",
              "      <td>160097714788800</td>\n",
              "      <td>26259.416507</td>\n",
              "      <td>93055837000000</td>\n",
              "      <td>24.49</td>\n",
              "      <td>24.104</td>\n",
              "      <td>-0.015108</td>\n",
              "    </tr>\n",
              "    <tr>\n",
              "      <th>6</th>\n",
              "      <td>1467490</td>\n",
              "      <td>25371.0</td>\n",
              "      <td>604.0</td>\n",
              "      <td>22557.0</td>\n",
              "      <td>0.161678</td>\n",
              "      <td>160097714788800</td>\n",
              "      <td>26259.416507</td>\n",
              "      <td>93055837000000</td>\n",
              "      <td>24.12</td>\n",
              "      <td>24.036</td>\n",
              "      <td>-0.019900</td>\n",
              "    </tr>\n",
              "    <tr>\n",
              "      <th>7</th>\n",
              "      <td>1467490</td>\n",
              "      <td>25308.0</td>\n",
              "      <td>605.0</td>\n",
              "      <td>22574.0</td>\n",
              "      <td>0.161678</td>\n",
              "      <td>160097714788800</td>\n",
              "      <td>26259.416507</td>\n",
              "      <td>93055837000000</td>\n",
              "      <td>23.64</td>\n",
              "      <td>24.076</td>\n",
              "      <td>0.002115</td>\n",
              "    </tr>\n",
              "    <tr>\n",
              "      <th>8</th>\n",
              "      <td>1467490</td>\n",
              "      <td>25122.0</td>\n",
              "      <td>601.0</td>\n",
              "      <td>22525.0</td>\n",
              "      <td>0.161678</td>\n",
              "      <td>160097714788800</td>\n",
              "      <td>26259.416507</td>\n",
              "      <td>93055837000000</td>\n",
              "      <td>23.69</td>\n",
              "      <td>23.926</td>\n",
              "      <td>0.000000</td>\n",
              "    </tr>\n",
              "    <tr>\n",
              "      <th>...</th>\n",
              "      <td>...</td>\n",
              "      <td>...</td>\n",
              "      <td>...</td>\n",
              "      <td>...</td>\n",
              "      <td>...</td>\n",
              "      <td>...</td>\n",
              "      <td>...</td>\n",
              "      <td>...</td>\n",
              "      <td>...</td>\n",
              "      <td>...</td>\n",
              "      <td>...</td>\n",
              "    </tr>\n",
              "    <tr>\n",
              "      <th>62</th>\n",
              "      <td>1561963</td>\n",
              "      <td>25864.0</td>\n",
              "      <td>660.0</td>\n",
              "      <td>25225.0</td>\n",
              "      <td>0.243784</td>\n",
              "      <td>166730501040400</td>\n",
              "      <td>20259.284053</td>\n",
              "      <td>144367982000000</td>\n",
              "      <td>23.80</td>\n",
              "      <td>23.990</td>\n",
              "      <td>0.008403</td>\n",
              "    </tr>\n",
              "    <tr>\n",
              "      <th>63</th>\n",
              "      <td>1561963</td>\n",
              "      <td>25810.0</td>\n",
              "      <td>660.0</td>\n",
              "      <td>25210.0</td>\n",
              "      <td>0.243784</td>\n",
              "      <td>166730501040400</td>\n",
              "      <td>20259.284053</td>\n",
              "      <td>144367982000000</td>\n",
              "      <td>24.00</td>\n",
              "      <td>24.040</td>\n",
              "      <td>0.018750</td>\n",
              "    </tr>\n",
              "    <tr>\n",
              "      <th>64</th>\n",
              "      <td>1561963</td>\n",
              "      <td>25848.0</td>\n",
              "      <td>659.0</td>\n",
              "      <td>25205.0</td>\n",
              "      <td>0.243784</td>\n",
              "      <td>166730501040400</td>\n",
              "      <td>20259.284053</td>\n",
              "      <td>144367982000000</td>\n",
              "      <td>24.45</td>\n",
              "      <td>24.070</td>\n",
              "      <td>-0.004090</td>\n",
              "    </tr>\n",
              "    <tr>\n",
              "      <th>65</th>\n",
              "      <td>1561963</td>\n",
              "      <td>25828.0</td>\n",
              "      <td>658.0</td>\n",
              "      <td>25210.0</td>\n",
              "      <td>0.243784</td>\n",
              "      <td>166730501040400</td>\n",
              "      <td>20259.284053</td>\n",
              "      <td>144367982000000</td>\n",
              "      <td>24.35</td>\n",
              "      <td>24.240</td>\n",
              "      <td>0.010267</td>\n",
              "    </tr>\n",
              "    <tr>\n",
              "      <th>66</th>\n",
              "      <td>1561963</td>\n",
              "      <td>25968.0</td>\n",
              "      <td>663.0</td>\n",
              "      <td>25260.0</td>\n",
              "      <td>0.243784</td>\n",
              "      <td>166730501040400</td>\n",
              "      <td>20259.284053</td>\n",
              "      <td>144367982000000</td>\n",
              "      <td>24.60</td>\n",
              "      <td>24.410</td>\n",
              "      <td>0.002033</td>\n",
              "    </tr>\n",
              "  </tbody>\n",
              "</table>\n",
              "<p>651 rows × 11 columns</p>\n",
              "</div>"
            ],
            "text/plain": [
              "    Previous_GDP  Previous_EUR_Cash  Previous_THB_Cash  Previous_USD_Cash  \\\n",
              "4        1467490            25188.0              596.0            22521.0   \n",
              "5        1467490            25432.0              599.0            22535.0   \n",
              "6        1467490            25371.0              604.0            22557.0   \n",
              "7        1467490            25308.0              605.0            22574.0   \n",
              "8        1467490            25122.0              601.0            22525.0   \n",
              "..           ...                ...                ...                ...   \n",
              "62       1561963            25864.0              660.0            25225.0   \n",
              "63       1561963            25810.0              660.0            25210.0   \n",
              "64       1561963            25848.0              659.0            25205.0   \n",
              "65       1561963            25828.0              658.0            25210.0   \n",
              "66       1561963            25968.0              663.0            25260.0   \n",
              "\n",
              "    Tăng trưởng lợi nhuận (%)  Vốn hóa (Tỷ đồng)    BVPS (VND)  \\\n",
              "4                    0.161678    160097714788800  26259.416507   \n",
              "5                    0.161678    160097714788800  26259.416507   \n",
              "6                    0.161678    160097714788800  26259.416507   \n",
              "7                    0.161678    160097714788800  26259.416507   \n",
              "8                    0.161678    160097714788800  26259.416507   \n",
              "..                        ...                ...           ...   \n",
              "62                   0.243784    166730501040400  20259.284053   \n",
              "63                   0.243784    166730501040400  20259.284053   \n",
              "64                   0.243784    166730501040400  20259.284053   \n",
              "65                   0.243784    166730501040400  20259.284053   \n",
              "66                   0.243784    166730501040400  20259.284053   \n",
              "\n",
              "    VỐN CHỦ SỞ HỮU (đồng)  Close_lag1     MA5  Return_1day  \n",
              "4          93055837000000       24.44  24.178     0.002046  \n",
              "5          93055837000000       24.49  24.104    -0.015108  \n",
              "6          93055837000000       24.12  24.036    -0.019900  \n",
              "7          93055837000000       23.64  24.076     0.002115  \n",
              "8          93055837000000       23.69  23.926     0.000000  \n",
              "..                    ...         ...     ...          ...  \n",
              "62        144367982000000       23.80  23.990     0.008403  \n",
              "63        144367982000000       24.00  24.040     0.018750  \n",
              "64        144367982000000       24.45  24.070    -0.004090  \n",
              "65        144367982000000       24.35  24.240     0.010267  \n",
              "66        144367982000000       24.60  24.410     0.002033  \n",
              "\n",
              "[651 rows x 11 columns]"
            ]
          },
          "execution_count": 24,
          "metadata": {},
          "output_type": "execute_result"
        }
      ],
      "source": [
        "tcb_X_train"
      ]
    },
    {
      "cell_type": "code",
      "execution_count": 25,
      "metadata": {},
      "outputs": [
        {
          "data": {
            "text/plain": [
              "4     24.49\n",
              "5     24.12\n",
              "6     23.64\n",
              "7     23.69\n",
              "8     23.69\n",
              "      ...  \n",
              "62    24.00\n",
              "63    24.45\n",
              "64    24.35\n",
              "65    24.60\n",
              "66    24.65\n",
              "Name: Close, Length: 651, dtype: float64"
            ]
          },
          "execution_count": 25,
          "metadata": {},
          "output_type": "execute_result"
        }
      ],
      "source": [
        "tcb_y_train"
      ]
    },
    {
      "cell_type": "code",
      "execution_count": 26,
      "metadata": {},
      "outputs": [],
      "source": [
        "tcb_X_train_scaled, tcb_X_test_scaled = scale_data(tcb_X_train, tcb_X_test, scaler_path, \"tcb\")"
      ]
    },
    {
      "cell_type": "code",
      "execution_count": 27,
      "metadata": {},
      "outputs": [
        {
          "data": {
            "text/plain": [
              "array([[ 0.17615086, -0.13154369, -0.44261427, ...,  1.26377878,\n",
              "         1.20936925,  0.07423094],\n",
              "       [ 0.17615086,  0.07534291, -0.34334628, ...,  1.27531963,\n",
              "         1.19221591, -0.70982447],\n",
              "       [ 0.17615086,  0.02362126, -0.17789963, ...,  1.18991729,\n",
              "         1.17645338, -0.92886455],\n",
              "       ...,\n",
              "       [ 1.05991596,  0.42806762,  1.64201354, ...,  1.26608695,\n",
              "         1.18433465, -0.20621691],\n",
              "       [ 1.05991596,  0.4111097 ,  1.60892421, ...,  1.24300523,\n",
              "         1.22374097,  0.44999147],\n",
              "       [ 1.05991596,  0.52981513,  1.77437086, ...,  1.30070952,\n",
              "         1.26314729,  0.07362276]])"
            ]
          },
          "execution_count": 27,
          "metadata": {},
          "output_type": "execute_result"
        }
      ],
      "source": [
        "tcb_X_train_scaled"
      ]
    },
    {
      "cell_type": "markdown",
      "metadata": {},
      "source": [
        "# Excute model"
      ]
    },
    {
      "cell_type": "code",
      "execution_count": 27,
      "metadata": {},
      "outputs": [],
      "source": [
        "models = {\n",
        "    \"random_forest\": {\n",
        "        \"model\": RandomForestRegressor(random_state=42),\n",
        "        \"params\": {\n",
        "            \"n_estimators\": [100, 200],\n",
        "            \"max_depth\": [None, 10]\n",
        "        },\n",
        "        \"use_scaled\": False,\n",
        "        \"weight\": 0.8\n",
        "    },\n",
        "    \"svm\": {\n",
        "        \"model\": SVR(),\n",
        "        \"params\": {\n",
        "            \"kernel\": [\"linear\", \"rbf\"],\n",
        "            \"C\": [0.1, 1, 10],\n",
        "            \"epsilon\": [0.01, 0.1]\n",
        "        },\n",
        "        \"use_scaled\": True,\n",
        "        \"weight\": 0.7\n",
        "    },\n",
        "    \"linear_regression\": {\n",
        "        \"model\": LinearRegression(),\n",
        "        \"params\": {},\n",
        "        \"use_scaled\": True,\n",
        "        \"weight\": 0.6\n",
        "    },\n",
        "    \"ridge\": {\n",
        "        \"model\": Ridge(),\n",
        "        \"params\": {\n",
        "            \"alpha\": [0.1, 1.0, 10.0]\n",
        "        },\n",
        "        \"use_scaled\": True,\n",
        "        \"weight\": 0.5\n",
        "    }\n",
        "}"
      ]
    },
    {
      "cell_type": "code",
      "execution_count": 28,
      "metadata": {},
      "outputs": [],
      "source": [
        "def find_best_models(X_train, X_train_scaled, y_train, checkpoint_path):\n",
        "    best_models = {}\n",
        "    for name, config in models.items():\n",
        "        start_time = time.time()\n",
        "        print(f\"\\nĐang tối ưu mô hình {name}...\")\n",
        "        X_tr = X_train_scaled if config[\"use_scaled\"] else X_train\n",
        "\n",
        "        if config[\"params\"]:\n",
        "            tscv = TimeSeriesSplit(n_splits=5)\n",
        "            gscv = GridSearchCV(\n",
        "                estimator=config[\"model\"],\n",
        "                param_grid=config[\"params\"],\n",
        "                cv=tscv,\n",
        "                scoring=\"neg_mean_squared_error\",\n",
        "                n_jobs=-1,\n",
        "                verbose=0\n",
        "            )\n",
        "            gscv.fit(X_tr, y_train)\n",
        "            best_models[name] = gscv.best_estimator_\n",
        "            print(f\"Best params: {gscv.best_params_}\")\n",
        "        else:\n",
        "            model = config[\"model\"]\n",
        "            model.fit(X_tr, y_train)\n",
        "            best_models[name] = gscv.best_estimator_\n",
        "            print(f\"Best params: {gscv.best_params_}\")\n",
        "        end_time = time.time()\n",
        "\n",
        "        training_time = end_time - start_time\n",
        "        json.dump(\n",
        "            {\"training time\": training_time},\n",
        "            open(os.path.join(checkpoint_path, f\"{name}_training_time.json\"), \"w+\"),\n",
        "            ensure_ascii=False,\n",
        "            indent=4\n",
        "        )\n",
        "\n",
        "    for name, model in best_models.items():\n",
        "        file_path = os.path.join(checkpoint_path, f\"{name}.pkl\")\n",
        "        with open(file_path, \"wb\") as file:\n",
        "            joblib.dump(model, file)\n",
        "        print(f\"Đã lưu mô hình {name} vào file: {file_path}\")\n",
        "    \n",
        "\n",
        "def evaluate(X_test, X_test_scaled, y_test, checkpoint_path):\n",
        "    for name, config in models.items():\n",
        "        X_t = X_test_scaled if config[\"use_scaled\"] else X_test\n",
        "        model = joblib.load(os.path.join(checkpoint_path, f\"{name}.pkl\"))\n",
        "\n",
        "        start_time = time.time()\n",
        "        predictions = model.predict(X_t)\n",
        "        end_time = time.time()\n",
        "\n",
        "        mse, rmse, mae, mape = error(predictions, y_test)\n",
        "        elapsed = end_time - start_time\n",
        "\n",
        "        json.dump(\n",
        "            {\n",
        "                \"time\": elapsed,\n",
        "                \"predictions\": predictions.tolist(),\n",
        "                \"targets\": y_test.values.tolist(),\n",
        "                \"mse\": mse,\n",
        "                \"rmse\": rmse,\n",
        "                \"mae\": mae,\n",
        "                \"mape\": mape\n",
        "            },\n",
        "            open(os.path.join(checkpoint_path, f\"{name}_test_results.json\"), \"w+\"),\n",
        "            ensure_ascii=False,\n",
        "            indent=4\n",
        "        )\n",
        "\n",
        "\n",
        "def get_predictions(features, checkpoint_path, model_name):\n",
        "    model = joblib.load(os.path.join(checkpoint_path, f\"{model_name}.pkl\"))\n",
        "    predictions = model.predict(features)\n",
        "\n",
        "    json.dump(\n",
        "        {\"predictions\": predictions.tolist()},\n",
        "        open(os.path.join(checkpoint_path, \"predictions.json\"), \"w+\"),\n",
        "        ensure_ascii=False,\n",
        "        indent=4\n",
        "    )"
      ]
    },
    {
      "cell_type": "markdown",
      "metadata": {},
      "source": [
        "## Vietcombank"
      ]
    },
    {
      "cell_type": "code",
      "execution_count": 29,
      "metadata": {},
      "outputs": [],
      "source": [
        "vcb_checkpoint_path = \".\\\\model_application\\\\experiment\\\\saved_checkpoint\\\\machine_learning\\\\one_step\\\\vcb\""
      ]
    },
    {
      "cell_type": "code",
      "execution_count": 30,
      "metadata": {},
      "outputs": [
        {
          "name": "stdout",
          "output_type": "stream",
          "text": [
            "\n",
            "Đang tối ưu mô hình random_forest...\n",
            "Best params: {'max_depth': 10, 'n_estimators': 200}\n",
            "\n",
            "Đang tối ưu mô hình svm...\n",
            "Best params: {'C': 10, 'epsilon': 0.01, 'kernel': 'linear'}\n",
            "\n",
            "Đang tối ưu mô hình linear_regression...\n",
            "Best params: {'C': 10, 'epsilon': 0.01, 'kernel': 'linear'}\n",
            "\n",
            "Đang tối ưu mô hình ridge...\n",
            "Best params: {'alpha': 0.1}\n",
            "Đã lưu mô hình random_forest vào file: .\\model_application\\experiment\\saved_checkpoint\\machine_learning\\one_step\\vcb\\random_forest.pkl\n",
            "Đã lưu mô hình svm vào file: .\\model_application\\experiment\\saved_checkpoint\\machine_learning\\one_step\\vcb\\svm.pkl\n",
            "Đã lưu mô hình linear_regression vào file: .\\model_application\\experiment\\saved_checkpoint\\machine_learning\\one_step\\vcb\\linear_regression.pkl\n",
            "Đã lưu mô hình ridge vào file: .\\model_application\\experiment\\saved_checkpoint\\machine_learning\\one_step\\vcb\\ridge.pkl\n"
          ]
        }
      ],
      "source": [
        "find_best_models(vcb_X_train, vcb_X_train_scaled, vcb_y_train, vcb_checkpoint_path)"
      ]
    },
    {
      "cell_type": "code",
      "execution_count": 31,
      "metadata": {},
      "outputs": [],
      "source": [
        "evaluate(vcb_X_test, vcb_X_test_scaled, vcb_y_test, vcb_checkpoint_path)"
      ]
    },
    {
      "cell_type": "markdown",
      "metadata": {},
      "source": [
        "## BIDV"
      ]
    },
    {
      "cell_type": "code",
      "execution_count": 32,
      "metadata": {},
      "outputs": [],
      "source": [
        "bid_checkpoint_path = \".\\\\model_application\\\\experiment\\\\saved_checkpoint\\\\machine_learning\\\\one_step\\\\bid\""
      ]
    },
    {
      "cell_type": "code",
      "execution_count": 33,
      "metadata": {},
      "outputs": [
        {
          "name": "stdout",
          "output_type": "stream",
          "text": [
            "\n",
            "Đang tối ưu mô hình random_forest...\n",
            "Best params: {'max_depth': None, 'n_estimators': 200}\n",
            "\n",
            "Đang tối ưu mô hình svm...\n",
            "Best params: {'C': 10, 'epsilon': 0.01, 'kernel': 'linear'}\n",
            "\n",
            "Đang tối ưu mô hình linear_regression...\n",
            "Best params: {'C': 10, 'epsilon': 0.01, 'kernel': 'linear'}\n",
            "\n",
            "Đang tối ưu mô hình ridge...\n",
            "Best params: {'alpha': 0.1}\n",
            "Đã lưu mô hình random_forest vào file: .\\model_application\\experiment\\saved_checkpoint\\machine_learning\\one_step\\bid\\random_forest.pkl\n",
            "Đã lưu mô hình svm vào file: .\\model_application\\experiment\\saved_checkpoint\\machine_learning\\one_step\\bid\\svm.pkl\n",
            "Đã lưu mô hình linear_regression vào file: .\\model_application\\experiment\\saved_checkpoint\\machine_learning\\one_step\\bid\\linear_regression.pkl\n",
            "Đã lưu mô hình ridge vào file: .\\model_application\\experiment\\saved_checkpoint\\machine_learning\\one_step\\bid\\ridge.pkl\n"
          ]
        }
      ],
      "source": [
        "find_best_models(bid_X_train, bid_X_train_scaled, bid_y_train, bid_checkpoint_path)"
      ]
    },
    {
      "cell_type": "code",
      "execution_count": 34,
      "metadata": {},
      "outputs": [],
      "source": [
        "evaluate(bid_X_test, bid_X_test_scaled, bid_y_test, bid_checkpoint_path)"
      ]
    },
    {
      "cell_type": "markdown",
      "metadata": {},
      "source": [
        "## Techcombank"
      ]
    },
    {
      "cell_type": "code",
      "execution_count": 35,
      "metadata": {},
      "outputs": [],
      "source": [
        "tcb_checkpoint_path = \".\\\\model_application\\\\experiment\\\\saved_checkpoint\\\\machine_learning\\\\one_step\\\\tcb\""
      ]
    },
    {
      "cell_type": "code",
      "execution_count": 36,
      "metadata": {},
      "outputs": [
        {
          "name": "stdout",
          "output_type": "stream",
          "text": [
            "\n",
            "Đang tối ưu mô hình random_forest...\n",
            "Best params: {'max_depth': None, 'n_estimators': 100}\n",
            "\n",
            "Đang tối ưu mô hình svm...\n",
            "Best params: {'C': 10, 'epsilon': 0.1, 'kernel': 'linear'}\n",
            "\n",
            "Đang tối ưu mô hình linear_regression...\n",
            "Best params: {'C': 10, 'epsilon': 0.1, 'kernel': 'linear'}\n",
            "\n",
            "Đang tối ưu mô hình ridge...\n",
            "Best params: {'alpha': 0.1}\n",
            "Đã lưu mô hình random_forest vào file: .\\model_application\\experiment\\saved_checkpoint\\machine_learning\\one_step\\tcb\\random_forest.pkl\n",
            "Đã lưu mô hình svm vào file: .\\model_application\\experiment\\saved_checkpoint\\machine_learning\\one_step\\tcb\\svm.pkl\n",
            "Đã lưu mô hình linear_regression vào file: .\\model_application\\experiment\\saved_checkpoint\\machine_learning\\one_step\\tcb\\linear_regression.pkl\n",
            "Đã lưu mô hình ridge vào file: .\\model_application\\experiment\\saved_checkpoint\\machine_learning\\one_step\\tcb\\ridge.pkl\n"
          ]
        }
      ],
      "source": [
        "find_best_models(tcb_X_train, tcb_X_train_scaled, tcb_y_train, tcb_checkpoint_path)"
      ]
    },
    {
      "cell_type": "code",
      "execution_count": 37,
      "metadata": {},
      "outputs": [],
      "source": [
        "evaluate(tcb_X_test, tcb_X_test_scaled, tcb_y_test, tcb_checkpoint_path)"
      ]
    },
    {
      "cell_type": "code",
      "execution_count": null,
      "metadata": {},
      "outputs": [],
      "source": []
    }
  ],
  "metadata": {
    "colab": {
      "provenance": []
    },
    "kernelspec": {
      "display_name": ".venv",
      "language": "python",
      "name": "python3"
    },
    "language_info": {
      "codemirror_mode": {
        "name": "ipython",
        "version": 3
      },
      "file_extension": ".py",
      "mimetype": "text/x-python",
      "name": "python",
      "nbconvert_exporter": "python",
      "pygments_lexer": "ipython3",
      "version": "3.11.9"
    }
  },
  "nbformat": 4,
  "nbformat_minor": 0
}
