{
 "cells": [
  {
   "cell_type": "code",
   "execution_count": 1,
   "id": "8050719a",
   "metadata": {},
   "outputs": [
    {
     "name": "stdout",
     "output_type": "stream",
     "text": [
      "Thư mục làm việc hiện tại: D:\\UIT\\HK\\HK6\\IS403\\Đồ án\\Source code\n"
     ]
    }
   ],
   "source": [
    "import os\n",
    "os.chdir(\"D:\\\\UIT\\\\HK\\\\HK6\\\\IS403\\\\Đồ án\\\\Source code\")\n",
    "print(\"Thư mục làm việc hiện tại:\", os.getcwd())"
   ]
  },
  {
   "cell_type": "code",
   "execution_count": 2,
   "id": "d59fd341",
   "metadata": {},
   "outputs": [],
   "source": [
    "import warnings\n",
    "warnings.filterwarnings(\"ignore\")"
   ]
  },
  {
   "cell_type": "markdown",
   "id": "f1096217",
   "metadata": {},
   "source": [
    "# Import modules"
   ]
  },
  {
   "cell_type": "code",
   "execution_count": 3,
   "id": "117b8210",
   "metadata": {},
   "outputs": [],
   "source": [
    "import pandas as pd"
   ]
  },
  {
   "cell_type": "code",
   "execution_count": 4,
   "id": "2aead820",
   "metadata": {},
   "outputs": [],
   "source": [
    "import joblib"
   ]
  },
  {
   "cell_type": "markdown",
   "id": "76228624",
   "metadata": {},
   "source": [
    "# Load data"
   ]
  },
  {
   "cell_type": "code",
   "execution_count": 5,
   "id": "4e97f380",
   "metadata": {},
   "outputs": [],
   "source": [
    "def load_and_prepare_data(path):\n",
    "    dataframe = pd.read_csv(path)\n",
    "    dataframe[\"Time\"] = pd.to_datetime(dataframe[\"Time\"])\n",
    "\n",
    "    dataframe[\"Close_lag1\"] = dataframe[\"Close\"].shift(1)\n",
    "    dataframe[\"MA5\"] = dataframe[\"Close\"].rolling(5).mean()\n",
    "    dataframe[\"Return_1day\"] = dataframe[\"Close\"].pct_change(1)\n",
    "\n",
    "    dataframe = dataframe.dropna()\n",
    "    X = dataframe.drop(columns=[\"Close\", \"Time\"])\n",
    "    y = dataframe[\"Close\"]\n",
    "    \n",
    "    return X, y"
   ]
  },
  {
   "cell_type": "code",
   "execution_count": 6,
   "id": "e31612d4",
   "metadata": {},
   "outputs": [
    {
     "data": {
      "text/html": [
       "<div>\n",
       "<style scoped>\n",
       "    .dataframe tbody tr th:only-of-type {\n",
       "        vertical-align: middle;\n",
       "    }\n",
       "\n",
       "    .dataframe tbody tr th {\n",
       "        vertical-align: top;\n",
       "    }\n",
       "\n",
       "    .dataframe thead th {\n",
       "        text-align: right;\n",
       "    }\n",
       "</style>\n",
       "<table border=\"1\" class=\"dataframe\">\n",
       "  <thead>\n",
       "    <tr style=\"text-align: right;\">\n",
       "      <th></th>\n",
       "      <th>Previous_GDP</th>\n",
       "      <th>Previous_EUR_Cash</th>\n",
       "      <th>Previous_THB_Cash</th>\n",
       "      <th>Previous_USD_Cash</th>\n",
       "      <th>Tăng trưởng lợi nhuận (%)</th>\n",
       "      <th>Vốn hóa (Tỷ đồng)</th>\n",
       "      <th>BVPS (VND)</th>\n",
       "      <th>VỐN CHỦ SỞ HỮU (đồng)</th>\n",
       "      <th>Close_lag1</th>\n",
       "      <th>MA5</th>\n",
       "      <th>Return_1day</th>\n",
       "    </tr>\n",
       "  </thead>\n",
       "  <tbody>\n",
       "    <tr>\n",
       "      <th>29</th>\n",
       "      <td>1773652</td>\n",
       "      <td>26888.91</td>\n",
       "      <td>665.87</td>\n",
       "      <td>25370.0</td>\n",
       "      <td>-0.084409</td>\n",
       "      <td>501340505640000</td>\n",
       "      <td>23470.623833</td>\n",
       "      <td>196209168000000</td>\n",
       "      <td>64.8</td>\n",
       "      <td>65.26</td>\n",
       "      <td>-0.012346</td>\n",
       "    </tr>\n",
       "  </tbody>\n",
       "</table>\n",
       "</div>"
      ],
      "text/plain": [
       "    Previous_GDP  Previous_EUR_Cash  Previous_THB_Cash  Previous_USD_Cash  \\\n",
       "29       1773652           26888.91             665.87            25370.0   \n",
       "\n",
       "    Tăng trưởng lợi nhuận (%)  Vốn hóa (Tỷ đồng)    BVPS (VND)  \\\n",
       "29                  -0.084409    501340505640000  23470.623833   \n",
       "\n",
       "    VỐN CHỦ SỞ HỮU (đồng)  Close_lag1    MA5  Return_1day  \n",
       "29        196209168000000        64.8  65.26    -0.012346  "
      ]
     },
     "execution_count": 6,
     "metadata": {},
     "output_type": "execute_result"
    }
   ],
   "source": [
    "vcb_future, _ = load_and_prepare_data(\".\\\\dataset\\\\official_dataset\\\\vcb\\\\vcb_future.csv\")\n",
    "vcb_future = vcb_future.iloc[-1:, :]\n",
    "vcb_future"
   ]
  },
  {
   "cell_type": "code",
   "execution_count": 7,
   "id": "02828ddd",
   "metadata": {},
   "outputs": [
    {
     "data": {
      "text/html": [
       "<div>\n",
       "<style scoped>\n",
       "    .dataframe tbody tr th:only-of-type {\n",
       "        vertical-align: middle;\n",
       "    }\n",
       "\n",
       "    .dataframe tbody tr th {\n",
       "        vertical-align: top;\n",
       "    }\n",
       "\n",
       "    .dataframe thead th {\n",
       "        text-align: right;\n",
       "    }\n",
       "</style>\n",
       "<table border=\"1\" class=\"dataframe\">\n",
       "  <thead>\n",
       "    <tr style=\"text-align: right;\">\n",
       "      <th></th>\n",
       "      <th>Previous_GDP</th>\n",
       "      <th>Previous_EUR_Cash</th>\n",
       "      <th>Previous_THB_Cash</th>\n",
       "      <th>Previous_USD_Cash</th>\n",
       "      <th>Tăng trưởng lợi nhuận (%)</th>\n",
       "      <th>Vốn hóa (Tỷ đồng)</th>\n",
       "      <th>BVPS (VND)</th>\n",
       "      <th>VỐN CHỦ SỞ HỮU (đồng)</th>\n",
       "      <th>Close_lag1</th>\n",
       "      <th>MA5</th>\n",
       "      <th>Return_1day</th>\n",
       "    </tr>\n",
       "  </thead>\n",
       "  <tbody>\n",
       "    <tr>\n",
       "      <th>28</th>\n",
       "      <td>1773652</td>\n",
       "      <td>27142.0</td>\n",
       "      <td>693.9</td>\n",
       "      <td>24389.0</td>\n",
       "      <td>0.285767</td>\n",
       "      <td>256279709970500</td>\n",
       "      <td>20577.535482</td>\n",
       "      <td>144911113000000</td>\n",
       "      <td>39.1</td>\n",
       "      <td>39.24</td>\n",
       "      <td>-0.008951</td>\n",
       "    </tr>\n",
       "  </tbody>\n",
       "</table>\n",
       "</div>"
      ],
      "text/plain": [
       "    Previous_GDP  Previous_EUR_Cash  Previous_THB_Cash  Previous_USD_Cash  \\\n",
       "28       1773652            27142.0              693.9            24389.0   \n",
       "\n",
       "    Tăng trưởng lợi nhuận (%)  Vốn hóa (Tỷ đồng)    BVPS (VND)  \\\n",
       "28                   0.285767    256279709970500  20577.535482   \n",
       "\n",
       "    VỐN CHỦ SỞ HỮU (đồng)  Close_lag1    MA5  Return_1day  \n",
       "28        144911113000000        39.1  39.24    -0.008951  "
      ]
     },
     "execution_count": 7,
     "metadata": {},
     "output_type": "execute_result"
    }
   ],
   "source": [
    "bid_future, _ = load_and_prepare_data(\".\\\\dataset\\\\official_dataset\\\\bid\\\\bid_future.csv\")\n",
    "bid_future = bid_future.iloc[-1:, :]\n",
    "bid_future"
   ]
  },
  {
   "cell_type": "code",
   "execution_count": 8,
   "id": "366e341c",
   "metadata": {},
   "outputs": [
    {
     "data": {
      "text/html": [
       "<div>\n",
       "<style scoped>\n",
       "    .dataframe tbody tr th:only-of-type {\n",
       "        vertical-align: middle;\n",
       "    }\n",
       "\n",
       "    .dataframe tbody tr th {\n",
       "        vertical-align: top;\n",
       "    }\n",
       "\n",
       "    .dataframe thead th {\n",
       "        text-align: right;\n",
       "    }\n",
       "</style>\n",
       "<table border=\"1\" class=\"dataframe\">\n",
       "  <thead>\n",
       "    <tr style=\"text-align: right;\">\n",
       "      <th></th>\n",
       "      <th>Previous_GDP</th>\n",
       "      <th>Previous_EUR_Cash</th>\n",
       "      <th>Previous_THB_Cash</th>\n",
       "      <th>Previous_USD_Cash</th>\n",
       "      <th>Tăng trưởng lợi nhuận (%)</th>\n",
       "      <th>Vốn hóa (Tỷ đồng)</th>\n",
       "      <th>BVPS (VND)</th>\n",
       "      <th>VỐN CHỦ SỞ HỮU (đồng)</th>\n",
       "      <th>Close_lag1</th>\n",
       "      <th>MA5</th>\n",
       "      <th>Return_1day</th>\n",
       "    </tr>\n",
       "  </thead>\n",
       "  <tbody>\n",
       "    <tr>\n",
       "      <th>23</th>\n",
       "      <td>1773652</td>\n",
       "      <td>26946.0</td>\n",
       "      <td>670.0</td>\n",
       "      <td>25354.0</td>\n",
       "      <td>-0.240565</td>\n",
       "      <td>183686145214000</td>\n",
       "      <td>20583.468751</td>\n",
       "      <td>147939621000000</td>\n",
       "      <td>27.75</td>\n",
       "      <td>27.71</td>\n",
       "      <td>-0.007207</td>\n",
       "    </tr>\n",
       "  </tbody>\n",
       "</table>\n",
       "</div>"
      ],
      "text/plain": [
       "    Previous_GDP  Previous_EUR_Cash  Previous_THB_Cash  Previous_USD_Cash  \\\n",
       "23       1773652            26946.0              670.0            25354.0   \n",
       "\n",
       "    Tăng trưởng lợi nhuận (%)  Vốn hóa (Tỷ đồng)    BVPS (VND)  \\\n",
       "23                  -0.240565    183686145214000  20583.468751   \n",
       "\n",
       "    VỐN CHỦ SỞ HỮU (đồng)  Close_lag1    MA5  Return_1day  \n",
       "23        147939621000000       27.75  27.71    -0.007207  "
      ]
     },
     "execution_count": 8,
     "metadata": {},
     "output_type": "execute_result"
    }
   ],
   "source": [
    "tcb_future, _ = load_and_prepare_data(\".\\\\dataset\\\\official_dataset\\\\tcb\\\\tcb_future.csv\")\n",
    "tcb_future = tcb_future.iloc[-1:, :]\n",
    "tcb_future"
   ]
  },
  {
   "cell_type": "markdown",
   "id": "72eb5551",
   "metadata": {},
   "source": [
    "# Process data"
   ]
  },
  {
   "cell_type": "code",
   "execution_count": 9,
   "id": "83498d31",
   "metadata": {},
   "outputs": [],
   "source": [
    "vcb_scaler = joblib.load(\".\\\\model_application\\\\experiment\\\\saved_checkpoint\\\\machine_learning\\\\scaler\\\\vcb_scaler\")\n",
    "bid_scaler = joblib.load(\".\\\\model_application\\\\experiment\\\\saved_checkpoint\\\\machine_learning\\\\scaler\\\\bid_scaler\")\n",
    "tcb_scaler = joblib.load(\".\\\\model_application\\\\experiment\\\\saved_checkpoint\\\\machine_learning\\\\scaler\\\\tcb_scaler\")"
   ]
  },
  {
   "cell_type": "code",
   "execution_count": 10,
   "id": "1635d11c",
   "metadata": {},
   "outputs": [
    {
     "data": {
      "text/plain": [
       "array([[ 3.04711868,  1.39098035,  1.97268647,  1.6129184 , -1.72810733,\n",
       "         0.67882026, -1.7346218 ,  1.61529956,  1.4051313 ,  1.47540619,\n",
       "        -0.9168136 ]])"
      ]
     },
     "execution_count": 10,
     "metadata": {},
     "output_type": "execute_result"
    }
   ],
   "source": [
    "vcb_future = vcb_scaler.transform(vcb_future)\n",
    "vcb_future"
   ]
  },
  {
   "cell_type": "code",
   "execution_count": 11,
   "id": "334c0ab3",
   "metadata": {},
   "outputs": [
    {
     "data": {
      "text/plain": [
       "array([[ 3.04834308,  1.42053372,  1.77710437,  0.9812941 , -0.21325098,\n",
       "         0.4578867 ,  0.43287036,  1.71169048,  0.89060737,  0.92180898,\n",
       "        -0.47295787]])"
      ]
     },
     "execution_count": 11,
     "metadata": {},
     "output_type": "execute_result"
    }
   ],
   "source": [
    "bid_future = bid_scaler.transform(bid_future)\n",
    "bid_future"
   ]
  },
  {
   "cell_type": "code",
   "execution_count": 12,
   "id": "dc112949",
   "metadata": {},
   "outputs": [
    {
     "data": {
      "text/plain": [
       "array([[ 3.04019975,  1.35905735,  2.00599617,  1.58527058, -1.67493609,\n",
       "         1.61926241, -1.17297221,  1.54283219,  2.0277835 ,  2.02809356,\n",
       "        -0.3486953 ]])"
      ]
     },
     "execution_count": 12,
     "metadata": {},
     "output_type": "execute_result"
    }
   ],
   "source": [
    "tcb_future = tcb_scaler.transform(tcb_future)\n",
    "tcb_future"
   ]
  },
  {
   "cell_type": "markdown",
   "id": "7f036f92",
   "metadata": {},
   "source": [
    "# Load model"
   ]
  },
  {
   "cell_type": "code",
   "execution_count": 14,
   "id": "eb5ee456",
   "metadata": {},
   "outputs": [],
   "source": [
    "vcb_svm = joblib.load(\".\\\\model_application\\\\experiment\\\\saved_checkpoint\\\\machine_learning\\\\one_step\\\\vcb\\\\svm.pkl\")\n",
    "bid_svm = joblib.load(\".\\\\model_application\\\\experiment\\\\saved_checkpoint\\\\machine_learning\\\\one_step\\\\bid\\\\svm.pkl\")\n",
    "tcb_svm = joblib.load(\".\\\\model_application\\\\experiment\\\\saved_checkpoint\\\\machine_learning\\\\one_step\\\\tcb\\\\svm.pkl\")"
   ]
  },
  {
   "cell_type": "code",
   "execution_count": 15,
   "id": "4fd55d82",
   "metadata": {},
   "outputs": [],
   "source": [
    "vcb_linear_regression = joblib.load(\".\\\\model_application\\\\experiment\\\\saved_checkpoint\\\\machine_learning\\\\one_step\\\\vcb\\\\linear_regression.pkl\")\n",
    "bid_linear_regression = joblib.load(\".\\\\model_application\\\\experiment\\\\saved_checkpoint\\\\machine_learning\\\\one_step\\\\bid\\\\linear_regression.pkl\")\n",
    "tcb_linear_regression = joblib.load(\".\\\\model_application\\\\experiment\\\\saved_checkpoint\\\\machine_learning\\\\one_step\\\\tcb\\\\linear_regression.pkl\")"
   ]
  },
  {
   "cell_type": "code",
   "execution_count": 16,
   "id": "bf08a2bb",
   "metadata": {},
   "outputs": [],
   "source": [
    "vcb_random_forest = joblib.load(\".\\\\model_application\\\\experiment\\\\saved_checkpoint\\\\machine_learning\\\\one_step\\\\vcb\\\\random_forest.pkl\")\n",
    "bid_random_forest = joblib.load(\".\\\\model_application\\\\experiment\\\\saved_checkpoint\\\\machine_learning\\\\one_step\\\\bid\\\\random_forest.pkl\")\n",
    "tcb_random_forest = joblib.load(\".\\\\model_application\\\\experiment\\\\saved_checkpoint\\\\machine_learning\\\\one_step\\\\tcb\\\\random_forest.pkl\")"
   ]
  },
  {
   "cell_type": "code",
   "execution_count": 17,
   "id": "1064acd5",
   "metadata": {},
   "outputs": [],
   "source": [
    "vcb_ridge = joblib.load(\".\\\\model_application\\\\experiment\\\\saved_checkpoint\\\\machine_learning\\\\one_step\\\\vcb\\\\ridge.pkl\")\n",
    "bid_ridge = joblib.load(\".\\\\model_application\\\\experiment\\\\saved_checkpoint\\\\machine_learning\\\\one_step\\\\bid\\\\ridge.pkl\")\n",
    "tcb_ridge = joblib.load(\".\\\\model_application\\\\experiment\\\\saved_checkpoint\\\\machine_learning\\\\one_step\\\\tcb\\\\ridge.pkl\")"
   ]
  },
  {
   "cell_type": "markdown",
   "id": "523684a1",
   "metadata": {},
   "source": [
    "# Predict"
   ]
  },
  {
   "cell_type": "markdown",
   "id": "a9eac7e9",
   "metadata": {},
   "source": [
    "## SVM"
   ]
  },
  {
   "cell_type": "code",
   "execution_count": 18,
   "id": "a7b529f8",
   "metadata": {},
   "outputs": [
    {
     "data": {
      "text/plain": [
       "array([64.17052324])"
      ]
     },
     "execution_count": 18,
     "metadata": {},
     "output_type": "execute_result"
    }
   ],
   "source": [
    "vcb_svm_prediction = vcb_svm.predict(vcb_future)\n",
    "vcb_svm_prediction"
   ]
  },
  {
   "cell_type": "code",
   "execution_count": 19,
   "id": "9d6b71dd",
   "metadata": {},
   "outputs": [
    {
     "data": {
      "text/plain": [
       "array([38.80212031])"
      ]
     },
     "execution_count": 19,
     "metadata": {},
     "output_type": "execute_result"
    }
   ],
   "source": [
    "bid_svm_prediction = bid_svm.predict(bid_future)\n",
    "bid_svm_prediction"
   ]
  },
  {
   "cell_type": "code",
   "execution_count": 20,
   "id": "b1f96269",
   "metadata": {},
   "outputs": [
    {
     "data": {
      "text/plain": [
       "array([27.60960004])"
      ]
     },
     "execution_count": 20,
     "metadata": {},
     "output_type": "execute_result"
    }
   ],
   "source": [
    "tcb_svm_prediction = tcb_svm.predict(tcb_future)\n",
    "tcb_svm_prediction"
   ]
  },
  {
   "cell_type": "markdown",
   "id": "586623c4",
   "metadata": {},
   "source": [
    "## Random Forest"
   ]
  },
  {
   "cell_type": "code",
   "execution_count": 21,
   "id": "0cfc6e4e",
   "metadata": {},
   "outputs": [
    {
     "data": {
      "text/plain": [
       "array([35.8213])"
      ]
     },
     "execution_count": 21,
     "metadata": {},
     "output_type": "execute_result"
    }
   ],
   "source": [
    "vcb_random_forest_prediction = vcb_random_forest.predict(vcb_future)\n",
    "vcb_random_forest_prediction"
   ]
  },
  {
   "cell_type": "code",
   "execution_count": 22,
   "id": "574247b5",
   "metadata": {},
   "outputs": [
    {
     "data": {
      "text/plain": [
       "array([21.4506])"
      ]
     },
     "execution_count": 22,
     "metadata": {},
     "output_type": "execute_result"
    }
   ],
   "source": [
    "bid_random_forest_prediction = bid_random_forest.predict(bid_future)\n",
    "bid_random_forest_prediction"
   ]
  },
  {
   "cell_type": "code",
   "execution_count": 23,
   "id": "2fb2bfdb",
   "metadata": {},
   "outputs": [
    {
     "data": {
      "text/plain": [
       "array([10.7274])"
      ]
     },
     "execution_count": 23,
     "metadata": {},
     "output_type": "execute_result"
    }
   ],
   "source": [
    "tcb_random_forest_prediction = tcb_random_forest.predict(tcb_future)\n",
    "tcb_random_forest_prediction"
   ]
  },
  {
   "cell_type": "markdown",
   "id": "8de60cb0",
   "metadata": {},
   "source": [
    "## Linear Regression"
   ]
  },
  {
   "cell_type": "code",
   "execution_count": 24,
   "id": "a7bfb91d",
   "metadata": {},
   "outputs": [
    {
     "data": {
      "text/plain": [
       "array([64.17052324])"
      ]
     },
     "execution_count": 24,
     "metadata": {},
     "output_type": "execute_result"
    }
   ],
   "source": [
    "vcb_linear_regression_prediction = vcb_linear_regression.predict(vcb_future)\n",
    "vcb_linear_regression_prediction"
   ]
  },
  {
   "cell_type": "code",
   "execution_count": 25,
   "id": "4c061f05",
   "metadata": {},
   "outputs": [
    {
     "data": {
      "text/plain": [
       "array([38.80212031])"
      ]
     },
     "execution_count": 25,
     "metadata": {},
     "output_type": "execute_result"
    }
   ],
   "source": [
    "bid_linear_regression_prediction = bid_linear_regression.predict(bid_future)\n",
    "bid_linear_regression_prediction"
   ]
  },
  {
   "cell_type": "code",
   "execution_count": 26,
   "id": "49241e71",
   "metadata": {},
   "outputs": [
    {
     "data": {
      "text/plain": [
       "array([27.60960004])"
      ]
     },
     "execution_count": 26,
     "metadata": {},
     "output_type": "execute_result"
    }
   ],
   "source": [
    "tcb_linear_regression_prediction = tcb_linear_regression.predict(tcb_future)\n",
    "tcb_linear_regression_prediction"
   ]
  },
  {
   "cell_type": "markdown",
   "id": "a716d9ed",
   "metadata": {},
   "source": [
    "## Ridge"
   ]
  },
  {
   "cell_type": "code",
   "execution_count": 27,
   "id": "3fe35018",
   "metadata": {},
   "outputs": [
    {
     "data": {
      "text/plain": [
       "array([64.22614382])"
      ]
     },
     "execution_count": 27,
     "metadata": {},
     "output_type": "execute_result"
    }
   ],
   "source": [
    "vcb_ridge_prediction = vcb_ridge.predict(vcb_future)\n",
    "vcb_ridge_prediction"
   ]
  },
  {
   "cell_type": "code",
   "execution_count": 28,
   "id": "267b1072",
   "metadata": {},
   "outputs": [
    {
     "data": {
      "text/plain": [
       "array([38.82878265])"
      ]
     },
     "execution_count": 28,
     "metadata": {},
     "output_type": "execute_result"
    }
   ],
   "source": [
    "bid_ridge_prediction = bid_ridge.predict(bid_future)\n",
    "bid_ridge_prediction"
   ]
  },
  {
   "cell_type": "code",
   "execution_count": 29,
   "id": "abeaff06",
   "metadata": {},
   "outputs": [
    {
     "data": {
      "text/plain": [
       "array([27.63536895])"
      ]
     },
     "execution_count": 29,
     "metadata": {},
     "output_type": "execute_result"
    }
   ],
   "source": [
    "tcb_ridge_prediction = tcb_ridge.predict(tcb_future)\n",
    "tcb_ridge_prediction"
   ]
  },
  {
   "cell_type": "code",
   "execution_count": null,
   "id": "5e88be37",
   "metadata": {},
   "outputs": [],
   "source": []
  }
 ],
 "metadata": {
  "kernelspec": {
   "display_name": ".venv",
   "language": "python",
   "name": "python3"
  },
  "language_info": {
   "codemirror_mode": {
    "name": "ipython",
    "version": 3
   },
   "file_extension": ".py",
   "mimetype": "text/x-python",
   "name": "python",
   "nbconvert_exporter": "python",
   "pygments_lexer": "ipython3",
   "version": "3.11.9"
  }
 },
 "nbformat": 4,
 "nbformat_minor": 5
}
